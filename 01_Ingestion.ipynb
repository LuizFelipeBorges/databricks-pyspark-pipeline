{
 "cells": [
  {
   "cell_type": "markdown",
   "metadata": {
    "application/vnd.databricks.v1+cell": {
     "cellMetadata": {
      "byteLimit": 2048000,
      "rowLimit": 10000
     },
     "inputWidgets": {},
     "nuid": "b13224c0-10b6-41dc-897e-9c1c7476ab66",
     "showTitle": false,
     "title": ""
    }
   },
   "source": [
    "## Portfolio Summary\n",
    "\n",
    "Using two notebooks (01_Ingestion and 02_Transformation), my goal is to simulate a development environment with a multi-hop/medallion architecture (see image below). To achieve this, I'm implementing Auto-loader and Structured Streaming.<br>\n",
    "<br>\n",
    ">*placeholder image, will be replaced ASAP*\n",
    "\n",
    "<img src ='/files/images/ADE_arch_bronze.png'>\n",
    "\n",
    "The data and base idea are derived from the Databricks Academy's Advanced Data Engineering with Databricks course.<br>\n",
    "The entire pipeline was developed using the community version of Databricks, so I primarily worked within a workspace with basic permissions.<br>"
   ]
  },
  {
   "cell_type": "markdown",
   "metadata": {
    "application/vnd.databricks.v1+cell": {
     "cellMetadata": {
      "byteLimit": 2048000,
      "rowLimit": 10000
     },
     "inputWidgets": {},
     "nuid": "962af013-e620-4af0-b941-2ef4f759031f",
     "showTitle": false,
     "title": ""
    }
   },
   "source": [
    "## 01_Ingestion\n",
    "\n",
    "The goal of this notebook is to ingest JSON files into a multiplex table, which will serve as our bronze table, containing the entire history of this incremental feed.<br>\n",
    "I will start by setting up the enviroment"
   ]
  },
  {
   "cell_type": "markdown",
   "metadata": {
    "application/vnd.databricks.v1+cell": {
     "cellMetadata": {
      "byteLimit": 2048000,
      "rowLimit": 10000
     },
     "inputWidgets": {},
     "nuid": "41c28bf6-1a4d-4545-a044-32cbdbcce1c4",
     "showTitle": false,
     "title": ""
    }
   },
   "source": [
    "## Environment Settings\n",
    "\n",
    "The goal here is to have a perfect blank canvas to work with in the end, just as the title suggests. To achieve this, I'll:<br>\n",
    "<br>\n",
    "- Create our three schemas\n",
    "- Set them up in a function with the code needed to restart the environment\n",
    "- Import libraries\n",
    "- Create base objects to use throughout the pipeline"
   ]
  },
  {
   "cell_type": "code",
   "execution_count": 0,
   "metadata": {
    "application/vnd.databricks.v1+cell": {
     "cellMetadata": {
      "byteLimit": 2048000,
      "implicitDf": true,
      "rowLimit": 10000
     },
     "inputWidgets": {},
     "nuid": "065b9300-1f9e-439b-9763-c2f0a0e1a566",
     "showTitle": true,
     "title": "Defining setup"
    }
   },
   "outputs": [],
   "source": [
    "# Import libraries\n",
    "import pyspark.sql.functions as f\n",
    "\n",
    "def env_setup():\n",
    "    # Creating Bronze schema\n",
    "    dbutils.fs.rm(\"dbfs:/user/hive/warehouse/bronze.db\", True) # Clearing previous data \n",
    "    spark.sql(\"DROP SCHEMA IF EXISTS bronze;\") # Dropping schema\n",
    "    spark.sql(\"CREATE SCHEMA bronze;\") # Creating schema\n",
    "    spark.catalog.setCurrentDatabase('bronze') # Setting the bronze schema as default for this notebook\n",
    "\n",
    "    # Creating Silver schema\n",
    "    dbutils.fs.rm(\"dbfs:/user/hive/warehouse/silver.db\", True)\n",
    "    spark.sql(\"DROP SCHEMA IF EXISTS silver;\")\n",
    "    spark.sql(\"CREATE SCHEMA silver;\")\n",
    "\n",
    "    # Creating Gold schema\n",
    "    dbutils.fs.rm(\"dbfs:/user/hive/warehouse/gold.db\", True)\n",
    "    spark.sql(\"DROP SCHEMA IF EXISTS gold;\")\n",
    "    spark.sql(\"CREATE SCHEMA gold;\")\n",
    "\n",
    "    # Cleaning any structured streaming or Auto Loader checkpoints\n",
    "    dbutils.fs.rm(\"dbfs:/mnt/borges_portifolio/_checkpoints\", True) # Clearing checkpoints\n",
    "\n",
    "#Setting path objects\n",
    "main_path = \"dbfs:/mnt/borges_portifolio\"\n",
    "files_path = f\"{main_path}/auto_loader_files/files\"\n",
    "new_batch = f\"{main_path}/auto_loader_files/second_wave/\""
   ]
  },
  {
   "cell_type": "markdown",
   "metadata": {
    "application/vnd.databricks.v1+cell": {
     "cellMetadata": {
      "byteLimit": 2048000,
      "rowLimit": 10000
     },
     "inputWidgets": {},
     "nuid": "ebe2bde3-ef4c-425e-91b4-bf82c9a0e13b",
     "showTitle": false,
     "title": ""
    }
   },
   "source": [
    "Removing the folder may seem unnecessary, especially when dropping the schema right after. However, it's needed because I'm always using a new cluster, so while the schema is dropped, the files persist. This way, I'm prepared for either case."
   ]
  },
  {
   "cell_type": "code",
   "execution_count": 0,
   "metadata": {
    "application/vnd.databricks.v1+cell": {
     "cellMetadata": {
      "byteLimit": 2048000,
      "rowLimit": 10000
     },
     "inputWidgets": {},
     "nuid": "cd64e2b7-de90-480f-a891-dccb5496bd67",
     "showTitle": true,
     "title": "Setting up"
    }
   },
   "outputs": [],
   "source": [
    "env_setup()"
   ]
  },
  {
   "cell_type": "markdown",
   "metadata": {
    "application/vnd.databricks.v1+cell": {
     "cellMetadata": {
      "byteLimit": 2048000,
      "rowLimit": 10000
     },
     "inputWidgets": {},
     "nuid": "c01489bc-c903-4dd8-b518-61a2b1eb66e1",
     "showTitle": false,
     "title": ""
    }
   },
   "source": [
    "## Exploring samples\n",
    "\n",
    "The main goal here is to gain a better understanding of the sample files I'll be working with."
   ]
  },
  {
   "cell_type": "code",
   "execution_count": 0,
   "metadata": {
    "application/vnd.databricks.v1+cell": {
     "cellMetadata": {
      "byteLimit": 2048000,
      "rowLimit": 10000
     },
     "inputWidgets": {},
     "nuid": "567bdffa-fca7-47dd-acd6-87bef254961f",
     "showTitle": true,
     "title": "Folder exploration"
    }
   },
   "outputs": [
    {
     "output_type": "display_data",
     "data": {
      "text/html": [
       "<style scoped>\n",
       "  .table-result-container {\n",
       "    max-height: 300px;\n",
       "    overflow: auto;\n",
       "  }\n",
       "  table, th, td {\n",
       "    border: 1px solid black;\n",
       "    border-collapse: collapse;\n",
       "  }\n",
       "  th, td {\n",
       "    padding: 5px;\n",
       "  }\n",
       "  th {\n",
       "    text-align: left;\n",
       "  }\n",
       "</style><div class='table-result-container'><table class='table-result'><thead style='background-color: white'><tr><th>path</th><th>name</th><th>size</th><th>modificationTime</th></tr></thead><tbody><tr><td>dbfs:/mnt/borges_portifolio/auto_loader_files/files/part-00000-tid-358676900307454419-9a6ae6ec-a431-4418-90b5-95bfbeed9fa7-376-1-c000.json</td><td>part-00000-tid-358676900307454419-9a6ae6ec-a431-4418-90b5-95bfbeed9fa7-376-1-c000.json</td><td>0</td><td>1708028988000</td></tr><tr><td>dbfs:/mnt/borges_portifolio/auto_loader_files/files/part-00003-tid-358676900307454419-9a6ae6ec-a431-4418-90b5-95bfbeed9fa7-379-1-c000.json</td><td>part-00003-tid-358676900307454419-9a6ae6ec-a431-4418-90b5-95bfbeed9fa7-379-1-c000.json</td><td>84059292</td><td>1708028994000</td></tr><tr><td>dbfs:/mnt/borges_portifolio/auto_loader_files/files/part-00004-tid-358676900307454419-9a6ae6ec-a431-4418-90b5-95bfbeed9fa7-380-1-c000.json</td><td>part-00004-tid-358676900307454419-9a6ae6ec-a431-4418-90b5-95bfbeed9fa7-380-1-c000.json</td><td>27495</td><td>1708028995000</td></tr><tr><td>dbfs:/mnt/borges_portifolio/auto_loader_files/files/part-00005-tid-358676900307454419-9a6ae6ec-a431-4418-90b5-95bfbeed9fa7-381-1-c000.json</td><td>part-00005-tid-358676900307454419-9a6ae6ec-a431-4418-90b5-95bfbeed9fa7-381-1-c000.json</td><td>8759</td><td>1708028996000</td></tr></tbody></table></div>"
      ]
     },
     "metadata": {
      "application/vnd.databricks.v1+output": {
       "addedWidgets": {},
       "aggData": [],
       "aggError": "",
       "aggOverflow": false,
       "aggSchema": [],
       "aggSeriesLimitReached": false,
       "aggType": "",
       "arguments": {},
       "columnCustomDisplayInfos": {},
       "data": [
        [
         "dbfs:/mnt/borges_portifolio/auto_loader_files/files/part-00000-tid-358676900307454419-9a6ae6ec-a431-4418-90b5-95bfbeed9fa7-376-1-c000.json",
         "part-00000-tid-358676900307454419-9a6ae6ec-a431-4418-90b5-95bfbeed9fa7-376-1-c000.json",
         0,
         1708028988000
        ],
        [
         "dbfs:/mnt/borges_portifolio/auto_loader_files/files/part-00003-tid-358676900307454419-9a6ae6ec-a431-4418-90b5-95bfbeed9fa7-379-1-c000.json",
         "part-00003-tid-358676900307454419-9a6ae6ec-a431-4418-90b5-95bfbeed9fa7-379-1-c000.json",
         84059292,
         1708028994000
        ],
        [
         "dbfs:/mnt/borges_portifolio/auto_loader_files/files/part-00004-tid-358676900307454419-9a6ae6ec-a431-4418-90b5-95bfbeed9fa7-380-1-c000.json",
         "part-00004-tid-358676900307454419-9a6ae6ec-a431-4418-90b5-95bfbeed9fa7-380-1-c000.json",
         27495,
         1708028995000
        ],
        [
         "dbfs:/mnt/borges_portifolio/auto_loader_files/files/part-00005-tid-358676900307454419-9a6ae6ec-a431-4418-90b5-95bfbeed9fa7-381-1-c000.json",
         "part-00005-tid-358676900307454419-9a6ae6ec-a431-4418-90b5-95bfbeed9fa7-381-1-c000.json",
         8759,
         1708028996000
        ]
       ],
       "datasetInfos": [],
       "dbfsResultPath": null,
       "isJsonSchema": true,
       "metadata": {},
       "overflow": false,
       "plotOptions": {
        "customPlotOptions": {},
        "displayType": "table",
        "pivotAggregation": null,
        "pivotColumns": null,
        "xColumns": null,
        "yColumns": null
       },
       "removedWidgets": [],
       "schema": [
        {
         "metadata": "{}",
         "name": "path",
         "type": "\"string\""
        },
        {
         "metadata": "{}",
         "name": "name",
         "type": "\"string\""
        },
        {
         "metadata": "{}",
         "name": "size",
         "type": "\"long\""
        },
        {
         "metadata": "{}",
         "name": "modificationTime",
         "type": "\"long\""
        }
       ],
       "type": "table"
      }
     },
     "output_type": "display_data"
    }
   ],
   "source": [
    "# Listing file's folders\n",
    "files = dbutils.fs.ls(files_path)\n",
    "\n",
    "# Displaying files\n",
    "display(files)"
   ]
  },
  {
   "cell_type": "code",
   "execution_count": 0,
   "metadata": {
    "application/vnd.databricks.v1+cell": {
     "cellMetadata": {
      "byteLimit": 2048000,
      "rowLimit": 10000
     },
     "inputWidgets": {},
     "nuid": "78b3e853-7e61-47d5-b505-e04bd663e45f",
     "showTitle": true,
     "title": "Exploring files"
    }
   },
   "outputs": [
    {
     "output_type": "stream",
     "name": "stdout",
     "output_type": "stream",
     "text": [
      "\n -> part-00000-tid-358676900307454419-9a6ae6ec-a431-4418-90b5-95bfbeed9fa7-376-1-c000.json\n\n"
     ]
    },
    {
     "output_type": "display_data",
     "data": {
      "text/html": [
       "<style scoped>\n",
       "  .table-result-container {\n",
       "    max-height: 300px;\n",
       "    overflow: auto;\n",
       "  }\n",
       "  table, th, td {\n",
       "    border: 1px solid black;\n",
       "    border-collapse: collapse;\n",
       "  }\n",
       "  th, td {\n",
       "    padding: 5px;\n",
       "  }\n",
       "  th {\n",
       "    text-align: left;\n",
       "  }\n",
       "</style><div class='table-result-container'><table class='table-result'><thead style='background-color: white'><tr></tr></thead><tbody></tbody></table></div>"
      ]
     },
     "metadata": {
      "application/vnd.databricks.v1+output": {
       "addedWidgets": {},
       "aggData": [],
       "aggError": "",
       "aggOverflow": false,
       "aggSchema": [],
       "aggSeriesLimitReached": false,
       "aggType": "",
       "arguments": {},
       "columnCustomDisplayInfos": {},
       "data": [],
       "datasetInfos": [],
       "dbfsResultPath": null,
       "isJsonSchema": true,
       "metadata": {},
       "overflow": false,
       "plotOptions": {
        "customPlotOptions": {},
        "displayType": "table",
        "pivotAggregation": null,
        "pivotColumns": null,
        "xColumns": null,
        "yColumns": null
       },
       "removedWidgets": [],
       "schema": [],
       "type": "table"
      }
     },
     "output_type": "display_data"
    },
    {
     "output_type": "stream",
     "name": "stdout",
     "output_type": "stream",
     "text": [
      "\nNumber of rows in this file 0\n\nroot\n\n\n -> part-00003-tid-358676900307454419-9a6ae6ec-a431-4418-90b5-95bfbeed9fa7-379-1-c000.json\n\n"
     ]
    },
    {
     "output_type": "display_data",
     "data": {
      "text/html": [
       "<style scoped>\n",
       "  .table-result-container {\n",
       "    max-height: 300px;\n",
       "    overflow: auto;\n",
       "  }\n",
       "  table, th, td {\n",
       "    border: 1px solid black;\n",
       "    border-collapse: collapse;\n",
       "  }\n",
       "  th, td {\n",
       "    padding: 5px;\n",
       "  }\n",
       "  th {\n",
       "    text-align: left;\n",
       "  }\n",
       "</style><div class='table-result-container'><table class='table-result'><thead style='background-color: white'><tr><th>key</th><th>offset</th><th>partition</th><th>timestamp</th><th>topic</th><th>value</th></tr></thead><tbody><tr><td>MTE5NzE1</td><td>65087128</td><td>0</td><td>1575158410818</td><td>bpm</td><td>eyJkZXZpY2VfaWQiOiAxMTk3MTUsICJ0aW1lIjogMTU3NTE1ODQwMCwgImhlYXJ0cmF0ZSI6IDY2LjYyMjQ0OTczMTU3OTc2fQ==</td></tr><tr><td>MTA3OTUy</td><td>65102257</td><td>2</td><td>1575158411394</td><td>bpm</td><td>eyJkZXZpY2VfaWQiOiAxMDc5NTIsICJ0aW1lIjogMTU3NTE1ODQwMSwgImhlYXJ0cmF0ZSI6IDExNi4wMzEyNTg5ODAxMjA4N30=</td></tr><tr><td>MTYxOTEw</td><td>65087131</td><td>0</td><td>1575158417678</td><td>bpm</td><td>eyJkZXZpY2VfaWQiOiAxNjE5MTAsICJ0aW1lIjogMTU3NTE1ODQwMywgImhlYXJ0cmF0ZSI6IDgyLjMzMzg1OTEyMDg3MzE3fQ==</td></tr><tr><td>MTE2NzA4</td><td>64899138</td><td>3</td><td>1575158421868</td><td>bpm</td><td>eyJkZXZpY2VfaWQiOiAxMTY3MDgsICJ0aW1lIjogMTU3NTE1ODQxMiwgImhlYXJ0cmF0ZSI6IDgzLjEzNDUyNzA2MDg3NzA5fQ==</td></tr><tr><td>MTYxMzQz</td><td>64899148</td><td>3</td><td>1575158430841</td><td>bpm</td><td>eyJkZXZpY2VfaWQiOiAxNjEzNDMsICJ0aW1lIjogMTU3NTE1ODQyMCwgImhlYXJ0cmF0ZSI6IDU5LjcxODMyNzY1MTYyODA0fQ==</td></tr><tr><td>MTEzMDI0</td><td>65002565</td><td>4</td><td>1575158432217</td><td>bpm</td><td>eyJkZXZpY2VfaWQiOiAxMTMwMjQsICJ0aW1lIjogMTU3NTE1ODQyMywgImhlYXJ0cmF0ZSI6IDk0LjcyNTkyNjkxMDg1MjAxfQ==</td></tr><tr><td>MTQxNjg3</td><td>65102289</td><td>2</td><td>1575158437927</td><td>bpm</td><td>eyJkZXZpY2VfaWQiOiAxNDE2ODcsICJ0aW1lIjogMTU3NTE1ODQzMCwgImhlYXJ0cmF0ZSI6IDg0LjM4NzM2MzY4NjEzMDU0fQ==</td></tr><tr><td>MTQyODM4</td><td>64899162</td><td>3</td><td>1575158445876</td><td>bpm</td><td>eyJkZXZpY2VfaWQiOiAxNDI4MzgsICJ0aW1lIjogMTU3NTE1ODQzNCwgImhlYXJ0cmF0ZSI6IDg1Ljc2MzkzNjgwMDQ1MTAzfQ==</td></tr><tr><td>MTk3OTMw</td><td>65087190</td><td>0</td><td>1575158460427</td><td>bpm</td><td>eyJkZXZpY2VfaWQiOiAxOTc5MzAsICJ0aW1lIjogMTU3NTE1ODQ1MCwgImhlYXJ0cmF0ZSI6IDg0LjYyMDk2MzIyMTczNTA3fQ==</td></tr><tr><td>MTEwMzY3</td><td>65102354</td><td>2</td><td>1575158482354</td><td>bpm</td><td>eyJkZXZpY2VfaWQiOiAxMTAzNjcsICJ0aW1lIjogMTU3NTE1ODQ3MSwgImhlYXJ0cmF0ZSI6IDc2LjUwOTk5NTg3NjA2Njc0fQ==</td></tr></tbody></table></div>"
      ]
     },
     "metadata": {
      "application/vnd.databricks.v1+output": {
       "addedWidgets": {},
       "aggData": [],
       "aggError": "",
       "aggOverflow": false,
       "aggSchema": [],
       "aggSeriesLimitReached": false,
       "aggType": "",
       "arguments": {},
       "columnCustomDisplayInfos": {},
       "data": [
        [
         "MTE5NzE1",
         65087128,
         0,
         1575158410818,
         "bpm",
         "eyJkZXZpY2VfaWQiOiAxMTk3MTUsICJ0aW1lIjogMTU3NTE1ODQwMCwgImhlYXJ0cmF0ZSI6IDY2LjYyMjQ0OTczMTU3OTc2fQ=="
        ],
        [
         "MTA3OTUy",
         65102257,
         2,
         1575158411394,
         "bpm",
         "eyJkZXZpY2VfaWQiOiAxMDc5NTIsICJ0aW1lIjogMTU3NTE1ODQwMSwgImhlYXJ0cmF0ZSI6IDExNi4wMzEyNTg5ODAxMjA4N30="
        ],
        [
         "MTYxOTEw",
         65087131,
         0,
         1575158417678,
         "bpm",
         "eyJkZXZpY2VfaWQiOiAxNjE5MTAsICJ0aW1lIjogMTU3NTE1ODQwMywgImhlYXJ0cmF0ZSI6IDgyLjMzMzg1OTEyMDg3MzE3fQ=="
        ],
        [
         "MTE2NzA4",
         64899138,
         3,
         1575158421868,
         "bpm",
         "eyJkZXZpY2VfaWQiOiAxMTY3MDgsICJ0aW1lIjogMTU3NTE1ODQxMiwgImhlYXJ0cmF0ZSI6IDgzLjEzNDUyNzA2MDg3NzA5fQ=="
        ],
        [
         "MTYxMzQz",
         64899148,
         3,
         1575158430841,
         "bpm",
         "eyJkZXZpY2VfaWQiOiAxNjEzNDMsICJ0aW1lIjogMTU3NTE1ODQyMCwgImhlYXJ0cmF0ZSI6IDU5LjcxODMyNzY1MTYyODA0fQ=="
        ],
        [
         "MTEzMDI0",
         65002565,
         4,
         1575158432217,
         "bpm",
         "eyJkZXZpY2VfaWQiOiAxMTMwMjQsICJ0aW1lIjogMTU3NTE1ODQyMywgImhlYXJ0cmF0ZSI6IDk0LjcyNTkyNjkxMDg1MjAxfQ=="
        ],
        [
         "MTQxNjg3",
         65102289,
         2,
         1575158437927,
         "bpm",
         "eyJkZXZpY2VfaWQiOiAxNDE2ODcsICJ0aW1lIjogMTU3NTE1ODQzMCwgImhlYXJ0cmF0ZSI6IDg0LjM4NzM2MzY4NjEzMDU0fQ=="
        ],
        [
         "MTQyODM4",
         64899162,
         3,
         1575158445876,
         "bpm",
         "eyJkZXZpY2VfaWQiOiAxNDI4MzgsICJ0aW1lIjogMTU3NTE1ODQzNCwgImhlYXJ0cmF0ZSI6IDg1Ljc2MzkzNjgwMDQ1MTAzfQ=="
        ],
        [
         "MTk3OTMw",
         65087190,
         0,
         1575158460427,
         "bpm",
         "eyJkZXZpY2VfaWQiOiAxOTc5MzAsICJ0aW1lIjogMTU3NTE1ODQ1MCwgImhlYXJ0cmF0ZSI6IDg0LjYyMDk2MzIyMTczNTA3fQ=="
        ],
        [
         "MTEwMzY3",
         65102354,
         2,
         1575158482354,
         "bpm",
         "eyJkZXZpY2VfaWQiOiAxMTAzNjcsICJ0aW1lIjogMTU3NTE1ODQ3MSwgImhlYXJ0cmF0ZSI6IDc2LjUwOTk5NTg3NjA2Njc0fQ=="
        ]
       ],
       "datasetInfos": [],
       "dbfsResultPath": null,
       "isJsonSchema": true,
       "metadata": {},
       "overflow": false,
       "plotOptions": {
        "customPlotOptions": {},
        "displayType": "table",
        "pivotAggregation": null,
        "pivotColumns": null,
        "xColumns": null,
        "yColumns": null
       },
       "removedWidgets": [],
       "schema": [
        {
         "metadata": "{}",
         "name": "key",
         "type": "\"string\""
        },
        {
         "metadata": "{}",
         "name": "offset",
         "type": "\"long\""
        },
        {
         "metadata": "{}",
         "name": "partition",
         "type": "\"long\""
        },
        {
         "metadata": "{}",
         "name": "timestamp",
         "type": "\"long\""
        },
        {
         "metadata": "{}",
         "name": "topic",
         "type": "\"string\""
        },
        {
         "metadata": "{}",
         "name": "value",
         "type": "\"string\""
        }
       ],
       "type": "table"
      }
     },
     "output_type": "display_data"
    },
    {
     "output_type": "stream",
     "name": "stdout",
     "output_type": "stream",
     "text": [
      "\nNumber of rows in this file 417164\n\nroot\n |-- key: string (nullable = true)\n |-- offset: long (nullable = true)\n |-- partition: long (nullable = true)\n |-- timestamp: long (nullable = true)\n |-- topic: string (nullable = true)\n |-- value: string (nullable = true)\n\n\n -> part-00004-tid-358676900307454419-9a6ae6ec-a431-4418-90b5-95bfbeed9fa7-380-1-c000.json\n\n"
     ]
    },
    {
     "output_type": "display_data",
     "data": {
      "text/html": [
       "<style scoped>\n",
       "  .table-result-container {\n",
       "    max-height: 300px;\n",
       "    overflow: auto;\n",
       "  }\n",
       "  table, th, td {\n",
       "    border: 1px solid black;\n",
       "    border-collapse: collapse;\n",
       "  }\n",
       "  th, td {\n",
       "    padding: 5px;\n",
       "  }\n",
       "  th {\n",
       "    text-align: left;\n",
       "  }\n",
       "</style><div class='table-result-container'><table class='table-result'><thead style='background-color: white'><tr><th>key</th><th>offset</th><th>partition</th><th>timestamp</th><th>topic</th><th>value</th></tr></thead><tbody><tr><td>NDA4NzI=</td><td>189240</td><td>0</td><td>1575229677709</td><td>workout</td><td>eyJ1c2VyX2lkIjogNDA4NzIsICJ3b3Jrb3V0X2lkIjogOCwgInRpbWVzdGFtcCI6IDE1NzUyMjk2NzUuMCwgImFjdGlvbiI6ICJzdGFydCIsICJzZXNzaW9uX2lkIjogNzZ9</td></tr><tr><td>MjkyMTM=</td><td>189198</td><td>0</td><td>1575196569155</td><td>workout</td><td>eyJ1c2VyX2lkIjogMjkyMTMsICJ3b3Jrb3V0X2lkIjogMTMsICJ0aW1lc3RhbXAiOiAxNTc1MTk2NTYyLjAsICJhY3Rpb24iOiAic3RhcnQiLCAic2Vzc2lvbl9pZCI6IDI5NX0=</td></tr><tr><td>MjkyMTM=</td><td>189199</td><td>0</td><td>1575200018703</td><td>workout</td><td>eyJ1c2VyX2lkIjogMjkyMTMsICJ3b3Jrb3V0X2lkIjogMTMsICJ0aW1lc3RhbXAiOiAxNTc1MjAwMDE2LjAsICJhY3Rpb24iOiAic3RvcCIsICJzZXNzaW9uX2lkIjogMjk1fQ==</td></tr><tr><td>Mjc3MDM=</td><td>189202</td><td>0</td><td>1575203437440</td><td>workout</td><td>eyJ1c2VyX2lkIjogMjc3MDMsICJ3b3Jrb3V0X2lkIjogNDcsICJ0aW1lc3RhbXAiOiAxNTc1MjAzNDMzLjAsICJhY3Rpb24iOiAic3RhcnQiLCAic2Vzc2lvbl9pZCI6IDQ1Nn0=</td></tr><tr><td>MTQ1MDg=</td><td>189227</td><td>0</td><td>1575224969124</td><td>workout</td><td>eyJ1c2VyX2lkIjogMTQ1MDgsICJ3b3Jrb3V0X2lkIjogMzEsICJ0aW1lc3RhbXAiOiAxNTc1MjI0OTY1LjAsICJhY3Rpb24iOiAic3RhcnQiLCAic2Vzc2lvbl9pZCI6IDM5Mn0=</td></tr><tr><td>MTI0NzQ=</td><td>189232</td><td>0</td><td>1575225843611</td><td>workout</td><td>eyJ1c2VyX2lkIjogMTI0NzQsICJ3b3Jrb3V0X2lkIjogMzUsICJ0aW1lc3RhbXAiOiAxNTc1MjI1ODQwLjAsICJhY3Rpb24iOiAic3RvcCIsICJzZXNzaW9uX2lkIjogMn0=</td></tr><tr><td>Mjg1MjE=</td><td>189234</td><td>0</td><td>1575227043638</td><td>workout</td><td>eyJ1c2VyX2lkIjogMjg1MjEsICJ3b3Jrb3V0X2lkIjogMjAsICJ0aW1lc3RhbXAiOiAxNTc1MjI3MDM3LjAsICJhY3Rpb24iOiAic3RhcnQiLCAic2Vzc2lvbl9pZCI6IDMyOH0=</td></tr><tr><td>MzUyMjY=</td><td>189192</td><td>0</td><td>1575193983608</td><td>workout</td><td>eyJ1c2VyX2lkIjogMzUyMjYsICJ3b3Jrb3V0X2lkIjogNDMsICJ0aW1lc3RhbXAiOiAxNTc1MTkzOTc5LjAsICJhY3Rpb24iOiAic3RhcnQiLCAic2Vzc2lvbl9pZCI6IDQwMn0=</td></tr><tr><td>MjY4NDc=</td><td>189207</td><td>0</td><td>1575205633152</td><td>workout</td><td>eyJ1c2VyX2lkIjogMjY4NDcsICJ3b3Jrb3V0X2lkIjogMTQsICJ0aW1lc3RhbXAiOiAxNTc1MjA1NjI5LjAsICJhY3Rpb24iOiAic3RhcnQiLCAic2Vzc2lvbl9pZCI6IDJ9</td></tr><tr><td>Mjg1ODg=</td><td>189209</td><td>0</td><td>1575207670803</td><td>workout</td><td>eyJ1c2VyX2lkIjogMjg1ODgsICJ3b3Jrb3V0X2lkIjogMzQsICJ0aW1lc3RhbXAiOiAxNTc1MjA3NjY2LjAsICJhY3Rpb24iOiAic3RhcnQiLCAic2Vzc2lvbl9pZCI6IDF9</td></tr></tbody></table></div>"
      ]
     },
     "metadata": {
      "application/vnd.databricks.v1+output": {
       "addedWidgets": {},
       "aggData": [],
       "aggError": "",
       "aggOverflow": false,
       "aggSchema": [],
       "aggSeriesLimitReached": false,
       "aggType": "",
       "arguments": {},
       "columnCustomDisplayInfos": {},
       "data": [
        [
         "NDA4NzI=",
         189240,
         0,
         1575229677709,
         "workout",
         "eyJ1c2VyX2lkIjogNDA4NzIsICJ3b3Jrb3V0X2lkIjogOCwgInRpbWVzdGFtcCI6IDE1NzUyMjk2NzUuMCwgImFjdGlvbiI6ICJzdGFydCIsICJzZXNzaW9uX2lkIjogNzZ9"
        ],
        [
         "MjkyMTM=",
         189198,
         0,
         1575196569155,
         "workout",
         "eyJ1c2VyX2lkIjogMjkyMTMsICJ3b3Jrb3V0X2lkIjogMTMsICJ0aW1lc3RhbXAiOiAxNTc1MTk2NTYyLjAsICJhY3Rpb24iOiAic3RhcnQiLCAic2Vzc2lvbl9pZCI6IDI5NX0="
        ],
        [
         "MjkyMTM=",
         189199,
         0,
         1575200018703,
         "workout",
         "eyJ1c2VyX2lkIjogMjkyMTMsICJ3b3Jrb3V0X2lkIjogMTMsICJ0aW1lc3RhbXAiOiAxNTc1MjAwMDE2LjAsICJhY3Rpb24iOiAic3RvcCIsICJzZXNzaW9uX2lkIjogMjk1fQ=="
        ],
        [
         "Mjc3MDM=",
         189202,
         0,
         1575203437440,
         "workout",
         "eyJ1c2VyX2lkIjogMjc3MDMsICJ3b3Jrb3V0X2lkIjogNDcsICJ0aW1lc3RhbXAiOiAxNTc1MjAzNDMzLjAsICJhY3Rpb24iOiAic3RhcnQiLCAic2Vzc2lvbl9pZCI6IDQ1Nn0="
        ],
        [
         "MTQ1MDg=",
         189227,
         0,
         1575224969124,
         "workout",
         "eyJ1c2VyX2lkIjogMTQ1MDgsICJ3b3Jrb3V0X2lkIjogMzEsICJ0aW1lc3RhbXAiOiAxNTc1MjI0OTY1LjAsICJhY3Rpb24iOiAic3RhcnQiLCAic2Vzc2lvbl9pZCI6IDM5Mn0="
        ],
        [
         "MTI0NzQ=",
         189232,
         0,
         1575225843611,
         "workout",
         "eyJ1c2VyX2lkIjogMTI0NzQsICJ3b3Jrb3V0X2lkIjogMzUsICJ0aW1lc3RhbXAiOiAxNTc1MjI1ODQwLjAsICJhY3Rpb24iOiAic3RvcCIsICJzZXNzaW9uX2lkIjogMn0="
        ],
        [
         "Mjg1MjE=",
         189234,
         0,
         1575227043638,
         "workout",
         "eyJ1c2VyX2lkIjogMjg1MjEsICJ3b3Jrb3V0X2lkIjogMjAsICJ0aW1lc3RhbXAiOiAxNTc1MjI3MDM3LjAsICJhY3Rpb24iOiAic3RhcnQiLCAic2Vzc2lvbl9pZCI6IDMyOH0="
        ],
        [
         "MzUyMjY=",
         189192,
         0,
         1575193983608,
         "workout",
         "eyJ1c2VyX2lkIjogMzUyMjYsICJ3b3Jrb3V0X2lkIjogNDMsICJ0aW1lc3RhbXAiOiAxNTc1MTkzOTc5LjAsICJhY3Rpb24iOiAic3RhcnQiLCAic2Vzc2lvbl9pZCI6IDQwMn0="
        ],
        [
         "MjY4NDc=",
         189207,
         0,
         1575205633152,
         "workout",
         "eyJ1c2VyX2lkIjogMjY4NDcsICJ3b3Jrb3V0X2lkIjogMTQsICJ0aW1lc3RhbXAiOiAxNTc1MjA1NjI5LjAsICJhY3Rpb24iOiAic3RhcnQiLCAic2Vzc2lvbl9pZCI6IDJ9"
        ],
        [
         "Mjg1ODg=",
         189209,
         0,
         1575207670803,
         "workout",
         "eyJ1c2VyX2lkIjogMjg1ODgsICJ3b3Jrb3V0X2lkIjogMzQsICJ0aW1lc3RhbXAiOiAxNTc1MjA3NjY2LjAsICJhY3Rpb24iOiAic3RhcnQiLCAic2Vzc2lvbl9pZCI6IDF9"
        ]
       ],
       "datasetInfos": [],
       "dbfsResultPath": null,
       "isJsonSchema": true,
       "metadata": {},
       "overflow": false,
       "plotOptions": {
        "customPlotOptions": {},
        "displayType": "table",
        "pivotAggregation": null,
        "pivotColumns": null,
        "xColumns": null,
        "yColumns": null
       },
       "removedWidgets": [],
       "schema": [
        {
         "metadata": "{}",
         "name": "key",
         "type": "\"string\""
        },
        {
         "metadata": "{}",
         "name": "offset",
         "type": "\"long\""
        },
        {
         "metadata": "{}",
         "name": "partition",
         "type": "\"long\""
        },
        {
         "metadata": "{}",
         "name": "timestamp",
         "type": "\"long\""
        },
        {
         "metadata": "{}",
         "name": "topic",
         "type": "\"string\""
        },
        {
         "metadata": "{}",
         "name": "value",
         "type": "\"string\""
        }
       ],
       "type": "table"
      }
     },
     "output_type": "display_data"
    },
    {
     "output_type": "stream",
     "name": "stdout",
     "output_type": "stream",
     "text": [
      "\nNumber of rows in this file 93\n\nroot\n |-- key: string (nullable = true)\n |-- offset: long (nullable = true)\n |-- partition: long (nullable = true)\n |-- timestamp: long (nullable = true)\n |-- topic: string (nullable = true)\n |-- value: string (nullable = true)\n\n\n -> part-00005-tid-358676900307454419-9a6ae6ec-a431-4418-90b5-95bfbeed9fa7-381-1-c000.json\n\n"
     ]
    },
    {
     "output_type": "display_data",
     "data": {
      "text/html": [
       "<style scoped>\n",
       "  .table-result-container {\n",
       "    max-height: 300px;\n",
       "    overflow: auto;\n",
       "  }\n",
       "  table, th, td {\n",
       "    border: 1px solid black;\n",
       "    border-collapse: collapse;\n",
       "  }\n",
       "  th, td {\n",
       "    padding: 5px;\n",
       "  }\n",
       "  th {\n",
       "    text-align: left;\n",
       "  }\n",
       "</style><div class='table-result-container'><table class='table-result'><thead style='background-color: white'><tr><th>key</th><th>offset</th><th>partition</th><th>timestamp</th><th>topic</th><th>value</th></tr></thead><tbody><tr><td>Mjg3NzY=</td><td>12778</td><td>0</td><td>1562995123117</td><td>user_info</td><td>eyJ1c2VyX2lkIjogMjg3NzYsICJ1cGRhdGVfdHlwZSI6ICJuZXciLCAidGltZXN0YW1wIjogMTU2Mjk5NTExNCwgImRvYiI6ICIwMS8yMS8xOTM4IiwgInNleCI6ICJGIiwgImdlbmRlciI6ICJPIiwgImZpcnN0X25hbWUiOiAiQnJpYW4iLCAibGFzdF9uYW1lIjogIkNhc3RpbGxvIiwgImFkZHJlc3MiOiB7InN0cmVldF9hZGRyZXNzIjogIjM0OTQxIERhdmlkIFR1cm5waWtlIiwgImNpdHkiOiAiVmFuIE51eXMiLCAic3RhdGUiOiAiQ0EiLCAiemlwIjogOTE0MDF9fQ==</td></tr><tr><td>NDEzNjc=</td><td>12774</td><td>0</td><td>1562691359088</td><td>user_info</td><td>eyJ1c2VyX2lkIjogNDEzNjcsICJ1cGRhdGVfdHlwZSI6ICJuZXciLCAidGltZXN0YW1wIjogMTU2MjY5MTM1NCwgImRvYiI6ICIwMS8yNS8xOTMwIiwgInNleCI6ICJNIiwgImdlbmRlciI6ICJNIiwgImZpcnN0X25hbWUiOiAiQ2hyaXN0b3BoZXIiLCAibGFzdF9uYW1lIjogIktlbGx5IiwgImFkZHJlc3MiOiB7InN0cmVldF9hZGRyZXNzIjogIjA5MSBFcmljIEN1cnZlIiwgImNpdHkiOiAiUGFjb2ltYSIsICJzdGF0ZSI6ICJDQSIsICJ6aXAiOiA5MTMzNH19</td></tr><tr><td>MjQwMTg=</td><td>12776</td><td>0</td><td>1562889518343</td><td>user_info</td><td>eyJ1c2VyX2lkIjogMjQwMTgsICJ1cGRhdGVfdHlwZSI6ICJuZXciLCAidGltZXN0YW1wIjogMTU2Mjg4OTUwOSwgImRvYiI6ICIwOC8yMy8xOTQ0IiwgInNleCI6ICJGIiwgImdlbmRlciI6ICJGIiwgImZpcnN0X25hbWUiOiAiUGFtZWxhIiwgImxhc3RfbmFtZSI6ICJKb2huc3RvbiIsICJhZGRyZXNzIjogeyJzdHJlZXRfYWRkcmVzcyI6ICIwMDkgV2lsbGlhbSBUcmFjZSIsICJjaXR5IjogIkJldmVybHkgSGlsbHMiLCAic3RhdGUiOiAiQ0EiLCAiemlwIjogOTAyMTB9fQ==</td></tr><tr><td>MTk4NTk=</td><td>12777</td><td>0</td><td>1562912816709</td><td>user_info</td><td>eyJ1c2VyX2lkIjogMTk4NTksICJ1cGRhdGVfdHlwZSI6ICJuZXciLCAidGltZXN0YW1wIjogMTU2MjkxMjgxNCwgImRvYiI6ICIxMS8wNy8xOTkxIiwgInNleCI6ICJGIiwgImdlbmRlciI6ICJGIiwgImZpcnN0X25hbWUiOiAiVGFtbXkiLCAibGFzdF9uYW1lIjogIkJhcnJ5IiwgImFkZHJlc3MiOiB7InN0cmVldF9hZGRyZXNzIjogIjcwNjc4IE9saXZlciBXYXlzIiwgImNpdHkiOiAiU2FudGEgQ2xhcml0YSIsICJzdGF0ZSI6ICJDQSIsICJ6aXAiOiA5MTM1MH19</td></tr><tr><td>MjMyNTA=</td><td>12775</td><td>0</td><td>1562844689376</td><td>user_info</td><td>eyJ1c2VyX2lkIjogMjMyNTAsICJ1cGRhdGVfdHlwZSI6ICJuZXciLCAidGltZXN0YW1wIjogMTU2Mjg0NDY4NCwgImRvYiI6ICIxMS8xMi8xOTUxIiwgInNleCI6ICJNIiwgImdlbmRlciI6ICJNIiwgImZpcnN0X25hbWUiOiAiUGF1bCIsICJsYXN0X25hbWUiOiAiSGludG9uIiwgImFkZHJlc3MiOiB7InN0cmVldF9hZGRyZXNzIjogIjMwODAgQmVjayBCcmFuY2giLCAiY2l0eSI6ICJWYW4gTnV5cyIsICJzdGF0ZSI6ICJDQSIsICJ6aXAiOiA5MTQwNn19</td></tr><tr><td>MzU3Mjg=</td><td>12772</td><td>0</td><td>1562155015640</td><td>user_info</td><td>eyJ1c2VyX2lkIjogMzU3MjgsICJ1cGRhdGVfdHlwZSI6ICJuZXciLCAidGltZXN0YW1wIjogMTU2MjE1NTAxMiwgImRvYiI6ICIwNi8yOC8xOTY0IiwgInNleCI6ICJGIiwgImdlbmRlciI6ICJGIiwgImZpcnN0X25hbWUiOiAiQW5nZWxhIiwgImxhc3RfbmFtZSI6ICJLZXkiLCAiYWRkcmVzcyI6IHsic3RyZWV0X2FkZHJlc3MiOiAiOTMxIEppbGwgVGVycmFjZSBTdWl0ZSA0MDQiLCAiY2l0eSI6ICJNb250ZWJlbGxvIiwgInN0YXRlIjogIkNBIiwgInppcCI6IDkwNjQwfX0=</td></tr><tr><td>MTUxNDk=</td><td>12773</td><td>0</td><td>1562201886676</td><td>user_info</td><td>eyJ1c2VyX2lkIjogMTUxNDksICJ1cGRhdGVfdHlwZSI6ICJuZXciLCAidGltZXN0YW1wIjogMTU2MjIwMTg4MiwgImRvYiI6ICIwMy8zMC8xOTcyIiwgInNleCI6ICJNIiwgImdlbmRlciI6ICJNIiwgImZpcnN0X25hbWUiOiAiQ2FtZXJvbiIsICJsYXN0X25hbWUiOiAiVmFzcXVleiIsICJhZGRyZXNzIjogeyJzdHJlZXRfYWRkcmVzcyI6ICI5NTkzMiBHYXJ5IFJpZGdlcyIsICJjaXR5IjogIkxvcyBBbmdlbGVzIiwgInN0YXRlIjogIkNBIiwgInppcCI6IDkwMDE4fX0=</td></tr><tr><td>MjkyMTM=</td><td>12770</td><td>0</td><td>1562010799911</td><td>user_info</td><td>eyJ1c2VyX2lkIjogMjkyMTMsICJ1cGRhdGVfdHlwZSI6ICJuZXciLCAidGltZXN0YW1wIjogMTU2MjAxMDc5OSwgImRvYiI6ICIwMy8xMC8xOTI3IiwgInNleCI6ICJGIiwgImdlbmRlciI6ICJGIiwgImZpcnN0X25hbWUiOiAiQXVkcmV5IiwgImxhc3RfbmFtZSI6ICJIYWxsIiwgImFkZHJlc3MiOiB7InN0cmVldF9hZGRyZXNzIjogIjgxNzAgTWFyY3VzIENvdXJzZSBTdWl0ZSA3NjYiLCAiY2l0eSI6ICJOb3J0aCBIb2xseXdvb2QiLCAic3RhdGUiOiAiQ0EiLCAiemlwIjogOTE2MTh9fQ==</td></tr><tr><td>MTQyMzI=</td><td>12771</td><td>0</td><td>1562113873633</td><td>user_info</td><td>eyJ1c2VyX2lkIjogMTQyMzIsICJ1cGRhdGVfdHlwZSI6ICJuZXciLCAidGltZXN0YW1wIjogMTU2MjExMzg2NywgImRvYiI6ICIwMS8wNC8xOTc5IiwgInNleCI6ICJNIiwgImdlbmRlciI6ICJNIiwgImZpcnN0X25hbWUiOiAiRWR3YXJkIiwgImxhc3RfbmFtZSI6ICJTaW1wc29uIiwgImFkZHJlc3MiOiB7InN0cmVldF9hZGRyZXNzIjogIjkyMDEyIEJyYWRsZXkgU2hvYWxzIiwgImNpdHkiOiAiTG9uZyBCZWFjaCIsICJzdGF0ZSI6ICJDQSIsICJ6aXAiOiA5MDgxNX19</td></tr><tr><td>MTQ1MDg=</td><td>12782</td><td>0</td><td>1564262812062</td><td>user_info</td><td>eyJ1c2VyX2lkIjogMTQ1MDgsICJ1cGRhdGVfdHlwZSI6ICJuZXciLCAidGltZXN0YW1wIjogMTU2NDI2MjgwNSwgImRvYiI6ICIwMS8yOC8xOTM2IiwgInNleCI6ICJNIiwgImdlbmRlciI6ICJNIiwgImZpcnN0X25hbWUiOiAiSnVzdGluIiwgImxhc3RfbmFtZSI6ICJFYXRvbiIsICJhZGRyZXNzIjogeyJzdHJlZXRfYWRkcmVzcyI6ICIwNDk1MiBMb3JpIFBsYWluIiwgImNpdHkiOiAiU2llcnJhIE1hZHJlIiwgInN0YXRlIjogIkNBIiwgInppcCI6IDkxMDI0fX0=</td></tr></tbody></table></div>"
      ]
     },
     "metadata": {
      "application/vnd.databricks.v1+output": {
       "addedWidgets": {},
       "aggData": [],
       "aggError": "",
       "aggOverflow": false,
       "aggSchema": [],
       "aggSeriesLimitReached": false,
       "aggType": "",
       "arguments": {},
       "columnCustomDisplayInfos": {},
       "data": [
        [
         "Mjg3NzY=",
         12778,
         0,
         1562995123117,
         "user_info",
         "eyJ1c2VyX2lkIjogMjg3NzYsICJ1cGRhdGVfdHlwZSI6ICJuZXciLCAidGltZXN0YW1wIjogMTU2Mjk5NTExNCwgImRvYiI6ICIwMS8yMS8xOTM4IiwgInNleCI6ICJGIiwgImdlbmRlciI6ICJPIiwgImZpcnN0X25hbWUiOiAiQnJpYW4iLCAibGFzdF9uYW1lIjogIkNhc3RpbGxvIiwgImFkZHJlc3MiOiB7InN0cmVldF9hZGRyZXNzIjogIjM0OTQxIERhdmlkIFR1cm5waWtlIiwgImNpdHkiOiAiVmFuIE51eXMiLCAic3RhdGUiOiAiQ0EiLCAiemlwIjogOTE0MDF9fQ=="
        ],
        [
         "NDEzNjc=",
         12774,
         0,
         1562691359088,
         "user_info",
         "eyJ1c2VyX2lkIjogNDEzNjcsICJ1cGRhdGVfdHlwZSI6ICJuZXciLCAidGltZXN0YW1wIjogMTU2MjY5MTM1NCwgImRvYiI6ICIwMS8yNS8xOTMwIiwgInNleCI6ICJNIiwgImdlbmRlciI6ICJNIiwgImZpcnN0X25hbWUiOiAiQ2hyaXN0b3BoZXIiLCAibGFzdF9uYW1lIjogIktlbGx5IiwgImFkZHJlc3MiOiB7InN0cmVldF9hZGRyZXNzIjogIjA5MSBFcmljIEN1cnZlIiwgImNpdHkiOiAiUGFjb2ltYSIsICJzdGF0ZSI6ICJDQSIsICJ6aXAiOiA5MTMzNH19"
        ],
        [
         "MjQwMTg=",
         12776,
         0,
         1562889518343,
         "user_info",
         "eyJ1c2VyX2lkIjogMjQwMTgsICJ1cGRhdGVfdHlwZSI6ICJuZXciLCAidGltZXN0YW1wIjogMTU2Mjg4OTUwOSwgImRvYiI6ICIwOC8yMy8xOTQ0IiwgInNleCI6ICJGIiwgImdlbmRlciI6ICJGIiwgImZpcnN0X25hbWUiOiAiUGFtZWxhIiwgImxhc3RfbmFtZSI6ICJKb2huc3RvbiIsICJhZGRyZXNzIjogeyJzdHJlZXRfYWRkcmVzcyI6ICIwMDkgV2lsbGlhbSBUcmFjZSIsICJjaXR5IjogIkJldmVybHkgSGlsbHMiLCAic3RhdGUiOiAiQ0EiLCAiemlwIjogOTAyMTB9fQ=="
        ],
        [
         "MTk4NTk=",
         12777,
         0,
         1562912816709,
         "user_info",
         "eyJ1c2VyX2lkIjogMTk4NTksICJ1cGRhdGVfdHlwZSI6ICJuZXciLCAidGltZXN0YW1wIjogMTU2MjkxMjgxNCwgImRvYiI6ICIxMS8wNy8xOTkxIiwgInNleCI6ICJGIiwgImdlbmRlciI6ICJGIiwgImZpcnN0X25hbWUiOiAiVGFtbXkiLCAibGFzdF9uYW1lIjogIkJhcnJ5IiwgImFkZHJlc3MiOiB7InN0cmVldF9hZGRyZXNzIjogIjcwNjc4IE9saXZlciBXYXlzIiwgImNpdHkiOiAiU2FudGEgQ2xhcml0YSIsICJzdGF0ZSI6ICJDQSIsICJ6aXAiOiA5MTM1MH19"
        ],
        [
         "MjMyNTA=",
         12775,
         0,
         1562844689376,
         "user_info",
         "eyJ1c2VyX2lkIjogMjMyNTAsICJ1cGRhdGVfdHlwZSI6ICJuZXciLCAidGltZXN0YW1wIjogMTU2Mjg0NDY4NCwgImRvYiI6ICIxMS8xMi8xOTUxIiwgInNleCI6ICJNIiwgImdlbmRlciI6ICJNIiwgImZpcnN0X25hbWUiOiAiUGF1bCIsICJsYXN0X25hbWUiOiAiSGludG9uIiwgImFkZHJlc3MiOiB7InN0cmVldF9hZGRyZXNzIjogIjMwODAgQmVjayBCcmFuY2giLCAiY2l0eSI6ICJWYW4gTnV5cyIsICJzdGF0ZSI6ICJDQSIsICJ6aXAiOiA5MTQwNn19"
        ],
        [
         "MzU3Mjg=",
         12772,
         0,
         1562155015640,
         "user_info",
         "eyJ1c2VyX2lkIjogMzU3MjgsICJ1cGRhdGVfdHlwZSI6ICJuZXciLCAidGltZXN0YW1wIjogMTU2MjE1NTAxMiwgImRvYiI6ICIwNi8yOC8xOTY0IiwgInNleCI6ICJGIiwgImdlbmRlciI6ICJGIiwgImZpcnN0X25hbWUiOiAiQW5nZWxhIiwgImxhc3RfbmFtZSI6ICJLZXkiLCAiYWRkcmVzcyI6IHsic3RyZWV0X2FkZHJlc3MiOiAiOTMxIEppbGwgVGVycmFjZSBTdWl0ZSA0MDQiLCAiY2l0eSI6ICJNb250ZWJlbGxvIiwgInN0YXRlIjogIkNBIiwgInppcCI6IDkwNjQwfX0="
        ],
        [
         "MTUxNDk=",
         12773,
         0,
         1562201886676,
         "user_info",
         "eyJ1c2VyX2lkIjogMTUxNDksICJ1cGRhdGVfdHlwZSI6ICJuZXciLCAidGltZXN0YW1wIjogMTU2MjIwMTg4MiwgImRvYiI6ICIwMy8zMC8xOTcyIiwgInNleCI6ICJNIiwgImdlbmRlciI6ICJNIiwgImZpcnN0X25hbWUiOiAiQ2FtZXJvbiIsICJsYXN0X25hbWUiOiAiVmFzcXVleiIsICJhZGRyZXNzIjogeyJzdHJlZXRfYWRkcmVzcyI6ICI5NTkzMiBHYXJ5IFJpZGdlcyIsICJjaXR5IjogIkxvcyBBbmdlbGVzIiwgInN0YXRlIjogIkNBIiwgInppcCI6IDkwMDE4fX0="
        ],
        [
         "MjkyMTM=",
         12770,
         0,
         1562010799911,
         "user_info",
         "eyJ1c2VyX2lkIjogMjkyMTMsICJ1cGRhdGVfdHlwZSI6ICJuZXciLCAidGltZXN0YW1wIjogMTU2MjAxMDc5OSwgImRvYiI6ICIwMy8xMC8xOTI3IiwgInNleCI6ICJGIiwgImdlbmRlciI6ICJGIiwgImZpcnN0X25hbWUiOiAiQXVkcmV5IiwgImxhc3RfbmFtZSI6ICJIYWxsIiwgImFkZHJlc3MiOiB7InN0cmVldF9hZGRyZXNzIjogIjgxNzAgTWFyY3VzIENvdXJzZSBTdWl0ZSA3NjYiLCAiY2l0eSI6ICJOb3J0aCBIb2xseXdvb2QiLCAic3RhdGUiOiAiQ0EiLCAiemlwIjogOTE2MTh9fQ=="
        ],
        [
         "MTQyMzI=",
         12771,
         0,
         1562113873633,
         "user_info",
         "eyJ1c2VyX2lkIjogMTQyMzIsICJ1cGRhdGVfdHlwZSI6ICJuZXciLCAidGltZXN0YW1wIjogMTU2MjExMzg2NywgImRvYiI6ICIwMS8wNC8xOTc5IiwgInNleCI6ICJNIiwgImdlbmRlciI6ICJNIiwgImZpcnN0X25hbWUiOiAiRWR3YXJkIiwgImxhc3RfbmFtZSI6ICJTaW1wc29uIiwgImFkZHJlc3MiOiB7InN0cmVldF9hZGRyZXNzIjogIjkyMDEyIEJyYWRsZXkgU2hvYWxzIiwgImNpdHkiOiAiTG9uZyBCZWFjaCIsICJzdGF0ZSI6ICJDQSIsICJ6aXAiOiA5MDgxNX19"
        ],
        [
         "MTQ1MDg=",
         12782,
         0,
         1564262812062,
         "user_info",
         "eyJ1c2VyX2lkIjogMTQ1MDgsICJ1cGRhdGVfdHlwZSI6ICJuZXciLCAidGltZXN0YW1wIjogMTU2NDI2MjgwNSwgImRvYiI6ICIwMS8yOC8xOTM2IiwgInNleCI6ICJNIiwgImdlbmRlciI6ICJNIiwgImZpcnN0X25hbWUiOiAiSnVzdGluIiwgImxhc3RfbmFtZSI6ICJFYXRvbiIsICJhZGRyZXNzIjogeyJzdHJlZXRfYWRkcmVzcyI6ICIwNDk1MiBMb3JpIFBsYWluIiwgImNpdHkiOiAiU2llcnJhIE1hZHJlIiwgInN0YXRlIjogIkNBIiwgInppcCI6IDkxMDI0fX0="
        ]
       ],
       "datasetInfos": [],
       "dbfsResultPath": null,
       "isJsonSchema": true,
       "metadata": {},
       "overflow": false,
       "plotOptions": {
        "customPlotOptions": {},
        "displayType": "table",
        "pivotAggregation": null,
        "pivotColumns": null,
        "xColumns": null,
        "yColumns": null
       },
       "removedWidgets": [],
       "schema": [
        {
         "metadata": "{}",
         "name": "key",
         "type": "\"string\""
        },
        {
         "metadata": "{}",
         "name": "offset",
         "type": "\"long\""
        },
        {
         "metadata": "{}",
         "name": "partition",
         "type": "\"long\""
        },
        {
         "metadata": "{}",
         "name": "timestamp",
         "type": "\"long\""
        },
        {
         "metadata": "{}",
         "name": "topic",
         "type": "\"string\""
        },
        {
         "metadata": "{}",
         "name": "value",
         "type": "\"string\""
        }
       ],
       "type": "table"
      }
     },
     "output_type": "display_data"
    },
    {
     "output_type": "stream",
     "name": "stdout",
     "output_type": "stream",
     "text": [
      "\nNumber of rows in this file 19\n\nroot\n |-- key: string (nullable = true)\n |-- offset: long (nullable = true)\n |-- partition: long (nullable = true)\n |-- timestamp: long (nullable = true)\n |-- topic: string (nullable = true)\n |-- value: string (nullable = true)\n\n"
     ]
    }
   ],
   "source": [
    "# List with file names\n",
    "file_name = (\n",
    "  \"part-00000-tid-358676900307454419-9a6ae6ec-a431-4418-90b5-95bfbeed9fa7-376-1-c000.json\",\"part-00003-tid-358676900307454419-9a6ae6ec-a431-4418-90b5-95bfbeed9fa7-379-1-c000.json\",\"part-00004-tid-358676900307454419-9a6ae6ec-a431-4418-90b5-95bfbeed9fa7-380-1-c000.json\",\"part-00005-tid-358676900307454419-9a6ae6ec-a431-4418-90b5-95bfbeed9fa7-381-1-c000.json\"\n",
    "  )\n",
    "\n",
    "# Loop through each file\n",
    "for file in file_name:\n",
    "    # Display file name\n",
    "    print(\"\")\n",
    "    print(f\" -> {file}\")\n",
    "    print(\"\")\n",
    "\n",
    "    # Display first 10 rows of the file\n",
    "    display(spark.read.json(f\"{files_path}/{file}\").limit(10))\n",
    "    \n",
    "    # Display the size of this file\n",
    "    print(\"\")\n",
    "    print(\"Number of rows in this file\", spark.read.json(f\"{files_path}/{file}\").count())\n",
    "    print(\"\")\n",
    "    \n",
    "    # Display the schema of this file\n",
    "    spark.read.json(f\"{files_path}/{file}\").printSchema()"
   ]
  },
  {
   "cell_type": "markdown",
   "metadata": {
    "application/vnd.databricks.v1+cell": {
     "cellMetadata": {
      "byteLimit": 2048000,
      "rowLimit": 10000
     },
     "inputWidgets": {},
     "nuid": "ecef358b-aa27-42c8-87e3-34d97ffd72d8",
     "showTitle": false,
     "title": ""
    }
   },
   "source": [
    "> In development, this stage would be used to verify if the information the client provided checks out with the files received. Unless directly requested or in dire need, guessing column types needs a deep understanding of the system and is a big responsibility to take lightly."
   ]
  },
  {
   "cell_type": "markdown",
   "metadata": {
    "application/vnd.databricks.v1+cell": {
     "cellMetadata": {
      "byteLimit": 2048000,
      "rowLimit": 10000
     },
     "inputWidgets": {},
     "nuid": "25eb747a-5c61-4d30-b114-2094a7ccc610",
     "showTitle": false,
     "title": ""
    }
   },
   "source": [
    "## Date_lookup\n",
    "\n",
    "To partition the Bronze table, I'll use a pre-made table (*would be in production*).<br> \n",
    "To have access to it here I have two choices `clone` it to my dev schema or get the last version of it with `time travel`. <br>\n",
    "Since I'll use this table only once, `time travel` it is!"
   ]
  },
  {
   "cell_type": "code",
   "execution_count": 0,
   "metadata": {
    "application/vnd.databricks.v1+cell": {
     "cellMetadata": {
      "byteLimit": 2048000,
      "rowLimit": 10000
     },
     "inputWidgets": {},
     "nuid": "0bce2597-bb06-470c-9213-b6886bda5c8b",
     "showTitle": true,
     "title": "Date_lookup_df"
    }
   },
   "outputs": [
    {
     "output_type": "display_data",
     "data": {
      "text/html": [
       "<style scoped>\n",
       "  .table-result-container {\n",
       "    max-height: 300px;\n",
       "    overflow: auto;\n",
       "  }\n",
       "  table, th, td {\n",
       "    border: 1px solid black;\n",
       "    border-collapse: collapse;\n",
       "  }\n",
       "  th, td {\n",
       "    padding: 5px;\n",
       "  }\n",
       "  th {\n",
       "    text-align: left;\n",
       "  }\n",
       "</style><div class='table-result-container'><table class='table-result'><thead style='background-color: white'><tr><th>date</th><th>week</th><th>year</th><th>month</th><th>dayofweek</th><th>dayofmonth</th><th>dayofyear</th><th>week_part</th></tr></thead><tbody><tr><td>2019-01-01</td><td>1</td><td>2019</td><td>1</td><td>3</td><td>1</td><td>1</td><td>2019-1</td></tr><tr><td>2019-01-02</td><td>1</td><td>2019</td><td>1</td><td>4</td><td>2</td><td>2</td><td>2019-1</td></tr><tr><td>2019-01-03</td><td>1</td><td>2019</td><td>1</td><td>5</td><td>3</td><td>3</td><td>2019-1</td></tr><tr><td>2019-01-04</td><td>1</td><td>2019</td><td>1</td><td>6</td><td>4</td><td>4</td><td>2019-1</td></tr><tr><td>2019-01-05</td><td>1</td><td>2019</td><td>1</td><td>7</td><td>5</td><td>5</td><td>2019-1</td></tr><tr><td>2019-01-06</td><td>1</td><td>2019</td><td>1</td><td>1</td><td>6</td><td>6</td><td>2019-1</td></tr><tr><td>2019-01-07</td><td>2</td><td>2019</td><td>1</td><td>2</td><td>7</td><td>7</td><td>2019-2</td></tr><tr><td>2019-01-08</td><td>2</td><td>2019</td><td>1</td><td>3</td><td>8</td><td>8</td><td>2019-2</td></tr><tr><td>2019-01-09</td><td>2</td><td>2019</td><td>1</td><td>4</td><td>9</td><td>9</td><td>2019-2</td></tr><tr><td>2019-01-10</td><td>2</td><td>2019</td><td>1</td><td>5</td><td>10</td><td>10</td><td>2019-2</td></tr></tbody></table></div>"
      ]
     },
     "metadata": {
      "application/vnd.databricks.v1+output": {
       "addedWidgets": {},
       "aggData": [],
       "aggError": "",
       "aggOverflow": false,
       "aggSchema": [],
       "aggSeriesLimitReached": false,
       "aggType": "",
       "arguments": {},
       "columnCustomDisplayInfos": {},
       "data": [
        [
         "2019-01-01",
         1,
         2019,
         1,
         3,
         1,
         1,
         "2019-1"
        ],
        [
         "2019-01-02",
         1,
         2019,
         1,
         4,
         2,
         2,
         "2019-1"
        ],
        [
         "2019-01-03",
         1,
         2019,
         1,
         5,
         3,
         3,
         "2019-1"
        ],
        [
         "2019-01-04",
         1,
         2019,
         1,
         6,
         4,
         4,
         "2019-1"
        ],
        [
         "2019-01-05",
         1,
         2019,
         1,
         7,
         5,
         5,
         "2019-1"
        ],
        [
         "2019-01-06",
         1,
         2019,
         1,
         1,
         6,
         6,
         "2019-1"
        ],
        [
         "2019-01-07",
         2,
         2019,
         1,
         2,
         7,
         7,
         "2019-2"
        ],
        [
         "2019-01-08",
         2,
         2019,
         1,
         3,
         8,
         8,
         "2019-2"
        ],
        [
         "2019-01-09",
         2,
         2019,
         1,
         4,
         9,
         9,
         "2019-2"
        ],
        [
         "2019-01-10",
         2,
         2019,
         1,
         5,
         10,
         10,
         "2019-2"
        ]
       ],
       "datasetInfos": [],
       "dbfsResultPath": null,
       "isJsonSchema": true,
       "metadata": {},
       "overflow": false,
       "plotOptions": {
        "customPlotOptions": {},
        "displayType": "table",
        "pivotAggregation": null,
        "pivotColumns": null,
        "xColumns": null,
        "yColumns": null
       },
       "removedWidgets": [],
       "schema": [
        {
         "metadata": "{}",
         "name": "date",
         "type": "\"date\""
        },
        {
         "metadata": "{}",
         "name": "week",
         "type": "\"integer\""
        },
        {
         "metadata": "{}",
         "name": "year",
         "type": "\"integer\""
        },
        {
         "metadata": "{}",
         "name": "month",
         "type": "\"integer\""
        },
        {
         "metadata": "{}",
         "name": "dayofweek",
         "type": "\"integer\""
        },
        {
         "metadata": "{}",
         "name": "dayofmonth",
         "type": "\"integer\""
        },
        {
         "metadata": "{}",
         "name": "dayofyear",
         "type": "\"integer\""
        },
        {
         "metadata": "{}",
         "name": "week_part",
         "type": "\"string\""
        }
       ],
       "type": "table"
      }
     },
     "output_type": "display_data"
    }
   ],
   "source": [
    "# Time traveling to obtain the date_lookup in a DataFrame\n",
    "date_lookup_df = spark.read.option(\"versionAsOf\", 0).load(f\"{main_path}/date_lookup\")\n",
    "\n",
    "# Taking a sneak peek at the DF\n",
    "display(date_lookup_df.limit(10))"
   ]
  },
  {
   "cell_type": "markdown",
   "metadata": {
    "application/vnd.databricks.v1+cell": {
     "cellMetadata": {
      "byteLimit": 2048000,
      "rowLimit": 10000
     },
     "inputWidgets": {},
     "nuid": "c7e3af82-19ca-4a94-ad52-a7e823b50ed1",
     "showTitle": false,
     "title": ""
    }
   },
   "source": [
    "The column from the date_lookup_df that will be used for partitioning is the `week_part`. The `date` column will serve as the key between the DF and \n",
    "the files. <br>\n",
    "Therefore, I'll select the `date` and `week_part` from the date_lookup_df and transform the `timestamp` column from the files to match and join them.<br>\n",
    "I'll work through these steps below.\n"
   ]
  },
  {
   "cell_type": "code",
   "execution_count": 0,
   "metadata": {
    "application/vnd.databricks.v1+cell": {
     "cellMetadata": {
      "byteLimit": 2048000,
      "rowLimit": 10000
     },
     "inputWidgets": {},
     "nuid": "160d97f1-dc1b-4d80-9293-653b853d922b",
     "showTitle": true,
     "title": "Testing Join"
    }
   },
   "outputs": [
    {
     "output_type": "display_data",
     "data": {
      "text/html": [
       "<style scoped>\n",
       "  .table-result-container {\n",
       "    max-height: 300px;\n",
       "    overflow: auto;\n",
       "  }\n",
       "  table, th, td {\n",
       "    border: 1px solid black;\n",
       "    border-collapse: collapse;\n",
       "  }\n",
       "  th, td {\n",
       "    padding: 5px;\n",
       "  }\n",
       "  th {\n",
       "    text-align: left;\n",
       "  }\n",
       "</style><div class='table-result-container'><table class='table-result'><thead style='background-color: white'><tr><th>key</th><th>offset</th><th>partition</th><th>timestamp</th><th>topic</th><th>value</th><th>date</th><th>week_part</th></tr></thead><tbody><tr><td>MTE5NzE1</td><td>65087128</td><td>0</td><td>1575158410818</td><td>bpm</td><td>eyJkZXZpY2VfaWQiOiAxMTk3MTUsICJ0aW1lIjogMTU3NTE1ODQwMCwgImhlYXJ0cmF0ZSI6IDY2LjYyMjQ0OTczMTU3OTc2fQ==</td><td>2019-12-01</td><td>2019-48</td></tr><tr><td>MTA3OTUy</td><td>65102257</td><td>2</td><td>1575158411394</td><td>bpm</td><td>eyJkZXZpY2VfaWQiOiAxMDc5NTIsICJ0aW1lIjogMTU3NTE1ODQwMSwgImhlYXJ0cmF0ZSI6IDExNi4wMzEyNTg5ODAxMjA4N30=</td><td>2019-12-01</td><td>2019-48</td></tr><tr><td>MTYxOTEw</td><td>65087131</td><td>0</td><td>1575158417678</td><td>bpm</td><td>eyJkZXZpY2VfaWQiOiAxNjE5MTAsICJ0aW1lIjogMTU3NTE1ODQwMywgImhlYXJ0cmF0ZSI6IDgyLjMzMzg1OTEyMDg3MzE3fQ==</td><td>2019-12-01</td><td>2019-48</td></tr><tr><td>MTE2NzA4</td><td>64899138</td><td>3</td><td>1575158421868</td><td>bpm</td><td>eyJkZXZpY2VfaWQiOiAxMTY3MDgsICJ0aW1lIjogMTU3NTE1ODQxMiwgImhlYXJ0cmF0ZSI6IDgzLjEzNDUyNzA2MDg3NzA5fQ==</td><td>2019-12-01</td><td>2019-48</td></tr><tr><td>MTYxMzQz</td><td>64899148</td><td>3</td><td>1575158430841</td><td>bpm</td><td>eyJkZXZpY2VfaWQiOiAxNjEzNDMsICJ0aW1lIjogMTU3NTE1ODQyMCwgImhlYXJ0cmF0ZSI6IDU5LjcxODMyNzY1MTYyODA0fQ==</td><td>2019-12-01</td><td>2019-48</td></tr><tr><td>MTEzMDI0</td><td>65002565</td><td>4</td><td>1575158432217</td><td>bpm</td><td>eyJkZXZpY2VfaWQiOiAxMTMwMjQsICJ0aW1lIjogMTU3NTE1ODQyMywgImhlYXJ0cmF0ZSI6IDk0LjcyNTkyNjkxMDg1MjAxfQ==</td><td>2019-12-01</td><td>2019-48</td></tr><tr><td>MTQxNjg3</td><td>65102289</td><td>2</td><td>1575158437927</td><td>bpm</td><td>eyJkZXZpY2VfaWQiOiAxNDE2ODcsICJ0aW1lIjogMTU3NTE1ODQzMCwgImhlYXJ0cmF0ZSI6IDg0LjM4NzM2MzY4NjEzMDU0fQ==</td><td>2019-12-01</td><td>2019-48</td></tr><tr><td>MTQyODM4</td><td>64899162</td><td>3</td><td>1575158445876</td><td>bpm</td><td>eyJkZXZpY2VfaWQiOiAxNDI4MzgsICJ0aW1lIjogMTU3NTE1ODQzNCwgImhlYXJ0cmF0ZSI6IDg1Ljc2MzkzNjgwMDQ1MTAzfQ==</td><td>2019-12-01</td><td>2019-48</td></tr><tr><td>MTk3OTMw</td><td>65087190</td><td>0</td><td>1575158460427</td><td>bpm</td><td>eyJkZXZpY2VfaWQiOiAxOTc5MzAsICJ0aW1lIjogMTU3NTE1ODQ1MCwgImhlYXJ0cmF0ZSI6IDg0LjYyMDk2MzIyMTczNTA3fQ==</td><td>2019-12-01</td><td>2019-48</td></tr><tr><td>MTEwMzY3</td><td>65102354</td><td>2</td><td>1575158482354</td><td>bpm</td><td>eyJkZXZpY2VfaWQiOiAxMTAzNjcsICJ0aW1lIjogMTU3NTE1ODQ3MSwgImhlYXJ0cmF0ZSI6IDc2LjUwOTk5NTg3NjA2Njc0fQ==</td><td>2019-12-01</td><td>2019-48</td></tr></tbody></table></div>"
      ]
     },
     "metadata": {
      "application/vnd.databricks.v1+output": {
       "addedWidgets": {},
       "aggData": [],
       "aggError": "",
       "aggOverflow": false,
       "aggSchema": [],
       "aggSeriesLimitReached": false,
       "aggType": "",
       "arguments": {},
       "columnCustomDisplayInfos": {},
       "data": [
        [
         "MTE5NzE1",
         65087128,
         0,
         1575158410818,
         "bpm",
         "eyJkZXZpY2VfaWQiOiAxMTk3MTUsICJ0aW1lIjogMTU3NTE1ODQwMCwgImhlYXJ0cmF0ZSI6IDY2LjYyMjQ0OTczMTU3OTc2fQ==",
         "2019-12-01",
         "2019-48"
        ],
        [
         "MTA3OTUy",
         65102257,
         2,
         1575158411394,
         "bpm",
         "eyJkZXZpY2VfaWQiOiAxMDc5NTIsICJ0aW1lIjogMTU3NTE1ODQwMSwgImhlYXJ0cmF0ZSI6IDExNi4wMzEyNTg5ODAxMjA4N30=",
         "2019-12-01",
         "2019-48"
        ],
        [
         "MTYxOTEw",
         65087131,
         0,
         1575158417678,
         "bpm",
         "eyJkZXZpY2VfaWQiOiAxNjE5MTAsICJ0aW1lIjogMTU3NTE1ODQwMywgImhlYXJ0cmF0ZSI6IDgyLjMzMzg1OTEyMDg3MzE3fQ==",
         "2019-12-01",
         "2019-48"
        ],
        [
         "MTE2NzA4",
         64899138,
         3,
         1575158421868,
         "bpm",
         "eyJkZXZpY2VfaWQiOiAxMTY3MDgsICJ0aW1lIjogMTU3NTE1ODQxMiwgImhlYXJ0cmF0ZSI6IDgzLjEzNDUyNzA2MDg3NzA5fQ==",
         "2019-12-01",
         "2019-48"
        ],
        [
         "MTYxMzQz",
         64899148,
         3,
         1575158430841,
         "bpm",
         "eyJkZXZpY2VfaWQiOiAxNjEzNDMsICJ0aW1lIjogMTU3NTE1ODQyMCwgImhlYXJ0cmF0ZSI6IDU5LjcxODMyNzY1MTYyODA0fQ==",
         "2019-12-01",
         "2019-48"
        ],
        [
         "MTEzMDI0",
         65002565,
         4,
         1575158432217,
         "bpm",
         "eyJkZXZpY2VfaWQiOiAxMTMwMjQsICJ0aW1lIjogMTU3NTE1ODQyMywgImhlYXJ0cmF0ZSI6IDk0LjcyNTkyNjkxMDg1MjAxfQ==",
         "2019-12-01",
         "2019-48"
        ],
        [
         "MTQxNjg3",
         65102289,
         2,
         1575158437927,
         "bpm",
         "eyJkZXZpY2VfaWQiOiAxNDE2ODcsICJ0aW1lIjogMTU3NTE1ODQzMCwgImhlYXJ0cmF0ZSI6IDg0LjM4NzM2MzY4NjEzMDU0fQ==",
         "2019-12-01",
         "2019-48"
        ],
        [
         "MTQyODM4",
         64899162,
         3,
         1575158445876,
         "bpm",
         "eyJkZXZpY2VfaWQiOiAxNDI4MzgsICJ0aW1lIjogMTU3NTE1ODQzNCwgImhlYXJ0cmF0ZSI6IDg1Ljc2MzkzNjgwMDQ1MTAzfQ==",
         "2019-12-01",
         "2019-48"
        ],
        [
         "MTk3OTMw",
         65087190,
         0,
         1575158460427,
         "bpm",
         "eyJkZXZpY2VfaWQiOiAxOTc5MzAsICJ0aW1lIjogMTU3NTE1ODQ1MCwgImhlYXJ0cmF0ZSI6IDg0LjYyMDk2MzIyMTczNTA3fQ==",
         "2019-12-01",
         "2019-48"
        ],
        [
         "MTEwMzY3",
         65102354,
         2,
         1575158482354,
         "bpm",
         "eyJkZXZpY2VfaWQiOiAxMTAzNjcsICJ0aW1lIjogMTU3NTE1ODQ3MSwgImhlYXJ0cmF0ZSI6IDc2LjUwOTk5NTg3NjA2Njc0fQ==",
         "2019-12-01",
         "2019-48"
        ]
       ],
       "datasetInfos": [],
       "dbfsResultPath": null,
       "isJsonSchema": true,
       "metadata": {},
       "overflow": false,
       "plotOptions": {
        "customPlotOptions": {},
        "displayType": "table",
        "pivotAggregation": null,
        "pivotColumns": null,
        "xColumns": null,
        "yColumns": null
       },
       "removedWidgets": [],
       "schema": [
        {
         "metadata": "{}",
         "name": "key",
         "type": "\"string\""
        },
        {
         "metadata": "{}",
         "name": "offset",
         "type": "\"long\""
        },
        {
         "metadata": "{}",
         "name": "partition",
         "type": "\"long\""
        },
        {
         "metadata": "{}",
         "name": "timestamp",
         "type": "\"long\""
        },
        {
         "metadata": "{}",
         "name": "topic",
         "type": "\"string\""
        },
        {
         "metadata": "{}",
         "name": "value",
         "type": "\"string\""
        },
        {
         "metadata": "{}",
         "name": "date",
         "type": "\"date\""
        },
        {
         "metadata": "{}",
         "name": "week_part",
         "type": "\"string\""
        }
       ],
       "type": "table"
      }
     },
     "output_type": "display_data"
    }
   ],
   "source": [
    "# Selecting only the usefull columns from the DF\n",
    "date_lookup_df = date_lookup_df.select(\"date\", \"week_part\")\n",
    "\n",
    "# Generating a DF from the json files\n",
    "json_df = spark.read.json(files_path)\n",
    "\n",
    "# Testing the join\n",
    "joined_df = json_df.join(f.broadcast(date_lookup_df),\n",
    "                         f.to_date((f.col(\"timestamp\")/1000).cast(\"timestamp\")) == f.col(\"date\"),\n",
    "                         \"left\")\n",
    "\n",
    "# Disposing the results\n",
    "display(joined_df.limit(10))"
   ]
  },
  {
   "cell_type": "markdown",
   "metadata": {
    "application/vnd.databricks.v1+cell": {
     "cellMetadata": {
      "byteLimit": 2048000,
      "rowLimit": 10000
     },
     "inputWidgets": {},
     "nuid": "7430801d-3d54-4c76-ad43-dc9a18022bfe",
     "showTitle": false,
     "title": ""
    }
   },
   "source": [
    "The `join` went smoothly, and I've kept the `timestamp` column unchanged to maintain the data `raw`. <br>\n",
    "With the data now in the right state for ingestion, I'll take a `count` as a benchmark before integrating all this into the `Auto Loader` logic."
   ]
  },
  {
   "cell_type": "code",
   "execution_count": 0,
   "metadata": {
    "application/vnd.databricks.v1+cell": {
     "cellMetadata": {
      "byteLimit": 2048000,
      "rowLimit": 10000
     },
     "inputWidgets": {},
     "nuid": "1acc96c2-1fa0-4312-86bb-20ed4ebaf800",
     "showTitle": true,
     "title": "Json count"
    }
   },
   "outputs": [
    {
     "output_type": "stream",
     "name": "stdout",
     "output_type": "stream",
     "text": [
      "Out[7]: 417276"
     ]
    }
   ],
   "source": [
    "joined_df.count()"
   ]
  },
  {
   "cell_type": "markdown",
   "metadata": {
    "application/vnd.databricks.v1+cell": {
     "cellMetadata": {
      "byteLimit": 2048000,
      "rowLimit": 10000
     },
     "inputWidgets": {},
     "nuid": "45a0ee28-b3b8-4429-8178-2b8635b2e872",
     "showTitle": false,
     "title": ""
    }
   },
   "source": [
    "## Data Processing\n",
    "\n",
    "This is a key step in the pipeline during development and even more so in production. If not correctly configured, Auto Loader could use a lot of API calls, resulting in unexpected charges.<br>\n",
    "Throughout the pipeline, I'll use `trigger(availableNow=True)`, so it will only run when scheduled and will ingest every file up to the default limit. In production, this approach might be viable if the flow of files is known and constant. Another method that could be used is File Notification, which has its own advantages. Typically, this decision would involve the client, the billing department, the architect, and the developers as consultants.<br>\n",
    "<br>\n",
    "Another point to consider is the life expectancy of the pipeline. Auto Loader offers options like `Schema Evolution (cloudFiles.schemaEvolutionMode)` to extend this expectancy if the data is likely to change. I won't go this far here since there is no one-size-fits-all solution.<br>\n",
    "Below is the `Auto Loader` processing query:<br>\n",
    "<br>"
   ]
  },
  {
   "cell_type": "code",
   "execution_count": 0,
   "metadata": {
    "application/vnd.databricks.v1+cell": {
     "cellMetadata": {
      "byteLimit": 2048000,
      "rowLimit": 10000
     },
     "inputWidgets": {},
     "nuid": "7f1bc8c3-4287-417a-ba6a-d829b4283c92",
     "showTitle": true,
     "title": "Compiling code"
    }
   },
   "outputs": [],
   "source": [
    "# Estabilishing the folder where Auto Loader will maintain identifying information of the stream\n",
    "checkpoint_path = f'{main_path}/_checkpoints'\n",
    "\n",
    "# Defining data type of each column in the JSON files\n",
    "bronze_schema = \"key BINARY, value BINARY, topic STRING, partition INT, offset INT, timestamp LONG\"\n",
    "\n",
    "# Creating the function that will ingest the files into the Bronze table\n",
    "def process_bronze():\n",
    "    (spark.readStream\n",
    "                  .format(\"cloudFiles\")\n",
    "                  .schema(bronze_schema)\n",
    "                  .option(\"cloudFiles.format\", \"json\")\n",
    "                  .option(\"cloudFiles.schemaLocation\", f\"{checkpoint_path}/bronze_schema\") # Location to store schema information\n",
    "                  .load(files_path) # Source Folder\n",
    "                  .join(f.broadcast(date_lookup_df), f.to_date((f.col(\"timestamp\")/1000).cast(\"timestamp\")) == f.col(\"date\"), \"left\")\n",
    "                  .writeStream\n",
    "                        .option(\"checkpointLocation\", f\"{checkpoint_path}/bronze\") # Location to store checkpoint information\n",
    "                        .partitionBy(\"topic\", \"week_part\") # Partitioning by topic and week_part to increase performance\n",
    "                        .trigger(availableNow=True)\n",
    "                        .table(\"bronze\")\n",
    "                        .awaitTermination())\n",
    "\n",
    "# Creating a function for reprocessing all the files into the Bronze table\n",
    "def reprocess_bronze():\n",
    "    spark.sql(\"DROP TABLE IF EXISTS bronze.bronze\")\n",
    "\n",
    "    dbutils.fs.rm(f\"{checkpoint_path}/bronze\", True)\n",
    "    \n",
    "    process_bronze()"
   ]
  },
  {
   "cell_type": "code",
   "execution_count": 0,
   "metadata": {
    "application/vnd.databricks.v1+cell": {
     "cellMetadata": {
      "byteLimit": 2048000,
      "rowLimit": 10000
     },
     "inputWidgets": {},
     "nuid": "526ab5c8-cc44-4035-afab-c1b2bf7b7464",
     "showTitle": true,
     "title": "Ingesting sample files"
    }
   },
   "outputs": [],
   "source": [
    "process_bronze()"
   ]
  },
  {
   "cell_type": "markdown",
   "metadata": {
    "application/vnd.databricks.v1+cell": {
     "cellMetadata": {
      "byteLimit": 2048000,
      "rowLimit": 10000
     },
     "inputWidgets": {},
     "nuid": "15c8f203-9d3d-4b00-bc17-b7d4bbccff77",
     "showTitle": false,
     "title": ""
    }
   },
   "source": [
    "### Verifying Ingestion\n",
    "I'll check the Bronze table to ensure the data is correctly partitioned, the volumetry is right and the records match the expectations. <br>\n",
    "This step confirms the pipeline is working as intended before moving on."
   ]
  },
  {
   "cell_type": "code",
   "execution_count": 0,
   "metadata": {
    "application/vnd.databricks.v1+cell": {
     "cellMetadata": {
      "byteLimit": 2048000,
      "implicitDf": true,
      "rowLimit": 10000
     },
     "inputWidgets": {},
     "nuid": "6b72e6b3-3d84-4091-9ac0-b817d7c43aea",
     "showTitle": true,
     "title": "Validating"
    }
   },
   "outputs": [
    {
     "output_type": "stream",
     "name": "stdout",
     "output_type": "stream",
     "text": [
      "\n417276 ingested rows\n\n"
     ]
    },
    {
     "output_type": "display_data",
     "data": {
      "text/html": [
       "<style scoped>\n",
       "  .table-result-container {\n",
       "    max-height: 300px;\n",
       "    overflow: auto;\n",
       "  }\n",
       "  table, th, td {\n",
       "    border: 1px solid black;\n",
       "    border-collapse: collapse;\n",
       "  }\n",
       "  th, td {\n",
       "    padding: 5px;\n",
       "  }\n",
       "  th {\n",
       "    text-align: left;\n",
       "  }\n",
       "</style><div class='table-result-container'><table class='table-result'><thead style='background-color: white'><tr><th>key</th><th>value</th><th>topic</th><th>partition</th><th>offset</th><th>timestamp</th><th>date</th><th>week_part</th></tr></thead><tbody><tr><td>MTE5NzE1</td><td>eyJkZXZpY2VfaWQiOiAxMTk3MTUsICJ0aW1lIjogMTU3NTE1ODQwMCwgImhlYXJ0cmF0ZSI6IDY2LjYyMjQ0OTczMTU3OTc2fQ==</td><td>bpm</td><td>0</td><td>65087128</td><td>1575158410818</td><td>2019-12-01</td><td>2019-48</td></tr><tr><td>MTA3OTUy</td><td>eyJkZXZpY2VfaWQiOiAxMDc5NTIsICJ0aW1lIjogMTU3NTE1ODQwMSwgImhlYXJ0cmF0ZSI6IDExNi4wMzEyNTg5ODAxMjA4N30=</td><td>bpm</td><td>2</td><td>65102257</td><td>1575158411394</td><td>2019-12-01</td><td>2019-48</td></tr><tr><td>MTYxOTEw</td><td>eyJkZXZpY2VfaWQiOiAxNjE5MTAsICJ0aW1lIjogMTU3NTE1ODQwMywgImhlYXJ0cmF0ZSI6IDgyLjMzMzg1OTEyMDg3MzE3fQ==</td><td>bpm</td><td>0</td><td>65087131</td><td>1575158417678</td><td>2019-12-01</td><td>2019-48</td></tr><tr><td>MTE2NzA4</td><td>eyJkZXZpY2VfaWQiOiAxMTY3MDgsICJ0aW1lIjogMTU3NTE1ODQxMiwgImhlYXJ0cmF0ZSI6IDgzLjEzNDUyNzA2MDg3NzA5fQ==</td><td>bpm</td><td>3</td><td>64899138</td><td>1575158421868</td><td>2019-12-01</td><td>2019-48</td></tr><tr><td>MTYxMzQz</td><td>eyJkZXZpY2VfaWQiOiAxNjEzNDMsICJ0aW1lIjogMTU3NTE1ODQyMCwgImhlYXJ0cmF0ZSI6IDU5LjcxODMyNzY1MTYyODA0fQ==</td><td>bpm</td><td>3</td><td>64899148</td><td>1575158430841</td><td>2019-12-01</td><td>2019-48</td></tr><tr><td>MTEzMDI0</td><td>eyJkZXZpY2VfaWQiOiAxMTMwMjQsICJ0aW1lIjogMTU3NTE1ODQyMywgImhlYXJ0cmF0ZSI6IDk0LjcyNTkyNjkxMDg1MjAxfQ==</td><td>bpm</td><td>4</td><td>65002565</td><td>1575158432217</td><td>2019-12-01</td><td>2019-48</td></tr><tr><td>MTQxNjg3</td><td>eyJkZXZpY2VfaWQiOiAxNDE2ODcsICJ0aW1lIjogMTU3NTE1ODQzMCwgImhlYXJ0cmF0ZSI6IDg0LjM4NzM2MzY4NjEzMDU0fQ==</td><td>bpm</td><td>2</td><td>65102289</td><td>1575158437927</td><td>2019-12-01</td><td>2019-48</td></tr><tr><td>MTQyODM4</td><td>eyJkZXZpY2VfaWQiOiAxNDI4MzgsICJ0aW1lIjogMTU3NTE1ODQzNCwgImhlYXJ0cmF0ZSI6IDg1Ljc2MzkzNjgwMDQ1MTAzfQ==</td><td>bpm</td><td>3</td><td>64899162</td><td>1575158445876</td><td>2019-12-01</td><td>2019-48</td></tr><tr><td>MTk3OTMw</td><td>eyJkZXZpY2VfaWQiOiAxOTc5MzAsICJ0aW1lIjogMTU3NTE1ODQ1MCwgImhlYXJ0cmF0ZSI6IDg0LjYyMDk2MzIyMTczNTA3fQ==</td><td>bpm</td><td>0</td><td>65087190</td><td>1575158460427</td><td>2019-12-01</td><td>2019-48</td></tr><tr><td>MTEwMzY3</td><td>eyJkZXZpY2VfaWQiOiAxMTAzNjcsICJ0aW1lIjogMTU3NTE1ODQ3MSwgImhlYXJ0cmF0ZSI6IDc2LjUwOTk5NTg3NjA2Njc0fQ==</td><td>bpm</td><td>2</td><td>65102354</td><td>1575158482354</td><td>2019-12-01</td><td>2019-48</td></tr></tbody></table></div>"
      ]
     },
     "metadata": {
      "application/vnd.databricks.v1+output": {
       "addedWidgets": {},
       "aggData": [],
       "aggError": "",
       "aggOverflow": false,
       "aggSchema": [],
       "aggSeriesLimitReached": false,
       "aggType": "",
       "arguments": {},
       "columnCustomDisplayInfos": {},
       "data": [
        [
         "MTE5NzE1",
         "eyJkZXZpY2VfaWQiOiAxMTk3MTUsICJ0aW1lIjogMTU3NTE1ODQwMCwgImhlYXJ0cmF0ZSI6IDY2LjYyMjQ0OTczMTU3OTc2fQ==",
         "bpm",
         0,
         65087128,
         1575158410818,
         "2019-12-01",
         "2019-48"
        ],
        [
         "MTA3OTUy",
         "eyJkZXZpY2VfaWQiOiAxMDc5NTIsICJ0aW1lIjogMTU3NTE1ODQwMSwgImhlYXJ0cmF0ZSI6IDExNi4wMzEyNTg5ODAxMjA4N30=",
         "bpm",
         2,
         65102257,
         1575158411394,
         "2019-12-01",
         "2019-48"
        ],
        [
         "MTYxOTEw",
         "eyJkZXZpY2VfaWQiOiAxNjE5MTAsICJ0aW1lIjogMTU3NTE1ODQwMywgImhlYXJ0cmF0ZSI6IDgyLjMzMzg1OTEyMDg3MzE3fQ==",
         "bpm",
         0,
         65087131,
         1575158417678,
         "2019-12-01",
         "2019-48"
        ],
        [
         "MTE2NzA4",
         "eyJkZXZpY2VfaWQiOiAxMTY3MDgsICJ0aW1lIjogMTU3NTE1ODQxMiwgImhlYXJ0cmF0ZSI6IDgzLjEzNDUyNzA2MDg3NzA5fQ==",
         "bpm",
         3,
         64899138,
         1575158421868,
         "2019-12-01",
         "2019-48"
        ],
        [
         "MTYxMzQz",
         "eyJkZXZpY2VfaWQiOiAxNjEzNDMsICJ0aW1lIjogMTU3NTE1ODQyMCwgImhlYXJ0cmF0ZSI6IDU5LjcxODMyNzY1MTYyODA0fQ==",
         "bpm",
         3,
         64899148,
         1575158430841,
         "2019-12-01",
         "2019-48"
        ],
        [
         "MTEzMDI0",
         "eyJkZXZpY2VfaWQiOiAxMTMwMjQsICJ0aW1lIjogMTU3NTE1ODQyMywgImhlYXJ0cmF0ZSI6IDk0LjcyNTkyNjkxMDg1MjAxfQ==",
         "bpm",
         4,
         65002565,
         1575158432217,
         "2019-12-01",
         "2019-48"
        ],
        [
         "MTQxNjg3",
         "eyJkZXZpY2VfaWQiOiAxNDE2ODcsICJ0aW1lIjogMTU3NTE1ODQzMCwgImhlYXJ0cmF0ZSI6IDg0LjM4NzM2MzY4NjEzMDU0fQ==",
         "bpm",
         2,
         65102289,
         1575158437927,
         "2019-12-01",
         "2019-48"
        ],
        [
         "MTQyODM4",
         "eyJkZXZpY2VfaWQiOiAxNDI4MzgsICJ0aW1lIjogMTU3NTE1ODQzNCwgImhlYXJ0cmF0ZSI6IDg1Ljc2MzkzNjgwMDQ1MTAzfQ==",
         "bpm",
         3,
         64899162,
         1575158445876,
         "2019-12-01",
         "2019-48"
        ],
        [
         "MTk3OTMw",
         "eyJkZXZpY2VfaWQiOiAxOTc5MzAsICJ0aW1lIjogMTU3NTE1ODQ1MCwgImhlYXJ0cmF0ZSI6IDg0LjYyMDk2MzIyMTczNTA3fQ==",
         "bpm",
         0,
         65087190,
         1575158460427,
         "2019-12-01",
         "2019-48"
        ],
        [
         "MTEwMzY3",
         "eyJkZXZpY2VfaWQiOiAxMTAzNjcsICJ0aW1lIjogMTU3NTE1ODQ3MSwgImhlYXJ0cmF0ZSI6IDc2LjUwOTk5NTg3NjA2Njc0fQ==",
         "bpm",
         2,
         65102354,
         1575158482354,
         "2019-12-01",
         "2019-48"
        ]
       ],
       "datasetInfos": [],
       "dbfsResultPath": null,
       "isJsonSchema": true,
       "metadata": {},
       "overflow": false,
       "plotOptions": {
        "customPlotOptions": {},
        "displayType": "table",
        "pivotAggregation": null,
        "pivotColumns": null,
        "xColumns": null,
        "yColumns": null
       },
       "removedWidgets": [],
       "schema": [
        {
         "metadata": "{}",
         "name": "key",
         "type": "\"binary\""
        },
        {
         "metadata": "{}",
         "name": "value",
         "type": "\"binary\""
        },
        {
         "metadata": "{}",
         "name": "topic",
         "type": "\"string\""
        },
        {
         "metadata": "{}",
         "name": "partition",
         "type": "\"integer\""
        },
        {
         "metadata": "{}",
         "name": "offset",
         "type": "\"integer\""
        },
        {
         "metadata": "{}",
         "name": "timestamp",
         "type": "\"long\""
        },
        {
         "metadata": "{}",
         "name": "date",
         "type": "\"date\""
        },
        {
         "metadata": "{}",
         "name": "week_part",
         "type": "\"string\""
        }
       ],
       "type": "table"
      }
     },
     "output_type": "display_data"
    },
    {
     "output_type": "display_data",
     "data": {
      "text/html": [
       "<style scoped>\n",
       "  .table-result-container {\n",
       "    max-height: 300px;\n",
       "    overflow: auto;\n",
       "  }\n",
       "  table, th, td {\n",
       "    border: 1px solid black;\n",
       "    border-collapse: collapse;\n",
       "  }\n",
       "  th, td {\n",
       "    padding: 5px;\n",
       "  }\n",
       "  th {\n",
       "    text-align: left;\n",
       "  }\n",
       "</style><div class='table-result-container'><table class='table-result'><thead style='background-color: white'><tr><th>col_name</th><th>data_type</th><th>comment</th></tr></thead><tbody><tr><td>key</td><td>binary</td><td>null</td></tr><tr><td>value</td><td>binary</td><td>null</td></tr><tr><td>topic</td><td>string</td><td>null</td></tr><tr><td>partition</td><td>int</td><td>null</td></tr><tr><td>offset</td><td>int</td><td>null</td></tr><tr><td>timestamp</td><td>bigint</td><td>null</td></tr><tr><td>date</td><td>date</td><td>null</td></tr><tr><td>week_part</td><td>string</td><td>null</td></tr><tr><td># Partition Information</td><td></td><td></td></tr><tr><td># col_name</td><td>data_type</td><td>comment</td></tr><tr><td>topic</td><td>string</td><td>null</td></tr><tr><td>week_part</td><td>string</td><td>null</td></tr><tr><td></td><td></td><td></td></tr><tr><td># Detailed Table Information</td><td></td><td></td></tr><tr><td>Catalog</td><td>spark_catalog</td><td></td></tr><tr><td>Database</td><td>bronze</td><td></td></tr><tr><td>Table</td><td>bronze</td><td></td></tr><tr><td>Created Time</td><td>Wed May 29 10:56:25 UTC 2024</td><td></td></tr><tr><td>Last Access</td><td>UNKNOWN</td><td></td></tr><tr><td>Created By</td><td>Spark 3.3.2</td><td></td></tr><tr><td>Type</td><td>MANAGED</td><td></td></tr><tr><td>Location</td><td>dbfs:/user/hive/warehouse/bronze.db/bronze</td><td></td></tr><tr><td>Provider</td><td>delta</td><td></td></tr><tr><td>Owner</td><td>root</td><td></td></tr><tr><td>Is_managed_location</td><td>true</td><td></td></tr><tr><td>Table Properties</td><td>[delta.minReaderVersion=1,delta.minWriterVersion=2]</td><td></td></tr></tbody></table></div>"
      ]
     },
     "metadata": {
      "application/vnd.databricks.v1+output": {
       "addedWidgets": {},
       "aggData": [],
       "aggError": "",
       "aggOverflow": false,
       "aggSchema": [],
       "aggSeriesLimitReached": false,
       "aggType": "",
       "arguments": {},
       "columnCustomDisplayInfos": {},
       "data": [
        [
         "key",
         "binary",
         null
        ],
        [
         "value",
         "binary",
         null
        ],
        [
         "topic",
         "string",
         null
        ],
        [
         "partition",
         "int",
         null
        ],
        [
         "offset",
         "int",
         null
        ],
        [
         "timestamp",
         "bigint",
         null
        ],
        [
         "date",
         "date",
         null
        ],
        [
         "week_part",
         "string",
         null
        ],
        [
         "# Partition Information",
         "",
         ""
        ],
        [
         "# col_name",
         "data_type",
         "comment"
        ],
        [
         "topic",
         "string",
         null
        ],
        [
         "week_part",
         "string",
         null
        ],
        [
         "",
         "",
         ""
        ],
        [
         "# Detailed Table Information",
         "",
         ""
        ],
        [
         "Catalog",
         "spark_catalog",
         ""
        ],
        [
         "Database",
         "bronze",
         ""
        ],
        [
         "Table",
         "bronze",
         ""
        ],
        [
         "Created Time",
         "Wed May 29 10:56:25 UTC 2024",
         ""
        ],
        [
         "Last Access",
         "UNKNOWN",
         ""
        ],
        [
         "Created By",
         "Spark 3.3.2",
         ""
        ],
        [
         "Type",
         "MANAGED",
         ""
        ],
        [
         "Location",
         "dbfs:/user/hive/warehouse/bronze.db/bronze",
         ""
        ],
        [
         "Provider",
         "delta",
         ""
        ],
        [
         "Owner",
         "root",
         ""
        ],
        [
         "Is_managed_location",
         "true",
         ""
        ],
        [
         "Table Properties",
         "[delta.minReaderVersion=1,delta.minWriterVersion=2]",
         ""
        ]
       ],
       "datasetInfos": [],
       "dbfsResultPath": null,
       "isJsonSchema": true,
       "metadata": {},
       "overflow": false,
       "plotOptions": {
        "customPlotOptions": {},
        "displayType": "table",
        "pivotAggregation": null,
        "pivotColumns": null,
        "xColumns": null,
        "yColumns": null
       },
       "removedWidgets": [],
       "schema": [
        {
         "metadata": "{\"comment\":\"name of the column\"}",
         "name": "col_name",
         "type": "\"string\""
        },
        {
         "metadata": "{\"comment\":\"data type of the column\"}",
         "name": "data_type",
         "type": "\"string\""
        },
        {
         "metadata": "{\"comment\":\"comment of the column\"}",
         "name": "comment",
         "type": "\"string\""
        }
       ],
       "type": "table"
      }
     },
     "output_type": "display_data"
    }
   ],
   "source": [
    "# Count of ingested rows, should match the count done earlier in the DF\n",
    "bronze_first_batch = spark.table(\"bronze.bronze\").count()\n",
    "print(\"\")\n",
    "print(f\"{bronze_first_batch} ingested rows\")\n",
    "print(\"\")\n",
    "\n",
    "# Check a sample of rows to ensure no columns went null\n",
    "display(spark.table(\"bronze.bronze\").limit(10))\n",
    "\n",
    "# Verify the partitioning, location, and other details of the Bronze table\n",
    "display(spark.sql(\"DESCRIBE EXTENDED bronze.bronze\"))"
   ]
  },
  {
   "cell_type": "markdown",
   "metadata": {
    "application/vnd.databricks.v1+cell": {
     "cellMetadata": {
      "byteLimit": 2048000,
      "rowLimit": 10000
     },
     "inputWidgets": {},
     "nuid": "fbe40869-7615-4e41-b6e6-d1597fbb2b30",
     "showTitle": false,
     "title": ""
    }
   },
   "source": [
    "### New Batch\n",
    "Next, I'll simulate the arrival of new files to the Auto Loader source folder and then check if new rows arrive in the Bronze table. <br>\n",
    "This ensures that Auto Loader is correctly set up to handle new data batches as they come in."
   ]
  },
  {
   "cell_type": "code",
   "execution_count": 0,
   "metadata": {
    "application/vnd.databricks.v1+cell": {
     "cellMetadata": {
      "byteLimit": 2048000,
      "rowLimit": 10000
     },
     "inputWidgets": {},
     "nuid": "e85e34a3-bd1b-4227-bd91-bd1199f6f988",
     "showTitle": true,
     "title": "Simulating New Data Ingestion"
    }
   },
   "outputs": [
    {
     "output_type": "stream",
     "name": "stdout",
     "output_type": "stream",
     "text": [
      "\n462415 rows were ingested in the second batch\n\n"
     ]
    }
   ],
   "source": [
    "# List of new sample file names\n",
    "nb_files = (\"part-00000-tid-8917337824388924965-fd775af0-714b-4bcf-9d17-5a414d03e156-492-1-c000.json\",\"part-00003-tid-8917337824388924965-fd775af0-714b-4bcf-9d17-5a414d03e156-495-1-c000.json\",\"part-00004-tid-8917337824388924965-fd775af0-714b-4bcf-9d17-5a414d03e156-496-1-c000.json\")\n",
    "\n",
    "# Loop to copy the new samples to the source folder\n",
    "for i in nb_files:\n",
    "    dbutils.fs.cp(f\"{new_batch}/{i}\", f\"{files_path}\")\n",
    "\n",
    "# Run the stream to process the new files\n",
    "process_bronze()\n",
    "\n",
    "# Verify if new rows were ingested into the Bronze table\n",
    "bronze_second_batch = spark.table(\"bronze.bronze\").count()\n",
    "print(\"\")\n",
    "print(f\"{bronze_second_batch - bronze_first_batch} rows were ingested in the second batch\")\n",
    "print(\"\")"
   ]
  },
  {
   "cell_type": "code",
   "execution_count": 0,
   "metadata": {
    "application/vnd.databricks.v1+cell": {
     "cellMetadata": {
      "byteLimit": 2048000,
      "rowLimit": 10000
     },
     "inputWidgets": {},
     "nuid": "8d08d4ff-1667-4093-ae02-274287a1eb5a",
     "showTitle": true,
     "title": "Reckon Source Folder"
    }
   },
   "outputs": [
    {
     "output_type": "display_data",
     "data": {
      "text/html": [
       "<style scoped>\n",
       "  .table-result-container {\n",
       "    max-height: 300px;\n",
       "    overflow: auto;\n",
       "  }\n",
       "  table, th, td {\n",
       "    border: 1px solid black;\n",
       "    border-collapse: collapse;\n",
       "  }\n",
       "  th, td {\n",
       "    padding: 5px;\n",
       "  }\n",
       "  th {\n",
       "    text-align: left;\n",
       "  }\n",
       "</style><div class='table-result-container'><table class='table-result'><thead style='background-color: white'><tr><th>path</th><th>name</th><th>size</th><th>modificationTime</th></tr></thead><tbody><tr><td>dbfs:/mnt/borges_portifolio/auto_loader_files/files/part-00000-tid-358676900307454419-9a6ae6ec-a431-4418-90b5-95bfbeed9fa7-376-1-c000.json</td><td>part-00000-tid-358676900307454419-9a6ae6ec-a431-4418-90b5-95bfbeed9fa7-376-1-c000.json</td><td>0</td><td>1708028988000</td></tr><tr><td>dbfs:/mnt/borges_portifolio/auto_loader_files/files/part-00000-tid-8917337824388924965-fd775af0-714b-4bcf-9d17-5a414d03e156-492-1-c000.json</td><td>part-00000-tid-8917337824388924965-fd775af0-714b-4bcf-9d17-5a414d03e156-492-1-c000.json</td><td>85786236</td><td>1716980229000</td></tr><tr><td>dbfs:/mnt/borges_portifolio/auto_loader_files/files/part-00003-tid-358676900307454419-9a6ae6ec-a431-4418-90b5-95bfbeed9fa7-379-1-c000.json</td><td>part-00003-tid-358676900307454419-9a6ae6ec-a431-4418-90b5-95bfbeed9fa7-379-1-c000.json</td><td>84059292</td><td>1708028994000</td></tr><tr><td>dbfs:/mnt/borges_portifolio/auto_loader_files/files/part-00003-tid-8917337824388924965-fd775af0-714b-4bcf-9d17-5a414d03e156-495-1-c000.json</td><td>part-00003-tid-8917337824388924965-fd775af0-714b-4bcf-9d17-5a414d03e156-495-1-c000.json</td><td>7404178</td><td>1716980236000</td></tr><tr><td>dbfs:/mnt/borges_portifolio/auto_loader_files/files/part-00004-tid-358676900307454419-9a6ae6ec-a431-4418-90b5-95bfbeed9fa7-380-1-c000.json</td><td>part-00004-tid-358676900307454419-9a6ae6ec-a431-4418-90b5-95bfbeed9fa7-380-1-c000.json</td><td>27495</td><td>1708028995000</td></tr><tr><td>dbfs:/mnt/borges_portifolio/auto_loader_files/files/part-00004-tid-8917337824388924965-fd775af0-714b-4bcf-9d17-5a414d03e156-496-1-c000.json</td><td>part-00004-tid-8917337824388924965-fd775af0-714b-4bcf-9d17-5a414d03e156-496-1-c000.json</td><td>21448</td><td>1716980237000</td></tr><tr><td>dbfs:/mnt/borges_portifolio/auto_loader_files/files/part-00005-tid-358676900307454419-9a6ae6ec-a431-4418-90b5-95bfbeed9fa7-381-1-c000.json</td><td>part-00005-tid-358676900307454419-9a6ae6ec-a431-4418-90b5-95bfbeed9fa7-381-1-c000.json</td><td>8759</td><td>1708028996000</td></tr></tbody></table></div>"
      ]
     },
     "metadata": {
      "application/vnd.databricks.v1+output": {
       "addedWidgets": {},
       "aggData": [],
       "aggError": "",
       "aggOverflow": false,
       "aggSchema": [],
       "aggSeriesLimitReached": false,
       "aggType": "",
       "arguments": {},
       "columnCustomDisplayInfos": {},
       "data": [
        [
         "dbfs:/mnt/borges_portifolio/auto_loader_files/files/part-00000-tid-358676900307454419-9a6ae6ec-a431-4418-90b5-95bfbeed9fa7-376-1-c000.json",
         "part-00000-tid-358676900307454419-9a6ae6ec-a431-4418-90b5-95bfbeed9fa7-376-1-c000.json",
         0,
         1708028988000
        ],
        [
         "dbfs:/mnt/borges_portifolio/auto_loader_files/files/part-00000-tid-8917337824388924965-fd775af0-714b-4bcf-9d17-5a414d03e156-492-1-c000.json",
         "part-00000-tid-8917337824388924965-fd775af0-714b-4bcf-9d17-5a414d03e156-492-1-c000.json",
         85786236,
         1716980229000
        ],
        [
         "dbfs:/mnt/borges_portifolio/auto_loader_files/files/part-00003-tid-358676900307454419-9a6ae6ec-a431-4418-90b5-95bfbeed9fa7-379-1-c000.json",
         "part-00003-tid-358676900307454419-9a6ae6ec-a431-4418-90b5-95bfbeed9fa7-379-1-c000.json",
         84059292,
         1708028994000
        ],
        [
         "dbfs:/mnt/borges_portifolio/auto_loader_files/files/part-00003-tid-8917337824388924965-fd775af0-714b-4bcf-9d17-5a414d03e156-495-1-c000.json",
         "part-00003-tid-8917337824388924965-fd775af0-714b-4bcf-9d17-5a414d03e156-495-1-c000.json",
         7404178,
         1716980236000
        ],
        [
         "dbfs:/mnt/borges_portifolio/auto_loader_files/files/part-00004-tid-358676900307454419-9a6ae6ec-a431-4418-90b5-95bfbeed9fa7-380-1-c000.json",
         "part-00004-tid-358676900307454419-9a6ae6ec-a431-4418-90b5-95bfbeed9fa7-380-1-c000.json",
         27495,
         1708028995000
        ],
        [
         "dbfs:/mnt/borges_portifolio/auto_loader_files/files/part-00004-tid-8917337824388924965-fd775af0-714b-4bcf-9d17-5a414d03e156-496-1-c000.json",
         "part-00004-tid-8917337824388924965-fd775af0-714b-4bcf-9d17-5a414d03e156-496-1-c000.json",
         21448,
         1716980237000
        ],
        [
         "dbfs:/mnt/borges_portifolio/auto_loader_files/files/part-00005-tid-358676900307454419-9a6ae6ec-a431-4418-90b5-95bfbeed9fa7-381-1-c000.json",
         "part-00005-tid-358676900307454419-9a6ae6ec-a431-4418-90b5-95bfbeed9fa7-381-1-c000.json",
         8759,
         1708028996000
        ]
       ],
       "datasetInfos": [],
       "dbfsResultPath": null,
       "isJsonSchema": true,
       "metadata": {},
       "overflow": false,
       "plotOptions": {
        "customPlotOptions": {},
        "displayType": "table",
        "pivotAggregation": null,
        "pivotColumns": null,
        "xColumns": null,
        "yColumns": null
       },
       "removedWidgets": [],
       "schema": [
        {
         "metadata": "{}",
         "name": "path",
         "type": "\"string\""
        },
        {
         "metadata": "{}",
         "name": "name",
         "type": "\"string\""
        },
        {
         "metadata": "{}",
         "name": "size",
         "type": "\"long\""
        },
        {
         "metadata": "{}",
         "name": "modificationTime",
         "type": "\"long\""
        }
       ],
       "type": "table"
      }
     },
     "output_type": "display_data"
    }
   ],
   "source": [
    "files = dbutils.fs.ls(files_path)\n",
    "display(files)"
   ]
  },
  {
   "cell_type": "markdown",
   "metadata": {
    "application/vnd.databricks.v1+cell": {
     "cellMetadata": {
      "byteLimit": 2048000,
      "rowLimit": 10000
     },
     "inputWidgets": {},
     "nuid": "094f1818-9533-4765-9618-1e0123d0fc5d",
     "showTitle": false,
     "title": ""
    }
   },
   "source": [
    "## Closing Comments\n",
    "\n",
    "As I've said before, I opted for only running Auto Loader on a schedule. If instead of `trigger(availableNow=True)` if I'd used `trigger(processingTime='5 seconds')`, every 5 secods the Source Folder would be scanned for new files and the Bronze table would be updated automatically. <br>\n",
    "<br>\n",
    "That's all for this notebook, in the next one the fun part will begin!"
   ]
  },
  {
   "cell_type": "code",
   "execution_count": 0,
   "metadata": {
    "application/vnd.databricks.v1+cell": {
     "cellMetadata": {
      "byteLimit": 2048000,
      "rowLimit": 10000
     },
     "inputWidgets": {},
     "nuid": "86d3bfb1-8e75-49ae-93d4-f834b601a9c6",
     "showTitle": true,
     "title": "Resetting Source Folder"
    }
   },
   "outputs": [
    {
     "output_type": "display_data",
     "data": {
      "text/html": [
       "<style scoped>\n",
       "  .table-result-container {\n",
       "    max-height: 300px;\n",
       "    overflow: auto;\n",
       "  }\n",
       "  table, th, td {\n",
       "    border: 1px solid black;\n",
       "    border-collapse: collapse;\n",
       "  }\n",
       "  th, td {\n",
       "    padding: 5px;\n",
       "  }\n",
       "  th {\n",
       "    text-align: left;\n",
       "  }\n",
       "</style><div class='table-result-container'><table class='table-result'><thead style='background-color: white'><tr><th>path</th><th>name</th><th>size</th><th>modificationTime</th></tr></thead><tbody><tr><td>dbfs:/mnt/borges_portifolio/auto_loader_files/files/part-00000-tid-358676900307454419-9a6ae6ec-a431-4418-90b5-95bfbeed9fa7-376-1-c000.json</td><td>part-00000-tid-358676900307454419-9a6ae6ec-a431-4418-90b5-95bfbeed9fa7-376-1-c000.json</td><td>0</td><td>1708028988000</td></tr><tr><td>dbfs:/mnt/borges_portifolio/auto_loader_files/files/part-00003-tid-358676900307454419-9a6ae6ec-a431-4418-90b5-95bfbeed9fa7-379-1-c000.json</td><td>part-00003-tid-358676900307454419-9a6ae6ec-a431-4418-90b5-95bfbeed9fa7-379-1-c000.json</td><td>84059292</td><td>1708028994000</td></tr><tr><td>dbfs:/mnt/borges_portifolio/auto_loader_files/files/part-00004-tid-358676900307454419-9a6ae6ec-a431-4418-90b5-95bfbeed9fa7-380-1-c000.json</td><td>part-00004-tid-358676900307454419-9a6ae6ec-a431-4418-90b5-95bfbeed9fa7-380-1-c000.json</td><td>27495</td><td>1708028995000</td></tr><tr><td>dbfs:/mnt/borges_portifolio/auto_loader_files/files/part-00005-tid-358676900307454419-9a6ae6ec-a431-4418-90b5-95bfbeed9fa7-381-1-c000.json</td><td>part-00005-tid-358676900307454419-9a6ae6ec-a431-4418-90b5-95bfbeed9fa7-381-1-c000.json</td><td>8759</td><td>1708028996000</td></tr></tbody></table></div>"
      ]
     },
     "metadata": {
      "application/vnd.databricks.v1+output": {
       "addedWidgets": {},
       "aggData": [],
       "aggError": "",
       "aggOverflow": false,
       "aggSchema": [],
       "aggSeriesLimitReached": false,
       "aggType": "",
       "arguments": {},
       "columnCustomDisplayInfos": {},
       "data": [
        [
         "dbfs:/mnt/borges_portifolio/auto_loader_files/files/part-00000-tid-358676900307454419-9a6ae6ec-a431-4418-90b5-95bfbeed9fa7-376-1-c000.json",
         "part-00000-tid-358676900307454419-9a6ae6ec-a431-4418-90b5-95bfbeed9fa7-376-1-c000.json",
         0,
         1708028988000
        ],
        [
         "dbfs:/mnt/borges_portifolio/auto_loader_files/files/part-00003-tid-358676900307454419-9a6ae6ec-a431-4418-90b5-95bfbeed9fa7-379-1-c000.json",
         "part-00003-tid-358676900307454419-9a6ae6ec-a431-4418-90b5-95bfbeed9fa7-379-1-c000.json",
         84059292,
         1708028994000
        ],
        [
         "dbfs:/mnt/borges_portifolio/auto_loader_files/files/part-00004-tid-358676900307454419-9a6ae6ec-a431-4418-90b5-95bfbeed9fa7-380-1-c000.json",
         "part-00004-tid-358676900307454419-9a6ae6ec-a431-4418-90b5-95bfbeed9fa7-380-1-c000.json",
         27495,
         1708028995000
        ],
        [
         "dbfs:/mnt/borges_portifolio/auto_loader_files/files/part-00005-tid-358676900307454419-9a6ae6ec-a431-4418-90b5-95bfbeed9fa7-381-1-c000.json",
         "part-00005-tid-358676900307454419-9a6ae6ec-a431-4418-90b5-95bfbeed9fa7-381-1-c000.json",
         8759,
         1708028996000
        ]
       ],
       "datasetInfos": [],
       "dbfsResultPath": null,
       "isJsonSchema": true,
       "metadata": {},
       "overflow": false,
       "plotOptions": {
        "customPlotOptions": {},
        "displayType": "table",
        "pivotAggregation": null,
        "pivotColumns": null,
        "xColumns": null,
        "yColumns": null
       },
       "removedWidgets": [],
       "schema": [
        {
         "metadata": "{}",
         "name": "path",
         "type": "\"string\""
        },
        {
         "metadata": "{}",
         "name": "name",
         "type": "\"string\""
        },
        {
         "metadata": "{}",
         "name": "size",
         "type": "\"long\""
        },
        {
         "metadata": "{}",
         "name": "modificationTime",
         "type": "\"long\""
        }
       ],
       "type": "table"
      }
     },
     "output_type": "display_data"
    }
   ],
   "source": [
    "# List of New Batch file's names\n",
    "nb_files = (\"part-00000-tid-8917337824388924965-fd775af0-714b-4bcf-9d17-5a414d03e156-492-1-c000.json\",\"part-00003-tid-8917337824388924965-fd775af0-714b-4bcf-9d17-5a414d03e156-495-1-c000.json\",\"part-00004-tid-8917337824388924965-fd775af0-714b-4bcf-9d17-5a414d03e156-496-1-c000.json\")\n",
    "\n",
    "# Loop to delete files from the Source Folder\n",
    "for i in nb_files:\n",
    "    dbutils.fs.rm(f\"{files_path}/{i}\")\n",
    "\n",
    "# Ensuring the Source Folder is resetted\n",
    "files = dbutils.fs.ls(files_path)\n",
    "display(files)"
   ]
  }
 ],
 "metadata": {
  "application/vnd.databricks.v1+notebook": {
   "dashboards": [],
   "environmentMetadata": null,
   "language": "python",
   "notebookMetadata": {
    "mostRecentlyExecutedCommandWithImplicitDF": {
     "commandId": -1,
     "dataframes": [
      "_sqldf"
     ]
    },
    "pythonIndentUnit": 2
   },
   "notebookName": "01_Ingestion",
   "widgets": {}
  }
 },
 "nbformat": 4,
 "nbformat_minor": 0
}
