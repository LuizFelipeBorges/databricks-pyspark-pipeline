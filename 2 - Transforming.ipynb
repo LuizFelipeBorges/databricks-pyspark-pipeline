{
 "cells": [
  {
   "cell_type": "markdown",
   "metadata": {
    "application/vnd.databricks.v1+cell": {
     "cellMetadata": {
      "byteLimit": 2048000,
      "rowLimit": 10000
     },
     "inputWidgets": {},
     "nuid": "45d9138f-4f33-430b-99f9-21de4293bb79",
     "showTitle": false,
     "title": ""
    }
   },
   "source": [
    "# Setting base configs"
   ]
  },
  {
   "cell_type": "markdown",
   "metadata": {
    "application/vnd.databricks.v1+cell": {
     "cellMetadata": {
      "byteLimit": 2048000,
      "rowLimit": 10000
     },
     "inputWidgets": {},
     "nuid": "9c76984b-90d2-4184-8836-13ba413b6c89",
     "showTitle": false,
     "title": ""
    }
   },
   "source": [
    "Setting the default layer of the notebook to Bronze, importing libraries and setting main path"
   ]
  },
  {
   "cell_type": "code",
   "execution_count": 0,
   "metadata": {
    "application/vnd.databricks.v1+cell": {
     "cellMetadata": {
      "byteLimit": 2048000,
      "rowLimit": 10000
     },
     "inputWidgets": {},
     "nuid": "78b5d454-800e-4d93-8496-46efaf542918",
     "showTitle": true,
     "title": "Base configs"
    }
   },
   "outputs": [],
   "source": [
    "import pyspark.sql.functions as f\n",
    "import pyspark.sql.types as t\n",
    "\n",
    "main_path = \"dbfs:/mnt/borges_portifolio\"\n",
    "\n",
    "spark.catalog.setCurrentDatabase('BRONZE')"
   ]
  },
  {
   "cell_type": "markdown",
   "metadata": {
    "application/vnd.databricks.v1+cell": {
     "cellMetadata": {
      "byteLimit": 2048000,
      "rowLimit": 10000
     },
     "inputWidgets": {},
     "nuid": "1e0a983b-e52a-412e-a704-514d6aabff85",
     "showTitle": false,
     "title": ""
    }
   },
   "source": [
    "#Reviewing previous data to plan the next steps"
   ]
  },
  {
   "cell_type": "code",
   "execution_count": 0,
   "metadata": {
    "application/vnd.databricks.v1+cell": {
     "cellMetadata": {
      "byteLimit": 2048000,
      "implicitDf": true,
      "rowLimit": 10000
     },
     "inputWidgets": {},
     "nuid": "7e079137-49a4-4c87-8257-5bd3ba08c0ba",
     "showTitle": true,
     "title": "Raw data types"
    }
   },
   "outputs": [
    {
     "output_type": "display_data",
     "data": {
      "text/html": [
       "<style scoped>\n",
       "  .table-result-container {\n",
       "    max-height: 300px;\n",
       "    overflow: auto;\n",
       "  }\n",
       "  table, th, td {\n",
       "    border: 1px solid black;\n",
       "    border-collapse: collapse;\n",
       "  }\n",
       "  th, td {\n",
       "    padding: 5px;\n",
       "  }\n",
       "  th {\n",
       "    text-align: left;\n",
       "  }\n",
       "</style><div class='table-result-container'><table class='table-result'><thead style='background-color: white'><tr><th>col_name</th><th>data_type</th><th>comment</th></tr></thead><tbody><tr><td>key</td><td>binary</td><td>null</td></tr><tr><td>value</td><td>binary</td><td>null</td></tr><tr><td>topic</td><td>string</td><td>null</td></tr><tr><td>partition</td><td>bigint</td><td>null</td></tr><tr><td>offset</td><td>bigint</td><td>null</td></tr><tr><td>timestamp</td><td>bigint</td><td>null</td></tr><tr><td>date</td><td>date</td><td>null</td></tr><tr><td>week_part</td><td>string</td><td>null</td></tr><tr><td># Partition Information</td><td></td><td></td></tr><tr><td># col_name</td><td>data_type</td><td>comment</td></tr><tr><td>topic</td><td>string</td><td>null</td></tr><tr><td>week_part</td><td>string</td><td>null</td></tr></tbody></table></div>"
      ]
     },
     "metadata": {
      "application/vnd.databricks.v1+output": {
       "addedWidgets": {},
       "aggData": [],
       "aggError": "",
       "aggOverflow": false,
       "aggSchema": [],
       "aggSeriesLimitReached": false,
       "aggType": "",
       "arguments": {},
       "columnCustomDisplayInfos": {},
       "data": [
        [
         "key",
         "binary",
         null
        ],
        [
         "value",
         "binary",
         null
        ],
        [
         "topic",
         "string",
         null
        ],
        [
         "partition",
         "bigint",
         null
        ],
        [
         "offset",
         "bigint",
         null
        ],
        [
         "timestamp",
         "bigint",
         null
        ],
        [
         "date",
         "date",
         null
        ],
        [
         "week_part",
         "string",
         null
        ],
        [
         "# Partition Information",
         "",
         ""
        ],
        [
         "# col_name",
         "data_type",
         "comment"
        ],
        [
         "topic",
         "string",
         null
        ],
        [
         "week_part",
         "string",
         null
        ]
       ],
       "datasetInfos": [],
       "dbfsResultPath": null,
       "isJsonSchema": true,
       "metadata": {},
       "overflow": false,
       "plotOptions": {
        "customPlotOptions": {},
        "displayType": "table",
        "pivotAggregation": null,
        "pivotColumns": null,
        "xColumns": null,
        "yColumns": null
       },
       "removedWidgets": [],
       "schema": [
        {
         "metadata": "{\"comment\":\"name of the column\"}",
         "name": "col_name",
         "type": "\"string\""
        },
        {
         "metadata": "{\"comment\":\"data type of the column\"}",
         "name": "data_type",
         "type": "\"string\""
        },
        {
         "metadata": "{\"comment\":\"comment of the column\"}",
         "name": "comment",
         "type": "\"string\""
        }
       ],
       "type": "table"
      }
     },
     "output_type": "display_data"
    }
   ],
   "source": [
    "%sql\n",
    "DESCRIBE bronze"
   ]
  },
  {
   "cell_type": "code",
   "execution_count": 0,
   "metadata": {
    "application/vnd.databricks.v1+cell": {
     "cellMetadata": {
      "byteLimit": 2048000,
      "rowLimit": 10000
     },
     "inputWidgets": {},
     "nuid": "df003ed9-c0b1-4867-9b2d-1f9b92ea1ccf",
     "showTitle": true,
     "title": "Displaying raw data"
    }
   },
   "outputs": [
    {
     "output_type": "display_data",
     "data": {
      "text/html": [
       "<style scoped>\n",
       "  .table-result-container {\n",
       "    max-height: 300px;\n",
       "    overflow: auto;\n",
       "  }\n",
       "  table, th, td {\n",
       "    border: 1px solid black;\n",
       "    border-collapse: collapse;\n",
       "  }\n",
       "  th, td {\n",
       "    padding: 5px;\n",
       "  }\n",
       "  th {\n",
       "    text-align: left;\n",
       "  }\n",
       "</style><div class='table-result-container'><table class='table-result'><thead style='background-color: white'><tr><th>key</th><th>value</th><th>topic</th><th>partition</th><th>offset</th><th>timestamp</th><th>date</th><th>week_part</th></tr></thead><tbody><tr><td>MTE5NzE1</td><td>eyJkZXZpY2VfaWQiOiAxMTk3MTUsICJ0aW1lIjogMTU3NTE1ODQwMCwgImhlYXJ0cmF0ZSI6IDY2LjYyMjQ0OTczMTU3OTc2fQ==</td><td>bpm</td><td>0</td><td>65087128</td><td>1575158410818</td><td>2019-12-01</td><td>2019-48</td></tr><tr><td>MTA3OTUy</td><td>eyJkZXZpY2VfaWQiOiAxMDc5NTIsICJ0aW1lIjogMTU3NTE1ODQwMSwgImhlYXJ0cmF0ZSI6IDExNi4wMzEyNTg5ODAxMjA4N30=</td><td>bpm</td><td>2</td><td>65102257</td><td>1575158411394</td><td>2019-12-01</td><td>2019-48</td></tr><tr><td>MTYxOTEw</td><td>eyJkZXZpY2VfaWQiOiAxNjE5MTAsICJ0aW1lIjogMTU3NTE1ODQwMywgImhlYXJ0cmF0ZSI6IDgyLjMzMzg1OTEyMDg3MzE3fQ==</td><td>bpm</td><td>0</td><td>65087131</td><td>1575158417678</td><td>2019-12-01</td><td>2019-48</td></tr><tr><td>MTE2NzA4</td><td>eyJkZXZpY2VfaWQiOiAxMTY3MDgsICJ0aW1lIjogMTU3NTE1ODQxMiwgImhlYXJ0cmF0ZSI6IDgzLjEzNDUyNzA2MDg3NzA5fQ==</td><td>bpm</td><td>3</td><td>64899138</td><td>1575158421868</td><td>2019-12-01</td><td>2019-48</td></tr><tr><td>MTYxMzQz</td><td>eyJkZXZpY2VfaWQiOiAxNjEzNDMsICJ0aW1lIjogMTU3NTE1ODQyMCwgImhlYXJ0cmF0ZSI6IDU5LjcxODMyNzY1MTYyODA0fQ==</td><td>bpm</td><td>3</td><td>64899148</td><td>1575158430841</td><td>2019-12-01</td><td>2019-48</td></tr><tr><td>MTEzMDI0</td><td>eyJkZXZpY2VfaWQiOiAxMTMwMjQsICJ0aW1lIjogMTU3NTE1ODQyMywgImhlYXJ0cmF0ZSI6IDk0LjcyNTkyNjkxMDg1MjAxfQ==</td><td>bpm</td><td>4</td><td>65002565</td><td>1575158432217</td><td>2019-12-01</td><td>2019-48</td></tr><tr><td>MTQxNjg3</td><td>eyJkZXZpY2VfaWQiOiAxNDE2ODcsICJ0aW1lIjogMTU3NTE1ODQzMCwgImhlYXJ0cmF0ZSI6IDg0LjM4NzM2MzY4NjEzMDU0fQ==</td><td>bpm</td><td>2</td><td>65102289</td><td>1575158437927</td><td>2019-12-01</td><td>2019-48</td></tr><tr><td>MTQyODM4</td><td>eyJkZXZpY2VfaWQiOiAxNDI4MzgsICJ0aW1lIjogMTU3NTE1ODQzNCwgImhlYXJ0cmF0ZSI6IDg1Ljc2MzkzNjgwMDQ1MTAzfQ==</td><td>bpm</td><td>3</td><td>64899162</td><td>1575158445876</td><td>2019-12-01</td><td>2019-48</td></tr><tr><td>MTk3OTMw</td><td>eyJkZXZpY2VfaWQiOiAxOTc5MzAsICJ0aW1lIjogMTU3NTE1ODQ1MCwgImhlYXJ0cmF0ZSI6IDg0LjYyMDk2MzIyMTczNTA3fQ==</td><td>bpm</td><td>0</td><td>65087190</td><td>1575158460427</td><td>2019-12-01</td><td>2019-48</td></tr><tr><td>MTEwMzY3</td><td>eyJkZXZpY2VfaWQiOiAxMTAzNjcsICJ0aW1lIjogMTU3NTE1ODQ3MSwgImhlYXJ0cmF0ZSI6IDc2LjUwOTk5NTg3NjA2Njc0fQ==</td><td>bpm</td><td>2</td><td>65102354</td><td>1575158482354</td><td>2019-12-01</td><td>2019-48</td></tr></tbody></table></div>"
      ]
     },
     "metadata": {
      "application/vnd.databricks.v1+output": {
       "addedWidgets": {},
       "aggData": [],
       "aggError": "",
       "aggOverflow": false,
       "aggSchema": [],
       "aggSeriesLimitReached": false,
       "aggType": "",
       "arguments": {},
       "columnCustomDisplayInfos": {},
       "data": [
        [
         "MTE5NzE1",
         "eyJkZXZpY2VfaWQiOiAxMTk3MTUsICJ0aW1lIjogMTU3NTE1ODQwMCwgImhlYXJ0cmF0ZSI6IDY2LjYyMjQ0OTczMTU3OTc2fQ==",
         "bpm",
         0,
         65087128,
         1575158410818,
         "2019-12-01",
         "2019-48"
        ],
        [
         "MTA3OTUy",
         "eyJkZXZpY2VfaWQiOiAxMDc5NTIsICJ0aW1lIjogMTU3NTE1ODQwMSwgImhlYXJ0cmF0ZSI6IDExNi4wMzEyNTg5ODAxMjA4N30=",
         "bpm",
         2,
         65102257,
         1575158411394,
         "2019-12-01",
         "2019-48"
        ],
        [
         "MTYxOTEw",
         "eyJkZXZpY2VfaWQiOiAxNjE5MTAsICJ0aW1lIjogMTU3NTE1ODQwMywgImhlYXJ0cmF0ZSI6IDgyLjMzMzg1OTEyMDg3MzE3fQ==",
         "bpm",
         0,
         65087131,
         1575158417678,
         "2019-12-01",
         "2019-48"
        ],
        [
         "MTE2NzA4",
         "eyJkZXZpY2VfaWQiOiAxMTY3MDgsICJ0aW1lIjogMTU3NTE1ODQxMiwgImhlYXJ0cmF0ZSI6IDgzLjEzNDUyNzA2MDg3NzA5fQ==",
         "bpm",
         3,
         64899138,
         1575158421868,
         "2019-12-01",
         "2019-48"
        ],
        [
         "MTYxMzQz",
         "eyJkZXZpY2VfaWQiOiAxNjEzNDMsICJ0aW1lIjogMTU3NTE1ODQyMCwgImhlYXJ0cmF0ZSI6IDU5LjcxODMyNzY1MTYyODA0fQ==",
         "bpm",
         3,
         64899148,
         1575158430841,
         "2019-12-01",
         "2019-48"
        ],
        [
         "MTEzMDI0",
         "eyJkZXZpY2VfaWQiOiAxMTMwMjQsICJ0aW1lIjogMTU3NTE1ODQyMywgImhlYXJ0cmF0ZSI6IDk0LjcyNTkyNjkxMDg1MjAxfQ==",
         "bpm",
         4,
         65002565,
         1575158432217,
         "2019-12-01",
         "2019-48"
        ],
        [
         "MTQxNjg3",
         "eyJkZXZpY2VfaWQiOiAxNDE2ODcsICJ0aW1lIjogMTU3NTE1ODQzMCwgImhlYXJ0cmF0ZSI6IDg0LjM4NzM2MzY4NjEzMDU0fQ==",
         "bpm",
         2,
         65102289,
         1575158437927,
         "2019-12-01",
         "2019-48"
        ],
        [
         "MTQyODM4",
         "eyJkZXZpY2VfaWQiOiAxNDI4MzgsICJ0aW1lIjogMTU3NTE1ODQzNCwgImhlYXJ0cmF0ZSI6IDg1Ljc2MzkzNjgwMDQ1MTAzfQ==",
         "bpm",
         3,
         64899162,
         1575158445876,
         "2019-12-01",
         "2019-48"
        ],
        [
         "MTk3OTMw",
         "eyJkZXZpY2VfaWQiOiAxOTc5MzAsICJ0aW1lIjogMTU3NTE1ODQ1MCwgImhlYXJ0cmF0ZSI6IDg0LjYyMDk2MzIyMTczNTA3fQ==",
         "bpm",
         0,
         65087190,
         1575158460427,
         "2019-12-01",
         "2019-48"
        ],
        [
         "MTEwMzY3",
         "eyJkZXZpY2VfaWQiOiAxMTAzNjcsICJ0aW1lIjogMTU3NTE1ODQ3MSwgImhlYXJ0cmF0ZSI6IDc2LjUwOTk5NTg3NjA2Njc0fQ==",
         "bpm",
         2,
         65102354,
         1575158482354,
         "2019-12-01",
         "2019-48"
        ]
       ],
       "datasetInfos": [],
       "dbfsResultPath": null,
       "isJsonSchema": true,
       "metadata": {},
       "overflow": false,
       "plotOptions": {
        "customPlotOptions": {},
        "displayType": "table",
        "pivotAggregation": null,
        "pivotColumns": null,
        "xColumns": null,
        "yColumns": null
       },
       "removedWidgets": [],
       "schema": [
        {
         "metadata": "{}",
         "name": "key",
         "type": "\"binary\""
        },
        {
         "metadata": "{}",
         "name": "value",
         "type": "\"binary\""
        },
        {
         "metadata": "{}",
         "name": "topic",
         "type": "\"string\""
        },
        {
         "metadata": "{}",
         "name": "partition",
         "type": "\"long\""
        },
        {
         "metadata": "{}",
         "name": "offset",
         "type": "\"long\""
        },
        {
         "metadata": "{}",
         "name": "timestamp",
         "type": "\"long\""
        },
        {
         "metadata": "{}",
         "name": "date",
         "type": "\"date\""
        },
        {
         "metadata": "{}",
         "name": "week_part",
         "type": "\"string\""
        }
       ],
       "type": "table"
      }
     },
     "output_type": "display_data"
    }
   ],
   "source": [
    "batch_df = spark.table(\"bronze\")\n",
    "display(batch_df.limit(10))"
   ]
  },
  {
   "cell_type": "code",
   "execution_count": 0,
   "metadata": {
    "application/vnd.databricks.v1+cell": {
     "cellMetadata": {
      "byteLimit": 2048000,
      "rowLimit": 10000
     },
     "inputWidgets": {},
     "nuid": "aa0c2272-f3a0-4ea8-a13f-c0d7d38de79e",
     "showTitle": true,
     "title": "Total count"
    }
   },
   "outputs": [
    {
     "output_type": "stream",
     "name": "stdout",
     "output_type": "stream",
     "text": [
      "Out[4]: 879691"
     ]
    }
   ],
   "source": [
    "batch_df.count()"
   ]
  },
  {
   "cell_type": "markdown",
   "metadata": {
    "application/vnd.databricks.v1+cell": {
     "cellMetadata": {
      "byteLimit": 2048000,
      "rowLimit": 10000
     },
     "inputWidgets": {},
     "nuid": "e1ea84fe-6d0a-4c04-a0a3-f1d42c009631",
     "showTitle": false,
     "title": ""
    }
   },
   "source": [
    "#Initial tests\n",
    "<br>\n",
    "Initial tests to work out how to clean the data. <br>\n",
    "Since the raw data has two binary columns, I have to decode it first to move to the next step"
   ]
  },
  {
   "cell_type": "code",
   "execution_count": 0,
   "metadata": {
    "application/vnd.databricks.v1+cell": {
     "cellMetadata": {
      "byteLimit": 2048000,
      "rowLimit": 10000
     },
     "inputWidgets": {},
     "nuid": "e92526d6-f001-44b4-8b7d-9d00be0f6635",
     "showTitle": true,
     "title": "Binary decode"
    }
   },
   "outputs": [
    {
     "output_type": "display_data",
     "data": {
      "text/html": [
       "<style scoped>\n",
       "  .table-result-container {\n",
       "    max-height: 300px;\n",
       "    overflow: auto;\n",
       "  }\n",
       "  table, th, td {\n",
       "    border: 1px solid black;\n",
       "    border-collapse: collapse;\n",
       "  }\n",
       "  th, td {\n",
       "    padding: 5px;\n",
       "  }\n",
       "  th {\n",
       "    text-align: left;\n",
       "  }\n",
       "</style><div class='table-result-container'><table class='table-result'><thead style='background-color: white'><tr><th>key</th><th>key_decoded</th><th>value</th><th>value_decoded</th></tr></thead><tbody><tr><td>MTE5NzE1</td><td>119715</td><td>eyJkZXZpY2VfaWQiOiAxMTk3MTUsICJ0aW1lIjogMTU3NTE1ODQwMCwgImhlYXJ0cmF0ZSI6IDY2LjYyMjQ0OTczMTU3OTc2fQ==</td><td>{\"device_id\": 119715, \"time\": 1575158400, \"heartrate\": 66.62244973157976}</td></tr><tr><td>MTA3OTUy</td><td>107952</td><td>eyJkZXZpY2VfaWQiOiAxMDc5NTIsICJ0aW1lIjogMTU3NTE1ODQwMSwgImhlYXJ0cmF0ZSI6IDExNi4wMzEyNTg5ODAxMjA4N30=</td><td>{\"device_id\": 107952, \"time\": 1575158401, \"heartrate\": 116.03125898012087}</td></tr><tr><td>MTYxOTEw</td><td>161910</td><td>eyJkZXZpY2VfaWQiOiAxNjE5MTAsICJ0aW1lIjogMTU3NTE1ODQwMywgImhlYXJ0cmF0ZSI6IDgyLjMzMzg1OTEyMDg3MzE3fQ==</td><td>{\"device_id\": 161910, \"time\": 1575158403, \"heartrate\": 82.33385912087317}</td></tr><tr><td>MTE2NzA4</td><td>116708</td><td>eyJkZXZpY2VfaWQiOiAxMTY3MDgsICJ0aW1lIjogMTU3NTE1ODQxMiwgImhlYXJ0cmF0ZSI6IDgzLjEzNDUyNzA2MDg3NzA5fQ==</td><td>{\"device_id\": 116708, \"time\": 1575158412, \"heartrate\": 83.13452706087709}</td></tr><tr><td>MTYxMzQz</td><td>161343</td><td>eyJkZXZpY2VfaWQiOiAxNjEzNDMsICJ0aW1lIjogMTU3NTE1ODQyMCwgImhlYXJ0cmF0ZSI6IDU5LjcxODMyNzY1MTYyODA0fQ==</td><td>{\"device_id\": 161343, \"time\": 1575158420, \"heartrate\": 59.71832765162804}</td></tr><tr><td>MTEzMDI0</td><td>113024</td><td>eyJkZXZpY2VfaWQiOiAxMTMwMjQsICJ0aW1lIjogMTU3NTE1ODQyMywgImhlYXJ0cmF0ZSI6IDk0LjcyNTkyNjkxMDg1MjAxfQ==</td><td>{\"device_id\": 113024, \"time\": 1575158423, \"heartrate\": 94.72592691085201}</td></tr><tr><td>MTQxNjg3</td><td>141687</td><td>eyJkZXZpY2VfaWQiOiAxNDE2ODcsICJ0aW1lIjogMTU3NTE1ODQzMCwgImhlYXJ0cmF0ZSI6IDg0LjM4NzM2MzY4NjEzMDU0fQ==</td><td>{\"device_id\": 141687, \"time\": 1575158430, \"heartrate\": 84.38736368613054}</td></tr><tr><td>MTQyODM4</td><td>142838</td><td>eyJkZXZpY2VfaWQiOiAxNDI4MzgsICJ0aW1lIjogMTU3NTE1ODQzNCwgImhlYXJ0cmF0ZSI6IDg1Ljc2MzkzNjgwMDQ1MTAzfQ==</td><td>{\"device_id\": 142838, \"time\": 1575158434, \"heartrate\": 85.76393680045103}</td></tr><tr><td>MTk3OTMw</td><td>197930</td><td>eyJkZXZpY2VfaWQiOiAxOTc5MzAsICJ0aW1lIjogMTU3NTE1ODQ1MCwgImhlYXJ0cmF0ZSI6IDg0LjYyMDk2MzIyMTczNTA3fQ==</td><td>{\"device_id\": 197930, \"time\": 1575158450, \"heartrate\": 84.62096322173507}</td></tr><tr><td>MTEwMzY3</td><td>110367</td><td>eyJkZXZpY2VfaWQiOiAxMTAzNjcsICJ0aW1lIjogMTU3NTE1ODQ3MSwgImhlYXJ0cmF0ZSI6IDc2LjUwOTk5NTg3NjA2Njc0fQ==</td><td>{\"device_id\": 110367, \"time\": 1575158471, \"heartrate\": 76.50999587606674}</td></tr></tbody></table></div>"
      ]
     },
     "metadata": {
      "application/vnd.databricks.v1+output": {
       "addedWidgets": {},
       "aggData": [],
       "aggError": "",
       "aggOverflow": false,
       "aggSchema": [],
       "aggSeriesLimitReached": false,
       "aggType": "",
       "arguments": {},
       "columnCustomDisplayInfos": {},
       "data": [
        [
         "MTE5NzE1",
         "119715",
         "eyJkZXZpY2VfaWQiOiAxMTk3MTUsICJ0aW1lIjogMTU3NTE1ODQwMCwgImhlYXJ0cmF0ZSI6IDY2LjYyMjQ0OTczMTU3OTc2fQ==",
         "{\"device_id\": 119715, \"time\": 1575158400, \"heartrate\": 66.62244973157976}"
        ],
        [
         "MTA3OTUy",
         "107952",
         "eyJkZXZpY2VfaWQiOiAxMDc5NTIsICJ0aW1lIjogMTU3NTE1ODQwMSwgImhlYXJ0cmF0ZSI6IDExNi4wMzEyNTg5ODAxMjA4N30=",
         "{\"device_id\": 107952, \"time\": 1575158401, \"heartrate\": 116.03125898012087}"
        ],
        [
         "MTYxOTEw",
         "161910",
         "eyJkZXZpY2VfaWQiOiAxNjE5MTAsICJ0aW1lIjogMTU3NTE1ODQwMywgImhlYXJ0cmF0ZSI6IDgyLjMzMzg1OTEyMDg3MzE3fQ==",
         "{\"device_id\": 161910, \"time\": 1575158403, \"heartrate\": 82.33385912087317}"
        ],
        [
         "MTE2NzA4",
         "116708",
         "eyJkZXZpY2VfaWQiOiAxMTY3MDgsICJ0aW1lIjogMTU3NTE1ODQxMiwgImhlYXJ0cmF0ZSI6IDgzLjEzNDUyNzA2MDg3NzA5fQ==",
         "{\"device_id\": 116708, \"time\": 1575158412, \"heartrate\": 83.13452706087709}"
        ],
        [
         "MTYxMzQz",
         "161343",
         "eyJkZXZpY2VfaWQiOiAxNjEzNDMsICJ0aW1lIjogMTU3NTE1ODQyMCwgImhlYXJ0cmF0ZSI6IDU5LjcxODMyNzY1MTYyODA0fQ==",
         "{\"device_id\": 161343, \"time\": 1575158420, \"heartrate\": 59.71832765162804}"
        ],
        [
         "MTEzMDI0",
         "113024",
         "eyJkZXZpY2VfaWQiOiAxMTMwMjQsICJ0aW1lIjogMTU3NTE1ODQyMywgImhlYXJ0cmF0ZSI6IDk0LjcyNTkyNjkxMDg1MjAxfQ==",
         "{\"device_id\": 113024, \"time\": 1575158423, \"heartrate\": 94.72592691085201}"
        ],
        [
         "MTQxNjg3",
         "141687",
         "eyJkZXZpY2VfaWQiOiAxNDE2ODcsICJ0aW1lIjogMTU3NTE1ODQzMCwgImhlYXJ0cmF0ZSI6IDg0LjM4NzM2MzY4NjEzMDU0fQ==",
         "{\"device_id\": 141687, \"time\": 1575158430, \"heartrate\": 84.38736368613054}"
        ],
        [
         "MTQyODM4",
         "142838",
         "eyJkZXZpY2VfaWQiOiAxNDI4MzgsICJ0aW1lIjogMTU3NTE1ODQzNCwgImhlYXJ0cmF0ZSI6IDg1Ljc2MzkzNjgwMDQ1MTAzfQ==",
         "{\"device_id\": 142838, \"time\": 1575158434, \"heartrate\": 85.76393680045103}"
        ],
        [
         "MTk3OTMw",
         "197930",
         "eyJkZXZpY2VfaWQiOiAxOTc5MzAsICJ0aW1lIjogMTU3NTE1ODQ1MCwgImhlYXJ0cmF0ZSI6IDg0LjYyMDk2MzIyMTczNTA3fQ==",
         "{\"device_id\": 197930, \"time\": 1575158450, \"heartrate\": 84.62096322173507}"
        ],
        [
         "MTEwMzY3",
         "110367",
         "eyJkZXZpY2VfaWQiOiAxMTAzNjcsICJ0aW1lIjogMTU3NTE1ODQ3MSwgImhlYXJ0cmF0ZSI6IDc2LjUwOTk5NTg3NjA2Njc0fQ==",
         "{\"device_id\": 110367, \"time\": 1575158471, \"heartrate\": 76.50999587606674}"
        ]
       ],
       "datasetInfos": [],
       "dbfsResultPath": null,
       "isJsonSchema": true,
       "metadata": {},
       "overflow": false,
       "plotOptions": {
        "customPlotOptions": {},
        "displayType": "table",
        "pivotAggregation": null,
        "pivotColumns": null,
        "xColumns": null,
        "yColumns": null
       },
       "removedWidgets": [],
       "schema": [
        {
         "metadata": "{}",
         "name": "key",
         "type": "\"binary\""
        },
        {
         "metadata": "{}",
         "name": "key_decoded",
         "type": "\"string\""
        },
        {
         "metadata": "{}",
         "name": "value",
         "type": "\"binary\""
        },
        {
         "metadata": "{}",
         "name": "value_decoded",
         "type": "\"string\""
        }
       ],
       "type": "table"
      }
     },
     "output_type": "display_data"
    }
   ],
   "source": [
    "display(batch_df.withColumn(\"key_decoded\",batch_df.key.cast('string')) \\\n",
    "        .withColumn(\"value_decoded\",batch_df.value.cast('string')) \\\n",
    "        .select('key','key_decoded','value','value_decoded')\\\n",
    "        .limit(10))"
   ]
  },
  {
   "cell_type": "markdown",
   "metadata": {
    "application/vnd.databricks.v1+cell": {
     "cellMetadata": {
      "byteLimit": 2048000,
      "rowLimit": 10000
     },
     "inputWidgets": {},
     "nuid": "65ce1a15-5500-4d04-8e06-47eb934a4e39",
     "showTitle": false,
     "title": ""
    }
   },
   "source": [
    "###Reviewing decoded data"
   ]
  },
  {
   "cell_type": "markdown",
   "metadata": {
    "application/vnd.databricks.v1+cell": {
     "cellMetadata": {
      "byteLimit": 2048000,
      "rowLimit": 10000
     },
     "inputWidgets": {},
     "nuid": "db0d12ce-0ccc-4f0d-a968-e20147726e3b",
     "showTitle": false,
     "title": ""
    }
   },
   "source": [
    "\n",
    "Keeping in mind that the raw data have three different topics, I'll first ensure that the decoded information is homogeneous between the same topic"
   ]
  },
  {
   "cell_type": "code",
   "execution_count": 0,
   "metadata": {
    "application/vnd.databricks.v1+cell": {
     "cellMetadata": {
      "byteLimit": 2048000,
      "rowLimit": 10000
     },
     "inputWidgets": {},
     "nuid": "d7127fdf-2d89-4481-b69e-4e34829eb6f3",
     "showTitle": true,
     "title": "Displaying data for each topic"
    }
   },
   "outputs": [
    {
     "output_type": "display_data",
     "data": {
      "text/html": [
       "<style scoped>\n",
       "  .table-result-container {\n",
       "    max-height: 300px;\n",
       "    overflow: auto;\n",
       "  }\n",
       "  table, th, td {\n",
       "    border: 1px solid black;\n",
       "    border-collapse: collapse;\n",
       "  }\n",
       "  th, td {\n",
       "    padding: 5px;\n",
       "  }\n",
       "  th {\n",
       "    text-align: left;\n",
       "  }\n",
       "</style><div class='table-result-container'><table class='table-result'><thead style='background-color: white'><tr><th>topic</th><th>key_decoded</th><th>value_decoded</th></tr></thead><tbody><tr><td>workout</td><td>40872</td><td>{\"user_id\": 40872, \"workout_id\": 8, \"timestamp\": 1575229675.0, \"action\": \"start\", \"session_id\": 76}</td></tr><tr><td>workout</td><td>29213</td><td>{\"user_id\": 29213, \"workout_id\": 13, \"timestamp\": 1575196562.0, \"action\": \"start\", \"session_id\": 295}</td></tr><tr><td>workout</td><td>29213</td><td>{\"user_id\": 29213, \"workout_id\": 13, \"timestamp\": 1575200016.0, \"action\": \"stop\", \"session_id\": 295}</td></tr><tr><td>workout</td><td>27703</td><td>{\"user_id\": 27703, \"workout_id\": 47, \"timestamp\": 1575203433.0, \"action\": \"start\", \"session_id\": 456}</td></tr><tr><td>workout</td><td>14508</td><td>{\"user_id\": 14508, \"workout_id\": 31, \"timestamp\": 1575224965.0, \"action\": \"start\", \"session_id\": 392}</td></tr></tbody></table></div>"
      ]
     },
     "metadata": {
      "application/vnd.databricks.v1+output": {
       "addedWidgets": {},
       "aggData": [],
       "aggError": "",
       "aggOverflow": false,
       "aggSchema": [],
       "aggSeriesLimitReached": false,
       "aggType": "",
       "arguments": {},
       "columnCustomDisplayInfos": {},
       "data": [
        [
         "workout",
         "40872",
         "{\"user_id\": 40872, \"workout_id\": 8, \"timestamp\": 1575229675.0, \"action\": \"start\", \"session_id\": 76}"
        ],
        [
         "workout",
         "29213",
         "{\"user_id\": 29213, \"workout_id\": 13, \"timestamp\": 1575196562.0, \"action\": \"start\", \"session_id\": 295}"
        ],
        [
         "workout",
         "29213",
         "{\"user_id\": 29213, \"workout_id\": 13, \"timestamp\": 1575200016.0, \"action\": \"stop\", \"session_id\": 295}"
        ],
        [
         "workout",
         "27703",
         "{\"user_id\": 27703, \"workout_id\": 47, \"timestamp\": 1575203433.0, \"action\": \"start\", \"session_id\": 456}"
        ],
        [
         "workout",
         "14508",
         "{\"user_id\": 14508, \"workout_id\": 31, \"timestamp\": 1575224965.0, \"action\": \"start\", \"session_id\": 392}"
        ]
       ],
       "datasetInfos": [],
       "dbfsResultPath": null,
       "isJsonSchema": true,
       "metadata": {},
       "overflow": false,
       "plotOptions": {
        "customPlotOptions": {},
        "displayType": "table",
        "pivotAggregation": null,
        "pivotColumns": null,
        "xColumns": null,
        "yColumns": null
       },
       "removedWidgets": [],
       "schema": [
        {
         "metadata": "{}",
         "name": "topic",
         "type": "\"string\""
        },
        {
         "metadata": "{}",
         "name": "key_decoded",
         "type": "\"string\""
        },
        {
         "metadata": "{}",
         "name": "value_decoded",
         "type": "\"string\""
        }
       ],
       "type": "table"
      }
     },
     "output_type": "display_data"
    },
    {
     "output_type": "display_data",
     "data": {
      "text/html": [
       "<style scoped>\n",
       "  .table-result-container {\n",
       "    max-height: 300px;\n",
       "    overflow: auto;\n",
       "  }\n",
       "  table, th, td {\n",
       "    border: 1px solid black;\n",
       "    border-collapse: collapse;\n",
       "  }\n",
       "  th, td {\n",
       "    padding: 5px;\n",
       "  }\n",
       "  th {\n",
       "    text-align: left;\n",
       "  }\n",
       "</style><div class='table-result-container'><table class='table-result'><thead style='background-color: white'><tr><th>topic</th><th>key_decoded</th><th>value_decoded</th></tr></thead><tbody><tr><td>bpm</td><td>119715</td><td>{\"device_id\": 119715, \"time\": 1575158400, \"heartrate\": 66.62244973157976}</td></tr><tr><td>bpm</td><td>107952</td><td>{\"device_id\": 107952, \"time\": 1575158401, \"heartrate\": 116.03125898012087}</td></tr><tr><td>bpm</td><td>161910</td><td>{\"device_id\": 161910, \"time\": 1575158403, \"heartrate\": 82.33385912087317}</td></tr><tr><td>bpm</td><td>116708</td><td>{\"device_id\": 116708, \"time\": 1575158412, \"heartrate\": 83.13452706087709}</td></tr><tr><td>bpm</td><td>161343</td><td>{\"device_id\": 161343, \"time\": 1575158420, \"heartrate\": 59.71832765162804}</td></tr></tbody></table></div>"
      ]
     },
     "metadata": {
      "application/vnd.databricks.v1+output": {
       "addedWidgets": {},
       "aggData": [],
       "aggError": "",
       "aggOverflow": false,
       "aggSchema": [],
       "aggSeriesLimitReached": false,
       "aggType": "",
       "arguments": {},
       "columnCustomDisplayInfos": {},
       "data": [
        [
         "bpm",
         "119715",
         "{\"device_id\": 119715, \"time\": 1575158400, \"heartrate\": 66.62244973157976}"
        ],
        [
         "bpm",
         "107952",
         "{\"device_id\": 107952, \"time\": 1575158401, \"heartrate\": 116.03125898012087}"
        ],
        [
         "bpm",
         "161910",
         "{\"device_id\": 161910, \"time\": 1575158403, \"heartrate\": 82.33385912087317}"
        ],
        [
         "bpm",
         "116708",
         "{\"device_id\": 116708, \"time\": 1575158412, \"heartrate\": 83.13452706087709}"
        ],
        [
         "bpm",
         "161343",
         "{\"device_id\": 161343, \"time\": 1575158420, \"heartrate\": 59.71832765162804}"
        ]
       ],
       "datasetInfos": [],
       "dbfsResultPath": null,
       "isJsonSchema": true,
       "metadata": {},
       "overflow": false,
       "plotOptions": {
        "customPlotOptions": {},
        "displayType": "table",
        "pivotAggregation": null,
        "pivotColumns": null,
        "xColumns": null,
        "yColumns": null
       },
       "removedWidgets": [],
       "schema": [
        {
         "metadata": "{}",
         "name": "topic",
         "type": "\"string\""
        },
        {
         "metadata": "{}",
         "name": "key_decoded",
         "type": "\"string\""
        },
        {
         "metadata": "{}",
         "name": "value_decoded",
         "type": "\"string\""
        }
       ],
       "type": "table"
      }
     },
     "output_type": "display_data"
    },
    {
     "output_type": "display_data",
     "data": {
      "text/html": [
       "<style scoped>\n",
       "  .table-result-container {\n",
       "    max-height: 300px;\n",
       "    overflow: auto;\n",
       "  }\n",
       "  table, th, td {\n",
       "    border: 1px solid black;\n",
       "    border-collapse: collapse;\n",
       "  }\n",
       "  th, td {\n",
       "    padding: 5px;\n",
       "  }\n",
       "  th {\n",
       "    text-align: left;\n",
       "  }\n",
       "</style><div class='table-result-container'><table class='table-result'><thead style='background-color: white'><tr><th>topic</th><th>key_decoded</th><th>value_decoded</th></tr></thead><tbody><tr><td>user_info</td><td>27306</td><td>{\"user_id\": 27306, \"update_type\": \"new\", \"timestamp\": 1557184117, \"dob\": \"07/16/1958\", \"sex\": \"F\", \"gender\": \"F\", \"first_name\": \"Stephanie\", \"last_name\": \"Martinez\", \"address\": {\"street_address\": \"1767 Katherine Expressway Suite 062\", \"city\": \"Edwards\", \"state\": \"CA\", \"zip\": 93523}}</td></tr><tr><td>user_info</td><td>31362</td><td>{\"user_id\": 31362, \"update_type\": \"new\", \"timestamp\": 1555539598, \"dob\": \"02/01/2001\", \"sex\": \"F\", \"gender\": \"F\", \"first_name\": \"Shelley\", \"last_name\": \"Andrews\", \"address\": {\"street_address\": \"4791 Nathan Turnpike Suite 540\", \"city\": \"Los Angeles\", \"state\": \"CA\", \"zip\": 90024}}</td></tr><tr><td>user_info</td><td>27703</td><td>{\"user_id\": 27703, \"update_type\": \"new\", \"timestamp\": 1557989967, \"dob\": \"11/19/1944\", \"sex\": \"M\", \"gender\": \"M\", \"first_name\": \"Joshua\", \"last_name\": \"Mitchell\", \"address\": {\"street_address\": \"843 Hannah Corners\", \"city\": \"Woodland Hills\", \"state\": \"CA\", \"zip\": 91367}}</td></tr><tr><td>user_info</td><td>42794</td><td>{\"user_id\": 42794, \"update_type\": \"new\", \"timestamp\": 1558904984, \"dob\": \"05/11/1988\", \"sex\": \"M\", \"gender\": \"M\", \"first_name\": \"Brian\", \"last_name\": \"Williams\", \"address\": {\"street_address\": \"27880 Dawn Lodge\", \"city\": \"Paramount\", \"state\": \"CA\", \"zip\": 90723}}</td></tr><tr><td>user_info</td><td>12140</td><td>{\"user_id\": 12140, \"update_type\": \"new\", \"timestamp\": 1558694443, \"dob\": \"02/02/1999\", \"sex\": \"M\", \"gender\": \"M\", \"first_name\": \"Robert\", \"last_name\": \"Clark\", \"address\": {\"street_address\": \"68994 Steven Vista\", \"city\": \"Pearblossom\", \"state\": \"CA\", \"zip\": 93553}}</td></tr></tbody></table></div>"
      ]
     },
     "metadata": {
      "application/vnd.databricks.v1+output": {
       "addedWidgets": {},
       "aggData": [],
       "aggError": "",
       "aggOverflow": false,
       "aggSchema": [],
       "aggSeriesLimitReached": false,
       "aggType": "",
       "arguments": {},
       "columnCustomDisplayInfos": {},
       "data": [
        [
         "user_info",
         "27306",
         "{\"user_id\": 27306, \"update_type\": \"new\", \"timestamp\": 1557184117, \"dob\": \"07/16/1958\", \"sex\": \"F\", \"gender\": \"F\", \"first_name\": \"Stephanie\", \"last_name\": \"Martinez\", \"address\": {\"street_address\": \"1767 Katherine Expressway Suite 062\", \"city\": \"Edwards\", \"state\": \"CA\", \"zip\": 93523}}"
        ],
        [
         "user_info",
         "31362",
         "{\"user_id\": 31362, \"update_type\": \"new\", \"timestamp\": 1555539598, \"dob\": \"02/01/2001\", \"sex\": \"F\", \"gender\": \"F\", \"first_name\": \"Shelley\", \"last_name\": \"Andrews\", \"address\": {\"street_address\": \"4791 Nathan Turnpike Suite 540\", \"city\": \"Los Angeles\", \"state\": \"CA\", \"zip\": 90024}}"
        ],
        [
         "user_info",
         "27703",
         "{\"user_id\": 27703, \"update_type\": \"new\", \"timestamp\": 1557989967, \"dob\": \"11/19/1944\", \"sex\": \"M\", \"gender\": \"M\", \"first_name\": \"Joshua\", \"last_name\": \"Mitchell\", \"address\": {\"street_address\": \"843 Hannah Corners\", \"city\": \"Woodland Hills\", \"state\": \"CA\", \"zip\": 91367}}"
        ],
        [
         "user_info",
         "42794",
         "{\"user_id\": 42794, \"update_type\": \"new\", \"timestamp\": 1558904984, \"dob\": \"05/11/1988\", \"sex\": \"M\", \"gender\": \"M\", \"first_name\": \"Brian\", \"last_name\": \"Williams\", \"address\": {\"street_address\": \"27880 Dawn Lodge\", \"city\": \"Paramount\", \"state\": \"CA\", \"zip\": 90723}}"
        ],
        [
         "user_info",
         "12140",
         "{\"user_id\": 12140, \"update_type\": \"new\", \"timestamp\": 1558694443, \"dob\": \"02/02/1999\", \"sex\": \"M\", \"gender\": \"M\", \"first_name\": \"Robert\", \"last_name\": \"Clark\", \"address\": {\"street_address\": \"68994 Steven Vista\", \"city\": \"Pearblossom\", \"state\": \"CA\", \"zip\": 93553}}"
        ]
       ],
       "datasetInfos": [],
       "dbfsResultPath": null,
       "isJsonSchema": true,
       "metadata": {},
       "overflow": false,
       "plotOptions": {
        "customPlotOptions": {},
        "displayType": "table",
        "pivotAggregation": null,
        "pivotColumns": null,
        "xColumns": null,
        "yColumns": null
       },
       "removedWidgets": [],
       "schema": [
        {
         "metadata": "{}",
         "name": "topic",
         "type": "\"string\""
        },
        {
         "metadata": "{}",
         "name": "key_decoded",
         "type": "\"string\""
        },
        {
         "metadata": "{}",
         "name": "value_decoded",
         "type": "\"string\""
        }
       ],
       "type": "table"
      }
     },
     "output_type": "display_data"
    }
   ],
   "source": [
    "topics = ('workout','bpm','user_info')\n",
    "\n",
    "for i in topics:\n",
    "        display(batch_df.filter(batch_df.topic == i)\n",
    "                        .withColumn(\"key_decoded\",batch_df.key.cast('string'))\n",
    "                        .withColumn(\"value_decoded\",batch_df.value.cast('string'))\n",
    "                        .select('topic','key_decoded','value_decoded')\n",
    "                        .limit(5)\n",
    "              )\n"
   ]
  },
  {
   "cell_type": "code",
   "execution_count": 0,
   "metadata": {
    "application/vnd.databricks.v1+cell": {
     "cellMetadata": {
      "byteLimit": 2048000,
      "rowLimit": 10000
     },
     "inputWidgets": {},
     "nuid": "274014a3-c12f-418b-a8ad-1e68b4281246",
     "showTitle": true,
     "title": "Count for each topic"
    }
   },
   "outputs": [
    {
     "output_type": "stream",
     "name": "stdout",
     "output_type": "stream",
     "text": [
      "number of workout rows = 152\nnumber of bpm rows = 879493\nnumber of user_info rows = 46\n"
     ]
    }
   ],
   "source": [
    "for i in topics:\n",
    "        count = batch_df.filter(batch_df.topic == i).count()\n",
    "        print(f\"number of {i} rows = {count}\")"
   ]
  },
  {
   "cell_type": "markdown",
   "metadata": {
    "application/vnd.databricks.v1+cell": {
     "cellMetadata": {
      "byteLimit": 2048000,
      "rowLimit": 10000
     },
     "inputWidgets": {},
     "nuid": "b7f33172-84fc-48fe-ad15-4c386f318ccd",
     "showTitle": false,
     "title": ""
    }
   },
   "source": [
    "Upon first inspection, after decoding: \n",
    "<br>\n",
    "- The data don't need further cleaning\n",
    "- Key column represents the topic ID\n",
    "- All key information is on the value column\n",
    "<br>\n",
    "<br>\n",
    "I'm ready to write the decoded data into the main dataframe and begin the work in each topic"
   ]
  },
  {
   "cell_type": "code",
   "execution_count": 0,
   "metadata": {
    "application/vnd.databricks.v1+cell": {
     "cellMetadata": {
      "byteLimit": 2048000,
      "rowLimit": 10000
     },
     "inputWidgets": {},
     "nuid": "0d585aa5-08cd-4ee9-9b71-e35f0d754b48",
     "showTitle": true,
     "title": "Writing decoded data into dataframe"
    }
   },
   "outputs": [],
   "source": [
    "batch_df = batch_df.withColumn(\"key\",batch_df.key.cast('string')) \\\n",
    "                   .withColumn(\"value\",batch_df.value.cast('string'))\\\n",
    "                   .select('key', 'value', 'topic', 'partition', 'offset', 'timestamp', 'date', 'week_part')"
   ]
  },
  {
   "cell_type": "markdown",
   "metadata": {
    "application/vnd.databricks.v1+cell": {
     "cellMetadata": {
      "byteLimit": 2048000,
      "rowLimit": 10000
     },
     "inputWidgets": {},
     "nuid": "586a3709-5e5b-43f4-aa62-7b05f9fa999e",
     "showTitle": false,
     "title": ""
    }
   },
   "source": [
    "# Processing the Heart Rate table"
   ]
  },
  {
   "cell_type": "code",
   "execution_count": 0,
   "metadata": {
    "application/vnd.databricks.v1+cell": {
     "cellMetadata": {
      "byteLimit": 2048000,
      "rowLimit": 10000
     },
     "inputWidgets": {},
     "nuid": "68bd0016-c8f8-4ab0-b4a1-60bc24b78e29",
     "showTitle": true,
     "title": "Filtering only heart rate rows"
    }
   },
   "outputs": [],
   "source": [
    "batch_df_bpm = batch_df.where(batch_df.topic == 'bpm')"
   ]
  },
  {
   "cell_type": "markdown",
   "metadata": {
    "application/vnd.databricks.v1+cell": {
     "cellMetadata": {
      "byteLimit": 2048000,
      "rowLimit": 10000
     },
     "inputWidgets": {},
     "nuid": "c1d8a378-f8db-418b-b162-83acda07220f",
     "showTitle": false,
     "title": ""
    }
   },
   "source": [
    "#####Working out how to tranform the json column into a table and the data types of each new column"
   ]
  },
  {
   "cell_type": "code",
   "execution_count": 0,
   "metadata": {
    "application/vnd.databricks.v1+cell": {
     "cellMetadata": {
      "byteLimit": 2048000,
      "rowLimit": 10000
     },
     "inputWidgets": {},
     "nuid": "7f26b92a-6810-4504-aa25-5bfe4e64bb3e",
     "showTitle": true,
     "title": "Checking the data to figure the types"
    }
   },
   "outputs": [
    {
     "output_type": "display_data",
     "data": {
      "text/html": [
       "<style scoped>\n",
       "  .table-result-container {\n",
       "    max-height: 300px;\n",
       "    overflow: auto;\n",
       "  }\n",
       "  table, th, td {\n",
       "    border: 1px solid black;\n",
       "    border-collapse: collapse;\n",
       "  }\n",
       "  th, td {\n",
       "    padding: 5px;\n",
       "  }\n",
       "  th {\n",
       "    text-align: left;\n",
       "  }\n",
       "</style><div class='table-result-container'><table class='table-result'><thead style='background-color: white'><tr><th>key</th><th>value</th><th>topic</th><th>partition</th><th>offset</th><th>timestamp</th><th>date</th><th>week_part</th></tr></thead><tbody><tr><td>119715</td><td>{\"device_id\": 119715, \"time\": 1575158400, \"heartrate\": 66.62244973157976}</td><td>bpm</td><td>0</td><td>65087128</td><td>1575158410818</td><td>2019-12-01</td><td>2019-48</td></tr><tr><td>107952</td><td>{\"device_id\": 107952, \"time\": 1575158401, \"heartrate\": 116.03125898012087}</td><td>bpm</td><td>2</td><td>65102257</td><td>1575158411394</td><td>2019-12-01</td><td>2019-48</td></tr><tr><td>161910</td><td>{\"device_id\": 161910, \"time\": 1575158403, \"heartrate\": 82.33385912087317}</td><td>bpm</td><td>0</td><td>65087131</td><td>1575158417678</td><td>2019-12-01</td><td>2019-48</td></tr><tr><td>116708</td><td>{\"device_id\": 116708, \"time\": 1575158412, \"heartrate\": 83.13452706087709}</td><td>bpm</td><td>3</td><td>64899138</td><td>1575158421868</td><td>2019-12-01</td><td>2019-48</td></tr><tr><td>161343</td><td>{\"device_id\": 161343, \"time\": 1575158420, \"heartrate\": 59.71832765162804}</td><td>bpm</td><td>3</td><td>64899148</td><td>1575158430841</td><td>2019-12-01</td><td>2019-48</td></tr><tr><td>113024</td><td>{\"device_id\": 113024, \"time\": 1575158423, \"heartrate\": 94.72592691085201}</td><td>bpm</td><td>4</td><td>65002565</td><td>1575158432217</td><td>2019-12-01</td><td>2019-48</td></tr><tr><td>141687</td><td>{\"device_id\": 141687, \"time\": 1575158430, \"heartrate\": 84.38736368613054}</td><td>bpm</td><td>2</td><td>65102289</td><td>1575158437927</td><td>2019-12-01</td><td>2019-48</td></tr><tr><td>142838</td><td>{\"device_id\": 142838, \"time\": 1575158434, \"heartrate\": 85.76393680045103}</td><td>bpm</td><td>3</td><td>64899162</td><td>1575158445876</td><td>2019-12-01</td><td>2019-48</td></tr><tr><td>197930</td><td>{\"device_id\": 197930, \"time\": 1575158450, \"heartrate\": 84.62096322173507}</td><td>bpm</td><td>0</td><td>65087190</td><td>1575158460427</td><td>2019-12-01</td><td>2019-48</td></tr><tr><td>110367</td><td>{\"device_id\": 110367, \"time\": 1575158471, \"heartrate\": 76.50999587606674}</td><td>bpm</td><td>2</td><td>65102354</td><td>1575158482354</td><td>2019-12-01</td><td>2019-48</td></tr></tbody></table></div>"
      ]
     },
     "metadata": {
      "application/vnd.databricks.v1+output": {
       "addedWidgets": {},
       "aggData": [],
       "aggError": "",
       "aggOverflow": false,
       "aggSchema": [],
       "aggSeriesLimitReached": false,
       "aggType": "",
       "arguments": {},
       "columnCustomDisplayInfos": {},
       "data": [
        [
         "119715",
         "{\"device_id\": 119715, \"time\": 1575158400, \"heartrate\": 66.62244973157976}",
         "bpm",
         0,
         65087128,
         1575158410818,
         "2019-12-01",
         "2019-48"
        ],
        [
         "107952",
         "{\"device_id\": 107952, \"time\": 1575158401, \"heartrate\": 116.03125898012087}",
         "bpm",
         2,
         65102257,
         1575158411394,
         "2019-12-01",
         "2019-48"
        ],
        [
         "161910",
         "{\"device_id\": 161910, \"time\": 1575158403, \"heartrate\": 82.33385912087317}",
         "bpm",
         0,
         65087131,
         1575158417678,
         "2019-12-01",
         "2019-48"
        ],
        [
         "116708",
         "{\"device_id\": 116708, \"time\": 1575158412, \"heartrate\": 83.13452706087709}",
         "bpm",
         3,
         64899138,
         1575158421868,
         "2019-12-01",
         "2019-48"
        ],
        [
         "161343",
         "{\"device_id\": 161343, \"time\": 1575158420, \"heartrate\": 59.71832765162804}",
         "bpm",
         3,
         64899148,
         1575158430841,
         "2019-12-01",
         "2019-48"
        ],
        [
         "113024",
         "{\"device_id\": 113024, \"time\": 1575158423, \"heartrate\": 94.72592691085201}",
         "bpm",
         4,
         65002565,
         1575158432217,
         "2019-12-01",
         "2019-48"
        ],
        [
         "141687",
         "{\"device_id\": 141687, \"time\": 1575158430, \"heartrate\": 84.38736368613054}",
         "bpm",
         2,
         65102289,
         1575158437927,
         "2019-12-01",
         "2019-48"
        ],
        [
         "142838",
         "{\"device_id\": 142838, \"time\": 1575158434, \"heartrate\": 85.76393680045103}",
         "bpm",
         3,
         64899162,
         1575158445876,
         "2019-12-01",
         "2019-48"
        ],
        [
         "197930",
         "{\"device_id\": 197930, \"time\": 1575158450, \"heartrate\": 84.62096322173507}",
         "bpm",
         0,
         65087190,
         1575158460427,
         "2019-12-01",
         "2019-48"
        ],
        [
         "110367",
         "{\"device_id\": 110367, \"time\": 1575158471, \"heartrate\": 76.50999587606674}",
         "bpm",
         2,
         65102354,
         1575158482354,
         "2019-12-01",
         "2019-48"
        ]
       ],
       "datasetInfos": [],
       "dbfsResultPath": null,
       "isJsonSchema": true,
       "metadata": {},
       "overflow": false,
       "plotOptions": {
        "customPlotOptions": {},
        "displayType": "table",
        "pivotAggregation": null,
        "pivotColumns": null,
        "xColumns": null,
        "yColumns": null
       },
       "removedWidgets": [],
       "schema": [
        {
         "metadata": "{}",
         "name": "key",
         "type": "\"string\""
        },
        {
         "metadata": "{}",
         "name": "value",
         "type": "\"string\""
        },
        {
         "metadata": "{}",
         "name": "topic",
         "type": "\"string\""
        },
        {
         "metadata": "{}",
         "name": "partition",
         "type": "\"long\""
        },
        {
         "metadata": "{}",
         "name": "offset",
         "type": "\"long\""
        },
        {
         "metadata": "{}",
         "name": "timestamp",
         "type": "\"long\""
        },
        {
         "metadata": "{}",
         "name": "date",
         "type": "\"date\""
        },
        {
         "metadata": "{}",
         "name": "week_part",
         "type": "\"string\""
        }
       ],
       "type": "table"
      }
     },
     "output_type": "display_data"
    }
   ],
   "source": [
    "display(batch_df_bpm.limit(10))"
   ]
  },
  {
   "cell_type": "code",
   "execution_count": 0,
   "metadata": {
    "application/vnd.databricks.v1+cell": {
     "cellMetadata": {
      "byteLimit": 2048000,
      "rowLimit": 10000
     },
     "inputWidgets": {},
     "nuid": "25516476-31c6-464c-87e2-32e3147ac69e",
     "showTitle": true,
     "title": "Json tranformation and data types"
    }
   },
   "outputs": [
    {
     "output_type": "display_data",
     "data": {
      "text/html": [
       "<style scoped>\n",
       "  .table-result-container {\n",
       "    max-height: 300px;\n",
       "    overflow: auto;\n",
       "  }\n",
       "  table, th, td {\n",
       "    border: 1px solid black;\n",
       "    border-collapse: collapse;\n",
       "  }\n",
       "  th, td {\n",
       "    padding: 5px;\n",
       "  }\n",
       "  th {\n",
       "    text-align: left;\n",
       "  }\n",
       "</style><div class='table-result-container'><table class='table-result'><thead style='background-color: white'><tr><th>device_id</th><th>time</th><th>heartrate</th></tr></thead><tbody><tr><td>163871</td><td>2019-12-02T15:40:59.000+0000</td><td>81.52409462853655</td></tr><tr><td>102558</td><td>2019-12-02T15:41:01.000+0000</td><td>94.45364094154255</td></tr><tr><td>161343</td><td>2019-12-02T15:41:00.000+0000</td><td>66.72305029774591</td></tr><tr><td>135279</td><td>2019-12-02T15:41:01.000+0000</td><td>90.95946373662196</td></tr><tr><td>124880</td><td>2019-12-02T15:41:11.000+0000</td><td>76.33347856472393</td></tr><tr><td>118440</td><td>2019-12-02T15:41:18.000+0000</td><td>81.64002273572957</td></tr><tr><td>102558</td><td>2019-12-02T15:41:20.000+0000</td><td>85.17778434335672</td></tr><tr><td>197930</td><td>2019-12-02T15:41:22.000+0000</td><td>85.95268901953999</td></tr><tr><td>107952</td><td>2019-12-02T15:41:32.000+0000</td><td>107.37487817461707</td></tr><tr><td>116708</td><td>2019-12-02T15:41:21.000+0000</td><td>89.36147934287175</td></tr></tbody></table></div>"
      ]
     },
     "metadata": {
      "application/vnd.databricks.v1+output": {
       "addedWidgets": {},
       "aggData": [],
       "aggError": "",
       "aggOverflow": false,
       "aggSchema": [],
       "aggSeriesLimitReached": false,
       "aggType": "",
       "arguments": {},
       "columnCustomDisplayInfos": {},
       "data": [
        [
         163871,
         "2019-12-02T15:40:59.000+0000",
         81.52409462853655
        ],
        [
         102558,
         "2019-12-02T15:41:01.000+0000",
         94.45364094154255
        ],
        [
         161343,
         "2019-12-02T15:41:00.000+0000",
         66.72305029774591
        ],
        [
         135279,
         "2019-12-02T15:41:01.000+0000",
         90.95946373662196
        ],
        [
         124880,
         "2019-12-02T15:41:11.000+0000",
         76.33347856472393
        ],
        [
         118440,
         "2019-12-02T15:41:18.000+0000",
         81.64002273572957
        ],
        [
         102558,
         "2019-12-02T15:41:20.000+0000",
         85.17778434335672
        ],
        [
         197930,
         "2019-12-02T15:41:22.000+0000",
         85.95268901953999
        ],
        [
         107952,
         "2019-12-02T15:41:32.000+0000",
         107.37487817461707
        ],
        [
         116708,
         "2019-12-02T15:41:21.000+0000",
         89.36147934287175
        ]
       ],
       "datasetInfos": [],
       "dbfsResultPath": null,
       "isJsonSchema": true,
       "metadata": {},
       "overflow": false,
       "plotOptions": {
        "customPlotOptions": {},
        "displayType": "table",
        "pivotAggregation": null,
        "pivotColumns": null,
        "xColumns": null,
        "yColumns": null
       },
       "removedWidgets": [],
       "schema": [
        {
         "metadata": "{}",
         "name": "device_id",
         "type": "\"integer\""
        },
        {
         "metadata": "{}",
         "name": "time",
         "type": "\"timestamp\""
        },
        {
         "metadata": "{}",
         "name": "heartrate",
         "type": "\"double\""
        }
       ],
       "type": "table"
      }
     },
     "output_type": "display_data"
    }
   ],
   "source": [
    "schema = t.StructType(\n",
    "    [\n",
    "        t.StructField('device_id', t.IntegerType(), True),\n",
    "        t.StructField('time', t.TimestampType(), True),\n",
    "        t.StructField('heartrate', t.DoubleType(), True)\n",
    "    ]\n",
    ")\n",
    "\n",
    "bpm_df = batch_df_bpm.withColumn('value', f.from_json('value', schema))\\\n",
    "                     .select(f.col('value.*'))\n",
    "\n",
    "display(bpm_df.limit(10))"
   ]
  },
  {
   "cell_type": "markdown",
   "metadata": {
    "application/vnd.databricks.v1+cell": {
     "cellMetadata": {
      "byteLimit": 2048000,
      "rowLimit": 10000
     },
     "inputWidgets": {},
     "nuid": "1ad43160-3563-435c-80aa-15d33bc2a279",
     "showTitle": false,
     "title": ""
    }
   },
   "source": [
    "#####Checking for duplicate rows"
   ]
  },
  {
   "cell_type": "code",
   "execution_count": 0,
   "metadata": {
    "application/vnd.databricks.v1+cell": {
     "cellMetadata": {
      "byteLimit": 2048000,
      "rowLimit": 10000
     },
     "inputWidgets": {},
     "nuid": "a14ccdae-22ca-4b86-8fc4-59ce527970a2",
     "showTitle": true,
     "title": "Count of fully equal rows"
    }
   },
   "outputs": [
    {
     "output_type": "stream",
     "name": "stdout",
     "output_type": "stream",
     "text": [
      "Out[12]: 731987"
     ]
    }
   ],
   "source": [
    "bpm_df.dropDuplicates().count()"
   ]
  },
  {
   "cell_type": "code",
   "execution_count": 0,
   "metadata": {
    "application/vnd.databricks.v1+cell": {
     "cellMetadata": {
      "byteLimit": 2048000,
      "rowLimit": 10000
     },
     "inputWidgets": {},
     "nuid": "0e9f1927-537c-4854-88b1-89be62c0eff6",
     "showTitle": true,
     "title": "Count of partially equal rows"
    }
   },
   "outputs": [
    {
     "output_type": "stream",
     "name": "stdout",
     "output_type": "stream",
     "text": [
      "Out[13]: 731987"
     ]
    }
   ],
   "source": [
    "bpm_df.dropDuplicates([\"device_id\", \"time\"]).count()"
   ]
  },
  {
   "cell_type": "markdown",
   "metadata": {
    "application/vnd.databricks.v1+cell": {
     "cellMetadata": {
      "byteLimit": 2048000,
      "rowLimit": 10000
     },
     "inputWidgets": {},
     "nuid": "940e48db-3ba3-40d3-9bb7-068b4ae4dbb9",
     "showTitle": false,
     "title": ""
    }
   },
   "source": [
    "Since all the duplicates are totally equal rows, there is no need to inspect this aspect further"
   ]
  },
  {
   "cell_type": "code",
   "execution_count": 0,
   "metadata": {
    "application/vnd.databricks.v1+cell": {
     "cellMetadata": {
      "byteLimit": 2048000,
      "rowLimit": 10000
     },
     "inputWidgets": {},
     "nuid": "16fb780c-ee91-499c-b94e-aec2df53a415",
     "showTitle": true,
     "title": "Setting main DF"
    }
   },
   "outputs": [],
   "source": [
    "bpm_df = bpm_df.dropDuplicates()"
   ]
  },
  {
   "cell_type": "markdown",
   "metadata": {
    "application/vnd.databricks.v1+cell": {
     "cellMetadata": {
      "byteLimit": 2048000,
      "rowLimit": 10000
     },
     "inputWidgets": {},
     "nuid": "74916cda-96f8-444e-be95-f66a115c1a46",
     "showTitle": false,
     "title": ""
    }
   },
   "source": [
    "#####Checking for negative values\n",
    "<br>\n",
    "Since it's impossible to have a negative heart rate, it's a best practice o check"
   ]
  },
  {
   "cell_type": "code",
   "execution_count": 0,
   "metadata": {
    "application/vnd.databricks.v1+cell": {
     "cellMetadata": {
      "byteLimit": 2048000,
      "rowLimit": 10000
     },
     "inputWidgets": {},
     "nuid": "68030fd6-bbd2-42fb-b941-f7230fb66c67",
     "showTitle": true,
     "title": "Negative heart rate"
    }
   },
   "outputs": [
    {
     "output_type": "display_data",
     "data": {
      "text/html": [
       "<style scoped>\n",
       "  .table-result-container {\n",
       "    max-height: 300px;\n",
       "    overflow: auto;\n",
       "  }\n",
       "  table, th, td {\n",
       "    border: 1px solid black;\n",
       "    border-collapse: collapse;\n",
       "  }\n",
       "  th, td {\n",
       "    padding: 5px;\n",
       "  }\n",
       "  th {\n",
       "    text-align: left;\n",
       "  }\n",
       "</style><div class='table-result-container'><table class='table-result'><thead style='background-color: white'><tr><th>device_id</th><th>time</th><th>heartrate</th></tr></thead><tbody><tr><td>113570</td><td>2019-12-02T17:09:20.000+0000</td><td>-93.98990072277059</td></tr><tr><td>116708</td><td>2019-12-02T19:37:21.000+0000</td><td>-79.27196704487537</td></tr><tr><td>144334</td><td>2019-12-02T12:45:45.000+0000</td><td>-103.67377032221478</td></tr><tr><td>110367</td><td>2019-12-02T05:14:20.000+0000</td><td>-75.64529924157084</td></tr><tr><td>180111</td><td>2019-12-02T08:47:33.000+0000</td><td>-62.35650506300333</td></tr><tr><td>187047</td><td>2019-12-02T02:14:20.000+0000</td><td>-42.68500952715515</td></tr><tr><td>193806</td><td>2019-12-02T08:53:23.000+0000</td><td>-74.30224557940427</td></tr><tr><td>148312</td><td>2019-12-02T23:32:32.000+0000</td><td>-49.494806454842326</td></tr><tr><td>144334</td><td>2019-12-02T22:52:13.000+0000</td><td>-60.6433180748106</td></tr><tr><td>187047</td><td>2019-12-02T21:26:00.000+0000</td><td>-80.60716366472212</td></tr></tbody></table></div>"
      ]
     },
     "metadata": {
      "application/vnd.databricks.v1+output": {
       "addedWidgets": {},
       "aggData": [],
       "aggError": "",
       "aggOverflow": false,
       "aggSchema": [],
       "aggSeriesLimitReached": false,
       "aggType": "",
       "arguments": {},
       "columnCustomDisplayInfos": {},
       "data": [
        [
         113570,
         "2019-12-02T17:09:20.000+0000",
         -93.98990072277059
        ],
        [
         116708,
         "2019-12-02T19:37:21.000+0000",
         -79.27196704487537
        ],
        [
         144334,
         "2019-12-02T12:45:45.000+0000",
         -103.67377032221478
        ],
        [
         110367,
         "2019-12-02T05:14:20.000+0000",
         -75.64529924157084
        ],
        [
         180111,
         "2019-12-02T08:47:33.000+0000",
         -62.35650506300333
        ],
        [
         187047,
         "2019-12-02T02:14:20.000+0000",
         -42.68500952715515
        ],
        [
         193806,
         "2019-12-02T08:53:23.000+0000",
         -74.30224557940427
        ],
        [
         148312,
         "2019-12-02T23:32:32.000+0000",
         -49.494806454842326
        ],
        [
         144334,
         "2019-12-02T22:52:13.000+0000",
         -60.6433180748106
        ],
        [
         187047,
         "2019-12-02T21:26:00.000+0000",
         -80.60716366472212
        ]
       ],
       "datasetInfos": [],
       "dbfsResultPath": null,
       "isJsonSchema": true,
       "metadata": {},
       "overflow": false,
       "plotOptions": {
        "customPlotOptions": {},
        "displayType": "table",
        "pivotAggregation": null,
        "pivotColumns": null,
        "xColumns": null,
        "yColumns": null
       },
       "removedWidgets": [],
       "schema": [
        {
         "metadata": "{}",
         "name": "device_id",
         "type": "\"integer\""
        },
        {
         "metadata": "{}",
         "name": "time",
         "type": "\"timestamp\""
        },
        {
         "metadata": "{}",
         "name": "heartrate",
         "type": "\"double\""
        }
       ],
       "type": "table"
      }
     },
     "output_type": "display_data"
    }
   ],
   "source": [
    "display(bpm_df.where(f.col('heartrate') < 0).limit(10))"
   ]
  },
  {
   "cell_type": "code",
   "execution_count": 0,
   "metadata": {
    "application/vnd.databricks.v1+cell": {
     "cellMetadata": {
      "byteLimit": 2048000,
      "rowLimit": 10000
     },
     "inputWidgets": {},
     "nuid": "890b13ab-d728-4fca-b729-f7afce4f6e9c",
     "showTitle": true,
     "title": "Negative rows count"
    }
   },
   "outputs": [
    {
     "output_type": "stream",
     "name": "stdout",
     "output_type": "stream",
     "text": [
      "241"
     ]
    }
   ],
   "source": [
    "display(bpm_df.where(f.col('heartrate') < 0).count())"
   ]
  },
  {
   "cell_type": "markdown",
   "metadata": {
    "application/vnd.databricks.v1+cell": {
     "cellMetadata": {
      "byteLimit": 2048000,
      "rowLimit": 10000
     },
     "inputWidgets": {},
     "nuid": "48e4e97c-6a44-41d5-bd0e-b4d84de6cab4",
     "showTitle": false,
     "title": ""
    }
   },
   "source": [
    "Since there is so few negative values, it isn't worth treating them. The way I chose to deal with them is by table constraints"
   ]
  },
  {
   "cell_type": "markdown",
   "metadata": {
    "application/vnd.databricks.v1+cell": {
     "cellMetadata": {
      "byteLimit": 2048000,
      "rowLimit": 10000
     },
     "inputWidgets": {},
     "nuid": "908a3c33-25b4-48d9-bb71-f9815b119147",
     "showTitle": false,
     "title": ""
    }
   },
   "source": [
    "#####Creating the Silver layer for the new table\n"
   ]
  },
  {
   "cell_type": "code",
   "execution_count": 0,
   "metadata": {
    "application/vnd.databricks.v1+cell": {
     "cellMetadata": {
      "byteLimit": 2048000,
      "implicitDf": true,
      "rowLimit": 10000
     },
     "inputWidgets": {},
     "nuid": "4f165ba1-3822-4b4e-a0c3-8390dee4b55f",
     "showTitle": true,
     "title": "Creating schema"
    }
   },
   "outputs": [
    {
     "output_type": "display_data",
     "data": {
      "text/html": [
       "<style scoped>\n",
       "  .table-result-container {\n",
       "    max-height: 300px;\n",
       "    overflow: auto;\n",
       "  }\n",
       "  table, th, td {\n",
       "    border: 1px solid black;\n",
       "    border-collapse: collapse;\n",
       "  }\n",
       "  th, td {\n",
       "    padding: 5px;\n",
       "  }\n",
       "  th {\n",
       "    text-align: left;\n",
       "  }\n",
       "</style><div class='table-result-container'><table class='table-result'><thead style='background-color: white'><tr></tr></thead><tbody></tbody></table></div>"
      ]
     },
     "metadata": {
      "application/vnd.databricks.v1+output": {
       "addedWidgets": {},
       "aggData": [],
       "aggError": "",
       "aggOverflow": false,
       "aggSchema": [],
       "aggSeriesLimitReached": false,
       "aggType": "",
       "arguments": {},
       "columnCustomDisplayInfos": {},
       "data": [],
       "datasetInfos": [],
       "dbfsResultPath": null,
       "isJsonSchema": true,
       "metadata": {},
       "overflow": false,
       "plotOptions": {
        "customPlotOptions": {},
        "displayType": "table",
        "pivotAggregation": null,
        "pivotColumns": null,
        "xColumns": null,
        "yColumns": null
       },
       "removedWidgets": [],
       "schema": [],
       "type": "table"
      }
     },
     "output_type": "display_data"
    }
   ],
   "source": [
    "%sql\n",
    "create schema if not exists silver"
   ]
  },
  {
   "cell_type": "markdown",
   "metadata": {
    "application/vnd.databricks.v1+cell": {
     "cellMetadata": {
      "byteLimit": 2048000,
      "rowLimit": 10000
     },
     "inputWidgets": {},
     "nuid": "d83a2b48-dd3c-4284-b36e-054de7500514",
     "showTitle": false,
     "title": ""
    }
   },
   "source": [
    "#####Compiling the code above and including it to the streaming logic"
   ]
  },
  {
   "cell_type": "markdown",
   "metadata": {
    "application/vnd.databricks.v1+cell": {
     "cellMetadata": {
      "byteLimit": 2048000,
      "rowLimit": 10000
     },
     "inputWidgets": {},
     "nuid": "3744f6c1-565d-4765-9d6d-6132135cb462",
     "showTitle": false,
     "title": ""
    }
   },
   "source": [
    "Using the **`trigger(availableNow=True)`** option will process all records (in multiple batches if needed) until no more data is available and then stop the stream."
   ]
  },
  {
   "cell_type": "code",
   "execution_count": 0,
   "metadata": {
    "application/vnd.databricks.v1+cell": {
     "cellMetadata": {
      "byteLimit": 2048000,
      "rowLimit": 10000
     },
     "inputWidgets": {},
     "nuid": "fa5e7b21-e6d4-45a5-ac0b-a6caf47db456",
     "showTitle": true,
     "title": "Compiling code"
    }
   },
   "outputs": [],
   "source": [
    "json_schema = \"device_id INTEGER, time TIMESTAMP, heartrate DOUBLE\"\n",
    "checkpoint_path = f'{main_path}/_checkpoints'\n",
    "\n",
    "def process_heart_rate():\n",
    "    query = (spark.readStream\n",
    "                    .table(\"bronze\")\n",
    "                    .filter(\"topic = 'bpm'\")\n",
    "                    .select(f.from_json(f.col(\"value\").cast(\"string\"), json_schema).alias(\"bpm\"))\n",
    "                    .filter(\"bpm.heartrate > 0\")\n",
    "                    .select(\"bpm.*\")\n",
    "                    .withWatermark(\"time\", \"30 seconds\")\n",
    "                    .dropDuplicates()\n",
    "                    .writeStream\n",
    "                        .option(\"checkpointLocation\", f\"{checkpoint_path}/heart_rate\")\n",
    "                        .trigger(availableNow=True)\n",
    "                        .table(\"silver.heart_rate\"))\n",
    "\n",
    "    query.awaitTermination()"
   ]
  },
  {
   "cell_type": "code",
   "execution_count": 0,
   "metadata": {
    "application/vnd.databricks.v1+cell": {
     "cellMetadata": {
      "byteLimit": 2048000,
      "implicitDf": true,
      "rowLimit": 10000
     },
     "inputWidgets": {},
     "nuid": "613c5835-ef88-4a82-8c68-d1b7b67d1acc",
     "showTitle": false,
     "title": ""
    }
   },
   "outputs": [
    {
     "output_type": "display_data",
     "data": {
      "text/html": [
       "<style scoped>\n",
       "  .table-result-container {\n",
       "    max-height: 300px;\n",
       "    overflow: auto;\n",
       "  }\n",
       "  table, th, td {\n",
       "    border: 1px solid black;\n",
       "    border-collapse: collapse;\n",
       "  }\n",
       "  th, td {\n",
       "    padding: 5px;\n",
       "  }\n",
       "  th {\n",
       "    text-align: left;\n",
       "  }\n",
       "</style><div class='table-result-container'><table class='table-result'><thead style='background-color: white'><tr></tr></thead><tbody></tbody></table></div>"
      ]
     },
     "metadata": {
      "application/vnd.databricks.v1+output": {
       "addedWidgets": {},
       "aggData": [],
       "aggError": "",
       "aggOverflow": false,
       "aggSchema": [],
       "aggSeriesLimitReached": false,
       "aggType": "",
       "arguments": {},
       "columnCustomDisplayInfos": {},
       "data": [],
       "datasetInfos": [],
       "dbfsResultPath": null,
       "isJsonSchema": true,
       "metadata": {},
       "overflow": false,
       "plotOptions": {
        "customPlotOptions": {},
        "displayType": "table",
        "pivotAggregation": null,
        "pivotColumns": null,
        "xColumns": null,
        "yColumns": null
       },
       "removedWidgets": [],
       "schema": [],
       "type": "table"
      }
     },
     "output_type": "display_data"
    }
   ],
   "source": [
    "%sql\n",
    "drop table if exists silver.heart_rate"
   ]
  },
  {
   "cell_type": "code",
   "execution_count": 0,
   "metadata": {
    "application/vnd.databricks.v1+cell": {
     "cellMetadata": {
      "byteLimit": 2048000,
      "rowLimit": 10000
     },
     "inputWidgets": {},
     "nuid": "f450095b-0dd4-43cf-a67c-88639fffb7b9",
     "showTitle": false,
     "title": ""
    }
   },
   "outputs": [
    {
     "output_type": "stream",
     "name": "stdout",
     "output_type": "stream",
     "text": [
      "Out[20]: False"
     ]
    }
   ],
   "source": [
    "dbutils.fs.rm(\"dbfs:/mnt/borges_portifolio/_checkpoints/heart_rate\", True)"
   ]
  },
  {
   "cell_type": "code",
   "execution_count": 0,
   "metadata": {
    "application/vnd.databricks.v1+cell": {
     "cellMetadata": {
      "byteLimit": 2048000,
      "rowLimit": 10000
     },
     "inputWidgets": {},
     "nuid": "d4e56633-52ee-4cb0-91ab-786314d5725c",
     "showTitle": true,
     "title": "Processing data"
    }
   },
   "outputs": [],
   "source": [
    "process_heart_rate()"
   ]
  },
  {
   "cell_type": "code",
   "execution_count": 0,
   "metadata": {
    "application/vnd.databricks.v1+cell": {
     "cellMetadata": {
      "byteLimit": 2048000,
      "implicitDf": true,
      "rowLimit": 10000
     },
     "inputWidgets": {},
     "nuid": "becbe1a8-d8ad-411c-8d0f-3d5ddd040e16",
     "showTitle": true,
     "title": "Adding constraint"
    }
   },
   "outputs": [
    {
     "output_type": "display_data",
     "data": {
      "text/html": [
       "<style scoped>\n",
       "  .table-result-container {\n",
       "    max-height: 300px;\n",
       "    overflow: auto;\n",
       "  }\n",
       "  table, th, td {\n",
       "    border: 1px solid black;\n",
       "    border-collapse: collapse;\n",
       "  }\n",
       "  th, td {\n",
       "    padding: 5px;\n",
       "  }\n",
       "  th {\n",
       "    text-align: left;\n",
       "  }\n",
       "</style><div class='table-result-container'><table class='table-result'><thead style='background-color: white'><tr></tr></thead><tbody></tbody></table></div>"
      ]
     },
     "metadata": {
      "application/vnd.databricks.v1+output": {
       "addedWidgets": {},
       "aggData": [],
       "aggError": "",
       "aggOverflow": false,
       "aggSchema": [],
       "aggSeriesLimitReached": false,
       "aggType": "",
       "arguments": {},
       "columnCustomDisplayInfos": {},
       "data": [],
       "datasetInfos": [],
       "dbfsResultPath": null,
       "isJsonSchema": true,
       "metadata": {},
       "overflow": false,
       "plotOptions": {
        "customPlotOptions": {},
        "displayType": "table",
        "pivotAggregation": null,
        "pivotColumns": null,
        "xColumns": null,
        "yColumns": null
       },
       "removedWidgets": [],
       "schema": [],
       "type": "table"
      }
     },
     "output_type": "display_data"
    }
   ],
   "source": [
    "%sql\n",
    "ALTER TABLE silver.heart_rate ADD CONSTRAINT validbpm CHECK (heartrate > 0);"
   ]
  },
  {
   "cell_type": "markdown",
   "metadata": {
    "application/vnd.databricks.v1+cell": {
     "cellMetadata": {
      "byteLimit": 2048000,
      "rowLimit": 10000
     },
     "inputWidgets": {},
     "nuid": "4974f69e-011b-41f5-a5d9-c6b411661b5e",
     "showTitle": false,
     "title": ""
    }
   },
   "source": [
    "#####Assuring that everything went as planned"
   ]
  },
  {
   "cell_type": "code",
   "execution_count": 0,
   "metadata": {
    "application/vnd.databricks.v1+cell": {
     "cellMetadata": {
      "byteLimit": 2048000,
      "implicitDf": true,
      "rowLimit": 10000
     },
     "inputWidgets": {},
     "nuid": "02b99f88-12c4-4a28-9dc1-752af0e2b40f",
     "showTitle": true,
     "title": "Data types and constraints"
    }
   },
   "outputs": [
    {
     "output_type": "display_data",
     "data": {
      "text/html": [
       "<style scoped>\n",
       "  .table-result-container {\n",
       "    max-height: 300px;\n",
       "    overflow: auto;\n",
       "  }\n",
       "  table, th, td {\n",
       "    border: 1px solid black;\n",
       "    border-collapse: collapse;\n",
       "  }\n",
       "  th, td {\n",
       "    padding: 5px;\n",
       "  }\n",
       "  th {\n",
       "    text-align: left;\n",
       "  }\n",
       "</style><div class='table-result-container'><table class='table-result'><thead style='background-color: white'><tr><th>col_name</th><th>data_type</th><th>comment</th></tr></thead><tbody><tr><td>device_id</td><td>int</td><td>null</td></tr><tr><td>time</td><td>timestamp</td><td>null</td></tr><tr><td>heartrate</td><td>double</td><td>null</td></tr><tr><td></td><td></td><td></td></tr><tr><td># Detailed Table Information</td><td></td><td></td></tr><tr><td>Catalog</td><td>spark_catalog</td><td></td></tr><tr><td>Database</td><td>silver</td><td></td></tr><tr><td>Table</td><td>heart_rate</td><td></td></tr><tr><td>Created Time</td><td>Fri May 03 12:08:40 UTC 2024</td><td></td></tr><tr><td>Last Access</td><td>UNKNOWN</td><td></td></tr><tr><td>Created By</td><td>Spark 3.3.2</td><td></td></tr><tr><td>Type</td><td>MANAGED</td><td></td></tr><tr><td>Location</td><td>dbfs:/user/hive/warehouse/silver.db/heart_rate</td><td></td></tr><tr><td>Provider</td><td>delta</td><td></td></tr><tr><td>Owner</td><td>root</td><td></td></tr><tr><td>Is_managed_location</td><td>true</td><td></td></tr><tr><td>Table Properties</td><td>[delta.constraints.validbpm=heartrate > 0,delta.minReaderVersion=1,delta.minWriterVersion=3]</td><td></td></tr></tbody></table></div>"
      ]
     },
     "metadata": {
      "application/vnd.databricks.v1+output": {
       "addedWidgets": {},
       "aggData": [],
       "aggError": "",
       "aggOverflow": false,
       "aggSchema": [],
       "aggSeriesLimitReached": false,
       "aggType": "",
       "arguments": {},
       "columnCustomDisplayInfos": {},
       "data": [
        [
         "device_id",
         "int",
         null
        ],
        [
         "time",
         "timestamp",
         null
        ],
        [
         "heartrate",
         "double",
         null
        ],
        [
         "",
         "",
         ""
        ],
        [
         "# Detailed Table Information",
         "",
         ""
        ],
        [
         "Catalog",
         "spark_catalog",
         ""
        ],
        [
         "Database",
         "silver",
         ""
        ],
        [
         "Table",
         "heart_rate",
         ""
        ],
        [
         "Created Time",
         "Fri May 03 12:08:40 UTC 2024",
         ""
        ],
        [
         "Last Access",
         "UNKNOWN",
         ""
        ],
        [
         "Created By",
         "Spark 3.3.2",
         ""
        ],
        [
         "Type",
         "MANAGED",
         ""
        ],
        [
         "Location",
         "dbfs:/user/hive/warehouse/silver.db/heart_rate",
         ""
        ],
        [
         "Provider",
         "delta",
         ""
        ],
        [
         "Owner",
         "root",
         ""
        ],
        [
         "Is_managed_location",
         "true",
         ""
        ],
        [
         "Table Properties",
         "[delta.constraints.validbpm=heartrate > 0,delta.minReaderVersion=1,delta.minWriterVersion=3]",
         ""
        ]
       ],
       "datasetInfos": [],
       "dbfsResultPath": null,
       "isJsonSchema": true,
       "metadata": {},
       "overflow": false,
       "plotOptions": {
        "customPlotOptions": {},
        "displayType": "table",
        "pivotAggregation": null,
        "pivotColumns": null,
        "xColumns": null,
        "yColumns": null
       },
       "removedWidgets": [],
       "schema": [
        {
         "metadata": "{\"comment\":\"name of the column\"}",
         "name": "col_name",
         "type": "\"string\""
        },
        {
         "metadata": "{\"comment\":\"data type of the column\"}",
         "name": "data_type",
         "type": "\"string\""
        },
        {
         "metadata": "{\"comment\":\"comment of the column\"}",
         "name": "comment",
         "type": "\"string\""
        }
       ],
       "type": "table"
      }
     },
     "output_type": "display_data"
    }
   ],
   "source": [
    "%sql\n",
    "\n",
    "describe extended silver.heart_rate"
   ]
  },
  {
   "cell_type": "code",
   "execution_count": 0,
   "metadata": {
    "application/vnd.databricks.v1+cell": {
     "cellMetadata": {
      "byteLimit": 2048000,
      "implicitDf": true,
      "rowLimit": 10000
     },
     "inputWidgets": {},
     "nuid": "e21433fd-71e3-42dd-99cc-5c9977b1d246",
     "showTitle": true,
     "title": "Count"
    }
   },
   "outputs": [
    {
     "output_type": "display_data",
     "data": {
      "text/html": [
       "<style scoped>\n",
       "  .table-result-container {\n",
       "    max-height: 300px;\n",
       "    overflow: auto;\n",
       "  }\n",
       "  table, th, td {\n",
       "    border: 1px solid black;\n",
       "    border-collapse: collapse;\n",
       "  }\n",
       "  th, td {\n",
       "    padding: 5px;\n",
       "  }\n",
       "  th {\n",
       "    text-align: left;\n",
       "  }\n",
       "</style><div class='table-result-container'><table class='table-result'><thead style='background-color: white'><tr><th>count(1)</th></tr></thead><tbody><tr><td>731746</td></tr></tbody></table></div>"
      ]
     },
     "metadata": {
      "application/vnd.databricks.v1+output": {
       "addedWidgets": {},
       "aggData": [],
       "aggError": "",
       "aggOverflow": false,
       "aggSchema": [],
       "aggSeriesLimitReached": false,
       "aggType": "",
       "arguments": {},
       "columnCustomDisplayInfos": {},
       "data": [
        [
         731746
        ]
       ],
       "datasetInfos": [],
       "dbfsResultPath": null,
       "isJsonSchema": true,
       "metadata": {},
       "overflow": false,
       "plotOptions": {
        "customPlotOptions": {},
        "displayType": "table",
        "pivotAggregation": null,
        "pivotColumns": null,
        "xColumns": null,
        "yColumns": null
       },
       "removedWidgets": [],
       "schema": [
        {
         "metadata": "{\"__autoGeneratedAlias\":\"true\"}",
         "name": "count(1)",
         "type": "\"long\""
        }
       ],
       "type": "table"
      }
     },
     "output_type": "display_data"
    }
   ],
   "source": [
    "%sql\n",
    "select count(*) from silver.heart_rate"
   ]
  },
  {
   "cell_type": "code",
   "execution_count": 0,
   "metadata": {
    "application/vnd.databricks.v1+cell": {
     "cellMetadata": {
      "byteLimit": 2048000,
      "implicitDf": true,
      "rowLimit": 10000
     },
     "inputWidgets": {},
     "nuid": "acffa14f-4829-45da-b76f-9ae8632c2de5",
     "showTitle": true,
     "title": "Data review"
    }
   },
   "outputs": [
    {
     "output_type": "display_data",
     "data": {
      "text/html": [
       "<style scoped>\n",
       "  .table-result-container {\n",
       "    max-height: 300px;\n",
       "    overflow: auto;\n",
       "  }\n",
       "  table, th, td {\n",
       "    border: 1px solid black;\n",
       "    border-collapse: collapse;\n",
       "  }\n",
       "  th, td {\n",
       "    padding: 5px;\n",
       "  }\n",
       "  th {\n",
       "    text-align: left;\n",
       "  }\n",
       "</style><div class='table-result-container'><table class='table-result'><thead style='background-color: white'><tr><th>device_id</th><th>time</th><th>heartrate</th></tr></thead><tbody><tr><td>102558</td><td>2019-12-02T15:58:20.000+0000</td><td>90.74234303723293</td></tr><tr><td>107952</td><td>2019-12-02T16:16:50.000+0000</td><td>99.92202226593994</td></tr><tr><td>105671</td><td>2019-12-02T16:24:41.000+0000</td><td>92.3830462993785</td></tr><tr><td>135279</td><td>2019-12-02T17:00:32.000+0000</td><td>81.08301232974536</td></tr><tr><td>102558</td><td>2019-12-02T17:06:20.000+0000</td><td>89.19526024529921</td></tr><tr><td>109290</td><td>2019-12-02T17:35:04.000+0000</td><td>64.56235930836219</td></tr><tr><td>158496</td><td>2019-12-02T17:37:22.000+0000</td><td>89.13700402219997</td></tr><tr><td>196248</td><td>2019-12-02T17:48:52.000+0000</td><td>120.019696200589</td></tr><tr><td>113570</td><td>2019-12-02T18:07:23.000+0000</td><td>85.39573128945582</td></tr><tr><td>196248</td><td>2019-12-02T18:09:44.000+0000</td><td>114.52080986523916</td></tr></tbody></table></div>"
      ]
     },
     "metadata": {
      "application/vnd.databricks.v1+output": {
       "addedWidgets": {},
       "aggData": [],
       "aggError": "",
       "aggOverflow": false,
       "aggSchema": [],
       "aggSeriesLimitReached": false,
       "aggType": "",
       "arguments": {},
       "columnCustomDisplayInfos": {},
       "data": [
        [
         102558,
         "2019-12-02T15:58:20.000+0000",
         90.74234303723293
        ],
        [
         107952,
         "2019-12-02T16:16:50.000+0000",
         99.92202226593994
        ],
        [
         105671,
         "2019-12-02T16:24:41.000+0000",
         92.3830462993785
        ],
        [
         135279,
         "2019-12-02T17:00:32.000+0000",
         81.08301232974536
        ],
        [
         102558,
         "2019-12-02T17:06:20.000+0000",
         89.19526024529921
        ],
        [
         109290,
         "2019-12-02T17:35:04.000+0000",
         64.56235930836219
        ],
        [
         158496,
         "2019-12-02T17:37:22.000+0000",
         89.13700402219997
        ],
        [
         196248,
         "2019-12-02T17:48:52.000+0000",
         120.019696200589
        ],
        [
         113570,
         "2019-12-02T18:07:23.000+0000",
         85.39573128945582
        ],
        [
         196248,
         "2019-12-02T18:09:44.000+0000",
         114.52080986523916
        ]
       ],
       "datasetInfos": [],
       "dbfsResultPath": null,
       "isJsonSchema": true,
       "metadata": {},
       "overflow": false,
       "plotOptions": {
        "customPlotOptions": {},
        "displayType": "table",
        "pivotAggregation": null,
        "pivotColumns": null,
        "xColumns": null,
        "yColumns": null
       },
       "removedWidgets": [],
       "schema": [
        {
         "metadata": "{}",
         "name": "device_id",
         "type": "\"integer\""
        },
        {
         "metadata": "{\"spark.watermarkDelayMs\":30000}",
         "name": "time",
         "type": "\"timestamp\""
        },
        {
         "metadata": "{}",
         "name": "heartrate",
         "type": "\"double\""
        }
       ],
       "type": "table"
      }
     },
     "output_type": "display_data"
    }
   ],
   "source": [
    "%sql\n",
    "select * from silver.heart_rate a limit 10"
   ]
  },
  {
   "cell_type": "markdown",
   "metadata": {
    "application/vnd.databricks.v1+cell": {
     "cellMetadata": {
      "byteLimit": 2048000,
      "rowLimit": 10000
     },
     "inputWidgets": {},
     "nuid": "fa2f2aeb-a9a1-4057-a012-1d436f4e543b",
     "showTitle": false,
     "title": ""
    }
   },
   "source": [
    "# Processing the Workout table"
   ]
  },
  {
   "cell_type": "code",
   "execution_count": 0,
   "metadata": {
    "application/vnd.databricks.v1+cell": {
     "cellMetadata": {
      "byteLimit": 2048000,
      "rowLimit": 10000
     },
     "inputWidgets": {},
     "nuid": "c108e7fb-d660-47b3-b6c6-3fa5dc10f1d6",
     "showTitle": false,
     "title": ""
    }
   },
   "outputs": [],
   "source": [
    "batch_df_bpm = batch_df.where(batch_df.topic == 'bpm')"
   ]
  },
  {
   "cell_type": "code",
   "execution_count": 0,
   "metadata": {
    "application/vnd.databricks.v1+cell": {
     "cellMetadata": {},
     "inputWidgets": {},
     "nuid": "e89889c6-d362-4ce9-82ec-24f73d50d987",
     "showTitle": false,
     "title": ""
    }
   },
   "outputs": [],
   "source": [
    "display(batch_df_bpm.limit(10))"
   ]
  },
  {
   "cell_type": "code",
   "execution_count": 0,
   "metadata": {
    "application/vnd.databricks.v1+cell": {
     "cellMetadata": {},
     "inputWidgets": {},
     "nuid": "f82ff520-247e-4a52-882d-6cf81408d5cf",
     "showTitle": false,
     "title": ""
    }
   },
   "outputs": [],
   "source": [
    "schema = t.StructType(\n",
    "    [\n",
    "        t.StructField('device_id', t.IntegerType(), True),\n",
    "        t.StructField('time', t.TimestampType(), True),\n",
    "        t.StructField('heartrate', t.DoubleType(), True)\n",
    "    ]\n",
    ")\n",
    "\n",
    "bpm_df = batch_df_bpm.withColumn('value', f.from_json('value', schema))\\\n",
    "                     .select(f.col('value.*'))\n",
    "\n",
    "display(bpm_df.limit(10))"
   ]
  },
  {
   "cell_type": "code",
   "execution_count": 0,
   "metadata": {
    "application/vnd.databricks.v1+cell": {
     "cellMetadata": {},
     "inputWidgets": {},
     "nuid": "9203b6cc-96af-49eb-80ba-8f7a53f84959",
     "showTitle": false,
     "title": ""
    }
   },
   "outputs": [],
   "source": []
  },
  {
   "cell_type": "code",
   "execution_count": 0,
   "metadata": {
    "application/vnd.databricks.v1+cell": {
     "cellMetadata": {},
     "inputWidgets": {},
     "nuid": "61604b48-bf67-4ec3-98ee-032e2f2a8b8a",
     "showTitle": false,
     "title": ""
    }
   },
   "outputs": [],
   "source": []
  },
  {
   "cell_type": "code",
   "execution_count": 0,
   "metadata": {
    "application/vnd.databricks.v1+cell": {
     "cellMetadata": {},
     "inputWidgets": {},
     "nuid": "77ba37c8-fe39-4054-b2e2-6b227a202b8f",
     "showTitle": false,
     "title": ""
    }
   },
   "outputs": [],
   "source": []
  },
  {
   "cell_type": "code",
   "execution_count": 0,
   "metadata": {
    "application/vnd.databricks.v1+cell": {
     "cellMetadata": {},
     "inputWidgets": {},
     "nuid": "0336092c-e19f-4b39-9842-46893be9f674",
     "showTitle": false,
     "title": ""
    }
   },
   "outputs": [],
   "source": []
  },
  {
   "cell_type": "code",
   "execution_count": 0,
   "metadata": {
    "application/vnd.databricks.v1+cell": {
     "cellMetadata": {},
     "inputWidgets": {},
     "nuid": "aa83865a-7017-47f2-93ec-68c6be71dee4",
     "showTitle": false,
     "title": ""
    }
   },
   "outputs": [],
   "source": [
    "def execute_stream():\n",
    "        (spark.readStream\n",
    "              .option(\"ignoreDeletes\", True)\n",
    "              .table(\"bronze\")\n",
    "              .filter(\"topic = 'workout'\")\n",
    "              .select(F.from_json(F.col(\"value\").cast(\"string\"), \"user_id INT, workout_id INT, timestamp FLOAT, action STRING, session_id INT\").alias(\"v\"))\n",
    "              .select(\"v.*\")\n",
    "              .select(\"user_id\", \"workout_id\", F.col(\"timestamp\").cast(\"timestamp\").alias(\"time\"), \"action\", \"session_id\")\n",
    "              .withWatermark(\"time\", \"30 seconds\")\n",
    "              .dropDuplicates([\"user_id\", \"time\"])\n",
    "              .writeStream\n",
    "              .foreachBatch(streamingMerge.upsertToDelta)\n",
    "              .outputMode(\"update\")\n",
    "              .option(\"checkpointLocation\", f\"{DA.paths.checkpoints}/workouts\")\n",
    "              .queryName(\"workouts_silver\")\n",
    "              .trigger(availableNow=True)\n",
    "              .start()\n",
    "              .awaitTermination())"
   ]
  }
 ],
 "metadata": {
  "application/vnd.databricks.v1+notebook": {
   "dashboards": [],
   "language": "python",
   "notebookMetadata": {
    "mostRecentlyExecutedCommandWithImplicitDF": {
     "commandId": 3533990911928050,
     "dataframes": [
      "_sqldf"
     ]
    },
    "pythonIndentUnit": 2
   },
   "notebookName": "2 - Transforming",
   "widgets": {}
  }
 },
 "nbformat": 4,
 "nbformat_minor": 0
}
