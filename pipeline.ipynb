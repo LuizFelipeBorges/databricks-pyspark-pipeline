{
 "cells": [
  {
   "cell_type": "markdown",
   "metadata": {
    "application/vnd.databricks.v1+cell": {
     "cellMetadata": {
      "byteLimit": 2048000,
      "rowLimit": 10000
     },
     "inputWidgets": {},
     "nuid": "1aa2c607-b56f-42ff-a672-2e8c117336e8",
     "showTitle": false,
     "title": ""
    }
   },
   "source": [
    "\n",
    "<img src ='/files/images/portfolio-2.png'>"
   ]
  },
  {
   "cell_type": "code",
   "execution_count": 0,
   "metadata": {
    "application/vnd.databricks.v1+cell": {
     "cellMetadata": {
      "byteLimit": 2048000,
      "rowLimit": 10000
     },
     "inputWidgets": {},
     "nuid": "bd1257b4-1eb7-4d8b-8924-0af98b548982",
     "showTitle": false,
     "title": ""
    }
   },
   "outputs": [],
   "source": [
    "%run ./_functions"
   ]
  },
  {
   "cell_type": "code",
   "execution_count": 0,
   "metadata": {
    "application/vnd.databricks.v1+cell": {
     "cellMetadata": {
      "byteLimit": 2048000,
      "rowLimit": 10000
     },
     "inputWidgets": {},
     "nuid": "b69e0729-868d-482f-8a59-800f899fa3b3",
     "showTitle": false,
     "title": ""
    }
   },
   "outputs": [],
   "source": [
    "env_setup()"
   ]
  },
  {
   "cell_type": "code",
   "execution_count": 0,
   "metadata": {
    "application/vnd.databricks.v1+cell": {
     "cellMetadata": {
      "byteLimit": 2048000,
      "rowLimit": 10000
     },
     "inputWidgets": {},
     "nuid": "ba8444f6-dce6-4924-9647-fa1775f98fba",
     "showTitle": false,
     "title": ""
    }
   },
   "outputs": [],
   "source": [
    "initialize_pipeline()"
   ]
  },
  {
   "cell_type": "code",
   "execution_count": 0,
   "metadata": {
    "application/vnd.databricks.v1+cell": {
     "cellMetadata": {
      "byteLimit": 2048000,
      "rowLimit": 10000
     },
     "inputWidgets": {},
     "nuid": "ffdf45b5-8bc6-4ce5-af66-e0061d170e30",
     "showTitle": false,
     "title": ""
    }
   },
   "outputs": [],
   "source": [
    "display(spark.readStream.table(\"bronze\").limit(10), streamName = \"bronze_sneakpeak\")"
   ]
  },
  {
   "cell_type": "code",
   "execution_count": 0,
   "metadata": {
    "application/vnd.databricks.v1+cell": {
     "cellMetadata": {
      "byteLimit": 2048000,
      "rowLimit": 10000
     },
     "inputWidgets": {},
     "nuid": "4dfd7304-4556-4381-b85a-2f9b56adc0de",
     "showTitle": false,
     "title": ""
    }
   },
   "outputs": [],
   "source": [
    "maintenance.stop_stream(\"bronze_sneakpeak\")"
   ]
  },
  {
   "cell_type": "code",
   "execution_count": 0,
   "metadata": {
    "application/vnd.databricks.v1+cell": {
     "cellMetadata": {
      "byteLimit": 2048000,
      "implicitDf": true,
      "rowLimit": 10000
     },
     "inputWidgets": {},
     "nuid": "3565678d-8b28-4fa6-adf7-061651fbc4ff",
     "showTitle": false,
     "title": ""
    }
   },
   "outputs": [],
   "source": [
    "%sql\n",
    "\n",
    "select count(*) from gold.workout_user_summary;"
   ]
  },
  {
   "cell_type": "code",
   "execution_count": 0,
   "metadata": {
    "application/vnd.databricks.v1+cell": {
     "cellMetadata": {
      "byteLimit": 2048000,
      "rowLimit": 10000
     },
     "inputWidgets": {},
     "nuid": "4e64d576-3439-4b38-bb52-b93f3fd74a42",
     "showTitle": false,
     "title": ""
    }
   },
   "outputs": [],
   "source": [
    "stream.start()"
   ]
  },
  {
   "cell_type": "code",
   "execution_count": 0,
   "metadata": {
    "application/vnd.databricks.v1+cell": {
     "cellMetadata": {
      "byteLimit": 2048000,
      "rowLimit": 10000
     },
     "inputWidgets": {},
     "nuid": "b822105b-d42d-4b30-9a4f-8792a8a33713",
     "showTitle": false,
     "title": ""
    }
   },
   "outputs": [],
   "source": [
    "stream.load(continuous=True)"
   ]
  },
  {
   "cell_type": "code",
   "execution_count": 0,
   "metadata": {
    "application/vnd.databricks.v1+cell": {
     "cellMetadata": {
      "byteLimit": 2048000,
      "rowLimit": 10000
     },
     "inputWidgets": {},
     "nuid": "e399eac0-84c8-48b8-ad79-10a53f6d21b0",
     "showTitle": false,
     "title": ""
    }
   },
   "outputs": [],
   "source": [
    "maintenance.restart_environment()"
   ]
  }
 ],
 "metadata": {
  "application/vnd.databricks.v1+notebook": {
   "dashboards": [],
   "environmentMetadata": null,
   "language": "python",
   "notebookMetadata": {
    "mostRecentlyExecutedCommandWithImplicitDF": {
     "commandId": 497852103285974,
     "dataframes": [
      "_sqldf"
     ]
    },
    "pythonIndentUnit": 2,
    "widgetLayout": [
     {
      "breakBefore": false,
      "name": "pipeline_type",
      "width": 165
     },
     {
      "breakBefore": false,
      "name": "cdf_enabled",
      "width": 165
     }
    ]
   },
   "notebookName": "pipeline",
   "widgets": {}
  }
 },
 "nbformat": 4,
 "nbformat_minor": 0
}
