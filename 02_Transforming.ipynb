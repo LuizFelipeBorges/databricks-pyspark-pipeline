{
 "cells": [
  {
   "cell_type": "markdown",
   "metadata": {
    "application/vnd.databricks.v1+cell": {
     "cellMetadata": {
      "byteLimit": 2048000,
      "rowLimit": 10000
     },
     "inputWidgets": {},
     "nuid": "45d9138f-4f33-430b-99f9-21de4293bb79",
     "showTitle": false,
     "title": ""
    }
   },
   "source": [
    "## 02_Transforming\n",
    "\n",
    "The objective of this notebook is to apply business rules to extract meaningful information from the multiplex `Bronze` table and auxiliary tables (e.g., date_lookup from 01_Ingestion).<br>\n",
    "By the end of this process, the environment will consist of nine new tables: seven on the Silver layer and two views on the Gold layer.<br>\n",
    "Similar to previous steps, we will begin by setting up the environment for this notebook."
   ]
  },
  {
   "cell_type": "markdown",
   "metadata": {
    "application/vnd.databricks.v1+cell": {
     "cellMetadata": {
      "byteLimit": 2048000,
      "rowLimit": 10000
     },
     "inputWidgets": {},
     "nuid": "9c76984b-90d2-4184-8836-13ba413b6c89",
     "showTitle": false,
     "title": ""
    }
   },
   "source": [
    "## Environment Settings\n",
    "\n",
    "The objective here is to prepare the notebook by following these steps::<br>\n",
    "<br>\n",
    "- Process a new Bronze table with ten billion rows instead of eight hundred thousand rows\n",
    "- Import necessary libraries\n",
    "- Create base objects to use throughout the pipeline"
   ]
  },
  {
   "cell_type": "code",
   "execution_count": 0,
   "metadata": {
    "application/vnd.databricks.v1+cell": {
     "cellMetadata": {
      "byteLimit": 2048000,
      "rowLimit": 10000
     },
     "inputWidgets": {},
     "nuid": "78b5d454-800e-4d93-8496-46efaf542918",
     "showTitle": true,
     "title": "Base configs"
    }
   },
   "outputs": [],
   "source": [
    "# Import libraries\n",
    "import pyspark.sql.functions as f\n",
    "import pyspark.sql.types as t\n",
    "from pyspark.sql.window import Window\n",
    "\n",
    "# Setting path objects\n",
    "main_path = \"dbfs:/mnt/borges_portifolio\"\n",
    "files_path = f\"{main_path}/auto_loader_files/full\" #Path with all the samples\n",
    "\n",
    "# Setting parallelism\n",
    "spark.conf.set(\"spark.sql.shuffle.partitions\", sc.defaultParallelism)\n",
    "\n",
    "# Setting the bronze schema as default for this notebook\n",
    "spark.catalog.setCurrentDatabase('BRONZE')\n",
    "\n",
    "# Estabilishing the folder where Auto Loader and Structured Streaming will maintain identifying information of the stream\n",
    "checkpoint_path = f'{main_path}/_checkpoints'\n",
    "\n",
    "# Defining data type of each column in the JSON files for the Bronze table\n",
    "bronze_schema = \"key BINARY, value BINARY, topic STRING, partition LONG, offset LONG, timestamp LONG\"\n",
    "\n",
    "# Time traveling to obtain the date_lookup in a DataFrame\n",
    "date_lookup_df = spark.read.option(\"versionAsOf\", 0).load(f\"{main_path}/date_lookup\").select(\"date\", \"week_part\")\n",
    "\n",
    "# Creating the function that will ingest the full load of samples into the Bronze table\n",
    "def process_full_bronze():\n",
    "    (spark.readStream\n",
    "                  .format(\"cloudFiles\")\n",
    "                  .schema(bronze_schema)\n",
    "                  .option(\"cloudFiles.format\", \"json\")\n",
    "                  .option(\"cloudFiles.schemaLocation\", f\"{checkpoint_path}/bronze_schema\") # Location to store schema information\n",
    "                  .load(files_path) # Source Folder\n",
    "                  .join(f.broadcast(date_lookup_df), f.to_date((f.col(\"timestamp\")/1000).cast(\"timestamp\")) == f.col(\"date\"), \"left\")\n",
    "                  .writeStream\n",
    "                        .option(\"checkpointLocation\", f\"{checkpoint_path}/bronze\") # Location to store checkpoint information\n",
    "                        .partitionBy(\"topic\", \"week_part\") # Partitioning by topic and week_part to increase performance\n",
    "                        .trigger(availableNow=True)\n",
    "                        .table(\"bronze.bronze\")\n",
    "                        .awaitTermination()\n",
    "    )\n",
    "\n",
    "# Creating a function for reprocessing the Bronze table\n",
    "def reprocess_bronze_full():\n",
    "\n",
    "    spark.sql(\"drop table if exists bronze.bronze\")\n",
    "\n",
    "    dbutils.fs.rm(f\"{checkpoint_path}/bronze\", True)\n",
    "    \n",
    "    process_full_bronze()"
   ]
  },
  {
   "cell_type": "code",
   "execution_count": 0,
   "metadata": {
    "application/vnd.databricks.v1+cell": {
     "cellMetadata": {
      "byteLimit": 2048000,
      "rowLimit": 10000
     },
     "inputWidgets": {},
     "nuid": "fb07d3ff-84dd-425b-a56f-d69e62e18770",
     "showTitle": false,
     "title": ""
    }
   },
   "outputs": [],
   "source": [
    "# Since a Bronze table already exists, it's necessary to reprocess it\n",
    "reprocess_bronze_full()"
   ]
  },
  {
   "cell_type": "markdown",
   "metadata": {
    "application/vnd.databricks.v1+cell": {
     "cellMetadata": {
      "byteLimit": 2048000,
      "rowLimit": 10000
     },
     "inputWidgets": {},
     "nuid": "e1ea84fe-6d0a-4c04-a0a3-f1d42c009631",
     "showTitle": false,
     "title": ""
    }
   },
   "source": [
    "## Initial tests\n",
    "<br>\n",
    "These initial tests are conducted to determine how to clean the data. <br>\n",
    "Given that the raw data contains two binary columns, decoding them is the first step before proceeding to subsequent tasks."
   ]
  },
  {
   "cell_type": "code",
   "execution_count": 0,
   "metadata": {
    "application/vnd.databricks.v1+cell": {
     "cellMetadata": {
      "byteLimit": 2048000,
      "implicitDf": true,
      "rowLimit": 10000
     },
     "inputWidgets": {},
     "nuid": "7e079137-49a4-4c87-8257-5bd3ba08c0ba",
     "showTitle": true,
     "title": "Reviewing Data"
    }
   },
   "outputs": [
    {
     "output_type": "display_data",
     "data": {
      "text/html": [
       "<style scoped>\n",
       "  .table-result-container {\n",
       "    max-height: 300px;\n",
       "    overflow: auto;\n",
       "  }\n",
       "  table, th, td {\n",
       "    border: 1px solid black;\n",
       "    border-collapse: collapse;\n",
       "  }\n",
       "  th, td {\n",
       "    padding: 5px;\n",
       "  }\n",
       "  th {\n",
       "    text-align: left;\n",
       "  }\n",
       "</style><div class='table-result-container'><table class='table-result'><thead style='background-color: white'><tr><th>key</th><th>value</th><th>topic</th><th>partition</th><th>offset</th><th>timestamp</th><th>date</th><th>week_part</th></tr></thead><tbody><tr><td>MTI0ODgw</td><td>eyJkZXZpY2VfaWQiOiAxMjQ4ODAsICJ0aW1lIjogMTU3NTI0NDc5MCwgImhlYXJ0cmF0ZSI6IDQ0LjAwOTMzMjQzNTA4MzczfQ==</td><td>bpm</td><td>0</td><td>65197029</td><td>1575244801224</td><td>2019-12-02</td><td>2019-49</td></tr><tr><td>MTMzMDIy</td><td>eyJkZXZpY2VfaWQiOiAxMzMwMjIsICJ0aW1lIjogMTU3NTI0NDgwOCwgImhlYXJ0cmF0ZSI6IDQ3LjQ1MTAxMjM0OTU5NjA1Nn0=</td><td>bpm</td><td>2</td><td>65215178</td><td>1575244817439</td><td>2019-12-02</td><td>2019-49</td></tr><tr><td>MTgwMDI3</td><td>eyJkZXZpY2VfaWQiOiAxODAwMjcsICJ0aW1lIjogMTU3NTI0NDgwNCwgImhlYXJ0cmF0ZSI6IDQ2LjMwMDgxMzE3Njk5MDQ3fQ==</td><td>bpm</td><td>2</td><td>65215177</td><td>1575244817093</td><td>2019-12-02</td><td>2019-49</td></tr><tr><td>MTE1NjQz</td><td>eyJkZXZpY2VfaWQiOiAxMTU2NDMsICJ0aW1lIjogMTU3NTI0NDgxMCwgImhlYXJ0cmF0ZSI6IDQyLjE5NDYwMTIzMjk3NTkzNH0=</td><td>bpm</td><td>3</td><td>64982092</td><td>1575244817280</td><td>2019-12-02</td><td>2019-49</td></tr><tr><td>MTAyNTU4</td><td>eyJkZXZpY2VfaWQiOiAxMDI1NTgsICJ0aW1lIjogMTU3NTI0NDgxMCwgImhlYXJ0cmF0ZSI6IDUxLjY2ODMxMTIwMzY1Mzg0fQ==</td><td>bpm</td><td>3</td><td>64982107</td><td>1575244823081</td><td>2019-12-02</td><td>2019-49</td></tr><tr><td>MTAyNTU4</td><td>eyJkZXZpY2VfaWQiOiAxMDI1NTgsICJ0aW1lIjogMTU3NTI0NDgxMCwgImhlYXJ0cmF0ZSI6IDUxLjY2ODMxMTIwMzY1Mzg0fQ==</td><td>bpm</td><td>3</td><td>64982110</td><td>1575244823081</td><td>2019-12-02</td><td>2019-49</td></tr><tr><td>MTQ2NjQ1</td><td>eyJkZXZpY2VfaWQiOiAxNDY2NDUsICJ0aW1lIjogMTU3NTI0NDgyNiwgImhlYXJ0cmF0ZSI6IDM1LjUxMzM0NDc1Nzg2MjkyNH0=</td><td>bpm</td><td>0</td><td>65197068</td><td>1575244833149</td><td>2019-12-02</td><td>2019-49</td></tr><tr><td>MTA3OTUy</td><td>eyJkZXZpY2VfaWQiOiAxMDc5NTIsICJ0aW1lIjogMTU3NTI0NDg0MCwgImhlYXJ0cmF0ZSI6IDYxLjQwMzM2NTExMjUxOTE3fQ==</td><td>bpm</td><td>2</td><td>65215240</td><td>1575244850048</td><td>2019-12-02</td><td>2019-49</td></tr><tr><td>MTMzMDIy</td><td>eyJkZXZpY2VfaWQiOiAxMzMwMjIsICJ0aW1lIjogMTU3NTI0NDgzNywgImhlYXJ0cmF0ZSI6IDQyLjA4MDE2MTM5MjA3MDExfQ==</td><td>bpm</td><td>2</td><td>65215226</td><td>1575244849427</td><td>2019-12-02</td><td>2019-49</td></tr><tr><td>MTYxMzQz</td><td>eyJkZXZpY2VfaWQiOiAxNjEzNDMsICJ0aW1lIjogMTU3NTI0NDg1MCwgImhlYXJ0cmF0ZSI6IDMyLjgxMzIyNjYwNjIyNDI1NX0=</td><td>bpm</td><td>3</td><td>64982140</td><td>1575244856309</td><td>2019-12-02</td><td>2019-49</td></tr></tbody></table></div>"
      ]
     },
     "metadata": {
      "application/vnd.databricks.v1+output": {
       "addedWidgets": {},
       "aggData": [],
       "aggError": "",
       "aggOverflow": false,
       "aggSchema": [],
       "aggSeriesLimitReached": false,
       "aggType": "",
       "arguments": {},
       "columnCustomDisplayInfos": {},
       "data": [
        [
         "MTI0ODgw",
         "eyJkZXZpY2VfaWQiOiAxMjQ4ODAsICJ0aW1lIjogMTU3NTI0NDc5MCwgImhlYXJ0cmF0ZSI6IDQ0LjAwOTMzMjQzNTA4MzczfQ==",
         "bpm",
         0,
         65197029,
         1575244801224,
         "2019-12-02",
         "2019-49"
        ],
        [
         "MTMzMDIy",
         "eyJkZXZpY2VfaWQiOiAxMzMwMjIsICJ0aW1lIjogMTU3NTI0NDgwOCwgImhlYXJ0cmF0ZSI6IDQ3LjQ1MTAxMjM0OTU5NjA1Nn0=",
         "bpm",
         2,
         65215178,
         1575244817439,
         "2019-12-02",
         "2019-49"
        ],
        [
         "MTgwMDI3",
         "eyJkZXZpY2VfaWQiOiAxODAwMjcsICJ0aW1lIjogMTU3NTI0NDgwNCwgImhlYXJ0cmF0ZSI6IDQ2LjMwMDgxMzE3Njk5MDQ3fQ==",
         "bpm",
         2,
         65215177,
         1575244817093,
         "2019-12-02",
         "2019-49"
        ],
        [
         "MTE1NjQz",
         "eyJkZXZpY2VfaWQiOiAxMTU2NDMsICJ0aW1lIjogMTU3NTI0NDgxMCwgImhlYXJ0cmF0ZSI6IDQyLjE5NDYwMTIzMjk3NTkzNH0=",
         "bpm",
         3,
         64982092,
         1575244817280,
         "2019-12-02",
         "2019-49"
        ],
        [
         "MTAyNTU4",
         "eyJkZXZpY2VfaWQiOiAxMDI1NTgsICJ0aW1lIjogMTU3NTI0NDgxMCwgImhlYXJ0cmF0ZSI6IDUxLjY2ODMxMTIwMzY1Mzg0fQ==",
         "bpm",
         3,
         64982107,
         1575244823081,
         "2019-12-02",
         "2019-49"
        ],
        [
         "MTAyNTU4",
         "eyJkZXZpY2VfaWQiOiAxMDI1NTgsICJ0aW1lIjogMTU3NTI0NDgxMCwgImhlYXJ0cmF0ZSI6IDUxLjY2ODMxMTIwMzY1Mzg0fQ==",
         "bpm",
         3,
         64982110,
         1575244823081,
         "2019-12-02",
         "2019-49"
        ],
        [
         "MTQ2NjQ1",
         "eyJkZXZpY2VfaWQiOiAxNDY2NDUsICJ0aW1lIjogMTU3NTI0NDgyNiwgImhlYXJ0cmF0ZSI6IDM1LjUxMzM0NDc1Nzg2MjkyNH0=",
         "bpm",
         0,
         65197068,
         1575244833149,
         "2019-12-02",
         "2019-49"
        ],
        [
         "MTA3OTUy",
         "eyJkZXZpY2VfaWQiOiAxMDc5NTIsICJ0aW1lIjogMTU3NTI0NDg0MCwgImhlYXJ0cmF0ZSI6IDYxLjQwMzM2NTExMjUxOTE3fQ==",
         "bpm",
         2,
         65215240,
         1575244850048,
         "2019-12-02",
         "2019-49"
        ],
        [
         "MTMzMDIy",
         "eyJkZXZpY2VfaWQiOiAxMzMwMjIsICJ0aW1lIjogMTU3NTI0NDgzNywgImhlYXJ0cmF0ZSI6IDQyLjA4MDE2MTM5MjA3MDExfQ==",
         "bpm",
         2,
         65215226,
         1575244849427,
         "2019-12-02",
         "2019-49"
        ],
        [
         "MTYxMzQz",
         "eyJkZXZpY2VfaWQiOiAxNjEzNDMsICJ0aW1lIjogMTU3NTI0NDg1MCwgImhlYXJ0cmF0ZSI6IDMyLjgxMzIyNjYwNjIyNDI1NX0=",
         "bpm",
         3,
         64982140,
         1575244856309,
         "2019-12-02",
         "2019-49"
        ]
       ],
       "datasetInfos": [],
       "dbfsResultPath": null,
       "isJsonSchema": true,
       "metadata": {},
       "overflow": false,
       "plotOptions": {
        "customPlotOptions": {},
        "displayType": "table",
        "pivotAggregation": null,
        "pivotColumns": null,
        "xColumns": null,
        "yColumns": null
       },
       "removedWidgets": [],
       "schema": [
        {
         "metadata": "{}",
         "name": "key",
         "type": "\"binary\""
        },
        {
         "metadata": "{}",
         "name": "value",
         "type": "\"binary\""
        },
        {
         "metadata": "{}",
         "name": "topic",
         "type": "\"string\""
        },
        {
         "metadata": "{}",
         "name": "partition",
         "type": "\"long\""
        },
        {
         "metadata": "{}",
         "name": "offset",
         "type": "\"long\""
        },
        {
         "metadata": "{}",
         "name": "timestamp",
         "type": "\"long\""
        },
        {
         "metadata": "{}",
         "name": "date",
         "type": "\"date\""
        },
        {
         "metadata": "{}",
         "name": "week_part",
         "type": "\"string\""
        }
       ],
       "type": "table"
      }
     },
     "output_type": "display_data"
    },
    {
     "output_type": "display_data",
     "data": {
      "text/html": [
       "<style scoped>\n",
       "  .table-result-container {\n",
       "    max-height: 300px;\n",
       "    overflow: auto;\n",
       "  }\n",
       "  table, th, td {\n",
       "    border: 1px solid black;\n",
       "    border-collapse: collapse;\n",
       "  }\n",
       "  th, td {\n",
       "    padding: 5px;\n",
       "  }\n",
       "  th {\n",
       "    text-align: left;\n",
       "  }\n",
       "</style><div class='table-result-container'><table class='table-result'><thead style='background-color: white'><tr><th>col_name</th><th>data_type</th><th>comment</th></tr></thead><tbody><tr><td>key</td><td>binary</td><td>null</td></tr><tr><td>value</td><td>binary</td><td>null</td></tr><tr><td>topic</td><td>string</td><td>null</td></tr><tr><td>partition</td><td>bigint</td><td>null</td></tr><tr><td>offset</td><td>bigint</td><td>null</td></tr><tr><td>timestamp</td><td>bigint</td><td>null</td></tr><tr><td>date</td><td>date</td><td>null</td></tr><tr><td>week_part</td><td>string</td><td>null</td></tr><tr><td># Partition Information</td><td></td><td></td></tr><tr><td># col_name</td><td>data_type</td><td>comment</td></tr><tr><td>topic</td><td>string</td><td>null</td></tr><tr><td>week_part</td><td>string</td><td>null</td></tr></tbody></table></div>"
      ]
     },
     "metadata": {
      "application/vnd.databricks.v1+output": {
       "addedWidgets": {},
       "aggData": [],
       "aggError": "",
       "aggOverflow": false,
       "aggSchema": [],
       "aggSeriesLimitReached": false,
       "aggType": "",
       "arguments": {},
       "columnCustomDisplayInfos": {},
       "data": [
        [
         "key",
         "binary",
         null
        ],
        [
         "value",
         "binary",
         null
        ],
        [
         "topic",
         "string",
         null
        ],
        [
         "partition",
         "bigint",
         null
        ],
        [
         "offset",
         "bigint",
         null
        ],
        [
         "timestamp",
         "bigint",
         null
        ],
        [
         "date",
         "date",
         null
        ],
        [
         "week_part",
         "string",
         null
        ],
        [
         "# Partition Information",
         "",
         ""
        ],
        [
         "# col_name",
         "data_type",
         "comment"
        ],
        [
         "topic",
         "string",
         null
        ],
        [
         "week_part",
         "string",
         null
        ]
       ],
       "datasetInfos": [],
       "dbfsResultPath": null,
       "isJsonSchema": true,
       "metadata": {},
       "overflow": false,
       "plotOptions": {
        "customPlotOptions": {},
        "displayType": "table",
        "pivotAggregation": null,
        "pivotColumns": null,
        "xColumns": null,
        "yColumns": null
       },
       "removedWidgets": [],
       "schema": [
        {
         "metadata": "{\"comment\":\"name of the column\"}",
         "name": "col_name",
         "type": "\"string\""
        },
        {
         "metadata": "{\"comment\":\"data type of the column\"}",
         "name": "data_type",
         "type": "\"string\""
        },
        {
         "metadata": "{\"comment\":\"comment of the column\"}",
         "name": "comment",
         "type": "\"string\""
        }
       ],
       "type": "table"
      }
     },
     "output_type": "display_data"
    },
    {
     "output_type": "display_data",
     "data": {
      "text/html": [
       "<style scoped>\n",
       "  .table-result-container {\n",
       "    max-height: 300px;\n",
       "    overflow: auto;\n",
       "  }\n",
       "  table, th, td {\n",
       "    border: 1px solid black;\n",
       "    border-collapse: collapse;\n",
       "  }\n",
       "  th, td {\n",
       "    padding: 5px;\n",
       "  }\n",
       "  th {\n",
       "    text-align: left;\n",
       "  }\n",
       "</style><div class='table-result-container'><table class='table-result'><thead style='background-color: white'><tr><th>topic</th></tr></thead><tbody><tr><td>workout</td></tr><tr><td>user_info</td></tr><tr><td>bpm</td></tr></tbody></table></div>"
      ]
     },
     "metadata": {
      "application/vnd.databricks.v1+output": {
       "addedWidgets": {},
       "aggData": [],
       "aggError": "",
       "aggOverflow": false,
       "aggSchema": [],
       "aggSeriesLimitReached": false,
       "aggType": "",
       "arguments": {},
       "columnCustomDisplayInfos": {},
       "data": [
        [
         "workout"
        ],
        [
         "user_info"
        ],
        [
         "bpm"
        ]
       ],
       "datasetInfos": [],
       "dbfsResultPath": null,
       "isJsonSchema": true,
       "metadata": {},
       "overflow": false,
       "plotOptions": {
        "customPlotOptions": {},
        "displayType": "table",
        "pivotAggregation": null,
        "pivotColumns": null,
        "xColumns": null,
        "yColumns": null
       },
       "removedWidgets": [],
       "schema": [
        {
         "metadata": "{}",
         "name": "topic",
         "type": "\"string\""
        }
       ],
       "type": "table"
      }
     },
     "output_type": "display_data"
    },
    {
     "output_type": "stream",
     "name": "stdout",
     "output_type": "stream",
     "text": [
      "\nThe Bronze table has 10841978 rows\n\n"
     ]
    }
   ],
   "source": [
    "# Acquire data from the Bronze table to a DataFrame\n",
    "bronze_df = spark.table(\"bronze\")\n",
    "\n",
    "# Check a sample of rows\n",
    "display(bronze_df.limit(10))\n",
    "\n",
    "# Verify the partitioning, location, and other details of the Bronze table\n",
    "display(spark.sql(\"DESCRIBE bronze.bronze\"))\n",
    "\n",
    "# Obtain different values from the topic column\n",
    "display(bronze_df.select(f.col(\"topic\")).distinct())\n",
    "\n",
    "# Count of ingested rows, should have more then 10 millions\n",
    "print(\"\")\n",
    "print(f\"The Bronze table has {bronze_df.count()} rows\")\n",
    "print(\"\")"
   ]
  },
  {
   "cell_type": "markdown",
   "metadata": {
    "application/vnd.databricks.v1+cell": {
     "cellMetadata": {
      "byteLimit": 2048000,
      "rowLimit": 10000
     },
     "inputWidgets": {},
     "nuid": "f8fa2d3d-1084-4051-874e-1d4424891f18",
     "showTitle": false,
     "title": ""
    }
   },
   "source": [
    "### Binary decoding\n",
    "\n",
    "As shown previously, the columns `key` and `value` are encoded.  The method I use for decoding involves transforming them from binary back to string, though other methods may exist. (*Specific decoding methods or decryption should be provided by the customer*)<br>\n",
    "Let's now take a look at what we'll be working with."
   ]
  },
  {
   "cell_type": "code",
   "execution_count": 0,
   "metadata": {
    "application/vnd.databricks.v1+cell": {
     "cellMetadata": {
      "byteLimit": 2048000,
      "rowLimit": 10000
     },
     "inputWidgets": {},
     "nuid": "e92526d6-f001-44b4-8b7d-9d00be0f6635",
     "showTitle": true,
     "title": "Binary decode"
    }
   },
   "outputs": [
    {
     "output_type": "display_data",
     "data": {
      "text/html": [
       "<style scoped>\n",
       "  .table-result-container {\n",
       "    max-height: 300px;\n",
       "    overflow: auto;\n",
       "  }\n",
       "  table, th, td {\n",
       "    border: 1px solid black;\n",
       "    border-collapse: collapse;\n",
       "  }\n",
       "  th, td {\n",
       "    padding: 5px;\n",
       "  }\n",
       "  th {\n",
       "    text-align: left;\n",
       "  }\n",
       "</style><div class='table-result-container'><table class='table-result'><thead style='background-color: white'><tr><th>key_decoded</th><th>value_decoded</th><th>key</th><th>value</th></tr></thead><tbody><tr><td>124880</td><td>{\"device_id\": 124880, \"time\": 1575244790, \"heartrate\": 44.00933243508373}</td><td>MTI0ODgw</td><td>eyJkZXZpY2VfaWQiOiAxMjQ4ODAsICJ0aW1lIjogMTU3NTI0NDc5MCwgImhlYXJ0cmF0ZSI6IDQ0LjAwOTMzMjQzNTA4MzczfQ==</td></tr><tr><td>133022</td><td>{\"device_id\": 133022, \"time\": 1575244808, \"heartrate\": 47.451012349596056}</td><td>MTMzMDIy</td><td>eyJkZXZpY2VfaWQiOiAxMzMwMjIsICJ0aW1lIjogMTU3NTI0NDgwOCwgImhlYXJ0cmF0ZSI6IDQ3LjQ1MTAxMjM0OTU5NjA1Nn0=</td></tr><tr><td>180027</td><td>{\"device_id\": 180027, \"time\": 1575244804, \"heartrate\": 46.30081317699047}</td><td>MTgwMDI3</td><td>eyJkZXZpY2VfaWQiOiAxODAwMjcsICJ0aW1lIjogMTU3NTI0NDgwNCwgImhlYXJ0cmF0ZSI6IDQ2LjMwMDgxMzE3Njk5MDQ3fQ==</td></tr><tr><td>115643</td><td>{\"device_id\": 115643, \"time\": 1575244810, \"heartrate\": 42.194601232975934}</td><td>MTE1NjQz</td><td>eyJkZXZpY2VfaWQiOiAxMTU2NDMsICJ0aW1lIjogMTU3NTI0NDgxMCwgImhlYXJ0cmF0ZSI6IDQyLjE5NDYwMTIzMjk3NTkzNH0=</td></tr><tr><td>102558</td><td>{\"device_id\": 102558, \"time\": 1575244810, \"heartrate\": 51.66831120365384}</td><td>MTAyNTU4</td><td>eyJkZXZpY2VfaWQiOiAxMDI1NTgsICJ0aW1lIjogMTU3NTI0NDgxMCwgImhlYXJ0cmF0ZSI6IDUxLjY2ODMxMTIwMzY1Mzg0fQ==</td></tr><tr><td>102558</td><td>{\"device_id\": 102558, \"time\": 1575244810, \"heartrate\": 51.66831120365384}</td><td>MTAyNTU4</td><td>eyJkZXZpY2VfaWQiOiAxMDI1NTgsICJ0aW1lIjogMTU3NTI0NDgxMCwgImhlYXJ0cmF0ZSI6IDUxLjY2ODMxMTIwMzY1Mzg0fQ==</td></tr><tr><td>146645</td><td>{\"device_id\": 146645, \"time\": 1575244826, \"heartrate\": 35.513344757862924}</td><td>MTQ2NjQ1</td><td>eyJkZXZpY2VfaWQiOiAxNDY2NDUsICJ0aW1lIjogMTU3NTI0NDgyNiwgImhlYXJ0cmF0ZSI6IDM1LjUxMzM0NDc1Nzg2MjkyNH0=</td></tr><tr><td>107952</td><td>{\"device_id\": 107952, \"time\": 1575244840, \"heartrate\": 61.40336511251917}</td><td>MTA3OTUy</td><td>eyJkZXZpY2VfaWQiOiAxMDc5NTIsICJ0aW1lIjogMTU3NTI0NDg0MCwgImhlYXJ0cmF0ZSI6IDYxLjQwMzM2NTExMjUxOTE3fQ==</td></tr><tr><td>133022</td><td>{\"device_id\": 133022, \"time\": 1575244837, \"heartrate\": 42.08016139207011}</td><td>MTMzMDIy</td><td>eyJkZXZpY2VfaWQiOiAxMzMwMjIsICJ0aW1lIjogMTU3NTI0NDgzNywgImhlYXJ0cmF0ZSI6IDQyLjA4MDE2MTM5MjA3MDExfQ==</td></tr><tr><td>161343</td><td>{\"device_id\": 161343, \"time\": 1575244850, \"heartrate\": 32.813226606224255}</td><td>MTYxMzQz</td><td>eyJkZXZpY2VfaWQiOiAxNjEzNDMsICJ0aW1lIjogMTU3NTI0NDg1MCwgImhlYXJ0cmF0ZSI6IDMyLjgxMzIyNjYwNjIyNDI1NX0=</td></tr></tbody></table></div>"
      ]
     },
     "metadata": {
      "application/vnd.databricks.v1+output": {
       "addedWidgets": {},
       "aggData": [],
       "aggError": "",
       "aggOverflow": false,
       "aggSchema": [],
       "aggSeriesLimitReached": false,
       "aggType": "",
       "arguments": {},
       "columnCustomDisplayInfos": {},
       "data": [
        [
         "124880",
         "{\"device_id\": 124880, \"time\": 1575244790, \"heartrate\": 44.00933243508373}",
         "MTI0ODgw",
         "eyJkZXZpY2VfaWQiOiAxMjQ4ODAsICJ0aW1lIjogMTU3NTI0NDc5MCwgImhlYXJ0cmF0ZSI6IDQ0LjAwOTMzMjQzNTA4MzczfQ=="
        ],
        [
         "133022",
         "{\"device_id\": 133022, \"time\": 1575244808, \"heartrate\": 47.451012349596056}",
         "MTMzMDIy",
         "eyJkZXZpY2VfaWQiOiAxMzMwMjIsICJ0aW1lIjogMTU3NTI0NDgwOCwgImhlYXJ0cmF0ZSI6IDQ3LjQ1MTAxMjM0OTU5NjA1Nn0="
        ],
        [
         "180027",
         "{\"device_id\": 180027, \"time\": 1575244804, \"heartrate\": 46.30081317699047}",
         "MTgwMDI3",
         "eyJkZXZpY2VfaWQiOiAxODAwMjcsICJ0aW1lIjogMTU3NTI0NDgwNCwgImhlYXJ0cmF0ZSI6IDQ2LjMwMDgxMzE3Njk5MDQ3fQ=="
        ],
        [
         "115643",
         "{\"device_id\": 115643, \"time\": 1575244810, \"heartrate\": 42.194601232975934}",
         "MTE1NjQz",
         "eyJkZXZpY2VfaWQiOiAxMTU2NDMsICJ0aW1lIjogMTU3NTI0NDgxMCwgImhlYXJ0cmF0ZSI6IDQyLjE5NDYwMTIzMjk3NTkzNH0="
        ],
        [
         "102558",
         "{\"device_id\": 102558, \"time\": 1575244810, \"heartrate\": 51.66831120365384}",
         "MTAyNTU4",
         "eyJkZXZpY2VfaWQiOiAxMDI1NTgsICJ0aW1lIjogMTU3NTI0NDgxMCwgImhlYXJ0cmF0ZSI6IDUxLjY2ODMxMTIwMzY1Mzg0fQ=="
        ],
        [
         "102558",
         "{\"device_id\": 102558, \"time\": 1575244810, \"heartrate\": 51.66831120365384}",
         "MTAyNTU4",
         "eyJkZXZpY2VfaWQiOiAxMDI1NTgsICJ0aW1lIjogMTU3NTI0NDgxMCwgImhlYXJ0cmF0ZSI6IDUxLjY2ODMxMTIwMzY1Mzg0fQ=="
        ],
        [
         "146645",
         "{\"device_id\": 146645, \"time\": 1575244826, \"heartrate\": 35.513344757862924}",
         "MTQ2NjQ1",
         "eyJkZXZpY2VfaWQiOiAxNDY2NDUsICJ0aW1lIjogMTU3NTI0NDgyNiwgImhlYXJ0cmF0ZSI6IDM1LjUxMzM0NDc1Nzg2MjkyNH0="
        ],
        [
         "107952",
         "{\"device_id\": 107952, \"time\": 1575244840, \"heartrate\": 61.40336511251917}",
         "MTA3OTUy",
         "eyJkZXZpY2VfaWQiOiAxMDc5NTIsICJ0aW1lIjogMTU3NTI0NDg0MCwgImhlYXJ0cmF0ZSI6IDYxLjQwMzM2NTExMjUxOTE3fQ=="
        ],
        [
         "133022",
         "{\"device_id\": 133022, \"time\": 1575244837, \"heartrate\": 42.08016139207011}",
         "MTMzMDIy",
         "eyJkZXZpY2VfaWQiOiAxMzMwMjIsICJ0aW1lIjogMTU3NTI0NDgzNywgImhlYXJ0cmF0ZSI6IDQyLjA4MDE2MTM5MjA3MDExfQ=="
        ],
        [
         "161343",
         "{\"device_id\": 161343, \"time\": 1575244850, \"heartrate\": 32.813226606224255}",
         "MTYxMzQz",
         "eyJkZXZpY2VfaWQiOiAxNjEzNDMsICJ0aW1lIjogMTU3NTI0NDg1MCwgImhlYXJ0cmF0ZSI6IDMyLjgxMzIyNjYwNjIyNDI1NX0="
        ]
       ],
       "datasetInfos": [],
       "dbfsResultPath": null,
       "isJsonSchema": true,
       "metadata": {},
       "overflow": false,
       "plotOptions": {
        "customPlotOptions": {},
        "displayType": "table",
        "pivotAggregation": null,
        "pivotColumns": null,
        "xColumns": null,
        "yColumns": null
       },
       "removedWidgets": [],
       "schema": [
        {
         "metadata": "{}",
         "name": "key_decoded",
         "type": "\"string\""
        },
        {
         "metadata": "{}",
         "name": "value_decoded",
         "type": "\"string\""
        },
        {
         "metadata": "{}",
         "name": "key",
         "type": "\"binary\""
        },
        {
         "metadata": "{}",
         "name": "value",
         "type": "\"binary\""
        }
       ],
       "type": "table"
      }
     },
     "output_type": "display_data"
    }
   ],
   "source": [
    "display(\n",
    "    bronze_df.withColumn(\"key_decoded\", bronze_df.key.cast(\"string\"))\n",
    "            .withColumn(\"value_decoded\", bronze_df.value.cast(\"string\"))\n",
    "            .select(\"key_decoded\", \"value_decoded\", \"key\", \"value\")\n",
    "            .limit(10)\n",
    ")"
   ]
  },
  {
   "cell_type": "markdown",
   "metadata": {
    "application/vnd.databricks.v1+cell": {
     "cellMetadata": {
      "byteLimit": 2048000,
      "rowLimit": 10000
     },
     "inputWidgets": {},
     "nuid": "9e57a510-5442-4250-9c93-97d4cdda137a",
     "showTitle": false,
     "title": ""
    }
   },
   "source": [
    "From the sample, it appears that the `key` column contains the same data as the first column nested within the `value` column.<br>\n",
    "However, a ten-row sample is not sufficient for a dataset with ten million rows, especially when the Bronze table will be used to create three different tables.<br> \n",
    "Let's dig deeper."
   ]
  },
  {
   "cell_type": "markdown",
   "metadata": {
    "application/vnd.databricks.v1+cell": {
     "cellMetadata": {
      "byteLimit": 2048000,
      "rowLimit": 10000
     },
     "inputWidgets": {},
     "nuid": "65ce1a15-5500-4d04-8e06-47eb934a4e39",
     "showTitle": false,
     "title": ""
    }
   },
   "source": [
    "### Reviewing decoded data\n",
    "\n",
    "Now that we've decoded the binary columns, it's important to closely examine each `topic`. This will help understand the structure and content of the data, identify obvious issues, and ensure that the data is correctly decoded and ready for the next steps in our pipeline."
   ]
  },
  {
   "cell_type": "code",
   "execution_count": 0,
   "metadata": {
    "application/vnd.databricks.v1+cell": {
     "cellMetadata": {
      "byteLimit": 2048000,
      "rowLimit": 10000
     },
     "inputWidgets": {},
     "nuid": "d7127fdf-2d89-4481-b69e-4e34829eb6f3",
     "showTitle": true,
     "title": "Displaying data for each topic"
    }
   },
   "outputs": [
    {
     "output_type": "display_data",
     "data": {
      "text/html": [
       "<style scoped>\n",
       "  .table-result-container {\n",
       "    max-height: 300px;\n",
       "    overflow: auto;\n",
       "  }\n",
       "  table, th, td {\n",
       "    border: 1px solid black;\n",
       "    border-collapse: collapse;\n",
       "  }\n",
       "  th, td {\n",
       "    padding: 5px;\n",
       "  }\n",
       "  th {\n",
       "    text-align: left;\n",
       "  }\n",
       "</style><div class='table-result-container'><table class='table-result'><thead style='background-color: white'><tr><th>topic</th><th>key_decoded</th><th>value_decoded</th></tr></thead><tbody><tr><td>workout</td><td>40872</td><td>{\"user_id\": 40872, \"workout_id\": 8, \"timestamp\": 1575229675.0, \"action\": \"start\", \"session_id\": 76}</td></tr><tr><td>workout</td><td>29213</td><td>{\"user_id\": 29213, \"workout_id\": 13, \"timestamp\": 1575196562.0, \"action\": \"start\", \"session_id\": 295}</td></tr><tr><td>workout</td><td>29213</td><td>{\"user_id\": 29213, \"workout_id\": 13, \"timestamp\": 1575200016.0, \"action\": \"stop\", \"session_id\": 295}</td></tr><tr><td>workout</td><td>27703</td><td>{\"user_id\": 27703, \"workout_id\": 47, \"timestamp\": 1575203433.0, \"action\": \"start\", \"session_id\": 456}</td></tr><tr><td>workout</td><td>14508</td><td>{\"user_id\": 14508, \"workout_id\": 31, \"timestamp\": 1575224965.0, \"action\": \"start\", \"session_id\": 392}</td></tr></tbody></table></div>"
      ]
     },
     "metadata": {
      "application/vnd.databricks.v1+output": {
       "addedWidgets": {},
       "aggData": [],
       "aggError": "",
       "aggOverflow": false,
       "aggSchema": [],
       "aggSeriesLimitReached": false,
       "aggType": "",
       "arguments": {},
       "columnCustomDisplayInfos": {},
       "data": [
        [
         "workout",
         "40872",
         "{\"user_id\": 40872, \"workout_id\": 8, \"timestamp\": 1575229675.0, \"action\": \"start\", \"session_id\": 76}"
        ],
        [
         "workout",
         "29213",
         "{\"user_id\": 29213, \"workout_id\": 13, \"timestamp\": 1575196562.0, \"action\": \"start\", \"session_id\": 295}"
        ],
        [
         "workout",
         "29213",
         "{\"user_id\": 29213, \"workout_id\": 13, \"timestamp\": 1575200016.0, \"action\": \"stop\", \"session_id\": 295}"
        ],
        [
         "workout",
         "27703",
         "{\"user_id\": 27703, \"workout_id\": 47, \"timestamp\": 1575203433.0, \"action\": \"start\", \"session_id\": 456}"
        ],
        [
         "workout",
         "14508",
         "{\"user_id\": 14508, \"workout_id\": 31, \"timestamp\": 1575224965.0, \"action\": \"start\", \"session_id\": 392}"
        ]
       ],
       "datasetInfos": [],
       "dbfsResultPath": null,
       "isJsonSchema": true,
       "metadata": {},
       "overflow": false,
       "plotOptions": {
        "customPlotOptions": {},
        "displayType": "table",
        "pivotAggregation": null,
        "pivotColumns": null,
        "xColumns": null,
        "yColumns": null
       },
       "removedWidgets": [],
       "schema": [
        {
         "metadata": "{}",
         "name": "topic",
         "type": "\"string\""
        },
        {
         "metadata": "{}",
         "name": "key_decoded",
         "type": "\"string\""
        },
        {
         "metadata": "{}",
         "name": "value_decoded",
         "type": "\"string\""
        }
       ],
       "type": "table"
      }
     },
     "output_type": "display_data"
    },
    {
     "output_type": "stream",
     "name": "stdout",
     "output_type": "stream",
     "text": [
      "\nnumber of workout rows = 1514\n\n"
     ]
    },
    {
     "output_type": "display_data",
     "data": {
      "text/html": [
       "<style scoped>\n",
       "  .table-result-container {\n",
       "    max-height: 300px;\n",
       "    overflow: auto;\n",
       "  }\n",
       "  table, th, td {\n",
       "    border: 1px solid black;\n",
       "    border-collapse: collapse;\n",
       "  }\n",
       "  th, td {\n",
       "    padding: 5px;\n",
       "  }\n",
       "  th {\n",
       "    text-align: left;\n",
       "  }\n",
       "</style><div class='table-result-container'><table class='table-result'><thead style='background-color: white'><tr><th>topic</th><th>key_decoded</th><th>value_decoded</th></tr></thead><tbody><tr><td>bpm</td><td>124880</td><td>{\"device_id\": 124880, \"time\": 1575244790, \"heartrate\": 44.00933243508373}</td></tr><tr><td>bpm</td><td>133022</td><td>{\"device_id\": 133022, \"time\": 1575244808, \"heartrate\": 47.451012349596056}</td></tr><tr><td>bpm</td><td>180027</td><td>{\"device_id\": 180027, \"time\": 1575244804, \"heartrate\": 46.30081317699047}</td></tr><tr><td>bpm</td><td>115643</td><td>{\"device_id\": 115643, \"time\": 1575244810, \"heartrate\": 42.194601232975934}</td></tr><tr><td>bpm</td><td>102558</td><td>{\"device_id\": 102558, \"time\": 1575244810, \"heartrate\": 51.66831120365384}</td></tr></tbody></table></div>"
      ]
     },
     "metadata": {
      "application/vnd.databricks.v1+output": {
       "addedWidgets": {},
       "aggData": [],
       "aggError": "",
       "aggOverflow": false,
       "aggSchema": [],
       "aggSeriesLimitReached": false,
       "aggType": "",
       "arguments": {},
       "columnCustomDisplayInfos": {},
       "data": [
        [
         "bpm",
         "124880",
         "{\"device_id\": 124880, \"time\": 1575244790, \"heartrate\": 44.00933243508373}"
        ],
        [
         "bpm",
         "133022",
         "{\"device_id\": 133022, \"time\": 1575244808, \"heartrate\": 47.451012349596056}"
        ],
        [
         "bpm",
         "180027",
         "{\"device_id\": 180027, \"time\": 1575244804, \"heartrate\": 46.30081317699047}"
        ],
        [
         "bpm",
         "115643",
         "{\"device_id\": 115643, \"time\": 1575244810, \"heartrate\": 42.194601232975934}"
        ],
        [
         "bpm",
         "102558",
         "{\"device_id\": 102558, \"time\": 1575244810, \"heartrate\": 51.66831120365384}"
        ]
       ],
       "datasetInfos": [],
       "dbfsResultPath": null,
       "isJsonSchema": true,
       "metadata": {},
       "overflow": false,
       "plotOptions": {
        "customPlotOptions": {},
        "displayType": "table",
        "pivotAggregation": null,
        "pivotColumns": null,
        "xColumns": null,
        "yColumns": null
       },
       "removedWidgets": [],
       "schema": [
        {
         "metadata": "{}",
         "name": "topic",
         "type": "\"string\""
        },
        {
         "metadata": "{}",
         "name": "key_decoded",
         "type": "\"string\""
        },
        {
         "metadata": "{}",
         "name": "value_decoded",
         "type": "\"string\""
        }
       ],
       "type": "table"
      }
     },
     "output_type": "display_data"
    },
    {
     "output_type": "stream",
     "name": "stdout",
     "output_type": "stream",
     "text": [
      "\nnumber of bpm rows = 10840345\n\n"
     ]
    },
    {
     "output_type": "display_data",
     "data": {
      "text/html": [
       "<style scoped>\n",
       "  .table-result-container {\n",
       "    max-height: 300px;\n",
       "    overflow: auto;\n",
       "  }\n",
       "  table, th, td {\n",
       "    border: 1px solid black;\n",
       "    border-collapse: collapse;\n",
       "  }\n",
       "  th, td {\n",
       "    padding: 5px;\n",
       "  }\n",
       "  th {\n",
       "    text-align: left;\n",
       "  }\n",
       "</style><div class='table-result-container'><table class='table-result'><thead style='background-color: white'><tr><th>topic</th><th>key_decoded</th><th>value_decoded</th></tr></thead><tbody><tr><td>user_info</td><td>27306</td><td>{\"user_id\": 27306, \"update_type\": \"new\", \"timestamp\": 1557184117, \"dob\": \"07/16/1958\", \"sex\": \"F\", \"gender\": \"F\", \"first_name\": \"Stephanie\", \"last_name\": \"Martinez\", \"address\": {\"street_address\": \"1767 Katherine Expressway Suite 062\", \"city\": \"Edwards\", \"state\": \"CA\", \"zip\": 93523}}</td></tr><tr><td>user_info</td><td>31362</td><td>{\"user_id\": 31362, \"update_type\": \"new\", \"timestamp\": 1555539598, \"dob\": \"02/01/2001\", \"sex\": \"F\", \"gender\": \"F\", \"first_name\": \"Shelley\", \"last_name\": \"Andrews\", \"address\": {\"street_address\": \"4791 Nathan Turnpike Suite 540\", \"city\": \"Los Angeles\", \"state\": \"CA\", \"zip\": 90024}}</td></tr><tr><td>user_info</td><td>27703</td><td>{\"user_id\": 27703, \"update_type\": \"new\", \"timestamp\": 1557989967, \"dob\": \"11/19/1944\", \"sex\": \"M\", \"gender\": \"M\", \"first_name\": \"Joshua\", \"last_name\": \"Mitchell\", \"address\": {\"street_address\": \"843 Hannah Corners\", \"city\": \"Woodland Hills\", \"state\": \"CA\", \"zip\": 91367}}</td></tr><tr><td>user_info</td><td>42794</td><td>{\"user_id\": 42794, \"update_type\": \"new\", \"timestamp\": 1558904984, \"dob\": \"05/11/1988\", \"sex\": \"M\", \"gender\": \"M\", \"first_name\": \"Brian\", \"last_name\": \"Williams\", \"address\": {\"street_address\": \"27880 Dawn Lodge\", \"city\": \"Paramount\", \"state\": \"CA\", \"zip\": 90723}}</td></tr><tr><td>user_info</td><td>12140</td><td>{\"user_id\": 12140, \"update_type\": \"new\", \"timestamp\": 1558694443, \"dob\": \"02/02/1999\", \"sex\": \"M\", \"gender\": \"M\", \"first_name\": \"Robert\", \"last_name\": \"Clark\", \"address\": {\"street_address\": \"68994 Steven Vista\", \"city\": \"Pearblossom\", \"state\": \"CA\", \"zip\": 93553}}</td></tr></tbody></table></div>"
      ]
     },
     "metadata": {
      "application/vnd.databricks.v1+output": {
       "addedWidgets": {},
       "aggData": [],
       "aggError": "",
       "aggOverflow": false,
       "aggSchema": [],
       "aggSeriesLimitReached": false,
       "aggType": "",
       "arguments": {},
       "columnCustomDisplayInfos": {},
       "data": [
        [
         "user_info",
         "27306",
         "{\"user_id\": 27306, \"update_type\": \"new\", \"timestamp\": 1557184117, \"dob\": \"07/16/1958\", \"sex\": \"F\", \"gender\": \"F\", \"first_name\": \"Stephanie\", \"last_name\": \"Martinez\", \"address\": {\"street_address\": \"1767 Katherine Expressway Suite 062\", \"city\": \"Edwards\", \"state\": \"CA\", \"zip\": 93523}}"
        ],
        [
         "user_info",
         "31362",
         "{\"user_id\": 31362, \"update_type\": \"new\", \"timestamp\": 1555539598, \"dob\": \"02/01/2001\", \"sex\": \"F\", \"gender\": \"F\", \"first_name\": \"Shelley\", \"last_name\": \"Andrews\", \"address\": {\"street_address\": \"4791 Nathan Turnpike Suite 540\", \"city\": \"Los Angeles\", \"state\": \"CA\", \"zip\": 90024}}"
        ],
        [
         "user_info",
         "27703",
         "{\"user_id\": 27703, \"update_type\": \"new\", \"timestamp\": 1557989967, \"dob\": \"11/19/1944\", \"sex\": \"M\", \"gender\": \"M\", \"first_name\": \"Joshua\", \"last_name\": \"Mitchell\", \"address\": {\"street_address\": \"843 Hannah Corners\", \"city\": \"Woodland Hills\", \"state\": \"CA\", \"zip\": 91367}}"
        ],
        [
         "user_info",
         "42794",
         "{\"user_id\": 42794, \"update_type\": \"new\", \"timestamp\": 1558904984, \"dob\": \"05/11/1988\", \"sex\": \"M\", \"gender\": \"M\", \"first_name\": \"Brian\", \"last_name\": \"Williams\", \"address\": {\"street_address\": \"27880 Dawn Lodge\", \"city\": \"Paramount\", \"state\": \"CA\", \"zip\": 90723}}"
        ],
        [
         "user_info",
         "12140",
         "{\"user_id\": 12140, \"update_type\": \"new\", \"timestamp\": 1558694443, \"dob\": \"02/02/1999\", \"sex\": \"M\", \"gender\": \"M\", \"first_name\": \"Robert\", \"last_name\": \"Clark\", \"address\": {\"street_address\": \"68994 Steven Vista\", \"city\": \"Pearblossom\", \"state\": \"CA\", \"zip\": 93553}}"
        ]
       ],
       "datasetInfos": [],
       "dbfsResultPath": null,
       "isJsonSchema": true,
       "metadata": {},
       "overflow": false,
       "plotOptions": {
        "customPlotOptions": {},
        "displayType": "table",
        "pivotAggregation": null,
        "pivotColumns": null,
        "xColumns": null,
        "yColumns": null
       },
       "removedWidgets": [],
       "schema": [
        {
         "metadata": "{}",
         "name": "topic",
         "type": "\"string\""
        },
        {
         "metadata": "{}",
         "name": "key_decoded",
         "type": "\"string\""
        },
        {
         "metadata": "{}",
         "name": "value_decoded",
         "type": "\"string\""
        }
       ],
       "type": "table"
      }
     },
     "output_type": "display_data"
    },
    {
     "output_type": "stream",
     "name": "stdout",
     "output_type": "stream",
     "text": [
      "\nnumber of user_info rows = 119\n\n"
     ]
    }
   ],
   "source": [
    "topics = ('workout','bpm','user_info')\n",
    "\n",
    "for i in topics:\n",
    "        display(bronze_df.filter(bronze_df.topic == i)\n",
    "                        .withColumn(\"key_decoded\",bronze_df.key.cast('string'))\n",
    "                        .withColumn(\"value_decoded\",bronze_df.value.cast('string'))\n",
    "                        .select('topic','key_decoded','value_decoded')\n",
    "                        .limit(5)\n",
    "              )\n",
    "        \n",
    "        print(\"\")\n",
    "        print(f\"number of {i} rows = {bronze_df.filter(bronze_df.topic == i).count()}\") \n",
    "        print(\"\")\n"
   ]
  },
  {
   "cell_type": "markdown",
   "metadata": {
    "application/vnd.databricks.v1+cell": {
     "cellMetadata": {
      "byteLimit": 2048000,
      "rowLimit": 10000
     },
     "inputWidgets": {},
     "nuid": "b7f33172-84fc-48fe-ad15-4c386f318ccd",
     "showTitle": false,
     "title": ""
    }
   },
   "source": [
    "After inspecting the sample, I can conclude that:\n",
    "<br>\n",
    "- The data don't need further cleaning at this stage\n",
    "- The `key` column represents the topic's ID\n",
    "- All key information is on the value column\n",
    "<br>\n",
    "<br>\n",
    "With this understanding, I'm ready to write the decoded data into the main DataFrame and begin processing each topic."
   ]
  },
  {
   "cell_type": "code",
   "execution_count": 0,
   "metadata": {
    "application/vnd.databricks.v1+cell": {
     "cellMetadata": {
      "byteLimit": 2048000,
      "rowLimit": 10000
     },
     "inputWidgets": {},
     "nuid": "0d585aa5-08cd-4ee9-9b71-e35f0d754b48",
     "showTitle": true,
     "title": "Writing decoded"
    }
   },
   "outputs": [],
   "source": [
    "bronze_df = bronze_df.withColumn(\"key\",bronze_df.key.cast('string')) \\\n",
    "                     .withColumn(\"value\",bronze_df.value.cast('string'))\\\n",
    "                     .select('key', 'value', 'topic', 'partition', 'offset', 'timestamp', 'date', 'week_part')"
   ]
  },
  {
   "cell_type": "markdown",
   "metadata": {
    "application/vnd.databricks.v1+cell": {
     "cellMetadata": {
      "byteLimit": 2048000,
      "rowLimit": 10000
     },
     "inputWidgets": {},
     "nuid": "586a3709-5e5b-43f4-aa62-7b05f9fa999e",
     "showTitle": false,
     "title": ""
    }
   },
   "source": [
    "## Processing the Heart Rate table\n",
    "\n",
    "The steps to achieve the main goal of this module are:\n",
    "- Extract a DF containing only `bpm` data\n",
    "- Unnest the `value` column\n",
    "- Perform basic cleaning on the unnested data\n",
    "- Implement measures to extend the pipeline's lifespan\n",
    "- Create the `Silver.Heartrate` table"
   ]
  },
  {
   "cell_type": "markdown",
   "metadata": {
    "application/vnd.databricks.v1+cell": {
     "cellMetadata": {
      "byteLimit": 2048000,
      "rowLimit": 10000
     },
     "inputWidgets": {},
     "nuid": "6ab3fe07-48ee-4aa1-99d8-2d67dc851a05",
     "showTitle": false,
     "title": ""
    }
   },
   "source": [
    "### Extract and Parse"
   ]
  },
  {
   "cell_type": "code",
   "execution_count": 0,
   "metadata": {
    "application/vnd.databricks.v1+cell": {
     "cellMetadata": {
      "byteLimit": 2048000,
      "rowLimit": 10000
     },
     "inputWidgets": {},
     "nuid": "68bd0016-c8f8-4ab0-b4a1-60bc24b78e29",
     "showTitle": true,
     "title": "Filtering only heart rate rows"
    }
   },
   "outputs": [
    {
     "output_type": "display_data",
     "data": {
      "text/html": [
       "<style scoped>\n",
       "  .table-result-container {\n",
       "    max-height: 300px;\n",
       "    overflow: auto;\n",
       "  }\n",
       "  table, th, td {\n",
       "    border: 1px solid black;\n",
       "    border-collapse: collapse;\n",
       "  }\n",
       "  th, td {\n",
       "    padding: 5px;\n",
       "  }\n",
       "  th {\n",
       "    text-align: left;\n",
       "  }\n",
       "</style><div class='table-result-container'><table class='table-result'><thead style='background-color: white'><tr><th>key</th><th>value</th><th>topic</th><th>partition</th><th>offset</th><th>timestamp</th><th>date</th><th>week_part</th></tr></thead><tbody><tr><td>124880</td><td>{\"device_id\": 124880, \"time\": 1575244790, \"heartrate\": 44.00933243508373}</td><td>bpm</td><td>0</td><td>65197029</td><td>1575244801224</td><td>2019-12-02</td><td>2019-49</td></tr><tr><td>133022</td><td>{\"device_id\": 133022, \"time\": 1575244808, \"heartrate\": 47.451012349596056}</td><td>bpm</td><td>2</td><td>65215178</td><td>1575244817439</td><td>2019-12-02</td><td>2019-49</td></tr><tr><td>180027</td><td>{\"device_id\": 180027, \"time\": 1575244804, \"heartrate\": 46.30081317699047}</td><td>bpm</td><td>2</td><td>65215177</td><td>1575244817093</td><td>2019-12-02</td><td>2019-49</td></tr><tr><td>115643</td><td>{\"device_id\": 115643, \"time\": 1575244810, \"heartrate\": 42.194601232975934}</td><td>bpm</td><td>3</td><td>64982092</td><td>1575244817280</td><td>2019-12-02</td><td>2019-49</td></tr><tr><td>102558</td><td>{\"device_id\": 102558, \"time\": 1575244810, \"heartrate\": 51.66831120365384}</td><td>bpm</td><td>3</td><td>64982107</td><td>1575244823081</td><td>2019-12-02</td><td>2019-49</td></tr><tr><td>102558</td><td>{\"device_id\": 102558, \"time\": 1575244810, \"heartrate\": 51.66831120365384}</td><td>bpm</td><td>3</td><td>64982110</td><td>1575244823081</td><td>2019-12-02</td><td>2019-49</td></tr><tr><td>146645</td><td>{\"device_id\": 146645, \"time\": 1575244826, \"heartrate\": 35.513344757862924}</td><td>bpm</td><td>0</td><td>65197068</td><td>1575244833149</td><td>2019-12-02</td><td>2019-49</td></tr><tr><td>107952</td><td>{\"device_id\": 107952, \"time\": 1575244840, \"heartrate\": 61.40336511251917}</td><td>bpm</td><td>2</td><td>65215240</td><td>1575244850048</td><td>2019-12-02</td><td>2019-49</td></tr><tr><td>133022</td><td>{\"device_id\": 133022, \"time\": 1575244837, \"heartrate\": 42.08016139207011}</td><td>bpm</td><td>2</td><td>65215226</td><td>1575244849427</td><td>2019-12-02</td><td>2019-49</td></tr><tr><td>161343</td><td>{\"device_id\": 161343, \"time\": 1575244850, \"heartrate\": 32.813226606224255}</td><td>bpm</td><td>3</td><td>64982140</td><td>1575244856309</td><td>2019-12-02</td><td>2019-49</td></tr></tbody></table></div>"
      ]
     },
     "metadata": {
      "application/vnd.databricks.v1+output": {
       "addedWidgets": {},
       "aggData": [],
       "aggError": "",
       "aggOverflow": false,
       "aggSchema": [],
       "aggSeriesLimitReached": false,
       "aggType": "",
       "arguments": {},
       "columnCustomDisplayInfos": {},
       "data": [
        [
         "124880",
         "{\"device_id\": 124880, \"time\": 1575244790, \"heartrate\": 44.00933243508373}",
         "bpm",
         0,
         65197029,
         1575244801224,
         "2019-12-02",
         "2019-49"
        ],
        [
         "133022",
         "{\"device_id\": 133022, \"time\": 1575244808, \"heartrate\": 47.451012349596056}",
         "bpm",
         2,
         65215178,
         1575244817439,
         "2019-12-02",
         "2019-49"
        ],
        [
         "180027",
         "{\"device_id\": 180027, \"time\": 1575244804, \"heartrate\": 46.30081317699047}",
         "bpm",
         2,
         65215177,
         1575244817093,
         "2019-12-02",
         "2019-49"
        ],
        [
         "115643",
         "{\"device_id\": 115643, \"time\": 1575244810, \"heartrate\": 42.194601232975934}",
         "bpm",
         3,
         64982092,
         1575244817280,
         "2019-12-02",
         "2019-49"
        ],
        [
         "102558",
         "{\"device_id\": 102558, \"time\": 1575244810, \"heartrate\": 51.66831120365384}",
         "bpm",
         3,
         64982107,
         1575244823081,
         "2019-12-02",
         "2019-49"
        ],
        [
         "102558",
         "{\"device_id\": 102558, \"time\": 1575244810, \"heartrate\": 51.66831120365384}",
         "bpm",
         3,
         64982110,
         1575244823081,
         "2019-12-02",
         "2019-49"
        ],
        [
         "146645",
         "{\"device_id\": 146645, \"time\": 1575244826, \"heartrate\": 35.513344757862924}",
         "bpm",
         0,
         65197068,
         1575244833149,
         "2019-12-02",
         "2019-49"
        ],
        [
         "107952",
         "{\"device_id\": 107952, \"time\": 1575244840, \"heartrate\": 61.40336511251917}",
         "bpm",
         2,
         65215240,
         1575244850048,
         "2019-12-02",
         "2019-49"
        ],
        [
         "133022",
         "{\"device_id\": 133022, \"time\": 1575244837, \"heartrate\": 42.08016139207011}",
         "bpm",
         2,
         65215226,
         1575244849427,
         "2019-12-02",
         "2019-49"
        ],
        [
         "161343",
         "{\"device_id\": 161343, \"time\": 1575244850, \"heartrate\": 32.813226606224255}",
         "bpm",
         3,
         64982140,
         1575244856309,
         "2019-12-02",
         "2019-49"
        ]
       ],
       "datasetInfos": [],
       "dbfsResultPath": null,
       "isJsonSchema": true,
       "metadata": {},
       "overflow": false,
       "plotOptions": {
        "customPlotOptions": {},
        "displayType": "table",
        "pivotAggregation": null,
        "pivotColumns": null,
        "xColumns": null,
        "yColumns": null
       },
       "removedWidgets": [],
       "schema": [
        {
         "metadata": "{}",
         "name": "key",
         "type": "\"string\""
        },
        {
         "metadata": "{}",
         "name": "value",
         "type": "\"string\""
        },
        {
         "metadata": "{}",
         "name": "topic",
         "type": "\"string\""
        },
        {
         "metadata": "{}",
         "name": "partition",
         "type": "\"long\""
        },
        {
         "metadata": "{}",
         "name": "offset",
         "type": "\"long\""
        },
        {
         "metadata": "{}",
         "name": "timestamp",
         "type": "\"long\""
        },
        {
         "metadata": "{}",
         "name": "date",
         "type": "\"date\""
        },
        {
         "metadata": "{}",
         "name": "week_part",
         "type": "\"string\""
        }
       ],
       "type": "table"
      }
     },
     "output_type": "display_data"
    }
   ],
   "source": [
    "# Filter DF to include only BPM data\n",
    "bronze_df_bpm = bronze_df.where(bronze_df.topic == 'bpm')\n",
    "\n",
    "#Display a sample of the filtered data to verify the data types of each column\n",
    "display(bronze_df_bpm.limit(10))"
   ]
  },
  {
   "cell_type": "code",
   "execution_count": 0,
   "metadata": {
    "application/vnd.databricks.v1+cell": {
     "cellMetadata": {
      "byteLimit": 2048000,
      "rowLimit": 10000
     },
     "inputWidgets": {},
     "nuid": "25516476-31c6-464c-87e2-32e3147ac69e",
     "showTitle": true,
     "title": "Json tranformation and data types"
    }
   },
   "outputs": [
    {
     "output_type": "display_data",
     "data": {
      "text/html": [
       "<style scoped>\n",
       "  .table-result-container {\n",
       "    max-height: 300px;\n",
       "    overflow: auto;\n",
       "  }\n",
       "  table, th, td {\n",
       "    border: 1px solid black;\n",
       "    border-collapse: collapse;\n",
       "  }\n",
       "  th, td {\n",
       "    padding: 5px;\n",
       "  }\n",
       "  th {\n",
       "    text-align: left;\n",
       "  }\n",
       "</style><div class='table-result-container'><table class='table-result'><thead style='background-color: white'><tr><th>device_id</th><th>time</th><th>heartrate</th></tr></thead><tbody><tr><td>150485</td><td>2019-12-15T23:59:49.000+0000</td><td>41.75157724210267</td></tr><tr><td>154423</td><td>2019-12-16T00:00:01.000+0000</td><td>41.32117600995303</td></tr><tr><td>172965</td><td>2019-12-16T00:00:04.000+0000</td><td>50.09502110360903</td></tr><tr><td>177966</td><td>2019-12-16T00:00:01.000+0000</td><td>40.58552319685103</td></tr><tr><td>146645</td><td>2019-12-16T00:00:14.000+0000</td><td>31.851493866837238</td></tr><tr><td>190340</td><td>2019-12-16T00:00:07.000+0000</td><td>33.92652658156432</td></tr><tr><td>122561</td><td>2019-12-16T00:00:12.000+0000</td><td>32.52707245486624</td></tr><tr><td>135279</td><td>2019-12-16T00:00:12.000+0000</td><td>48.5547842378845</td></tr><tr><td>150485</td><td>2019-12-16T00:00:17.000+0000</td><td>40.12255104063188</td></tr><tr><td>153087</td><td>2019-12-16T00:00:18.000+0000</td><td>51.710009038826065</td></tr></tbody></table></div>"
      ]
     },
     "metadata": {
      "application/vnd.databricks.v1+output": {
       "addedWidgets": {},
       "aggData": [],
       "aggError": "",
       "aggOverflow": false,
       "aggSchema": [],
       "aggSeriesLimitReached": false,
       "aggType": "",
       "arguments": {},
       "columnCustomDisplayInfos": {},
       "data": [
        [
         150485,
         "2019-12-15T23:59:49.000+0000",
         41.75157724210267
        ],
        [
         154423,
         "2019-12-16T00:00:01.000+0000",
         41.32117600995303
        ],
        [
         172965,
         "2019-12-16T00:00:04.000+0000",
         50.09502110360903
        ],
        [
         177966,
         "2019-12-16T00:00:01.000+0000",
         40.58552319685103
        ],
        [
         146645,
         "2019-12-16T00:00:14.000+0000",
         31.851493866837238
        ],
        [
         190340,
         "2019-12-16T00:00:07.000+0000",
         33.92652658156432
        ],
        [
         122561,
         "2019-12-16T00:00:12.000+0000",
         32.52707245486624
        ],
        [
         135279,
         "2019-12-16T00:00:12.000+0000",
         48.5547842378845
        ],
        [
         150485,
         "2019-12-16T00:00:17.000+0000",
         40.12255104063188
        ],
        [
         153087,
         "2019-12-16T00:00:18.000+0000",
         51.710009038826065
        ]
       ],
       "datasetInfos": [],
       "dbfsResultPath": null,
       "isJsonSchema": true,
       "metadata": {},
       "overflow": false,
       "plotOptions": {
        "customPlotOptions": {},
        "displayType": "table",
        "pivotAggregation": null,
        "pivotColumns": null,
        "xColumns": null,
        "yColumns": null
       },
       "removedWidgets": [],
       "schema": [
        {
         "metadata": "{}",
         "name": "device_id",
         "type": "\"integer\""
        },
        {
         "metadata": "{}",
         "name": "time",
         "type": "\"timestamp\""
        },
        {
         "metadata": "{}",
         "name": "heartrate",
         "type": "\"double\""
        }
       ],
       "type": "table"
      }
     },
     "output_type": "display_data"
    }
   ],
   "source": [
    "# Define the schema for the JSON data in the value column\n",
    "schema = t.StructType(\n",
    "    [\n",
    "        t.StructField('device_id', t.IntegerType(), True),\n",
    "        t.StructField('time', t.TimestampType(), True),\n",
    "        t.StructField('heartrate', t.DoubleType(), True)\n",
    "    ]\n",
    ")\n",
    "\n",
    "# Parse the JSON data in the value column using the defined schema\n",
    "bpm_df = bronze_df_bpm.withColumn('value', f.from_json('value', schema))\\\n",
    "                     .select(f.col('value.*')) # Select all columns from the parsed JSON data\n",
    "\n",
    "# Display a sample of the parsed and selected data to verify the structure and contents\n",
    "display(bpm_df.limit(10))"
   ]
  },
  {
   "cell_type": "markdown",
   "metadata": {
    "application/vnd.databricks.v1+cell": {
     "cellMetadata": {
      "byteLimit": 2048000,
      "rowLimit": 10000
     },
     "inputWidgets": {},
     "nuid": "5037f007-2baa-43b1-8189-2fc6a0d03328",
     "showTitle": false,
     "title": ""
    }
   },
   "source": [
    "### Basic Cleaning"
   ]
  },
  {
   "cell_type": "markdown",
   "metadata": {
    "application/vnd.databricks.v1+cell": {
     "cellMetadata": {
      "byteLimit": 2048000,
      "rowLimit": 10000
     },
     "inputWidgets": {},
     "nuid": "1ad43160-3563-435c-80aa-15d33bc2a279",
     "showTitle": false,
     "title": ""
    }
   },
   "source": [
    "#### Duplicate Rows"
   ]
  },
  {
   "cell_type": "code",
   "execution_count": 0,
   "metadata": {
    "application/vnd.databricks.v1+cell": {
     "cellMetadata": {
      "byteLimit": 2048000,
      "rowLimit": 10000
     },
     "inputWidgets": {},
     "nuid": "a14ccdae-22ca-4b86-8fc4-59ce527970a2",
     "showTitle": true,
     "title": "Fully Equal Rows"
    }
   },
   "outputs": [
    {
     "output_type": "stream",
     "name": "stdout",
     "output_type": "stream",
     "text": [
      "Out[9]: 9034893"
     ]
    }
   ],
   "source": [
    "# Count the number of rows after removing fully duplicate records\n",
    "bpm_df.dropDuplicates().count()"
   ]
  },
  {
   "cell_type": "code",
   "execution_count": 0,
   "metadata": {
    "application/vnd.databricks.v1+cell": {
     "cellMetadata": {
      "byteLimit": 2048000,
      "rowLimit": 10000
     },
     "inputWidgets": {},
     "nuid": "0e9f1927-537c-4854-88b1-89be62c0eff6",
     "showTitle": true,
     "title": "Partially Equal Rows"
    }
   },
   "outputs": [
    {
     "output_type": "stream",
     "name": "stdout",
     "output_type": "stream",
     "text": [
      "Out[10]: 9034893"
     ]
    }
   ],
   "source": [
    "# Count the number of rows after removing duplicates based on device_id and time columns\n",
    "bpm_df.dropDuplicates([\"device_id\", \"time\"]).count()"
   ]
  },
  {
   "cell_type": "markdown",
   "metadata": {
    "application/vnd.databricks.v1+cell": {
     "cellMetadata": {
      "byteLimit": 2048000,
      "rowLimit": 10000
     },
     "inputWidgets": {},
     "nuid": "940e48db-3ba3-40d3-9bb7-068b4ae4dbb9",
     "showTitle": false,
     "title": ""
    }
   },
   "source": [
    "**Analysis Conclusion**\n",
    "\n",
    "After this analysis, I can confirm that all duplicate rows are fully identical. Therefore, using `dropDuplicates()` without conditions will suffice. "
   ]
  },
  {
   "cell_type": "code",
   "execution_count": 0,
   "metadata": {
    "application/vnd.databricks.v1+cell": {
     "cellMetadata": {
      "byteLimit": 2048000,
      "rowLimit": 10000
     },
     "inputWidgets": {},
     "nuid": "16fb780c-ee91-499c-b94e-aec2df53a415",
     "showTitle": true,
     "title": "Droping Duplicates"
    }
   },
   "outputs": [],
   "source": [
    "bpm_df = bpm_df.dropDuplicates()"
   ]
  },
  {
   "cell_type": "markdown",
   "metadata": {
    "application/vnd.databricks.v1+cell": {
     "cellMetadata": {
      "byteLimit": 2048000,
      "rowLimit": 10000
     },
     "inputWidgets": {},
     "nuid": "74916cda-96f8-444e-be95-f66a115c1a46",
     "showTitle": false,
     "title": ""
    }
   },
   "source": [
    "#### Negative Values\n",
    "<br>\n",
    "Since negative heart rates are impossible, it's essential to check for them as part of our analysis."
   ]
  },
  {
   "cell_type": "code",
   "execution_count": 0,
   "metadata": {
    "application/vnd.databricks.v1+cell": {
     "cellMetadata": {
      "byteLimit": 2048000,
      "rowLimit": 10000
     },
     "inputWidgets": {},
     "nuid": "68030fd6-bbd2-42fb-b941-f7230fb66c67",
     "showTitle": true,
     "title": "Negative heart rate"
    }
   },
   "outputs": [
    {
     "output_type": "display_data",
     "data": {
      "text/html": [
       "<style scoped>\n",
       "  .table-result-container {\n",
       "    max-height: 300px;\n",
       "    overflow: auto;\n",
       "  }\n",
       "  table, th, td {\n",
       "    border: 1px solid black;\n",
       "    border-collapse: collapse;\n",
       "  }\n",
       "  th, td {\n",
       "    padding: 5px;\n",
       "  }\n",
       "  th {\n",
       "    text-align: left;\n",
       "  }\n",
       "</style><div class='table-result-container'><table class='table-result'><thead style='background-color: white'><tr><th>device_id</th><th>time</th><th>heartrate</th></tr></thead><tbody><tr><td>197930</td><td>2019-12-16T01:04:01.000+0000</td><td>-49.53762936995333</td></tr><tr><td>113029</td><td>2019-12-16T07:58:59.000+0000</td><td>-99.77584777390956</td></tr><tr><td>172633</td><td>2019-12-16T07:38:43.000+0000</td><td>-71.64322670099934</td></tr><tr><td>156698</td><td>2019-12-16T08:20:47.000+0000</td><td>-79.98018540957118</td></tr><tr><td>193806</td><td>2019-12-16T04:41:42.000+0000</td><td>-48.96808899634718</td></tr><tr><td>180111</td><td>2019-12-16T10:42:53.000+0000</td><td>-63.011166360590806</td></tr><tr><td>197930</td><td>2019-12-16T00:52:41.000+0000</td><td>-51.25140767750573</td></tr><tr><td>134009</td><td>2019-12-16T00:52:00.000+0000</td><td>-37.574396004523216</td></tr><tr><td>196248</td><td>2019-12-16T16:40:01.000+0000</td><td>-78.53167975800474</td></tr><tr><td>122235</td><td>2019-12-16T10:48:05.000+0000</td><td>-98.6965991917425</td></tr></tbody></table></div>"
      ]
     },
     "metadata": {
      "application/vnd.databricks.v1+output": {
       "addedWidgets": {},
       "aggData": [],
       "aggError": "",
       "aggOverflow": false,
       "aggSchema": [],
       "aggSeriesLimitReached": false,
       "aggType": "",
       "arguments": {},
       "columnCustomDisplayInfos": {},
       "data": [
        [
         197930,
         "2019-12-16T01:04:01.000+0000",
         -49.53762936995333
        ],
        [
         113029,
         "2019-12-16T07:58:59.000+0000",
         -99.77584777390956
        ],
        [
         172633,
         "2019-12-16T07:38:43.000+0000",
         -71.64322670099934
        ],
        [
         156698,
         "2019-12-16T08:20:47.000+0000",
         -79.98018540957118
        ],
        [
         193806,
         "2019-12-16T04:41:42.000+0000",
         -48.96808899634718
        ],
        [
         180111,
         "2019-12-16T10:42:53.000+0000",
         -63.011166360590806
        ],
        [
         197930,
         "2019-12-16T00:52:41.000+0000",
         -51.25140767750573
        ],
        [
         134009,
         "2019-12-16T00:52:00.000+0000",
         -37.574396004523216
        ],
        [
         196248,
         "2019-12-16T16:40:01.000+0000",
         -78.53167975800474
        ],
        [
         122235,
         "2019-12-16T10:48:05.000+0000",
         -98.6965991917425
        ]
       ],
       "datasetInfos": [],
       "dbfsResultPath": null,
       "isJsonSchema": true,
       "metadata": {},
       "overflow": false,
       "plotOptions": {
        "customPlotOptions": {},
        "displayType": "table",
        "pivotAggregation": null,
        "pivotColumns": null,
        "xColumns": null,
        "yColumns": null
       },
       "removedWidgets": [],
       "schema": [
        {
         "metadata": "{}",
         "name": "device_id",
         "type": "\"integer\""
        },
        {
         "metadata": "{}",
         "name": "time",
         "type": "\"timestamp\""
        },
        {
         "metadata": "{}",
         "name": "heartrate",
         "type": "\"double\""
        }
       ],
       "type": "table"
      }
     },
     "output_type": "display_data"
    },
    {
     "output_type": "stream",
     "name": "stdout",
     "output_type": "stream",
     "text": [
      "\nThe DataFrame has a total of 2520 negative values\n\n"
     ]
    }
   ],
   "source": [
    "# Display a sample of rows where the heart rate is negative\n",
    "display(bpm_df.where(f.col('heartrate') < 0).limit(10))\n",
    "\n",
    "# Count the total number of negative heart rate values in the DataFrame\n",
    "print(\"\")\n",
    "print(f\"The DataFrame has a total of {bpm_df.where(f.col('heartrate') < 0).count()} negative values\")\n",
    "print(\"\")"
   ]
  },
  {
   "cell_type": "markdown",
   "metadata": {
    "application/vnd.databricks.v1+cell": {
     "cellMetadata": {
      "byteLimit": 2048000,
      "rowLimit": 10000
     },
     "inputWidgets": {},
     "nuid": "48e4e97c-6a44-41d5-bd0e-b4d84de6cab4",
     "showTitle": false,
     "title": ""
    }
   },
   "source": [
    "**Handling Negative Values**\n",
    "\n",
    "While the data does contain some negative values, their quantity doesn't justify specific treatment. However, to ensure data integrity, I'll add a table constraint and a filter to prevent them from being included in the final table query."
   ]
  },
  {
   "cell_type": "markdown",
   "metadata": {
    "application/vnd.databricks.v1+cell": {
     "cellMetadata": {
      "byteLimit": 2048000,
      "rowLimit": 10000
     },
     "inputWidgets": {},
     "nuid": "11cc55dd-e194-4d1e-a60b-b4a85ab80e21",
     "showTitle": false,
     "title": ""
    }
   },
   "source": [
    "#### Ensuring Pipeline Health\n",
    "\n",
    "To ensure the integrity and reliability of the pipeline, I'll implement measures to verify the temporal consistency of the data. This includes:<br>\n",
    "\n",
    "- Checking for a clear time span of the data.\n",
    "- Adding a constraint to ensure that records cannot precede the start date of data collection."
   ]
  },
  {
   "cell_type": "code",
   "execution_count": 0,
   "metadata": {
    "application/vnd.databricks.v1+cell": {
     "cellMetadata": {
      "byteLimit": 2048000,
      "rowLimit": 10000
     },
     "inputWidgets": {},
     "nuid": "e54379b0-21cd-4d72-9304-38ad23b0792c",
     "showTitle": true,
     "title": "Getting min and max date"
    }
   },
   "outputs": [
    {
     "output_type": "display_data",
     "data": {
      "text/html": [
       "<style scoped>\n",
       "  .table-result-container {\n",
       "    max-height: 300px;\n",
       "    overflow: auto;\n",
       "  }\n",
       "  table, th, td {\n",
       "    border: 1px solid black;\n",
       "    border-collapse: collapse;\n",
       "  }\n",
       "  th, td {\n",
       "    padding: 5px;\n",
       "  }\n",
       "  th {\n",
       "    text-align: left;\n",
       "  }\n",
       "</style><div class='table-result-container'><table class='table-result'><thead style='background-color: white'><tr><th>min(time)</th><th>max(time)</th></tr></thead><tbody><tr><td>2019-12-01</td><td>2019-12-16</td></tr></tbody></table></div>"
      ]
     },
     "metadata": {
      "application/vnd.databricks.v1+output": {
       "addedWidgets": {},
       "aggData": [],
       "aggError": "",
       "aggOverflow": false,
       "aggSchema": [],
       "aggSeriesLimitReached": false,
       "aggType": "",
       "arguments": {},
       "columnCustomDisplayInfos": {},
       "data": [
        [
         "2019-12-01",
         "2019-12-16"
        ]
       ],
       "datasetInfos": [],
       "dbfsResultPath": null,
       "isJsonSchema": true,
       "metadata": {},
       "overflow": false,
       "plotOptions": {
        "customPlotOptions": {},
        "displayType": "table",
        "pivotAggregation": null,
        "pivotColumns": null,
        "xColumns": null,
        "yColumns": null
       },
       "removedWidgets": [],
       "schema": [
        {
         "metadata": "{}",
         "name": "min(time)",
         "type": "\"date\""
        },
        {
         "metadata": "{}",
         "name": "max(time)",
         "type": "\"date\""
        }
       ],
       "type": "table"
      }
     },
     "output_type": "display_data"
    }
   ],
   "source": [
    "display(bpm_df.withColumn('time', f.to_date(\"time\", \"yyyyMMdd\")).select(f.min('time'), f.max('time')))"
   ]
  },
  {
   "cell_type": "markdown",
   "metadata": {
    "application/vnd.databricks.v1+cell": {
     "cellMetadata": {
      "byteLimit": 2048000,
      "rowLimit": 10000
     },
     "inputWidgets": {},
     "nuid": "41a3830c-e0c0-4f0a-b8ba-d36f8313ac17",
     "showTitle": false,
     "title": ""
    }
   },
   "source": [
    "Based on the analysis, it appears that data collection began on 2019-12-01. To ensure data integrity, I can implement a constraint related to the timestamp column in the table. In a development scenario, it's essential for developers to verify this information with the client before adding any constraints to a table.\n",
    "\n"
   ]
  },
  {
   "cell_type": "markdown",
   "metadata": {
    "application/vnd.databricks.v1+cell": {
     "cellMetadata": {
      "byteLimit": 2048000,
      "rowLimit": 10000
     },
     "inputWidgets": {},
     "nuid": "d83a2b48-dd3c-4284-b36e-054de7500514",
     "showTitle": false,
     "title": ""
    }
   },
   "source": [
    "### Create Heartrate table\n",
    "\n",
    "Handling duplicates within a batch is straightforward, but it doesn't guarantee that identical records haven't been ingested previously.<br> To prevent this scenario, I'll implement a `merge` condition using the `foreachBatch()` function."
   ]
  },
  {
   "cell_type": "code",
   "execution_count": 0,
   "metadata": {
    "application/vnd.databricks.v1+cell": {
     "cellMetadata": {
      "byteLimit": 2048000,
      "rowLimit": 10000
     },
     "inputWidgets": {},
     "nuid": "fa5e7b21-e6d4-45a5-ac0b-a6caf47db456",
     "showTitle": true,
     "title": "Compiling code"
    }
   },
   "outputs": [],
   "source": [
    "# Define merge and update logic for the stream\n",
    "def heartrate_merge_data(df, batch_id): \n",
    "    df.createOrReplaceTempView(\"stream_updates\")    \n",
    "    sql_query = \"\"\"\n",
    "    MERGE INTO silver.heart_rate a\n",
    "    USING stream_updates b\n",
    "    ON a.device_id=b.device_id AND a.time=b.time\n",
    "    WHEN MATCHED THEN\n",
    "    UPDATE SET *\n",
    "    WHEN NOT MATCHED THEN\n",
    "    INSERT * \n",
    "    \"\"\"    \n",
    "    df.sparkSession.sql(sql_query)\n",
    "\n",
    "heartrate_schema = \"device_id INTEGER, time TIMESTAMP, heartrate DOUBLE\"\n",
    "\n",
    "def process_heart_rate():\n",
    "    # Create heart_rate table\n",
    "    spark.sql(\"CREATE TABLE IF NOT EXISTS silver.heart_rate (device_id INTEGER, time TIMESTAMP, heartrate DOUBLE) USING DELTA\")\n",
    "\n",
    "    # Define constraints based on previous analysis\n",
    "    spark.sql(\"ALTER TABLE silver.heart_rate ADD CONSTRAINT validbpm CHECK (heartrate > 0)\")\n",
    "    spark.sql(\"ALTER TABLE silver.heart_rate ADD CONSTRAINT check_date CHECK (time > '2019-11-30')\")\n",
    "\n",
    "    # Structured Streaming query\n",
    "    (spark.readStream\n",
    "            .table(\"bronze\")\n",
    "            .filter(\"topic = 'bpm'\")\n",
    "            .select(f.from_json(f.col(\"value\").cast(\"string\"), heartrate_schema).alias(\"bpm\"))\n",
    "            .filter(\"bpm.heartrate > 0\")\n",
    "            .select(\"bpm.*\")\n",
    "            .withWatermark(\"time\", \"30 seconds\")\n",
    "            .dropDuplicates()\n",
    "            .writeStream\n",
    "                .foreachBatch(heartrate_merge_data) # Apply merge logic to each batch\n",
    "                .option(\"checkpointLocation\", f\"{checkpoint_path}/heart_rate\") # Set checkpoint location\n",
    "                .outputMode(\"update\") # Allow changing existing data in the table \n",
    "                .trigger(availableNow=True) # Process all available data, multiple batches if needed\n",
    "                .queryName(\"silver_heart_rate\") # Name the query for easy reference\n",
    "                .start() # Start the query\n",
    "                .awaitTermination()) # Wait for query to finish\n",
    "\n",
    "def reprocess_heart_rate():\n",
    "\n",
    "    spark.sql(\"DROP TABLE IF EXISTS silver.heart_rate\")\n",
    "\n",
    "    dbutils.fs.rm(f\"{checkpoint_path}/heart_rate\", True)\n",
    "    \n",
    "    process_heart_rate()"
   ]
  },
  {
   "cell_type": "code",
   "execution_count": 0,
   "metadata": {
    "application/vnd.databricks.v1+cell": {
     "cellMetadata": {
      "byteLimit": 2048000,
      "rowLimit": 10000
     },
     "inputWidgets": {},
     "nuid": "e5a549ac-c101-484a-ae01-59baa8250ce9",
     "showTitle": true,
     "title": "Processing Data"
    }
   },
   "outputs": [],
   "source": [
    "process_heart_rate()"
   ]
  },
  {
   "cell_type": "markdown",
   "metadata": {
    "application/vnd.databricks.v1+cell": {
     "cellMetadata": {
      "byteLimit": 2048000,
      "rowLimit": 10000
     },
     "inputWidgets": {},
     "nuid": "4974f69e-011b-41f5-a5d9-c6b411661b5e",
     "showTitle": false,
     "title": ""
    }
   },
   "source": [
    "#### Verifying Transformation"
   ]
  },
  {
   "cell_type": "code",
   "execution_count": 0,
   "metadata": {
    "application/vnd.databricks.v1+cell": {
     "cellMetadata": {
      "byteLimit": 2048000,
      "implicitDf": true,
      "rowLimit": 10000
     },
     "inputWidgets": {},
     "nuid": "02b99f88-12c4-4a28-9dc1-752af0e2b40f",
     "showTitle": true,
     "title": "Data types and constraints"
    }
   },
   "outputs": [
    {
     "output_type": "display_data",
     "data": {
      "text/html": [
       "<style scoped>\n",
       "  .table-result-container {\n",
       "    max-height: 300px;\n",
       "    overflow: auto;\n",
       "  }\n",
       "  table, th, td {\n",
       "    border: 1px solid black;\n",
       "    border-collapse: collapse;\n",
       "  }\n",
       "  th, td {\n",
       "    padding: 5px;\n",
       "  }\n",
       "  th {\n",
       "    text-align: left;\n",
       "  }\n",
       "</style><div class='table-result-container'><table class='table-result'><thead style='background-color: white'><tr><th>col_name</th><th>data_type</th><th>comment</th></tr></thead><tbody><tr><td>device_id</td><td>int</td><td>null</td></tr><tr><td>time</td><td>timestamp</td><td>null</td></tr><tr><td>heartrate</td><td>double</td><td>null</td></tr><tr><td></td><td></td><td></td></tr><tr><td># Detailed Table Information</td><td></td><td></td></tr><tr><td>Catalog</td><td>spark_catalog</td><td></td></tr><tr><td>Database</td><td>silver</td><td></td></tr><tr><td>Table</td><td>heart_rate</td><td></td></tr><tr><td>Created Time</td><td>Wed May 29 11:13:09 UTC 2024</td><td></td></tr><tr><td>Last Access</td><td>UNKNOWN</td><td></td></tr><tr><td>Created By</td><td>Spark 3.3.2</td><td></td></tr><tr><td>Type</td><td>MANAGED</td><td></td></tr><tr><td>Location</td><td>dbfs:/user/hive/warehouse/silver.db/heart_rate</td><td></td></tr><tr><td>Provider</td><td>delta</td><td></td></tr><tr><td>Owner</td><td>root</td><td></td></tr><tr><td>Is_managed_location</td><td>true</td><td></td></tr><tr><td>Table Properties</td><td>[delta.constraints.check_date=time > '2019-11-30',delta.constraints.validbpm=heartrate > 0,delta.minReaderVersion=1,delta.minWriterVersion=3]</td><td></td></tr></tbody></table></div>"
      ]
     },
     "metadata": {
      "application/vnd.databricks.v1+output": {
       "addedWidgets": {},
       "aggData": [],
       "aggError": "",
       "aggOverflow": false,
       "aggSchema": [],
       "aggSeriesLimitReached": false,
       "aggType": "",
       "arguments": {},
       "columnCustomDisplayInfos": {},
       "data": [
        [
         "device_id",
         "int",
         null
        ],
        [
         "time",
         "timestamp",
         null
        ],
        [
         "heartrate",
         "double",
         null
        ],
        [
         "",
         "",
         ""
        ],
        [
         "# Detailed Table Information",
         "",
         ""
        ],
        [
         "Catalog",
         "spark_catalog",
         ""
        ],
        [
         "Database",
         "silver",
         ""
        ],
        [
         "Table",
         "heart_rate",
         ""
        ],
        [
         "Created Time",
         "Wed May 29 11:13:09 UTC 2024",
         ""
        ],
        [
         "Last Access",
         "UNKNOWN",
         ""
        ],
        [
         "Created By",
         "Spark 3.3.2",
         ""
        ],
        [
         "Type",
         "MANAGED",
         ""
        ],
        [
         "Location",
         "dbfs:/user/hive/warehouse/silver.db/heart_rate",
         ""
        ],
        [
         "Provider",
         "delta",
         ""
        ],
        [
         "Owner",
         "root",
         ""
        ],
        [
         "Is_managed_location",
         "true",
         ""
        ],
        [
         "Table Properties",
         "[delta.constraints.check_date=time > '2019-11-30',delta.constraints.validbpm=heartrate > 0,delta.minReaderVersion=1,delta.minWriterVersion=3]",
         ""
        ]
       ],
       "datasetInfos": [],
       "dbfsResultPath": null,
       "isJsonSchema": true,
       "metadata": {},
       "overflow": false,
       "plotOptions": {
        "customPlotOptions": {},
        "displayType": "table",
        "pivotAggregation": null,
        "pivotColumns": null,
        "xColumns": null,
        "yColumns": null
       },
       "removedWidgets": [],
       "schema": [
        {
         "metadata": "{\"comment\":\"name of the column\"}",
         "name": "col_name",
         "type": "\"string\""
        },
        {
         "metadata": "{\"comment\":\"data type of the column\"}",
         "name": "data_type",
         "type": "\"string\""
        },
        {
         "metadata": "{\"comment\":\"comment of the column\"}",
         "name": "comment",
         "type": "\"string\""
        }
       ],
       "type": "table"
      }
     },
     "output_type": "display_data"
    },
    {
     "output_type": "display_data",
     "data": {
      "text/html": [
       "<style scoped>\n",
       "  .table-result-container {\n",
       "    max-height: 300px;\n",
       "    overflow: auto;\n",
       "  }\n",
       "  table, th, td {\n",
       "    border: 1px solid black;\n",
       "    border-collapse: collapse;\n",
       "  }\n",
       "  th, td {\n",
       "    padding: 5px;\n",
       "  }\n",
       "  th {\n",
       "    text-align: left;\n",
       "  }\n",
       "</style><div class='table-result-container'><table class='table-result'><thead style='background-color: white'><tr><th>device_id</th><th>time</th><th>heartrate</th></tr></thead><tbody><tr><td>175427</td><td>2019-12-16T00:00:18.000+0000</td><td>57.6386450240972</td></tr><tr><td>133254</td><td>2019-12-16T00:00:25.000+0000</td><td>60.80141310198724</td></tr><tr><td>113570</td><td>2019-12-16T00:00:43.000+0000</td><td>51.033907602339305</td></tr><tr><td>112008</td><td>2019-12-16T00:01:02.000+0000</td><td>46.75455039600096</td></tr><tr><td>130133</td><td>2019-12-16T00:01:17.000+0000</td><td>45.70402122685689</td></tr><tr><td>154423</td><td>2019-12-16T00:02:09.000+0000</td><td>47.03057581407536</td></tr><tr><td>168702</td><td>2019-12-16T00:02:25.000+0000</td><td>55.376533761596754</td></tr><tr><td>147565</td><td>2019-12-16T00:02:39.000+0000</td><td>46.14926529134262</td></tr><tr><td>194717</td><td>2019-12-16T00:03:01.000+0000</td><td>60.711029846767445</td></tr><tr><td>183816</td><td>2019-12-16T00:03:13.000+0000</td><td>53.449371161512694</td></tr></tbody></table></div>"
      ]
     },
     "metadata": {
      "application/vnd.databricks.v1+output": {
       "addedWidgets": {},
       "aggData": [],
       "aggError": "",
       "aggOverflow": false,
       "aggSchema": [],
       "aggSeriesLimitReached": false,
       "aggType": "",
       "arguments": {},
       "columnCustomDisplayInfos": {},
       "data": [
        [
         175427,
         "2019-12-16T00:00:18.000+0000",
         57.6386450240972
        ],
        [
         133254,
         "2019-12-16T00:00:25.000+0000",
         60.80141310198724
        ],
        [
         113570,
         "2019-12-16T00:00:43.000+0000",
         51.033907602339305
        ],
        [
         112008,
         "2019-12-16T00:01:02.000+0000",
         46.75455039600096
        ],
        [
         130133,
         "2019-12-16T00:01:17.000+0000",
         45.70402122685689
        ],
        [
         154423,
         "2019-12-16T00:02:09.000+0000",
         47.03057581407536
        ],
        [
         168702,
         "2019-12-16T00:02:25.000+0000",
         55.376533761596754
        ],
        [
         147565,
         "2019-12-16T00:02:39.000+0000",
         46.14926529134262
        ],
        [
         194717,
         "2019-12-16T00:03:01.000+0000",
         60.711029846767445
        ],
        [
         183816,
         "2019-12-16T00:03:13.000+0000",
         53.449371161512694
        ]
       ],
       "datasetInfos": [],
       "dbfsResultPath": null,
       "isJsonSchema": true,
       "metadata": {},
       "overflow": false,
       "plotOptions": {
        "customPlotOptions": {},
        "displayType": "table",
        "pivotAggregation": null,
        "pivotColumns": null,
        "xColumns": null,
        "yColumns": null
       },
       "removedWidgets": [],
       "schema": [
        {
         "metadata": "{}",
         "name": "device_id",
         "type": "\"integer\""
        },
        {
         "metadata": "{}",
         "name": "time",
         "type": "\"timestamp\""
        },
        {
         "metadata": "{}",
         "name": "heartrate",
         "type": "\"double\""
        }
       ],
       "type": "table"
      }
     },
     "output_type": "display_data"
    },
    {
     "output_type": "stream",
     "name": "stdout",
     "output_type": "stream",
     "text": [
      "\nThe table has a total of 9032373 rows\n\n"
     ]
    }
   ],
   "source": [
    "# Display extended description of the Silver Heart Rate table\n",
    "display(spark.sql(\"DESCRIBE EXTENDED silver.heart_rate\"))\n",
    "\n",
    "# Display a sample of the data from the Silver Heart Rate table\n",
    "display(spark.read.table(\"silver.heart_rate\").limit(10))\n",
    "\n",
    "# Print total count of rows in the Silver Heart Rate table\n",
    "print(\"\")\n",
    "print(f\"The table has a total of {spark.table('silver.heart_rate').count()} rows\")\n",
    "print(\"\")"
   ]
  },
  {
   "cell_type": "markdown",
   "metadata": {
    "application/vnd.databricks.v1+cell": {
     "cellMetadata": {
      "byteLimit": 2048000,
      "rowLimit": 10000
     },
     "inputWidgets": {},
     "nuid": "fa2f2aeb-a9a1-4057-a012-1d436f4e543b",
     "showTitle": false,
     "title": ""
    }
   },
   "source": [
    "## Processing the Workout table\n",
    "\n",
    "The processing steps for the Workout table mirror those of the `Heartrate` table. Therefore, I'll proceed with a streamlined approach for this process."
   ]
  },
  {
   "cell_type": "markdown",
   "metadata": {
    "application/vnd.databricks.v1+cell": {
     "cellMetadata": {
      "byteLimit": 2048000,
      "rowLimit": 10000
     },
     "inputWidgets": {},
     "nuid": "85404247-14ca-4283-aabd-4514844094ae",
     "showTitle": false,
     "title": ""
    }
   },
   "source": [
    "### Extract and Parse"
   ]
  },
  {
   "cell_type": "code",
   "execution_count": 0,
   "metadata": {
    "application/vnd.databricks.v1+cell": {
     "cellMetadata": {
      "byteLimit": 2048000,
      "rowLimit": 10000
     },
     "inputWidgets": {},
     "nuid": "c108e7fb-d660-47b3-b6c6-3fa5dc10f1d6",
     "showTitle": true,
     "title": "Extract"
    }
   },
   "outputs": [
    {
     "output_type": "display_data",
     "data": {
      "text/html": [
       "<style scoped>\n",
       "  .table-result-container {\n",
       "    max-height: 300px;\n",
       "    overflow: auto;\n",
       "  }\n",
       "  table, th, td {\n",
       "    border: 1px solid black;\n",
       "    border-collapse: collapse;\n",
       "  }\n",
       "  th, td {\n",
       "    padding: 5px;\n",
       "  }\n",
       "  th {\n",
       "    text-align: left;\n",
       "  }\n",
       "</style><div class='table-result-container'><table class='table-result'><thead style='background-color: white'><tr><th>key</th><th>value</th><th>topic</th><th>partition</th><th>offset</th><th>timestamp</th><th>date</th><th>week_part</th></tr></thead><tbody><tr><td>40872</td><td>{\"user_id\": 40872, \"workout_id\": 8, \"timestamp\": 1575229675.0, \"action\": \"start\", \"session_id\": 76}</td><td>workout</td><td>0</td><td>189240</td><td>1575229677709</td><td>2019-12-01</td><td>2019-48</td></tr><tr><td>29213</td><td>{\"user_id\": 29213, \"workout_id\": 13, \"timestamp\": 1575196562.0, \"action\": \"start\", \"session_id\": 295}</td><td>workout</td><td>0</td><td>189198</td><td>1575196569155</td><td>2019-12-01</td><td>2019-48</td></tr><tr><td>29213</td><td>{\"user_id\": 29213, \"workout_id\": 13, \"timestamp\": 1575200016.0, \"action\": \"stop\", \"session_id\": 295}</td><td>workout</td><td>0</td><td>189199</td><td>1575200018703</td><td>2019-12-01</td><td>2019-48</td></tr><tr><td>27703</td><td>{\"user_id\": 27703, \"workout_id\": 47, \"timestamp\": 1575203433.0, \"action\": \"start\", \"session_id\": 456}</td><td>workout</td><td>0</td><td>189202</td><td>1575203437440</td><td>2019-12-01</td><td>2019-48</td></tr><tr><td>14508</td><td>{\"user_id\": 14508, \"workout_id\": 31, \"timestamp\": 1575224965.0, \"action\": \"start\", \"session_id\": 392}</td><td>workout</td><td>0</td><td>189227</td><td>1575224969124</td><td>2019-12-01</td><td>2019-48</td></tr><tr><td>12474</td><td>{\"user_id\": 12474, \"workout_id\": 35, \"timestamp\": 1575225840.0, \"action\": \"stop\", \"session_id\": 2}</td><td>workout</td><td>0</td><td>189232</td><td>1575225843611</td><td>2019-12-01</td><td>2019-48</td></tr><tr><td>28521</td><td>{\"user_id\": 28521, \"workout_id\": 20, \"timestamp\": 1575227037.0, \"action\": \"start\", \"session_id\": 328}</td><td>workout</td><td>0</td><td>189234</td><td>1575227043638</td><td>2019-12-01</td><td>2019-48</td></tr><tr><td>35226</td><td>{\"user_id\": 35226, \"workout_id\": 43, \"timestamp\": 1575193979.0, \"action\": \"start\", \"session_id\": 402}</td><td>workout</td><td>0</td><td>189192</td><td>1575193983608</td><td>2019-12-01</td><td>2019-48</td></tr><tr><td>26847</td><td>{\"user_id\": 26847, \"workout_id\": 14, \"timestamp\": 1575205629.0, \"action\": \"start\", \"session_id\": 2}</td><td>workout</td><td>0</td><td>189207</td><td>1575205633152</td><td>2019-12-01</td><td>2019-48</td></tr><tr><td>28588</td><td>{\"user_id\": 28588, \"workout_id\": 34, \"timestamp\": 1575207666.0, \"action\": \"start\", \"session_id\": 1}</td><td>workout</td><td>0</td><td>189209</td><td>1575207670803</td><td>2019-12-01</td><td>2019-48</td></tr></tbody></table></div>"
      ]
     },
     "metadata": {
      "application/vnd.databricks.v1+output": {
       "addedWidgets": {},
       "aggData": [],
       "aggError": "",
       "aggOverflow": false,
       "aggSchema": [],
       "aggSeriesLimitReached": false,
       "aggType": "",
       "arguments": {},
       "columnCustomDisplayInfos": {},
       "data": [
        [
         "40872",
         "{\"user_id\": 40872, \"workout_id\": 8, \"timestamp\": 1575229675.0, \"action\": \"start\", \"session_id\": 76}",
         "workout",
         0,
         189240,
         1575229677709,
         "2019-12-01",
         "2019-48"
        ],
        [
         "29213",
         "{\"user_id\": 29213, \"workout_id\": 13, \"timestamp\": 1575196562.0, \"action\": \"start\", \"session_id\": 295}",
         "workout",
         0,
         189198,
         1575196569155,
         "2019-12-01",
         "2019-48"
        ],
        [
         "29213",
         "{\"user_id\": 29213, \"workout_id\": 13, \"timestamp\": 1575200016.0, \"action\": \"stop\", \"session_id\": 295}",
         "workout",
         0,
         189199,
         1575200018703,
         "2019-12-01",
         "2019-48"
        ],
        [
         "27703",
         "{\"user_id\": 27703, \"workout_id\": 47, \"timestamp\": 1575203433.0, \"action\": \"start\", \"session_id\": 456}",
         "workout",
         0,
         189202,
         1575203437440,
         "2019-12-01",
         "2019-48"
        ],
        [
         "14508",
         "{\"user_id\": 14508, \"workout_id\": 31, \"timestamp\": 1575224965.0, \"action\": \"start\", \"session_id\": 392}",
         "workout",
         0,
         189227,
         1575224969124,
         "2019-12-01",
         "2019-48"
        ],
        [
         "12474",
         "{\"user_id\": 12474, \"workout_id\": 35, \"timestamp\": 1575225840.0, \"action\": \"stop\", \"session_id\": 2}",
         "workout",
         0,
         189232,
         1575225843611,
         "2019-12-01",
         "2019-48"
        ],
        [
         "28521",
         "{\"user_id\": 28521, \"workout_id\": 20, \"timestamp\": 1575227037.0, \"action\": \"start\", \"session_id\": 328}",
         "workout",
         0,
         189234,
         1575227043638,
         "2019-12-01",
         "2019-48"
        ],
        [
         "35226",
         "{\"user_id\": 35226, \"workout_id\": 43, \"timestamp\": 1575193979.0, \"action\": \"start\", \"session_id\": 402}",
         "workout",
         0,
         189192,
         1575193983608,
         "2019-12-01",
         "2019-48"
        ],
        [
         "26847",
         "{\"user_id\": 26847, \"workout_id\": 14, \"timestamp\": 1575205629.0, \"action\": \"start\", \"session_id\": 2}",
         "workout",
         0,
         189207,
         1575205633152,
         "2019-12-01",
         "2019-48"
        ],
        [
         "28588",
         "{\"user_id\": 28588, \"workout_id\": 34, \"timestamp\": 1575207666.0, \"action\": \"start\", \"session_id\": 1}",
         "workout",
         0,
         189209,
         1575207670803,
         "2019-12-01",
         "2019-48"
        ]
       ],
       "datasetInfos": [],
       "dbfsResultPath": null,
       "isJsonSchema": true,
       "metadata": {},
       "overflow": false,
       "plotOptions": {
        "customPlotOptions": {},
        "displayType": "table",
        "pivotAggregation": null,
        "pivotColumns": null,
        "xColumns": null,
        "yColumns": null
       },
       "removedWidgets": [],
       "schema": [
        {
         "metadata": "{}",
         "name": "key",
         "type": "\"string\""
        },
        {
         "metadata": "{}",
         "name": "value",
         "type": "\"string\""
        },
        {
         "metadata": "{}",
         "name": "topic",
         "type": "\"string\""
        },
        {
         "metadata": "{}",
         "name": "partition",
         "type": "\"long\""
        },
        {
         "metadata": "{}",
         "name": "offset",
         "type": "\"long\""
        },
        {
         "metadata": "{}",
         "name": "timestamp",
         "type": "\"long\""
        },
        {
         "metadata": "{}",
         "name": "date",
         "type": "\"date\""
        },
        {
         "metadata": "{}",
         "name": "week_part",
         "type": "\"string\""
        }
       ],
       "type": "table"
      }
     },
     "output_type": "display_data"
    }
   ],
   "source": [
    "bronze_df_workout = bronze_df.where(bronze_df.topic == 'workout')\n",
    "\n",
    "display(bronze_df_workout.limit(10))"
   ]
  },
  {
   "cell_type": "code",
   "execution_count": 0,
   "metadata": {
    "application/vnd.databricks.v1+cell": {
     "cellMetadata": {
      "byteLimit": 2048000,
      "rowLimit": 10000
     },
     "inputWidgets": {},
     "nuid": "f82ff520-247e-4a52-882d-6cf81408d5cf",
     "showTitle": true,
     "title": "Parse"
    }
   },
   "outputs": [
    {
     "output_type": "display_data",
     "data": {
      "text/html": [
       "<style scoped>\n",
       "  .table-result-container {\n",
       "    max-height: 300px;\n",
       "    overflow: auto;\n",
       "  }\n",
       "  table, th, td {\n",
       "    border: 1px solid black;\n",
       "    border-collapse: collapse;\n",
       "  }\n",
       "  th, td {\n",
       "    padding: 5px;\n",
       "  }\n",
       "  th {\n",
       "    text-align: left;\n",
       "  }\n",
       "</style><div class='table-result-container'><table class='table-result'><thead style='background-color: white'><tr><th>user_id</th><th>workout_id</th><th>session_id</th><th>time</th><th>action</th></tr></thead><tbody><tr><td>24863</td><td>25</td><td>3</td><td>2019-12-09T13:37:14.000+0000</td><td>start</td></tr><tr><td>16093</td><td>26</td><td>502</td><td>2019-12-09T13:43:36.000+0000</td><td>start</td></tr><tr><td>43104</td><td>29</td><td>5</td><td>2019-12-09T13:47:32.000+0000</td><td>start</td></tr><tr><td>45875</td><td>46</td><td>220</td><td>2019-12-09T15:24:55.000+0000</td><td>stop</td></tr><tr><td>29213</td><td>25</td><td>310</td><td>2019-12-09T18:33:36.000+0000</td><td>stop</td></tr><tr><td>13937</td><td>47</td><td>5</td><td>2019-12-09T19:38:50.000+0000</td><td>start</td></tr><tr><td>41367</td><td>25</td><td>314</td><td>2019-12-09T19:44:40.000+0000</td><td>start</td></tr><tr><td>30514</td><td>20</td><td>1</td><td>2019-12-10T10:18:52.000+0000</td><td>stop</td></tr><tr><td>16093</td><td>8</td><td>504</td><td>2019-12-10T10:28:24.000+0000</td><td>start</td></tr><tr><td>24018</td><td>12</td><td>158</td><td>2019-12-10T10:32:03.000+0000</td><td>stop</td></tr></tbody></table></div>"
      ]
     },
     "metadata": {
      "application/vnd.databricks.v1+output": {
       "addedWidgets": {},
       "aggData": [],
       "aggError": "",
       "aggOverflow": false,
       "aggSchema": [],
       "aggSeriesLimitReached": false,
       "aggType": "",
       "arguments": {},
       "columnCustomDisplayInfos": {},
       "data": [
        [
         24863,
         25,
         3,
         "2019-12-09T13:37:14.000+0000",
         "start"
        ],
        [
         16093,
         26,
         502,
         "2019-12-09T13:43:36.000+0000",
         "start"
        ],
        [
         43104,
         29,
         5,
         "2019-12-09T13:47:32.000+0000",
         "start"
        ],
        [
         45875,
         46,
         220,
         "2019-12-09T15:24:55.000+0000",
         "stop"
        ],
        [
         29213,
         25,
         310,
         "2019-12-09T18:33:36.000+0000",
         "stop"
        ],
        [
         13937,
         47,
         5,
         "2019-12-09T19:38:50.000+0000",
         "start"
        ],
        [
         41367,
         25,
         314,
         "2019-12-09T19:44:40.000+0000",
         "start"
        ],
        [
         30514,
         20,
         1,
         "2019-12-10T10:18:52.000+0000",
         "stop"
        ],
        [
         16093,
         8,
         504,
         "2019-12-10T10:28:24.000+0000",
         "start"
        ],
        [
         24018,
         12,
         158,
         "2019-12-10T10:32:03.000+0000",
         "stop"
        ]
       ],
       "datasetInfos": [],
       "dbfsResultPath": null,
       "isJsonSchema": true,
       "metadata": {},
       "overflow": false,
       "plotOptions": {
        "customPlotOptions": {},
        "displayType": "table",
        "pivotAggregation": null,
        "pivotColumns": null,
        "xColumns": null,
        "yColumns": null
       },
       "removedWidgets": [],
       "schema": [
        {
         "metadata": "{}",
         "name": "user_id",
         "type": "\"integer\""
        },
        {
         "metadata": "{}",
         "name": "workout_id",
         "type": "\"integer\""
        },
        {
         "metadata": "{}",
         "name": "session_id",
         "type": "\"integer\""
        },
        {
         "metadata": "{}",
         "name": "time",
         "type": "\"timestamp\""
        },
        {
         "metadata": "{}",
         "name": "action",
         "type": "\"string\""
        }
       ],
       "type": "table"
      }
     },
     "output_type": "display_data"
    },
    {
     "output_type": "stream",
     "name": "stdout",
     "output_type": "stream",
     "text": [
      "\nThe DataFrame has a total of 1514 rows\n\n"
     ]
    }
   ],
   "source": [
    "workout_schema = t.StructType(\n",
    "    [\n",
    "        t.StructField('user_id', t.IntegerType(), True),\n",
    "        t.StructField('workout_id', t.IntegerType(), True),\n",
    "        t.StructField('timestamp', t.DoubleType(), True),\n",
    "        t.StructField('action', t.StringType(), True),\n",
    "        t.StructField('session_id', t.IntegerType(), True)\n",
    "    ]\n",
    ")\n",
    "\n",
    "workout_df = bronze_df_workout.withColumn('value', f.from_json('value', workout_schema)) \\\n",
    "                             .select(f.col('value.*')) \\\n",
    "                             .select(\"user_id\", \"workout_id\", \"session_id\", f.col(\"timestamp\").cast(\"timestamp\").alias(\"time\"), \"action\")\n",
    "\n",
    "display(workout_df.limit(10))\n",
    "\n",
    "print(\"\")\n",
    "print(f\"The DataFrame has a total of {workout_df.count()} rows\")\n",
    "print(\"\")"
   ]
  },
  {
   "cell_type": "markdown",
   "metadata": {
    "application/vnd.databricks.v1+cell": {
     "cellMetadata": {
      "byteLimit": 2048000,
      "rowLimit": 10000
     },
     "inputWidgets": {},
     "nuid": "7ea988ea-0093-40d2-b801-631d42c7c6b0",
     "showTitle": false,
     "title": ""
    }
   },
   "source": [
    "### Basic Cleaning"
   ]
  },
  {
   "cell_type": "code",
   "execution_count": 0,
   "metadata": {
    "application/vnd.databricks.v1+cell": {
     "cellMetadata": {
      "byteLimit": 2048000,
      "rowLimit": 10000
     },
     "inputWidgets": {},
     "nuid": "0336092c-e19f-4b39-9842-46893be9f674",
     "showTitle": true,
     "title": "Partially equal Rows"
    }
   },
   "outputs": [
    {
     "output_type": "stream",
     "name": "stdout",
     "output_type": "stream",
     "text": [
      "Out[19]: 1514"
     ]
    }
   ],
   "source": [
    "workout_df.dropDuplicates([\"user_id\", \"time\"]).count()"
   ]
  },
  {
   "cell_type": "code",
   "execution_count": 0,
   "metadata": {
    "application/vnd.databricks.v1+cell": {
     "cellMetadata": {
      "byteLimit": 2048000,
      "rowLimit": 10000
     },
     "inputWidgets": {},
     "nuid": "77ba37c8-fe39-4054-b2e2-6b227a202b8f",
     "showTitle": true,
     "title": "Fully equal Rows"
    }
   },
   "outputs": [
    {
     "output_type": "stream",
     "name": "stdout",
     "output_type": "stream",
     "text": [
      "Out[20]: 1514"
     ]
    }
   ],
   "source": [
    "workout_df.dropDuplicates().count()"
   ]
  },
  {
   "cell_type": "markdown",
   "metadata": {
    "application/vnd.databricks.v1+cell": {
     "cellMetadata": {
      "byteLimit": 2048000,
      "rowLimit": 10000
     },
     "inputWidgets": {},
     "nuid": "5a82a5c7-c4f0-4dda-9480-df8f4110797d",
     "showTitle": false,
     "title": ""
    }
   },
   "source": [
    "While it seems duplicate rows aren't currently an issue, I'll still address it in the Structured Streaming query."
   ]
  },
  {
   "cell_type": "code",
   "execution_count": 0,
   "metadata": {
    "application/vnd.databricks.v1+cell": {
     "cellMetadata": {
      "byteLimit": 2048000,
      "rowLimit": 10000
     },
     "inputWidgets": {},
     "nuid": "b977f201-82e0-46d2-be24-cc48016c5db1",
     "showTitle": true,
     "title": "Pipeline Health"
    }
   },
   "outputs": [
    {
     "output_type": "display_data",
     "data": {
      "text/html": [
       "<style scoped>\n",
       "  .table-result-container {\n",
       "    max-height: 300px;\n",
       "    overflow: auto;\n",
       "  }\n",
       "  table, th, td {\n",
       "    border: 1px solid black;\n",
       "    border-collapse: collapse;\n",
       "  }\n",
       "  th, td {\n",
       "    padding: 5px;\n",
       "  }\n",
       "  th {\n",
       "    text-align: left;\n",
       "  }\n",
       "</style><div class='table-result-container'><table class='table-result'><thead style='background-color: white'><tr><th>min(time)</th><th>max(time)</th></tr></thead><tbody><tr><td>2019-12-01T06:57:06.000+0000</td><td>2019-12-16T16:06:00.000+0000</td></tr></tbody></table></div>"
      ]
     },
     "metadata": {
      "application/vnd.databricks.v1+output": {
       "addedWidgets": {},
       "aggData": [],
       "aggError": "",
       "aggOverflow": false,
       "aggSchema": [],
       "aggSeriesLimitReached": false,
       "aggType": "",
       "arguments": {},
       "columnCustomDisplayInfos": {},
       "data": [
        [
         "2019-12-01T06:57:06.000+0000",
         "2019-12-16T16:06:00.000+0000"
        ]
       ],
       "datasetInfos": [],
       "dbfsResultPath": null,
       "isJsonSchema": true,
       "metadata": {},
       "overflow": false,
       "plotOptions": {
        "customPlotOptions": {},
        "displayType": "table",
        "pivotAggregation": null,
        "pivotColumns": null,
        "xColumns": null,
        "yColumns": null
       },
       "removedWidgets": [],
       "schema": [
        {
         "metadata": "{}",
         "name": "min(time)",
         "type": "\"timestamp\""
        },
        {
         "metadata": "{}",
         "name": "max(time)",
         "type": "\"timestamp\""
        }
       ],
       "type": "table"
      }
     },
     "output_type": "display_data"
    }
   ],
   "source": [
    "display(workout_df.withColumn('timestamp', f.to_date(\"time\", \"yyyyMMdd\")).select(f.min('time'), f.max('time')))"
   ]
  },
  {
   "cell_type": "markdown",
   "metadata": {
    "application/vnd.databricks.v1+cell": {
     "cellMetadata": {
      "byteLimit": 2048000,
      "rowLimit": 10000
     },
     "inputWidgets": {},
     "nuid": "e1d82302-b350-46f2-b973-ac61d41e8495",
     "showTitle": false,
     "title": ""
    }
   },
   "source": [
    "I'll apply the same constraint to the `Workout` table as with the `Heartrate` table"
   ]
  },
  {
   "cell_type": "markdown",
   "metadata": {
    "application/vnd.databricks.v1+cell": {
     "cellMetadata": {
      "byteLimit": 2048000,
      "rowLimit": 10000
     },
     "inputWidgets": {},
     "nuid": "a6e4e1b6-edba-4e03-af2a-0cdd7d0c00a8",
     "showTitle": false,
     "title": ""
    }
   },
   "source": [
    "### Exploring\n",
    "\n",
    "While `session_id` and `workout_id` may contain similar information, in the context of the workouts table, the column representing a unique start and end session is deemed crucial for future transformations."
   ]
  },
  {
   "cell_type": "code",
   "execution_count": 0,
   "metadata": {
    "application/vnd.databricks.v1+cell": {
     "cellMetadata": {
      "byteLimit": 2048000,
      "rowLimit": 10000
     },
     "inputWidgets": {},
     "nuid": "d54ab51a-9b56-4258-adbd-a4d685fd1793",
     "showTitle": true,
     "title": "session_id or workout_id?"
    }
   },
   "outputs": [
    {
     "output_type": "display_data",
     "data": {
      "text/html": [
       "<style scoped>\n",
       "  .table-result-container {\n",
       "    max-height: 300px;\n",
       "    overflow: auto;\n",
       "  }\n",
       "  table, th, td {\n",
       "    border: 1px solid black;\n",
       "    border-collapse: collapse;\n",
       "  }\n",
       "  th, td {\n",
       "    padding: 5px;\n",
       "  }\n",
       "  th {\n",
       "    text-align: left;\n",
       "  }\n",
       "</style><div class='table-result-container'><table class='table-result'><thead style='background-color: white'><tr><th>user_id</th><th>workout_id</th><th>count</th></tr></thead><tbody><tr><td>29213</td><td>0</td><td>8</td></tr><tr><td>35728</td><td>31</td><td>6</td></tr><tr><td>36117</td><td>19</td><td>6</td></tr><tr><td>14232</td><td>30</td><td>6</td></tr><tr><td>27306</td><td>35</td><td>6</td></tr><tr><td>26285</td><td>26</td><td>6</td></tr><tr><td>35728</td><td>42</td><td>6</td></tr><tr><td>33987</td><td>15</td><td>6</td></tr><tr><td>29213</td><td>11</td><td>6</td></tr><tr><td>14508</td><td>47</td><td>6</td></tr><tr><td>49296</td><td>33</td><td>6</td></tr><tr><td>12474</td><td>44</td><td>6</td></tr><tr><td>35226</td><td>21</td><td>6</td></tr><tr><td>14508</td><td>3</td><td>6</td></tr><tr><td>12140</td><td>5</td><td>4</td></tr><tr><td>45875</td><td>7</td><td>4</td></tr><tr><td>41796</td><td>31</td><td>4</td></tr><tr><td>29130</td><td>4</td><td>4</td></tr><tr><td>45875</td><td>48</td><td>4</td></tr><tr><td>45875</td><td>24</td><td>4</td></tr><tr><td>47356</td><td>28</td><td>4</td></tr><tr><td>31362</td><td>25</td><td>4</td></tr><tr><td>28814</td><td>28</td><td>4</td></tr><tr><td>45875</td><td>3</td><td>4</td></tr><tr><td>47356</td><td>45</td><td>4</td></tr><tr><td>24018</td><td>4</td><td>4</td></tr><tr><td>14232</td><td>28</td><td>4</td></tr><tr><td>43052</td><td>3</td><td>4</td></tr><tr><td>16093</td><td>8</td><td>4</td></tr><tr><td>41192</td><td>7</td><td>4</td></tr><tr><td>34740</td><td>45</td><td>4</td></tr><tr><td>33987</td><td>8</td><td>4</td></tr><tr><td>23250</td><td>48</td><td>4</td></tr><tr><td>35226</td><td>23</td><td>4</td></tr><tr><td>40872</td><td>47</td><td>4</td></tr><tr><td>41488</td><td>47</td><td>4</td></tr><tr><td>45875</td><td>49</td><td>4</td></tr><tr><td>19787</td><td>9</td><td>4</td></tr><tr><td>40872</td><td>31</td><td>4</td></tr><tr><td>14508</td><td>36</td><td>4</td></tr><tr><td>40559</td><td>8</td><td>4</td></tr><tr><td>41192</td><td>10</td><td>4</td></tr><tr><td>36164</td><td>46</td><td>4</td></tr><tr><td>33987</td><td>1</td><td>4</td></tr><tr><td>47356</td><td>41</td><td>4</td></tr><tr><td>40872</td><td>19</td><td>4</td></tr><tr><td>29213</td><td>27</td><td>4</td></tr><tr><td>35226</td><td>2</td><td>4</td></tr><tr><td>35728</td><td>49</td><td>4</td></tr><tr><td>29213</td><td>38</td><td>4</td></tr><tr><td>24018</td><td>32</td><td>4</td></tr><tr><td>12474</td><td>32</td><td>4</td></tr><tr><td>28814</td><td>48</td><td>4</td></tr><tr><td>37012</td><td>35</td><td>4</td></tr><tr><td>43052</td><td>46</td><td>4</td></tr><tr><td>14232</td><td>47</td><td>4</td></tr><tr><td>23916</td><td>16</td><td>4</td></tr><tr><td>28588</td><td>21</td><td>4</td></tr><tr><td>29213</td><td>48</td><td>4</td></tr><tr><td>26285</td><td>9</td><td>4</td></tr><tr><td>45875</td><td>9</td><td>4</td></tr><tr><td>42387</td><td>0</td><td>4</td></tr><tr><td>29213</td><td>35</td><td>4</td></tr><tr><td>34740</td><td>1</td><td>4</td></tr><tr><td>14508</td><td>44</td><td>4</td></tr><tr><td>14508</td><td>31</td><td>4</td></tr><tr><td>40872</td><td>28</td><td>4</td></tr><tr><td>47356</td><td>35</td><td>4</td></tr><tr><td>43052</td><td>29</td><td>4</td></tr><tr><td>40872</td><td>40</td><td>4</td></tr><tr><td>34740</td><td>37</td><td>4</td></tr><tr><td>45875</td><td>20</td><td>4</td></tr><tr><td>34740</td><td>30</td><td>4</td></tr><tr><td>14232</td><td>48</td><td>4</td></tr><tr><td>40872</td><td>5</td><td>4</td></tr><tr><td>43052</td><td>1</td><td>4</td></tr><tr><td>29130</td><td>19</td><td>4</td></tr><tr><td>45875</td><td>32</td><td>4</td></tr><tr><td>27306</td><td>47</td><td>4</td></tr><tr><td>12474</td><td>21</td><td>4</td></tr><tr><td>40872</td><td>22</td><td>4</td></tr><tr><td>14232</td><td>15</td><td>4</td></tr><tr><td>28588</td><td>24</td><td>4</td></tr><tr><td>14508</td><td>39</td><td>4</td></tr><tr><td>33987</td><td>6</td><td>4</td></tr><tr><td>26285</td><td>36</td><td>4</td></tr><tr><td>40872</td><td>42</td><td>4</td></tr><tr><td>28521</td><td>18</td><td>4</td></tr><tr><td>41732</td><td>10</td><td>4</td></tr><tr><td>12474</td><td>28</td><td>4</td></tr><tr><td>16093</td><td>26</td><td>2</td></tr><tr><td>45875</td><td>46</td><td>2</td></tr><tr><td>41367</td><td>25</td><td>2</td></tr><tr><td>15149</td><td>25</td><td>2</td></tr><tr><td>29213</td><td>33</td><td>2</td></tr><tr><td>36469</td><td>3</td><td>2</td></tr><tr><td>42387</td><td>49</td><td>2</td></tr><tr><td>23916</td><td>14</td><td>2</td></tr><tr><td>26285</td><td>10</td><td>2</td></tr><tr><td>41796</td><td>5</td><td>2</td></tr><tr><td>41732</td><td>17</td><td>2</td></tr><tr><td>43052</td><td>19</td><td>2</td></tr><tr><td>27306</td><td>21</td><td>2</td></tr><tr><td>31057</td><td>5</td><td>2</td></tr><tr><td>34740</td><td>3</td><td>2</td></tr><tr><td>19787</td><td>6</td><td>2</td></tr><tr><td>34740</td><td>20</td><td>2</td></tr><tr><td>40872</td><td>0</td><td>2</td></tr><tr><td>14232</td><td>49</td><td>2</td></tr><tr><td>33987</td><td>5</td><td>2</td></tr><tr><td>17807</td><td>37</td><td>2</td></tr><tr><td>25143</td><td>2</td><td>2</td></tr><tr><td>38766</td><td>5</td><td>2</td></tr><tr><td>17807</td><td>49</td><td>2</td></tr><tr><td>27306</td><td>20</td><td>2</td></tr><tr><td>24018</td><td>1</td><td>2</td></tr><tr><td>22501</td><td>46</td><td>2</td></tr><tr><td>41796</td><td>3</td><td>2</td></tr><tr><td>28588</td><td>47</td><td>2</td></tr><tr><td>29130</td><td>30</td><td>2</td></tr><tr><td>41488</td><td>15</td><td>2</td></tr><tr><td>23767</td><td>43</td><td>2</td></tr><tr><td>24018</td><td>31</td><td>2</td></tr><tr><td>24018</td><td>21</td><td>2</td></tr><tr><td>23916</td><td>39</td><td>2</td></tr><tr><td>23250</td><td>26</td><td>2</td></tr><tr><td>29745</td><td>22</td><td>2</td></tr><tr><td>29213</td><td>25</td><td>2</td></tr><tr><td>30514</td><td>20</td><td>2</td></tr><tr><td>24018</td><td>12</td><td>2</td></tr><tr><td>29745</td><td>2</td><td>2</td></tr><tr><td>35428</td><td>33</td><td>2</td></tr><tr><td>36644</td><td>38</td><td>2</td></tr><tr><td>43052</td><td>26</td><td>2</td></tr><tr><td>24018</td><td>41</td><td>2</td></tr><tr><td>33733</td><td>49</td><td>2</td></tr><tr><td>20217</td><td>30</td><td>2</td></tr><tr><td>29213</td><td>44</td><td>2</td></tr><tr><td>38766</td><td>8</td><td>2</td></tr><tr><td>26285</td><td>46</td><td>2</td></tr><tr><td>20496</td><td>42</td><td>2</td></tr><tr><td>11745</td><td>38</td><td>2</td></tr><tr><td>41796</td><td>12</td><td>2</td></tr><tr><td>28814</td><td>3</td><td>2</td></tr><tr><td>12227</td><td>4</td><td>2</td></tr><tr><td>43052</td><td>45</td><td>2</td></tr><tr><td>48913</td><td>25</td><td>2</td></tr><tr><td>35728</td><td>44</td><td>2</td></tr><tr><td>49296</td><td>30</td><td>2</td></tr><tr><td>30088</td><td>19</td><td>2</td></tr><tr><td>27306</td><td>24</td><td>2</td></tr><tr><td>19859</td><td>46</td><td>2</td></tr><tr><td>28588</td><td>37</td><td>2</td></tr><tr><td>47356</td><td>5</td><td>2</td></tr><tr><td>19622</td><td>6</td><td>2</td></tr><tr><td>27306</td><td>36</td><td>2</td></tr><tr><td>25477</td><td>17</td><td>2</td></tr><tr><td>47261</td><td>4</td><td>2</td></tr><tr><td>33987</td><td>38</td><td>2</td></tr><tr><td>31057</td><td>35</td><td>2</td></tr><tr><td>33733</td><td>27</td><td>2</td></tr><tr><td>23767</td><td>3</td><td>2</td></tr><tr><td>14232</td><td>34</td><td>2</td></tr><tr><td>14232</td><td>18</td><td>2</td></tr><tr><td>23916</td><td>21</td><td>2</td></tr><tr><td>27836</td><td>37</td><td>2</td></tr><tr><td>43104</td><td>18</td><td>2</td></tr><tr><td>43052</td><td>42</td><td>2</td></tr><tr><td>12474</td><td>6</td><td>2</td></tr><tr><td>49296</td><td>15</td><td>2</td></tr><tr><td>40872</td><td>2</td><td>2</td></tr><tr><td>17807</td><td>48</td><td>2</td></tr><tr><td>41796</td><td>35</td><td>2</td></tr><tr><td>49835</td><td>26</td><td>2</td></tr><tr><td>13937</td><td>19</td><td>2</td></tr><tr><td>40872</td><td>46</td><td>2</td></tr><tr><td>40559</td><td>9</td><td>2</td></tr><tr><td>36644</td><td>4</td><td>2</td></tr><tr><td>20496</td><td>31</td><td>2</td></tr><tr><td>30514</td><td>40</td><td>2</td></tr><tr><td>35226</td><td>34</td><td>2</td></tr><tr><td>41192</td><td>30</td><td>2</td></tr><tr><td>31057</td><td>31</td><td>2</td></tr><tr><td>33987</td><td>24</td><td>2</td></tr><tr><td>25143</td><td>46</td><td>2</td></tr><tr><td>23250</td><td>47</td><td>2</td></tr><tr><td>14508</td><td>2</td><td>2</td></tr><tr><td>33987</td><td>22</td><td>2</td></tr><tr><td>36117</td><td>13</td><td>2</td></tr><tr><td>48721</td><td>9</td><td>2</td></tr><tr><td>25143</td><td>43</td><td>2</td></tr><tr><td>35728</td><td>30</td><td>2</td></tr><tr><td>12227</td><td>0</td><td>2</td></tr><tr><td>41954</td><td>43</td><td>2</td></tr><tr><td>35728</td><td>3</td><td>2</td></tr><tr><td>36164</td><td>40</td><td>2</td></tr><tr><td>14508</td><td>16</td><td>2</td></tr><tr><td>24018</td><td>24</td><td>2</td></tr><tr><td>29130</td><td>17</td><td>2</td></tr><tr><td>28521</td><td>21</td><td>2</td></tr><tr><td>33733</td><td>28</td><td>2</td></tr><tr><td>34740</td><td>0</td><td>2</td></tr><tr><td>40872</td><td>10</td><td>2</td></tr><tr><td>28521</td><td>40</td><td>2</td></tr><tr><td>25477</td><td>5</td><td>2</td></tr><tr><td>31362</td><td>36</td><td>2</td></tr><tr><td>41732</td><td>49</td><td>2</td></tr><tr><td>17807</td><td>19</td><td>2</td></tr><tr><td>33987</td><td>41</td><td>2</td></tr><tr><td>49835</td><td>25</td><td>2</td></tr><tr><td>47403</td><td>44</td><td>2</td></tr><tr><td>19859</td><td>11</td><td>2</td></tr><tr><td>35226</td><td>36</td><td>2</td></tr><tr><td>28521</td><td>25</td><td>2</td></tr><tr><td>35226</td><td>9</td><td>2</td></tr><tr><td>36164</td><td>37</td><td>2</td></tr><tr><td>43104</td><td>8</td><td>2</td></tr><tr><td>43052</td><td>25</td><td>2</td></tr><tr><td>14508</td><td>35</td><td>2</td></tr><tr><td>29130</td><td>36</td><td>2</td></tr><tr><td>24018</td><td>22</td><td>2</td></tr><tr><td>43104</td><td>29</td><td>2</td></tr><tr><td>23916</td><td>12</td><td>2</td></tr><tr><td>27703</td><td>16</td><td>2</td></tr><tr><td>41796</td><td>48</td><td>2</td></tr><tr><td>28359</td><td>7</td><td>2</td></tr><tr><td>29213</td><td>5</td><td>2</td></tr><tr><td>14232</td><td>42</td><td>2</td></tr><tr><td>18587</td><td>31</td><td>2</td></tr><tr><td>40177</td><td>38</td><td>2</td></tr><tr><td>27306</td><td>17</td><td>2</td></tr><tr><td>30514</td><td>45</td><td>2</td></tr><tr><td>34740</td><td>14</td><td>2</td></tr><tr><td>19198</td><td>26</td><td>2</td></tr><tr><td>30088</td><td>29</td><td>2</td></tr><tr><td>49835</td><td>14</td><td>2</td></tr><tr><td>12227</td><td>13</td><td>2</td></tr><tr><td>35226</td><td>20</td><td>2</td></tr><tr><td>35728</td><td>10</td><td>2</td></tr><tr><td>35728</td><td>21</td><td>2</td></tr><tr><td>24018</td><td>8</td><td>2</td></tr><tr><td>17807</td><td>38</td><td>2</td></tr><tr><td>41732</td><td>18</td><td>2</td></tr><tr><td>33987</td><td>4</td><td>2</td></tr><tr><td>35728</td><td>13</td><td>2</td></tr><tr><td>43052</td><td>48</td><td>2</td></tr><tr><td>14508</td><td>19</td><td>2</td></tr><tr><td>17807</td><td>43</td><td>2</td></tr><tr><td>29130</td><td>23</td><td>2</td></tr><tr><td>16093</td><td>12</td><td>2</td></tr><tr><td>19859</td><td>45</td><td>2</td></tr><tr><td>27306</td><td>4</td><td>2</td></tr><tr><td>13937</td><td>34</td><td>2</td></tr><tr><td>41367</td><td>43</td><td>2</td></tr><tr><td>29745</td><td>48</td><td>2</td></tr><tr><td>41192</td><td>6</td><td>2</td></tr><tr><td>28938</td><td>30</td><td>2</td></tr><tr><td>49271</td><td>33</td><td>2</td></tr><tr><td>36066</td><td>22</td><td>2</td></tr><tr><td>13559</td><td>8</td><td>2</td></tr><tr><td>22480</td><td>36</td><td>2</td></tr><tr><td>19150</td><td>22</td><td>2</td></tr><tr><td>22480</td><td>47</td><td>2</td></tr><tr><td>12474</td><td>40</td><td>2</td></tr><tr><td>49271</td><td>4</td><td>2</td></tr><tr><td>41732</td><td>32</td><td>2</td></tr><tr><td>41732</td><td>20</td><td>2</td></tr><tr><td>28521</td><td>1</td><td>2</td></tr><tr><td>24863</td><td>25</td><td>2</td></tr><tr><td>13937</td><td>47</td><td>2</td></tr><tr><td>43104</td><td>25</td><td>2</td></tr><tr><td>27306</td><td>3</td><td>2</td></tr><tr><td>45875</td><td>37</td><td>2</td></tr><tr><td>19859</td><td>6</td><td>2</td></tr><tr><td>17807</td><td>17</td><td>2</td></tr><tr><td>27306</td><td>8</td><td>2</td></tr><tr><td>41488</td><td>19</td><td>2</td></tr><tr><td>31362</td><td>45</td><td>2</td></tr><tr><td>49296</td><td>47</td><td>2</td></tr><tr><td>20496</td><td>37</td><td>2</td></tr><tr><td>12474</td><td>1</td><td>2</td></tr><tr><td>31362</td><td>12</td><td>2</td></tr><tr><td>31362</td><td>34</td><td>2</td></tr><tr><td>27306</td><td>49</td><td>2</td></tr><tr><td>27836</td><td>29</td><td>2</td></tr><tr><td>20217</td><td>19</td><td>2</td></tr><tr><td>40872</td><td>14</td><td>2</td></tr><tr><td>12227</td><td>32</td><td>2</td></tr><tr><td>12474</td><td>22</td><td>2</td></tr><tr><td>16819</td><td>29</td><td>2</td></tr><tr><td>45875</td><td>41</td><td>2</td></tr><tr><td>12227</td><td>49</td><td>2</td></tr><tr><td>43104</td><td>27</td><td>2</td></tr><tr><td>35226</td><td>38</td><td>2</td></tr><tr><td>18587</td><td>36</td><td>2</td></tr><tr><td>43104</td><td>2</td><td>2</td></tr><tr><td>24968</td><td>5</td><td>2</td></tr><tr><td>14232</td><td>17</td><td>2</td></tr><tr><td>35226</td><td>15</td><td>2</td></tr><tr><td>24018</td><td>49</td><td>2</td></tr><tr><td>36117</td><td>10</td><td>2</td></tr><tr><td>24018</td><td>18</td><td>2</td></tr><tr><td>33987</td><td>32</td><td>2</td></tr><tr><td>14232</td><td>10</td><td>2</td></tr><tr><td>35728</td><td>33</td><td>2</td></tr><tr><td>25143</td><td>31</td><td>2</td></tr><tr><td>25477</td><td>1</td><td>2</td></tr><tr><td>16819</td><td>46</td><td>2</td></tr><tr><td>28814</td><td>37</td><td>2</td></tr><tr><td>28814</td><td>38</td><td>2</td></tr><tr><td>25143</td><td>45</td><td>2</td></tr><tr><td>29213</td><td>45</td><td>2</td></tr><tr><td>28588</td><td>33</td><td>2</td></tr><tr><td>19005</td><td>17</td><td>2</td></tr><tr><td>40177</td><td>18</td><td>2</td></tr><tr><td>34740</td><td>26</td><td>2</td></tr><tr><td>41796</td><td>15</td><td>2</td></tr><tr><td>40559</td><td>6</td><td>2</td></tr><tr><td>25477</td><td>27</td><td>2</td></tr><tr><td>49835</td><td>32</td><td>2</td></tr><tr><td>19859</td><td>37</td><td>2</td></tr><tr><td>41488</td><td>21</td><td>2</td></tr><tr><td>35728</td><td>41</td><td>2</td></tr><tr><td>27306</td><td>31</td><td>2</td></tr><tr><td>30088</td><td>15</td><td>2</td></tr><tr><td>24968</td><td>23</td><td>2</td></tr><tr><td>41796</td><td>37</td><td>2</td></tr><tr><td>47356</td><td>4</td><td>2</td></tr><tr><td>36469</td><td>46</td><td>2</td></tr><tr><td>41488</td><td>46</td><td>2</td></tr><tr><td>22480</td><td>33</td><td>2</td></tr><tr><td>47356</td><td>2</td><td>2</td></tr><tr><td>12474</td><td>38</td><td>2</td></tr><tr><td>27671</td><td>14</td><td>2</td></tr><tr><td>19622</td><td>49</td><td>2</td></tr><tr><td>19103</td><td>36</td><td>2</td></tr><tr><td>20217</td><td>47</td><td>2</td></tr><tr><td>23916</td><td>22</td><td>2</td></tr><tr><td>11745</td><td>22</td><td>2</td></tr><tr><td>19859</td><td>1</td><td>2</td></tr><tr><td>37012</td><td>28</td><td>2</td></tr><tr><td>47261</td><td>28</td><td>2</td></tr><tr><td>41192</td><td>11</td><td>2</td></tr><tr><td>28359</td><td>28</td><td>2</td></tr><tr><td>13937</td><td>37</td><td>2</td></tr><tr><td>32018</td><td>7</td><td>2</td></tr><tr><td>36469</td><td>25</td><td>2</td></tr><tr><td>29130</td><td>8</td><td>2</td></tr><tr><td>19787</td><td>32</td><td>2</td></tr><tr><td>17807</td><td>10</td><td>2</td></tr><tr><td>14232</td><td>5</td><td>2</td></tr><tr><td>24968</td><td>44</td><td>2</td></tr><tr><td>26847</td><td>22</td><td>2</td></tr><tr><td>27703</td><td>34</td><td>2</td></tr><tr><td>30088</td><td>0</td><td>2</td></tr><tr><td>45875</td><td>12</td><td>2</td></tr><tr><td>36117</td><td>32</td><td>2</td></tr><tr><td>22480</td><td>42</td><td>2</td></tr><tr><td>26847</td><td>15</td><td>2</td></tr><tr><td>26285</td><td>3</td><td>2</td></tr><tr><td>13937</td><td>25</td><td>2</td></tr><tr><td>26285</td><td>32</td><td>2</td></tr><tr><td>43052</td><td>15</td><td>2</td></tr><tr><td>41796</td><td>45</td><td>2</td></tr><tr><td>16093</td><td>5</td><td>2</td></tr><tr><td>27306</td><td>23</td><td>2</td></tr><tr><td>45875</td><td>13</td><td>2</td></tr><tr><td>14232</td><td>31</td><td>2</td></tr><tr><td>23916</td><td>31</td><td>2</td></tr><tr><td>28814</td><td>43</td><td>2</td></tr><tr><td>45875</td><td>43</td><td>2</td></tr><tr><td>47356</td><td>27</td><td>2</td></tr><tr><td>41732</td><td>1</td><td>2</td></tr><tr><td>41954</td><td>1</td><td>2</td></tr><tr><td>28814</td><td>32</td><td>2</td></tr><tr><td>16093</td><td>9</td><td>2</td></tr><tr><td>19150</td><td>23</td><td>2</td></tr><tr><td>41488</td><td>24</td><td>2</td></tr><tr><td>41488</td><td>34</td><td>2</td></tr><tr><td>29130</td><td>9</td><td>2</td></tr><tr><td>28588</td><td>32</td><td>2</td></tr><tr><td>30612</td><td>23</td><td>2</td></tr><tr><td>30612</td><td>19</td><td>2</td></tr><tr><td>23916</td><td>9</td><td>2</td></tr><tr><td>13937</td><td>42</td><td>2</td></tr><tr><td>24018</td><td>11</td><td>2</td></tr><tr><td>28521</td><td>35</td><td>2</td></tr><tr><td>30088</td><td>23</td><td>2</td></tr><tr><td>29745</td><td>18</td><td>2</td></tr><tr><td>23250</td><td>27</td><td>2</td></tr><tr><td>25477</td><td>49</td><td>2</td></tr><tr><td>37012</td><td>40</td><td>2</td></tr><tr><td>33987</td><td>19</td><td>2</td></tr><tr><td>35728</td><td>0</td><td>2</td></tr><tr><td>25477</td><td>23</td><td>2</td></tr><tr><td>32018</td><td>19</td><td>2</td></tr><tr><td>19198</td><td>2</td><td>2</td></tr><tr><td>19859</td><td>12</td><td>2</td></tr><tr><td>19005</td><td>23</td><td>2</td></tr><tr><td>28521</td><td>3</td><td>2</td></tr><tr><td>15149</td><td>11</td><td>2</td></tr><tr><td>43052</td><td>0</td><td>2</td></tr><tr><td>43052</td><td>17</td><td>2</td></tr><tr><td>19859</td><td>20</td><td>2</td></tr><tr><td>45875</td><td>23</td><td>2</td></tr><tr><td>28588</td><td>38</td><td>2</td></tr><tr><td>19859</td><td>49</td><td>2</td></tr><tr><td>43104</td><td>23</td><td>2</td></tr><tr><td>24863</td><td>47</td><td>2</td></tr><tr><td>26285</td><td>42</td><td>2</td></tr><tr><td>24863</td><td>43</td><td>2</td></tr><tr><td>16819</td><td>37</td><td>2</td></tr><tr><td>35226</td><td>27</td><td>2</td></tr><tr><td>42643</td><td>13</td><td>2</td></tr><tr><td>34740</td><td>35</td><td>2</td></tr><tr><td>33987</td><td>42</td><td>2</td></tr><tr><td>13559</td><td>22</td><td>2</td></tr><tr><td>49296</td><td>48</td><td>2</td></tr><tr><td>41192</td><td>35</td><td>2</td></tr><tr><td>31362</td><td>33</td><td>2</td></tr><tr><td>18587</td><td>40</td><td>2</td></tr><tr><td>36117</td><td>0</td><td>2</td></tr><tr><td>26285</td><td>18</td><td>2</td></tr><tr><td>24018</td><td>27</td><td>2</td></tr><tr><td>43052</td><td>40</td><td>2</td></tr><tr><td>16093</td><td>1</td><td>2</td></tr><tr><td>23767</td><td>13</td><td>2</td></tr><tr><td>42643</td><td>41</td><td>2</td></tr><tr><td>31362</td><td>5</td><td>2</td></tr><tr><td>40872</td><td>49</td><td>2</td></tr><tr><td>29213</td><td>4</td><td>2</td></tr><tr><td>24968</td><td>45</td><td>2</td></tr><tr><td>35728</td><td>6</td><td>2</td></tr><tr><td>29745</td><td>41</td><td>2</td></tr><tr><td>16093</td><td>31</td><td>2</td></tr><tr><td>45875</td><td>2</td><td>2</td></tr><tr><td>29213</td><td>39</td><td>2</td></tr><tr><td>39676</td><td>6</td><td>2</td></tr><tr><td>35226</td><td>39</td><td>2</td></tr><tr><td>12474</td><td>16</td><td>2</td></tr><tr><td>47356</td><td>24</td><td>2</td></tr><tr><td>29130</td><td>11</td><td>2</td></tr><tr><td>35226</td><td>31</td><td>2</td></tr><tr><td>39676</td><td>43</td><td>2</td></tr><tr><td>24018</td><td>46</td><td>2</td></tr><tr><td>23916</td><td>8</td><td>2</td></tr><tr><td>33733</td><td>9</td><td>2</td></tr><tr><td>26285</td><td>19</td><td>2</td></tr><tr><td>33987</td><td>27</td><td>2</td></tr><tr><td>19859</td><td>22</td><td>2</td></tr><tr><td>31362</td><td>8</td><td>2</td></tr><tr><td>34740</td><td>27</td><td>2</td></tr><tr><td>14508</td><td>11</td><td>2</td></tr><tr><td>36117</td><td>41</td><td>2</td></tr><tr><td>34740</td><td>47</td><td>2</td></tr><tr><td>45875</td><td>31</td><td>2</td></tr><tr><td>12474</td><td>45</td><td>2</td></tr><tr><td>16093</td><td>22</td><td>2</td></tr><tr><td>14508</td><td>25</td><td>2</td></tr><tr><td>28588</td><td>19</td><td>2</td></tr><tr><td>35728</td><td>9</td><td>2</td></tr><tr><td>36164</td><td>1</td><td>2</td></tr><tr><td>24018</td><td>37</td><td>2</td></tr><tr><td>30088</td><td>6</td><td>2</td></tr><tr><td>29130</td><td>41</td><td>2</td></tr><tr><td>41367</td><td>15</td><td>2</td></tr><tr><td>14508</td><td>40</td><td>2</td></tr><tr><td>26847</td><td>30</td><td>2</td></tr><tr><td>28359</td><td>6</td><td>2</td></tr><tr><td>38766</td><td>30</td><td>2</td></tr><tr><td>26285</td><td>24</td><td>2</td></tr><tr><td>40872</td><td>37</td><td>2</td></tr><tr><td>43052</td><td>39</td><td>2</td></tr><tr><td>47403</td><td>18</td><td>2</td></tr><tr><td>16093</td><td>38</td><td>2</td></tr><tr><td>41192</td><td>43</td><td>2</td></tr><tr><td>23767</td><td>44</td><td>2</td></tr><tr><td>13559</td><td>43</td><td>2</td></tr><tr><td>34740</td><td>15</td><td>2</td></tr><tr><td>33987</td><td>31</td><td>2</td></tr><tr><td>31362</td><td>2</td><td>2</td></tr><tr><td>28776</td><td>16</td><td>2</td></tr><tr><td>35226</td><td>41</td><td>2</td></tr><tr><td>36644</td><td>32</td><td>2</td></tr><tr><td>29745</td><td>40</td><td>2</td></tr><tr><td>16093</td><td>47</td><td>2</td></tr><tr><td>20496</td><td>26</td><td>2</td></tr><tr><td>12474</td><td>39</td><td>2</td></tr><tr><td>43104</td><td>32</td><td>2</td></tr><tr><td>14232</td><td>32</td><td>2</td></tr><tr><td>16093</td><td>42</td><td>2</td></tr><tr><td>37012</td><td>23</td><td>2</td></tr><tr><td>35728</td><td>19</td><td>2</td></tr><tr><td>41954</td><td>35</td><td>2</td></tr><tr><td>49296</td><td>1</td><td>2</td></tr><tr><td>29130</td><td>13</td><td>2</td></tr><tr><td>30088</td><td>25</td><td>2</td></tr><tr><td>31362</td><td>44</td><td>2</td></tr><tr><td>19859</td><td>26</td><td>2</td></tr><tr><td>42387</td><td>8</td><td>2</td></tr><tr><td>35226</td><td>7</td><td>2</td></tr><tr><td>25477</td><td>47</td><td>2</td></tr><tr><td>42643</td><td>19</td><td>2</td></tr><tr><td>28588</td><td>17</td><td>2</td></tr><tr><td>27306</td><td>33</td><td>2</td></tr><tr><td>28588</td><td>14</td><td>2</td></tr><tr><td>16093</td><td>36</td><td>2</td></tr><tr><td>29213</td><td>26</td><td>2</td></tr><tr><td>14232</td><td>1</td><td>2</td></tr><tr><td>33987</td><td>36</td><td>2</td></tr><tr><td>35226</td><td>22</td><td>2</td></tr><tr><td>15149</td><td>32</td><td>2</td></tr><tr><td>48913</td><td>43</td><td>2</td></tr><tr><td>16093</td><td>15</td><td>2</td></tr><tr><td>27306</td><td>46</td><td>2</td></tr><tr><td>26285</td><td>41</td><td>2</td></tr><tr><td>27703</td><td>23</td><td>2</td></tr><tr><td>20496</td><td>18</td><td>2</td></tr><tr><td>49296</td><td>3</td><td>2</td></tr><tr><td>36117</td><td>9</td><td>2</td></tr><tr><td>29213</td><td>31</td><td>2</td></tr><tr><td>13937</td><td>28</td><td>2</td></tr><tr><td>36164</td><td>43</td><td>2</td></tr><tr><td>35728</td><td>37</td><td>2</td></tr><tr><td>43052</td><td>20</td><td>2</td></tr><tr><td>35226</td><td>24</td><td>2</td></tr><tr><td>24018</td><td>7</td><td>2</td></tr><tr><td>35728</td><td>2</td><td>2</td></tr><tr><td>28588</td><td>12</td><td>2</td></tr><tr><td>28938</td><td>28</td><td>2</td></tr><tr><td>40872</td><td>23</td><td>2</td></tr><tr><td>27306</td><td>41</td><td>2</td></tr><tr><td>40872</td><td>11</td><td>2</td></tr><tr><td>28521</td><td>30</td><td>2</td></tr><tr><td>28359</td><td>10</td><td>2</td></tr><tr><td>37012</td><td>1</td><td>2</td></tr><tr><td>47356</td><td>34</td><td>2</td></tr><tr><td>45875</td><td>22</td><td>2</td></tr><tr><td>36117</td><td>5</td><td>2</td></tr><tr><td>29213</td><td>6</td><td>2</td></tr><tr><td>20496</td><td>3</td><td>2</td></tr><tr><td>19859</td><td>4</td><td>2</td></tr><tr><td>28938</td><td>47</td><td>2</td></tr><tr><td>12140</td><td>9</td><td>2</td></tr><tr><td>27306</td><td>48</td><td>2</td></tr><tr><td>26285</td><td>8</td><td>2</td></tr><tr><td>14508</td><td>24</td><td>2</td></tr><tr><td>14508</td><td>38</td><td>2</td></tr><tr><td>34740</td><td>5</td><td>2</td></tr><tr><td>47356</td><td>22</td><td>2</td></tr><tr><td>14508</td><td>41</td><td>2</td></tr><tr><td>25477</td><td>16</td><td>2</td></tr><tr><td>47356</td><td>36</td><td>2</td></tr><tr><td>30088</td><td>5</td><td>2</td></tr><tr><td>43052</td><td>23</td><td>2</td></tr><tr><td>29745</td><td>35</td><td>2</td></tr><tr><td>19859</td><td>5</td><td>2</td></tr><tr><td>34740</td><td>17</td><td>2</td></tr><tr><td>24018</td><td>25</td><td>2</td></tr><tr><td>13937</td><td>43</td><td>2</td></tr><tr><td>29130</td><td>18</td><td>2</td></tr><tr><td>47356</td><td>6</td><td>2</td></tr><tr><td>30612</td><td>48</td><td>2</td></tr><tr><td>28521</td><td>32</td><td>2</td></tr><tr><td>14508</td><td>20</td><td>2</td></tr><tr><td>18587</td><td>12</td><td>2</td></tr><tr><td>33987</td><td>35</td><td>2</td></tr><tr><td>23916</td><td>42</td><td>2</td></tr><tr><td>26285</td><td>35</td><td>2</td></tr><tr><td>43104</td><td>13</td><td>2</td></tr><tr><td>26847</td><td>47</td><td>2</td></tr><tr><td>14232</td><td>33</td><td>2</td></tr><tr><td>27306</td><td>30</td><td>2</td></tr><tr><td>34740</td><td>10</td><td>2</td></tr><tr><td>36117</td><td>44</td><td>2</td></tr><tr><td>47356</td><td>44</td><td>2</td></tr><tr><td>28588</td><td>36</td><td>2</td></tr><tr><td>48913</td><td>11</td><td>2</td></tr><tr><td>41192</td><td>36</td><td>2</td></tr><tr><td>16819</td><td>20</td><td>2</td></tr><tr><td>14232</td><td>24</td><td>2</td></tr><tr><td>19859</td><td>35</td><td>2</td></tr><tr><td>16093</td><td>21</td><td>2</td></tr><tr><td>34740</td><td>40</td><td>2</td></tr><tr><td>45875</td><td>6</td><td>2</td></tr><tr><td>47403</td><td>28</td><td>2</td></tr><tr><td>18587</td><td>29</td><td>2</td></tr><tr><td>24018</td><td>0</td><td>2</td></tr><tr><td>23250</td><td>6</td><td>2</td></tr><tr><td>19198</td><td>6</td><td>2</td></tr><tr><td>27306</td><td>45</td><td>2</td></tr><tr><td>28521</td><td>12</td><td>2</td></tr><tr><td>49296</td><td>19</td><td>2</td></tr><tr><td>24863</td><td>9</td><td>2</td></tr><tr><td>19787</td><td>33</td><td>2</td></tr><tr><td>36117</td><td>6</td><td>2</td></tr><tr><td>42387</td><td>30</td><td>2</td></tr><tr><td>19103</td><td>47</td><td>2</td></tr><tr><td>41732</td><td>24</td><td>2</td></tr><tr><td>24863</td><td>4</td><td>2</td></tr><tr><td>26285</td><td>11</td><td>2</td></tr><tr><td>47250</td><td>48</td><td>2</td></tr><tr><td>28588</td><td>46</td><td>2</td></tr><tr><td>19103</td><td>2</td><td>2</td></tr><tr><td>25477</td><td>9</td><td>2</td></tr><tr><td>25143</td><td>21</td><td>2</td></tr><tr><td>16093</td><td>27</td><td>2</td></tr><tr><td>45875</td><td>15</td><td>2</td></tr><tr><td>14508</td><td>17</td><td>2</td></tr><tr><td>14633</td><td>42</td><td>2</td></tr><tr><td>47250</td><td>49</td><td>2</td></tr><tr><td>43104</td><td>36</td><td>2</td></tr><tr><td>19787</td><td>12</td><td>2</td></tr><tr><td>41488</td><td>29</td><td>2</td></tr><tr><td>31362</td><td>43</td><td>2</td></tr><tr><td>25143</td><td>5</td><td>2</td></tr><tr><td>49075</td><td>15</td><td>2</td></tr><tr><td>28814</td><td>12</td><td>2</td></tr><tr><td>38766</td><td>7</td><td>2</td></tr><tr><td>26285</td><td>15</td><td>2</td></tr><tr><td>41488</td><td>26</td><td>2</td></tr><tr><td>31362</td><td>49</td><td>2</td></tr><tr><td>14232</td><td>38</td><td>2</td></tr><tr><td>31057</td><td>2</td><td>2</td></tr><tr><td>12474</td><td>35</td><td>2</td></tr><tr><td>35226</td><td>43</td><td>2</td></tr><tr><td>12474</td><td>0</td><td>2</td></tr><tr><td>29213</td><td>13</td><td>2</td></tr><tr><td>27703</td><td>47</td><td>2</td></tr><tr><td>26847</td><td>14</td><td>2</td></tr><tr><td>35226</td><td>49</td><td>2</td></tr><tr><td>34740</td><td>41</td><td>2</td></tr><tr><td>32018</td><td>20</td><td>2</td></tr><tr><td>16093</td><td>35</td><td>2</td></tr><tr><td>27306</td><td>27</td><td>2</td></tr><tr><td>40872</td><td>4</td><td>2</td></tr><tr><td>24018</td><td>33</td><td>2</td></tr><tr><td>26285</td><td>45</td><td>2</td></tr><tr><td>29213</td><td>43</td><td>2</td></tr><tr><td>24018</td><td>34</td><td>2</td></tr><tr><td>28776</td><td>4</td><td>2</td></tr><tr><td>28776</td><td>43</td><td>2</td></tr><tr><td>32018</td><td>18</td><td>2</td></tr><tr><td>28588</td><td>34</td><td>2</td></tr><tr><td>35728</td><td>29</td><td>2</td></tr><tr><td>45875</td><td>47</td><td>2</td></tr><tr><td>14508</td><td>22</td><td>2</td></tr><tr><td>40872</td><td>8</td><td>2</td></tr><tr><td>28521</td><td>20</td><td>2</td></tr><tr><td>35728</td><td>8</td><td>2</td></tr><tr><td>26847</td><td>6</td><td>2</td></tr><tr><td>27306</td><td>16</td><td>2</td></tr></tbody></table></div>"
      ]
     },
     "metadata": {
      "application/vnd.databricks.v1+output": {
       "addedWidgets": {},
       "aggData": [],
       "aggError": "",
       "aggOverflow": false,
       "aggSchema": [],
       "aggSeriesLimitReached": false,
       "aggType": "",
       "arguments": {},
       "columnCustomDisplayInfos": {},
       "data": [
        [
         29213,
         0,
         8
        ],
        [
         35728,
         31,
         6
        ],
        [
         36117,
         19,
         6
        ],
        [
         14232,
         30,
         6
        ],
        [
         27306,
         35,
         6
        ],
        [
         26285,
         26,
         6
        ],
        [
         35728,
         42,
         6
        ],
        [
         33987,
         15,
         6
        ],
        [
         29213,
         11,
         6
        ],
        [
         14508,
         47,
         6
        ],
        [
         49296,
         33,
         6
        ],
        [
         12474,
         44,
         6
        ],
        [
         35226,
         21,
         6
        ],
        [
         14508,
         3,
         6
        ],
        [
         12140,
         5,
         4
        ],
        [
         45875,
         7,
         4
        ],
        [
         41796,
         31,
         4
        ],
        [
         29130,
         4,
         4
        ],
        [
         45875,
         48,
         4
        ],
        [
         45875,
         24,
         4
        ],
        [
         47356,
         28,
         4
        ],
        [
         31362,
         25,
         4
        ],
        [
         28814,
         28,
         4
        ],
        [
         45875,
         3,
         4
        ],
        [
         47356,
         45,
         4
        ],
        [
         24018,
         4,
         4
        ],
        [
         14232,
         28,
         4
        ],
        [
         43052,
         3,
         4
        ],
        [
         16093,
         8,
         4
        ],
        [
         41192,
         7,
         4
        ],
        [
         34740,
         45,
         4
        ],
        [
         33987,
         8,
         4
        ],
        [
         23250,
         48,
         4
        ],
        [
         35226,
         23,
         4
        ],
        [
         40872,
         47,
         4
        ],
        [
         41488,
         47,
         4
        ],
        [
         45875,
         49,
         4
        ],
        [
         19787,
         9,
         4
        ],
        [
         40872,
         31,
         4
        ],
        [
         14508,
         36,
         4
        ],
        [
         40559,
         8,
         4
        ],
        [
         41192,
         10,
         4
        ],
        [
         36164,
         46,
         4
        ],
        [
         33987,
         1,
         4
        ],
        [
         47356,
         41,
         4
        ],
        [
         40872,
         19,
         4
        ],
        [
         29213,
         27,
         4
        ],
        [
         35226,
         2,
         4
        ],
        [
         35728,
         49,
         4
        ],
        [
         29213,
         38,
         4
        ],
        [
         24018,
         32,
         4
        ],
        [
         12474,
         32,
         4
        ],
        [
         28814,
         48,
         4
        ],
        [
         37012,
         35,
         4
        ],
        [
         43052,
         46,
         4
        ],
        [
         14232,
         47,
         4
        ],
        [
         23916,
         16,
         4
        ],
        [
         28588,
         21,
         4
        ],
        [
         29213,
         48,
         4
        ],
        [
         26285,
         9,
         4
        ],
        [
         45875,
         9,
         4
        ],
        [
         42387,
         0,
         4
        ],
        [
         29213,
         35,
         4
        ],
        [
         34740,
         1,
         4
        ],
        [
         14508,
         44,
         4
        ],
        [
         14508,
         31,
         4
        ],
        [
         40872,
         28,
         4
        ],
        [
         47356,
         35,
         4
        ],
        [
         43052,
         29,
         4
        ],
        [
         40872,
         40,
         4
        ],
        [
         34740,
         37,
         4
        ],
        [
         45875,
         20,
         4
        ],
        [
         34740,
         30,
         4
        ],
        [
         14232,
         48,
         4
        ],
        [
         40872,
         5,
         4
        ],
        [
         43052,
         1,
         4
        ],
        [
         29130,
         19,
         4
        ],
        [
         45875,
         32,
         4
        ],
        [
         27306,
         47,
         4
        ],
        [
         12474,
         21,
         4
        ],
        [
         40872,
         22,
         4
        ],
        [
         14232,
         15,
         4
        ],
        [
         28588,
         24,
         4
        ],
        [
         14508,
         39,
         4
        ],
        [
         33987,
         6,
         4
        ],
        [
         26285,
         36,
         4
        ],
        [
         40872,
         42,
         4
        ],
        [
         28521,
         18,
         4
        ],
        [
         41732,
         10,
         4
        ],
        [
         12474,
         28,
         4
        ],
        [
         16093,
         26,
         2
        ],
        [
         45875,
         46,
         2
        ],
        [
         41367,
         25,
         2
        ],
        [
         15149,
         25,
         2
        ],
        [
         29213,
         33,
         2
        ],
        [
         36469,
         3,
         2
        ],
        [
         42387,
         49,
         2
        ],
        [
         23916,
         14,
         2
        ],
        [
         26285,
         10,
         2
        ],
        [
         41796,
         5,
         2
        ],
        [
         41732,
         17,
         2
        ],
        [
         43052,
         19,
         2
        ],
        [
         27306,
         21,
         2
        ],
        [
         31057,
         5,
         2
        ],
        [
         34740,
         3,
         2
        ],
        [
         19787,
         6,
         2
        ],
        [
         34740,
         20,
         2
        ],
        [
         40872,
         0,
         2
        ],
        [
         14232,
         49,
         2
        ],
        [
         33987,
         5,
         2
        ],
        [
         17807,
         37,
         2
        ],
        [
         25143,
         2,
         2
        ],
        [
         38766,
         5,
         2
        ],
        [
         17807,
         49,
         2
        ],
        [
         27306,
         20,
         2
        ],
        [
         24018,
         1,
         2
        ],
        [
         22501,
         46,
         2
        ],
        [
         41796,
         3,
         2
        ],
        [
         28588,
         47,
         2
        ],
        [
         29130,
         30,
         2
        ],
        [
         41488,
         15,
         2
        ],
        [
         23767,
         43,
         2
        ],
        [
         24018,
         31,
         2
        ],
        [
         24018,
         21,
         2
        ],
        [
         23916,
         39,
         2
        ],
        [
         23250,
         26,
         2
        ],
        [
         29745,
         22,
         2
        ],
        [
         29213,
         25,
         2
        ],
        [
         30514,
         20,
         2
        ],
        [
         24018,
         12,
         2
        ],
        [
         29745,
         2,
         2
        ],
        [
         35428,
         33,
         2
        ],
        [
         36644,
         38,
         2
        ],
        [
         43052,
         26,
         2
        ],
        [
         24018,
         41,
         2
        ],
        [
         33733,
         49,
         2
        ],
        [
         20217,
         30,
         2
        ],
        [
         29213,
         44,
         2
        ],
        [
         38766,
         8,
         2
        ],
        [
         26285,
         46,
         2
        ],
        [
         20496,
         42,
         2
        ],
        [
         11745,
         38,
         2
        ],
        [
         41796,
         12,
         2
        ],
        [
         28814,
         3,
         2
        ],
        [
         12227,
         4,
         2
        ],
        [
         43052,
         45,
         2
        ],
        [
         48913,
         25,
         2
        ],
        [
         35728,
         44,
         2
        ],
        [
         49296,
         30,
         2
        ],
        [
         30088,
         19,
         2
        ],
        [
         27306,
         24,
         2
        ],
        [
         19859,
         46,
         2
        ],
        [
         28588,
         37,
         2
        ],
        [
         47356,
         5,
         2
        ],
        [
         19622,
         6,
         2
        ],
        [
         27306,
         36,
         2
        ],
        [
         25477,
         17,
         2
        ],
        [
         47261,
         4,
         2
        ],
        [
         33987,
         38,
         2
        ],
        [
         31057,
         35,
         2
        ],
        [
         33733,
         27,
         2
        ],
        [
         23767,
         3,
         2
        ],
        [
         14232,
         34,
         2
        ],
        [
         14232,
         18,
         2
        ],
        [
         23916,
         21,
         2
        ],
        [
         27836,
         37,
         2
        ],
        [
         43104,
         18,
         2
        ],
        [
         43052,
         42,
         2
        ],
        [
         12474,
         6,
         2
        ],
        [
         49296,
         15,
         2
        ],
        [
         40872,
         2,
         2
        ],
        [
         17807,
         48,
         2
        ],
        [
         41796,
         35,
         2
        ],
        [
         49835,
         26,
         2
        ],
        [
         13937,
         19,
         2
        ],
        [
         40872,
         46,
         2
        ],
        [
         40559,
         9,
         2
        ],
        [
         36644,
         4,
         2
        ],
        [
         20496,
         31,
         2
        ],
        [
         30514,
         40,
         2
        ],
        [
         35226,
         34,
         2
        ],
        [
         41192,
         30,
         2
        ],
        [
         31057,
         31,
         2
        ],
        [
         33987,
         24,
         2
        ],
        [
         25143,
         46,
         2
        ],
        [
         23250,
         47,
         2
        ],
        [
         14508,
         2,
         2
        ],
        [
         33987,
         22,
         2
        ],
        [
         36117,
         13,
         2
        ],
        [
         48721,
         9,
         2
        ],
        [
         25143,
         43,
         2
        ],
        [
         35728,
         30,
         2
        ],
        [
         12227,
         0,
         2
        ],
        [
         41954,
         43,
         2
        ],
        [
         35728,
         3,
         2
        ],
        [
         36164,
         40,
         2
        ],
        [
         14508,
         16,
         2
        ],
        [
         24018,
         24,
         2
        ],
        [
         29130,
         17,
         2
        ],
        [
         28521,
         21,
         2
        ],
        [
         33733,
         28,
         2
        ],
        [
         34740,
         0,
         2
        ],
        [
         40872,
         10,
         2
        ],
        [
         28521,
         40,
         2
        ],
        [
         25477,
         5,
         2
        ],
        [
         31362,
         36,
         2
        ],
        [
         41732,
         49,
         2
        ],
        [
         17807,
         19,
         2
        ],
        [
         33987,
         41,
         2
        ],
        [
         49835,
         25,
         2
        ],
        [
         47403,
         44,
         2
        ],
        [
         19859,
         11,
         2
        ],
        [
         35226,
         36,
         2
        ],
        [
         28521,
         25,
         2
        ],
        [
         35226,
         9,
         2
        ],
        [
         36164,
         37,
         2
        ],
        [
         43104,
         8,
         2
        ],
        [
         43052,
         25,
         2
        ],
        [
         14508,
         35,
         2
        ],
        [
         29130,
         36,
         2
        ],
        [
         24018,
         22,
         2
        ],
        [
         43104,
         29,
         2
        ],
        [
         23916,
         12,
         2
        ],
        [
         27703,
         16,
         2
        ],
        [
         41796,
         48,
         2
        ],
        [
         28359,
         7,
         2
        ],
        [
         29213,
         5,
         2
        ],
        [
         14232,
         42,
         2
        ],
        [
         18587,
         31,
         2
        ],
        [
         40177,
         38,
         2
        ],
        [
         27306,
         17,
         2
        ],
        [
         30514,
         45,
         2
        ],
        [
         34740,
         14,
         2
        ],
        [
         19198,
         26,
         2
        ],
        [
         30088,
         29,
         2
        ],
        [
         49835,
         14,
         2
        ],
        [
         12227,
         13,
         2
        ],
        [
         35226,
         20,
         2
        ],
        [
         35728,
         10,
         2
        ],
        [
         35728,
         21,
         2
        ],
        [
         24018,
         8,
         2
        ],
        [
         17807,
         38,
         2
        ],
        [
         41732,
         18,
         2
        ],
        [
         33987,
         4,
         2
        ],
        [
         35728,
         13,
         2
        ],
        [
         43052,
         48,
         2
        ],
        [
         14508,
         19,
         2
        ],
        [
         17807,
         43,
         2
        ],
        [
         29130,
         23,
         2
        ],
        [
         16093,
         12,
         2
        ],
        [
         19859,
         45,
         2
        ],
        [
         27306,
         4,
         2
        ],
        [
         13937,
         34,
         2
        ],
        [
         41367,
         43,
         2
        ],
        [
         29745,
         48,
         2
        ],
        [
         41192,
         6,
         2
        ],
        [
         28938,
         30,
         2
        ],
        [
         49271,
         33,
         2
        ],
        [
         36066,
         22,
         2
        ],
        [
         13559,
         8,
         2
        ],
        [
         22480,
         36,
         2
        ],
        [
         19150,
         22,
         2
        ],
        [
         22480,
         47,
         2
        ],
        [
         12474,
         40,
         2
        ],
        [
         49271,
         4,
         2
        ],
        [
         41732,
         32,
         2
        ],
        [
         41732,
         20,
         2
        ],
        [
         28521,
         1,
         2
        ],
        [
         24863,
         25,
         2
        ],
        [
         13937,
         47,
         2
        ],
        [
         43104,
         25,
         2
        ],
        [
         27306,
         3,
         2
        ],
        [
         45875,
         37,
         2
        ],
        [
         19859,
         6,
         2
        ],
        [
         17807,
         17,
         2
        ],
        [
         27306,
         8,
         2
        ],
        [
         41488,
         19,
         2
        ],
        [
         31362,
         45,
         2
        ],
        [
         49296,
         47,
         2
        ],
        [
         20496,
         37,
         2
        ],
        [
         12474,
         1,
         2
        ],
        [
         31362,
         12,
         2
        ],
        [
         31362,
         34,
         2
        ],
        [
         27306,
         49,
         2
        ],
        [
         27836,
         29,
         2
        ],
        [
         20217,
         19,
         2
        ],
        [
         40872,
         14,
         2
        ],
        [
         12227,
         32,
         2
        ],
        [
         12474,
         22,
         2
        ],
        [
         16819,
         29,
         2
        ],
        [
         45875,
         41,
         2
        ],
        [
         12227,
         49,
         2
        ],
        [
         43104,
         27,
         2
        ],
        [
         35226,
         38,
         2
        ],
        [
         18587,
         36,
         2
        ],
        [
         43104,
         2,
         2
        ],
        [
         24968,
         5,
         2
        ],
        [
         14232,
         17,
         2
        ],
        [
         35226,
         15,
         2
        ],
        [
         24018,
         49,
         2
        ],
        [
         36117,
         10,
         2
        ],
        [
         24018,
         18,
         2
        ],
        [
         33987,
         32,
         2
        ],
        [
         14232,
         10,
         2
        ],
        [
         35728,
         33,
         2
        ],
        [
         25143,
         31,
         2
        ],
        [
         25477,
         1,
         2
        ],
        [
         16819,
         46,
         2
        ],
        [
         28814,
         37,
         2
        ],
        [
         28814,
         38,
         2
        ],
        [
         25143,
         45,
         2
        ],
        [
         29213,
         45,
         2
        ],
        [
         28588,
         33,
         2
        ],
        [
         19005,
         17,
         2
        ],
        [
         40177,
         18,
         2
        ],
        [
         34740,
         26,
         2
        ],
        [
         41796,
         15,
         2
        ],
        [
         40559,
         6,
         2
        ],
        [
         25477,
         27,
         2
        ],
        [
         49835,
         32,
         2
        ],
        [
         19859,
         37,
         2
        ],
        [
         41488,
         21,
         2
        ],
        [
         35728,
         41,
         2
        ],
        [
         27306,
         31,
         2
        ],
        [
         30088,
         15,
         2
        ],
        [
         24968,
         23,
         2
        ],
        [
         41796,
         37,
         2
        ],
        [
         47356,
         4,
         2
        ],
        [
         36469,
         46,
         2
        ],
        [
         41488,
         46,
         2
        ],
        [
         22480,
         33,
         2
        ],
        [
         47356,
         2,
         2
        ],
        [
         12474,
         38,
         2
        ],
        [
         27671,
         14,
         2
        ],
        [
         19622,
         49,
         2
        ],
        [
         19103,
         36,
         2
        ],
        [
         20217,
         47,
         2
        ],
        [
         23916,
         22,
         2
        ],
        [
         11745,
         22,
         2
        ],
        [
         19859,
         1,
         2
        ],
        [
         37012,
         28,
         2
        ],
        [
         47261,
         28,
         2
        ],
        [
         41192,
         11,
         2
        ],
        [
         28359,
         28,
         2
        ],
        [
         13937,
         37,
         2
        ],
        [
         32018,
         7,
         2
        ],
        [
         36469,
         25,
         2
        ],
        [
         29130,
         8,
         2
        ],
        [
         19787,
         32,
         2
        ],
        [
         17807,
         10,
         2
        ],
        [
         14232,
         5,
         2
        ],
        [
         24968,
         44,
         2
        ],
        [
         26847,
         22,
         2
        ],
        [
         27703,
         34,
         2
        ],
        [
         30088,
         0,
         2
        ],
        [
         45875,
         12,
         2
        ],
        [
         36117,
         32,
         2
        ],
        [
         22480,
         42,
         2
        ],
        [
         26847,
         15,
         2
        ],
        [
         26285,
         3,
         2
        ],
        [
         13937,
         25,
         2
        ],
        [
         26285,
         32,
         2
        ],
        [
         43052,
         15,
         2
        ],
        [
         41796,
         45,
         2
        ],
        [
         16093,
         5,
         2
        ],
        [
         27306,
         23,
         2
        ],
        [
         45875,
         13,
         2
        ],
        [
         14232,
         31,
         2
        ],
        [
         23916,
         31,
         2
        ],
        [
         28814,
         43,
         2
        ],
        [
         45875,
         43,
         2
        ],
        [
         47356,
         27,
         2
        ],
        [
         41732,
         1,
         2
        ],
        [
         41954,
         1,
         2
        ],
        [
         28814,
         32,
         2
        ],
        [
         16093,
         9,
         2
        ],
        [
         19150,
         23,
         2
        ],
        [
         41488,
         24,
         2
        ],
        [
         41488,
         34,
         2
        ],
        [
         29130,
         9,
         2
        ],
        [
         28588,
         32,
         2
        ],
        [
         30612,
         23,
         2
        ],
        [
         30612,
         19,
         2
        ],
        [
         23916,
         9,
         2
        ],
        [
         13937,
         42,
         2
        ],
        [
         24018,
         11,
         2
        ],
        [
         28521,
         35,
         2
        ],
        [
         30088,
         23,
         2
        ],
        [
         29745,
         18,
         2
        ],
        [
         23250,
         27,
         2
        ],
        [
         25477,
         49,
         2
        ],
        [
         37012,
         40,
         2
        ],
        [
         33987,
         19,
         2
        ],
        [
         35728,
         0,
         2
        ],
        [
         25477,
         23,
         2
        ],
        [
         32018,
         19,
         2
        ],
        [
         19198,
         2,
         2
        ],
        [
         19859,
         12,
         2
        ],
        [
         19005,
         23,
         2
        ],
        [
         28521,
         3,
         2
        ],
        [
         15149,
         11,
         2
        ],
        [
         43052,
         0,
         2
        ],
        [
         43052,
         17,
         2
        ],
        [
         19859,
         20,
         2
        ],
        [
         45875,
         23,
         2
        ],
        [
         28588,
         38,
         2
        ],
        [
         19859,
         49,
         2
        ],
        [
         43104,
         23,
         2
        ],
        [
         24863,
         47,
         2
        ],
        [
         26285,
         42,
         2
        ],
        [
         24863,
         43,
         2
        ],
        [
         16819,
         37,
         2
        ],
        [
         35226,
         27,
         2
        ],
        [
         42643,
         13,
         2
        ],
        [
         34740,
         35,
         2
        ],
        [
         33987,
         42,
         2
        ],
        [
         13559,
         22,
         2
        ],
        [
         49296,
         48,
         2
        ],
        [
         41192,
         35,
         2
        ],
        [
         31362,
         33,
         2
        ],
        [
         18587,
         40,
         2
        ],
        [
         36117,
         0,
         2
        ],
        [
         26285,
         18,
         2
        ],
        [
         24018,
         27,
         2
        ],
        [
         43052,
         40,
         2
        ],
        [
         16093,
         1,
         2
        ],
        [
         23767,
         13,
         2
        ],
        [
         42643,
         41,
         2
        ],
        [
         31362,
         5,
         2
        ],
        [
         40872,
         49,
         2
        ],
        [
         29213,
         4,
         2
        ],
        [
         24968,
         45,
         2
        ],
        [
         35728,
         6,
         2
        ],
        [
         29745,
         41,
         2
        ],
        [
         16093,
         31,
         2
        ],
        [
         45875,
         2,
         2
        ],
        [
         29213,
         39,
         2
        ],
        [
         39676,
         6,
         2
        ],
        [
         35226,
         39,
         2
        ],
        [
         12474,
         16,
         2
        ],
        [
         47356,
         24,
         2
        ],
        [
         29130,
         11,
         2
        ],
        [
         35226,
         31,
         2
        ],
        [
         39676,
         43,
         2
        ],
        [
         24018,
         46,
         2
        ],
        [
         23916,
         8,
         2
        ],
        [
         33733,
         9,
         2
        ],
        [
         26285,
         19,
         2
        ],
        [
         33987,
         27,
         2
        ],
        [
         19859,
         22,
         2
        ],
        [
         31362,
         8,
         2
        ],
        [
         34740,
         27,
         2
        ],
        [
         14508,
         11,
         2
        ],
        [
         36117,
         41,
         2
        ],
        [
         34740,
         47,
         2
        ],
        [
         45875,
         31,
         2
        ],
        [
         12474,
         45,
         2
        ],
        [
         16093,
         22,
         2
        ],
        [
         14508,
         25,
         2
        ],
        [
         28588,
         19,
         2
        ],
        [
         35728,
         9,
         2
        ],
        [
         36164,
         1,
         2
        ],
        [
         24018,
         37,
         2
        ],
        [
         30088,
         6,
         2
        ],
        [
         29130,
         41,
         2
        ],
        [
         41367,
         15,
         2
        ],
        [
         14508,
         40,
         2
        ],
        [
         26847,
         30,
         2
        ],
        [
         28359,
         6,
         2
        ],
        [
         38766,
         30,
         2
        ],
        [
         26285,
         24,
         2
        ],
        [
         40872,
         37,
         2
        ],
        [
         43052,
         39,
         2
        ],
        [
         47403,
         18,
         2
        ],
        [
         16093,
         38,
         2
        ],
        [
         41192,
         43,
         2
        ],
        [
         23767,
         44,
         2
        ],
        [
         13559,
         43,
         2
        ],
        [
         34740,
         15,
         2
        ],
        [
         33987,
         31,
         2
        ],
        [
         31362,
         2,
         2
        ],
        [
         28776,
         16,
         2
        ],
        [
         35226,
         41,
         2
        ],
        [
         36644,
         32,
         2
        ],
        [
         29745,
         40,
         2
        ],
        [
         16093,
         47,
         2
        ],
        [
         20496,
         26,
         2
        ],
        [
         12474,
         39,
         2
        ],
        [
         43104,
         32,
         2
        ],
        [
         14232,
         32,
         2
        ],
        [
         16093,
         42,
         2
        ],
        [
         37012,
         23,
         2
        ],
        [
         35728,
         19,
         2
        ],
        [
         41954,
         35,
         2
        ],
        [
         49296,
         1,
         2
        ],
        [
         29130,
         13,
         2
        ],
        [
         30088,
         25,
         2
        ],
        [
         31362,
         44,
         2
        ],
        [
         19859,
         26,
         2
        ],
        [
         42387,
         8,
         2
        ],
        [
         35226,
         7,
         2
        ],
        [
         25477,
         47,
         2
        ],
        [
         42643,
         19,
         2
        ],
        [
         28588,
         17,
         2
        ],
        [
         27306,
         33,
         2
        ],
        [
         28588,
         14,
         2
        ],
        [
         16093,
         36,
         2
        ],
        [
         29213,
         26,
         2
        ],
        [
         14232,
         1,
         2
        ],
        [
         33987,
         36,
         2
        ],
        [
         35226,
         22,
         2
        ],
        [
         15149,
         32,
         2
        ],
        [
         48913,
         43,
         2
        ],
        [
         16093,
         15,
         2
        ],
        [
         27306,
         46,
         2
        ],
        [
         26285,
         41,
         2
        ],
        [
         27703,
         23,
         2
        ],
        [
         20496,
         18,
         2
        ],
        [
         49296,
         3,
         2
        ],
        [
         36117,
         9,
         2
        ],
        [
         29213,
         31,
         2
        ],
        [
         13937,
         28,
         2
        ],
        [
         36164,
         43,
         2
        ],
        [
         35728,
         37,
         2
        ],
        [
         43052,
         20,
         2
        ],
        [
         35226,
         24,
         2
        ],
        [
         24018,
         7,
         2
        ],
        [
         35728,
         2,
         2
        ],
        [
         28588,
         12,
         2
        ],
        [
         28938,
         28,
         2
        ],
        [
         40872,
         23,
         2
        ],
        [
         27306,
         41,
         2
        ],
        [
         40872,
         11,
         2
        ],
        [
         28521,
         30,
         2
        ],
        [
         28359,
         10,
         2
        ],
        [
         37012,
         1,
         2
        ],
        [
         47356,
         34,
         2
        ],
        [
         45875,
         22,
         2
        ],
        [
         36117,
         5,
         2
        ],
        [
         29213,
         6,
         2
        ],
        [
         20496,
         3,
         2
        ],
        [
         19859,
         4,
         2
        ],
        [
         28938,
         47,
         2
        ],
        [
         12140,
         9,
         2
        ],
        [
         27306,
         48,
         2
        ],
        [
         26285,
         8,
         2
        ],
        [
         14508,
         24,
         2
        ],
        [
         14508,
         38,
         2
        ],
        [
         34740,
         5,
         2
        ],
        [
         47356,
         22,
         2
        ],
        [
         14508,
         41,
         2
        ],
        [
         25477,
         16,
         2
        ],
        [
         47356,
         36,
         2
        ],
        [
         30088,
         5,
         2
        ],
        [
         43052,
         23,
         2
        ],
        [
         29745,
         35,
         2
        ],
        [
         19859,
         5,
         2
        ],
        [
         34740,
         17,
         2
        ],
        [
         24018,
         25,
         2
        ],
        [
         13937,
         43,
         2
        ],
        [
         29130,
         18,
         2
        ],
        [
         47356,
         6,
         2
        ],
        [
         30612,
         48,
         2
        ],
        [
         28521,
         32,
         2
        ],
        [
         14508,
         20,
         2
        ],
        [
         18587,
         12,
         2
        ],
        [
         33987,
         35,
         2
        ],
        [
         23916,
         42,
         2
        ],
        [
         26285,
         35,
         2
        ],
        [
         43104,
         13,
         2
        ],
        [
         26847,
         47,
         2
        ],
        [
         14232,
         33,
         2
        ],
        [
         27306,
         30,
         2
        ],
        [
         34740,
         10,
         2
        ],
        [
         36117,
         44,
         2
        ],
        [
         47356,
         44,
         2
        ],
        [
         28588,
         36,
         2
        ],
        [
         48913,
         11,
         2
        ],
        [
         41192,
         36,
         2
        ],
        [
         16819,
         20,
         2
        ],
        [
         14232,
         24,
         2
        ],
        [
         19859,
         35,
         2
        ],
        [
         16093,
         21,
         2
        ],
        [
         34740,
         40,
         2
        ],
        [
         45875,
         6,
         2
        ],
        [
         47403,
         28,
         2
        ],
        [
         18587,
         29,
         2
        ],
        [
         24018,
         0,
         2
        ],
        [
         23250,
         6,
         2
        ],
        [
         19198,
         6,
         2
        ],
        [
         27306,
         45,
         2
        ],
        [
         28521,
         12,
         2
        ],
        [
         49296,
         19,
         2
        ],
        [
         24863,
         9,
         2
        ],
        [
         19787,
         33,
         2
        ],
        [
         36117,
         6,
         2
        ],
        [
         42387,
         30,
         2
        ],
        [
         19103,
         47,
         2
        ],
        [
         41732,
         24,
         2
        ],
        [
         24863,
         4,
         2
        ],
        [
         26285,
         11,
         2
        ],
        [
         47250,
         48,
         2
        ],
        [
         28588,
         46,
         2
        ],
        [
         19103,
         2,
         2
        ],
        [
         25477,
         9,
         2
        ],
        [
         25143,
         21,
         2
        ],
        [
         16093,
         27,
         2
        ],
        [
         45875,
         15,
         2
        ],
        [
         14508,
         17,
         2
        ],
        [
         14633,
         42,
         2
        ],
        [
         47250,
         49,
         2
        ],
        [
         43104,
         36,
         2
        ],
        [
         19787,
         12,
         2
        ],
        [
         41488,
         29,
         2
        ],
        [
         31362,
         43,
         2
        ],
        [
         25143,
         5,
         2
        ],
        [
         49075,
         15,
         2
        ],
        [
         28814,
         12,
         2
        ],
        [
         38766,
         7,
         2
        ],
        [
         26285,
         15,
         2
        ],
        [
         41488,
         26,
         2
        ],
        [
         31362,
         49,
         2
        ],
        [
         14232,
         38,
         2
        ],
        [
         31057,
         2,
         2
        ],
        [
         12474,
         35,
         2
        ],
        [
         35226,
         43,
         2
        ],
        [
         12474,
         0,
         2
        ],
        [
         29213,
         13,
         2
        ],
        [
         27703,
         47,
         2
        ],
        [
         26847,
         14,
         2
        ],
        [
         35226,
         49,
         2
        ],
        [
         34740,
         41,
         2
        ],
        [
         32018,
         20,
         2
        ],
        [
         16093,
         35,
         2
        ],
        [
         27306,
         27,
         2
        ],
        [
         40872,
         4,
         2
        ],
        [
         24018,
         33,
         2
        ],
        [
         26285,
         45,
         2
        ],
        [
         29213,
         43,
         2
        ],
        [
         24018,
         34,
         2
        ],
        [
         28776,
         4,
         2
        ],
        [
         28776,
         43,
         2
        ],
        [
         32018,
         18,
         2
        ],
        [
         28588,
         34,
         2
        ],
        [
         35728,
         29,
         2
        ],
        [
         45875,
         47,
         2
        ],
        [
         14508,
         22,
         2
        ],
        [
         40872,
         8,
         2
        ],
        [
         28521,
         20,
         2
        ],
        [
         35728,
         8,
         2
        ],
        [
         26847,
         6,
         2
        ],
        [
         27306,
         16,
         2
        ]
       ],
       "datasetInfos": [],
       "dbfsResultPath": null,
       "isJsonSchema": true,
       "metadata": {},
       "overflow": false,
       "plotOptions": {
        "customPlotOptions": {},
        "displayType": "table",
        "pivotAggregation": null,
        "pivotColumns": null,
        "xColumns": null,
        "yColumns": null
       },
       "removedWidgets": [],
       "schema": [
        {
         "metadata": "{}",
         "name": "user_id",
         "type": "\"integer\""
        },
        {
         "metadata": "{}",
         "name": "workout_id",
         "type": "\"integer\""
        },
        {
         "metadata": "{}",
         "name": "count",
         "type": "\"long\""
        }
       ],
       "type": "table"
      }
     },
     "output_type": "display_data"
    },
    {
     "output_type": "display_data",
     "data": {
      "text/html": [
       "<style scoped>\n",
       "  .table-result-container {\n",
       "    max-height: 300px;\n",
       "    overflow: auto;\n",
       "  }\n",
       "  table, th, td {\n",
       "    border: 1px solid black;\n",
       "    border-collapse: collapse;\n",
       "  }\n",
       "  th, td {\n",
       "    padding: 5px;\n",
       "  }\n",
       "  th {\n",
       "    text-align: left;\n",
       "  }\n",
       "</style><div class='table-result-container'><table class='table-result'><thead style='background-color: white'><tr><th>user_id</th><th>session_id</th><th>count</th></tr></thead><tbody><tr><td>16093</td><td>502</td><td>2</td></tr><tr><td>43104</td><td>6</td><td>2</td></tr><tr><td>45875</td><td>226</td><td>2</td></tr><tr><td>12140</td><td>479</td><td>2</td></tr><tr><td>28588</td><td>13</td><td>2</td></tr><tr><td>31362</td><td>303</td><td>2</td></tr><tr><td>35428</td><td>1</td><td>2</td></tr><tr><td>23916</td><td>9</td><td>2</td></tr><tr><td>28814</td><td>8</td><td>2</td></tr><tr><td>34740</td><td>325</td><td>2</td></tr><tr><td>41796</td><td>5</td><td>2</td></tr><tr><td>35728</td><td>417</td><td>2</td></tr><tr><td>36117</td><td>322</td><td>2</td></tr><tr><td>24018</td><td>164</td><td>2</td></tr><tr><td>33733</td><td>3</td><td>2</td></tr><tr><td>26285</td><td>86</td><td>2</td></tr><tr><td>45875</td><td>232</td><td>2</td></tr><tr><td>45875</td><td>233</td><td>2</td></tr><tr><td>40872</td><td>91</td><td>2</td></tr><tr><td>49835</td><td>4</td><td>2</td></tr><tr><td>45875</td><td>219</td><td>2</td></tr><tr><td>41796</td><td>3</td><td>2</td></tr><tr><td>41192</td><td>5</td><td>2</td></tr><tr><td>43052</td><td>19</td><td>2</td></tr><tr><td>30088</td><td>450</td><td>2</td></tr><tr><td>49835</td><td>3</td><td>2</td></tr><tr><td>45875</td><td>231</td><td>2</td></tr><tr><td>36469</td><td>3</td><td>2</td></tr><tr><td>14232</td><td>488</td><td>2</td></tr><tr><td>41732</td><td>3</td><td>2</td></tr><tr><td>14232</td><td>490</td><td>2</td></tr><tr><td>23916</td><td>11</td><td>2</td></tr><tr><td>26285</td><td>89</td><td>2</td></tr><tr><td>28814</td><td>9</td><td>2</td></tr><tr><td>45875</td><td>222</td><td>2</td></tr><tr><td>25143</td><td>3</td><td>2</td></tr><tr><td>40872</td><td>97</td><td>2</td></tr><tr><td>17807</td><td>7</td><td>2</td></tr><tr><td>33987</td><td>499</td><td>2</td></tr><tr><td>49835</td><td>2</td><td>2</td></tr><tr><td>14508</td><td>412</td><td>2</td></tr><tr><td>47356</td><td>15</td><td>2</td></tr><tr><td>41796</td><td>2</td><td>2</td></tr><tr><td>19859</td><td>222</td><td>2</td></tr><tr><td>13937</td><td>7</td><td>2</td></tr><tr><td>35226</td><td>416</td><td>2</td></tr><tr><td>27306</td><td>174</td><td>2</td></tr><tr><td>37012</td><td>58</td><td>2</td></tr><tr><td>12474</td><td>10</td><td>2</td></tr><tr><td>43052</td><td>17</td><td>2</td></tr><tr><td>24018</td><td>159</td><td>2</td></tr><tr><td>25143</td><td>2</td><td>2</td></tr><tr><td>34740</td><td>326</td><td>2</td></tr><tr><td>35226</td><td>419</td><td>2</td></tr><tr><td>26285</td><td>87</td><td>2</td></tr><tr><td>24018</td><td>158</td><td>2</td></tr><tr><td>27306</td><td>173</td><td>2</td></tr><tr><td>17807</td><td>3</td><td>2</td></tr><tr><td>29213</td><td>317</td><td>2</td></tr><tr><td>26847</td><td>5</td><td>2</td></tr><tr><td>43052</td><td>16</td><td>2</td></tr><tr><td>25477</td><td>7</td><td>2</td></tr><tr><td>40177</td><td>2</td><td>2</td></tr><tr><td>49835</td><td>1</td><td>2</td></tr><tr><td>45875</td><td>223</td><td>2</td></tr><tr><td>49296</td><td>67</td><td>2</td></tr><tr><td>19859</td><td>224</td><td>2</td></tr><tr><td>28814</td><td>3</td><td>2</td></tr><tr><td>12227</td><td>4</td><td>2</td></tr><tr><td>40872</td><td>92</td><td>2</td></tr><tr><td>25477</td><td>8</td><td>2</td></tr><tr><td>29213</td><td>313</td><td>2</td></tr><tr><td>35728</td><td>424</td><td>2</td></tr><tr><td>36644</td><td>280</td><td>2</td></tr><tr><td>17807</td><td>8</td><td>2</td></tr><tr><td>38766</td><td>403</td><td>2</td></tr><tr><td>27671</td><td>1</td><td>2</td></tr><tr><td>33987</td><td>505</td><td>2</td></tr><tr><td>24018</td><td>169</td><td>2</td></tr><tr><td>43052</td><td>13</td><td>2</td></tr><tr><td>16093</td><td>503</td><td>2</td></tr><tr><td>41732</td><td>2</td><td>2</td></tr><tr><td>14232</td><td>494</td><td>2</td></tr><tr><td>35226</td><td>420</td><td>2</td></tr><tr><td>11745</td><td>2</td><td>2</td></tr><tr><td>49271</td><td>2</td><td>2</td></tr><tr><td>25477</td><td>6</td><td>2</td></tr><tr><td>25143</td><td>4</td><td>2</td></tr><tr><td>31362</td><td>304</td><td>2</td></tr><tr><td>49271</td><td>1</td><td>2</td></tr><tr><td>33987</td><td>504</td><td>2</td></tr><tr><td>35728</td><td>416</td><td>2</td></tr><tr><td>16819</td><td>4</td><td>2</td></tr><tr><td>31057</td><td>1</td><td>2</td></tr><tr><td>29213</td><td>320</td><td>2</td></tr><tr><td>13937</td><td>5</td><td>2</td></tr><tr><td>41367</td><td>314</td><td>2</td></tr><tr><td>19859</td><td>223</td><td>2</td></tr><tr><td>29745</td><td>6</td><td>2</td></tr><tr><td>23916</td><td>8</td><td>2</td></tr><tr><td>40559</td><td>2</td><td>2</td></tr><tr><td>23767</td><td>3</td><td>2</td></tr><tr><td>14232</td><td>495</td><td>2</td></tr><tr><td>42387</td><td>2</td><td>2</td></tr><tr><td>41192</td><td>8</td><td>2</td></tr><tr><td>27703</td><td>458</td><td>2</td></tr><tr><td>27703</td><td>459</td><td>2</td></tr><tr><td>30088</td><td>449</td><td>2</td></tr><tr><td>49296</td><td>68</td><td>2</td></tr><tr><td>43052</td><td>21</td><td>2</td></tr><tr><td>27306</td><td>175</td><td>2</td></tr><tr><td>12474</td><td>15</td><td>2</td></tr><tr><td>22480</td><td>3</td><td>2</td></tr><tr><td>49296</td><td>65</td><td>2</td></tr><tr><td>11745</td><td>1</td><td>2</td></tr><tr><td>16819</td><td>3</td><td>2</td></tr><tr><td>31362</td><td>300</td><td>2</td></tr><tr><td>35728</td><td>423</td><td>2</td></tr><tr><td>40559</td><td>3</td><td>2</td></tr><tr><td>35226</td><td>415</td><td>2</td></tr><tr><td>30088</td><td>451</td><td>2</td></tr><tr><td>17807</td><td>5</td><td>2</td></tr><tr><td>35226</td><td>421</td><td>2</td></tr><tr><td>35728</td><td>418</td><td>2</td></tr><tr><td>33987</td><td>506</td><td>2</td></tr><tr><td>14508</td><td>408</td><td>2</td></tr><tr><td>41954</td><td>335</td><td>2</td></tr><tr><td>14508</td><td>414</td><td>2</td></tr><tr><td>29130</td><td>7</td><td>2</td></tr><tr><td>28521</td><td>335</td><td>2</td></tr><tr><td>28814</td><td>2</td><td>2</td></tr><tr><td>19859</td><td>221</td><td>2</td></tr><tr><td>41192</td><td>7</td><td>2</td></tr><tr><td>41488</td><td>3</td><td>2</td></tr><tr><td>29130</td><td>11</td><td>2</td></tr><tr><td>13937</td><td>4</td><td>2</td></tr><tr><td>43104</td><td>7</td><td>2</td></tr><tr><td>12474</td><td>16</td><td>2</td></tr><tr><td>35728</td><td>425</td><td>2</td></tr><tr><td>14508</td><td>409</td><td>2</td></tr><tr><td>29130</td><td>10</td><td>2</td></tr><tr><td>23250</td><td>457</td><td>2</td></tr><tr><td>28814</td><td>5</td><td>2</td></tr><tr><td>43104</td><td>5</td><td>2</td></tr><tr><td>30514</td><td>1</td><td>2</td></tr><tr><td>29213</td><td>312</td><td>2</td></tr><tr><td>45875</td><td>229</td><td>2</td></tr><tr><td>25143</td><td>1</td><td>2</td></tr><tr><td>27306</td><td>183</td><td>2</td></tr><tr><td>29130</td><td>14</td><td>2</td></tr><tr><td>17807</td><td>4</td><td>2</td></tr><tr><td>41796</td><td>9</td><td>2</td></tr><tr><td>29213</td><td>311</td><td>2</td></tr><tr><td>33987</td><td>498</td><td>2</td></tr><tr><td>36644</td><td>281</td><td>2</td></tr><tr><td>26285</td><td>84</td><td>2</td></tr><tr><td>27836</td><td>2</td><td>2</td></tr><tr><td>18587</td><td>5</td><td>2</td></tr><tr><td>27306</td><td>184</td><td>2</td></tr><tr><td>20496</td><td>6</td><td>2</td></tr><tr><td>17807</td><td>1</td><td>2</td></tr><tr><td>27306</td><td>177</td><td>2</td></tr><tr><td>41796</td><td>7</td><td>2</td></tr><tr><td>20217</td><td>1</td><td>2</td></tr><tr><td>34740</td><td>328</td><td>2</td></tr><tr><td>45875</td><td>230</td><td>2</td></tr><tr><td>29130</td><td>12</td><td>2</td></tr><tr><td>28521</td><td>337</td><td>2</td></tr><tr><td>35728</td><td>426</td><td>2</td></tr><tr><td>33987</td><td>497</td><td>2</td></tr><tr><td>47356</td><td>9</td><td>2</td></tr><tr><td>41796</td><td>1</td><td>2</td></tr><tr><td>40872</td><td>90</td><td>2</td></tr><tr><td>45875</td><td>227</td><td>2</td></tr><tr><td>35728</td><td>422</td><td>2</td></tr><tr><td>49296</td><td>66</td><td>2</td></tr><tr><td>30514</td><td>2</td><td>2</td></tr><tr><td>43104</td><td>8</td><td>2</td></tr><tr><td>19103</td><td>1</td><td>2</td></tr><tr><td>31057</td><td>3</td><td>2</td></tr><tr><td>22501</td><td>1</td><td>2</td></tr><tr><td>47403</td><td>196</td><td>2</td></tr><tr><td>35226</td><td>423</td><td>2</td></tr><tr><td>27306</td><td>181</td><td>2</td></tr><tr><td>36066</td><td>1</td><td>2</td></tr><tr><td>34740</td><td>327</td><td>2</td></tr><tr><td>22480</td><td>1</td><td>2</td></tr><tr><td>19150</td><td>1</td><td>2</td></tr><tr><td>41954</td><td>336</td><td>2</td></tr><tr><td>28588</td><td>10</td><td>2</td></tr><tr><td>41732</td><td>4</td><td>2</td></tr><tr><td>33987</td><td>503</td><td>2</td></tr><tr><td>25477</td><td>5</td><td>2</td></tr><tr><td>15149</td><td>297</td><td>2</td></tr><tr><td>41488</td><td>7</td><td>2</td></tr><tr><td>19005</td><td>2</td><td>2</td></tr><tr><td>40177</td><td>1</td><td>2</td></tr><tr><td>28588</td><td>14</td><td>2</td></tr><tr><td>20217</td><td>3</td><td>2</td></tr><tr><td>26285</td><td>88</td><td>2</td></tr><tr><td>16093</td><td>506</td><td>2</td></tr><tr><td>43104</td><td>9</td><td>2</td></tr><tr><td>34740</td><td>324</td><td>2</td></tr><tr><td>40872</td><td>93</td><td>2</td></tr><tr><td>43052</td><td>18</td><td>2</td></tr><tr><td>40872</td><td>96</td><td>2</td></tr><tr><td>29213</td><td>318</td><td>2</td></tr><tr><td>47356</td><td>17</td><td>2</td></tr><tr><td>12474</td><td>12</td><td>2</td></tr><tr><td>19198</td><td>408</td><td>2</td></tr><tr><td>19787</td><td>4</td><td>2</td></tr><tr><td>41488</td><td>2</td><td>2</td></tr><tr><td>27306</td><td>178</td><td>2</td></tr><tr><td>12227</td><td>5</td><td>2</td></tr><tr><td>19787</td><td>2</td><td>2</td></tr><tr><td>12474</td><td>13</td><td>2</td></tr><tr><td>28588</td><td>11</td><td>2</td></tr><tr><td>27306</td><td>180</td><td>2</td></tr><tr><td>19622</td><td>1</td><td>2</td></tr><tr><td>14508</td><td>411</td><td>2</td></tr><tr><td>40872</td><td>94</td><td>2</td></tr><tr><td>17807</td><td>6</td><td>2</td></tr><tr><td>29130</td><td>13</td><td>2</td></tr><tr><td>33987</td><td>507</td><td>2</td></tr><tr><td>23916</td><td>6</td><td>2</td></tr><tr><td>41192</td><td>6</td><td>2</td></tr><tr><td>24018</td><td>163</td><td>2</td></tr><tr><td>36117</td><td>320</td><td>2</td></tr><tr><td>27306</td><td>172</td><td>2</td></tr><tr><td>36117</td><td>321</td><td>2</td></tr><tr><td>24018</td><td>167</td><td>2</td></tr><tr><td>13559</td><td>418</td><td>2</td></tr><tr><td>41192</td><td>10</td><td>2</td></tr><tr><td>23767</td><td>4</td><td>2</td></tr><tr><td>14232</td><td>486</td><td>2</td></tr><tr><td>23916</td><td>5</td><td>2</td></tr><tr><td>28814</td><td>7</td><td>2</td></tr><tr><td>30612</td><td>369</td><td>2</td></tr><tr><td>26285</td><td>83</td><td>2</td></tr><tr><td>26285</td><td>82</td><td>2</td></tr><tr><td>24863</td><td>3</td><td>2</td></tr><tr><td>29213</td><td>310</td><td>2</td></tr><tr><td>29213</td><td>314</td><td>2</td></tr><tr><td>14232</td><td>491</td><td>2</td></tr><tr><td>28359</td><td>4</td><td>2</td></tr><tr><td>40872</td><td>98</td><td>2</td></tr><tr><td>41796</td><td>4</td><td>2</td></tr><tr><td>47356</td><td>13</td><td>2</td></tr><tr><td>29213</td><td>316</td><td>2</td></tr><tr><td>29213</td><td>319</td><td>2</td></tr><tr><td>38766</td><td>404</td><td>2</td></tr><tr><td>45875</td><td>221</td><td>2</td></tr><tr><td>20496</td><td>5</td><td>2</td></tr><tr><td>36117</td><td>323</td><td>2</td></tr><tr><td>33733</td><td>2</td><td>2</td></tr><tr><td>30514</td><td>3</td><td>2</td></tr><tr><td>31362</td><td>301</td><td>2</td></tr><tr><td>13937</td><td>6</td><td>2</td></tr><tr><td>47356</td><td>14</td><td>2</td></tr><tr><td>27836</td><td>1</td><td>2</td></tr><tr><td>24968</td><td>4</td><td>2</td></tr><tr><td>37012</td><td>60</td><td>2</td></tr><tr><td>43104</td><td>4</td><td>2</td></tr><tr><td>19859</td><td>225</td><td>2</td></tr><tr><td>19787</td><td>3</td><td>2</td></tr><tr><td>37012</td><td>59</td><td>2</td></tr><tr><td>28814</td><td>6</td><td>2</td></tr><tr><td>14232</td><td>493</td><td>2</td></tr><tr><td>25143</td><td>5</td><td>2</td></tr><tr><td>47356</td><td>10</td><td>2</td></tr><tr><td>28588</td><td>12</td><td>2</td></tr><tr><td>23250</td><td>456</td><td>2</td></tr><tr><td>35226</td><td>418</td><td>2</td></tr><tr><td>43052</td><td>20</td><td>2</td></tr><tr><td>16093</td><td>507</td><td>2</td></tr><tr><td>28938</td><td>428</td><td>2</td></tr><tr><td>12227</td><td>1</td><td>2</td></tr><tr><td>41488</td><td>5</td><td>2</td></tr><tr><td>14232</td><td>484</td><td>2</td></tr><tr><td>35728</td><td>419</td><td>2</td></tr><tr><td>24018</td><td>161</td><td>2</td></tr><tr><td>36164</td><td>486</td><td>2</td></tr><tr><td>24018</td><td>166</td><td>2</td></tr><tr><td>16093</td><td>504</td><td>2</td></tr><tr><td>33733</td><td>4</td><td>2</td></tr><tr><td>41192</td><td>9</td><td>2</td></tr><tr><td>41796</td><td>8</td><td>2</td></tr><tr><td>14232</td><td>487</td><td>2</td></tr><tr><td>24968</td><td>3</td><td>2</td></tr><tr><td>14508</td><td>410</td><td>2</td></tr><tr><td>24018</td><td>165</td><td>2</td></tr><tr><td>41488</td><td>6</td><td>2</td></tr><tr><td>14508</td><td>407</td><td>2</td></tr><tr><td>45875</td><td>224</td><td>2</td></tr><tr><td>41488</td><td>4</td><td>2</td></tr><tr><td>41732</td><td>6</td><td>2</td></tr><tr><td>41796</td><td>6</td><td>2</td></tr><tr><td>35728</td><td>420</td><td>2</td></tr><tr><td>27306</td><td>179</td><td>2</td></tr><tr><td>12227</td><td>2</td><td>2</td></tr><tr><td>34740</td><td>331</td><td>2</td></tr><tr><td>40872</td><td>99</td><td>2</td></tr><tr><td>34740</td><td>329</td><td>2</td></tr><tr><td>12227</td><td>3</td><td>2</td></tr><tr><td>33987</td><td>502</td><td>2</td></tr><tr><td>35226</td><td>422</td><td>2</td></tr><tr><td>22480</td><td>4</td><td>2</td></tr><tr><td>47356</td><td>11</td><td>2</td></tr><tr><td>24018</td><td>160</td><td>2</td></tr><tr><td>33987</td><td>501</td><td>2</td></tr><tr><td>47356</td><td>18</td><td>2</td></tr><tr><td>24968</td><td>2</td><td>2</td></tr><tr><td>12474</td><td>14</td><td>2</td></tr><tr><td>45875</td><td>225</td><td>2</td></tr><tr><td>14232</td><td>489</td><td>2</td></tr><tr><td>36117</td><td>324</td><td>2</td></tr><tr><td>40872</td><td>89</td><td>2</td></tr><tr><td>36164</td><td>485</td><td>2</td></tr><tr><td>23250</td><td>455</td><td>2</td></tr><tr><td>19622</td><td>2</td><td>2</td></tr><tr><td>48721</td><td>1</td><td>2</td></tr><tr><td>19150</td><td>2</td><td>2</td></tr><tr><td>35728</td><td>415</td><td>2</td></tr><tr><td>41488</td><td>8</td><td>2</td></tr><tr><td>22480</td><td>2</td><td>2</td></tr><tr><td>47261</td><td>2</td><td>2</td></tr><tr><td>28359</td><td>3</td><td>2</td></tr><tr><td>47261</td><td>1</td><td>2</td></tr><tr><td>32018</td><td>365</td><td>2</td></tr><tr><td>14232</td><td>492</td><td>2</td></tr><tr><td>28521</td><td>336</td><td>2</td></tr><tr><td>29745</td><td>7</td><td>2</td></tr><tr><td>45875</td><td>220</td><td>2</td></tr><tr><td>28814</td><td>1</td><td>2</td></tr><tr><td>36469</td><td>2</td><td>2</td></tr><tr><td>14508</td><td>415</td><td>2</td></tr><tr><td>34740</td><td>323</td><td>2</td></tr><tr><td>19787</td><td>1</td><td>2</td></tr><tr><td>23916</td><td>10</td><td>2</td></tr><tr><td>36164</td><td>487</td><td>2</td></tr><tr><td>14232</td><td>485</td><td>2</td></tr><tr><td>24018</td><td>162</td><td>2</td></tr><tr><td>29130</td><td>8</td><td>2</td></tr><tr><td>29130</td><td>9</td><td>2</td></tr><tr><td>40559</td><td>1</td><td>2</td></tr><tr><td>12474</td><td>17</td><td>2</td></tr><tr><td>12474</td><td>11</td><td>2</td></tr><tr><td>26285</td><td>85</td><td>2</td></tr><tr><td>33987</td><td>500</td><td>2</td></tr><tr><td>45875</td><td>228</td><td>2</td></tr><tr><td>28814</td><td>4</td><td>2</td></tr><tr><td>28521</td><td>338</td><td>2</td></tr><tr><td>26847</td><td>6</td><td>2</td></tr><tr><td>42387</td><td>3</td><td>2</td></tr><tr><td>41488</td><td>1</td><td>2</td></tr><tr><td>31362</td><td>302</td><td>2</td></tr><tr><td>27306</td><td>182</td><td>2</td></tr><tr><td>30088</td><td>452</td><td>2</td></tr><tr><td>31057</td><td>2</td><td>2</td></tr><tr><td>43052</td><td>12</td><td>2</td></tr><tr><td>13937</td><td>8</td><td>2</td></tr><tr><td>43052</td><td>14</td><td>2</td></tr><tr><td>48913</td><td>3</td><td>2</td></tr><tr><td>16093</td><td>505</td><td>2</td></tr><tr><td>34740</td><td>330</td><td>2</td></tr><tr><td>20496</td><td>4</td><td>2</td></tr><tr><td>27306</td><td>176</td><td>2</td></tr><tr><td>18587</td><td>4</td><td>2</td></tr><tr><td>24018</td><td>168</td><td>2</td></tr><tr><td>45875</td><td>234</td><td>2</td></tr><tr><td>41732</td><td>1</td><td>2</td></tr><tr><td>17807</td><td>2</td><td>2</td></tr><tr><td>47356</td><td>12</td><td>2</td></tr><tr><td>40872</td><td>95</td><td>2</td></tr><tr><td>29213</td><td>315</td><td>2</td></tr><tr><td>41192</td><td>4</td><td>2</td></tr><tr><td>20217</td><td>2</td><td>2</td></tr><tr><td>47356</td><td>16</td><td>2</td></tr><tr><td>19859</td><td>220</td><td>2</td></tr><tr><td>41367</td><td>313</td><td>2</td></tr><tr><td>43052</td><td>15</td><td>2</td></tr><tr><td>29745</td><td>5</td><td>2</td></tr><tr><td>35728</td><td>421</td><td>2</td></tr><tr><td>35226</td><td>417</td><td>2</td></tr><tr><td>14508</td><td>413</td><td>2</td></tr><tr><td>41732</td><td>5</td><td>2</td></tr><tr><td>36469</td><td>1</td><td>2</td></tr><tr><td>23916</td><td>7</td><td>2</td></tr><tr><td>43052</td><td>8</td><td>2</td></tr><tr><td>30612</td><td>368</td><td>2</td></tr><tr><td>29213</td><td>300</td><td>2</td></tr><tr><td>28588</td><td>2</td><td>2</td></tr><tr><td>27306</td><td>164</td><td>2</td></tr><tr><td>33987</td><td>489</td><td>2</td></tr><tr><td>14508</td><td>402</td><td>2</td></tr><tr><td>33987</td><td>487</td><td>2</td></tr><tr><td>30088</td><td>447</td><td>2</td></tr><tr><td>26847</td><td>3</td><td>2</td></tr><tr><td>43052</td><td>6</td><td>2</td></tr><tr><td>12474</td><td>4</td><td>2</td></tr><tr><td>27306</td><td>171</td><td>2</td></tr><tr><td>26285</td><td>74</td><td>2</td></tr><tr><td>29213</td><td>302</td><td>2</td></tr><tr><td>23916</td><td>1</td><td>2</td></tr><tr><td>33987</td><td>490</td><td>2</td></tr><tr><td>24018</td><td>155</td><td>2</td></tr><tr><td>29130</td><td>4</td><td>2</td></tr><tr><td>27703</td><td>457</td><td>2</td></tr><tr><td>14508</td><td>396</td><td>2</td></tr><tr><td>47356</td><td>8</td><td>2</td></tr><tr><td>36117</td><td>316</td><td>2</td></tr><tr><td>19859</td><td>218</td><td>2</td></tr><tr><td>43052</td><td>9</td><td>2</td></tr><tr><td>45875</td><td>216</td><td>2</td></tr><tr><td>14508</td><td>394</td><td>2</td></tr><tr><td>33987</td><td>493</td><td>2</td></tr><tr><td>19859</td><td>212</td><td>2</td></tr><tr><td>25477</td><td>2</td><td>2</td></tr><tr><td>12474</td><td>7</td><td>2</td></tr><tr><td>34740</td><td>320</td><td>2</td></tr><tr><td>28588</td><td>5</td><td>2</td></tr><tr><td>35728</td><td>411</td><td>2</td></tr><tr><td>13937</td><td>2</td><td>2</td></tr><tr><td>19198</td><td>407</td><td>2</td></tr><tr><td>27306</td><td>169</td><td>2</td></tr><tr><td>26285</td><td>77</td><td>2</td></tr><tr><td>28588</td><td>6</td><td>2</td></tr><tr><td>35728</td><td>414</td><td>2</td></tr><tr><td>19859</td><td>217</td><td>2</td></tr><tr><td>26285</td><td>76</td><td>2</td></tr><tr><td>23916</td><td>3</td><td>2</td></tr><tr><td>28521</td><td>334</td><td>2</td></tr><tr><td>47356</td><td>3</td><td>2</td></tr><tr><td>28521</td><td>333</td><td>2</td></tr><tr><td>33987</td><td>491</td><td>2</td></tr><tr><td>19859</td><td>213</td><td>2</td></tr><tr><td>29213</td><td>297</td><td>2</td></tr><tr><td>29130</td><td>1</td><td>2</td></tr><tr><td>33987</td><td>492</td><td>2</td></tr><tr><td>29213</td><td>305</td><td>2</td></tr><tr><td>18587</td><td>2</td><td>2</td></tr><tr><td>27306</td><td>166</td><td>2</td></tr><tr><td>35728</td><td>410</td><td>2</td></tr><tr><td>26285</td><td>78</td><td>2</td></tr><tr><td>43052</td><td>2</td><td>2</td></tr><tr><td>14508</td><td>397</td><td>2</td></tr><tr><td>34740</td><td>319</td><td>2</td></tr><tr><td>47356</td><td>1</td><td>2</td></tr><tr><td>35728</td><td>406</td><td>2</td></tr><tr><td>47356</td><td>5</td><td>2</td></tr><tr><td>27306</td><td>163</td><td>2</td></tr><tr><td>16819</td><td>1</td><td>2</td></tr><tr><td>13559</td><td>416</td><td>2</td></tr><tr><td>31362</td><td>298</td><td>2</td></tr><tr><td>49296</td><td>64</td><td>2</td></tr><tr><td>40872</td><td>82</td><td>2</td></tr><tr><td>28521</td><td>331</td><td>2</td></tr><tr><td>36117</td><td>319</td><td>2</td></tr><tr><td>31362</td><td>299</td><td>2</td></tr><tr><td>13937</td><td>3</td><td>2</td></tr><tr><td>45875</td><td>210</td><td>2</td></tr><tr><td>40872</td><td>84</td><td>2</td></tr><tr><td>19859</td><td>219</td><td>2</td></tr><tr><td>43052</td><td>3</td><td>2</td></tr><tr><td>34740</td><td>316</td><td>2</td></tr><tr><td>42643</td><td>3</td><td>2</td></tr><tr><td>29213</td><td>308</td><td>2</td></tr><tr><td>27306</td><td>165</td><td>2</td></tr><tr><td>24018</td><td>149</td><td>2</td></tr><tr><td>28588</td><td>8</td><td>2</td></tr><tr><td>29745</td><td>2</td><td>2</td></tr><tr><td>16093</td><td>496</td><td>2</td></tr><tr><td>16093</td><td>497</td><td>2</td></tr><tr><td>30088</td><td>445</td><td>2</td></tr><tr><td>20496</td><td>1</td><td>2</td></tr><tr><td>28359</td><td>2</td><td>2</td></tr><tr><td>12474</td><td>5</td><td>2</td></tr><tr><td>43104</td><td>1</td><td>2</td></tr><tr><td>28359</td><td>1</td><td>2</td></tr><tr><td>40872</td><td>78</td><td>2</td></tr><tr><td>12474</td><td>6</td><td>2</td></tr><tr><td>47356</td><td>7</td><td>2</td></tr><tr><td>37012</td><td>55</td><td>2</td></tr><tr><td>12140</td><td>477</td><td>2</td></tr><tr><td>47403</td><td>195</td><td>2</td></tr><tr><td>40872</td><td>86</td><td>2</td></tr><tr><td>29130</td><td>2</td><td>2</td></tr><tr><td>39676</td><td>2</td><td>2</td></tr><tr><td>26285</td><td>73</td><td>2</td></tr><tr><td>34740</td><td>317</td><td>2</td></tr><tr><td>35226</td><td>411</td><td>2</td></tr><tr><td>43052</td><td>1</td><td>2</td></tr><tr><td>29213</td><td>299</td><td>2</td></tr><tr><td>34740</td><td>315</td><td>2</td></tr><tr><td>12474</td><td>3</td><td>2</td></tr><tr><td>29213</td><td>307</td><td>2</td></tr><tr><td>24018</td><td>157</td><td>2</td></tr><tr><td>34740</td><td>322</td><td>2</td></tr><tr><td>33987</td><td>494</td><td>2</td></tr><tr><td>23250</td><td>454</td><td>2</td></tr><tr><td>29213</td><td>303</td><td>2</td></tr><tr><td>35728</td><td>408</td><td>2</td></tr><tr><td>29213</td><td>304</td><td>2</td></tr><tr><td>24018</td><td>156</td><td>2</td></tr><tr><td>45875</td><td>212</td><td>2</td></tr><tr><td>24018</td><td>150</td><td>2</td></tr><tr><td>14232</td><td>478</td><td>2</td></tr><tr><td>42643</td><td>1</td><td>2</td></tr><tr><td>35226</td><td>405</td><td>2</td></tr><tr><td>34740</td><td>314</td><td>2</td></tr><tr><td>29213</td><td>301</td><td>2</td></tr><tr><td>29745</td><td>4</td><td>2</td></tr><tr><td>38766</td><td>402</td><td>2</td></tr><tr><td>26285</td><td>72</td><td>2</td></tr><tr><td>45875</td><td>209</td><td>2</td></tr><tr><td>15149</td><td>296</td><td>2</td></tr><tr><td>33987</td><td>495</td><td>2</td></tr><tr><td>36164</td><td>484</td><td>2</td></tr><tr><td>41192</td><td>3</td><td>2</td></tr><tr><td>31362</td><td>297</td><td>2</td></tr><tr><td>25477</td><td>3</td><td>2</td></tr><tr><td>32018</td><td>364</td><td>2</td></tr><tr><td>36117</td><td>318</td><td>2</td></tr><tr><td>40872</td><td>87</td><td>2</td></tr><tr><td>19859</td><td>214</td><td>2</td></tr><tr><td>43052</td><td>10</td><td>2</td></tr><tr><td>23767</td><td>1</td><td>2</td></tr><tr><td>24018</td><td>151</td><td>2</td></tr><tr><td>34740</td><td>321</td><td>2</td></tr><tr><td>34740</td><td>313</td><td>2</td></tr><tr><td>40872</td><td>83</td><td>2</td></tr><tr><td>16093</td><td>495</td><td>2</td></tr><tr><td>43052</td><td>5</td><td>2</td></tr><tr><td>19859</td><td>215</td><td>2</td></tr><tr><td>47403</td><td>194</td><td>2</td></tr><tr><td>18587</td><td>1</td><td>2</td></tr><tr><td>28776</td><td>391</td><td>2</td></tr><tr><td>26285</td><td>81</td><td>2</td></tr><tr><td>35226</td><td>406</td><td>2</td></tr><tr><td>29745</td><td>3</td><td>2</td></tr><tr><td>36644</td><td>279</td><td>2</td></tr><tr><td>28588</td><td>3</td><td>2</td></tr><tr><td>40872</td><td>85</td><td>2</td></tr><tr><td>24863</td><td>1</td><td>2</td></tr><tr><td>35728</td><td>407</td><td>2</td></tr><tr><td>35226</td><td>409</td><td>2</td></tr><tr><td>37012</td><td>56</td><td>2</td></tr><tr><td>35226</td><td>408</td><td>2</td></tr><tr><td>29213</td><td>298</td><td>2</td></tr><tr><td>16093</td><td>493</td><td>2</td></tr><tr><td>12474</td><td>9</td><td>2</td></tr><tr><td>24018</td><td>152</td><td>2</td></tr><tr><td>37012</td><td>57</td><td>2</td></tr><tr><td>41192</td><td>2</td><td>2</td></tr><tr><td>26285</td><td>80</td><td>2</td></tr><tr><td>49296</td><td>61</td><td>2</td></tr><tr><td>24018</td><td>154</td><td>2</td></tr><tr><td>33733</td><td>1</td><td>2</td></tr><tr><td>48913</td><td>2</td><td>2</td></tr><tr><td>41192</td><td>1</td><td>2</td></tr><tr><td>45875</td><td>215</td><td>2</td></tr><tr><td>14508</td><td>395</td><td>2</td></tr><tr><td>29745</td><td>1</td><td>2</td></tr><tr><td>45875</td><td>211</td><td>2</td></tr><tr><td>12140</td><td>478</td><td>2</td></tr><tr><td>33987</td><td>496</td><td>2</td></tr><tr><td>27306</td><td>167</td><td>2</td></tr><tr><td>36164</td><td>482</td><td>2</td></tr><tr><td>23916</td><td>4</td><td>2</td></tr><tr><td>35728</td><td>405</td><td>2</td></tr><tr><td>14232</td><td>475</td><td>2</td></tr><tr><td>16819</td><td>2</td><td>2</td></tr><tr><td>45875</td><td>214</td><td>2</td></tr><tr><td>29130</td><td>5</td><td>2</td></tr><tr><td>18587</td><td>3</td><td>2</td></tr><tr><td>14232</td><td>482</td><td>2</td></tr><tr><td>35226</td><td>413</td><td>2</td></tr><tr><td>45875</td><td>218</td><td>2</td></tr><tr><td>13559</td><td>417</td><td>2</td></tr><tr><td>23250</td><td>453</td><td>2</td></tr><tr><td>14232</td><td>474</td><td>2</td></tr><tr><td>25477</td><td>1</td><td>2</td></tr><tr><td>48913</td><td>1</td><td>2</td></tr><tr><td>12474</td><td>8</td><td>2</td></tr><tr><td>40872</td><td>77</td><td>2</td></tr><tr><td>28938</td><td>427</td><td>2</td></tr><tr><td>14232</td><td>483</td><td>2</td></tr><tr><td>14232</td><td>480</td><td>2</td></tr><tr><td>41954</td><td>334</td><td>2</td></tr><tr><td>19859</td><td>216</td><td>2</td></tr><tr><td>28521</td><td>332</td><td>2</td></tr><tr><td>14508</td><td>404</td><td>2</td></tr><tr><td>30088</td><td>448</td><td>2</td></tr><tr><td>14508</td><td>400</td><td>2</td></tr><tr><td>16093</td><td>498</td><td>2</td></tr><tr><td>29213</td><td>296</td><td>2</td></tr><tr><td>45875</td><td>213</td><td>2</td></tr><tr><td>36164</td><td>483</td><td>2</td></tr><tr><td>31362</td><td>296</td><td>2</td></tr><tr><td>42387</td><td>1</td><td>2</td></tr><tr><td>35226</td><td>404</td><td>2</td></tr><tr><td>36117</td><td>317</td><td>2</td></tr><tr><td>24968</td><td>1</td><td>2</td></tr><tr><td>45875</td><td>217</td><td>2</td></tr><tr><td>43104</td><td>2</td><td>2</td></tr><tr><td>16093</td><td>501</td><td>2</td></tr><tr><td>14232</td><td>476</td><td>2</td></tr><tr><td>14232</td><td>479</td><td>2</td></tr><tr><td>26285</td><td>79</td><td>2</td></tr><tr><td>13937</td><td>1</td><td>2</td></tr><tr><td>47356</td><td>2</td><td>2</td></tr><tr><td>40872</td><td>79</td><td>2</td></tr><tr><td>39676</td><td>1</td><td>2</td></tr><tr><td>43052</td><td>11</td><td>2</td></tr><tr><td>36117</td><td>314</td><td>2</td></tr><tr><td>33987</td><td>488</td><td>2</td></tr><tr><td>14232</td><td>477</td><td>2</td></tr><tr><td>20496</td><td>3</td><td>2</td></tr><tr><td>49296</td><td>63</td><td>2</td></tr><tr><td>23916</td><td>2</td><td>2</td></tr><tr><td>26285</td><td>75</td><td>2</td></tr><tr><td>43104</td><td>3</td><td>2</td></tr><tr><td>26847</td><td>4</td><td>2</td></tr><tr><td>35728</td><td>412</td><td>2</td></tr><tr><td>35226</td><td>407</td><td>2</td></tr><tr><td>14508</td><td>399</td><td>2</td></tr><tr><td>36117</td><td>315</td><td>2</td></tr><tr><td>23767</td><td>2</td><td>2</td></tr><tr><td>19005</td><td>1</td><td>2</td></tr><tr><td>20496</td><td>2</td><td>2</td></tr><tr><td>25477</td><td>4</td><td>2</td></tr><tr><td>42643</td><td>2</td><td>2</td></tr><tr><td>47356</td><td>4</td><td>2</td></tr><tr><td>34740</td><td>312</td><td>2</td></tr><tr><td>35226</td><td>412</td><td>2</td></tr><tr><td>14508</td><td>401</td><td>2</td></tr><tr><td>14508</td><td>393</td><td>2</td></tr><tr><td>24018</td><td>153</td><td>2</td></tr><tr><td>40872</td><td>80</td><td>2</td></tr><tr><td>27306</td><td>170</td><td>2</td></tr><tr><td>24863</td><td>2</td><td>2</td></tr><tr><td>28938</td><td>426</td><td>2</td></tr><tr><td>40872</td><td>81</td><td>2</td></tr><tr><td>29130</td><td>3</td><td>2</td></tr><tr><td>30612</td><td>367</td><td>2</td></tr><tr><td>14508</td><td>405</td><td>2</td></tr><tr><td>41367</td><td>312</td><td>2</td></tr><tr><td>14508</td><td>398</td><td>2</td></tr><tr><td>28521</td><td>330</td><td>2</td></tr><tr><td>47356</td><td>6</td><td>2</td></tr><tr><td>43052</td><td>4</td><td>2</td></tr><tr><td>16093</td><td>499</td><td>2</td></tr><tr><td>27306</td><td>168</td><td>2</td></tr><tr><td>35226</td><td>410</td><td>2</td></tr><tr><td>29213</td><td>306</td><td>2</td></tr><tr><td>16093</td><td>500</td><td>2</td></tr><tr><td>14508</td><td>403</td><td>2</td></tr><tr><td>29213</td><td>309</td><td>2</td></tr><tr><td>14508</td><td>406</td><td>2</td></tr><tr><td>19198</td><td>406</td><td>2</td></tr><tr><td>28588</td><td>4</td><td>2</td></tr><tr><td>28588</td><td>7</td><td>2</td></tr><tr><td>49296</td><td>62</td><td>2</td></tr><tr><td>16093</td><td>494</td><td>2</td></tr><tr><td>30088</td><td>446</td><td>2</td></tr><tr><td>34740</td><td>318</td><td>2</td></tr><tr><td>14232</td><td>481</td><td>2</td></tr><tr><td>31362</td><td>295</td><td>2</td></tr><tr><td>15149</td><td>295</td><td>2</td></tr><tr><td>43052</td><td>7</td><td>2</td></tr><tr><td>35728</td><td>413</td><td>2</td></tr><tr><td>35728</td><td>409</td><td>2</td></tr><tr><td>35226</td><td>414</td><td>2</td></tr><tr><td>29130</td><td>6</td><td>2</td></tr><tr><td>28588</td><td>9</td><td>2</td></tr><tr><td>40872</td><td>88</td><td>2</td></tr><tr><td>28521</td><td>329</td><td>2</td></tr><tr><td>31362</td><td>306</td><td>2</td></tr><tr><td>31362</td><td>307</td><td>2</td></tr><tr><td>38766</td><td>405</td><td>2</td></tr><tr><td>19787</td><td>6</td><td>2</td></tr><tr><td>47250</td><td>1</td><td>2</td></tr><tr><td>49075</td><td>1</td><td>2</td></tr><tr><td>24863</td><td>4</td><td>2</td></tr><tr><td>14508</td><td>417</td><td>2</td></tr><tr><td>12474</td><td>19</td><td>2</td></tr><tr><td>25143</td><td>7</td><td>2</td></tr><tr><td>28588</td><td>16</td><td>2</td></tr><tr><td>41488</td><td>10</td><td>2</td></tr><tr><td>31362</td><td>305</td><td>2</td></tr><tr><td>25143</td><td>6</td><td>2</td></tr><tr><td>19103</td><td>2</td><td>2</td></tr><tr><td>41796</td><td>10</td><td>2</td></tr><tr><td>25477</td><td>9</td><td>2</td></tr><tr><td>16093</td><td>508</td><td>2</td></tr><tr><td>42387</td><td>4</td><td>2</td></tr><tr><td>19103</td><td>3</td><td>2</td></tr><tr><td>36117</td><td>325</td><td>2</td></tr><tr><td>31057</td><td>4</td><td>2</td></tr><tr><td>14633</td><td>1</td><td>2</td></tr><tr><td>41732</td><td>9</td><td>2</td></tr><tr><td>41732</td><td>8</td><td>2</td></tr><tr><td>41488</td><td>9</td><td>2</td></tr><tr><td>26285</td><td>90</td><td>2</td></tr><tr><td>14232</td><td>496</td><td>2</td></tr><tr><td>42387</td><td>5</td><td>2</td></tr><tr><td>41732</td><td>7</td><td>2</td></tr><tr><td>47250</td><td>2</td><td>2</td></tr><tr><td>45875</td><td>235</td><td>2</td></tr><tr><td>40559</td><td>4</td><td>2</td></tr><tr><td>28814</td><td>10</td><td>2</td></tr><tr><td>49296</td><td>69</td><td>2</td></tr><tr><td>40872</td><td>101</td><td>2</td></tr><tr><td>43104</td><td>10</td><td>2</td></tr><tr><td>26285</td><td>91</td><td>2</td></tr><tr><td>24863</td><td>5</td><td>2</td></tr><tr><td>40872</td><td>100</td><td>2</td></tr><tr><td>49296</td><td>70</td><td>2</td></tr><tr><td>28588</td><td>15</td><td>2</td></tr><tr><td>14508</td><td>416</td><td>2</td></tr><tr><td>12474</td><td>18</td><td>2</td></tr><tr><td>19787</td><td>5</td><td>2</td></tr><tr><td>12474</td><td>2</td><td>2</td></tr><tr><td>35226</td><td>402</td><td>2</td></tr><tr><td>24018</td><td>147</td><td>2</td></tr><tr><td>29213</td><td>294</td><td>2</td></tr><tr><td>45875</td><td>207</td><td>2</td></tr><tr><td>14508</td><td>392</td><td>2</td></tr><tr><td>28776</td><td>389</td><td>2</td></tr><tr><td>26847</td><td>2</td><td>2</td></tr><tr><td>35728</td><td>404</td><td>2</td></tr><tr><td>27306</td><td>161</td><td>2</td></tr><tr><td>23250</td><td>452</td><td>2</td></tr><tr><td>35728</td><td>403</td><td>2</td></tr><tr><td>27306</td><td>162</td><td>2</td></tr><tr><td>28521</td><td>327</td><td>2</td></tr><tr><td>32018</td><td>362</td><td>2</td></tr><tr><td>14508</td><td>391</td><td>2</td></tr><tr><td>34740</td><td>311</td><td>2</td></tr><tr><td>26285</td><td>71</td><td>2</td></tr><tr><td>27703</td><td>456</td><td>2</td></tr><tr><td>28521</td><td>328</td><td>2</td></tr><tr><td>28588</td><td>1</td><td>2</td></tr><tr><td>26847</td><td>1</td><td>2</td></tr><tr><td>24018</td><td>148</td><td>2</td></tr><tr><td>45875</td><td>208</td><td>2</td></tr><tr><td>16093</td><td>492</td><td>2</td></tr><tr><td>28776</td><td>390</td><td>2</td></tr><tr><td>29213</td><td>295</td><td>2</td></tr><tr><td>32018</td><td>363</td><td>2</td></tr><tr><td>12474</td><td>1</td><td>2</td></tr><tr><td>40872</td><td>76</td><td>2</td></tr><tr><td>14232</td><td>473</td><td>2</td></tr><tr><td>35226</td><td>403</td><td>2</td></tr><tr><td>40872</td><td>75</td><td>2</td></tr><tr><td>34740</td><td>310</td><td>2</td></tr><tr><td>33987</td><td>486</td><td>2</td></tr></tbody></table></div>"
      ]
     },
     "metadata": {
      "application/vnd.databricks.v1+output": {
       "addedWidgets": {},
       "aggData": [],
       "aggError": "",
       "aggOverflow": false,
       "aggSchema": [],
       "aggSeriesLimitReached": false,
       "aggType": "",
       "arguments": {},
       "columnCustomDisplayInfos": {},
       "data": [
        [
         16093,
         502,
         2
        ],
        [
         43104,
         6,
         2
        ],
        [
         45875,
         226,
         2
        ],
        [
         12140,
         479,
         2
        ],
        [
         28588,
         13,
         2
        ],
        [
         31362,
         303,
         2
        ],
        [
         35428,
         1,
         2
        ],
        [
         23916,
         9,
         2
        ],
        [
         28814,
         8,
         2
        ],
        [
         34740,
         325,
         2
        ],
        [
         41796,
         5,
         2
        ],
        [
         35728,
         417,
         2
        ],
        [
         36117,
         322,
         2
        ],
        [
         24018,
         164,
         2
        ],
        [
         33733,
         3,
         2
        ],
        [
         26285,
         86,
         2
        ],
        [
         45875,
         232,
         2
        ],
        [
         45875,
         233,
         2
        ],
        [
         40872,
         91,
         2
        ],
        [
         49835,
         4,
         2
        ],
        [
         45875,
         219,
         2
        ],
        [
         41796,
         3,
         2
        ],
        [
         41192,
         5,
         2
        ],
        [
         43052,
         19,
         2
        ],
        [
         30088,
         450,
         2
        ],
        [
         49835,
         3,
         2
        ],
        [
         45875,
         231,
         2
        ],
        [
         36469,
         3,
         2
        ],
        [
         14232,
         488,
         2
        ],
        [
         41732,
         3,
         2
        ],
        [
         14232,
         490,
         2
        ],
        [
         23916,
         11,
         2
        ],
        [
         26285,
         89,
         2
        ],
        [
         28814,
         9,
         2
        ],
        [
         45875,
         222,
         2
        ],
        [
         25143,
         3,
         2
        ],
        [
         40872,
         97,
         2
        ],
        [
         17807,
         7,
         2
        ],
        [
         33987,
         499,
         2
        ],
        [
         49835,
         2,
         2
        ],
        [
         14508,
         412,
         2
        ],
        [
         47356,
         15,
         2
        ],
        [
         41796,
         2,
         2
        ],
        [
         19859,
         222,
         2
        ],
        [
         13937,
         7,
         2
        ],
        [
         35226,
         416,
         2
        ],
        [
         27306,
         174,
         2
        ],
        [
         37012,
         58,
         2
        ],
        [
         12474,
         10,
         2
        ],
        [
         43052,
         17,
         2
        ],
        [
         24018,
         159,
         2
        ],
        [
         25143,
         2,
         2
        ],
        [
         34740,
         326,
         2
        ],
        [
         35226,
         419,
         2
        ],
        [
         26285,
         87,
         2
        ],
        [
         24018,
         158,
         2
        ],
        [
         27306,
         173,
         2
        ],
        [
         17807,
         3,
         2
        ],
        [
         29213,
         317,
         2
        ],
        [
         26847,
         5,
         2
        ],
        [
         43052,
         16,
         2
        ],
        [
         25477,
         7,
         2
        ],
        [
         40177,
         2,
         2
        ],
        [
         49835,
         1,
         2
        ],
        [
         45875,
         223,
         2
        ],
        [
         49296,
         67,
         2
        ],
        [
         19859,
         224,
         2
        ],
        [
         28814,
         3,
         2
        ],
        [
         12227,
         4,
         2
        ],
        [
         40872,
         92,
         2
        ],
        [
         25477,
         8,
         2
        ],
        [
         29213,
         313,
         2
        ],
        [
         35728,
         424,
         2
        ],
        [
         36644,
         280,
         2
        ],
        [
         17807,
         8,
         2
        ],
        [
         38766,
         403,
         2
        ],
        [
         27671,
         1,
         2
        ],
        [
         33987,
         505,
         2
        ],
        [
         24018,
         169,
         2
        ],
        [
         43052,
         13,
         2
        ],
        [
         16093,
         503,
         2
        ],
        [
         41732,
         2,
         2
        ],
        [
         14232,
         494,
         2
        ],
        [
         35226,
         420,
         2
        ],
        [
         11745,
         2,
         2
        ],
        [
         49271,
         2,
         2
        ],
        [
         25477,
         6,
         2
        ],
        [
         25143,
         4,
         2
        ],
        [
         31362,
         304,
         2
        ],
        [
         49271,
         1,
         2
        ],
        [
         33987,
         504,
         2
        ],
        [
         35728,
         416,
         2
        ],
        [
         16819,
         4,
         2
        ],
        [
         31057,
         1,
         2
        ],
        [
         29213,
         320,
         2
        ],
        [
         13937,
         5,
         2
        ],
        [
         41367,
         314,
         2
        ],
        [
         19859,
         223,
         2
        ],
        [
         29745,
         6,
         2
        ],
        [
         23916,
         8,
         2
        ],
        [
         40559,
         2,
         2
        ],
        [
         23767,
         3,
         2
        ],
        [
         14232,
         495,
         2
        ],
        [
         42387,
         2,
         2
        ],
        [
         41192,
         8,
         2
        ],
        [
         27703,
         458,
         2
        ],
        [
         27703,
         459,
         2
        ],
        [
         30088,
         449,
         2
        ],
        [
         49296,
         68,
         2
        ],
        [
         43052,
         21,
         2
        ],
        [
         27306,
         175,
         2
        ],
        [
         12474,
         15,
         2
        ],
        [
         22480,
         3,
         2
        ],
        [
         49296,
         65,
         2
        ],
        [
         11745,
         1,
         2
        ],
        [
         16819,
         3,
         2
        ],
        [
         31362,
         300,
         2
        ],
        [
         35728,
         423,
         2
        ],
        [
         40559,
         3,
         2
        ],
        [
         35226,
         415,
         2
        ],
        [
         30088,
         451,
         2
        ],
        [
         17807,
         5,
         2
        ],
        [
         35226,
         421,
         2
        ],
        [
         35728,
         418,
         2
        ],
        [
         33987,
         506,
         2
        ],
        [
         14508,
         408,
         2
        ],
        [
         41954,
         335,
         2
        ],
        [
         14508,
         414,
         2
        ],
        [
         29130,
         7,
         2
        ],
        [
         28521,
         335,
         2
        ],
        [
         28814,
         2,
         2
        ],
        [
         19859,
         221,
         2
        ],
        [
         41192,
         7,
         2
        ],
        [
         41488,
         3,
         2
        ],
        [
         29130,
         11,
         2
        ],
        [
         13937,
         4,
         2
        ],
        [
         43104,
         7,
         2
        ],
        [
         12474,
         16,
         2
        ],
        [
         35728,
         425,
         2
        ],
        [
         14508,
         409,
         2
        ],
        [
         29130,
         10,
         2
        ],
        [
         23250,
         457,
         2
        ],
        [
         28814,
         5,
         2
        ],
        [
         43104,
         5,
         2
        ],
        [
         30514,
         1,
         2
        ],
        [
         29213,
         312,
         2
        ],
        [
         45875,
         229,
         2
        ],
        [
         25143,
         1,
         2
        ],
        [
         27306,
         183,
         2
        ],
        [
         29130,
         14,
         2
        ],
        [
         17807,
         4,
         2
        ],
        [
         41796,
         9,
         2
        ],
        [
         29213,
         311,
         2
        ],
        [
         33987,
         498,
         2
        ],
        [
         36644,
         281,
         2
        ],
        [
         26285,
         84,
         2
        ],
        [
         27836,
         2,
         2
        ],
        [
         18587,
         5,
         2
        ],
        [
         27306,
         184,
         2
        ],
        [
         20496,
         6,
         2
        ],
        [
         17807,
         1,
         2
        ],
        [
         27306,
         177,
         2
        ],
        [
         41796,
         7,
         2
        ],
        [
         20217,
         1,
         2
        ],
        [
         34740,
         328,
         2
        ],
        [
         45875,
         230,
         2
        ],
        [
         29130,
         12,
         2
        ],
        [
         28521,
         337,
         2
        ],
        [
         35728,
         426,
         2
        ],
        [
         33987,
         497,
         2
        ],
        [
         47356,
         9,
         2
        ],
        [
         41796,
         1,
         2
        ],
        [
         40872,
         90,
         2
        ],
        [
         45875,
         227,
         2
        ],
        [
         35728,
         422,
         2
        ],
        [
         49296,
         66,
         2
        ],
        [
         30514,
         2,
         2
        ],
        [
         43104,
         8,
         2
        ],
        [
         19103,
         1,
         2
        ],
        [
         31057,
         3,
         2
        ],
        [
         22501,
         1,
         2
        ],
        [
         47403,
         196,
         2
        ],
        [
         35226,
         423,
         2
        ],
        [
         27306,
         181,
         2
        ],
        [
         36066,
         1,
         2
        ],
        [
         34740,
         327,
         2
        ],
        [
         22480,
         1,
         2
        ],
        [
         19150,
         1,
         2
        ],
        [
         41954,
         336,
         2
        ],
        [
         28588,
         10,
         2
        ],
        [
         41732,
         4,
         2
        ],
        [
         33987,
         503,
         2
        ],
        [
         25477,
         5,
         2
        ],
        [
         15149,
         297,
         2
        ],
        [
         41488,
         7,
         2
        ],
        [
         19005,
         2,
         2
        ],
        [
         40177,
         1,
         2
        ],
        [
         28588,
         14,
         2
        ],
        [
         20217,
         3,
         2
        ],
        [
         26285,
         88,
         2
        ],
        [
         16093,
         506,
         2
        ],
        [
         43104,
         9,
         2
        ],
        [
         34740,
         324,
         2
        ],
        [
         40872,
         93,
         2
        ],
        [
         43052,
         18,
         2
        ],
        [
         40872,
         96,
         2
        ],
        [
         29213,
         318,
         2
        ],
        [
         47356,
         17,
         2
        ],
        [
         12474,
         12,
         2
        ],
        [
         19198,
         408,
         2
        ],
        [
         19787,
         4,
         2
        ],
        [
         41488,
         2,
         2
        ],
        [
         27306,
         178,
         2
        ],
        [
         12227,
         5,
         2
        ],
        [
         19787,
         2,
         2
        ],
        [
         12474,
         13,
         2
        ],
        [
         28588,
         11,
         2
        ],
        [
         27306,
         180,
         2
        ],
        [
         19622,
         1,
         2
        ],
        [
         14508,
         411,
         2
        ],
        [
         40872,
         94,
         2
        ],
        [
         17807,
         6,
         2
        ],
        [
         29130,
         13,
         2
        ],
        [
         33987,
         507,
         2
        ],
        [
         23916,
         6,
         2
        ],
        [
         41192,
         6,
         2
        ],
        [
         24018,
         163,
         2
        ],
        [
         36117,
         320,
         2
        ],
        [
         27306,
         172,
         2
        ],
        [
         36117,
         321,
         2
        ],
        [
         24018,
         167,
         2
        ],
        [
         13559,
         418,
         2
        ],
        [
         41192,
         10,
         2
        ],
        [
         23767,
         4,
         2
        ],
        [
         14232,
         486,
         2
        ],
        [
         23916,
         5,
         2
        ],
        [
         28814,
         7,
         2
        ],
        [
         30612,
         369,
         2
        ],
        [
         26285,
         83,
         2
        ],
        [
         26285,
         82,
         2
        ],
        [
         24863,
         3,
         2
        ],
        [
         29213,
         310,
         2
        ],
        [
         29213,
         314,
         2
        ],
        [
         14232,
         491,
         2
        ],
        [
         28359,
         4,
         2
        ],
        [
         40872,
         98,
         2
        ],
        [
         41796,
         4,
         2
        ],
        [
         47356,
         13,
         2
        ],
        [
         29213,
         316,
         2
        ],
        [
         29213,
         319,
         2
        ],
        [
         38766,
         404,
         2
        ],
        [
         45875,
         221,
         2
        ],
        [
         20496,
         5,
         2
        ],
        [
         36117,
         323,
         2
        ],
        [
         33733,
         2,
         2
        ],
        [
         30514,
         3,
         2
        ],
        [
         31362,
         301,
         2
        ],
        [
         13937,
         6,
         2
        ],
        [
         47356,
         14,
         2
        ],
        [
         27836,
         1,
         2
        ],
        [
         24968,
         4,
         2
        ],
        [
         37012,
         60,
         2
        ],
        [
         43104,
         4,
         2
        ],
        [
         19859,
         225,
         2
        ],
        [
         19787,
         3,
         2
        ],
        [
         37012,
         59,
         2
        ],
        [
         28814,
         6,
         2
        ],
        [
         14232,
         493,
         2
        ],
        [
         25143,
         5,
         2
        ],
        [
         47356,
         10,
         2
        ],
        [
         28588,
         12,
         2
        ],
        [
         23250,
         456,
         2
        ],
        [
         35226,
         418,
         2
        ],
        [
         43052,
         20,
         2
        ],
        [
         16093,
         507,
         2
        ],
        [
         28938,
         428,
         2
        ],
        [
         12227,
         1,
         2
        ],
        [
         41488,
         5,
         2
        ],
        [
         14232,
         484,
         2
        ],
        [
         35728,
         419,
         2
        ],
        [
         24018,
         161,
         2
        ],
        [
         36164,
         486,
         2
        ],
        [
         24018,
         166,
         2
        ],
        [
         16093,
         504,
         2
        ],
        [
         33733,
         4,
         2
        ],
        [
         41192,
         9,
         2
        ],
        [
         41796,
         8,
         2
        ],
        [
         14232,
         487,
         2
        ],
        [
         24968,
         3,
         2
        ],
        [
         14508,
         410,
         2
        ],
        [
         24018,
         165,
         2
        ],
        [
         41488,
         6,
         2
        ],
        [
         14508,
         407,
         2
        ],
        [
         45875,
         224,
         2
        ],
        [
         41488,
         4,
         2
        ],
        [
         41732,
         6,
         2
        ],
        [
         41796,
         6,
         2
        ],
        [
         35728,
         420,
         2
        ],
        [
         27306,
         179,
         2
        ],
        [
         12227,
         2,
         2
        ],
        [
         34740,
         331,
         2
        ],
        [
         40872,
         99,
         2
        ],
        [
         34740,
         329,
         2
        ],
        [
         12227,
         3,
         2
        ],
        [
         33987,
         502,
         2
        ],
        [
         35226,
         422,
         2
        ],
        [
         22480,
         4,
         2
        ],
        [
         47356,
         11,
         2
        ],
        [
         24018,
         160,
         2
        ],
        [
         33987,
         501,
         2
        ],
        [
         47356,
         18,
         2
        ],
        [
         24968,
         2,
         2
        ],
        [
         12474,
         14,
         2
        ],
        [
         45875,
         225,
         2
        ],
        [
         14232,
         489,
         2
        ],
        [
         36117,
         324,
         2
        ],
        [
         40872,
         89,
         2
        ],
        [
         36164,
         485,
         2
        ],
        [
         23250,
         455,
         2
        ],
        [
         19622,
         2,
         2
        ],
        [
         48721,
         1,
         2
        ],
        [
         19150,
         2,
         2
        ],
        [
         35728,
         415,
         2
        ],
        [
         41488,
         8,
         2
        ],
        [
         22480,
         2,
         2
        ],
        [
         47261,
         2,
         2
        ],
        [
         28359,
         3,
         2
        ],
        [
         47261,
         1,
         2
        ],
        [
         32018,
         365,
         2
        ],
        [
         14232,
         492,
         2
        ],
        [
         28521,
         336,
         2
        ],
        [
         29745,
         7,
         2
        ],
        [
         45875,
         220,
         2
        ],
        [
         28814,
         1,
         2
        ],
        [
         36469,
         2,
         2
        ],
        [
         14508,
         415,
         2
        ],
        [
         34740,
         323,
         2
        ],
        [
         19787,
         1,
         2
        ],
        [
         23916,
         10,
         2
        ],
        [
         36164,
         487,
         2
        ],
        [
         14232,
         485,
         2
        ],
        [
         24018,
         162,
         2
        ],
        [
         29130,
         8,
         2
        ],
        [
         29130,
         9,
         2
        ],
        [
         40559,
         1,
         2
        ],
        [
         12474,
         17,
         2
        ],
        [
         12474,
         11,
         2
        ],
        [
         26285,
         85,
         2
        ],
        [
         33987,
         500,
         2
        ],
        [
         45875,
         228,
         2
        ],
        [
         28814,
         4,
         2
        ],
        [
         28521,
         338,
         2
        ],
        [
         26847,
         6,
         2
        ],
        [
         42387,
         3,
         2
        ],
        [
         41488,
         1,
         2
        ],
        [
         31362,
         302,
         2
        ],
        [
         27306,
         182,
         2
        ],
        [
         30088,
         452,
         2
        ],
        [
         31057,
         2,
         2
        ],
        [
         43052,
         12,
         2
        ],
        [
         13937,
         8,
         2
        ],
        [
         43052,
         14,
         2
        ],
        [
         48913,
         3,
         2
        ],
        [
         16093,
         505,
         2
        ],
        [
         34740,
         330,
         2
        ],
        [
         20496,
         4,
         2
        ],
        [
         27306,
         176,
         2
        ],
        [
         18587,
         4,
         2
        ],
        [
         24018,
         168,
         2
        ],
        [
         45875,
         234,
         2
        ],
        [
         41732,
         1,
         2
        ],
        [
         17807,
         2,
         2
        ],
        [
         47356,
         12,
         2
        ],
        [
         40872,
         95,
         2
        ],
        [
         29213,
         315,
         2
        ],
        [
         41192,
         4,
         2
        ],
        [
         20217,
         2,
         2
        ],
        [
         47356,
         16,
         2
        ],
        [
         19859,
         220,
         2
        ],
        [
         41367,
         313,
         2
        ],
        [
         43052,
         15,
         2
        ],
        [
         29745,
         5,
         2
        ],
        [
         35728,
         421,
         2
        ],
        [
         35226,
         417,
         2
        ],
        [
         14508,
         413,
         2
        ],
        [
         41732,
         5,
         2
        ],
        [
         36469,
         1,
         2
        ],
        [
         23916,
         7,
         2
        ],
        [
         43052,
         8,
         2
        ],
        [
         30612,
         368,
         2
        ],
        [
         29213,
         300,
         2
        ],
        [
         28588,
         2,
         2
        ],
        [
         27306,
         164,
         2
        ],
        [
         33987,
         489,
         2
        ],
        [
         14508,
         402,
         2
        ],
        [
         33987,
         487,
         2
        ],
        [
         30088,
         447,
         2
        ],
        [
         26847,
         3,
         2
        ],
        [
         43052,
         6,
         2
        ],
        [
         12474,
         4,
         2
        ],
        [
         27306,
         171,
         2
        ],
        [
         26285,
         74,
         2
        ],
        [
         29213,
         302,
         2
        ],
        [
         23916,
         1,
         2
        ],
        [
         33987,
         490,
         2
        ],
        [
         24018,
         155,
         2
        ],
        [
         29130,
         4,
         2
        ],
        [
         27703,
         457,
         2
        ],
        [
         14508,
         396,
         2
        ],
        [
         47356,
         8,
         2
        ],
        [
         36117,
         316,
         2
        ],
        [
         19859,
         218,
         2
        ],
        [
         43052,
         9,
         2
        ],
        [
         45875,
         216,
         2
        ],
        [
         14508,
         394,
         2
        ],
        [
         33987,
         493,
         2
        ],
        [
         19859,
         212,
         2
        ],
        [
         25477,
         2,
         2
        ],
        [
         12474,
         7,
         2
        ],
        [
         34740,
         320,
         2
        ],
        [
         28588,
         5,
         2
        ],
        [
         35728,
         411,
         2
        ],
        [
         13937,
         2,
         2
        ],
        [
         19198,
         407,
         2
        ],
        [
         27306,
         169,
         2
        ],
        [
         26285,
         77,
         2
        ],
        [
         28588,
         6,
         2
        ],
        [
         35728,
         414,
         2
        ],
        [
         19859,
         217,
         2
        ],
        [
         26285,
         76,
         2
        ],
        [
         23916,
         3,
         2
        ],
        [
         28521,
         334,
         2
        ],
        [
         47356,
         3,
         2
        ],
        [
         28521,
         333,
         2
        ],
        [
         33987,
         491,
         2
        ],
        [
         19859,
         213,
         2
        ],
        [
         29213,
         297,
         2
        ],
        [
         29130,
         1,
         2
        ],
        [
         33987,
         492,
         2
        ],
        [
         29213,
         305,
         2
        ],
        [
         18587,
         2,
         2
        ],
        [
         27306,
         166,
         2
        ],
        [
         35728,
         410,
         2
        ],
        [
         26285,
         78,
         2
        ],
        [
         43052,
         2,
         2
        ],
        [
         14508,
         397,
         2
        ],
        [
         34740,
         319,
         2
        ],
        [
         47356,
         1,
         2
        ],
        [
         35728,
         406,
         2
        ],
        [
         47356,
         5,
         2
        ],
        [
         27306,
         163,
         2
        ],
        [
         16819,
         1,
         2
        ],
        [
         13559,
         416,
         2
        ],
        [
         31362,
         298,
         2
        ],
        [
         49296,
         64,
         2
        ],
        [
         40872,
         82,
         2
        ],
        [
         28521,
         331,
         2
        ],
        [
         36117,
         319,
         2
        ],
        [
         31362,
         299,
         2
        ],
        [
         13937,
         3,
         2
        ],
        [
         45875,
         210,
         2
        ],
        [
         40872,
         84,
         2
        ],
        [
         19859,
         219,
         2
        ],
        [
         43052,
         3,
         2
        ],
        [
         34740,
         316,
         2
        ],
        [
         42643,
         3,
         2
        ],
        [
         29213,
         308,
         2
        ],
        [
         27306,
         165,
         2
        ],
        [
         24018,
         149,
         2
        ],
        [
         28588,
         8,
         2
        ],
        [
         29745,
         2,
         2
        ],
        [
         16093,
         496,
         2
        ],
        [
         16093,
         497,
         2
        ],
        [
         30088,
         445,
         2
        ],
        [
         20496,
         1,
         2
        ],
        [
         28359,
         2,
         2
        ],
        [
         12474,
         5,
         2
        ],
        [
         43104,
         1,
         2
        ],
        [
         28359,
         1,
         2
        ],
        [
         40872,
         78,
         2
        ],
        [
         12474,
         6,
         2
        ],
        [
         47356,
         7,
         2
        ],
        [
         37012,
         55,
         2
        ],
        [
         12140,
         477,
         2
        ],
        [
         47403,
         195,
         2
        ],
        [
         40872,
         86,
         2
        ],
        [
         29130,
         2,
         2
        ],
        [
         39676,
         2,
         2
        ],
        [
         26285,
         73,
         2
        ],
        [
         34740,
         317,
         2
        ],
        [
         35226,
         411,
         2
        ],
        [
         43052,
         1,
         2
        ],
        [
         29213,
         299,
         2
        ],
        [
         34740,
         315,
         2
        ],
        [
         12474,
         3,
         2
        ],
        [
         29213,
         307,
         2
        ],
        [
         24018,
         157,
         2
        ],
        [
         34740,
         322,
         2
        ],
        [
         33987,
         494,
         2
        ],
        [
         23250,
         454,
         2
        ],
        [
         29213,
         303,
         2
        ],
        [
         35728,
         408,
         2
        ],
        [
         29213,
         304,
         2
        ],
        [
         24018,
         156,
         2
        ],
        [
         45875,
         212,
         2
        ],
        [
         24018,
         150,
         2
        ],
        [
         14232,
         478,
         2
        ],
        [
         42643,
         1,
         2
        ],
        [
         35226,
         405,
         2
        ],
        [
         34740,
         314,
         2
        ],
        [
         29213,
         301,
         2
        ],
        [
         29745,
         4,
         2
        ],
        [
         38766,
         402,
         2
        ],
        [
         26285,
         72,
         2
        ],
        [
         45875,
         209,
         2
        ],
        [
         15149,
         296,
         2
        ],
        [
         33987,
         495,
         2
        ],
        [
         36164,
         484,
         2
        ],
        [
         41192,
         3,
         2
        ],
        [
         31362,
         297,
         2
        ],
        [
         25477,
         3,
         2
        ],
        [
         32018,
         364,
         2
        ],
        [
         36117,
         318,
         2
        ],
        [
         40872,
         87,
         2
        ],
        [
         19859,
         214,
         2
        ],
        [
         43052,
         10,
         2
        ],
        [
         23767,
         1,
         2
        ],
        [
         24018,
         151,
         2
        ],
        [
         34740,
         321,
         2
        ],
        [
         34740,
         313,
         2
        ],
        [
         40872,
         83,
         2
        ],
        [
         16093,
         495,
         2
        ],
        [
         43052,
         5,
         2
        ],
        [
         19859,
         215,
         2
        ],
        [
         47403,
         194,
         2
        ],
        [
         18587,
         1,
         2
        ],
        [
         28776,
         391,
         2
        ],
        [
         26285,
         81,
         2
        ],
        [
         35226,
         406,
         2
        ],
        [
         29745,
         3,
         2
        ],
        [
         36644,
         279,
         2
        ],
        [
         28588,
         3,
         2
        ],
        [
         40872,
         85,
         2
        ],
        [
         24863,
         1,
         2
        ],
        [
         35728,
         407,
         2
        ],
        [
         35226,
         409,
         2
        ],
        [
         37012,
         56,
         2
        ],
        [
         35226,
         408,
         2
        ],
        [
         29213,
         298,
         2
        ],
        [
         16093,
         493,
         2
        ],
        [
         12474,
         9,
         2
        ],
        [
         24018,
         152,
         2
        ],
        [
         37012,
         57,
         2
        ],
        [
         41192,
         2,
         2
        ],
        [
         26285,
         80,
         2
        ],
        [
         49296,
         61,
         2
        ],
        [
         24018,
         154,
         2
        ],
        [
         33733,
         1,
         2
        ],
        [
         48913,
         2,
         2
        ],
        [
         41192,
         1,
         2
        ],
        [
         45875,
         215,
         2
        ],
        [
         14508,
         395,
         2
        ],
        [
         29745,
         1,
         2
        ],
        [
         45875,
         211,
         2
        ],
        [
         12140,
         478,
         2
        ],
        [
         33987,
         496,
         2
        ],
        [
         27306,
         167,
         2
        ],
        [
         36164,
         482,
         2
        ],
        [
         23916,
         4,
         2
        ],
        [
         35728,
         405,
         2
        ],
        [
         14232,
         475,
         2
        ],
        [
         16819,
         2,
         2
        ],
        [
         45875,
         214,
         2
        ],
        [
         29130,
         5,
         2
        ],
        [
         18587,
         3,
         2
        ],
        [
         14232,
         482,
         2
        ],
        [
         35226,
         413,
         2
        ],
        [
         45875,
         218,
         2
        ],
        [
         13559,
         417,
         2
        ],
        [
         23250,
         453,
         2
        ],
        [
         14232,
         474,
         2
        ],
        [
         25477,
         1,
         2
        ],
        [
         48913,
         1,
         2
        ],
        [
         12474,
         8,
         2
        ],
        [
         40872,
         77,
         2
        ],
        [
         28938,
         427,
         2
        ],
        [
         14232,
         483,
         2
        ],
        [
         14232,
         480,
         2
        ],
        [
         41954,
         334,
         2
        ],
        [
         19859,
         216,
         2
        ],
        [
         28521,
         332,
         2
        ],
        [
         14508,
         404,
         2
        ],
        [
         30088,
         448,
         2
        ],
        [
         14508,
         400,
         2
        ],
        [
         16093,
         498,
         2
        ],
        [
         29213,
         296,
         2
        ],
        [
         45875,
         213,
         2
        ],
        [
         36164,
         483,
         2
        ],
        [
         31362,
         296,
         2
        ],
        [
         42387,
         1,
         2
        ],
        [
         35226,
         404,
         2
        ],
        [
         36117,
         317,
         2
        ],
        [
         24968,
         1,
         2
        ],
        [
         45875,
         217,
         2
        ],
        [
         43104,
         2,
         2
        ],
        [
         16093,
         501,
         2
        ],
        [
         14232,
         476,
         2
        ],
        [
         14232,
         479,
         2
        ],
        [
         26285,
         79,
         2
        ],
        [
         13937,
         1,
         2
        ],
        [
         47356,
         2,
         2
        ],
        [
         40872,
         79,
         2
        ],
        [
         39676,
         1,
         2
        ],
        [
         43052,
         11,
         2
        ],
        [
         36117,
         314,
         2
        ],
        [
         33987,
         488,
         2
        ],
        [
         14232,
         477,
         2
        ],
        [
         20496,
         3,
         2
        ],
        [
         49296,
         63,
         2
        ],
        [
         23916,
         2,
         2
        ],
        [
         26285,
         75,
         2
        ],
        [
         43104,
         3,
         2
        ],
        [
         26847,
         4,
         2
        ],
        [
         35728,
         412,
         2
        ],
        [
         35226,
         407,
         2
        ],
        [
         14508,
         399,
         2
        ],
        [
         36117,
         315,
         2
        ],
        [
         23767,
         2,
         2
        ],
        [
         19005,
         1,
         2
        ],
        [
         20496,
         2,
         2
        ],
        [
         25477,
         4,
         2
        ],
        [
         42643,
         2,
         2
        ],
        [
         47356,
         4,
         2
        ],
        [
         34740,
         312,
         2
        ],
        [
         35226,
         412,
         2
        ],
        [
         14508,
         401,
         2
        ],
        [
         14508,
         393,
         2
        ],
        [
         24018,
         153,
         2
        ],
        [
         40872,
         80,
         2
        ],
        [
         27306,
         170,
         2
        ],
        [
         24863,
         2,
         2
        ],
        [
         28938,
         426,
         2
        ],
        [
         40872,
         81,
         2
        ],
        [
         29130,
         3,
         2
        ],
        [
         30612,
         367,
         2
        ],
        [
         14508,
         405,
         2
        ],
        [
         41367,
         312,
         2
        ],
        [
         14508,
         398,
         2
        ],
        [
         28521,
         330,
         2
        ],
        [
         47356,
         6,
         2
        ],
        [
         43052,
         4,
         2
        ],
        [
         16093,
         499,
         2
        ],
        [
         27306,
         168,
         2
        ],
        [
         35226,
         410,
         2
        ],
        [
         29213,
         306,
         2
        ],
        [
         16093,
         500,
         2
        ],
        [
         14508,
         403,
         2
        ],
        [
         29213,
         309,
         2
        ],
        [
         14508,
         406,
         2
        ],
        [
         19198,
         406,
         2
        ],
        [
         28588,
         4,
         2
        ],
        [
         28588,
         7,
         2
        ],
        [
         49296,
         62,
         2
        ],
        [
         16093,
         494,
         2
        ],
        [
         30088,
         446,
         2
        ],
        [
         34740,
         318,
         2
        ],
        [
         14232,
         481,
         2
        ],
        [
         31362,
         295,
         2
        ],
        [
         15149,
         295,
         2
        ],
        [
         43052,
         7,
         2
        ],
        [
         35728,
         413,
         2
        ],
        [
         35728,
         409,
         2
        ],
        [
         35226,
         414,
         2
        ],
        [
         29130,
         6,
         2
        ],
        [
         28588,
         9,
         2
        ],
        [
         40872,
         88,
         2
        ],
        [
         28521,
         329,
         2
        ],
        [
         31362,
         306,
         2
        ],
        [
         31362,
         307,
         2
        ],
        [
         38766,
         405,
         2
        ],
        [
         19787,
         6,
         2
        ],
        [
         47250,
         1,
         2
        ],
        [
         49075,
         1,
         2
        ],
        [
         24863,
         4,
         2
        ],
        [
         14508,
         417,
         2
        ],
        [
         12474,
         19,
         2
        ],
        [
         25143,
         7,
         2
        ],
        [
         28588,
         16,
         2
        ],
        [
         41488,
         10,
         2
        ],
        [
         31362,
         305,
         2
        ],
        [
         25143,
         6,
         2
        ],
        [
         19103,
         2,
         2
        ],
        [
         41796,
         10,
         2
        ],
        [
         25477,
         9,
         2
        ],
        [
         16093,
         508,
         2
        ],
        [
         42387,
         4,
         2
        ],
        [
         19103,
         3,
         2
        ],
        [
         36117,
         325,
         2
        ],
        [
         31057,
         4,
         2
        ],
        [
         14633,
         1,
         2
        ],
        [
         41732,
         9,
         2
        ],
        [
         41732,
         8,
         2
        ],
        [
         41488,
         9,
         2
        ],
        [
         26285,
         90,
         2
        ],
        [
         14232,
         496,
         2
        ],
        [
         42387,
         5,
         2
        ],
        [
         41732,
         7,
         2
        ],
        [
         47250,
         2,
         2
        ],
        [
         45875,
         235,
         2
        ],
        [
         40559,
         4,
         2
        ],
        [
         28814,
         10,
         2
        ],
        [
         49296,
         69,
         2
        ],
        [
         40872,
         101,
         2
        ],
        [
         43104,
         10,
         2
        ],
        [
         26285,
         91,
         2
        ],
        [
         24863,
         5,
         2
        ],
        [
         40872,
         100,
         2
        ],
        [
         49296,
         70,
         2
        ],
        [
         28588,
         15,
         2
        ],
        [
         14508,
         416,
         2
        ],
        [
         12474,
         18,
         2
        ],
        [
         19787,
         5,
         2
        ],
        [
         12474,
         2,
         2
        ],
        [
         35226,
         402,
         2
        ],
        [
         24018,
         147,
         2
        ],
        [
         29213,
         294,
         2
        ],
        [
         45875,
         207,
         2
        ],
        [
         14508,
         392,
         2
        ],
        [
         28776,
         389,
         2
        ],
        [
         26847,
         2,
         2
        ],
        [
         35728,
         404,
         2
        ],
        [
         27306,
         161,
         2
        ],
        [
         23250,
         452,
         2
        ],
        [
         35728,
         403,
         2
        ],
        [
         27306,
         162,
         2
        ],
        [
         28521,
         327,
         2
        ],
        [
         32018,
         362,
         2
        ],
        [
         14508,
         391,
         2
        ],
        [
         34740,
         311,
         2
        ],
        [
         26285,
         71,
         2
        ],
        [
         27703,
         456,
         2
        ],
        [
         28521,
         328,
         2
        ],
        [
         28588,
         1,
         2
        ],
        [
         26847,
         1,
         2
        ],
        [
         24018,
         148,
         2
        ],
        [
         45875,
         208,
         2
        ],
        [
         16093,
         492,
         2
        ],
        [
         28776,
         390,
         2
        ],
        [
         29213,
         295,
         2
        ],
        [
         32018,
         363,
         2
        ],
        [
         12474,
         1,
         2
        ],
        [
         40872,
         76,
         2
        ],
        [
         14232,
         473,
         2
        ],
        [
         35226,
         403,
         2
        ],
        [
         40872,
         75,
         2
        ],
        [
         34740,
         310,
         2
        ],
        [
         33987,
         486,
         2
        ]
       ],
       "datasetInfos": [],
       "dbfsResultPath": null,
       "isJsonSchema": true,
       "metadata": {},
       "overflow": false,
       "plotOptions": {
        "customPlotOptions": {},
        "displayType": "table",
        "pivotAggregation": null,
        "pivotColumns": null,
        "xColumns": null,
        "yColumns": null
       },
       "removedWidgets": [],
       "schema": [
        {
         "metadata": "{}",
         "name": "user_id",
         "type": "\"integer\""
        },
        {
         "metadata": "{}",
         "name": "session_id",
         "type": "\"integer\""
        },
        {
         "metadata": "{}",
         "name": "count",
         "type": "\"long\""
        }
       ],
       "type": "table"
      }
     },
     "output_type": "display_data"
    }
   ],
   "source": [
    "# Display the count of workouts by user_id and workout_id\n",
    "display(\n",
    "    workout_df.groupBy(\"user_id\", \"workout_id\").count().orderBy(f.col(\"count\").desc())\n",
    ")\n",
    "\n",
    "# Display the count of workouts by user_id and session_id\n",
    "display(\n",
    "    workout_df.groupBy(\"user_id\", \"session_id\").count().orderBy(f.col(\"count\").desc())\n",
    ")"
   ]
  },
  {
   "cell_type": "markdown",
   "metadata": {
    "application/vnd.databricks.v1+cell": {
     "cellMetadata": {
      "byteLimit": 2048000,
      "rowLimit": 10000
     },
     "inputWidgets": {},
     "nuid": "aa27525a-5095-45d7-8976-9ac245d74c71",
     "showTitle": false,
     "title": ""
    }
   },
   "source": [
    "### Create Workouts Table"
   ]
  },
  {
   "cell_type": "code",
   "execution_count": 0,
   "metadata": {
    "application/vnd.databricks.v1+cell": {
     "cellMetadata": {
      "byteLimit": 2048000,
      "rowLimit": 10000
     },
     "inputWidgets": {},
     "nuid": "aa83865a-7017-47f2-93ec-68c6be71dee4",
     "showTitle": true,
     "title": "Query"
    }
   },
   "outputs": [],
   "source": [
    "# Define merge and update logic for the stream\n",
    "def workout_merge_data(df, batch_id):\n",
    "    df.createOrReplaceTempView(\"stream_updates\")\n",
    "\n",
    "    sql_query = \"\"\"\n",
    "    MERGE INTO silver.workouts a\n",
    "    USING stream_updates b\n",
    "    ON a.user_id = b.user_id AND a.time = b.time\n",
    "    WHEN MATCHED THEN\n",
    "    UPDATE SET *\n",
    "    WHEN NOT MATCHED THEN\n",
    "    INSERT *\n",
    "    \"\"\"\n",
    "\n",
    "    df.sparkSession.sql(sql_query)\n",
    "\n",
    "\n",
    "workout_json_schema = \"user_id INTEGER, workout_id INTEGER, timestamp DOUBLE, action STRING, session_id INTEGER\"\n",
    "\n",
    "def process_workouts():\n",
    "    # Create the workouts table if it doesn't exist\n",
    "    spark.sql(f\"\"\"\n",
    "                CREATE TABLE IF NOT EXISTS \n",
    "                    silver.workouts ( \n",
    "                        user_id     INTEGER,   \n",
    "                        workout_id  INTEGER,   \n",
    "                        time        TIMESTAMP, \n",
    "                        action      STRING,    \n",
    "                        session_id  INTEGER    \n",
    "                                    ) \n",
    "                USING DELTA\n",
    "                \"\"\")\n",
    "\n",
    "    # Add constraint to ensure timestamp is after a specific date\n",
    "    spark.sql(f\"ALTER TABLE silver.workouts ADD CONSTRAINT check_date CHECK (time > '2019-11-30')\")\n",
    "\n",
    "    # Read stream from the bronze table, apply transformations, and write to the workouts table\n",
    "    (spark.readStream\n",
    "            .table(\"bronze.bronze\")\n",
    "            .filter(\"topic = 'workout'\")\n",
    "            .select(f.from_json(f.col(\"value\").cast(\"string\"), workout_json_schema).alias(\"wkrt\"))\n",
    "            .select(\"wkrt.*\")\n",
    "            .select(\"user_id\", \"workout_id\", f.col(\"timestamp\").cast(\"timestamp\").alias(\"time\"), \"action\", \"session_id\")\n",
    "            .withWatermark(\"time\", \"30 seconds\")\n",
    "            .dropDuplicates([\"user_id\", \"time\"])\n",
    "                .writeStream\n",
    "                .foreachBatch(workout_merge_data)\n",
    "                .outputMode(\"update\")\n",
    "                .option(\"checkpointLocation\", f\"{checkpoint_path}/workouts\")\n",
    "                .queryName(\"silver.workouts\")\n",
    "                .trigger(availableNow=True)\n",
    "                .start()\n",
    "                .awaitTermination())\n",
    "\n",
    "def reprocess_workouts():\n",
    "    # Drop the workouts table if it exists\n",
    "    spark.sql(f\"drop table if exists silver.workouts\")\n",
    "\n",
    "    # Remove checkpoint location for workouts\n",
    "    dbutils.fs.rm(f\"{checkpoint_path}/workouts\", True)\n",
    "\n",
    "    # Reprocess workouts\n",
    "    process_workouts()"
   ]
  },
  {
   "cell_type": "code",
   "execution_count": 0,
   "metadata": {
    "application/vnd.databricks.v1+cell": {
     "cellMetadata": {
      "byteLimit": 2048000,
      "rowLimit": 10000
     },
     "inputWidgets": {},
     "nuid": "62ded004-9db6-4fb0-b990-726fd26892ac",
     "showTitle": true,
     "title": "Processing Table"
    }
   },
   "outputs": [],
   "source": [
    "process_workouts()"
   ]
  },
  {
   "cell_type": "markdown",
   "metadata": {
    "application/vnd.databricks.v1+cell": {
     "cellMetadata": {
      "byteLimit": 2048000,
      "rowLimit": 10000
     },
     "inputWidgets": {},
     "nuid": "00e7b1af-7cd4-4fe9-9f19-07af94089418",
     "showTitle": false,
     "title": ""
    }
   },
   "source": [
    "#### Verifying Transformation"
   ]
  },
  {
   "cell_type": "code",
   "execution_count": 0,
   "metadata": {
    "application/vnd.databricks.v1+cell": {
     "cellMetadata": {
      "byteLimit": 2048000,
      "rowLimit": 10000
     },
     "inputWidgets": {},
     "nuid": "1da6c5b4-c290-447d-97b8-b66a59d0d132",
     "showTitle": false,
     "title": ""
    }
   },
   "outputs": [
    {
     "output_type": "display_data",
     "data": {
      "text/html": [
       "<style scoped>\n",
       "  .table-result-container {\n",
       "    max-height: 300px;\n",
       "    overflow: auto;\n",
       "  }\n",
       "  table, th, td {\n",
       "    border: 1px solid black;\n",
       "    border-collapse: collapse;\n",
       "  }\n",
       "  th, td {\n",
       "    padding: 5px;\n",
       "  }\n",
       "  th {\n",
       "    text-align: left;\n",
       "  }\n",
       "</style><div class='table-result-container'><table class='table-result'><thead style='background-color: white'><tr><th>col_name</th><th>data_type</th><th>comment</th></tr></thead><tbody><tr><td>user_id</td><td>int</td><td>null</td></tr><tr><td>workout_id</td><td>int</td><td>null</td></tr><tr><td>time</td><td>timestamp</td><td>null</td></tr><tr><td>action</td><td>string</td><td>null</td></tr><tr><td>session_id</td><td>int</td><td>null</td></tr><tr><td></td><td></td><td></td></tr><tr><td># Detailed Table Information</td><td></td><td></td></tr><tr><td>Catalog</td><td>spark_catalog</td><td></td></tr><tr><td>Database</td><td>silver</td><td></td></tr><tr><td>Table</td><td>workouts</td><td></td></tr><tr><td>Created Time</td><td>Wed May 29 11:17:10 UTC 2024</td><td></td></tr><tr><td>Last Access</td><td>UNKNOWN</td><td></td></tr><tr><td>Created By</td><td>Spark 3.3.2</td><td></td></tr><tr><td>Type</td><td>MANAGED</td><td></td></tr><tr><td>Location</td><td>dbfs:/user/hive/warehouse/silver.db/workouts</td><td></td></tr><tr><td>Provider</td><td>delta</td><td></td></tr><tr><td>Owner</td><td>root</td><td></td></tr><tr><td>Is_managed_location</td><td>true</td><td></td></tr><tr><td>Table Properties</td><td>[delta.constraints.check_date=time > '2019-11-30',delta.minReaderVersion=1,delta.minWriterVersion=3]</td><td></td></tr></tbody></table></div>"
      ]
     },
     "metadata": {
      "application/vnd.databricks.v1+output": {
       "addedWidgets": {},
       "aggData": [],
       "aggError": "",
       "aggOverflow": false,
       "aggSchema": [],
       "aggSeriesLimitReached": false,
       "aggType": "",
       "arguments": {},
       "columnCustomDisplayInfos": {},
       "data": [
        [
         "user_id",
         "int",
         null
        ],
        [
         "workout_id",
         "int",
         null
        ],
        [
         "time",
         "timestamp",
         null
        ],
        [
         "action",
         "string",
         null
        ],
        [
         "session_id",
         "int",
         null
        ],
        [
         "",
         "",
         ""
        ],
        [
         "# Detailed Table Information",
         "",
         ""
        ],
        [
         "Catalog",
         "spark_catalog",
         ""
        ],
        [
         "Database",
         "silver",
         ""
        ],
        [
         "Table",
         "workouts",
         ""
        ],
        [
         "Created Time",
         "Wed May 29 11:17:10 UTC 2024",
         ""
        ],
        [
         "Last Access",
         "UNKNOWN",
         ""
        ],
        [
         "Created By",
         "Spark 3.3.2",
         ""
        ],
        [
         "Type",
         "MANAGED",
         ""
        ],
        [
         "Location",
         "dbfs:/user/hive/warehouse/silver.db/workouts",
         ""
        ],
        [
         "Provider",
         "delta",
         ""
        ],
        [
         "Owner",
         "root",
         ""
        ],
        [
         "Is_managed_location",
         "true",
         ""
        ],
        [
         "Table Properties",
         "[delta.constraints.check_date=time > '2019-11-30',delta.minReaderVersion=1,delta.minWriterVersion=3]",
         ""
        ]
       ],
       "datasetInfos": [],
       "dbfsResultPath": null,
       "isJsonSchema": true,
       "metadata": {},
       "overflow": false,
       "plotOptions": {
        "customPlotOptions": {},
        "displayType": "table",
        "pivotAggregation": null,
        "pivotColumns": null,
        "xColumns": null,
        "yColumns": null
       },
       "removedWidgets": [],
       "schema": [
        {
         "metadata": "{\"comment\":\"name of the column\"}",
         "name": "col_name",
         "type": "\"string\""
        },
        {
         "metadata": "{\"comment\":\"data type of the column\"}",
         "name": "data_type",
         "type": "\"string\""
        },
        {
         "metadata": "{\"comment\":\"comment of the column\"}",
         "name": "comment",
         "type": "\"string\""
        }
       ],
       "type": "table"
      }
     },
     "output_type": "display_data"
    },
    {
     "output_type": "display_data",
     "data": {
      "text/html": [
       "<style scoped>\n",
       "  .table-result-container {\n",
       "    max-height: 300px;\n",
       "    overflow: auto;\n",
       "  }\n",
       "  table, th, td {\n",
       "    border: 1px solid black;\n",
       "    border-collapse: collapse;\n",
       "  }\n",
       "  th, td {\n",
       "    padding: 5px;\n",
       "  }\n",
       "  th {\n",
       "    text-align: left;\n",
       "  }\n",
       "</style><div class='table-result-container'><table class='table-result'><thead style='background-color: white'><tr><th>user_id</th><th>workout_id</th><th>time</th><th>action</th><th>session_id</th></tr></thead><tbody><tr><td>43104</td><td>29</td><td>2019-12-09T13:47:32.000+0000</td><td>start</td><td>5</td></tr><tr><td>45875</td><td>46</td><td>2019-12-09T15:24:55.000+0000</td><td>stop</td><td>220</td></tr><tr><td>43104</td><td>25</td><td>2019-12-10T15:06:10.000+0000</td><td>stop</td><td>6</td></tr><tr><td>28588</td><td>33</td><td>2019-12-15T14:40:13.000+0000</td><td>stop</td><td>13</td></tr><tr><td>29213</td><td>38</td><td>2019-12-12T15:58:08.000+0000</td><td>stop</td><td>314</td></tr><tr><td>24968</td><td>44</td><td>2019-12-14T14:04:06.000+0000</td><td>start</td><td>3</td></tr><tr><td>26847</td><td>22</td><td>2019-12-14T17:08:16.000+0000</td><td>start</td><td>5</td></tr><tr><td>29130</td><td>8</td><td>2019-12-15T18:35:42.000+0000</td><td>stop</td><td>14</td></tr><tr><td>40872</td><td>47</td><td>2019-12-15T19:43:55.000+0000</td><td>stop</td><td>98</td></tr><tr><td>40559</td><td>6</td><td>2019-12-13T09:28:41.000+0000</td><td>start</td><td>1</td></tr></tbody></table></div>"
      ]
     },
     "metadata": {
      "application/vnd.databricks.v1+output": {
       "addedWidgets": {},
       "aggData": [],
       "aggError": "",
       "aggOverflow": false,
       "aggSchema": [],
       "aggSeriesLimitReached": false,
       "aggType": "",
       "arguments": {},
       "columnCustomDisplayInfos": {},
       "data": [
        [
         43104,
         29,
         "2019-12-09T13:47:32.000+0000",
         "start",
         5
        ],
        [
         45875,
         46,
         "2019-12-09T15:24:55.000+0000",
         "stop",
         220
        ],
        [
         43104,
         25,
         "2019-12-10T15:06:10.000+0000",
         "stop",
         6
        ],
        [
         28588,
         33,
         "2019-12-15T14:40:13.000+0000",
         "stop",
         13
        ],
        [
         29213,
         38,
         "2019-12-12T15:58:08.000+0000",
         "stop",
         314
        ],
        [
         24968,
         44,
         "2019-12-14T14:04:06.000+0000",
         "start",
         3
        ],
        [
         26847,
         22,
         "2019-12-14T17:08:16.000+0000",
         "start",
         5
        ],
        [
         29130,
         8,
         "2019-12-15T18:35:42.000+0000",
         "stop",
         14
        ],
        [
         40872,
         47,
         "2019-12-15T19:43:55.000+0000",
         "stop",
         98
        ],
        [
         40559,
         6,
         "2019-12-13T09:28:41.000+0000",
         "start",
         1
        ]
       ],
       "datasetInfos": [],
       "dbfsResultPath": null,
       "isJsonSchema": true,
       "metadata": {},
       "overflow": false,
       "plotOptions": {
        "customPlotOptions": {},
        "displayType": "table",
        "pivotAggregation": null,
        "pivotColumns": null,
        "xColumns": null,
        "yColumns": null
       },
       "removedWidgets": [],
       "schema": [
        {
         "metadata": "{}",
         "name": "user_id",
         "type": "\"integer\""
        },
        {
         "metadata": "{}",
         "name": "workout_id",
         "type": "\"integer\""
        },
        {
         "metadata": "{}",
         "name": "time",
         "type": "\"timestamp\""
        },
        {
         "metadata": "{}",
         "name": "action",
         "type": "\"string\""
        },
        {
         "metadata": "{}",
         "name": "session_id",
         "type": "\"integer\""
        }
       ],
       "type": "table"
      }
     },
     "output_type": "display_data"
    },
    {
     "output_type": "stream",
     "name": "stdout",
     "output_type": "stream",
     "text": [
      "\nThe table has a total of 1514 rows\n\n"
     ]
    }
   ],
   "source": [
    "# Display extended description of the Workouts table\n",
    "display(spark.sql(\"DESCRIBE EXTENDED silver.workouts\"))\n",
    "\n",
    "# Display a sample of the data from the Workouts table\n",
    "display(spark.read.table(\"silver.workouts\").limit(10))\n",
    "\n",
    "# Print total count of rows in the Workouts table\n",
    "print(\"\")\n",
    "print(f\"The table has a total of {spark.table('silver.workouts').count()} rows\")\n",
    "print(\"\")"
   ]
  },
  {
   "cell_type": "markdown",
   "metadata": {
    "application/vnd.databricks.v1+cell": {
     "cellMetadata": {
      "byteLimit": 2048000,
      "rowLimit": 10000
     },
     "inputWidgets": {},
     "nuid": "b9f22b35-d515-46e5-a10c-cd439a4eca25",
     "showTitle": false,
     "title": ""
    }
   },
   "source": [
    "## Creating Completed Workouts table \n",
    "<br>\n",
    "It may seem unconventional, but we'll perform an aggregation on the silver layer. As observed, the workouts table contains separate entries for each action (start and stop), which is not ideal. Therefore, aggregation is necessary here.\n",
    "<br>\n",
    "The goal is to consolidate both actions into a single row to represent a complete workout, with only completed workouts being added to the table."
   ]
  },
  {
   "cell_type": "markdown",
   "metadata": {
    "application/vnd.databricks.v1+cell": {
     "cellMetadata": {
      "byteLimit": 2048000,
      "rowLimit": 10000
     },
     "inputWidgets": {},
     "nuid": "3bd9739d-a23c-42c9-89a3-013a5c74fb76",
     "showTitle": false,
     "title": ""
    }
   },
   "source": [
    "### Transformation Strategy\n",
    "\n",
    "My approach involves a step-by-step exploration to uncover the desired outcome. Initially, I focus on discovering a method to achieve the result I seek. Once identified, I then prioritize optimizing the process for efficiency and effectiveness."
   ]
  },
  {
   "cell_type": "code",
   "execution_count": 0,
   "metadata": {
    "application/vnd.databricks.v1+cell": {
     "cellMetadata": {
      "byteLimit": 2048000,
      "rowLimit": 10000
     },
     "inputWidgets": {},
     "nuid": "44270d2d-f06b-4645-a3d2-43194e34924a",
     "showTitle": true,
     "title": "First Step"
    }
   },
   "outputs": [
    {
     "output_type": "display_data",
     "data": {
      "text/html": [
       "<style scoped>\n",
       "  .table-result-container {\n",
       "    max-height: 300px;\n",
       "    overflow: auto;\n",
       "  }\n",
       "  table, th, td {\n",
       "    border: 1px solid black;\n",
       "    border-collapse: collapse;\n",
       "  }\n",
       "  th, td {\n",
       "    padding: 5px;\n",
       "  }\n",
       "  th {\n",
       "    text-align: left;\n",
       "  }\n",
       "</style><div class='table-result-container'><table class='table-result'><thead style='background-color: white'><tr><th>user_id</th><th>workout_id</th><th>session_id</th><th>time</th><th>end_time</th><th>in_progress</th></tr></thead><tbody><tr><td>24863</td><td>25</td><td>3</td><td>2019-12-09T13:37:14.000+0000</td><td>null</td><td>true</td></tr><tr><td>16093</td><td>26</td><td>502</td><td>2019-12-09T13:43:36.000+0000</td><td>null</td><td>true</td></tr><tr><td>43104</td><td>29</td><td>5</td><td>2019-12-09T13:47:32.000+0000</td><td>null</td><td>true</td></tr><tr><td>13937</td><td>47</td><td>5</td><td>2019-12-09T19:38:50.000+0000</td><td>null</td><td>true</td></tr><tr><td>41367</td><td>25</td><td>314</td><td>2019-12-09T19:44:40.000+0000</td><td>null</td><td>true</td></tr><tr><td>16093</td><td>8</td><td>504</td><td>2019-12-10T10:28:24.000+0000</td><td>null</td><td>true</td></tr><tr><td>15149</td><td>25</td><td>297</td><td>2019-12-10T17:17:06.000+0000</td><td>null</td><td>true</td></tr><tr><td>27306</td><td>3</td><td>173</td><td>2019-12-10T17:35:29.000+0000</td><td>null</td><td>true</td></tr><tr><td>28814</td><td>38</td><td>1</td><td>2019-12-11T07:36:01.000+0000</td><td>null</td><td>true</td></tr><tr><td>45875</td><td>37</td><td>226</td><td>2019-12-11T08:13:50.000+0000</td><td>null</td><td>true</td></tr></tbody></table></div>"
      ]
     },
     "metadata": {
      "application/vnd.databricks.v1+output": {
       "addedWidgets": {},
       "aggData": [],
       "aggError": "",
       "aggOverflow": false,
       "aggSchema": [],
       "aggSeriesLimitReached": false,
       "aggType": "",
       "arguments": {},
       "columnCustomDisplayInfos": {},
       "data": [
        [
         24863,
         25,
         3,
         "2019-12-09T13:37:14.000+0000",
         null,
         true
        ],
        [
         16093,
         26,
         502,
         "2019-12-09T13:43:36.000+0000",
         null,
         true
        ],
        [
         43104,
         29,
         5,
         "2019-12-09T13:47:32.000+0000",
         null,
         true
        ],
        [
         13937,
         47,
         5,
         "2019-12-09T19:38:50.000+0000",
         null,
         true
        ],
        [
         41367,
         25,
         314,
         "2019-12-09T19:44:40.000+0000",
         null,
         true
        ],
        [
         16093,
         8,
         504,
         "2019-12-10T10:28:24.000+0000",
         null,
         true
        ],
        [
         15149,
         25,
         297,
         "2019-12-10T17:17:06.000+0000",
         null,
         true
        ],
        [
         27306,
         3,
         173,
         "2019-12-10T17:35:29.000+0000",
         null,
         true
        ],
        [
         28814,
         38,
         1,
         "2019-12-11T07:36:01.000+0000",
         null,
         true
        ],
        [
         45875,
         37,
         226,
         "2019-12-11T08:13:50.000+0000",
         null,
         true
        ]
       ],
       "datasetInfos": [],
       "dbfsResultPath": null,
       "isJsonSchema": true,
       "metadata": {},
       "overflow": false,
       "plotOptions": {
        "customPlotOptions": {},
        "displayType": "table",
        "pivotAggregation": null,
        "pivotColumns": null,
        "xColumns": null,
        "yColumns": null
       },
       "removedWidgets": [],
       "schema": [
        {
         "metadata": "{}",
         "name": "user_id",
         "type": "\"integer\""
        },
        {
         "metadata": "{}",
         "name": "workout_id",
         "type": "\"integer\""
        },
        {
         "metadata": "{}",
         "name": "session_id",
         "type": "\"integer\""
        },
        {
         "metadata": "{}",
         "name": "time",
         "type": "\"timestamp\""
        },
        {
         "metadata": "{}",
         "name": "end_time",
         "type": "\"void\""
        },
        {
         "metadata": "{}",
         "name": "in_progress",
         "type": "\"boolean\""
        }
       ],
       "type": "table"
      }
     },
     "output_type": "display_data"
    }
   ],
   "source": [
    "display(workout_df.filter(f.col(\"action\") == \"start\") \\\n",
    "                          .select(\"user_id\", \n",
    "                                  \"workout_id\", \n",
    "                                  \"session_id\", \n",
    "                                  \"time\", \n",
    "                                  f.lit(None).alias(\"end_time\"), \n",
    "                                  f.lit(True).alias(\"in_progress\")\n",
    "                                 )\n",
    "                          .limit(10)\n",
    "       )"
   ]
  },
  {
   "cell_type": "code",
   "execution_count": 0,
   "metadata": {
    "application/vnd.databricks.v1+cell": {
     "cellMetadata": {
      "byteLimit": 2048000,
      "rowLimit": 10000
     },
     "inputWidgets": {},
     "nuid": "8d987eb2-a232-4c23-a867-19a6afb7c92b",
     "showTitle": true,
     "title": "Second Step"
    }
   },
   "outputs": [
    {
     "output_type": "display_data",
     "data": {
      "text/html": [
       "<style scoped>\n",
       "  .table-result-container {\n",
       "    max-height: 300px;\n",
       "    overflow: auto;\n",
       "  }\n",
       "  table, th, td {\n",
       "    border: 1px solid black;\n",
       "    border-collapse: collapse;\n",
       "  }\n",
       "  th, td {\n",
       "    padding: 5px;\n",
       "  }\n",
       "  th {\n",
       "    text-align: left;\n",
       "  }\n",
       "</style><div class='table-result-container'><table class='table-result'><thead style='background-color: white'><tr><th>user_id</th><th>workout_id</th><th>session_id</th><th>start_time</th><th>time</th><th>in_progress</th></tr></thead><tbody><tr><td>45875</td><td>46</td><td>220</td><td>null</td><td>2019-12-09T15:24:55.000+0000</td><td>false</td></tr><tr><td>29213</td><td>25</td><td>310</td><td>null</td><td>2019-12-09T18:33:36.000+0000</td><td>false</td></tr><tr><td>30514</td><td>20</td><td>1</td><td>null</td><td>2019-12-10T10:18:52.000+0000</td><td>false</td></tr><tr><td>24018</td><td>12</td><td>158</td><td>null</td><td>2019-12-10T10:32:03.000+0000</td><td>false</td></tr><tr><td>43104</td><td>25</td><td>6</td><td>null</td><td>2019-12-10T15:06:10.000+0000</td><td>false</td></tr><tr><td>29213</td><td>33</td><td>312</td><td>null</td><td>2019-12-11T18:46:47.000+0000</td><td>false</td></tr><tr><td>29745</td><td>2</td><td>6</td><td>null</td><td>2019-12-12T12:48:29.000+0000</td><td>false</td></tr><tr><td>41192</td><td>7</td><td>9</td><td>null</td><td>2019-12-14T11:00:33.000+0000</td><td>false</td></tr><tr><td>27306</td><td>8</td><td>183</td><td>null</td><td>2019-12-14T11:54:43.000+0000</td><td>false</td></tr><tr><td>41796</td><td>31</td><td>8</td><td>null</td><td>2019-12-14T12:54:01.000+0000</td><td>false</td></tr></tbody></table></div>"
      ]
     },
     "metadata": {
      "application/vnd.databricks.v1+output": {
       "addedWidgets": {},
       "aggData": [],
       "aggError": "",
       "aggOverflow": false,
       "aggSchema": [],
       "aggSeriesLimitReached": false,
       "aggType": "",
       "arguments": {},
       "columnCustomDisplayInfos": {},
       "data": [
        [
         45875,
         46,
         220,
         null,
         "2019-12-09T15:24:55.000+0000",
         false
        ],
        [
         29213,
         25,
         310,
         null,
         "2019-12-09T18:33:36.000+0000",
         false
        ],
        [
         30514,
         20,
         1,
         null,
         "2019-12-10T10:18:52.000+0000",
         false
        ],
        [
         24018,
         12,
         158,
         null,
         "2019-12-10T10:32:03.000+0000",
         false
        ],
        [
         43104,
         25,
         6,
         null,
         "2019-12-10T15:06:10.000+0000",
         false
        ],
        [
         29213,
         33,
         312,
         null,
         "2019-12-11T18:46:47.000+0000",
         false
        ],
        [
         29745,
         2,
         6,
         null,
         "2019-12-12T12:48:29.000+0000",
         false
        ],
        [
         41192,
         7,
         9,
         null,
         "2019-12-14T11:00:33.000+0000",
         false
        ],
        [
         27306,
         8,
         183,
         null,
         "2019-12-14T11:54:43.000+0000",
         false
        ],
        [
         41796,
         31,
         8,
         null,
         "2019-12-14T12:54:01.000+0000",
         false
        ]
       ],
       "datasetInfos": [],
       "dbfsResultPath": null,
       "isJsonSchema": true,
       "metadata": {},
       "overflow": false,
       "plotOptions": {
        "customPlotOptions": {},
        "displayType": "table",
        "pivotAggregation": null,
        "pivotColumns": null,
        "xColumns": null,
        "yColumns": null
       },
       "removedWidgets": [],
       "schema": [
        {
         "metadata": "{}",
         "name": "user_id",
         "type": "\"integer\""
        },
        {
         "metadata": "{}",
         "name": "workout_id",
         "type": "\"integer\""
        },
        {
         "metadata": "{}",
         "name": "session_id",
         "type": "\"integer\""
        },
        {
         "metadata": "{}",
         "name": "start_time",
         "type": "\"void\""
        },
        {
         "metadata": "{}",
         "name": "time",
         "type": "\"timestamp\""
        },
        {
         "metadata": "{}",
         "name": "in_progress",
         "type": "\"boolean\""
        }
       ],
       "type": "table"
      }
     },
     "output_type": "display_data"
    }
   ],
   "source": [
    "display(workout_df.filter(f.col(\"action\") == \"stop\") \\\n",
    "                          .select(\"user_id\",\n",
    "                                  \"workout_id\", \n",
    "                                  \"session_id\", \n",
    "                                  f.lit(None).alias(\"start_time\"), \n",
    "                                  \"time\", f.lit(False).alias(\"in_progress\")\n",
    "                                 )\n",
    "                          .limit(10)\n",
    "       )"
   ]
  },
  {
   "cell_type": "code",
   "execution_count": 0,
   "metadata": {
    "application/vnd.databricks.v1+cell": {
     "cellMetadata": {
      "byteLimit": 2048000,
      "rowLimit": 10000
     },
     "inputWidgets": {},
     "nuid": "1d583ccd-0b2f-4eb4-aa19-7f42e417e6b4",
     "showTitle": true,
     "title": "Joining Both"
    }
   },
   "outputs": [
    {
     "output_type": "display_data",
     "data": {
      "text/html": [
       "<style scoped>\n",
       "  .table-result-container {\n",
       "    max-height: 300px;\n",
       "    overflow: auto;\n",
       "  }\n",
       "  table, th, td {\n",
       "    border: 1px solid black;\n",
       "    border-collapse: collapse;\n",
       "  }\n",
       "  th, td {\n",
       "    padding: 5px;\n",
       "  }\n",
       "  th {\n",
       "    text-align: left;\n",
       "  }\n",
       "</style><div class='table-result-container'><table class='table-result'><thead style='background-color: white'><tr><th>user_id</th><th>workout_id</th><th>session_id</th><th>start_time</th><th>end_time</th><th>workout_progress</th></tr></thead><tbody><tr><td>24863</td><td>25</td><td>3</td><td>2019-12-09T13:37:14.000+0000</td><td>2019-12-09T14:48:25.000+0000</td><td>done</td></tr><tr><td>16093</td><td>26</td><td>502</td><td>2019-12-09T13:43:36.000+0000</td><td>2019-12-09T14:41:36.000+0000</td><td>done</td></tr><tr><td>43104</td><td>29</td><td>5</td><td>2019-12-09T13:47:32.000+0000</td><td>2019-12-09T14:23:37.000+0000</td><td>done</td></tr><tr><td>13937</td><td>47</td><td>5</td><td>2019-12-09T19:38:50.000+0000</td><td>2019-12-09T20:11:41.000+0000</td><td>done</td></tr><tr><td>41367</td><td>25</td><td>314</td><td>2019-12-09T19:44:40.000+0000</td><td>2019-12-09T20:56:57.000+0000</td><td>done</td></tr><tr><td>16093</td><td>8</td><td>504</td><td>2019-12-10T10:28:24.000+0000</td><td>2019-12-10T11:49:54.000+0000</td><td>done</td></tr><tr><td>15149</td><td>25</td><td>297</td><td>2019-12-10T17:17:06.000+0000</td><td>2019-12-10T18:26:57.000+0000</td><td>done</td></tr><tr><td>27306</td><td>3</td><td>173</td><td>2019-12-10T17:35:29.000+0000</td><td>2019-12-10T18:07:16.000+0000</td><td>done</td></tr><tr><td>28814</td><td>38</td><td>1</td><td>2019-12-11T07:36:01.000+0000</td><td>2019-12-11T08:27:42.000+0000</td><td>done</td></tr><tr><td>45875</td><td>37</td><td>226</td><td>2019-12-11T08:13:50.000+0000</td><td>2019-12-11T08:55:35.000+0000</td><td>done</td></tr></tbody></table></div>"
      ]
     },
     "metadata": {
      "application/vnd.databricks.v1+output": {
       "addedWidgets": {},
       "aggData": [],
       "aggError": "",
       "aggOverflow": false,
       "aggSchema": [],
       "aggSeriesLimitReached": false,
       "aggType": "",
       "arguments": {},
       "columnCustomDisplayInfos": {},
       "data": [
        [
         24863,
         25,
         3,
         "2019-12-09T13:37:14.000+0000",
         "2019-12-09T14:48:25.000+0000",
         "done"
        ],
        [
         16093,
         26,
         502,
         "2019-12-09T13:43:36.000+0000",
         "2019-12-09T14:41:36.000+0000",
         "done"
        ],
        [
         43104,
         29,
         5,
         "2019-12-09T13:47:32.000+0000",
         "2019-12-09T14:23:37.000+0000",
         "done"
        ],
        [
         13937,
         47,
         5,
         "2019-12-09T19:38:50.000+0000",
         "2019-12-09T20:11:41.000+0000",
         "done"
        ],
        [
         41367,
         25,
         314,
         "2019-12-09T19:44:40.000+0000",
         "2019-12-09T20:56:57.000+0000",
         "done"
        ],
        [
         16093,
         8,
         504,
         "2019-12-10T10:28:24.000+0000",
         "2019-12-10T11:49:54.000+0000",
         "done"
        ],
        [
         15149,
         25,
         297,
         "2019-12-10T17:17:06.000+0000",
         "2019-12-10T18:26:57.000+0000",
         "done"
        ],
        [
         27306,
         3,
         173,
         "2019-12-10T17:35:29.000+0000",
         "2019-12-10T18:07:16.000+0000",
         "done"
        ],
        [
         28814,
         38,
         1,
         "2019-12-11T07:36:01.000+0000",
         "2019-12-11T08:27:42.000+0000",
         "done"
        ],
        [
         45875,
         37,
         226,
         "2019-12-11T08:13:50.000+0000",
         "2019-12-11T08:55:35.000+0000",
         "done"
        ]
       ],
       "datasetInfos": [],
       "dbfsResultPath": null,
       "isJsonSchema": true,
       "metadata": {},
       "overflow": false,
       "plotOptions": {
        "customPlotOptions": {},
        "displayType": "table",
        "pivotAggregation": null,
        "pivotColumns": null,
        "xColumns": null,
        "yColumns": null
       },
       "removedWidgets": [],
       "schema": [
        {
         "metadata": "{}",
         "name": "user_id",
         "type": "\"integer\""
        },
        {
         "metadata": "{}",
         "name": "workout_id",
         "type": "\"integer\""
        },
        {
         "metadata": "{}",
         "name": "session_id",
         "type": "\"integer\""
        },
        {
         "metadata": "{}",
         "name": "start_time",
         "type": "\"timestamp\""
        },
        {
         "metadata": "{}",
         "name": "end_time",
         "type": "\"timestamp\""
        },
        {
         "metadata": "{}",
         "name": "workout_progress",
         "type": "\"string\""
        }
       ],
       "type": "table"
      }
     },
     "output_type": "display_data"
    },
    {
     "output_type": "stream",
     "name": "stdout",
     "output_type": "stream",
     "text": [
      "\nNumber of completed workouts 757\n\n"
     ]
    }
   ],
   "source": [
    "start_actions = workout_df.filter(f.col(\"action\") == \"start\") \\\n",
    "                          .select(\"user_id\", \n",
    "                                  \"workout_id\", \n",
    "                                  \"session_id\", \n",
    "                                  \"time\", \n",
    "                                  f.lit(None).alias(\"end_time\"), \n",
    "                                  f.lit(True).alias(\"in_progress\"))\n",
    "\n",
    "stop_actions = workout_df.filter(f.col(\"action\") == \"stop\") \\\n",
    "                         .select(\"user_id\",\n",
    "                                 \"workout_id\", \n",
    "                                 \"session_id\", \n",
    "                                 f.lit(None).alias(\"start_time\"), \n",
    "                                 \"time\", f.lit(False).alias(\"in_progress\"))\n",
    "\n",
    "completed_workouts = start_actions.alias(\"a\").join(stop_actions.alias(\"b\"), [\"user_id\", \"session_id\"], \"left\") \\\n",
    "                                             .withColumn(\"workout_progress\", f.when(f.col(\"a.in_progress\") & f.col(\"b.in_progress\").isNull(), f.lit(\"in_progress\")).otherwise(f.lit(\"done\"))) \\\n",
    "                                             .select(f.col(\"a.user_id\"),\n",
    "                                                     f.col(\"a.workout_id\"), \n",
    "                                                     f.col(\"a.session_id\"),\n",
    "                                                     f.col(\"a.time\").alias(\"start_time\"),\n",
    "                                                     f.col(\"b.time\").alias(\"end_time\"),\n",
    "                                                     \"workout_progress\") \\\n",
    "                                             .where(f.col(\"workout_progress\") == \"done\")\n",
    "\n",
    "n_completed_workouts = completed_workouts.count()\n",
    "\n",
    "display(completed_workouts.limit(10))\n",
    "\n",
    "print(\"\")\n",
    "print(f\"Number of completed workouts {n_completed_workouts}\")\n",
    "print(\"\")"
   ]
  },
  {
   "cell_type": "markdown",
   "metadata": {
    "application/vnd.databricks.v1+cell": {
     "cellMetadata": {
      "byteLimit": 2048000,
      "rowLimit": 10000
     },
     "inputWidgets": {},
     "nuid": "599db6b5-4b22-445d-b7b7-2ff27490a42e",
     "showTitle": false,
     "title": ""
    }
   },
   "source": [
    "I've visually achieved the desired layout for the completed workouts table. And learnt that all workouts in this sample data are completed, out of 1514 initial records, 757 completed workouts were compiled"
   ]
  },
  {
   "cell_type": "markdown",
   "metadata": {
    "application/vnd.databricks.v1+cell": {
     "cellMetadata": {
      "byteLimit": 2048000,
      "rowLimit": 10000
     },
     "inputWidgets": {},
     "nuid": "f8be4bb4-b05a-4284-9292-734501a8dfc3",
     "showTitle": false,
     "title": ""
    }
   },
   "source": [
    "### Testing In-Progress Workouts\n",
    "\n",
    "With the logic for extracting completed workouts in place, it's time to stress-test the system with flawed data.<br>\n",
    "I'll intentionally create some in-progress workouts and records without the start action to assess the resilience of the logic."
   ]
  },
  {
   "cell_type": "code",
   "execution_count": 0,
   "metadata": {
    "application/vnd.databricks.v1+cell": {
     "cellMetadata": {
      "byteLimit": 2048000,
      "implicitDf": true,
      "rowLimit": 10000
     },
     "inputWidgets": {},
     "nuid": "8cddeaca-8e23-4e7b-a855-c5580184b58a",
     "showTitle": true,
     "title": "In-Progress"
    }
   },
   "outputs": [
    {
     "output_type": "display_data",
     "data": {
      "text/html": [
       "<style scoped>\n",
       "  .table-result-container {\n",
       "    max-height: 300px;\n",
       "    overflow: auto;\n",
       "  }\n",
       "  table, th, td {\n",
       "    border: 1px solid black;\n",
       "    border-collapse: collapse;\n",
       "  }\n",
       "  th, td {\n",
       "    padding: 5px;\n",
       "  }\n",
       "  th {\n",
       "    text-align: left;\n",
       "  }\n",
       "</style><div class='table-result-container'><table class='table-result'><thead style='background-color: white'><tr><th>num_affected_rows</th></tr></thead><tbody><tr><td>134</td></tr></tbody></table></div>"
      ]
     },
     "metadata": {
      "application/vnd.databricks.v1+output": {
       "addedWidgets": {},
       "aggData": [],
       "aggError": "",
       "aggOverflow": false,
       "aggSchema": [],
       "aggSeriesLimitReached": false,
       "aggType": "",
       "arguments": {},
       "columnCustomDisplayInfos": {},
       "data": [
        [
         134
        ]
       ],
       "datasetInfos": [],
       "dbfsResultPath": null,
       "isJsonSchema": true,
       "metadata": {},
       "overflow": false,
       "plotOptions": {
        "customPlotOptions": {},
        "displayType": "table",
        "pivotAggregation": null,
        "pivotColumns": null,
        "xColumns": null,
        "yColumns": null
       },
       "removedWidgets": [],
       "schema": [
        {
         "metadata": "{}",
         "name": "num_affected_rows",
         "type": "\"long\""
        }
       ],
       "type": "table"
      }
     },
     "output_type": "display_data"
    }
   ],
   "source": [
    "%sql\n",
    "DELETE FROM silver.workouts a WHERE a.user_id between 20000 and 27500 and a.action = \"stop\";"
   ]
  },
  {
   "cell_type": "code",
   "execution_count": 0,
   "metadata": {
    "application/vnd.databricks.v1+cell": {
     "cellMetadata": {
      "byteLimit": 2048000,
      "implicitDf": true,
      "rowLimit": 10000
     },
     "inputWidgets": {},
     "nuid": "8a330915-c5a2-4022-a505-6cbc8b57f471",
     "showTitle": true,
     "title": "No Start"
    }
   },
   "outputs": [
    {
     "output_type": "display_data",
     "data": {
      "text/html": [
       "<style scoped>\n",
       "  .table-result-container {\n",
       "    max-height: 300px;\n",
       "    overflow: auto;\n",
       "  }\n",
       "  table, th, td {\n",
       "    border: 1px solid black;\n",
       "    border-collapse: collapse;\n",
       "  }\n",
       "  th, td {\n",
       "    padding: 5px;\n",
       "  }\n",
       "  th {\n",
       "    text-align: left;\n",
       "  }\n",
       "</style><div class='table-result-container'><table class='table-result'><thead style='background-color: white'><tr><th>num_affected_rows</th></tr></thead><tbody><tr><td>103</td></tr></tbody></table></div>"
      ]
     },
     "metadata": {
      "application/vnd.databricks.v1+output": {
       "addedWidgets": {},
       "aggData": [],
       "aggError": "",
       "aggOverflow": false,
       "aggSchema": [],
       "aggSeriesLimitReached": false,
       "aggType": "",
       "arguments": {},
       "columnCustomDisplayInfos": {},
       "data": [
        [
         103
        ]
       ],
       "datasetInfos": [],
       "dbfsResultPath": null,
       "isJsonSchema": true,
       "metadata": {},
       "overflow": false,
       "plotOptions": {
        "customPlotOptions": {},
        "displayType": "table",
        "pivotAggregation": null,
        "pivotColumns": null,
        "xColumns": null,
        "yColumns": null
       },
       "removedWidgets": [],
       "schema": [
        {
         "metadata": "{}",
         "name": "num_affected_rows",
         "type": "\"long\""
        }
       ],
       "type": "table"
      }
     },
     "output_type": "display_data"
    }
   ],
   "source": [
    "%sql\n",
    "DELETE FROM silver.workouts a WHERE a.user_id between 27501 and 30000 and a.action = \"start\";"
   ]
  },
  {
   "cell_type": "markdown",
   "metadata": {
    "application/vnd.databricks.v1+cell": {
     "cellMetadata": {
      "byteLimit": 2048000,
      "rowLimit": 10000
     },
     "inputWidgets": {},
     "nuid": "1f6f26aa-2bf3-4559-84c8-870ee69d6331",
     "showTitle": false,
     "title": ""
    }
   },
   "source": [
    "After removing incomplete workout entries, a total of 237 records were deleted. When applying the same logic to flawed data, only 520 records are expected to be added to the dataframe."
   ]
  },
  {
   "cell_type": "code",
   "execution_count": 0,
   "metadata": {
    "application/vnd.databricks.v1+cell": {
     "cellMetadata": {
      "byteLimit": 2048000,
      "rowLimit": 10000
     },
     "inputWidgets": {},
     "nuid": "0fee0c4a-54ec-408c-ad30-84de453a72e4",
     "showTitle": false,
     "title": ""
    }
   },
   "outputs": [],
   "source": [
    "missing_workouts_df = spark.table(\"silver.workouts\")"
   ]
  },
  {
   "cell_type": "code",
   "execution_count": 0,
   "metadata": {
    "application/vnd.databricks.v1+cell": {
     "cellMetadata": {
      "byteLimit": 2048000,
      "rowLimit": 10000
     },
     "inputWidgets": {},
     "nuid": "69f662cf-7d07-4751-bc11-c4a4d1281502",
     "showTitle": true,
     "title": "Filtering workout with flawed data"
    }
   },
   "outputs": [
    {
     "output_type": "display_data",
     "data": {
      "text/html": [
       "<style scoped>\n",
       "  .table-result-container {\n",
       "    max-height: 300px;\n",
       "    overflow: auto;\n",
       "  }\n",
       "  table, th, td {\n",
       "    border: 1px solid black;\n",
       "    border-collapse: collapse;\n",
       "  }\n",
       "  th, td {\n",
       "    padding: 5px;\n",
       "  }\n",
       "  th {\n",
       "    text-align: left;\n",
       "  }\n",
       "</style><div class='table-result-container'><table class='table-result'><thead style='background-color: white'><tr><th>user_id</th><th>workout_id</th><th>session_id</th><th>start_time</th><th>end_time</th></tr></thead><tbody><tr><td>33733</td><td>27</td><td>4</td><td>2019-12-14T08:40:59.000+0000</td><td>2019-12-14T09:25:33.000+0000</td></tr><tr><td>17807</td><td>10</td><td>4</td><td>2019-12-12T15:09:12.000+0000</td><td>2019-12-12T15:45:39.000+0000</td></tr><tr><td>30088</td><td>0</td><td>449</td><td>2019-12-09T17:27:09.000+0000</td><td>2019-12-09T17:43:00.000+0000</td></tr><tr><td>43052</td><td>26</td><td>16</td><td>2019-12-11T18:18:33.000+0000</td><td>2019-12-11T19:20:06.000+0000</td></tr><tr><td>36117</td><td>19</td><td>322</td><td>2019-12-12T17:25:04.000+0000</td><td>2019-12-12T19:08:10.000+0000</td></tr><tr><td>40177</td><td>38</td><td>2</td><td>2019-12-14T12:36:53.000+0000</td><td>2019-12-14T13:20:46.000+0000</td></tr><tr><td>41796</td><td>35</td><td>7</td><td>2019-12-13T07:51:28.000+0000</td><td>2019-12-13T08:50:39.000+0000</td></tr><tr><td>35728</td><td>41</td><td>420</td><td>2019-12-13T09:00:15.000+0000</td><td>2019-12-13T09:21:56.000+0000</td></tr><tr><td>47356</td><td>4</td><td>9</td><td>2019-12-10T07:49:40.000+0000</td><td>2019-12-10T08:11:54.000+0000</td></tr><tr><td>12474</td><td>32</td><td>17</td><td>2019-12-15T18:32:22.000+0000</td><td>2019-12-15T19:37:21.000+0000</td></tr></tbody></table></div>"
      ]
     },
     "metadata": {
      "application/vnd.databricks.v1+output": {
       "addedWidgets": {},
       "aggData": [],
       "aggError": "",
       "aggOverflow": false,
       "aggSchema": [],
       "aggSeriesLimitReached": false,
       "aggType": "",
       "arguments": {},
       "columnCustomDisplayInfos": {},
       "data": [
        [
         33733,
         27,
         4,
         "2019-12-14T08:40:59.000+0000",
         "2019-12-14T09:25:33.000+0000"
        ],
        [
         17807,
         10,
         4,
         "2019-12-12T15:09:12.000+0000",
         "2019-12-12T15:45:39.000+0000"
        ],
        [
         30088,
         0,
         449,
         "2019-12-09T17:27:09.000+0000",
         "2019-12-09T17:43:00.000+0000"
        ],
        [
         43052,
         26,
         16,
         "2019-12-11T18:18:33.000+0000",
         "2019-12-11T19:20:06.000+0000"
        ],
        [
         36117,
         19,
         322,
         "2019-12-12T17:25:04.000+0000",
         "2019-12-12T19:08:10.000+0000"
        ],
        [
         40177,
         38,
         2,
         "2019-12-14T12:36:53.000+0000",
         "2019-12-14T13:20:46.000+0000"
        ],
        [
         41796,
         35,
         7,
         "2019-12-13T07:51:28.000+0000",
         "2019-12-13T08:50:39.000+0000"
        ],
        [
         35728,
         41,
         420,
         "2019-12-13T09:00:15.000+0000",
         "2019-12-13T09:21:56.000+0000"
        ],
        [
         47356,
         4,
         9,
         "2019-12-10T07:49:40.000+0000",
         "2019-12-10T08:11:54.000+0000"
        ],
        [
         12474,
         32,
         17,
         "2019-12-15T18:32:22.000+0000",
         "2019-12-15T19:37:21.000+0000"
        ]
       ],
       "datasetInfos": [],
       "dbfsResultPath": null,
       "isJsonSchema": true,
       "metadata": {},
       "overflow": false,
       "plotOptions": {
        "customPlotOptions": {},
        "displayType": "table",
        "pivotAggregation": null,
        "pivotColumns": null,
        "xColumns": null,
        "yColumns": null
       },
       "removedWidgets": [],
       "schema": [
        {
         "metadata": "{}",
         "name": "user_id",
         "type": "\"integer\""
        },
        {
         "metadata": "{}",
         "name": "workout_id",
         "type": "\"integer\""
        },
        {
         "metadata": "{}",
         "name": "session_id",
         "type": "\"integer\""
        },
        {
         "metadata": "{}",
         "name": "start_time",
         "type": "\"timestamp\""
        },
        {
         "metadata": "{}",
         "name": "end_time",
         "type": "\"timestamp\""
        }
       ],
       "type": "table"
      }
     },
     "output_type": "display_data"
    },
    {
     "output_type": "stream",
     "name": "stdout",
     "output_type": "stream",
     "text": [
      "\nNumber of completed workouts 520\n\n"
     ]
    }
   ],
   "source": [
    "start_actions = missing_workouts_df.filter(f.col(\"action\") == \"start\") \\\n",
    "                                   .select(\"user_id\", \n",
    "                                           \"workout_id\", \n",
    "                                           \"session_id\", \n",
    "                                           \"time\", \n",
    "                                           f.lit(None).alias(\"end_time\"), \n",
    "                                           f.lit(True).alias(\"in_progress\"))\n",
    "\n",
    "stop_actions = missing_workouts_df.filter(f.col(\"action\") == \"stop\") \\\n",
    "                                  .select(\"user_id\",\n",
    "                                          \"workout_id\", \n",
    "                                          \"session_id\", \n",
    "                                          f.lit(None).alias(\"start_time\"), \n",
    "                                          \"time\", f.lit(False).alias(\"in_progress\"))\n",
    "\n",
    "test_completed_workouts = start_actions.alias(\"a\").join(stop_actions.alias(\"b\"), [\"user_id\", \"session_id\"], \"left\") \\\n",
    "                                                  .withColumn(\"workout_progress\", f.when(f.col(\"a.in_progress\") & f.col(\"b.in_progress\").isNull(), f.lit(\"in_progress\")).otherwise(f.lit(\"done\"))) \\\n",
    "                                                  .select(f.col(\"a.user_id\"),\n",
    "                                                          f.col(\"a.workout_id\"), \n",
    "                                                          f.col(\"a.session_id\"),\n",
    "                                                          f.col(\"a.time\").alias(\"start_time\"),\n",
    "                                                          f.col(\"b.time\").alias(\"end_time\")\n",
    "                                                         ) \\\n",
    "                                                  .where(f.col(\"workout_progress\") == \"done\")\n",
    "\n",
    "n_test_completed_workouts = test_completed_workouts.count()\n",
    "\n",
    "display(test_completed_workouts.limit(10))\n",
    "\n",
    "print(\"\")\n",
    "print(f\"Number of completed workouts {n_test_completed_workouts}\")\n",
    "print(\"\")"
   ]
  },
  {
   "cell_type": "markdown",
   "metadata": {
    "application/vnd.databricks.v1+cell": {
     "cellMetadata": {
      "byteLimit": 2048000,
      "rowLimit": 10000
     },
     "inputWidgets": {},
     "nuid": "adceaf29-9b7b-4a3a-865f-1f567cdc1ddf",
     "showTitle": false,
     "title": ""
    }
   },
   "source": [
    "With the solid logic in place, it's time to integrate all this code into the streaming logic and create the completed_workouts table."
   ]
  },
  {
   "cell_type": "markdown",
   "metadata": {
    "application/vnd.databricks.v1+cell": {
     "cellMetadata": {
      "byteLimit": 2048000,
      "rowLimit": 10000
     },
     "inputWidgets": {},
     "nuid": "f7685e12-1efc-4099-9b8c-d7942ccec862",
     "showTitle": false,
     "title": ""
    }
   },
   "source": [
    "### Create Completed Workouts"
   ]
  },
  {
   "cell_type": "code",
   "execution_count": 0,
   "metadata": {
    "application/vnd.databricks.v1+cell": {
     "cellMetadata": {
      "byteLimit": 2048000,
      "rowLimit": 10000
     },
     "inputWidgets": {},
     "nuid": "8f73625a-345e-4b55-9fa8-9ebed004421a",
     "showTitle": true,
     "title": "Query"
    }
   },
   "outputs": [],
   "source": [
    "def completed_wrkt_merge_data(df, batch_id):\n",
    "    df.createOrReplaceTempView(\"stream_updates\")\n",
    "\n",
    "    sql_query = \"\"\"\n",
    "    MERGE INTO silver.completed_workouts a\n",
    "    USING stream_updates b\n",
    "    ON a.user_id=b.user_id AND a.session_id=b.session_id\n",
    "    WHEN MATCHED THEN\n",
    "    UPDATE SET *\n",
    "    WHEN NOT MATCHED THEN\n",
    "    INSERT * \n",
    "    \"\"\"    \n",
    "    df.sparkSession.sql(sql_query)\n",
    "\n",
    "\n",
    "def process_completed_workouts():\n",
    "\n",
    "    spark.sql(\"\"\"\n",
    "      CREATE TABLE IF NOT EXISTS  \n",
    "      silver.completed_workouts   \n",
    "        (user_id      INTEGER,    \n",
    "        session_id   INTEGER,    \n",
    "        start_time   TIMESTAMP,  \n",
    "        end_time     TIMESTAMP)  \n",
    "      USING DELTA \\\n",
    "    \"\"\")\n",
    "\n",
    "    (spark.readStream\n",
    "          .table(\"silver.workouts\")\n",
    "          .groupBy(\"user_id\", \"session_id\")\n",
    "          .agg(\n",
    "              f.max(f.when(f.col(\"action\") == \"start\", f.col(\"time\"))).alias(\"start_time\"),\n",
    "              f.max(f.when(f.col(\"action\") == \"stop\", f.col(\"time\"))).alias(\"end_time\")\n",
    "              )\n",
    "          .filter(f.col(\"start_time\").isNotNull() & f.col(\"end_time\").isNotNull())\n",
    "          .select(\"user_id\", \"session_id\", \"start_time\", \"end_time\")\n",
    "          .withWatermark(\"start_time\", \"30 seconds\")\n",
    "          .writeStream\n",
    "              .foreachBatch(completed_wrkt_merge_data)\n",
    "              .option(\"checkpointLocation\", f\"{checkpoint_path}/completed_workouts\")\n",
    "              .outputMode(\"update\")\n",
    "              .trigger(availableNow=True)\n",
    "              .queryName(\"completed_workouts\")\n",
    "              .start()\n",
    "              .awaitTermination()\n",
    ")\n",
    "\n",
    "def reprocess_completed_workouts():\n",
    "    dbutils.fs.rm(f\"{checkpoint_path}/completed_workouts\", True)\n",
    "\n",
    "    spark.sql(\"drop table if exists silver.completed_workouts\")\n",
    "\n",
    "    process_completed_workouts()    \n"
   ]
  },
  {
   "cell_type": "code",
   "execution_count": 0,
   "metadata": {
    "application/vnd.databricks.v1+cell": {
     "cellMetadata": {
      "byteLimit": 2048000,
      "rowLimit": 10000
     },
     "inputWidgets": {},
     "nuid": "8c2d90f1-124e-40a8-966a-a176e2400527",
     "showTitle": true,
     "title": "Processing"
    }
   },
   "outputs": [],
   "source": [
    "process_completed_workouts()\n"
   ]
  },
  {
   "cell_type": "markdown",
   "metadata": {
    "application/vnd.databricks.v1+cell": {
     "cellMetadata": {
      "byteLimit": 2048000,
      "rowLimit": 10000
     },
     "inputWidgets": {},
     "nuid": "f7190019-40cb-4710-b085-5cf9ffbc3335",
     "showTitle": false,
     "title": ""
    }
   },
   "source": [
    "#### Verify Results"
   ]
  },
  {
   "cell_type": "code",
   "execution_count": 0,
   "metadata": {
    "application/vnd.databricks.v1+cell": {
     "cellMetadata": {
      "byteLimit": 2048000,
      "rowLimit": 10000
     },
     "inputWidgets": {},
     "nuid": "47c63e37-a35e-4465-adbd-fa5c383a2ecf",
     "showTitle": false,
     "title": ""
    }
   },
   "outputs": [
    {
     "output_type": "display_data",
     "data": {
      "text/html": [
       "<style scoped>\n",
       "  .table-result-container {\n",
       "    max-height: 300px;\n",
       "    overflow: auto;\n",
       "  }\n",
       "  table, th, td {\n",
       "    border: 1px solid black;\n",
       "    border-collapse: collapse;\n",
       "  }\n",
       "  th, td {\n",
       "    padding: 5px;\n",
       "  }\n",
       "  th {\n",
       "    text-align: left;\n",
       "  }\n",
       "</style><div class='table-result-container'><table class='table-result'><thead style='background-color: white'><tr><th>user_id</th><th>session_id</th><th>start_time</th><th>end_time</th></tr></thead><tbody><tr><td>36117</td><td>322</td><td>2019-12-12T17:25:04.000+0000</td><td>2019-12-12T19:08:10.000+0000</td></tr><tr><td>45875</td><td>233</td><td>2019-12-15T12:22:47.000+0000</td><td>2019-12-15T13:10:26.000+0000</td></tr><tr><td>41192</td><td>5</td><td>2019-12-10T17:39:59.000+0000</td><td>2019-12-10T18:14:34.000+0000</td></tr><tr><td>30088</td><td>450</td><td>2019-12-09T17:50:29.000+0000</td><td>2019-12-09T18:19:49.000+0000</td></tr><tr><td>33987</td><td>499</td><td>2019-12-11T14:05:23.000+0000</td><td>2019-12-11T14:26:21.000+0000</td></tr><tr><td>41796</td><td>2</td><td>2019-12-10T17:41:14.000+0000</td><td>2019-12-10T18:03:39.000+0000</td></tr><tr><td>45875</td><td>219</td><td>2019-12-09T13:56:40.000+0000</td><td>2019-12-09T14:03:49.000+0000</td></tr><tr><td>43104</td><td>6</td><td>2019-12-10T14:08:28.000+0000</td><td>2019-12-10T15:06:10.000+0000</td></tr><tr><td>34740</td><td>326</td><td>2019-12-11T19:05:52.000+0000</td><td>2019-12-11T20:04:29.000+0000</td></tr><tr><td>35226</td><td>419</td><td>2019-12-12T17:57:02.000+0000</td><td>2019-12-12T18:54:38.000+0000</td></tr></tbody></table></div>"
      ]
     },
     "metadata": {
      "application/vnd.databricks.v1+output": {
       "addedWidgets": {},
       "aggData": [],
       "aggError": "",
       "aggOverflow": false,
       "aggSchema": [],
       "aggSeriesLimitReached": false,
       "aggType": "",
       "arguments": {},
       "columnCustomDisplayInfos": {},
       "data": [
        [
         36117,
         322,
         "2019-12-12T17:25:04.000+0000",
         "2019-12-12T19:08:10.000+0000"
        ],
        [
         45875,
         233,
         "2019-12-15T12:22:47.000+0000",
         "2019-12-15T13:10:26.000+0000"
        ],
        [
         41192,
         5,
         "2019-12-10T17:39:59.000+0000",
         "2019-12-10T18:14:34.000+0000"
        ],
        [
         30088,
         450,
         "2019-12-09T17:50:29.000+0000",
         "2019-12-09T18:19:49.000+0000"
        ],
        [
         33987,
         499,
         "2019-12-11T14:05:23.000+0000",
         "2019-12-11T14:26:21.000+0000"
        ],
        [
         41796,
         2,
         "2019-12-10T17:41:14.000+0000",
         "2019-12-10T18:03:39.000+0000"
        ],
        [
         45875,
         219,
         "2019-12-09T13:56:40.000+0000",
         "2019-12-09T14:03:49.000+0000"
        ],
        [
         43104,
         6,
         "2019-12-10T14:08:28.000+0000",
         "2019-12-10T15:06:10.000+0000"
        ],
        [
         34740,
         326,
         "2019-12-11T19:05:52.000+0000",
         "2019-12-11T20:04:29.000+0000"
        ],
        [
         35226,
         419,
         "2019-12-12T17:57:02.000+0000",
         "2019-12-12T18:54:38.000+0000"
        ]
       ],
       "datasetInfos": [],
       "dbfsResultPath": null,
       "isJsonSchema": true,
       "metadata": {},
       "overflow": false,
       "plotOptions": {
        "customPlotOptions": {},
        "displayType": "table",
        "pivotAggregation": null,
        "pivotColumns": null,
        "xColumns": null,
        "yColumns": null
       },
       "removedWidgets": [],
       "schema": [
        {
         "metadata": "{}",
         "name": "user_id",
         "type": "\"integer\""
        },
        {
         "metadata": "{}",
         "name": "session_id",
         "type": "\"integer\""
        },
        {
         "metadata": "{}",
         "name": "start_time",
         "type": "\"timestamp\""
        },
        {
         "metadata": "{}",
         "name": "end_time",
         "type": "\"timestamp\""
        }
       ],
       "type": "table"
      }
     },
     "output_type": "display_data"
    },
    {
     "output_type": "stream",
     "name": "stdout",
     "output_type": "stream",
     "text": [
      "\nThe table has a total of 520 rows\n\n"
     ]
    }
   ],
   "source": [
    "# Display a sample of the data from the Completed Workouts table\n",
    "display(spark.read.table(\"silver.completed_workouts\").limit(10))\n",
    "\n",
    "# Print total count of rows in the Completed Workouts table\n",
    "print(\"\")\n",
    "print(f\"The table has a total of {spark.table('silver.completed_workouts').count()} rows\")\n",
    "print(\"\")"
   ]
  },
  {
   "cell_type": "markdown",
   "metadata": {
    "application/vnd.databricks.v1+cell": {
     "cellMetadata": {
      "byteLimit": 2048000,
      "rowLimit": 10000
     },
     "inputWidgets": {},
     "nuid": "dc056444-a776-42bc-b4ea-dc78ffb165f0",
     "showTitle": false,
     "title": ""
    }
   },
   "source": [
    "### Reverting Flawed Data\n",
    "<br>\n",
    "With the streaming process yielding consistent results, I'll reset the workout table and proceed with the full sample."
   ]
  },
  {
   "cell_type": "code",
   "execution_count": 0,
   "metadata": {
    "application/vnd.databricks.v1+cell": {
     "cellMetadata": {
      "byteLimit": 2048000,
      "rowLimit": 10000
     },
     "inputWidgets": {},
     "nuid": "59e57f96-65ad-492b-aa70-5c7fc9b32249",
     "showTitle": true,
     "title": "Reprocessing Workouts"
    }
   },
   "outputs": [
    {
     "output_type": "stream",
     "name": "stdout",
     "output_type": "stream",
     "text": [
      "\nThe table has a total of 757 rows\n\n"
     ]
    }
   ],
   "source": [
    "reprocess_workouts()\n",
    "\n",
    "reprocess_completed_workouts()\n",
    "\n",
    "# Print total count of rows in the Completed Workouts table\n",
    "print(\"\")\n",
    "print(f\"The table has a total of {spark.table('silver.completed_workouts').count()} rows\")\n",
    "print(\"\")"
   ]
  },
  {
   "cell_type": "markdown",
   "metadata": {
    "application/vnd.databricks.v1+cell": {
     "cellMetadata": {
      "byteLimit": 2048000,
      "rowLimit": 10000
     },
     "inputWidgets": {},
     "nuid": "6470dbef-a651-4bda-a73c-d031debea94a",
     "showTitle": false,
     "title": ""
    }
   },
   "source": [
    "## Create Gym_report\n",
    "In this section, I'll create the first object in the `Gold` layer: the `gym_report` view. <br>\n",
    "This view will utilize the completed_workouts table along with two other production tables, `gym_logs` and `user_lookup`.<br>\n",
    "The goal is to obtain the time span and number of workouts per user in a given gym.<br>\n",
    "First, let's examine the structure of the other two tables.<br>"
   ]
  },
  {
   "cell_type": "markdown",
   "metadata": {
    "application/vnd.databricks.v1+cell": {
     "cellMetadata": {},
     "inputWidgets": {},
     "nuid": "d015f391-e72c-47b7-900d-0ae1fb2b6322",
     "showTitle": false,
     "title": ""
    }
   },
   "source": [
    "### Evaluate Tables\n",
    "\n",
    "It's crucial to have a clear understanding of the tables to strategize how to apply the given business rules effectively to the data."
   ]
  },
  {
   "cell_type": "code",
   "execution_count": 0,
   "metadata": {
    "application/vnd.databricks.v1+cell": {
     "cellMetadata": {
      "byteLimit": 2048000,
      "rowLimit": 10000
     },
     "inputWidgets": {},
     "nuid": "c86b36b8-7ca4-4aa5-bdf7-fec3ba38d008",
     "showTitle": true,
     "title": "Gym_logs"
    }
   },
   "outputs": [
    {
     "output_type": "display_data",
     "data": {
      "text/html": [
       "<style scoped>\n",
       "  .table-result-container {\n",
       "    max-height: 300px;\n",
       "    overflow: auto;\n",
       "  }\n",
       "  table, th, td {\n",
       "    border: 1px solid black;\n",
       "    border-collapse: collapse;\n",
       "  }\n",
       "  th, td {\n",
       "    padding: 5px;\n",
       "  }\n",
       "  th {\n",
       "    text-align: left;\n",
       "  }\n",
       "</style><div class='table-result-container'><table class='table-result'><thead style='background-color: white'><tr><th>date</th><th>first_timestamp</th><th>gym</th><th>last_timestamp</th><th>mac_address</th></tr></thead><tbody><tr><td>2019-12-01</td><td>2019-12-01T12:15:19.000+0000</td><td>1</td><td>2019-12-01T13:56:19.000+0000</td><td>3c:97:06:9e:63:9c</td></tr><tr><td>2019-12-01</td><td>2019-12-01T09:59:02.000+0000</td><td>2</td><td>2019-12-01T11:36:35.000+0000</td><td>e5:a8:d5:73:cf:33</td></tr><tr><td>2019-12-01</td><td>2019-12-01T17:23:12.000+0000</td><td>2</td><td>2019-12-01T18:41:55.000+0000</td><td>e4:2c:d4:ea:e4:b4</td></tr><tr><td>2019-12-01</td><td>2019-12-01T07:11:36.000+0000</td><td>2</td><td>2019-12-01T09:13:56.000+0000</td><td>54:bf:e4:40:52:b9</td></tr><tr><td>2019-12-01</td><td>2019-12-01T17:27:36.000+0000</td><td>3</td><td>2019-12-01T19:37:45.000+0000</td><td>c3:3e:16:08:f9:47</td></tr><tr><td>2019-12-01</td><td>2019-12-01T17:33:04.000+0000</td><td>3</td><td>2019-12-01T18:42:50.000+0000</td><td>4c:53:51:88:59:ab</td></tr><tr><td>2019-12-01</td><td>2019-12-01T07:14:05.000+0000</td><td>4</td><td>2019-12-01T08:18:10.000+0000</td><td>dd:45:d2:37:a8:0e</td></tr><tr><td>2019-12-01</td><td>2019-12-01T17:27:06.000+0000</td><td>4</td><td>2019-12-01T19:20:54.000+0000</td><td>df:f9:dc:5e:e2:a8</td></tr><tr><td>2019-12-01</td><td>2019-12-01T12:07:11.000+0000</td><td>5</td><td>2019-12-01T13:23:50.000+0000</td><td>a4:eb:49:d9:9b:1d</td></tr><tr><td>2019-12-01</td><td>2019-12-01T09:49:10.000+0000</td><td>5</td><td>2019-12-01T10:38:55.000+0000</td><td>00:6c:6c:53:51:ef</td></tr></tbody></table></div>"
      ]
     },
     "metadata": {
      "application/vnd.databricks.v1+output": {
       "addedWidgets": {},
       "aggData": [],
       "aggError": "",
       "aggOverflow": false,
       "aggSchema": [],
       "aggSeriesLimitReached": false,
       "aggType": "",
       "arguments": {},
       "columnCustomDisplayInfos": {},
       "data": [
        [
         "2019-12-01",
         "2019-12-01T12:15:19.000+0000",
         1,
         "2019-12-01T13:56:19.000+0000",
         "3c:97:06:9e:63:9c"
        ],
        [
         "2019-12-01",
         "2019-12-01T09:59:02.000+0000",
         2,
         "2019-12-01T11:36:35.000+0000",
         "e5:a8:d5:73:cf:33"
        ],
        [
         "2019-12-01",
         "2019-12-01T17:23:12.000+0000",
         2,
         "2019-12-01T18:41:55.000+0000",
         "e4:2c:d4:ea:e4:b4"
        ],
        [
         "2019-12-01",
         "2019-12-01T07:11:36.000+0000",
         2,
         "2019-12-01T09:13:56.000+0000",
         "54:bf:e4:40:52:b9"
        ],
        [
         "2019-12-01",
         "2019-12-01T17:27:36.000+0000",
         3,
         "2019-12-01T19:37:45.000+0000",
         "c3:3e:16:08:f9:47"
        ],
        [
         "2019-12-01",
         "2019-12-01T17:33:04.000+0000",
         3,
         "2019-12-01T18:42:50.000+0000",
         "4c:53:51:88:59:ab"
        ],
        [
         "2019-12-01",
         "2019-12-01T07:14:05.000+0000",
         4,
         "2019-12-01T08:18:10.000+0000",
         "dd:45:d2:37:a8:0e"
        ],
        [
         "2019-12-01",
         "2019-12-01T17:27:06.000+0000",
         4,
         "2019-12-01T19:20:54.000+0000",
         "df:f9:dc:5e:e2:a8"
        ],
        [
         "2019-12-01",
         "2019-12-01T12:07:11.000+0000",
         5,
         "2019-12-01T13:23:50.000+0000",
         "a4:eb:49:d9:9b:1d"
        ],
        [
         "2019-12-01",
         "2019-12-01T09:49:10.000+0000",
         5,
         "2019-12-01T10:38:55.000+0000",
         "00:6c:6c:53:51:ef"
        ]
       ],
       "datasetInfos": [],
       "dbfsResultPath": null,
       "isJsonSchema": true,
       "metadata": {},
       "overflow": false,
       "plotOptions": {
        "customPlotOptions": {},
        "displayType": "table",
        "pivotAggregation": null,
        "pivotColumns": null,
        "xColumns": null,
        "yColumns": null
       },
       "removedWidgets": [],
       "schema": [
        {
         "metadata": "{}",
         "name": "date",
         "type": "\"date\""
        },
        {
         "metadata": "{}",
         "name": "first_timestamp",
         "type": "\"timestamp\""
        },
        {
         "metadata": "{}",
         "name": "gym",
         "type": "\"integer\""
        },
        {
         "metadata": "{}",
         "name": "last_timestamp",
         "type": "\"timestamp\""
        },
        {
         "metadata": "{}",
         "name": "mac_address",
         "type": "\"string\""
        }
       ],
       "type": "table"
      }
     },
     "output_type": "display_data"
    },
    {
     "output_type": "stream",
     "name": "stdout",
     "output_type": "stream",
     "text": [
      "\nThe table has a total of 314 rows\n\n"
     ]
    }
   ],
   "source": [
    "# Clone gym_logs table to Silver schema \n",
    "spark.sql(f\"\"\"\n",
    "CREATE TABLE silver.gym_logs\n",
    "SHALLOW CLONE delta.`{main_path}/gym_logs`\n",
    "LOCATION 'dbfs:/user/hive/warehouse/silver.db/gym_logs'\n",
    "\"\"\")\n",
    "\n",
    "# Obtain the table in a DF and transform the timestamp to YYYY-MM-DD\n",
    "gym_df = (spark.table(\"silver.gym_logs\") \n",
    "               .select(f.col(\"first_timestamp\").cast(\"timestamp\").cast(\"date\").alias(\"date\"),\n",
    "                       f.col(\"first_timestamp\").cast(\"timestamp\"), \n",
    "                       f.col(\"gym\").cast(\"integer\"), \n",
    "                       f.col(\"last_timestamp\").cast(\"timestamp\"), \n",
    "                       f.col(\"mac\").cast(\"string\").alias(\"mac_address\") \n",
    "                       )\n",
    "         )\n",
    "\n",
    "# Display a sample of the DF\n",
    "display(gym_df.limit(10))\n",
    "\n",
    "# Print total count of rows in the gym_df table\n",
    "print(\"\")\n",
    "print(f\"The table has a total of {gym_df.count()} rows\")\n",
    "print(\"\")"
   ]
  },
  {
   "cell_type": "code",
   "execution_count": 0,
   "metadata": {
    "application/vnd.databricks.v1+cell": {
     "cellMetadata": {
      "byteLimit": 2048000,
      "rowLimit": 10000
     },
     "inputWidgets": {},
     "nuid": "23b12afa-d412-457b-bc15-372ab36a2913",
     "showTitle": true,
     "title": "User_lookup"
    }
   },
   "outputs": [
    {
     "output_type": "display_data",
     "data": {
      "text/html": [
       "<style scoped>\n",
       "  .table-result-container {\n",
       "    max-height: 300px;\n",
       "    overflow: auto;\n",
       "  }\n",
       "  table, th, td {\n",
       "    border: 1px solid black;\n",
       "    border-collapse: collapse;\n",
       "  }\n",
       "  th, td {\n",
       "    padding: 5px;\n",
       "  }\n",
       "  th {\n",
       "    text-align: left;\n",
       "  }\n",
       "</style><div class='table-result-container'><table class='table-result'><thead style='background-color: white'><tr><th>alt_id</th><th>device_id</th><th>mac_address</th><th>user_id</th></tr></thead><tbody><tr><td>745c35775cfdf69e9a190c26a173285712c1929c5faa5087ce2855e9043b33f4</td><td>190960</td><td>14:cd:d6:db:70:f6</td><td>11745</td></tr><tr><td>a610459add89c3c6a1de87bf8beaa4aee317564837e8d0247852004197e7d8cc</td><td>141687</td><td>ae:ec:f6:48:ca:f7</td><td>12140</td></tr><tr><td>c3274e338a1da85e0748f6c9c92247e176044770f4e39637a4c4d4b348191fcf</td><td>114131</td><td>57:24:ac:8c:75:ea</td><td>12227</td></tr><tr><td>e6a6387ffbb75e14eb39b138be1e7e9b8a6687e66c36865bf6e234d6688dd517</td><td>118440</td><td>4c:c5:9f:cb:13:bd</td><td>12474</td></tr><tr><td>898fa1b7f7057b1b17bca1342b4341b7d84e228d6d9bb83a7a770c4d487ebc4b</td><td>109290</td><td>36:1f:d9:d3:e8:0d</td><td>13559</td></tr><tr><td>e83442f287db35be0374a66e2253ab5c119417b0e559554291ac2af8f7f5809f</td><td>143442</td><td>dd:96:be:e9:1e:f4</td><td>13937</td></tr><tr><td>71324d786c7f10bd56edf127946a934016c65ff515c47f4d6ea5d233d5cae66a</td><td>172965</td><td>dd:45:d2:37:a8:0e</td><td>14232</td></tr><tr><td>a6f9678bccb4d7e7bc0ba5afbe9ba83c154889506173f51c1d55bc19c115bec6</td><td>102558</td><td>df:f9:dc:5e:e2:a8</td><td>14508</td></tr><tr><td>8bdbabab0376e9bc29748fd75ba8b669e9947dbcb0ee492a32a4d5c1b604321f</td><td>175406</td><td>1d:69:69:75:d0:aa</td><td>14633</td></tr><tr><td>54c9a8be55ad6b77cc376ef3638fc4af1ae1961685edd4cd986a5376c46bc67f</td><td>177966</td><td>de:c0:cd:a7:71:f4</td><td>15149</td></tr></tbody></table></div>"
      ]
     },
     "metadata": {
      "application/vnd.databricks.v1+output": {
       "addedWidgets": {},
       "aggData": [],
       "aggError": "",
       "aggOverflow": false,
       "aggSchema": [],
       "aggSeriesLimitReached": false,
       "aggType": "",
       "arguments": {},
       "columnCustomDisplayInfos": {},
       "data": [
        [
         "745c35775cfdf69e9a190c26a173285712c1929c5faa5087ce2855e9043b33f4",
         190960,
         "14:cd:d6:db:70:f6",
         11745
        ],
        [
         "a610459add89c3c6a1de87bf8beaa4aee317564837e8d0247852004197e7d8cc",
         141687,
         "ae:ec:f6:48:ca:f7",
         12140
        ],
        [
         "c3274e338a1da85e0748f6c9c92247e176044770f4e39637a4c4d4b348191fcf",
         114131,
         "57:24:ac:8c:75:ea",
         12227
        ],
        [
         "e6a6387ffbb75e14eb39b138be1e7e9b8a6687e66c36865bf6e234d6688dd517",
         118440,
         "4c:c5:9f:cb:13:bd",
         12474
        ],
        [
         "898fa1b7f7057b1b17bca1342b4341b7d84e228d6d9bb83a7a770c4d487ebc4b",
         109290,
         "36:1f:d9:d3:e8:0d",
         13559
        ],
        [
         "e83442f287db35be0374a66e2253ab5c119417b0e559554291ac2af8f7f5809f",
         143442,
         "dd:96:be:e9:1e:f4",
         13937
        ],
        [
         "71324d786c7f10bd56edf127946a934016c65ff515c47f4d6ea5d233d5cae66a",
         172965,
         "dd:45:d2:37:a8:0e",
         14232
        ],
        [
         "a6f9678bccb4d7e7bc0ba5afbe9ba83c154889506173f51c1d55bc19c115bec6",
         102558,
         "df:f9:dc:5e:e2:a8",
         14508
        ],
        [
         "8bdbabab0376e9bc29748fd75ba8b669e9947dbcb0ee492a32a4d5c1b604321f",
         175406,
         "1d:69:69:75:d0:aa",
         14633
        ],
        [
         "54c9a8be55ad6b77cc376ef3638fc4af1ae1961685edd4cd986a5376c46bc67f",
         177966,
         "de:c0:cd:a7:71:f4",
         15149
        ]
       ],
       "datasetInfos": [],
       "dbfsResultPath": null,
       "isJsonSchema": true,
       "metadata": {},
       "overflow": false,
       "plotOptions": {
        "customPlotOptions": {},
        "displayType": "table",
        "pivotAggregation": null,
        "pivotColumns": null,
        "xColumns": null,
        "yColumns": null
       },
       "removedWidgets": [],
       "schema": [
        {
         "metadata": "{}",
         "name": "alt_id",
         "type": "\"string\""
        },
        {
         "metadata": "{}",
         "name": "device_id",
         "type": "\"integer\""
        },
        {
         "metadata": "{}",
         "name": "mac_address",
         "type": "\"string\""
        },
        {
         "metadata": "{}",
         "name": "user_id",
         "type": "\"integer\""
        }
       ],
       "type": "table"
      }
     },
     "output_type": "display_data"
    },
    {
     "output_type": "stream",
     "name": "stdout",
     "output_type": "stream",
     "text": [
      "\nThe table has a total of 314 rows\n\n"
     ]
    }
   ],
   "source": [
    "# Clone user_lookup table to Silver schema \n",
    "spark.sql(f\"\"\"\n",
    "CREATE TABLE IF NOT EXISTS silver.user_lookup\n",
    "SHALLOW CLONE delta.`{main_path}/user-lookup`\n",
    "LOCATION 'dbfs:/user/hive/warehouse/silver.db/user_lookup'\n",
    "\"\"\")\n",
    "\n",
    "# Obtain the table in a DF and encrypted the user_id renaming to alt_id\n",
    "user_lookup_df = (spark.table(\"silver.user_lookup\") \\\n",
    "                       .withColumn(\"alt_id\", f.sha2(f.concat(f.col(\"user_id\"),f.lit('BEANS')), 256))\\\n",
    "                       .select(f.col(\"alt_id\").cast(\"string\"), \\\n",
    "                               f.col(\"device_id\").cast(\"integer\"), \\\n",
    "                               f.col(\"mac_address\").cast(\"string\"), \\\n",
    "                               f.col(\"user_id\").cast(\"integer\") \\\n",
    "                              )\n",
    "                 )\n",
    "\n",
    "# Dispay a sample of the DF\n",
    "display(user_lookup_df.limit(10))\n",
    "\n",
    "# Print total count of rows in the user_lookup_df table\n",
    "print(\"\")\n",
    "print(f\"The table has a total of {gym_df.count()} rows\")\n",
    "print(\"\")"
   ]
  },
  {
   "cell_type": "markdown",
   "metadata": {
    "application/vnd.databricks.v1+cell": {
     "cellMetadata": {
      "byteLimit": 2048000,
      "rowLimit": 10000
     },
     "inputWidgets": {},
     "nuid": "121d7481-f6d5-421b-b053-27efcb3cc710",
     "showTitle": false,
     "title": ""
    }
   },
   "source": [
    "The `user_lookup` table links all possible IDs a user may have, with `alt_id` being a topic I'll explore later.<br>\n",
    "The `gym_logs` table records every workout done in a given gym, splited by `mac_address`.<br>\n",
    "By using the `user_lookup` table to link the `user_id` from the `completed_workouts` table with the `mac_address` from `gym_logs`, the gym_report table will be created.<br>"
   ]
  },
  {
   "cell_type": "markdown",
   "metadata": {
    "application/vnd.databricks.v1+cell": {
     "cellMetadata": {
      "byteLimit": 2048000,
      "rowLimit": 10000
     },
     "inputWidgets": {},
     "nuid": "ee79ad56-b007-47ec-8e6a-6a01f841ce61",
     "showTitle": false,
     "title": ""
    }
   },
   "source": [
    "### Begin Trasformation\n",
    "\n",
    "To account for individuals working out multiple times a day, I need to transform the `completed_workouts` table from \"every workout per person\" to \"all workouts per day per person.\" I’ll achieve this by:\n",
    "\n",
    "- Grouping by the `user_id` and the `start_time` column, transformed to YYYY-MM-DD.\n",
    "- Collecting the workouts (`session_id`) performed (using collect_list for possible duplicated records).\n",
    "- Identifying when the user first went to the gym that day.\n",
    "- Determining the last time the user was at the gym that day.\n"
   ]
  },
  {
   "cell_type": "code",
   "execution_count": 0,
   "metadata": {
    "application/vnd.databricks.v1+cell": {
     "cellMetadata": {
      "byteLimit": 2048000,
      "rowLimit": 10000
     },
     "inputWidgets": {},
     "nuid": "c74f24c6-3e6c-44ad-b9d7-0abb75ce5543",
     "showTitle": true,
     "title": "First Step"
    }
   },
   "outputs": [
    {
     "output_type": "display_data",
     "data": {
      "text/html": [
       "<style scoped>\n",
       "  .table-result-container {\n",
       "    max-height: 300px;\n",
       "    overflow: auto;\n",
       "  }\n",
       "  table, th, td {\n",
       "    border: 1px solid black;\n",
       "    border-collapse: collapse;\n",
       "  }\n",
       "  th, td {\n",
       "    padding: 5px;\n",
       "  }\n",
       "  th {\n",
       "    text-align: left;\n",
       "  }\n",
       "</style><div class='table-result-container'><table class='table-result'><thead style='background-color: white'><tr><th>user_id</th><th>date</th><th>workouts</th><th>start_workout</th><th>end_workout</th></tr></thead><tbody><tr><td>11745</td><td>2019-12-10</td><td>List(1)</td><td>2019-12-10T07:25:12.000+0000</td><td>2019-12-10T08:20:39.000+0000</td></tr><tr><td>11745</td><td>2019-12-13</td><td>List(2)</td><td>2019-12-13T13:51:49.000+0000</td><td>2019-12-13T15:00:10.000+0000</td></tr><tr><td>12140</td><td>2019-12-05</td><td>List(477, 478)</td><td>2019-12-05T07:52:09.000+0000</td><td>2019-12-05T09:17:19.000+0000</td></tr><tr><td>12140</td><td>2019-12-12</td><td>List(479)</td><td>2019-12-12T07:15:44.000+0000</td><td>2019-12-12T07:48:50.000+0000</td></tr><tr><td>12227</td><td>2019-12-11</td><td>List(1, 2)</td><td>2019-12-11T17:16:57.000+0000</td><td>2019-12-11T18:48:10.000+0000</td></tr><tr><td>12227</td><td>2019-12-13</td><td>List(3)</td><td>2019-12-13T12:28:41.000+0000</td><td>2019-12-13T13:23:31.000+0000</td></tr><tr><td>12227</td><td>2019-12-15</td><td>List(5, 4)</td><td>2019-12-15T07:30:29.000+0000</td><td>2019-12-15T08:10:38.000+0000</td></tr><tr><td>12474</td><td>2019-12-01</td><td>List(1, 2)</td><td>2019-12-01T17:28:22.000+0000</td><td>2019-12-01T18:44:00.000+0000</td></tr><tr><td>12474</td><td>2019-12-02</td><td>List(3)</td><td>2019-12-02T07:39:36.000+0000</td><td>2019-12-02T08:16:03.000+0000</td></tr><tr><td>12474</td><td>2019-12-03</td><td>List(5, 4)</td><td>2019-12-03T07:20:53.000+0000</td><td>2019-12-03T08:14:24.000+0000</td></tr><tr><td>12474</td><td>2019-12-07</td><td>List(6, 7)</td><td>2019-12-07T07:23:24.000+0000</td><td>2019-12-07T08:58:47.000+0000</td></tr><tr><td>12474</td><td>2019-12-08</td><td>List(9, 8)</td><td>2019-12-08T17:49:38.000+0000</td><td>2019-12-08T19:13:08.000+0000</td></tr><tr><td>12474</td><td>2019-12-09</td><td>List(12, 10, 11)</td><td>2019-12-09T06:50:32.000+0000</td><td>2019-12-09T08:45:25.000+0000</td></tr><tr><td>12474</td><td>2019-12-10</td><td>List(13, 14)</td><td>2019-12-10T07:13:03.000+0000</td><td>2019-12-10T09:16:58.000+0000</td></tr><tr><td>12474</td><td>2019-12-14</td><td>List(15)</td><td>2019-12-14T07:05:08.000+0000</td><td>2019-12-14T08:13:56.000+0000</td></tr><tr><td>12474</td><td>2019-12-15</td><td>List(16, 17)</td><td>2019-12-15T17:45:58.000+0000</td><td>2019-12-15T19:37:21.000+0000</td></tr><tr><td>12474</td><td>2019-12-16</td><td>List(19, 18)</td><td>2019-12-16T07:44:51.000+0000</td><td>2019-12-16T09:02:08.000+0000</td></tr><tr><td>13559</td><td>2019-12-03</td><td>List(416, 417)</td><td>2019-12-03T19:05:17.000+0000</td><td>2019-12-03T20:40:34.000+0000</td></tr><tr><td>13559</td><td>2019-12-10</td><td>List(418)</td><td>2019-12-10T19:27:26.000+0000</td><td>2019-12-10T20:41:32.000+0000</td></tr><tr><td>13937</td><td>2019-12-05</td><td>List(1)</td><td>2019-12-05T18:38:00.000+0000</td><td>2019-12-05T19:32:38.000+0000</td></tr><tr><td>13937</td><td>2019-12-08</td><td>List(2, 3)</td><td>2019-12-08T14:09:43.000+0000</td><td>2019-12-08T15:24:23.000+0000</td></tr><tr><td>13937</td><td>2019-12-09</td><td>List(5, 4)</td><td>2019-12-09T18:51:39.000+0000</td><td>2019-12-09T20:11:41.000+0000</td></tr><tr><td>13937</td><td>2019-12-12</td><td>List(6)</td><td>2019-12-12T18:43:46.000+0000</td><td>2019-12-12T19:42:52.000+0000</td></tr><tr><td>13937</td><td>2019-12-15</td><td>List(7, 8)</td><td>2019-12-15T14:01:08.000+0000</td><td>2019-12-15T16:00:33.000+0000</td></tr><tr><td>14232</td><td>2019-12-01</td><td>List(473)</td><td>2019-12-01T07:17:02.000+0000</td><td>2019-12-01T08:15:11.000+0000</td></tr><tr><td>14232</td><td>2019-12-02</td><td>List(474)</td><td>2019-12-02T07:30:08.000+0000</td><td>2019-12-02T08:35:43.000+0000</td></tr><tr><td>14232</td><td>2019-12-03</td><td>List(476, 475)</td><td>2019-12-03T07:25:43.000+0000</td><td>2019-12-03T08:17:44.000+0000</td></tr><tr><td>14232</td><td>2019-12-04</td><td>List(477)</td><td>2019-12-04T07:14:02.000+0000</td><td>2019-12-04T08:09:49.000+0000</td></tr><tr><td>14232</td><td>2019-12-05</td><td>List(478)</td><td>2019-12-05T17:22:46.000+0000</td><td>2019-12-05T18:51:20.000+0000</td></tr><tr><td>14232</td><td>2019-12-06</td><td>List(479)</td><td>2019-12-06T17:40:04.000+0000</td><td>2019-12-06T18:38:09.000+0000</td></tr><tr><td>14232</td><td>2019-12-07</td><td>List(481, 480)</td><td>2019-12-07T07:38:04.000+0000</td><td>2019-12-07T08:39:57.000+0000</td></tr><tr><td>14232</td><td>2019-12-08</td><td>List(482, 483)</td><td>2019-12-08T07:47:26.000+0000</td><td>2019-12-08T09:54:48.000+0000</td></tr><tr><td>14232</td><td>2019-12-09</td><td>List(484)</td><td>2019-12-09T07:35:26.000+0000</td><td>2019-12-09T09:00:24.000+0000</td></tr><tr><td>14232</td><td>2019-12-10</td><td>List(485, 486)</td><td>2019-12-10T07:39:30.000+0000</td><td>2019-12-10T09:06:06.000+0000</td></tr><tr><td>14232</td><td>2019-12-11</td><td>List(488, 487)</td><td>2019-12-11T07:26:38.000+0000</td><td>2019-12-11T08:08:57.000+0000</td></tr><tr><td>14232</td><td>2019-12-12</td><td>List(489)</td><td>2019-12-12T17:29:29.000+0000</td><td>2019-12-12T18:23:32.000+0000</td></tr><tr><td>14232</td><td>2019-12-13</td><td>List(491, 490)</td><td>2019-12-13T17:19:04.000+0000</td><td>2019-12-13T18:47:47.000+0000</td></tr><tr><td>14232</td><td>2019-12-14</td><td>List(492, 493)</td><td>2019-12-14T07:49:48.000+0000</td><td>2019-12-14T09:15:30.000+0000</td></tr><tr><td>14232</td><td>2019-12-15</td><td>List(494, 495)</td><td>2019-12-15T07:39:13.000+0000</td><td>2019-12-15T08:57:52.000+0000</td></tr><tr><td>14232</td><td>2019-12-16</td><td>List(496)</td><td>2019-12-16T07:09:16.000+0000</td><td>2019-12-16T07:57:08.000+0000</td></tr><tr><td>14508</td><td>2019-12-01</td><td>List(391, 392)</td><td>2019-12-01T17:31:31.000+0000</td><td>2019-12-01T19:12:47.000+0000</td></tr><tr><td>14508</td><td>2019-12-02</td><td>List(393)</td><td>2019-12-02T12:23:54.000+0000</td><td>2019-12-02T12:55:30.000+0000</td></tr><tr><td>14508</td><td>2019-12-03</td><td>List(394, 395, 396)</td><td>2019-12-03T17:21:34.000+0000</td><td>2019-12-03T18:28:03.000+0000</td></tr><tr><td>14508</td><td>2019-12-04</td><td>List(397, 398, 399, 400)</td><td>2019-12-04T07:11:49.000+0000</td><td>2019-12-04T08:49:05.000+0000</td></tr><tr><td>14508</td><td>2019-12-05</td><td>List(401, 402)</td><td>2019-12-05T14:07:24.000+0000</td><td>2019-12-05T15:33:20.000+0000</td></tr><tr><td>14508</td><td>2019-12-06</td><td>List(403)</td><td>2019-12-06T11:59:58.000+0000</td><td>2019-12-06T12:29:58.000+0000</td></tr><tr><td>14508</td><td>2019-12-07</td><td>List(404)</td><td>2019-12-07T12:21:36.000+0000</td><td>2019-12-07T12:52:57.000+0000</td></tr><tr><td>14508</td><td>2019-12-08</td><td>List(405, 406)</td><td>2019-12-08T17:39:14.000+0000</td><td>2019-12-08T19:03:05.000+0000</td></tr><tr><td>14508</td><td>2019-12-09</td><td>List(407, 408)</td><td>2019-12-09T12:12:44.000+0000</td><td>2019-12-09T13:40:59.000+0000</td></tr><tr><td>14508</td><td>2019-12-10</td><td>List(409)</td><td>2019-12-10T17:40:29.000+0000</td><td>2019-12-10T18:37:09.000+0000</td></tr><tr><td>14508</td><td>2019-12-11</td><td>List(410)</td><td>2019-12-11T07:09:46.000+0000</td><td>2019-12-11T07:36:31.000+0000</td></tr><tr><td>14508</td><td>2019-12-12</td><td>List(411)</td><td>2019-12-12T14:12:44.000+0000</td><td>2019-12-12T15:13:21.000+0000</td></tr><tr><td>14508</td><td>2019-12-13</td><td>List(412)</td><td>2019-12-13T12:47:47.000+0000</td><td>2019-12-13T14:10:20.000+0000</td></tr><tr><td>14508</td><td>2019-12-14</td><td>List(413)</td><td>2019-12-14T12:13:48.000+0000</td><td>2019-12-14T13:16:56.000+0000</td></tr><tr><td>14508</td><td>2019-12-15</td><td>List(414, 415)</td><td>2019-12-15T18:06:59.000+0000</td><td>2019-12-15T19:32:35.000+0000</td></tr><tr><td>14508</td><td>2019-12-16</td><td>List(416, 417)</td><td>2019-12-16T12:18:44.000+0000</td><td>2019-12-16T13:36:30.000+0000</td></tr><tr><td>14633</td><td>2019-12-16</td><td>List(1)</td><td>2019-12-16T14:02:57.000+0000</td><td>2019-12-16T14:55:28.000+0000</td></tr><tr><td>15149</td><td>2019-12-03</td><td>List(296, 295)</td><td>2019-12-03T17:39:09.000+0000</td><td>2019-12-03T19:38:10.000+0000</td></tr><tr><td>15149</td><td>2019-12-10</td><td>List(297)</td><td>2019-12-10T17:17:06.000+0000</td><td>2019-12-10T18:26:57.000+0000</td></tr><tr><td>16093</td><td>2019-12-01</td><td>List(492)</td><td>2019-12-01T17:38:03.000+0000</td><td>2019-12-01T18:40:13.000+0000</td></tr><tr><td>16093</td><td>2019-12-02</td><td>List(494, 493)</td><td>2019-12-02T14:01:04.000+0000</td><td>2019-12-02T16:19:52.000+0000</td></tr><tr><td>16093</td><td>2019-12-03</td><td>List(495)</td><td>2019-12-03T09:41:10.000+0000</td><td>2019-12-03T10:43:13.000+0000</td></tr><tr><td>16093</td><td>2019-12-04</td><td>List(496, 497)</td><td>2019-12-04T12:16:43.000+0000</td><td>2019-12-04T13:39:12.000+0000</td></tr><tr><td>16093</td><td>2019-12-07</td><td>List(499, 498)</td><td>2019-12-07T17:51:40.000+0000</td><td>2019-12-07T19:29:22.000+0000</td></tr><tr><td>16093</td><td>2019-12-08</td><td>List(500, 501)</td><td>2019-12-08T17:59:54.000+0000</td><td>2019-12-08T19:58:29.000+0000</td></tr><tr><td>16093</td><td>2019-12-09</td><td>List(502)</td><td>2019-12-09T13:43:36.000+0000</td><td>2019-12-09T14:41:36.000+0000</td></tr><tr><td>16093</td><td>2019-12-10</td><td>List(503, 504)</td><td>2019-12-10T09:57:15.000+0000</td><td>2019-12-10T11:49:54.000+0000</td></tr><tr><td>16093</td><td>2019-12-11</td><td>List(505)</td><td>2019-12-11T12:32:48.000+0000</td><td>2019-12-11T13:12:09.000+0000</td></tr><tr><td>16093</td><td>2019-12-14</td><td>List(506)</td><td>2019-12-14T17:36:08.000+0000</td><td>2019-12-14T18:49:44.000+0000</td></tr><tr><td>16093</td><td>2019-12-15</td><td>List(507)</td><td>2019-12-15T17:30:22.000+0000</td><td>2019-12-15T18:28:24.000+0000</td></tr><tr><td>16093</td><td>2019-12-16</td><td>List(508)</td><td>2019-12-16T14:18:03.000+0000</td><td>2019-12-16T15:03:48.000+0000</td></tr><tr><td>16819</td><td>2019-12-03</td><td>List(1, 2)</td><td>2019-12-03T17:24:50.000+0000</td><td>2019-12-03T18:41:44.000+0000</td></tr><tr><td>16819</td><td>2019-12-10</td><td>List(3, 4)</td><td>2019-12-10T17:35:54.000+0000</td><td>2019-12-10T19:23:14.000+0000</td></tr><tr><td>17807</td><td>2019-12-11</td><td>List(1, 2)</td><td>2019-12-11T07:25:35.000+0000</td><td>2019-12-11T08:09:47.000+0000</td></tr><tr><td>17807</td><td>2019-12-12</td><td>List(3, 4)</td><td>2019-12-12T14:19:25.000+0000</td><td>2019-12-12T15:45:39.000+0000</td></tr><tr><td>17807</td><td>2019-12-13</td><td>List(5)</td><td>2019-12-13T13:37:34.000+0000</td><td>2019-12-13T14:21:23.000+0000</td></tr><tr><td>17807</td><td>2019-12-14</td><td>List(6, 7)</td><td>2019-12-14T12:21:25.000+0000</td><td>2019-12-14T13:38:35.000+0000</td></tr><tr><td>17807</td><td>2019-12-15</td><td>List(8)</td><td>2019-12-15T12:06:08.000+0000</td><td>2019-12-15T13:53:04.000+0000</td></tr><tr><td>18587</td><td>2019-12-07</td><td>List(1, 2, 3)</td><td>2019-12-07T07:30:45.000+0000</td><td>2019-12-07T09:04:04.000+0000</td></tr><tr><td>18587</td><td>2019-12-14</td><td>List(5, 4)</td><td>2019-12-14T07:48:03.000+0000</td><td>2019-12-14T09:26:51.000+0000</td></tr><tr><td>19005</td><td>2019-12-05</td><td>List(1)</td><td>2019-12-05T14:07:47.000+0000</td><td>2019-12-05T15:05:30.000+0000</td></tr><tr><td>19005</td><td>2019-12-12</td><td>List(2)</td><td>2019-12-12T13:58:42.000+0000</td><td>2019-12-12T14:44:01.000+0000</td></tr><tr><td>19103</td><td>2019-12-15</td><td>List(1)</td><td>2019-12-15T17:39:34.000+0000</td><td>2019-12-15T18:33:47.000+0000</td></tr><tr><td>19103</td><td>2019-12-16</td><td>List(2, 3)</td><td>2019-12-16T09:56:40.000+0000</td><td>2019-12-16T11:02:39.000+0000</td></tr><tr><td>19150</td><td>2019-12-13</td><td>List(1)</td><td>2019-12-13T12:27:11.000+0000</td><td>2019-12-13T13:31:03.000+0000</td></tr><tr><td>19150</td><td>2019-12-14</td><td>List(2)</td><td>2019-12-14T14:15:12.000+0000</td><td>2019-12-14T15:23:50.000+0000</td></tr><tr><td>19198</td><td>2019-12-02</td><td>List(407, 406)</td><td>2019-12-02T14:05:59.000+0000</td><td>2019-12-02T15:20:22.000+0000</td></tr><tr><td>19198</td><td>2019-12-09</td><td>List(408)</td><td>2019-12-09T13:53:49.000+0000</td><td>2019-12-09T14:52:03.000+0000</td></tr><tr><td>19622</td><td>2019-12-15</td><td>List(1, 2)</td><td>2019-12-15T07:27:33.000+0000</td><td>2019-12-15T08:27:51.000+0000</td></tr><tr><td>19787</td><td>2019-12-11</td><td>List(1)</td><td>2019-12-11T18:04:53.000+0000</td><td>2019-12-11T19:10:17.000+0000</td></tr><tr><td>19787</td><td>2019-12-12</td><td>List(2, 3)</td><td>2019-12-12T17:50:05.000+0000</td><td>2019-12-12T19:33:59.000+0000</td></tr><tr><td>19787</td><td>2019-12-13</td><td>List(4)</td><td>2019-12-13T12:31:25.000+0000</td><td>2019-12-13T13:28:44.000+0000</td></tr><tr><td>19787</td><td>2019-12-16</td><td>List(5, 6)</td><td>2019-12-16T07:30:13.000+0000</td><td>2019-12-16T08:44:23.000+0000</td></tr><tr><td>19859</td><td>2019-12-03</td><td>List(212, 213, 214)</td><td>2019-12-03T13:59:40.000+0000</td><td>2019-12-03T15:25:47.000+0000</td></tr><tr><td>19859</td><td>2019-12-04</td><td>List(215, 216)</td><td>2019-12-04T17:17:03.000+0000</td><td>2019-12-04T18:58:50.000+0000</td></tr><tr><td>19859</td><td>2019-12-06</td><td>List(217, 218)</td><td>2019-12-06T19:13:00.000+0000</td><td>2019-12-06T20:39:46.000+0000</td></tr><tr><td>19859</td><td>2019-12-07</td><td>List(219)</td><td>2019-12-07T07:05:14.000+0000</td><td>2019-12-07T08:02:41.000+0000</td></tr><tr><td>19859</td><td>2019-12-10</td><td>List(220, 221)</td><td>2019-12-10T13:57:33.000+0000</td><td>2019-12-10T15:32:36.000+0000</td></tr><tr><td>19859</td><td>2019-12-11</td><td>List(222, 223)</td><td>2019-12-11T17:51:36.000+0000</td><td>2019-12-11T19:40:06.000+0000</td></tr><tr><td>19859</td><td>2019-12-13</td><td>List(224)</td><td>2019-12-13T19:05:08.000+0000</td><td>2019-12-13T19:48:09.000+0000</td></tr><tr><td>19859</td><td>2019-12-14</td><td>List(225)</td><td>2019-12-14T07:23:48.000+0000</td><td>2019-12-14T08:24:11.000+0000</td></tr><tr><td>20217</td><td>2019-12-13</td><td>List(1)</td><td>2019-12-13T14:15:03.000+0000</td><td>2019-12-13T15:54:54.000+0000</td></tr><tr><td>20217</td><td>2019-12-14</td><td>List(2, 3)</td><td>2019-12-14T09:44:51.000+0000</td><td>2019-12-14T11:12:30.000+0000</td></tr><tr><td>20496</td><td>2019-12-03</td><td>List(1)</td><td>2019-12-03T13:59:57.000+0000</td><td>2019-12-03T14:57:31.000+0000</td></tr><tr><td>20496</td><td>2019-12-04</td><td>List(2, 3)</td><td>2019-12-04T17:24:54.000+0000</td><td>2019-12-04T18:24:24.000+0000</td></tr><tr><td>20496</td><td>2019-12-10</td><td>List(4)</td><td>2019-12-10T14:25:20.000+0000</td><td>2019-12-10T15:11:41.000+0000</td></tr><tr><td>20496</td><td>2019-12-11</td><td>List(5, 6)</td><td>2019-12-11T17:54:18.000+0000</td><td>2019-12-11T19:30:10.000+0000</td></tr><tr><td>22480</td><td>2019-12-12</td><td>List(1)</td><td>2019-12-12T13:43:51.000+0000</td><td>2019-12-12T14:36:20.000+0000</td></tr><tr><td>22480</td><td>2019-12-13</td><td>List(2)</td><td>2019-12-13T17:35:34.000+0000</td><td>2019-12-13T18:17:21.000+0000</td></tr><tr><td>22480</td><td>2019-12-14</td><td>List(3, 4)</td><td>2019-12-14T12:10:48.000+0000</td><td>2019-12-14T13:35:58.000+0000</td></tr><tr><td>22501</td><td>2019-12-13</td><td>List(1)</td><td>2019-12-13T14:07:08.000+0000</td><td>2019-12-13T15:23:26.000+0000</td></tr><tr><td>23250</td><td>2019-12-01</td><td>List(452)</td><td>2019-12-01T07:31:36.000+0000</td><td>2019-12-01T08:02:27.000+0000</td></tr><tr><td>23250</td><td>2019-12-08</td><td>List(453, 454)</td><td>2019-12-08T07:23:24.000+0000</td><td>2019-12-08T08:54:54.000+0000</td></tr><tr><td>23250</td><td>2019-12-15</td><td>List(455, 456, 457)</td><td>2019-12-15T07:13:11.000+0000</td><td>2019-12-15T09:20:00.000+0000</td></tr><tr><td>23767</td><td>2019-12-08</td><td>List(1, 2)</td><td>2019-12-08T07:36:01.000+0000</td><td>2019-12-08T09:17:17.000+0000</td></tr><tr><td>23767</td><td>2019-12-15</td><td>List(3, 4)</td><td>2019-12-15T07:12:36.000+0000</td><td>2019-12-15T08:11:10.000+0000</td></tr><tr><td>23916</td><td>2019-12-05</td><td>List(1)</td><td>2019-12-05T12:37:00.000+0000</td><td>2019-12-05T13:57:54.000+0000</td></tr><tr><td>23916</td><td>2019-12-06</td><td>List(2, 3)</td><td>2019-12-06T12:14:16.000+0000</td><td>2019-12-06T13:59:16.000+0000</td></tr><tr><td>23916</td><td>2019-12-07</td><td>List(4)</td><td>2019-12-07T17:22:14.000+0000</td><td>2019-12-07T18:15:33.000+0000</td></tr><tr><td>23916</td><td>2019-12-10</td><td>List(5, 6)</td><td>2019-12-10T13:56:50.000+0000</td><td>2019-12-10T15:27:06.000+0000</td></tr><tr><td>23916</td><td>2019-12-12</td><td>List(7)</td><td>2019-12-12T12:49:29.000+0000</td><td>2019-12-12T13:47:00.000+0000</td></tr><tr><td>23916</td><td>2019-12-13</td><td>List(9, 10, 8)</td><td>2019-12-13T11:56:55.000+0000</td><td>2019-12-13T13:40:04.000+0000</td></tr><tr><td>23916</td><td>2019-12-14</td><td>List(11)</td><td>2019-12-14T17:03:56.000+0000</td><td>2019-12-14T17:49:42.000+0000</td></tr><tr><td>24018</td><td>2019-12-01</td><td>List(147, 148)</td><td>2019-12-01T06:57:06.000+0000</td><td>2019-12-01T08:14:39.000+0000</td></tr><tr><td>24018</td><td>2019-12-03</td><td>List(150, 149)</td><td>2019-12-03T09:58:34.000+0000</td><td>2019-12-03T11:11:33.000+0000</td></tr><tr><td>24018</td><td>2019-12-04</td><td>List(151)</td><td>2019-12-04T18:53:28.000+0000</td><td>2019-12-04T19:55:48.000+0000</td></tr><tr><td>24018</td><td>2019-12-05</td><td>List(153, 154, 152)</td><td>2019-12-05T07:19:42.000+0000</td><td>2019-12-05T09:19:32.000+0000</td></tr><tr><td>24018</td><td>2019-12-06</td><td>List(155)</td><td>2019-12-06T18:45:55.000+0000</td><td>2019-12-06T19:30:05.000+0000</td></tr><tr><td>24018</td><td>2019-12-07</td><td>List(156)</td><td>2019-12-07T14:16:12.000+0000</td><td>2019-12-07T14:56:04.000+0000</td></tr><tr><td>24018</td><td>2019-12-08</td><td>List(157)</td><td>2019-12-08T07:28:10.000+0000</td><td>2019-12-08T08:40:09.000+0000</td></tr><tr><td>24018</td><td>2019-12-10</td><td>List(158, 159)</td><td>2019-12-10T10:10:21.000+0000</td><td>2019-12-10T11:22:04.000+0000</td></tr><tr><td>24018</td><td>2019-12-11</td><td>List(160)</td><td>2019-12-11T19:15:37.000+0000</td><td>2019-12-11T20:30:29.000+0000</td></tr><tr><td>24018</td><td>2019-12-12</td><td>List(161, 162)</td><td>2019-12-12T07:17:50.000+0000</td><td>2019-12-12T07:59:25.000+0000</td></tr><tr><td>24018</td><td>2019-12-13</td><td>List(165, 163, 164)</td><td>2019-12-13T19:23:37.000+0000</td><td>2019-12-13T21:14:59.000+0000</td></tr><tr><td>24018</td><td>2019-12-14</td><td>List(166)</td><td>2019-12-14T14:37:52.000+0000</td><td>2019-12-14T15:41:31.000+0000</td></tr><tr><td>24018</td><td>2019-12-15</td><td>List(168, 169, 167)</td><td>2019-12-15T07:28:30.000+0000</td><td>2019-12-15T09:05:55.000+0000</td></tr><tr><td>24863</td><td>2019-12-02</td><td>List(1, 2)</td><td>2019-12-02T14:10:41.000+0000</td><td>2019-12-02T15:07:14.000+0000</td></tr><tr><td>24863</td><td>2019-12-09</td><td>List(3)</td><td>2019-12-09T13:37:14.000+0000</td><td>2019-12-09T14:48:25.000+0000</td></tr><tr><td>24863</td><td>2019-12-16</td><td>List(5, 4)</td><td>2019-12-16T14:25:12.000+0000</td><td>2019-12-16T15:56:26.000+0000</td></tr><tr><td>24968</td><td>2019-12-08</td><td>List(1)</td><td>2019-12-08T17:26:59.000+0000</td><td>2019-12-08T18:08:02.000+0000</td></tr><tr><td>24968</td><td>2019-12-09</td><td>List(2)</td><td>2019-12-09T17:16:15.000+0000</td><td>2019-12-09T17:51:37.000+0000</td></tr><tr><td>24968</td><td>2019-12-14</td><td>List(3)</td><td>2019-12-14T14:04:06.000+0000</td><td>2019-12-14T14:34:26.000+0000</td></tr><tr><td>24968</td><td>2019-12-15</td><td>List(4)</td><td>2019-12-15T17:47:08.000+0000</td><td>2019-12-15T18:43:47.000+0000</td></tr><tr><td>25143</td><td>2019-12-13</td><td>List(1)</td><td>2019-12-13T17:41:35.000+0000</td><td>2019-12-13T18:24:44.000+0000</td></tr><tr><td>25143</td><td>2019-12-14</td><td>List(2, 3)</td><td>2019-12-14T07:28:28.000+0000</td><td>2019-12-14T08:43:23.000+0000</td></tr><tr><td>25143</td><td>2019-12-15</td><td>List(5, 4)</td><td>2019-12-15T09:57:30.000+0000</td><td>2019-12-15T11:39:46.000+0000</td></tr><tr><td>25143</td><td>2019-12-16</td><td>List(6, 7)</td><td>2019-12-16T12:22:25.000+0000</td><td>2019-12-16T13:39:50.000+0000</td></tr><tr><td>25477</td><td>2019-12-06</td><td>List(1, 2, 3)</td><td>2019-12-06T12:17:06.000+0000</td><td>2019-12-06T14:13:39.000+0000</td></tr><tr><td>25477</td><td>2019-12-08</td><td>List(4)</td><td>2019-12-08T17:33:42.000+0000</td><td>2019-12-08T18:35:22.000+0000</td></tr><tr><td>25477</td><td>2019-12-09</td><td>List(5)</td><td>2019-12-09T07:39:13.000+0000</td><td>2019-12-09T08:40:06.000+0000</td></tr><tr><td>25477</td><td>2019-12-13</td><td>List(6, 7)</td><td>2019-12-13T12:28:01.000+0000</td><td>2019-12-13T14:03:15.000+0000</td></tr><tr><td>25477</td><td>2019-12-15</td><td>List(8)</td><td>2019-12-15T17:22:57.000+0000</td><td>2019-12-15T17:55:05.000+0000</td></tr><tr><td>25477</td><td>2019-12-16</td><td>List(9)</td><td>2019-12-16T06:56:16.000+0000</td><td>2019-12-16T07:46:18.000+0000</td></tr><tr><td>26285</td><td>2019-12-01</td><td>List(71)</td><td>2019-12-01T18:03:43.000+0000</td><td>2019-12-01T18:39:43.000+0000</td></tr><tr><td>26285</td><td>2019-12-02</td><td>List(72, 73)</td><td>2019-12-02T14:13:24.000+0000</td><td>2019-12-02T15:57:26.000+0000</td></tr><tr><td>26285</td><td>2019-12-03</td><td>List(74, 75)</td><td>2019-12-03T09:54:16.000+0000</td><td>2019-12-03T11:24:09.000+0000</td></tr><tr><td>26285</td><td>2019-12-04</td><td>List(76)</td><td>2019-12-04T07:37:05.000+0000</td><td>2019-12-04T08:27:18.000+0000</td></tr><tr><td>26285</td><td>2019-12-05</td><td>List(77)</td><td>2019-12-05T14:18:42.000+0000</td><td>2019-12-05T15:18:35.000+0000</td></tr><tr><td>26285</td><td>2019-12-06</td><td>List(78)</td><td>2019-12-06T19:33:09.000+0000</td><td>2019-12-06T20:50:20.000+0000</td></tr><tr><td>26285</td><td>2019-12-07</td><td>List(79)</td><td>2019-12-07T14:08:59.000+0000</td><td>2019-12-07T15:12:16.000+0000</td></tr><tr><td>26285</td><td>2019-12-08</td><td>List(81, 80)</td><td>2019-12-08T17:21:08.000+0000</td><td>2019-12-08T18:51:47.000+0000</td></tr><tr><td>26285</td><td>2019-12-09</td><td>List(82)</td><td>2019-12-09T13:55:55.000+0000</td><td>2019-12-09T15:07:03.000+0000</td></tr><tr><td>26285</td><td>2019-12-10</td><td>List(84, 83)</td><td>2019-12-10T09:30:30.000+0000</td><td>2019-12-10T10:33:28.000+0000</td></tr><tr><td>26285</td><td>2019-12-11</td><td>List(85)</td><td>2019-12-11T07:41:08.000+0000</td><td>2019-12-11T08:49:25.000+0000</td></tr><tr><td>26285</td><td>2019-12-12</td><td>List(86)</td><td>2019-12-12T14:23:52.000+0000</td><td>2019-12-12T15:28:56.000+0000</td></tr><tr><td>26285</td><td>2019-12-13</td><td>List(87)</td><td>2019-12-13T18:53:16.000+0000</td><td>2019-12-13T19:52:44.000+0000</td></tr><tr><td>26285</td><td>2019-12-14</td><td>List(88)</td><td>2019-12-14T13:56:04.000+0000</td><td>2019-12-14T14:51:19.000+0000</td></tr><tr><td>26285</td><td>2019-12-15</td><td>List(89)</td><td>2019-12-15T17:38:58.000+0000</td><td>2019-12-15T18:34:51.000+0000</td></tr><tr><td>26285</td><td>2019-12-16</td><td>List(90, 91)</td><td>2019-12-16T14:11:22.000+0000</td><td>2019-12-16T15:50:49.000+0000</td></tr><tr><td>26847</td><td>2019-12-01</td><td>List(1, 2)</td><td>2019-12-01T12:17:07.000+0000</td><td>2019-12-01T13:49:05.000+0000</td></tr><tr><td>26847</td><td>2019-12-07</td><td>List(3)</td><td>2019-12-07T17:29:55.000+0000</td><td>2019-12-07T18:20:39.000+0000</td></tr><tr><td>26847</td><td>2019-12-08</td><td>List(4)</td><td>2019-12-08T12:24:34.000+0000</td><td>2019-12-08T12:55:46.000+0000</td></tr><tr><td>26847</td><td>2019-12-14</td><td>List(5)</td><td>2019-12-14T17:08:16.000+0000</td><td>2019-12-14T18:18:08.000+0000</td></tr><tr><td>26847</td><td>2019-12-15</td><td>List(6)</td><td>2019-12-15T12:34:53.000+0000</td><td>2019-12-15T13:28:38.000+0000</td></tr><tr><td>27306</td><td>2019-12-01</td><td>List(161, 162)</td><td>2019-12-01T07:10:48.000+0000</td><td>2019-12-01T09:00:57.000+0000</td></tr><tr><td>27306</td><td>2019-12-02</td><td>List(163, 164)</td><td>2019-12-02T17:41:47.000+0000</td><td>2019-12-02T18:53:10.000+0000</td></tr><tr><td>27306</td><td>2019-12-03</td><td>List(165)</td><td>2019-12-03T17:32:13.000+0000</td><td>2019-12-03T18:32:57.000+0000</td></tr><tr><td>27306</td><td>2019-12-04</td><td>List(166)</td><td>2019-12-04T17:26:48.000+0000</td><td>2019-12-04T17:55:19.000+0000</td></tr><tr><td>27306</td><td>2019-12-05</td><td>List(168, 167)</td><td>2019-12-05T14:10:43.000+0000</td><td>2019-12-05T15:56:16.000+0000</td></tr><tr><td>27306</td><td>2019-12-06</td><td>List(169)</td><td>2019-12-06T19:22:43.000+0000</td><td>2019-12-06T20:00:52.000+0000</td></tr><tr><td>27306</td><td>2019-12-07</td><td>List(170)</td><td>2019-12-07T09:27:55.000+0000</td><td>2019-12-07T10:11:13.000+0000</td></tr><tr><td>27306</td><td>2019-12-08</td><td>List(171)</td><td>2019-12-08T07:24:08.000+0000</td><td>2019-12-08T08:10:56.000+0000</td></tr><tr><td>27306</td><td>2019-12-09</td><td>List(172)</td><td>2019-12-09T17:52:25.000+0000</td><td>2019-12-09T18:49:08.000+0000</td></tr><tr><td>27306</td><td>2019-12-10</td><td>List(173, 174)</td><td>2019-12-10T17:35:29.000+0000</td><td>2019-12-10T19:11:36.000+0000</td></tr><tr><td>27306</td><td>2019-12-11</td><td>List(176, 175)</td><td>2019-12-11T17:43:49.000+0000</td><td>2019-12-11T18:50:11.000+0000</td></tr><tr><td>27306</td><td>2019-12-12</td><td>List(177, 178)</td><td>2019-12-12T14:01:57.000+0000</td><td>2019-12-12T15:24:18.000+0000</td></tr><tr><td>27306</td><td>2019-12-13</td><td>List(179, 180)</td><td>2019-12-13T18:54:13.000+0000</td><td>2019-12-13T20:06:00.000+0000</td></tr><tr><td>27306</td><td>2019-12-14</td><td>List(183, 181, 182)</td><td>2019-12-14T09:33:07.000+0000</td><td>2019-12-14T11:54:43.000+0000</td></tr><tr><td>27306</td><td>2019-12-15</td><td>List(184)</td><td>2019-12-15T07:35:36.000+0000</td><td>2019-12-15T08:34:22.000+0000</td></tr><tr><td>27671</td><td>2019-12-12</td><td>List(1)</td><td>2019-12-12T06:48:39.000+0000</td><td>2019-12-12T07:33:35.000+0000</td></tr><tr><td>27703</td><td>2019-12-01</td><td>List(456)</td><td>2019-12-01T12:30:33.000+0000</td><td>2019-12-01T13:04:39.000+0000</td></tr><tr><td>27703</td><td>2019-12-08</td><td>List(457)</td><td>2019-12-08T12:17:56.000+0000</td><td>2019-12-08T13:17:49.000+0000</td></tr><tr><td>27703</td><td>2019-12-15</td><td>List(458, 459)</td><td>2019-12-15T12:18:15.000+0000</td><td>2019-12-15T13:58:35.000+0000</td></tr><tr><td>27836</td><td>2019-12-13</td><td>List(1, 2)</td><td>2019-12-13T14:16:03.000+0000</td><td>2019-12-13T15:30:19.000+0000</td></tr><tr><td>28359</td><td>2019-12-08</td><td>List(1, 2)</td><td>2019-12-08T13:55:25.000+0000</td><td>2019-12-08T15:07:18.000+0000</td></tr><tr><td>28359</td><td>2019-12-15</td><td>List(3, 4)</td><td>2019-12-15T14:03:20.000+0000</td><td>2019-12-15T15:29:46.000+0000</td></tr><tr><td>28521</td><td>2019-12-01</td><td>List(328, 327)</td><td>2019-12-01T18:40:45.000+0000</td><td>2019-12-01T19:32:29.000+0000</td></tr><tr><td>28521</td><td>2019-12-04</td><td>List(329, 330)</td><td>2019-12-04T17:52:49.000+0000</td><td>2019-12-04T19:24:33.000+0000</td></tr><tr><td>28521</td><td>2019-12-05</td><td>List(332, 331)</td><td>2019-12-05T17:52:04.000+0000</td><td>2019-12-05T18:43:50.000+0000</td></tr><tr><td>28521</td><td>2019-12-06</td><td>List(333)</td><td>2019-12-06T18:01:03.000+0000</td><td>2019-12-06T19:03:45.000+0000</td></tr><tr><td>28521</td><td>2019-12-08</td><td>List(334)</td><td>2019-12-08T18:57:00.000+0000</td><td>2019-12-08T19:53:54.000+0000</td></tr><tr><td>28521</td><td>2019-12-11</td><td>List(335)</td><td>2019-12-11T17:50:01.000+0000</td><td>2019-12-11T19:01:42.000+0000</td></tr><tr><td>28521</td><td>2019-12-12</td><td>List(336)</td><td>2019-12-12T17:45:20.000+0000</td><td>2019-12-12T18:44:07.000+0000</td></tr><tr><td>28521</td><td>2019-12-13</td><td>List(338, 337)</td><td>2019-12-13T17:50:50.000+0000</td><td>2019-12-13T18:40:28.000+0000</td></tr><tr><td>28588</td><td>2019-12-01</td><td>List(1)</td><td>2019-12-01T13:41:06.000+0000</td><td>2019-12-01T14:11:59.000+0000</td></tr><tr><td>28588</td><td>2019-12-02</td><td>List(2, 3)</td><td>2019-12-02T14:20:16.000+0000</td><td>2019-12-02T15:27:01.000+0000</td></tr><tr><td>28588</td><td>2019-12-05</td><td>List(5, 4)</td><td>2019-12-05T12:26:10.000+0000</td><td>2019-12-05T15:08:07.000+0000</td></tr><tr><td>28588</td><td>2019-12-07</td><td>List(6, 7)</td><td>2019-12-07T07:09:01.000+0000</td><td>2019-12-07T08:16:00.000+0000</td></tr><tr><td>28588</td><td>2019-12-08</td><td>List(9, 8)</td><td>2019-12-08T14:00:55.000+0000</td><td>2019-12-08T15:26:45.000+0000</td></tr><tr><td>28588</td><td>2019-12-09</td><td>List(10)</td><td>2019-12-09T14:03:34.000+0000</td><td>2019-12-09T15:03:49.000+0000</td></tr><tr><td>28588</td><td>2019-12-12</td><td>List(11)</td><td>2019-12-12T12:31:59.000+0000</td><td>2019-12-12T13:09:23.000+0000</td></tr><tr><td>28588</td><td>2019-12-14</td><td>List(12)</td><td>2019-12-14T07:46:53.000+0000</td><td>2019-12-14T08:34:51.000+0000</td></tr><tr><td>28588</td><td>2019-12-15</td><td>List(13, 14)</td><td>2019-12-15T13:54:36.000+0000</td><td>2019-12-15T15:05:36.000+0000</td></tr><tr><td>28588</td><td>2019-12-16</td><td>List(15, 16)</td><td>2019-12-16T14:11:20.000+0000</td><td>2019-12-16T15:34:25.000+0000</td></tr><tr><td>28776</td><td>2019-12-01</td><td>List(389, 390)</td><td>2019-12-01T13:53:45.000+0000</td><td>2019-12-01T14:45:02.000+0000</td></tr><tr><td>28776</td><td>2019-12-08</td><td>List(391)</td><td>2019-12-08T14:13:19.000+0000</td><td>2019-12-08T15:07:16.000+0000</td></tr><tr><td>28814</td><td>2019-12-11</td><td>List(1)</td><td>2019-12-11T07:36:01.000+0000</td><td>2019-12-11T08:27:42.000+0000</td></tr><tr><td>28814</td><td>2019-12-12</td><td>List(2)</td><td>2019-12-12T12:18:00.000+0000</td><td>2019-12-12T13:33:12.000+0000</td></tr><tr><td>28814</td><td>2019-12-13</td><td>List(5, 3, 4)</td><td>2019-12-13T14:08:56.000+0000</td><td>2019-12-13T15:43:57.000+0000</td></tr><tr><td>28814</td><td>2019-12-14</td><td>List(6, 7)</td><td>2019-12-14T11:57:18.000+0000</td><td>2019-12-14T13:04:27.000+0000</td></tr><tr><td>28814</td><td>2019-12-15</td><td>List(9, 8)</td><td>2019-12-15T17:33:46.000+0000</td><td>2019-12-15T18:39:18.000+0000</td></tr><tr><td>28814</td><td>2019-12-16</td><td>List(10)</td><td>2019-12-16T14:14:09.000+0000</td><td>2019-12-16T14:46:22.000+0000</td></tr><tr><td>28938</td><td>2019-12-03</td><td>List(426, 427)</td><td>2019-12-03T12:24:43.000+0000</td><td>2019-12-03T13:48:08.000+0000</td></tr><tr><td>28938</td><td>2019-12-10</td><td>List(428)</td><td>2019-12-10T12:36:58.000+0000</td><td>2019-12-10T13:31:13.000+0000</td></tr><tr><td>29130</td><td>2019-12-05</td><td>List(1, 2)</td><td>2019-12-05T10:01:19.000+0000</td><td>2019-12-05T12:14:01.000+0000</td></tr><tr><td>29130</td><td>2019-12-06</td><td>List(3)</td><td>2019-12-06T12:40:42.000+0000</td><td>2019-12-06T14:20:17.000+0000</td></tr><tr><td>29130</td><td>2019-12-07</td><td>List(4)</td><td>2019-12-07T13:52:18.000+0000</td><td>2019-12-07T14:56:31.000+0000</td></tr><tr><td>29130</td><td>2019-12-08</td><td>List(5, 6)</td><td>2019-12-08T17:52:21.000+0000</td><td>2019-12-08T18:45:25.000+0000</td></tr><tr><td>29130</td><td>2019-12-10</td><td>List(7)</td><td>2019-12-10T17:47:12.000+0000</td><td>2019-12-10T19:24:51.000+0000</td></tr><tr><td>29130</td><td>2019-12-12</td><td>List(9, 8)</td><td>2019-12-12T09:48:24.000+0000</td><td>2019-12-12T10:59:05.000+0000</td></tr><tr><td>29130</td><td>2019-12-13</td><td>List(10, 11)</td><td>2019-12-13T12:31:33.000+0000</td><td>2019-12-13T14:11:42.000+0000</td></tr><tr><td>29130</td><td>2019-12-14</td><td>List(12, 13)</td><td>2019-12-14T14:21:48.000+0000</td><td>2019-12-14T15:44:37.000+0000</td></tr><tr><td>29130</td><td>2019-12-15</td><td>List(14)</td><td>2019-12-15T17:11:58.000+0000</td><td>2019-12-15T18:35:42.000+0000</td></tr><tr><td>29213</td><td>2019-12-01</td><td>List(294, 295)</td><td>2019-12-01T10:06:19.000+0000</td><td>2019-12-01T11:33:36.000+0000</td></tr><tr><td>29213</td><td>2019-12-02</td><td>List(296, 297, 298)</td><td>2019-12-02T17:21:40.000+0000</td><td>2019-12-02T18:47:19.000+0000</td></tr><tr><td>29213</td><td>2019-12-03</td><td>List(299)</td><td>2019-12-03T07:30:44.000+0000</td><td>2019-12-03T08:16:04.000+0000</td></tr><tr><td>29213</td><td>2019-12-04</td><td>List(302, 300, 301)</td><td>2019-12-04T17:51:47.000+0000</td><td>2019-12-04T18:50:35.000+0000</td></tr><tr><td>29213</td><td>2019-12-05</td><td>List(303, 304)</td><td>2019-12-05T13:40:38.000+0000</td><td>2019-12-05T15:32:42.000+0000</td></tr><tr><td>29213</td><td>2019-12-06</td><td>List(305)</td><td>2019-12-06T17:32:10.000+0000</td><td>2019-12-06T18:22:38.000+0000</td></tr><tr><td>29213</td><td>2019-12-07</td><td>List(306, 307, 308)</td><td>2019-12-07T07:22:51.000+0000</td><td>2019-12-07T09:07:14.000+0000</td></tr><tr><td>29213</td><td>2019-12-08</td><td>List(309)</td><td>2019-12-08T09:53:28.000+0000</td><td>2019-12-08T10:29:18.000+0000</td></tr><tr><td>29213</td><td>2019-12-09</td><td>List(310)</td><td>2019-12-09T17:31:36.000+0000</td><td>2019-12-09T18:33:36.000+0000</td></tr><tr><td>29213</td><td>2019-12-10</td><td>List(311)</td><td>2019-12-10T07:33:27.000+0000</td><td>2019-12-10T08:09:09.000+0000</td></tr><tr><td>29213</td><td>2019-12-11</td><td>List(312)</td><td>2019-12-11T18:00:47.000+0000</td><td>2019-12-11T18:46:47.000+0000</td></tr><tr><td>29213</td><td>2019-12-12</td><td>List(314, 313)</td><td>2019-12-12T14:12:02.000+0000</td><td>2019-12-12T15:58:08.000+0000</td></tr><tr><td>29213</td><td>2019-12-13</td><td>List(315, 316)</td><td>2019-12-13T17:42:12.000+0000</td><td>2019-12-13T19:01:42.000+0000</td></tr><tr><td>29213</td><td>2019-12-14</td><td>List(317, 318)</td><td>2019-12-14T07:17:47.000+0000</td><td>2019-12-14T08:37:31.000+0000</td></tr><tr><td>29213</td><td>2019-12-15</td><td>List(320, 319)</td><td>2019-12-15T10:20:14.000+0000</td><td>2019-12-15T11:28:51.000+0000</td></tr><tr><td>29745</td><td>2019-12-05</td><td>List(1)</td><td>2019-12-05T12:04:19.000+0000</td><td>2019-12-05T12:57:54.000+0000</td></tr><tr><td>29745</td><td>2019-12-07</td><td>List(2, 3, 4)</td><td>2019-12-07T17:34:34.000+0000</td><td>2019-12-07T18:47:17.000+0000</td></tr><tr><td>29745</td><td>2019-12-12</td><td>List(5, 6)</td><td>2019-12-12T11:56:43.000+0000</td><td>2019-12-12T12:48:29.000+0000</td></tr><tr><td>29745</td><td>2019-12-14</td><td>List(7)</td><td>2019-12-14T17:28:19.000+0000</td><td>2019-12-14T18:21:04.000+0000</td></tr><tr><td>30088</td><td>2019-12-02</td><td>List(445, 446)</td><td>2019-12-02T17:27:12.000+0000</td><td>2019-12-02T19:28:48.000+0000</td></tr><tr><td>30088</td><td>2019-12-03</td><td>List(447)</td><td>2019-12-03T07:26:47.000+0000</td><td>2019-12-03T08:30:21.000+0000</td></tr><tr><td>30088</td><td>2019-12-07</td><td>List(448)</td><td>2019-12-07T17:39:56.000+0000</td><td>2019-12-07T18:15:44.000+0000</td></tr><tr><td>30088</td><td>2019-12-09</td><td>List(449, 450)</td><td>2019-12-09T17:27:09.000+0000</td><td>2019-12-09T18:19:49.000+0000</td></tr><tr><td>30088</td><td>2019-12-10</td><td>List(451)</td><td>2019-12-10T07:18:34.000+0000</td><td>2019-12-10T09:04:40.000+0000</td></tr><tr><td>30088</td><td>2019-12-14</td><td>List(452)</td><td>2019-12-14T17:23:12.000+0000</td><td>2019-12-14T18:16:14.000+0000</td></tr><tr><td>30514</td><td>2019-12-10</td><td>List(1, 2, 3)</td><td>2019-12-10T09:48:52.000+0000</td><td>2019-12-10T11:20:31.000+0000</td></tr><tr><td>30612</td><td>2019-12-06</td><td>List(368, 367)</td><td>2019-12-06T12:21:20.000+0000</td><td>2019-12-06T14:52:17.000+0000</td></tr><tr><td>30612</td><td>2019-12-13</td><td>List(369)</td><td>2019-12-13T12:30:46.000+0000</td><td>2019-12-13T13:32:00.000+0000</td></tr><tr><td>31057</td><td>2019-12-14</td><td>List(1)</td><td>2019-12-14T10:14:00.000+0000</td><td>2019-12-14T11:12:24.000+0000</td></tr><tr><td>31057</td><td>2019-12-15</td><td>List(2, 3)</td><td>2019-12-15T07:09:51.000+0000</td><td>2019-12-15T08:34:57.000+0000</td></tr><tr><td>31057</td><td>2019-12-16</td><td>List(4)</td><td>2019-12-16T14:15:58.000+0000</td><td>2019-12-16T14:44:33.000+0000</td></tr><tr><td>31362</td><td>2019-12-02</td><td>List(296, 295)</td><td>2019-12-02T12:28:52.000+0000</td><td>2019-12-02T13:20:16.000+0000</td></tr><tr><td>31362</td><td>2019-12-04</td><td>List(297)</td><td>2019-12-04T12:24:15.000+0000</td><td>2019-12-04T13:02:43.000+0000</td></tr><tr><td>31362</td><td>2019-12-05</td><td>List(298)</td><td>2019-12-05T09:52:55.000+0000</td><td>2019-12-05T11:09:00.000+0000</td></tr><tr><td>31362</td><td>2019-12-07</td><td>List(299)</td><td>2019-12-07T07:26:03.000+0000</td><td>2019-12-07T08:05:47.000+0000</td></tr><tr><td>31362</td><td>2019-12-09</td><td>List(300)</td><td>2019-12-09T12:04:15.000+0000</td><td>2019-12-09T13:01:58.000+0000</td></tr><tr><td>31362</td><td>2019-12-11</td><td>List(301)</td><td>2019-12-11T12:27:49.000+0000</td><td>2019-12-11T12:58:56.000+0000</td></tr><tr><td>31362</td><td>2019-12-12</td><td>List(302, 303)</td><td>2019-12-12T09:54:18.000+0000</td><td>2019-12-12T11:13:45.000+0000</td></tr><tr><td>31362</td><td>2019-12-14</td><td>List(304)</td><td>2019-12-14T07:10:21.000+0000</td><td>2019-12-14T08:09:31.000+0000</td></tr><tr><td>31362</td><td>2019-12-16</td><td>List(305, 306, 307)</td><td>2019-12-16T12:28:16.000+0000</td><td>2019-12-16T14:34:05.000+0000</td></tr><tr><td>32018</td><td>2019-12-01</td><td>List(362, 363)</td><td>2019-12-01T07:06:49.000+0000</td><td>2019-12-01T07:56:02.000+0000</td></tr><tr><td>32018</td><td>2019-12-08</td><td>List(364)</td><td>2019-12-08T07:50:37.000+0000</td><td>2019-12-08T09:29:09.000+0000</td></tr><tr><td>32018</td><td>2019-12-15</td><td>List(365)</td><td>2019-12-15T07:42:06.000+0000</td><td>2019-12-15T08:19:01.000+0000</td></tr><tr><td>33733</td><td>2019-12-07</td><td>List(1)</td><td>2019-12-07T07:25:01.000+0000</td><td>2019-12-07T08:06:22.000+0000</td></tr><tr><td>33733</td><td>2019-12-14</td><td>List(2, 3, 4)</td><td>2019-12-14T07:33:44.000+0000</td><td>2019-12-14T09:25:33.000+0000</td></tr><tr><td>33987</td><td>2019-12-01</td><td>List(486)</td><td>2019-12-01T17:31:02.000+0000</td><td>2019-12-01T18:36:14.000+0000</td></tr><tr><td>33987</td><td>2019-12-02</td><td>List(487)</td><td>2019-12-02T17:38:01.000+0000</td><td>2019-12-02T18:36:27.000+0000</td></tr><tr><td>33987</td><td>2019-12-03</td><td>List(488, 489)</td><td>2019-12-03T07:20:59.000+0000</td><td>2019-12-03T09:18:06.000+0000</td></tr><tr><td>33987</td><td>2019-12-04</td><td>List(491, 490)</td><td>2019-12-04T14:08:26.000+0000</td><td>2019-12-04T16:13:03.000+0000</td></tr><tr><td>33987</td><td>2019-12-05</td><td>List(492)</td><td>2019-12-05T12:09:46.000+0000</td><td>2019-12-05T13:40:36.000+0000</td></tr><tr><td>33987</td><td>2019-12-06</td><td>List(494, 493)</td><td>2019-12-06T13:58:14.000+0000</td><td>2019-12-06T15:27:49.000+0000</td></tr><tr><td>33987</td><td>2019-12-07</td><td>List(495)</td><td>2019-12-07T14:30:40.000+0000</td><td>2019-12-07T15:43:53.000+0000</td></tr><tr><td>33987</td><td>2019-12-08</td><td>List(496)</td><td>2019-12-08T17:26:32.000+0000</td><td>2019-12-08T18:01:35.000+0000</td></tr><tr><td>33987</td><td>2019-12-09</td><td>List(497)</td><td>2019-12-09T17:42:24.000+0000</td><td>2019-12-09T18:59:58.000+0000</td></tr><tr><td>33987</td><td>2019-12-10</td><td>List(498)</td><td>2019-12-10T07:31:25.000+0000</td><td>2019-12-10T08:38:24.000+0000</td></tr><tr><td>33987</td><td>2019-12-11</td><td>List(499, 500)</td><td>2019-12-11T14:05:23.000+0000</td><td>2019-12-11T15:34:31.000+0000</td></tr><tr><td>33987</td><td>2019-12-12</td><td>List(501)</td><td>2019-12-12T12:12:28.000+0000</td><td>2019-12-12T12:52:44.000+0000</td></tr><tr><td>33987</td><td>2019-12-13</td><td>List(502)</td><td>2019-12-13T13:55:26.000+0000</td><td>2019-12-13T14:57:02.000+0000</td></tr><tr><td>33987</td><td>2019-12-14</td><td>List(503, 504)</td><td>2019-12-14T13:53:55.000+0000</td><td>2019-12-14T15:52:41.000+0000</td></tr><tr><td>33987</td><td>2019-12-15</td><td>List(506, 507, 505)</td><td>2019-12-15T17:14:55.000+0000</td><td>2019-12-15T18:52:13.000+0000</td></tr><tr><td>34740</td><td>2019-12-01</td><td>List(310, 311)</td><td>2019-12-01T07:14:58.000+0000</td><td>2019-12-01T09:10:26.000+0000</td></tr><tr><td>34740</td><td>2019-12-02</td><td>List(314, 312, 313)</td><td>2019-12-02T19:07:54.000+0000</td><td>2019-12-02T21:20:42.000+0000</td></tr><tr><td>34740</td><td>2019-12-03</td><td>List(315, 316)</td><td>2019-12-03T07:44:58.000+0000</td><td>2019-12-03T09:26:22.000+0000</td></tr><tr><td>34740</td><td>2019-12-04</td><td>List(317)</td><td>2019-12-04T19:27:29.000+0000</td><td>2019-12-04T20:03:15.000+0000</td></tr><tr><td>34740</td><td>2019-12-05</td><td>List(318)</td><td>2019-12-05T13:51:59.000+0000</td><td>2019-12-05T14:41:01.000+0000</td></tr><tr><td>34740</td><td>2019-12-06</td><td>List(319)</td><td>2019-12-06T17:30:05.000+0000</td><td>2019-12-06T18:09:10.000+0000</td></tr><tr><td>34740</td><td>2019-12-07</td><td>List(320, 321)</td><td>2019-12-07T12:19:13.000+0000</td><td>2019-12-07T13:52:32.000+0000</td></tr><tr><td>34740</td><td>2019-12-08</td><td>List(322)</td><td>2019-12-08T07:41:08.000+0000</td><td>2019-12-08T09:08:04.000+0000</td></tr><tr><td>34740</td><td>2019-12-09</td><td>List(324, 323)</td><td>2019-12-09T18:58:57.000+0000</td><td>2019-12-09T20:13:56.000+0000</td></tr><tr><td>34740</td><td>2019-12-10</td><td>List(325)</td><td>2019-12-10T07:16:38.000+0000</td><td>2019-12-10T08:21:15.000+0000</td></tr><tr><td>34740</td><td>2019-12-11</td><td>List(326)</td><td>2019-12-11T19:05:52.000+0000</td><td>2019-12-11T20:04:29.000+0000</td></tr><tr><td>34740</td><td>2019-12-12</td><td>List(327)</td><td>2019-12-12T14:09:38.000+0000</td><td>2019-12-12T15:04:38.000+0000</td></tr><tr><td>34740</td><td>2019-12-13</td><td>List(328, 329)</td><td>2019-12-13T17:30:28.000+0000</td><td>2019-12-13T18:42:15.000+0000</td></tr><tr><td>34740</td><td>2019-12-14</td><td>List(330)</td><td>2019-12-14T11:58:23.000+0000</td><td>2019-12-14T12:51:14.000+0000</td></tr><tr><td>34740</td><td>2019-12-15</td><td>List(331)</td><td>2019-12-15T07:42:59.000+0000</td><td>2019-12-15T08:13:45.000+0000</td></tr><tr><td>35226</td><td>2019-12-01</td><td>List(402, 403)</td><td>2019-12-01T09:52:59.000+0000</td><td>2019-12-01T10:33:57.000+0000</td></tr><tr><td>35226</td><td>2019-12-02</td><td>List(404, 405)</td><td>2019-12-02T18:44:00.000+0000</td><td>2019-12-02T20:16:36.000+0000</td></tr><tr><td>35226</td><td>2019-12-03</td><td>List(407, 406)</td><td>2019-12-03T17:23:39.000+0000</td><td>2019-12-03T18:01:25.000+0000</td></tr><tr><td>35226</td><td>2019-12-04</td><td>List(408)</td><td>2019-12-04T19:15:11.000+0000</td><td>2019-12-04T20:01:14.000+0000</td></tr><tr><td>35226</td><td>2019-12-05</td><td>List(409, 410)</td><td>2019-12-05T17:54:31.000+0000</td><td>2019-12-05T19:03:05.000+0000</td></tr><tr><td>35226</td><td>2019-12-07</td><td>List(411, 412)</td><td>2019-12-07T07:43:39.000+0000</td><td>2019-12-07T09:01:57.000+0000</td></tr><tr><td>35226</td><td>2019-12-08</td><td>List(413, 414)</td><td>2019-12-08T09:27:47.000+0000</td><td>2019-12-08T10:13:22.000+0000</td></tr><tr><td>35226</td><td>2019-12-09</td><td>List(416, 415)</td><td>2019-12-09T18:43:44.000+0000</td><td>2019-12-09T20:35:13.000+0000</td></tr><tr><td>35226</td><td>2019-12-10</td><td>List(417)</td><td>2019-12-10T17:53:30.000+0000</td><td>2019-12-10T18:58:10.000+0000</td></tr><tr><td>35226</td><td>2019-12-11</td><td>List(418)</td><td>2019-12-11T19:06:44.000+0000</td><td>2019-12-11T19:50:42.000+0000</td></tr><tr><td>35226</td><td>2019-12-12</td><td>List(419, 420)</td><td>2019-12-12T17:57:02.000+0000</td><td>2019-12-12T19:51:39.000+0000</td></tr><tr><td>35226</td><td>2019-12-14</td><td>List(422, 421)</td><td>2019-12-14T07:34:52.000+0000</td><td>2019-12-14T08:34:55.000+0000</td></tr><tr><td>35226</td><td>2019-12-15</td><td>List(423)</td><td>2019-12-15T09:24:11.000+0000</td><td>2019-12-15T09:58:28.000+0000</td></tr><tr><td>35428</td><td>2019-12-12</td><td>List(1)</td><td>2019-12-12T18:09:28.000+0000</td><td>2019-12-12T18:51:59.000+0000</td></tr><tr><td>35728</td><td>2019-12-01</td><td>List(404, 403)</td><td>2019-12-01T17:33:26.000+0000</td><td>2019-12-01T19:29:07.000+0000</td></tr><tr><td>35728</td><td>2019-12-02</td><td>List(405)</td><td>2019-12-02T17:25:18.000+0000</td><td>2019-12-02T18:11:58.000+0000</td></tr><tr><td>35728</td><td>2019-12-03</td><td>List(407, 406)</td><td>2019-12-03T14:02:47.000+0000</td><td>2019-12-03T15:43:51.000+0000</td></tr><tr><td>35728</td><td>2019-12-05</td><td>List(408, 409, 410)</td><td>2019-12-05T13:47:26.000+0000</td><td>2019-12-05T16:46:31.000+0000</td></tr><tr><td>35728</td><td>2019-12-06</td><td>List(411)</td><td>2019-12-06T07:27:28.000+0000</td><td>2019-12-06T08:23:10.000+0000</td></tr><tr><td>35728</td><td>2019-12-07</td><td>List(412, 413)</td><td>2019-12-07T19:10:42.000+0000</td><td>2019-12-07T20:12:08.000+0000</td></tr><tr><td>35728</td><td>2019-12-08</td><td>List(414)</td><td>2019-12-08T17:21:08.000+0000</td><td>2019-12-08T17:53:28.000+0000</td></tr><tr><td>35728</td><td>2019-12-09</td><td>List(415)</td><td>2019-12-09T17:16:30.000+0000</td><td>2019-12-09T18:36:40.000+0000</td></tr><tr><td>35728</td><td>2019-12-10</td><td>List(416)</td><td>2019-12-10T14:29:31.000+0000</td><td>2019-12-10T15:13:12.000+0000</td></tr><tr><td>35728</td><td>2019-12-12</td><td>List(417, 418)</td><td>2019-12-12T14:03:21.000+0000</td><td>2019-12-12T15:56:19.000+0000</td></tr><tr><td>35728</td><td>2019-12-13</td><td>List(419, 420)</td><td>2019-12-13T08:04:28.000+0000</td><td>2019-12-13T09:21:56.000+0000</td></tr><tr><td>35728</td><td>2019-12-14</td><td>List(422, 423, 421)</td><td>2019-12-14T18:56:12.000+0000</td><td>2019-12-14T20:27:09.000+0000</td></tr><tr><td>35728</td><td>2019-12-15</td><td>List(425, 426, 424)</td><td>2019-12-15T17:19:48.000+0000</td><td>2019-12-15T19:06:12.000+0000</td></tr><tr><td>36066</td><td>2019-12-13</td><td>List(1)</td><td>2019-12-13T17:23:04.000+0000</td><td>2019-12-13T18:39:54.000+0000</td></tr><tr><td>36117</td><td>2019-12-02</td><td>List(314)</td><td>2019-12-02T07:01:34.000+0000</td><td>2019-12-02T07:37:58.000+0000</td></tr><tr><td>36117</td><td>2019-12-04</td><td>List(315, 316)</td><td>2019-12-04T17:48:53.000+0000</td><td>2019-12-04T18:28:47.000+0000</td></tr><tr><td>36117</td><td>2019-12-05</td><td>List(317)</td><td>2019-12-05T18:04:48.000+0000</td><td>2019-12-05T19:46:45.000+0000</td></tr><tr><td>36117</td><td>2019-12-06</td><td>List(318)</td><td>2019-12-06T17:37:12.000+0000</td><td>2019-12-06T18:11:35.000+0000</td></tr><tr><td>36117</td><td>2019-12-07</td><td>List(319)</td><td>2019-12-07T19:29:01.000+0000</td><td>2019-12-07T20:28:39.000+0000</td></tr><tr><td>36117</td><td>2019-12-09</td><td>List(320)</td><td>2019-12-09T07:31:12.000+0000</td><td>2019-12-09T08:24:05.000+0000</td></tr><tr><td>36117</td><td>2019-12-11</td><td>List(321)</td><td>2019-12-11T17:33:29.000+0000</td><td>2019-12-11T18:09:36.000+0000</td></tr><tr><td>36117</td><td>2019-12-12</td><td>List(322)</td><td>2019-12-12T17:25:04.000+0000</td><td>2019-12-12T19:08:10.000+0000</td></tr><tr><td>36117</td><td>2019-12-13</td><td>List(323)</td><td>2019-12-13T17:43:43.000+0000</td><td>2019-12-13T19:01:57.000+0000</td></tr><tr><td>36117</td><td>2019-12-14</td><td>List(324)</td><td>2019-12-14T19:04:01.000+0000</td><td>2019-12-14T20:42:25.000+0000</td></tr><tr><td>36117</td><td>2019-12-16</td><td>List(325)</td><td>2019-12-16T07:43:18.000+0000</td><td>2019-12-16T08:30:24.000+0000</td></tr><tr><td>36164</td><td>2019-12-06</td><td>List(482)</td><td>2019-12-06T17:29:06.000+0000</td><td>2019-12-06T18:41:03.000+0000</td></tr><tr><td>36164</td><td>2019-12-07</td><td>List(484, 483)</td><td>2019-12-07T17:10:06.000+0000</td><td>2019-12-07T18:48:23.000+0000</td></tr><tr><td>36164</td><td>2019-12-13</td><td>List(485, 486)</td><td>2019-12-13T17:48:17.000+0000</td><td>2019-12-13T18:51:01.000+0000</td></tr><tr><td>36164</td><td>2019-12-14</td><td>List(487)</td><td>2019-12-14T17:35:13.000+0000</td><td>2019-12-14T18:39:15.000+0000</td></tr><tr><td>36469</td><td>2019-12-14</td><td>List(1)</td><td>2019-12-14T07:14:56.000+0000</td><td>2019-12-14T08:14:31.000+0000</td></tr><tr><td>36469</td><td>2019-12-15</td><td>List(2, 3)</td><td>2019-12-15T17:18:34.000+0000</td><td>2019-12-15T18:55:33.000+0000</td></tr><tr><td>36644</td><td>2019-12-03</td><td>List(279)</td><td>2019-12-03T07:48:44.000+0000</td><td>2019-12-03T09:09:12.000+0000</td></tr><tr><td>36644</td><td>2019-12-10</td><td>List(281, 280)</td><td>2019-12-10T07:33:43.000+0000</td><td>2019-12-10T08:39:40.000+0000</td></tr><tr><td>37012</td><td>2019-12-02</td><td>List(56, 55)</td><td>2019-12-02T17:38:55.000+0000</td><td>2019-12-02T18:59:07.000+0000</td></tr><tr><td>37012</td><td>2019-12-07</td><td>List(57)</td><td>2019-12-07T18:59:21.000+0000</td><td>2019-12-07T19:57:55.000+0000</td></tr><tr><td>37012</td><td>2019-12-09</td><td>List(58, 59)</td><td>2019-12-09T17:50:52.000+0000</td><td>2019-12-09T19:39:26.000+0000</td></tr><tr><td>37012</td><td>2019-12-14</td><td>List(60)</td><td>2019-12-14T19:19:55.000+0000</td><td>2019-12-14T20:20:07.000+0000</td></tr><tr><td>38766</td><td>2019-12-02</td><td>List(402)</td><td>2019-12-02T07:34:51.000+0000</td><td>2019-12-02T08:44:49.000+0000</td></tr><tr><td>38766</td><td>2019-12-09</td><td>List(404, 403)</td><td>2019-12-09T07:19:43.000+0000</td><td>2019-12-09T09:21:50.000+0000</td></tr><tr><td>38766</td><td>2019-12-16</td><td>List(405)</td><td>2019-12-16T07:07:45.000+0000</td><td>2019-12-16T07:54:11.000+0000</td></tr><tr><td>39676</td><td>2019-12-06</td><td>List(1, 2)</td><td>2019-12-06T14:08:44.000+0000</td><td>2019-12-06T15:20:47.000+0000</td></tr><tr><td>40177</td><td>2019-12-14</td><td>List(1, 2)</td><td>2019-12-14T12:11:36.000+0000</td><td>2019-12-14T13:20:46.000+0000</td></tr><tr><td>40559</td><td>2019-12-13</td><td>List(1)</td><td>2019-12-13T09:28:41.000+0000</td><td>2019-12-13T10:02:42.000+0000</td></tr><tr><td>40559</td><td>2019-12-14</td><td>List(2)</td><td>2019-12-14T17:40:31.000+0000</td><td>2019-12-14T18:51:19.000+0000</td></tr><tr><td>40559</td><td>2019-12-15</td><td>List(3)</td><td>2019-12-15T17:55:57.000+0000</td><td>2019-12-15T18:53:56.000+0000</td></tr><tr><td>40559</td><td>2019-12-16</td><td>List(4)</td><td>2019-12-16T13:45:08.000+0000</td><td>2019-12-16T14:57:30.000+0000</td></tr><tr><td>40872</td><td>2019-12-01</td><td>List(75, 76)</td><td>2019-12-01T19:17:33.000+0000</td><td>2019-12-01T21:05:26.000+0000</td></tr><tr><td>40872</td><td>2019-12-02</td><td>List(78, 77)</td><td>2019-12-02T13:55:00.000+0000</td><td>2019-12-02T14:58:39.000+0000</td></tr><tr><td>40872</td><td>2019-12-03</td><td>List(79)</td><td>2019-12-03T10:01:50.000+0000</td><td>2019-12-03T11:02:13.000+0000</td></tr><tr><td>40872</td><td>2019-12-04</td><td>List(81, 80)</td><td>2019-12-04T11:47:39.000+0000</td><td>2019-12-04T13:32:10.000+0000</td></tr><tr><td>40872</td><td>2019-12-05</td><td>List(82)</td><td>2019-12-05T14:15:43.000+0000</td><td>2019-12-05T15:22:59.000+0000</td></tr><tr><td>40872</td><td>2019-12-06</td><td>List(84, 83)</td><td>2019-12-06T14:06:00.000+0000</td><td>2019-12-06T15:07:46.000+0000</td></tr><tr><td>40872</td><td>2019-12-07</td><td>List(85, 86)</td><td>2019-12-07T09:53:06.000+0000</td><td>2019-12-07T12:03:06.000+0000</td></tr><tr><td>40872</td><td>2019-12-08</td><td>List(88, 87)</td><td>2019-12-08T19:28:44.000+0000</td><td>2019-12-08T20:29:07.000+0000</td></tr><tr><td>40872</td><td>2019-12-09</td><td>List(89)</td><td>2019-12-09T14:14:21.000+0000</td><td>2019-12-09T14:55:10.000+0000</td></tr><tr><td>40872</td><td>2019-12-10</td><td>List(90, 91)</td><td>2019-12-10T09:45:10.000+0000</td><td>2019-12-10T10:42:13.000+0000</td></tr><tr><td>40872</td><td>2019-12-11</td><td>List(93, 92)</td><td>2019-12-11T12:08:38.000+0000</td><td>2019-12-11T13:39:00.000+0000</td></tr><tr><td>40872</td><td>2019-12-12</td><td>List(94, 95)</td><td>2019-12-12T14:05:59.000+0000</td><td>2019-12-12T15:32:07.000+0000</td></tr><tr><td>40872</td><td>2019-12-13</td><td>List(96)</td><td>2019-12-13T14:21:08.000+0000</td><td>2019-12-13T14:57:55.000+0000</td></tr><tr><td>40872</td><td>2019-12-14</td><td>List(97)</td><td>2019-12-14T10:06:29.000+0000</td><td>2019-12-14T11:52:32.000+0000</td></tr><tr><td>40872</td><td>2019-12-15</td><td>List(99, 98)</td><td>2019-12-15T19:10:04.000+0000</td><td>2019-12-15T20:56:06.000+0000</td></tr><tr><td>40872</td><td>2019-12-16</td><td>List(100, 101)</td><td>2019-12-16T14:05:39.000+0000</td><td>2019-12-16T15:32:23.000+0000</td></tr><tr><td>41192</td><td>2019-12-07</td><td>List(1)</td><td>2019-12-07T09:43:31.000+0000</td><td>2019-12-07T10:46:58.000+0000</td></tr><tr><td>41192</td><td>2019-12-08</td><td>List(2, 3)</td><td>2019-12-08T12:39:41.000+0000</td><td>2019-12-08T14:15:05.000+0000</td></tr><tr><td>41192</td><td>2019-12-09</td><td>List(4)</td><td>2019-12-09T18:01:20.000+0000</td><td>2019-12-09T18:52:27.000+0000</td></tr><tr><td>41192</td><td>2019-12-10</td><td>List(5)</td><td>2019-12-10T17:39:59.000+0000</td><td>2019-12-10T18:14:34.000+0000</td></tr><tr><td>41192</td><td>2019-12-12</td><td>List(6, 7)</td><td>2019-12-12T17:39:22.000+0000</td><td>2019-12-12T19:00:02.000+0000</td></tr><tr><td>41192</td><td>2019-12-14</td><td>List(9, 8)</td><td>2019-12-14T09:43:41.000+0000</td><td>2019-12-14T11:00:33.000+0000</td></tr><tr><td>41192</td><td>2019-12-15</td><td>List(10)</td><td>2019-12-15T12:33:00.000+0000</td><td>2019-12-15T13:00:48.000+0000</td></tr><tr><td>41367</td><td>2019-12-02</td><td>List(312)</td><td>2019-12-02T19:11:54.000+0000</td><td>2019-12-02T20:05:58.000+0000</td></tr><tr><td>41367</td><td>2019-12-09</td><td>List(314, 313)</td><td>2019-12-09T19:13:04.000+0000</td><td>2019-12-09T20:56:57.000+0000</td></tr><tr><td>41488</td><td>2019-12-11</td><td>List(1)</td><td>2019-12-11T17:19:47.000+0000</td><td>2019-12-11T18:01:50.000+0000</td></tr><tr><td>41488</td><td>2019-12-12</td><td>List(2)</td><td>2019-12-12T13:41:38.000+0000</td><td>2019-12-12T14:58:29.000+0000</td></tr><tr><td>41488</td><td>2019-12-13</td><td>List(5, 3, 4)</td><td>2019-12-13T07:02:20.000+0000</td><td>2019-12-13T08:37:24.000+0000</td></tr><tr><td>41488</td><td>2019-12-14</td><td>List(6, 7)</td><td>2019-12-14T18:53:34.000+0000</td><td>2019-12-14T20:47:46.000+0000</td></tr><tr><td>41488</td><td>2019-12-15</td><td>List(8)</td><td>2019-12-15T07:16:57.000+0000</td><td>2019-12-15T08:14:21.000+0000</td></tr><tr><td>41488</td><td>2019-12-16</td><td>List(9, 10)</td><td>2019-12-16T14:33:52.000+0000</td><td>2019-12-16T16:06:00.000+0000</td></tr><tr><td>41732</td><td>2019-12-11</td><td>List(1, 2)</td><td>2019-12-11T06:54:57.000+0000</td><td>2019-12-11T08:32:43.000+0000</td></tr><tr><td>41732</td><td>2019-12-13</td><td>List(3, 4)</td><td>2019-12-13T14:00:36.000+0000</td><td>2019-12-13T15:40:10.000+0000</td></tr><tr><td>41732</td><td>2019-12-15</td><td>List(5, 6)</td><td>2019-12-15T11:53:48.000+0000</td><td>2019-12-15T13:14:39.000+0000</td></tr><tr><td>41732</td><td>2019-12-16</td><td>List(9, 7, 8)</td><td>2019-12-16T14:06:57.000+0000</td><td>2019-12-16T15:43:45.000+0000</td></tr><tr><td>41796</td><td>2019-12-09</td><td>List(1)</td><td>2019-12-09T07:05:53.000+0000</td><td>2019-12-09T07:43:07.000+0000</td></tr><tr><td>41796</td><td>2019-12-10</td><td>List(2, 3)</td><td>2019-12-10T17:41:14.000+0000</td><td>2019-12-10T18:59:30.000+0000</td></tr><tr><td>41796</td><td>2019-12-11</td><td>List(4)</td><td>2019-12-11T17:21:59.000+0000</td><td>2019-12-11T18:17:27.000+0000</td></tr><tr><td>41796</td><td>2019-12-12</td><td>List(5)</td><td>2019-12-12T07:22:33.000+0000</td><td>2019-12-12T07:59:02.000+0000</td></tr><tr><td>41796</td><td>2019-12-13</td><td>List(6, 7)</td><td>2019-12-13T07:20:40.000+0000</td><td>2019-12-13T08:50:39.000+0000</td></tr><tr><td>41796</td><td>2019-12-14</td><td>List(8)</td><td>2019-12-14T12:10:07.000+0000</td><td>2019-12-14T12:54:01.000+0000</td></tr><tr><td>41796</td><td>2019-12-15</td><td>List(9)</td><td>2019-12-15T14:07:36.000+0000</td><td>2019-12-15T14:35:55.000+0000</td></tr><tr><td>41796</td><td>2019-12-16</td><td>List(10)</td><td>2019-12-16T06:57:58.000+0000</td><td>2019-12-16T07:42:12.000+0000</td></tr><tr><td>41954</td><td>2019-12-07</td><td>List(334)</td><td>2019-12-07T17:31:32.000+0000</td><td>2019-12-07T18:31:13.000+0000</td></tr><tr><td>41954</td><td>2019-12-14</td><td>List(335, 336)</td><td>2019-12-14T17:10:57.000+0000</td><td>2019-12-14T18:28:07.000+0000</td></tr><tr><td>42387</td><td>2019-12-02</td><td>List(1)</td><td>2019-12-02T14:16:48.000+0000</td><td>2019-12-02T15:31:34.000+0000</td></tr><tr><td>42387</td><td>2019-12-09</td><td>List(2, 3)</td><td>2019-12-09T14:07:50.000+0000</td><td>2019-12-09T14:40:56.000+0000</td></tr><tr><td>42387</td><td>2019-12-16</td><td>List(5, 4)</td><td>2019-12-16T13:48:01.000+0000</td><td>2019-12-16T15:26:00.000+0000</td></tr><tr><td>42643</td><td>2019-12-06</td><td>List(1)</td><td>2019-12-06T14:14:24.000+0000</td><td>2019-12-06T15:10:30.000+0000</td></tr><tr><td>42643</td><td>2019-12-07</td><td>List(2, 3)</td><td>2019-12-07T07:12:50.000+0000</td><td>2019-12-07T09:12:14.000+0000</td></tr><tr><td>43052</td><td>2019-12-02</td><td>List(1)</td><td>2019-12-02T17:40:10.000+0000</td><td>2019-12-02T18:55:11.000+0000</td></tr><tr><td>43052</td><td>2019-12-03</td><td>List(2, 3)</td><td>2019-12-03T07:29:31.000+0000</td><td>2019-12-03T08:55:42.000+0000</td></tr><tr><td>43052</td><td>2019-12-04</td><td>List(4)</td><td>2019-12-04T18:10:21.000+0000</td><td>2019-12-04T18:40:35.000+0000</td></tr><tr><td>43052</td><td>2019-12-05</td><td>List(5, 6)</td><td>2019-12-05T14:00:37.000+0000</td><td>2019-12-05T14:47:13.000+0000</td></tr><tr><td>43052</td><td>2019-12-06</td><td>List(7, 8)</td><td>2019-12-06T06:38:19.000+0000</td><td>2019-12-06T08:04:34.000+0000</td></tr><tr><td>43052</td><td>2019-12-07</td><td>List(9)</td><td>2019-12-07T07:35:16.000+0000</td><td>2019-12-07T08:40:03.000+0000</td></tr><tr><td>43052</td><td>2019-12-08</td><td>List(10, 11)</td><td>2019-12-08T14:13:08.000+0000</td><td>2019-12-08T15:39:15.000+0000</td></tr><tr><td>43052</td><td>2019-12-09</td><td>List(12, 13)</td><td>2019-12-09T18:10:01.000+0000</td><td>2019-12-09T19:13:50.000+0000</td></tr><tr><td>43052</td><td>2019-12-10</td><td>List(14)</td><td>2019-12-10T07:38:41.000+0000</td><td>2019-12-10T08:54:24.000+0000</td></tr><tr><td>43052</td><td>2019-12-11</td><td>List(15, 16)</td><td>2019-12-11T17:49:09.000+0000</td><td>2019-12-11T19:20:06.000+0000</td></tr><tr><td>43052</td><td>2019-12-12</td><td>List(17)</td><td>2019-12-12T14:02:04.000+0000</td><td>2019-12-12T14:58:43.000+0000</td></tr><tr><td>43052</td><td>2019-12-13</td><td>List(18)</td><td>2019-12-13T06:56:15.000+0000</td><td>2019-12-13T08:14:20.000+0000</td></tr><tr><td>43052</td><td>2019-12-14</td><td>List(19)</td><td>2019-12-14T07:04:18.000+0000</td><td>2019-12-14T08:07:24.000+0000</td></tr><tr><td>43052</td><td>2019-12-15</td><td>List(20, 21)</td><td>2019-12-15T14:08:41.000+0000</td><td>2019-12-15T15:38:27.000+0000</td></tr><tr><td>43104</td><td>2019-12-04</td><td>List(1)</td><td>2019-12-04T07:36:56.000+0000</td><td>2019-12-04T08:43:32.000+0000</td></tr><tr><td>43104</td><td>2019-12-08</td><td>List(2, 3)</td><td>2019-12-08T07:23:10.000+0000</td><td>2019-12-08T09:24:17.000+0000</td></tr><tr><td>43104</td><td>2019-12-09</td><td>List(5, 4)</td><td>2019-12-09T12:54:13.000+0000</td><td>2019-12-09T14:23:37.000+0000</td></tr><tr><td>43104</td><td>2019-12-10</td><td>List(6)</td><td>2019-12-10T14:08:28.000+0000</td><td>2019-12-10T15:06:10.000+0000</td></tr><tr><td>43104</td><td>2019-12-11</td><td>List(7)</td><td>2019-12-11T07:13:31.000+0000</td><td>2019-12-11T08:24:20.000+0000</td></tr><tr><td>43104</td><td>2019-12-15</td><td>List(9, 8)</td><td>2019-12-15T07:49:07.000+0000</td><td>2019-12-15T08:35:33.000+0000</td></tr><tr><td>43104</td><td>2019-12-16</td><td>List(10)</td><td>2019-12-16T12:20:04.000+0000</td><td>2019-12-16T13:21:38.000+0000</td></tr><tr><td>45875</td><td>2019-12-01</td><td>List(208, 207)</td><td>2019-12-01T12:12:58.000+0000</td><td>2019-12-01T13:14:53.000+0000</td></tr><tr><td>45875</td><td>2019-12-02</td><td>List(209, 210)</td><td>2019-12-02T13:58:05.000+0000</td><td>2019-12-02T15:00:47.000+0000</td></tr><tr><td>45875</td><td>2019-12-03</td><td>List(211)</td><td>2019-12-03T09:53:04.000+0000</td><td>2019-12-03T10:45:35.000+0000</td></tr><tr><td>45875</td><td>2019-12-04</td><td>List(212, 213)</td><td>2019-12-04T07:25:05.000+0000</td><td>2019-12-04T08:46:09.000+0000</td></tr><tr><td>45875</td><td>2019-12-05</td><td>List(214)</td><td>2019-12-05T17:54:06.000+0000</td><td>2019-12-05T19:13:31.000+0000</td></tr><tr><td>45875</td><td>2019-12-06</td><td>List(215)</td><td>2019-12-06T07:13:40.000+0000</td><td>2019-12-06T08:33:32.000+0000</td></tr><tr><td>45875</td><td>2019-12-07</td><td>List(216, 217)</td><td>2019-12-07T12:13:02.000+0000</td><td>2019-12-07T14:12:08.000+0000</td></tr><tr><td>45875</td><td>2019-12-08</td><td>List(218)</td><td>2019-12-08T12:42:47.000+0000</td><td>2019-12-08T13:50:37.000+0000</td></tr><tr><td>45875</td><td>2019-12-09</td><td>List(219, 220)</td><td>2019-12-09T13:56:40.000+0000</td><td>2019-12-09T15:24:55.000+0000</td></tr><tr><td>45875</td><td>2019-12-10</td><td>List(222, 223, 224, 221)</td><td>2019-12-10T09:58:20.000+0000</td><td>2019-12-10T11:33:03.000+0000</td></tr><tr><td>45875</td><td>2019-12-11</td><td>List(225, 226)</td><td>2019-12-11T07:45:27.000+0000</td><td>2019-12-11T08:55:35.000+0000</td></tr><tr><td>45875</td><td>2019-12-12</td><td>List(227, 228)</td><td>2019-12-12T17:43:39.000+0000</td><td>2019-12-12T19:02:16.000+0000</td></tr><tr><td>45875</td><td>2019-12-13</td><td>List(229)</td><td>2019-12-13T07:18:55.000+0000</td><td>2019-12-13T07:59:36.000+0000</td></tr><tr><td>45875</td><td>2019-12-14</td><td>List(230, 231, 232)</td><td>2019-12-14T12:47:48.000+0000</td><td>2019-12-14T14:40:21.000+0000</td></tr><tr><td>45875</td><td>2019-12-15</td><td>List(233, 234)</td><td>2019-12-15T12:22:47.000+0000</td><td>2019-12-15T13:20:42.000+0000</td></tr><tr><td>45875</td><td>2019-12-16</td><td>List(235)</td><td>2019-12-16T14:16:50.000+0000</td><td>2019-12-16T15:07:13.000+0000</td></tr><tr><td>47250</td><td>2019-12-16</td><td>List(1, 2)</td><td>2019-12-16T10:01:31.000+0000</td><td>2019-12-16T10:49:41.000+0000</td></tr><tr><td>47261</td><td>2019-12-14</td><td>List(1, 2)</td><td>2019-12-14T19:32:49.000+0000</td><td>2019-12-14T20:39:12.000+0000</td></tr><tr><td>47356</td><td>2019-12-03</td><td>List(1, 2)</td><td>2019-12-03T07:34:37.000+0000</td><td>2019-12-03T08:49:40.000+0000</td></tr><tr><td>47356</td><td>2019-12-04</td><td>List(3)</td><td>2019-12-04T17:27:47.000+0000</td><td>2019-12-04T18:08:49.000+0000</td></tr><tr><td>47356</td><td>2019-12-06</td><td>List(4)</td><td>2019-12-06T12:18:19.000+0000</td><td>2019-12-06T13:23:52.000+0000</td></tr><tr><td>47356</td><td>2019-12-07</td><td>List(5)</td><td>2019-12-07T17:49:51.000+0000</td><td>2019-12-07T18:52:06.000+0000</td></tr><tr><td>47356</td><td>2019-12-08</td><td>List(6, 7, 8)</td><td>2019-12-08T17:33:12.000+0000</td><td>2019-12-08T19:13:08.000+0000</td></tr><tr><td>47356</td><td>2019-12-10</td><td>List(9, 10)</td><td>2019-12-10T07:49:40.000+0000</td><td>2019-12-10T08:53:59.000+0000</td></tr><tr><td>47356</td><td>2019-12-11</td><td>List(12, 11)</td><td>2019-12-11T17:52:40.000+0000</td><td>2019-12-11T19:10:06.000+0000</td></tr><tr><td>47356</td><td>2019-12-13</td><td>List(15, 13, 14)</td><td>2019-12-13T12:28:35.000+0000</td><td>2019-12-13T14:25:14.000+0000</td></tr><tr><td>47356</td><td>2019-12-14</td><td>List(16)</td><td>2019-12-14T17:46:20.000+0000</td><td>2019-12-14T18:45:09.000+0000</td></tr><tr><td>47356</td><td>2019-12-15</td><td>List(17, 18)</td><td>2019-12-15T17:52:03.000+0000</td><td>2019-12-15T19:22:21.000+0000</td></tr><tr><td>47403</td><td>2019-12-06</td><td>List(194, 195)</td><td>2019-12-06T17:47:44.000+0000</td><td>2019-12-06T19:00:40.000+0000</td></tr><tr><td>47403</td><td>2019-12-13</td><td>List(196)</td><td>2019-12-13T17:45:51.000+0000</td><td>2019-12-13T18:15:19.000+0000</td></tr><tr><td>48721</td><td>2019-12-12</td><td>List(1)</td><td>2019-12-12T14:14:49.000+0000</td><td>2019-12-12T15:11:31.000+0000</td></tr><tr><td>48913</td><td>2019-12-08</td><td>List(1, 2)</td><td>2019-12-08T07:15:15.000+0000</td><td>2019-12-08T08:09:01.000+0000</td></tr><tr><td>48913</td><td>2019-12-15</td><td>List(3)</td><td>2019-12-15T06:54:11.000+0000</td><td>2019-12-15T07:56:13.000+0000</td></tr><tr><td>49075</td><td>2019-12-16</td><td>List(1)</td><td>2019-12-16T12:31:52.000+0000</td><td>2019-12-16T13:17:35.000+0000</td></tr><tr><td>49271</td><td>2019-12-11</td><td>List(1, 2)</td><td>2019-12-11T19:19:33.000+0000</td><td>2019-12-11T20:32:16.000+0000</td></tr><tr><td>49296</td><td>2019-12-02</td><td>List(61)</td><td>2019-12-02T14:10:19.000+0000</td><td>2019-12-02T14:49:49.000+0000</td></tr><tr><td>49296</td><td>2019-12-03</td><td>List(62)</td><td>2019-12-03T19:13:55.000+0000</td><td>2019-12-03T20:23:12.000+0000</td></tr><tr><td>49296</td><td>2019-12-05</td><td>List(63, 64)</td><td>2019-12-05T12:22:03.000+0000</td><td>2019-12-05T13:19:06.000+0000</td></tr><tr><td>49296</td><td>2019-12-09</td><td>List(66, 65)</td><td>2019-12-09T14:38:40.000+0000</td><td>2019-12-09T16:09:35.000+0000</td></tr><tr><td>49296</td><td>2019-12-10</td><td>List(67)</td><td>2019-12-10T19:25:01.000+0000</td><td>2019-12-10T20:29:13.000+0000</td></tr><tr><td>49296</td><td>2019-12-12</td><td>List(68)</td><td>2019-12-12T12:39:57.000+0000</td><td>2019-12-12T13:10:02.000+0000</td></tr><tr><td>49296</td><td>2019-12-16</td><td>List(70, 69)</td><td>2019-12-16T13:46:39.000+0000</td><td>2019-12-16T15:57:27.000+0000</td></tr><tr><td>49835</td><td>2019-12-10</td><td>List(1)</td><td>2019-12-10T07:31:28.000+0000</td><td>2019-12-10T08:48:30.000+0000</td></tr><tr><td>49835</td><td>2019-12-11</td><td>List(2)</td><td>2019-12-11T17:37:35.000+0000</td><td>2019-12-11T18:32:49.000+0000</td></tr><tr><td>49835</td><td>2019-12-13</td><td>List(3, 4)</td><td>2019-12-13T17:17:43.000+0000</td><td>2019-12-13T19:08:31.000+0000</td></tr></tbody></table></div>"
      ]
     },
     "metadata": {
      "application/vnd.databricks.v1+output": {
       "addedWidgets": {},
       "aggData": [],
       "aggError": "",
       "aggOverflow": false,
       "aggSchema": [],
       "aggSeriesLimitReached": false,
       "aggType": "",
       "arguments": {},
       "columnCustomDisplayInfos": {},
       "data": [
        [
         11745,
         "2019-12-10",
         [
          1
         ],
         "2019-12-10T07:25:12.000+0000",
         "2019-12-10T08:20:39.000+0000"
        ],
        [
         11745,
         "2019-12-13",
         [
          2
         ],
         "2019-12-13T13:51:49.000+0000",
         "2019-12-13T15:00:10.000+0000"
        ],
        [
         12140,
         "2019-12-05",
         [
          477,
          478
         ],
         "2019-12-05T07:52:09.000+0000",
         "2019-12-05T09:17:19.000+0000"
        ],
        [
         12140,
         "2019-12-12",
         [
          479
         ],
         "2019-12-12T07:15:44.000+0000",
         "2019-12-12T07:48:50.000+0000"
        ],
        [
         12227,
         "2019-12-11",
         [
          1,
          2
         ],
         "2019-12-11T17:16:57.000+0000",
         "2019-12-11T18:48:10.000+0000"
        ],
        [
         12227,
         "2019-12-13",
         [
          3
         ],
         "2019-12-13T12:28:41.000+0000",
         "2019-12-13T13:23:31.000+0000"
        ],
        [
         12227,
         "2019-12-15",
         [
          5,
          4
         ],
         "2019-12-15T07:30:29.000+0000",
         "2019-12-15T08:10:38.000+0000"
        ],
        [
         12474,
         "2019-12-01",
         [
          1,
          2
         ],
         "2019-12-01T17:28:22.000+0000",
         "2019-12-01T18:44:00.000+0000"
        ],
        [
         12474,
         "2019-12-02",
         [
          3
         ],
         "2019-12-02T07:39:36.000+0000",
         "2019-12-02T08:16:03.000+0000"
        ],
        [
         12474,
         "2019-12-03",
         [
          5,
          4
         ],
         "2019-12-03T07:20:53.000+0000",
         "2019-12-03T08:14:24.000+0000"
        ],
        [
         12474,
         "2019-12-07",
         [
          6,
          7
         ],
         "2019-12-07T07:23:24.000+0000",
         "2019-12-07T08:58:47.000+0000"
        ],
        [
         12474,
         "2019-12-08",
         [
          9,
          8
         ],
         "2019-12-08T17:49:38.000+0000",
         "2019-12-08T19:13:08.000+0000"
        ],
        [
         12474,
         "2019-12-09",
         [
          12,
          10,
          11
         ],
         "2019-12-09T06:50:32.000+0000",
         "2019-12-09T08:45:25.000+0000"
        ],
        [
         12474,
         "2019-12-10",
         [
          13,
          14
         ],
         "2019-12-10T07:13:03.000+0000",
         "2019-12-10T09:16:58.000+0000"
        ],
        [
         12474,
         "2019-12-14",
         [
          15
         ],
         "2019-12-14T07:05:08.000+0000",
         "2019-12-14T08:13:56.000+0000"
        ],
        [
         12474,
         "2019-12-15",
         [
          16,
          17
         ],
         "2019-12-15T17:45:58.000+0000",
         "2019-12-15T19:37:21.000+0000"
        ],
        [
         12474,
         "2019-12-16",
         [
          19,
          18
         ],
         "2019-12-16T07:44:51.000+0000",
         "2019-12-16T09:02:08.000+0000"
        ],
        [
         13559,
         "2019-12-03",
         [
          416,
          417
         ],
         "2019-12-03T19:05:17.000+0000",
         "2019-12-03T20:40:34.000+0000"
        ],
        [
         13559,
         "2019-12-10",
         [
          418
         ],
         "2019-12-10T19:27:26.000+0000",
         "2019-12-10T20:41:32.000+0000"
        ],
        [
         13937,
         "2019-12-05",
         [
          1
         ],
         "2019-12-05T18:38:00.000+0000",
         "2019-12-05T19:32:38.000+0000"
        ],
        [
         13937,
         "2019-12-08",
         [
          2,
          3
         ],
         "2019-12-08T14:09:43.000+0000",
         "2019-12-08T15:24:23.000+0000"
        ],
        [
         13937,
         "2019-12-09",
         [
          5,
          4
         ],
         "2019-12-09T18:51:39.000+0000",
         "2019-12-09T20:11:41.000+0000"
        ],
        [
         13937,
         "2019-12-12",
         [
          6
         ],
         "2019-12-12T18:43:46.000+0000",
         "2019-12-12T19:42:52.000+0000"
        ],
        [
         13937,
         "2019-12-15",
         [
          7,
          8
         ],
         "2019-12-15T14:01:08.000+0000",
         "2019-12-15T16:00:33.000+0000"
        ],
        [
         14232,
         "2019-12-01",
         [
          473
         ],
         "2019-12-01T07:17:02.000+0000",
         "2019-12-01T08:15:11.000+0000"
        ],
        [
         14232,
         "2019-12-02",
         [
          474
         ],
         "2019-12-02T07:30:08.000+0000",
         "2019-12-02T08:35:43.000+0000"
        ],
        [
         14232,
         "2019-12-03",
         [
          476,
          475
         ],
         "2019-12-03T07:25:43.000+0000",
         "2019-12-03T08:17:44.000+0000"
        ],
        [
         14232,
         "2019-12-04",
         [
          477
         ],
         "2019-12-04T07:14:02.000+0000",
         "2019-12-04T08:09:49.000+0000"
        ],
        [
         14232,
         "2019-12-05",
         [
          478
         ],
         "2019-12-05T17:22:46.000+0000",
         "2019-12-05T18:51:20.000+0000"
        ],
        [
         14232,
         "2019-12-06",
         [
          479
         ],
         "2019-12-06T17:40:04.000+0000",
         "2019-12-06T18:38:09.000+0000"
        ],
        [
         14232,
         "2019-12-07",
         [
          481,
          480
         ],
         "2019-12-07T07:38:04.000+0000",
         "2019-12-07T08:39:57.000+0000"
        ],
        [
         14232,
         "2019-12-08",
         [
          482,
          483
         ],
         "2019-12-08T07:47:26.000+0000",
         "2019-12-08T09:54:48.000+0000"
        ],
        [
         14232,
         "2019-12-09",
         [
          484
         ],
         "2019-12-09T07:35:26.000+0000",
         "2019-12-09T09:00:24.000+0000"
        ],
        [
         14232,
         "2019-12-10",
         [
          485,
          486
         ],
         "2019-12-10T07:39:30.000+0000",
         "2019-12-10T09:06:06.000+0000"
        ],
        [
         14232,
         "2019-12-11",
         [
          488,
          487
         ],
         "2019-12-11T07:26:38.000+0000",
         "2019-12-11T08:08:57.000+0000"
        ],
        [
         14232,
         "2019-12-12",
         [
          489
         ],
         "2019-12-12T17:29:29.000+0000",
         "2019-12-12T18:23:32.000+0000"
        ],
        [
         14232,
         "2019-12-13",
         [
          491,
          490
         ],
         "2019-12-13T17:19:04.000+0000",
         "2019-12-13T18:47:47.000+0000"
        ],
        [
         14232,
         "2019-12-14",
         [
          492,
          493
         ],
         "2019-12-14T07:49:48.000+0000",
         "2019-12-14T09:15:30.000+0000"
        ],
        [
         14232,
         "2019-12-15",
         [
          494,
          495
         ],
         "2019-12-15T07:39:13.000+0000",
         "2019-12-15T08:57:52.000+0000"
        ],
        [
         14232,
         "2019-12-16",
         [
          496
         ],
         "2019-12-16T07:09:16.000+0000",
         "2019-12-16T07:57:08.000+0000"
        ],
        [
         14508,
         "2019-12-01",
         [
          391,
          392
         ],
         "2019-12-01T17:31:31.000+0000",
         "2019-12-01T19:12:47.000+0000"
        ],
        [
         14508,
         "2019-12-02",
         [
          393
         ],
         "2019-12-02T12:23:54.000+0000",
         "2019-12-02T12:55:30.000+0000"
        ],
        [
         14508,
         "2019-12-03",
         [
          394,
          395,
          396
         ],
         "2019-12-03T17:21:34.000+0000",
         "2019-12-03T18:28:03.000+0000"
        ],
        [
         14508,
         "2019-12-04",
         [
          397,
          398,
          399,
          400
         ],
         "2019-12-04T07:11:49.000+0000",
         "2019-12-04T08:49:05.000+0000"
        ],
        [
         14508,
         "2019-12-05",
         [
          401,
          402
         ],
         "2019-12-05T14:07:24.000+0000",
         "2019-12-05T15:33:20.000+0000"
        ],
        [
         14508,
         "2019-12-06",
         [
          403
         ],
         "2019-12-06T11:59:58.000+0000",
         "2019-12-06T12:29:58.000+0000"
        ],
        [
         14508,
         "2019-12-07",
         [
          404
         ],
         "2019-12-07T12:21:36.000+0000",
         "2019-12-07T12:52:57.000+0000"
        ],
        [
         14508,
         "2019-12-08",
         [
          405,
          406
         ],
         "2019-12-08T17:39:14.000+0000",
         "2019-12-08T19:03:05.000+0000"
        ],
        [
         14508,
         "2019-12-09",
         [
          407,
          408
         ],
         "2019-12-09T12:12:44.000+0000",
         "2019-12-09T13:40:59.000+0000"
        ],
        [
         14508,
         "2019-12-10",
         [
          409
         ],
         "2019-12-10T17:40:29.000+0000",
         "2019-12-10T18:37:09.000+0000"
        ],
        [
         14508,
         "2019-12-11",
         [
          410
         ],
         "2019-12-11T07:09:46.000+0000",
         "2019-12-11T07:36:31.000+0000"
        ],
        [
         14508,
         "2019-12-12",
         [
          411
         ],
         "2019-12-12T14:12:44.000+0000",
         "2019-12-12T15:13:21.000+0000"
        ],
        [
         14508,
         "2019-12-13",
         [
          412
         ],
         "2019-12-13T12:47:47.000+0000",
         "2019-12-13T14:10:20.000+0000"
        ],
        [
         14508,
         "2019-12-14",
         [
          413
         ],
         "2019-12-14T12:13:48.000+0000",
         "2019-12-14T13:16:56.000+0000"
        ],
        [
         14508,
         "2019-12-15",
         [
          414,
          415
         ],
         "2019-12-15T18:06:59.000+0000",
         "2019-12-15T19:32:35.000+0000"
        ],
        [
         14508,
         "2019-12-16",
         [
          416,
          417
         ],
         "2019-12-16T12:18:44.000+0000",
         "2019-12-16T13:36:30.000+0000"
        ],
        [
         14633,
         "2019-12-16",
         [
          1
         ],
         "2019-12-16T14:02:57.000+0000",
         "2019-12-16T14:55:28.000+0000"
        ],
        [
         15149,
         "2019-12-03",
         [
          296,
          295
         ],
         "2019-12-03T17:39:09.000+0000",
         "2019-12-03T19:38:10.000+0000"
        ],
        [
         15149,
         "2019-12-10",
         [
          297
         ],
         "2019-12-10T17:17:06.000+0000",
         "2019-12-10T18:26:57.000+0000"
        ],
        [
         16093,
         "2019-12-01",
         [
          492
         ],
         "2019-12-01T17:38:03.000+0000",
         "2019-12-01T18:40:13.000+0000"
        ],
        [
         16093,
         "2019-12-02",
         [
          494,
          493
         ],
         "2019-12-02T14:01:04.000+0000",
         "2019-12-02T16:19:52.000+0000"
        ],
        [
         16093,
         "2019-12-03",
         [
          495
         ],
         "2019-12-03T09:41:10.000+0000",
         "2019-12-03T10:43:13.000+0000"
        ],
        [
         16093,
         "2019-12-04",
         [
          496,
          497
         ],
         "2019-12-04T12:16:43.000+0000",
         "2019-12-04T13:39:12.000+0000"
        ],
        [
         16093,
         "2019-12-07",
         [
          499,
          498
         ],
         "2019-12-07T17:51:40.000+0000",
         "2019-12-07T19:29:22.000+0000"
        ],
        [
         16093,
         "2019-12-08",
         [
          500,
          501
         ],
         "2019-12-08T17:59:54.000+0000",
         "2019-12-08T19:58:29.000+0000"
        ],
        [
         16093,
         "2019-12-09",
         [
          502
         ],
         "2019-12-09T13:43:36.000+0000",
         "2019-12-09T14:41:36.000+0000"
        ],
        [
         16093,
         "2019-12-10",
         [
          503,
          504
         ],
         "2019-12-10T09:57:15.000+0000",
         "2019-12-10T11:49:54.000+0000"
        ],
        [
         16093,
         "2019-12-11",
         [
          505
         ],
         "2019-12-11T12:32:48.000+0000",
         "2019-12-11T13:12:09.000+0000"
        ],
        [
         16093,
         "2019-12-14",
         [
          506
         ],
         "2019-12-14T17:36:08.000+0000",
         "2019-12-14T18:49:44.000+0000"
        ],
        [
         16093,
         "2019-12-15",
         [
          507
         ],
         "2019-12-15T17:30:22.000+0000",
         "2019-12-15T18:28:24.000+0000"
        ],
        [
         16093,
         "2019-12-16",
         [
          508
         ],
         "2019-12-16T14:18:03.000+0000",
         "2019-12-16T15:03:48.000+0000"
        ],
        [
         16819,
         "2019-12-03",
         [
          1,
          2
         ],
         "2019-12-03T17:24:50.000+0000",
         "2019-12-03T18:41:44.000+0000"
        ],
        [
         16819,
         "2019-12-10",
         [
          3,
          4
         ],
         "2019-12-10T17:35:54.000+0000",
         "2019-12-10T19:23:14.000+0000"
        ],
        [
         17807,
         "2019-12-11",
         [
          1,
          2
         ],
         "2019-12-11T07:25:35.000+0000",
         "2019-12-11T08:09:47.000+0000"
        ],
        [
         17807,
         "2019-12-12",
         [
          3,
          4
         ],
         "2019-12-12T14:19:25.000+0000",
         "2019-12-12T15:45:39.000+0000"
        ],
        [
         17807,
         "2019-12-13",
         [
          5
         ],
         "2019-12-13T13:37:34.000+0000",
         "2019-12-13T14:21:23.000+0000"
        ],
        [
         17807,
         "2019-12-14",
         [
          6,
          7
         ],
         "2019-12-14T12:21:25.000+0000",
         "2019-12-14T13:38:35.000+0000"
        ],
        [
         17807,
         "2019-12-15",
         [
          8
         ],
         "2019-12-15T12:06:08.000+0000",
         "2019-12-15T13:53:04.000+0000"
        ],
        [
         18587,
         "2019-12-07",
         [
          1,
          2,
          3
         ],
         "2019-12-07T07:30:45.000+0000",
         "2019-12-07T09:04:04.000+0000"
        ],
        [
         18587,
         "2019-12-14",
         [
          5,
          4
         ],
         "2019-12-14T07:48:03.000+0000",
         "2019-12-14T09:26:51.000+0000"
        ],
        [
         19005,
         "2019-12-05",
         [
          1
         ],
         "2019-12-05T14:07:47.000+0000",
         "2019-12-05T15:05:30.000+0000"
        ],
        [
         19005,
         "2019-12-12",
         [
          2
         ],
         "2019-12-12T13:58:42.000+0000",
         "2019-12-12T14:44:01.000+0000"
        ],
        [
         19103,
         "2019-12-15",
         [
          1
         ],
         "2019-12-15T17:39:34.000+0000",
         "2019-12-15T18:33:47.000+0000"
        ],
        [
         19103,
         "2019-12-16",
         [
          2,
          3
         ],
         "2019-12-16T09:56:40.000+0000",
         "2019-12-16T11:02:39.000+0000"
        ],
        [
         19150,
         "2019-12-13",
         [
          1
         ],
         "2019-12-13T12:27:11.000+0000",
         "2019-12-13T13:31:03.000+0000"
        ],
        [
         19150,
         "2019-12-14",
         [
          2
         ],
         "2019-12-14T14:15:12.000+0000",
         "2019-12-14T15:23:50.000+0000"
        ],
        [
         19198,
         "2019-12-02",
         [
          407,
          406
         ],
         "2019-12-02T14:05:59.000+0000",
         "2019-12-02T15:20:22.000+0000"
        ],
        [
         19198,
         "2019-12-09",
         [
          408
         ],
         "2019-12-09T13:53:49.000+0000",
         "2019-12-09T14:52:03.000+0000"
        ],
        [
         19622,
         "2019-12-15",
         [
          1,
          2
         ],
         "2019-12-15T07:27:33.000+0000",
         "2019-12-15T08:27:51.000+0000"
        ],
        [
         19787,
         "2019-12-11",
         [
          1
         ],
         "2019-12-11T18:04:53.000+0000",
         "2019-12-11T19:10:17.000+0000"
        ],
        [
         19787,
         "2019-12-12",
         [
          2,
          3
         ],
         "2019-12-12T17:50:05.000+0000",
         "2019-12-12T19:33:59.000+0000"
        ],
        [
         19787,
         "2019-12-13",
         [
          4
         ],
         "2019-12-13T12:31:25.000+0000",
         "2019-12-13T13:28:44.000+0000"
        ],
        [
         19787,
         "2019-12-16",
         [
          5,
          6
         ],
         "2019-12-16T07:30:13.000+0000",
         "2019-12-16T08:44:23.000+0000"
        ],
        [
         19859,
         "2019-12-03",
         [
          212,
          213,
          214
         ],
         "2019-12-03T13:59:40.000+0000",
         "2019-12-03T15:25:47.000+0000"
        ],
        [
         19859,
         "2019-12-04",
         [
          215,
          216
         ],
         "2019-12-04T17:17:03.000+0000",
         "2019-12-04T18:58:50.000+0000"
        ],
        [
         19859,
         "2019-12-06",
         [
          217,
          218
         ],
         "2019-12-06T19:13:00.000+0000",
         "2019-12-06T20:39:46.000+0000"
        ],
        [
         19859,
         "2019-12-07",
         [
          219
         ],
         "2019-12-07T07:05:14.000+0000",
         "2019-12-07T08:02:41.000+0000"
        ],
        [
         19859,
         "2019-12-10",
         [
          220,
          221
         ],
         "2019-12-10T13:57:33.000+0000",
         "2019-12-10T15:32:36.000+0000"
        ],
        [
         19859,
         "2019-12-11",
         [
          222,
          223
         ],
         "2019-12-11T17:51:36.000+0000",
         "2019-12-11T19:40:06.000+0000"
        ],
        [
         19859,
         "2019-12-13",
         [
          224
         ],
         "2019-12-13T19:05:08.000+0000",
         "2019-12-13T19:48:09.000+0000"
        ],
        [
         19859,
         "2019-12-14",
         [
          225
         ],
         "2019-12-14T07:23:48.000+0000",
         "2019-12-14T08:24:11.000+0000"
        ],
        [
         20217,
         "2019-12-13",
         [
          1
         ],
         "2019-12-13T14:15:03.000+0000",
         "2019-12-13T15:54:54.000+0000"
        ],
        [
         20217,
         "2019-12-14",
         [
          2,
          3
         ],
         "2019-12-14T09:44:51.000+0000",
         "2019-12-14T11:12:30.000+0000"
        ],
        [
         20496,
         "2019-12-03",
         [
          1
         ],
         "2019-12-03T13:59:57.000+0000",
         "2019-12-03T14:57:31.000+0000"
        ],
        [
         20496,
         "2019-12-04",
         [
          2,
          3
         ],
         "2019-12-04T17:24:54.000+0000",
         "2019-12-04T18:24:24.000+0000"
        ],
        [
         20496,
         "2019-12-10",
         [
          4
         ],
         "2019-12-10T14:25:20.000+0000",
         "2019-12-10T15:11:41.000+0000"
        ],
        [
         20496,
         "2019-12-11",
         [
          5,
          6
         ],
         "2019-12-11T17:54:18.000+0000",
         "2019-12-11T19:30:10.000+0000"
        ],
        [
         22480,
         "2019-12-12",
         [
          1
         ],
         "2019-12-12T13:43:51.000+0000",
         "2019-12-12T14:36:20.000+0000"
        ],
        [
         22480,
         "2019-12-13",
         [
          2
         ],
         "2019-12-13T17:35:34.000+0000",
         "2019-12-13T18:17:21.000+0000"
        ],
        [
         22480,
         "2019-12-14",
         [
          3,
          4
         ],
         "2019-12-14T12:10:48.000+0000",
         "2019-12-14T13:35:58.000+0000"
        ],
        [
         22501,
         "2019-12-13",
         [
          1
         ],
         "2019-12-13T14:07:08.000+0000",
         "2019-12-13T15:23:26.000+0000"
        ],
        [
         23250,
         "2019-12-01",
         [
          452
         ],
         "2019-12-01T07:31:36.000+0000",
         "2019-12-01T08:02:27.000+0000"
        ],
        [
         23250,
         "2019-12-08",
         [
          453,
          454
         ],
         "2019-12-08T07:23:24.000+0000",
         "2019-12-08T08:54:54.000+0000"
        ],
        [
         23250,
         "2019-12-15",
         [
          455,
          456,
          457
         ],
         "2019-12-15T07:13:11.000+0000",
         "2019-12-15T09:20:00.000+0000"
        ],
        [
         23767,
         "2019-12-08",
         [
          1,
          2
         ],
         "2019-12-08T07:36:01.000+0000",
         "2019-12-08T09:17:17.000+0000"
        ],
        [
         23767,
         "2019-12-15",
         [
          3,
          4
         ],
         "2019-12-15T07:12:36.000+0000",
         "2019-12-15T08:11:10.000+0000"
        ],
        [
         23916,
         "2019-12-05",
         [
          1
         ],
         "2019-12-05T12:37:00.000+0000",
         "2019-12-05T13:57:54.000+0000"
        ],
        [
         23916,
         "2019-12-06",
         [
          2,
          3
         ],
         "2019-12-06T12:14:16.000+0000",
         "2019-12-06T13:59:16.000+0000"
        ],
        [
         23916,
         "2019-12-07",
         [
          4
         ],
         "2019-12-07T17:22:14.000+0000",
         "2019-12-07T18:15:33.000+0000"
        ],
        [
         23916,
         "2019-12-10",
         [
          5,
          6
         ],
         "2019-12-10T13:56:50.000+0000",
         "2019-12-10T15:27:06.000+0000"
        ],
        [
         23916,
         "2019-12-12",
         [
          7
         ],
         "2019-12-12T12:49:29.000+0000",
         "2019-12-12T13:47:00.000+0000"
        ],
        [
         23916,
         "2019-12-13",
         [
          9,
          10,
          8
         ],
         "2019-12-13T11:56:55.000+0000",
         "2019-12-13T13:40:04.000+0000"
        ],
        [
         23916,
         "2019-12-14",
         [
          11
         ],
         "2019-12-14T17:03:56.000+0000",
         "2019-12-14T17:49:42.000+0000"
        ],
        [
         24018,
         "2019-12-01",
         [
          147,
          148
         ],
         "2019-12-01T06:57:06.000+0000",
         "2019-12-01T08:14:39.000+0000"
        ],
        [
         24018,
         "2019-12-03",
         [
          150,
          149
         ],
         "2019-12-03T09:58:34.000+0000",
         "2019-12-03T11:11:33.000+0000"
        ],
        [
         24018,
         "2019-12-04",
         [
          151
         ],
         "2019-12-04T18:53:28.000+0000",
         "2019-12-04T19:55:48.000+0000"
        ],
        [
         24018,
         "2019-12-05",
         [
          153,
          154,
          152
         ],
         "2019-12-05T07:19:42.000+0000",
         "2019-12-05T09:19:32.000+0000"
        ],
        [
         24018,
         "2019-12-06",
         [
          155
         ],
         "2019-12-06T18:45:55.000+0000",
         "2019-12-06T19:30:05.000+0000"
        ],
        [
         24018,
         "2019-12-07",
         [
          156
         ],
         "2019-12-07T14:16:12.000+0000",
         "2019-12-07T14:56:04.000+0000"
        ],
        [
         24018,
         "2019-12-08",
         [
          157
         ],
         "2019-12-08T07:28:10.000+0000",
         "2019-12-08T08:40:09.000+0000"
        ],
        [
         24018,
         "2019-12-10",
         [
          158,
          159
         ],
         "2019-12-10T10:10:21.000+0000",
         "2019-12-10T11:22:04.000+0000"
        ],
        [
         24018,
         "2019-12-11",
         [
          160
         ],
         "2019-12-11T19:15:37.000+0000",
         "2019-12-11T20:30:29.000+0000"
        ],
        [
         24018,
         "2019-12-12",
         [
          161,
          162
         ],
         "2019-12-12T07:17:50.000+0000",
         "2019-12-12T07:59:25.000+0000"
        ],
        [
         24018,
         "2019-12-13",
         [
          165,
          163,
          164
         ],
         "2019-12-13T19:23:37.000+0000",
         "2019-12-13T21:14:59.000+0000"
        ],
        [
         24018,
         "2019-12-14",
         [
          166
         ],
         "2019-12-14T14:37:52.000+0000",
         "2019-12-14T15:41:31.000+0000"
        ],
        [
         24018,
         "2019-12-15",
         [
          168,
          169,
          167
         ],
         "2019-12-15T07:28:30.000+0000",
         "2019-12-15T09:05:55.000+0000"
        ],
        [
         24863,
         "2019-12-02",
         [
          1,
          2
         ],
         "2019-12-02T14:10:41.000+0000",
         "2019-12-02T15:07:14.000+0000"
        ],
        [
         24863,
         "2019-12-09",
         [
          3
         ],
         "2019-12-09T13:37:14.000+0000",
         "2019-12-09T14:48:25.000+0000"
        ],
        [
         24863,
         "2019-12-16",
         [
          5,
          4
         ],
         "2019-12-16T14:25:12.000+0000",
         "2019-12-16T15:56:26.000+0000"
        ],
        [
         24968,
         "2019-12-08",
         [
          1
         ],
         "2019-12-08T17:26:59.000+0000",
         "2019-12-08T18:08:02.000+0000"
        ],
        [
         24968,
         "2019-12-09",
         [
          2
         ],
         "2019-12-09T17:16:15.000+0000",
         "2019-12-09T17:51:37.000+0000"
        ],
        [
         24968,
         "2019-12-14",
         [
          3
         ],
         "2019-12-14T14:04:06.000+0000",
         "2019-12-14T14:34:26.000+0000"
        ],
        [
         24968,
         "2019-12-15",
         [
          4
         ],
         "2019-12-15T17:47:08.000+0000",
         "2019-12-15T18:43:47.000+0000"
        ],
        [
         25143,
         "2019-12-13",
         [
          1
         ],
         "2019-12-13T17:41:35.000+0000",
         "2019-12-13T18:24:44.000+0000"
        ],
        [
         25143,
         "2019-12-14",
         [
          2,
          3
         ],
         "2019-12-14T07:28:28.000+0000",
         "2019-12-14T08:43:23.000+0000"
        ],
        [
         25143,
         "2019-12-15",
         [
          5,
          4
         ],
         "2019-12-15T09:57:30.000+0000",
         "2019-12-15T11:39:46.000+0000"
        ],
        [
         25143,
         "2019-12-16",
         [
          6,
          7
         ],
         "2019-12-16T12:22:25.000+0000",
         "2019-12-16T13:39:50.000+0000"
        ],
        [
         25477,
         "2019-12-06",
         [
          1,
          2,
          3
         ],
         "2019-12-06T12:17:06.000+0000",
         "2019-12-06T14:13:39.000+0000"
        ],
        [
         25477,
         "2019-12-08",
         [
          4
         ],
         "2019-12-08T17:33:42.000+0000",
         "2019-12-08T18:35:22.000+0000"
        ],
        [
         25477,
         "2019-12-09",
         [
          5
         ],
         "2019-12-09T07:39:13.000+0000",
         "2019-12-09T08:40:06.000+0000"
        ],
        [
         25477,
         "2019-12-13",
         [
          6,
          7
         ],
         "2019-12-13T12:28:01.000+0000",
         "2019-12-13T14:03:15.000+0000"
        ],
        [
         25477,
         "2019-12-15",
         [
          8
         ],
         "2019-12-15T17:22:57.000+0000",
         "2019-12-15T17:55:05.000+0000"
        ],
        [
         25477,
         "2019-12-16",
         [
          9
         ],
         "2019-12-16T06:56:16.000+0000",
         "2019-12-16T07:46:18.000+0000"
        ],
        [
         26285,
         "2019-12-01",
         [
          71
         ],
         "2019-12-01T18:03:43.000+0000",
         "2019-12-01T18:39:43.000+0000"
        ],
        [
         26285,
         "2019-12-02",
         [
          72,
          73
         ],
         "2019-12-02T14:13:24.000+0000",
         "2019-12-02T15:57:26.000+0000"
        ],
        [
         26285,
         "2019-12-03",
         [
          74,
          75
         ],
         "2019-12-03T09:54:16.000+0000",
         "2019-12-03T11:24:09.000+0000"
        ],
        [
         26285,
         "2019-12-04",
         [
          76
         ],
         "2019-12-04T07:37:05.000+0000",
         "2019-12-04T08:27:18.000+0000"
        ],
        [
         26285,
         "2019-12-05",
         [
          77
         ],
         "2019-12-05T14:18:42.000+0000",
         "2019-12-05T15:18:35.000+0000"
        ],
        [
         26285,
         "2019-12-06",
         [
          78
         ],
         "2019-12-06T19:33:09.000+0000",
         "2019-12-06T20:50:20.000+0000"
        ],
        [
         26285,
         "2019-12-07",
         [
          79
         ],
         "2019-12-07T14:08:59.000+0000",
         "2019-12-07T15:12:16.000+0000"
        ],
        [
         26285,
         "2019-12-08",
         [
          81,
          80
         ],
         "2019-12-08T17:21:08.000+0000",
         "2019-12-08T18:51:47.000+0000"
        ],
        [
         26285,
         "2019-12-09",
         [
          82
         ],
         "2019-12-09T13:55:55.000+0000",
         "2019-12-09T15:07:03.000+0000"
        ],
        [
         26285,
         "2019-12-10",
         [
          84,
          83
         ],
         "2019-12-10T09:30:30.000+0000",
         "2019-12-10T10:33:28.000+0000"
        ],
        [
         26285,
         "2019-12-11",
         [
          85
         ],
         "2019-12-11T07:41:08.000+0000",
         "2019-12-11T08:49:25.000+0000"
        ],
        [
         26285,
         "2019-12-12",
         [
          86
         ],
         "2019-12-12T14:23:52.000+0000",
         "2019-12-12T15:28:56.000+0000"
        ],
        [
         26285,
         "2019-12-13",
         [
          87
         ],
         "2019-12-13T18:53:16.000+0000",
         "2019-12-13T19:52:44.000+0000"
        ],
        [
         26285,
         "2019-12-14",
         [
          88
         ],
         "2019-12-14T13:56:04.000+0000",
         "2019-12-14T14:51:19.000+0000"
        ],
        [
         26285,
         "2019-12-15",
         [
          89
         ],
         "2019-12-15T17:38:58.000+0000",
         "2019-12-15T18:34:51.000+0000"
        ],
        [
         26285,
         "2019-12-16",
         [
          90,
          91
         ],
         "2019-12-16T14:11:22.000+0000",
         "2019-12-16T15:50:49.000+0000"
        ],
        [
         26847,
         "2019-12-01",
         [
          1,
          2
         ],
         "2019-12-01T12:17:07.000+0000",
         "2019-12-01T13:49:05.000+0000"
        ],
        [
         26847,
         "2019-12-07",
         [
          3
         ],
         "2019-12-07T17:29:55.000+0000",
         "2019-12-07T18:20:39.000+0000"
        ],
        [
         26847,
         "2019-12-08",
         [
          4
         ],
         "2019-12-08T12:24:34.000+0000",
         "2019-12-08T12:55:46.000+0000"
        ],
        [
         26847,
         "2019-12-14",
         [
          5
         ],
         "2019-12-14T17:08:16.000+0000",
         "2019-12-14T18:18:08.000+0000"
        ],
        [
         26847,
         "2019-12-15",
         [
          6
         ],
         "2019-12-15T12:34:53.000+0000",
         "2019-12-15T13:28:38.000+0000"
        ],
        [
         27306,
         "2019-12-01",
         [
          161,
          162
         ],
         "2019-12-01T07:10:48.000+0000",
         "2019-12-01T09:00:57.000+0000"
        ],
        [
         27306,
         "2019-12-02",
         [
          163,
          164
         ],
         "2019-12-02T17:41:47.000+0000",
         "2019-12-02T18:53:10.000+0000"
        ],
        [
         27306,
         "2019-12-03",
         [
          165
         ],
         "2019-12-03T17:32:13.000+0000",
         "2019-12-03T18:32:57.000+0000"
        ],
        [
         27306,
         "2019-12-04",
         [
          166
         ],
         "2019-12-04T17:26:48.000+0000",
         "2019-12-04T17:55:19.000+0000"
        ],
        [
         27306,
         "2019-12-05",
         [
          168,
          167
         ],
         "2019-12-05T14:10:43.000+0000",
         "2019-12-05T15:56:16.000+0000"
        ],
        [
         27306,
         "2019-12-06",
         [
          169
         ],
         "2019-12-06T19:22:43.000+0000",
         "2019-12-06T20:00:52.000+0000"
        ],
        [
         27306,
         "2019-12-07",
         [
          170
         ],
         "2019-12-07T09:27:55.000+0000",
         "2019-12-07T10:11:13.000+0000"
        ],
        [
         27306,
         "2019-12-08",
         [
          171
         ],
         "2019-12-08T07:24:08.000+0000",
         "2019-12-08T08:10:56.000+0000"
        ],
        [
         27306,
         "2019-12-09",
         [
          172
         ],
         "2019-12-09T17:52:25.000+0000",
         "2019-12-09T18:49:08.000+0000"
        ],
        [
         27306,
         "2019-12-10",
         [
          173,
          174
         ],
         "2019-12-10T17:35:29.000+0000",
         "2019-12-10T19:11:36.000+0000"
        ],
        [
         27306,
         "2019-12-11",
         [
          176,
          175
         ],
         "2019-12-11T17:43:49.000+0000",
         "2019-12-11T18:50:11.000+0000"
        ],
        [
         27306,
         "2019-12-12",
         [
          177,
          178
         ],
         "2019-12-12T14:01:57.000+0000",
         "2019-12-12T15:24:18.000+0000"
        ],
        [
         27306,
         "2019-12-13",
         [
          179,
          180
         ],
         "2019-12-13T18:54:13.000+0000",
         "2019-12-13T20:06:00.000+0000"
        ],
        [
         27306,
         "2019-12-14",
         [
          183,
          181,
          182
         ],
         "2019-12-14T09:33:07.000+0000",
         "2019-12-14T11:54:43.000+0000"
        ],
        [
         27306,
         "2019-12-15",
         [
          184
         ],
         "2019-12-15T07:35:36.000+0000",
         "2019-12-15T08:34:22.000+0000"
        ],
        [
         27671,
         "2019-12-12",
         [
          1
         ],
         "2019-12-12T06:48:39.000+0000",
         "2019-12-12T07:33:35.000+0000"
        ],
        [
         27703,
         "2019-12-01",
         [
          456
         ],
         "2019-12-01T12:30:33.000+0000",
         "2019-12-01T13:04:39.000+0000"
        ],
        [
         27703,
         "2019-12-08",
         [
          457
         ],
         "2019-12-08T12:17:56.000+0000",
         "2019-12-08T13:17:49.000+0000"
        ],
        [
         27703,
         "2019-12-15",
         [
          458,
          459
         ],
         "2019-12-15T12:18:15.000+0000",
         "2019-12-15T13:58:35.000+0000"
        ],
        [
         27836,
         "2019-12-13",
         [
          1,
          2
         ],
         "2019-12-13T14:16:03.000+0000",
         "2019-12-13T15:30:19.000+0000"
        ],
        [
         28359,
         "2019-12-08",
         [
          1,
          2
         ],
         "2019-12-08T13:55:25.000+0000",
         "2019-12-08T15:07:18.000+0000"
        ],
        [
         28359,
         "2019-12-15",
         [
          3,
          4
         ],
         "2019-12-15T14:03:20.000+0000",
         "2019-12-15T15:29:46.000+0000"
        ],
        [
         28521,
         "2019-12-01",
         [
          328,
          327
         ],
         "2019-12-01T18:40:45.000+0000",
         "2019-12-01T19:32:29.000+0000"
        ],
        [
         28521,
         "2019-12-04",
         [
          329,
          330
         ],
         "2019-12-04T17:52:49.000+0000",
         "2019-12-04T19:24:33.000+0000"
        ],
        [
         28521,
         "2019-12-05",
         [
          332,
          331
         ],
         "2019-12-05T17:52:04.000+0000",
         "2019-12-05T18:43:50.000+0000"
        ],
        [
         28521,
         "2019-12-06",
         [
          333
         ],
         "2019-12-06T18:01:03.000+0000",
         "2019-12-06T19:03:45.000+0000"
        ],
        [
         28521,
         "2019-12-08",
         [
          334
         ],
         "2019-12-08T18:57:00.000+0000",
         "2019-12-08T19:53:54.000+0000"
        ],
        [
         28521,
         "2019-12-11",
         [
          335
         ],
         "2019-12-11T17:50:01.000+0000",
         "2019-12-11T19:01:42.000+0000"
        ],
        [
         28521,
         "2019-12-12",
         [
          336
         ],
         "2019-12-12T17:45:20.000+0000",
         "2019-12-12T18:44:07.000+0000"
        ],
        [
         28521,
         "2019-12-13",
         [
          338,
          337
         ],
         "2019-12-13T17:50:50.000+0000",
         "2019-12-13T18:40:28.000+0000"
        ],
        [
         28588,
         "2019-12-01",
         [
          1
         ],
         "2019-12-01T13:41:06.000+0000",
         "2019-12-01T14:11:59.000+0000"
        ],
        [
         28588,
         "2019-12-02",
         [
          2,
          3
         ],
         "2019-12-02T14:20:16.000+0000",
         "2019-12-02T15:27:01.000+0000"
        ],
        [
         28588,
         "2019-12-05",
         [
          5,
          4
         ],
         "2019-12-05T12:26:10.000+0000",
         "2019-12-05T15:08:07.000+0000"
        ],
        [
         28588,
         "2019-12-07",
         [
          6,
          7
         ],
         "2019-12-07T07:09:01.000+0000",
         "2019-12-07T08:16:00.000+0000"
        ],
        [
         28588,
         "2019-12-08",
         [
          9,
          8
         ],
         "2019-12-08T14:00:55.000+0000",
         "2019-12-08T15:26:45.000+0000"
        ],
        [
         28588,
         "2019-12-09",
         [
          10
         ],
         "2019-12-09T14:03:34.000+0000",
         "2019-12-09T15:03:49.000+0000"
        ],
        [
         28588,
         "2019-12-12",
         [
          11
         ],
         "2019-12-12T12:31:59.000+0000",
         "2019-12-12T13:09:23.000+0000"
        ],
        [
         28588,
         "2019-12-14",
         [
          12
         ],
         "2019-12-14T07:46:53.000+0000",
         "2019-12-14T08:34:51.000+0000"
        ],
        [
         28588,
         "2019-12-15",
         [
          13,
          14
         ],
         "2019-12-15T13:54:36.000+0000",
         "2019-12-15T15:05:36.000+0000"
        ],
        [
         28588,
         "2019-12-16",
         [
          15,
          16
         ],
         "2019-12-16T14:11:20.000+0000",
         "2019-12-16T15:34:25.000+0000"
        ],
        [
         28776,
         "2019-12-01",
         [
          389,
          390
         ],
         "2019-12-01T13:53:45.000+0000",
         "2019-12-01T14:45:02.000+0000"
        ],
        [
         28776,
         "2019-12-08",
         [
          391
         ],
         "2019-12-08T14:13:19.000+0000",
         "2019-12-08T15:07:16.000+0000"
        ],
        [
         28814,
         "2019-12-11",
         [
          1
         ],
         "2019-12-11T07:36:01.000+0000",
         "2019-12-11T08:27:42.000+0000"
        ],
        [
         28814,
         "2019-12-12",
         [
          2
         ],
         "2019-12-12T12:18:00.000+0000",
         "2019-12-12T13:33:12.000+0000"
        ],
        [
         28814,
         "2019-12-13",
         [
          5,
          3,
          4
         ],
         "2019-12-13T14:08:56.000+0000",
         "2019-12-13T15:43:57.000+0000"
        ],
        [
         28814,
         "2019-12-14",
         [
          6,
          7
         ],
         "2019-12-14T11:57:18.000+0000",
         "2019-12-14T13:04:27.000+0000"
        ],
        [
         28814,
         "2019-12-15",
         [
          9,
          8
         ],
         "2019-12-15T17:33:46.000+0000",
         "2019-12-15T18:39:18.000+0000"
        ],
        [
         28814,
         "2019-12-16",
         [
          10
         ],
         "2019-12-16T14:14:09.000+0000",
         "2019-12-16T14:46:22.000+0000"
        ],
        [
         28938,
         "2019-12-03",
         [
          426,
          427
         ],
         "2019-12-03T12:24:43.000+0000",
         "2019-12-03T13:48:08.000+0000"
        ],
        [
         28938,
         "2019-12-10",
         [
          428
         ],
         "2019-12-10T12:36:58.000+0000",
         "2019-12-10T13:31:13.000+0000"
        ],
        [
         29130,
         "2019-12-05",
         [
          1,
          2
         ],
         "2019-12-05T10:01:19.000+0000",
         "2019-12-05T12:14:01.000+0000"
        ],
        [
         29130,
         "2019-12-06",
         [
          3
         ],
         "2019-12-06T12:40:42.000+0000",
         "2019-12-06T14:20:17.000+0000"
        ],
        [
         29130,
         "2019-12-07",
         [
          4
         ],
         "2019-12-07T13:52:18.000+0000",
         "2019-12-07T14:56:31.000+0000"
        ],
        [
         29130,
         "2019-12-08",
         [
          5,
          6
         ],
         "2019-12-08T17:52:21.000+0000",
         "2019-12-08T18:45:25.000+0000"
        ],
        [
         29130,
         "2019-12-10",
         [
          7
         ],
         "2019-12-10T17:47:12.000+0000",
         "2019-12-10T19:24:51.000+0000"
        ],
        [
         29130,
         "2019-12-12",
         [
          9,
          8
         ],
         "2019-12-12T09:48:24.000+0000",
         "2019-12-12T10:59:05.000+0000"
        ],
        [
         29130,
         "2019-12-13",
         [
          10,
          11
         ],
         "2019-12-13T12:31:33.000+0000",
         "2019-12-13T14:11:42.000+0000"
        ],
        [
         29130,
         "2019-12-14",
         [
          12,
          13
         ],
         "2019-12-14T14:21:48.000+0000",
         "2019-12-14T15:44:37.000+0000"
        ],
        [
         29130,
         "2019-12-15",
         [
          14
         ],
         "2019-12-15T17:11:58.000+0000",
         "2019-12-15T18:35:42.000+0000"
        ],
        [
         29213,
         "2019-12-01",
         [
          294,
          295
         ],
         "2019-12-01T10:06:19.000+0000",
         "2019-12-01T11:33:36.000+0000"
        ],
        [
         29213,
         "2019-12-02",
         [
          296,
          297,
          298
         ],
         "2019-12-02T17:21:40.000+0000",
         "2019-12-02T18:47:19.000+0000"
        ],
        [
         29213,
         "2019-12-03",
         [
          299
         ],
         "2019-12-03T07:30:44.000+0000",
         "2019-12-03T08:16:04.000+0000"
        ],
        [
         29213,
         "2019-12-04",
         [
          302,
          300,
          301
         ],
         "2019-12-04T17:51:47.000+0000",
         "2019-12-04T18:50:35.000+0000"
        ],
        [
         29213,
         "2019-12-05",
         [
          303,
          304
         ],
         "2019-12-05T13:40:38.000+0000",
         "2019-12-05T15:32:42.000+0000"
        ],
        [
         29213,
         "2019-12-06",
         [
          305
         ],
         "2019-12-06T17:32:10.000+0000",
         "2019-12-06T18:22:38.000+0000"
        ],
        [
         29213,
         "2019-12-07",
         [
          306,
          307,
          308
         ],
         "2019-12-07T07:22:51.000+0000",
         "2019-12-07T09:07:14.000+0000"
        ],
        [
         29213,
         "2019-12-08",
         [
          309
         ],
         "2019-12-08T09:53:28.000+0000",
         "2019-12-08T10:29:18.000+0000"
        ],
        [
         29213,
         "2019-12-09",
         [
          310
         ],
         "2019-12-09T17:31:36.000+0000",
         "2019-12-09T18:33:36.000+0000"
        ],
        [
         29213,
         "2019-12-10",
         [
          311
         ],
         "2019-12-10T07:33:27.000+0000",
         "2019-12-10T08:09:09.000+0000"
        ],
        [
         29213,
         "2019-12-11",
         [
          312
         ],
         "2019-12-11T18:00:47.000+0000",
         "2019-12-11T18:46:47.000+0000"
        ],
        [
         29213,
         "2019-12-12",
         [
          314,
          313
         ],
         "2019-12-12T14:12:02.000+0000",
         "2019-12-12T15:58:08.000+0000"
        ],
        [
         29213,
         "2019-12-13",
         [
          315,
          316
         ],
         "2019-12-13T17:42:12.000+0000",
         "2019-12-13T19:01:42.000+0000"
        ],
        [
         29213,
         "2019-12-14",
         [
          317,
          318
         ],
         "2019-12-14T07:17:47.000+0000",
         "2019-12-14T08:37:31.000+0000"
        ],
        [
         29213,
         "2019-12-15",
         [
          320,
          319
         ],
         "2019-12-15T10:20:14.000+0000",
         "2019-12-15T11:28:51.000+0000"
        ],
        [
         29745,
         "2019-12-05",
         [
          1
         ],
         "2019-12-05T12:04:19.000+0000",
         "2019-12-05T12:57:54.000+0000"
        ],
        [
         29745,
         "2019-12-07",
         [
          2,
          3,
          4
         ],
         "2019-12-07T17:34:34.000+0000",
         "2019-12-07T18:47:17.000+0000"
        ],
        [
         29745,
         "2019-12-12",
         [
          5,
          6
         ],
         "2019-12-12T11:56:43.000+0000",
         "2019-12-12T12:48:29.000+0000"
        ],
        [
         29745,
         "2019-12-14",
         [
          7
         ],
         "2019-12-14T17:28:19.000+0000",
         "2019-12-14T18:21:04.000+0000"
        ],
        [
         30088,
         "2019-12-02",
         [
          445,
          446
         ],
         "2019-12-02T17:27:12.000+0000",
         "2019-12-02T19:28:48.000+0000"
        ],
        [
         30088,
         "2019-12-03",
         [
          447
         ],
         "2019-12-03T07:26:47.000+0000",
         "2019-12-03T08:30:21.000+0000"
        ],
        [
         30088,
         "2019-12-07",
         [
          448
         ],
         "2019-12-07T17:39:56.000+0000",
         "2019-12-07T18:15:44.000+0000"
        ],
        [
         30088,
         "2019-12-09",
         [
          449,
          450
         ],
         "2019-12-09T17:27:09.000+0000",
         "2019-12-09T18:19:49.000+0000"
        ],
        [
         30088,
         "2019-12-10",
         [
          451
         ],
         "2019-12-10T07:18:34.000+0000",
         "2019-12-10T09:04:40.000+0000"
        ],
        [
         30088,
         "2019-12-14",
         [
          452
         ],
         "2019-12-14T17:23:12.000+0000",
         "2019-12-14T18:16:14.000+0000"
        ],
        [
         30514,
         "2019-12-10",
         [
          1,
          2,
          3
         ],
         "2019-12-10T09:48:52.000+0000",
         "2019-12-10T11:20:31.000+0000"
        ],
        [
         30612,
         "2019-12-06",
         [
          368,
          367
         ],
         "2019-12-06T12:21:20.000+0000",
         "2019-12-06T14:52:17.000+0000"
        ],
        [
         30612,
         "2019-12-13",
         [
          369
         ],
         "2019-12-13T12:30:46.000+0000",
         "2019-12-13T13:32:00.000+0000"
        ],
        [
         31057,
         "2019-12-14",
         [
          1
         ],
         "2019-12-14T10:14:00.000+0000",
         "2019-12-14T11:12:24.000+0000"
        ],
        [
         31057,
         "2019-12-15",
         [
          2,
          3
         ],
         "2019-12-15T07:09:51.000+0000",
         "2019-12-15T08:34:57.000+0000"
        ],
        [
         31057,
         "2019-12-16",
         [
          4
         ],
         "2019-12-16T14:15:58.000+0000",
         "2019-12-16T14:44:33.000+0000"
        ],
        [
         31362,
         "2019-12-02",
         [
          296,
          295
         ],
         "2019-12-02T12:28:52.000+0000",
         "2019-12-02T13:20:16.000+0000"
        ],
        [
         31362,
         "2019-12-04",
         [
          297
         ],
         "2019-12-04T12:24:15.000+0000",
         "2019-12-04T13:02:43.000+0000"
        ],
        [
         31362,
         "2019-12-05",
         [
          298
         ],
         "2019-12-05T09:52:55.000+0000",
         "2019-12-05T11:09:00.000+0000"
        ],
        [
         31362,
         "2019-12-07",
         [
          299
         ],
         "2019-12-07T07:26:03.000+0000",
         "2019-12-07T08:05:47.000+0000"
        ],
        [
         31362,
         "2019-12-09",
         [
          300
         ],
         "2019-12-09T12:04:15.000+0000",
         "2019-12-09T13:01:58.000+0000"
        ],
        [
         31362,
         "2019-12-11",
         [
          301
         ],
         "2019-12-11T12:27:49.000+0000",
         "2019-12-11T12:58:56.000+0000"
        ],
        [
         31362,
         "2019-12-12",
         [
          302,
          303
         ],
         "2019-12-12T09:54:18.000+0000",
         "2019-12-12T11:13:45.000+0000"
        ],
        [
         31362,
         "2019-12-14",
         [
          304
         ],
         "2019-12-14T07:10:21.000+0000",
         "2019-12-14T08:09:31.000+0000"
        ],
        [
         31362,
         "2019-12-16",
         [
          305,
          306,
          307
         ],
         "2019-12-16T12:28:16.000+0000",
         "2019-12-16T14:34:05.000+0000"
        ],
        [
         32018,
         "2019-12-01",
         [
          362,
          363
         ],
         "2019-12-01T07:06:49.000+0000",
         "2019-12-01T07:56:02.000+0000"
        ],
        [
         32018,
         "2019-12-08",
         [
          364
         ],
         "2019-12-08T07:50:37.000+0000",
         "2019-12-08T09:29:09.000+0000"
        ],
        [
         32018,
         "2019-12-15",
         [
          365
         ],
         "2019-12-15T07:42:06.000+0000",
         "2019-12-15T08:19:01.000+0000"
        ],
        [
         33733,
         "2019-12-07",
         [
          1
         ],
         "2019-12-07T07:25:01.000+0000",
         "2019-12-07T08:06:22.000+0000"
        ],
        [
         33733,
         "2019-12-14",
         [
          2,
          3,
          4
         ],
         "2019-12-14T07:33:44.000+0000",
         "2019-12-14T09:25:33.000+0000"
        ],
        [
         33987,
         "2019-12-01",
         [
          486
         ],
         "2019-12-01T17:31:02.000+0000",
         "2019-12-01T18:36:14.000+0000"
        ],
        [
         33987,
         "2019-12-02",
         [
          487
         ],
         "2019-12-02T17:38:01.000+0000",
         "2019-12-02T18:36:27.000+0000"
        ],
        [
         33987,
         "2019-12-03",
         [
          488,
          489
         ],
         "2019-12-03T07:20:59.000+0000",
         "2019-12-03T09:18:06.000+0000"
        ],
        [
         33987,
         "2019-12-04",
         [
          491,
          490
         ],
         "2019-12-04T14:08:26.000+0000",
         "2019-12-04T16:13:03.000+0000"
        ],
        [
         33987,
         "2019-12-05",
         [
          492
         ],
         "2019-12-05T12:09:46.000+0000",
         "2019-12-05T13:40:36.000+0000"
        ],
        [
         33987,
         "2019-12-06",
         [
          494,
          493
         ],
         "2019-12-06T13:58:14.000+0000",
         "2019-12-06T15:27:49.000+0000"
        ],
        [
         33987,
         "2019-12-07",
         [
          495
         ],
         "2019-12-07T14:30:40.000+0000",
         "2019-12-07T15:43:53.000+0000"
        ],
        [
         33987,
         "2019-12-08",
         [
          496
         ],
         "2019-12-08T17:26:32.000+0000",
         "2019-12-08T18:01:35.000+0000"
        ],
        [
         33987,
         "2019-12-09",
         [
          497
         ],
         "2019-12-09T17:42:24.000+0000",
         "2019-12-09T18:59:58.000+0000"
        ],
        [
         33987,
         "2019-12-10",
         [
          498
         ],
         "2019-12-10T07:31:25.000+0000",
         "2019-12-10T08:38:24.000+0000"
        ],
        [
         33987,
         "2019-12-11",
         [
          499,
          500
         ],
         "2019-12-11T14:05:23.000+0000",
         "2019-12-11T15:34:31.000+0000"
        ],
        [
         33987,
         "2019-12-12",
         [
          501
         ],
         "2019-12-12T12:12:28.000+0000",
         "2019-12-12T12:52:44.000+0000"
        ],
        [
         33987,
         "2019-12-13",
         [
          502
         ],
         "2019-12-13T13:55:26.000+0000",
         "2019-12-13T14:57:02.000+0000"
        ],
        [
         33987,
         "2019-12-14",
         [
          503,
          504
         ],
         "2019-12-14T13:53:55.000+0000",
         "2019-12-14T15:52:41.000+0000"
        ],
        [
         33987,
         "2019-12-15",
         [
          506,
          507,
          505
         ],
         "2019-12-15T17:14:55.000+0000",
         "2019-12-15T18:52:13.000+0000"
        ],
        [
         34740,
         "2019-12-01",
         [
          310,
          311
         ],
         "2019-12-01T07:14:58.000+0000",
         "2019-12-01T09:10:26.000+0000"
        ],
        [
         34740,
         "2019-12-02",
         [
          314,
          312,
          313
         ],
         "2019-12-02T19:07:54.000+0000",
         "2019-12-02T21:20:42.000+0000"
        ],
        [
         34740,
         "2019-12-03",
         [
          315,
          316
         ],
         "2019-12-03T07:44:58.000+0000",
         "2019-12-03T09:26:22.000+0000"
        ],
        [
         34740,
         "2019-12-04",
         [
          317
         ],
         "2019-12-04T19:27:29.000+0000",
         "2019-12-04T20:03:15.000+0000"
        ],
        [
         34740,
         "2019-12-05",
         [
          318
         ],
         "2019-12-05T13:51:59.000+0000",
         "2019-12-05T14:41:01.000+0000"
        ],
        [
         34740,
         "2019-12-06",
         [
          319
         ],
         "2019-12-06T17:30:05.000+0000",
         "2019-12-06T18:09:10.000+0000"
        ],
        [
         34740,
         "2019-12-07",
         [
          320,
          321
         ],
         "2019-12-07T12:19:13.000+0000",
         "2019-12-07T13:52:32.000+0000"
        ],
        [
         34740,
         "2019-12-08",
         [
          322
         ],
         "2019-12-08T07:41:08.000+0000",
         "2019-12-08T09:08:04.000+0000"
        ],
        [
         34740,
         "2019-12-09",
         [
          324,
          323
         ],
         "2019-12-09T18:58:57.000+0000",
         "2019-12-09T20:13:56.000+0000"
        ],
        [
         34740,
         "2019-12-10",
         [
          325
         ],
         "2019-12-10T07:16:38.000+0000",
         "2019-12-10T08:21:15.000+0000"
        ],
        [
         34740,
         "2019-12-11",
         [
          326
         ],
         "2019-12-11T19:05:52.000+0000",
         "2019-12-11T20:04:29.000+0000"
        ],
        [
         34740,
         "2019-12-12",
         [
          327
         ],
         "2019-12-12T14:09:38.000+0000",
         "2019-12-12T15:04:38.000+0000"
        ],
        [
         34740,
         "2019-12-13",
         [
          328,
          329
         ],
         "2019-12-13T17:30:28.000+0000",
         "2019-12-13T18:42:15.000+0000"
        ],
        [
         34740,
         "2019-12-14",
         [
          330
         ],
         "2019-12-14T11:58:23.000+0000",
         "2019-12-14T12:51:14.000+0000"
        ],
        [
         34740,
         "2019-12-15",
         [
          331
         ],
         "2019-12-15T07:42:59.000+0000",
         "2019-12-15T08:13:45.000+0000"
        ],
        [
         35226,
         "2019-12-01",
         [
          402,
          403
         ],
         "2019-12-01T09:52:59.000+0000",
         "2019-12-01T10:33:57.000+0000"
        ],
        [
         35226,
         "2019-12-02",
         [
          404,
          405
         ],
         "2019-12-02T18:44:00.000+0000",
         "2019-12-02T20:16:36.000+0000"
        ],
        [
         35226,
         "2019-12-03",
         [
          407,
          406
         ],
         "2019-12-03T17:23:39.000+0000",
         "2019-12-03T18:01:25.000+0000"
        ],
        [
         35226,
         "2019-12-04",
         [
          408
         ],
         "2019-12-04T19:15:11.000+0000",
         "2019-12-04T20:01:14.000+0000"
        ],
        [
         35226,
         "2019-12-05",
         [
          409,
          410
         ],
         "2019-12-05T17:54:31.000+0000",
         "2019-12-05T19:03:05.000+0000"
        ],
        [
         35226,
         "2019-12-07",
         [
          411,
          412
         ],
         "2019-12-07T07:43:39.000+0000",
         "2019-12-07T09:01:57.000+0000"
        ],
        [
         35226,
         "2019-12-08",
         [
          413,
          414
         ],
         "2019-12-08T09:27:47.000+0000",
         "2019-12-08T10:13:22.000+0000"
        ],
        [
         35226,
         "2019-12-09",
         [
          416,
          415
         ],
         "2019-12-09T18:43:44.000+0000",
         "2019-12-09T20:35:13.000+0000"
        ],
        [
         35226,
         "2019-12-10",
         [
          417
         ],
         "2019-12-10T17:53:30.000+0000",
         "2019-12-10T18:58:10.000+0000"
        ],
        [
         35226,
         "2019-12-11",
         [
          418
         ],
         "2019-12-11T19:06:44.000+0000",
         "2019-12-11T19:50:42.000+0000"
        ],
        [
         35226,
         "2019-12-12",
         [
          419,
          420
         ],
         "2019-12-12T17:57:02.000+0000",
         "2019-12-12T19:51:39.000+0000"
        ],
        [
         35226,
         "2019-12-14",
         [
          422,
          421
         ],
         "2019-12-14T07:34:52.000+0000",
         "2019-12-14T08:34:55.000+0000"
        ],
        [
         35226,
         "2019-12-15",
         [
          423
         ],
         "2019-12-15T09:24:11.000+0000",
         "2019-12-15T09:58:28.000+0000"
        ],
        [
         35428,
         "2019-12-12",
         [
          1
         ],
         "2019-12-12T18:09:28.000+0000",
         "2019-12-12T18:51:59.000+0000"
        ],
        [
         35728,
         "2019-12-01",
         [
          404,
          403
         ],
         "2019-12-01T17:33:26.000+0000",
         "2019-12-01T19:29:07.000+0000"
        ],
        [
         35728,
         "2019-12-02",
         [
          405
         ],
         "2019-12-02T17:25:18.000+0000",
         "2019-12-02T18:11:58.000+0000"
        ],
        [
         35728,
         "2019-12-03",
         [
          407,
          406
         ],
         "2019-12-03T14:02:47.000+0000",
         "2019-12-03T15:43:51.000+0000"
        ],
        [
         35728,
         "2019-12-05",
         [
          408,
          409,
          410
         ],
         "2019-12-05T13:47:26.000+0000",
         "2019-12-05T16:46:31.000+0000"
        ],
        [
         35728,
         "2019-12-06",
         [
          411
         ],
         "2019-12-06T07:27:28.000+0000",
         "2019-12-06T08:23:10.000+0000"
        ],
        [
         35728,
         "2019-12-07",
         [
          412,
          413
         ],
         "2019-12-07T19:10:42.000+0000",
         "2019-12-07T20:12:08.000+0000"
        ],
        [
         35728,
         "2019-12-08",
         [
          414
         ],
         "2019-12-08T17:21:08.000+0000",
         "2019-12-08T17:53:28.000+0000"
        ],
        [
         35728,
         "2019-12-09",
         [
          415
         ],
         "2019-12-09T17:16:30.000+0000",
         "2019-12-09T18:36:40.000+0000"
        ],
        [
         35728,
         "2019-12-10",
         [
          416
         ],
         "2019-12-10T14:29:31.000+0000",
         "2019-12-10T15:13:12.000+0000"
        ],
        [
         35728,
         "2019-12-12",
         [
          417,
          418
         ],
         "2019-12-12T14:03:21.000+0000",
         "2019-12-12T15:56:19.000+0000"
        ],
        [
         35728,
         "2019-12-13",
         [
          419,
          420
         ],
         "2019-12-13T08:04:28.000+0000",
         "2019-12-13T09:21:56.000+0000"
        ],
        [
         35728,
         "2019-12-14",
         [
          422,
          423,
          421
         ],
         "2019-12-14T18:56:12.000+0000",
         "2019-12-14T20:27:09.000+0000"
        ],
        [
         35728,
         "2019-12-15",
         [
          425,
          426,
          424
         ],
         "2019-12-15T17:19:48.000+0000",
         "2019-12-15T19:06:12.000+0000"
        ],
        [
         36066,
         "2019-12-13",
         [
          1
         ],
         "2019-12-13T17:23:04.000+0000",
         "2019-12-13T18:39:54.000+0000"
        ],
        [
         36117,
         "2019-12-02",
         [
          314
         ],
         "2019-12-02T07:01:34.000+0000",
         "2019-12-02T07:37:58.000+0000"
        ],
        [
         36117,
         "2019-12-04",
         [
          315,
          316
         ],
         "2019-12-04T17:48:53.000+0000",
         "2019-12-04T18:28:47.000+0000"
        ],
        [
         36117,
         "2019-12-05",
         [
          317
         ],
         "2019-12-05T18:04:48.000+0000",
         "2019-12-05T19:46:45.000+0000"
        ],
        [
         36117,
         "2019-12-06",
         [
          318
         ],
         "2019-12-06T17:37:12.000+0000",
         "2019-12-06T18:11:35.000+0000"
        ],
        [
         36117,
         "2019-12-07",
         [
          319
         ],
         "2019-12-07T19:29:01.000+0000",
         "2019-12-07T20:28:39.000+0000"
        ],
        [
         36117,
         "2019-12-09",
         [
          320
         ],
         "2019-12-09T07:31:12.000+0000",
         "2019-12-09T08:24:05.000+0000"
        ],
        [
         36117,
         "2019-12-11",
         [
          321
         ],
         "2019-12-11T17:33:29.000+0000",
         "2019-12-11T18:09:36.000+0000"
        ],
        [
         36117,
         "2019-12-12",
         [
          322
         ],
         "2019-12-12T17:25:04.000+0000",
         "2019-12-12T19:08:10.000+0000"
        ],
        [
         36117,
         "2019-12-13",
         [
          323
         ],
         "2019-12-13T17:43:43.000+0000",
         "2019-12-13T19:01:57.000+0000"
        ],
        [
         36117,
         "2019-12-14",
         [
          324
         ],
         "2019-12-14T19:04:01.000+0000",
         "2019-12-14T20:42:25.000+0000"
        ],
        [
         36117,
         "2019-12-16",
         [
          325
         ],
         "2019-12-16T07:43:18.000+0000",
         "2019-12-16T08:30:24.000+0000"
        ],
        [
         36164,
         "2019-12-06",
         [
          482
         ],
         "2019-12-06T17:29:06.000+0000",
         "2019-12-06T18:41:03.000+0000"
        ],
        [
         36164,
         "2019-12-07",
         [
          484,
          483
         ],
         "2019-12-07T17:10:06.000+0000",
         "2019-12-07T18:48:23.000+0000"
        ],
        [
         36164,
         "2019-12-13",
         [
          485,
          486
         ],
         "2019-12-13T17:48:17.000+0000",
         "2019-12-13T18:51:01.000+0000"
        ],
        [
         36164,
         "2019-12-14",
         [
          487
         ],
         "2019-12-14T17:35:13.000+0000",
         "2019-12-14T18:39:15.000+0000"
        ],
        [
         36469,
         "2019-12-14",
         [
          1
         ],
         "2019-12-14T07:14:56.000+0000",
         "2019-12-14T08:14:31.000+0000"
        ],
        [
         36469,
         "2019-12-15",
         [
          2,
          3
         ],
         "2019-12-15T17:18:34.000+0000",
         "2019-12-15T18:55:33.000+0000"
        ],
        [
         36644,
         "2019-12-03",
         [
          279
         ],
         "2019-12-03T07:48:44.000+0000",
         "2019-12-03T09:09:12.000+0000"
        ],
        [
         36644,
         "2019-12-10",
         [
          281,
          280
         ],
         "2019-12-10T07:33:43.000+0000",
         "2019-12-10T08:39:40.000+0000"
        ],
        [
         37012,
         "2019-12-02",
         [
          56,
          55
         ],
         "2019-12-02T17:38:55.000+0000",
         "2019-12-02T18:59:07.000+0000"
        ],
        [
         37012,
         "2019-12-07",
         [
          57
         ],
         "2019-12-07T18:59:21.000+0000",
         "2019-12-07T19:57:55.000+0000"
        ],
        [
         37012,
         "2019-12-09",
         [
          58,
          59
         ],
         "2019-12-09T17:50:52.000+0000",
         "2019-12-09T19:39:26.000+0000"
        ],
        [
         37012,
         "2019-12-14",
         [
          60
         ],
         "2019-12-14T19:19:55.000+0000",
         "2019-12-14T20:20:07.000+0000"
        ],
        [
         38766,
         "2019-12-02",
         [
          402
         ],
         "2019-12-02T07:34:51.000+0000",
         "2019-12-02T08:44:49.000+0000"
        ],
        [
         38766,
         "2019-12-09",
         [
          404,
          403
         ],
         "2019-12-09T07:19:43.000+0000",
         "2019-12-09T09:21:50.000+0000"
        ],
        [
         38766,
         "2019-12-16",
         [
          405
         ],
         "2019-12-16T07:07:45.000+0000",
         "2019-12-16T07:54:11.000+0000"
        ],
        [
         39676,
         "2019-12-06",
         [
          1,
          2
         ],
         "2019-12-06T14:08:44.000+0000",
         "2019-12-06T15:20:47.000+0000"
        ],
        [
         40177,
         "2019-12-14",
         [
          1,
          2
         ],
         "2019-12-14T12:11:36.000+0000",
         "2019-12-14T13:20:46.000+0000"
        ],
        [
         40559,
         "2019-12-13",
         [
          1
         ],
         "2019-12-13T09:28:41.000+0000",
         "2019-12-13T10:02:42.000+0000"
        ],
        [
         40559,
         "2019-12-14",
         [
          2
         ],
         "2019-12-14T17:40:31.000+0000",
         "2019-12-14T18:51:19.000+0000"
        ],
        [
         40559,
         "2019-12-15",
         [
          3
         ],
         "2019-12-15T17:55:57.000+0000",
         "2019-12-15T18:53:56.000+0000"
        ],
        [
         40559,
         "2019-12-16",
         [
          4
         ],
         "2019-12-16T13:45:08.000+0000",
         "2019-12-16T14:57:30.000+0000"
        ],
        [
         40872,
         "2019-12-01",
         [
          75,
          76
         ],
         "2019-12-01T19:17:33.000+0000",
         "2019-12-01T21:05:26.000+0000"
        ],
        [
         40872,
         "2019-12-02",
         [
          78,
          77
         ],
         "2019-12-02T13:55:00.000+0000",
         "2019-12-02T14:58:39.000+0000"
        ],
        [
         40872,
         "2019-12-03",
         [
          79
         ],
         "2019-12-03T10:01:50.000+0000",
         "2019-12-03T11:02:13.000+0000"
        ],
        [
         40872,
         "2019-12-04",
         [
          81,
          80
         ],
         "2019-12-04T11:47:39.000+0000",
         "2019-12-04T13:32:10.000+0000"
        ],
        [
         40872,
         "2019-12-05",
         [
          82
         ],
         "2019-12-05T14:15:43.000+0000",
         "2019-12-05T15:22:59.000+0000"
        ],
        [
         40872,
         "2019-12-06",
         [
          84,
          83
         ],
         "2019-12-06T14:06:00.000+0000",
         "2019-12-06T15:07:46.000+0000"
        ],
        [
         40872,
         "2019-12-07",
         [
          85,
          86
         ],
         "2019-12-07T09:53:06.000+0000",
         "2019-12-07T12:03:06.000+0000"
        ],
        [
         40872,
         "2019-12-08",
         [
          88,
          87
         ],
         "2019-12-08T19:28:44.000+0000",
         "2019-12-08T20:29:07.000+0000"
        ],
        [
         40872,
         "2019-12-09",
         [
          89
         ],
         "2019-12-09T14:14:21.000+0000",
         "2019-12-09T14:55:10.000+0000"
        ],
        [
         40872,
         "2019-12-10",
         [
          90,
          91
         ],
         "2019-12-10T09:45:10.000+0000",
         "2019-12-10T10:42:13.000+0000"
        ],
        [
         40872,
         "2019-12-11",
         [
          93,
          92
         ],
         "2019-12-11T12:08:38.000+0000",
         "2019-12-11T13:39:00.000+0000"
        ],
        [
         40872,
         "2019-12-12",
         [
          94,
          95
         ],
         "2019-12-12T14:05:59.000+0000",
         "2019-12-12T15:32:07.000+0000"
        ],
        [
         40872,
         "2019-12-13",
         [
          96
         ],
         "2019-12-13T14:21:08.000+0000",
         "2019-12-13T14:57:55.000+0000"
        ],
        [
         40872,
         "2019-12-14",
         [
          97
         ],
         "2019-12-14T10:06:29.000+0000",
         "2019-12-14T11:52:32.000+0000"
        ],
        [
         40872,
         "2019-12-15",
         [
          99,
          98
         ],
         "2019-12-15T19:10:04.000+0000",
         "2019-12-15T20:56:06.000+0000"
        ],
        [
         40872,
         "2019-12-16",
         [
          100,
          101
         ],
         "2019-12-16T14:05:39.000+0000",
         "2019-12-16T15:32:23.000+0000"
        ],
        [
         41192,
         "2019-12-07",
         [
          1
         ],
         "2019-12-07T09:43:31.000+0000",
         "2019-12-07T10:46:58.000+0000"
        ],
        [
         41192,
         "2019-12-08",
         [
          2,
          3
         ],
         "2019-12-08T12:39:41.000+0000",
         "2019-12-08T14:15:05.000+0000"
        ],
        [
         41192,
         "2019-12-09",
         [
          4
         ],
         "2019-12-09T18:01:20.000+0000",
         "2019-12-09T18:52:27.000+0000"
        ],
        [
         41192,
         "2019-12-10",
         [
          5
         ],
         "2019-12-10T17:39:59.000+0000",
         "2019-12-10T18:14:34.000+0000"
        ],
        [
         41192,
         "2019-12-12",
         [
          6,
          7
         ],
         "2019-12-12T17:39:22.000+0000",
         "2019-12-12T19:00:02.000+0000"
        ],
        [
         41192,
         "2019-12-14",
         [
          9,
          8
         ],
         "2019-12-14T09:43:41.000+0000",
         "2019-12-14T11:00:33.000+0000"
        ],
        [
         41192,
         "2019-12-15",
         [
          10
         ],
         "2019-12-15T12:33:00.000+0000",
         "2019-12-15T13:00:48.000+0000"
        ],
        [
         41367,
         "2019-12-02",
         [
          312
         ],
         "2019-12-02T19:11:54.000+0000",
         "2019-12-02T20:05:58.000+0000"
        ],
        [
         41367,
         "2019-12-09",
         [
          314,
          313
         ],
         "2019-12-09T19:13:04.000+0000",
         "2019-12-09T20:56:57.000+0000"
        ],
        [
         41488,
         "2019-12-11",
         [
          1
         ],
         "2019-12-11T17:19:47.000+0000",
         "2019-12-11T18:01:50.000+0000"
        ],
        [
         41488,
         "2019-12-12",
         [
          2
         ],
         "2019-12-12T13:41:38.000+0000",
         "2019-12-12T14:58:29.000+0000"
        ],
        [
         41488,
         "2019-12-13",
         [
          5,
          3,
          4
         ],
         "2019-12-13T07:02:20.000+0000",
         "2019-12-13T08:37:24.000+0000"
        ],
        [
         41488,
         "2019-12-14",
         [
          6,
          7
         ],
         "2019-12-14T18:53:34.000+0000",
         "2019-12-14T20:47:46.000+0000"
        ],
        [
         41488,
         "2019-12-15",
         [
          8
         ],
         "2019-12-15T07:16:57.000+0000",
         "2019-12-15T08:14:21.000+0000"
        ],
        [
         41488,
         "2019-12-16",
         [
          9,
          10
         ],
         "2019-12-16T14:33:52.000+0000",
         "2019-12-16T16:06:00.000+0000"
        ],
        [
         41732,
         "2019-12-11",
         [
          1,
          2
         ],
         "2019-12-11T06:54:57.000+0000",
         "2019-12-11T08:32:43.000+0000"
        ],
        [
         41732,
         "2019-12-13",
         [
          3,
          4
         ],
         "2019-12-13T14:00:36.000+0000",
         "2019-12-13T15:40:10.000+0000"
        ],
        [
         41732,
         "2019-12-15",
         [
          5,
          6
         ],
         "2019-12-15T11:53:48.000+0000",
         "2019-12-15T13:14:39.000+0000"
        ],
        [
         41732,
         "2019-12-16",
         [
          9,
          7,
          8
         ],
         "2019-12-16T14:06:57.000+0000",
         "2019-12-16T15:43:45.000+0000"
        ],
        [
         41796,
         "2019-12-09",
         [
          1
         ],
         "2019-12-09T07:05:53.000+0000",
         "2019-12-09T07:43:07.000+0000"
        ],
        [
         41796,
         "2019-12-10",
         [
          2,
          3
         ],
         "2019-12-10T17:41:14.000+0000",
         "2019-12-10T18:59:30.000+0000"
        ],
        [
         41796,
         "2019-12-11",
         [
          4
         ],
         "2019-12-11T17:21:59.000+0000",
         "2019-12-11T18:17:27.000+0000"
        ],
        [
         41796,
         "2019-12-12",
         [
          5
         ],
         "2019-12-12T07:22:33.000+0000",
         "2019-12-12T07:59:02.000+0000"
        ],
        [
         41796,
         "2019-12-13",
         [
          6,
          7
         ],
         "2019-12-13T07:20:40.000+0000",
         "2019-12-13T08:50:39.000+0000"
        ],
        [
         41796,
         "2019-12-14",
         [
          8
         ],
         "2019-12-14T12:10:07.000+0000",
         "2019-12-14T12:54:01.000+0000"
        ],
        [
         41796,
         "2019-12-15",
         [
          9
         ],
         "2019-12-15T14:07:36.000+0000",
         "2019-12-15T14:35:55.000+0000"
        ],
        [
         41796,
         "2019-12-16",
         [
          10
         ],
         "2019-12-16T06:57:58.000+0000",
         "2019-12-16T07:42:12.000+0000"
        ],
        [
         41954,
         "2019-12-07",
         [
          334
         ],
         "2019-12-07T17:31:32.000+0000",
         "2019-12-07T18:31:13.000+0000"
        ],
        [
         41954,
         "2019-12-14",
         [
          335,
          336
         ],
         "2019-12-14T17:10:57.000+0000",
         "2019-12-14T18:28:07.000+0000"
        ],
        [
         42387,
         "2019-12-02",
         [
          1
         ],
         "2019-12-02T14:16:48.000+0000",
         "2019-12-02T15:31:34.000+0000"
        ],
        [
         42387,
         "2019-12-09",
         [
          2,
          3
         ],
         "2019-12-09T14:07:50.000+0000",
         "2019-12-09T14:40:56.000+0000"
        ],
        [
         42387,
         "2019-12-16",
         [
          5,
          4
         ],
         "2019-12-16T13:48:01.000+0000",
         "2019-12-16T15:26:00.000+0000"
        ],
        [
         42643,
         "2019-12-06",
         [
          1
         ],
         "2019-12-06T14:14:24.000+0000",
         "2019-12-06T15:10:30.000+0000"
        ],
        [
         42643,
         "2019-12-07",
         [
          2,
          3
         ],
         "2019-12-07T07:12:50.000+0000",
         "2019-12-07T09:12:14.000+0000"
        ],
        [
         43052,
         "2019-12-02",
         [
          1
         ],
         "2019-12-02T17:40:10.000+0000",
         "2019-12-02T18:55:11.000+0000"
        ],
        [
         43052,
         "2019-12-03",
         [
          2,
          3
         ],
         "2019-12-03T07:29:31.000+0000",
         "2019-12-03T08:55:42.000+0000"
        ],
        [
         43052,
         "2019-12-04",
         [
          4
         ],
         "2019-12-04T18:10:21.000+0000",
         "2019-12-04T18:40:35.000+0000"
        ],
        [
         43052,
         "2019-12-05",
         [
          5,
          6
         ],
         "2019-12-05T14:00:37.000+0000",
         "2019-12-05T14:47:13.000+0000"
        ],
        [
         43052,
         "2019-12-06",
         [
          7,
          8
         ],
         "2019-12-06T06:38:19.000+0000",
         "2019-12-06T08:04:34.000+0000"
        ],
        [
         43052,
         "2019-12-07",
         [
          9
         ],
         "2019-12-07T07:35:16.000+0000",
         "2019-12-07T08:40:03.000+0000"
        ],
        [
         43052,
         "2019-12-08",
         [
          10,
          11
         ],
         "2019-12-08T14:13:08.000+0000",
         "2019-12-08T15:39:15.000+0000"
        ],
        [
         43052,
         "2019-12-09",
         [
          12,
          13
         ],
         "2019-12-09T18:10:01.000+0000",
         "2019-12-09T19:13:50.000+0000"
        ],
        [
         43052,
         "2019-12-10",
         [
          14
         ],
         "2019-12-10T07:38:41.000+0000",
         "2019-12-10T08:54:24.000+0000"
        ],
        [
         43052,
         "2019-12-11",
         [
          15,
          16
         ],
         "2019-12-11T17:49:09.000+0000",
         "2019-12-11T19:20:06.000+0000"
        ],
        [
         43052,
         "2019-12-12",
         [
          17
         ],
         "2019-12-12T14:02:04.000+0000",
         "2019-12-12T14:58:43.000+0000"
        ],
        [
         43052,
         "2019-12-13",
         [
          18
         ],
         "2019-12-13T06:56:15.000+0000",
         "2019-12-13T08:14:20.000+0000"
        ],
        [
         43052,
         "2019-12-14",
         [
          19
         ],
         "2019-12-14T07:04:18.000+0000",
         "2019-12-14T08:07:24.000+0000"
        ],
        [
         43052,
         "2019-12-15",
         [
          20,
          21
         ],
         "2019-12-15T14:08:41.000+0000",
         "2019-12-15T15:38:27.000+0000"
        ],
        [
         43104,
         "2019-12-04",
         [
          1
         ],
         "2019-12-04T07:36:56.000+0000",
         "2019-12-04T08:43:32.000+0000"
        ],
        [
         43104,
         "2019-12-08",
         [
          2,
          3
         ],
         "2019-12-08T07:23:10.000+0000",
         "2019-12-08T09:24:17.000+0000"
        ],
        [
         43104,
         "2019-12-09",
         [
          5,
          4
         ],
         "2019-12-09T12:54:13.000+0000",
         "2019-12-09T14:23:37.000+0000"
        ],
        [
         43104,
         "2019-12-10",
         [
          6
         ],
         "2019-12-10T14:08:28.000+0000",
         "2019-12-10T15:06:10.000+0000"
        ],
        [
         43104,
         "2019-12-11",
         [
          7
         ],
         "2019-12-11T07:13:31.000+0000",
         "2019-12-11T08:24:20.000+0000"
        ],
        [
         43104,
         "2019-12-15",
         [
          9,
          8
         ],
         "2019-12-15T07:49:07.000+0000",
         "2019-12-15T08:35:33.000+0000"
        ],
        [
         43104,
         "2019-12-16",
         [
          10
         ],
         "2019-12-16T12:20:04.000+0000",
         "2019-12-16T13:21:38.000+0000"
        ],
        [
         45875,
         "2019-12-01",
         [
          208,
          207
         ],
         "2019-12-01T12:12:58.000+0000",
         "2019-12-01T13:14:53.000+0000"
        ],
        [
         45875,
         "2019-12-02",
         [
          209,
          210
         ],
         "2019-12-02T13:58:05.000+0000",
         "2019-12-02T15:00:47.000+0000"
        ],
        [
         45875,
         "2019-12-03",
         [
          211
         ],
         "2019-12-03T09:53:04.000+0000",
         "2019-12-03T10:45:35.000+0000"
        ],
        [
         45875,
         "2019-12-04",
         [
          212,
          213
         ],
         "2019-12-04T07:25:05.000+0000",
         "2019-12-04T08:46:09.000+0000"
        ],
        [
         45875,
         "2019-12-05",
         [
          214
         ],
         "2019-12-05T17:54:06.000+0000",
         "2019-12-05T19:13:31.000+0000"
        ],
        [
         45875,
         "2019-12-06",
         [
          215
         ],
         "2019-12-06T07:13:40.000+0000",
         "2019-12-06T08:33:32.000+0000"
        ],
        [
         45875,
         "2019-12-07",
         [
          216,
          217
         ],
         "2019-12-07T12:13:02.000+0000",
         "2019-12-07T14:12:08.000+0000"
        ],
        [
         45875,
         "2019-12-08",
         [
          218
         ],
         "2019-12-08T12:42:47.000+0000",
         "2019-12-08T13:50:37.000+0000"
        ],
        [
         45875,
         "2019-12-09",
         [
          219,
          220
         ],
         "2019-12-09T13:56:40.000+0000",
         "2019-12-09T15:24:55.000+0000"
        ],
        [
         45875,
         "2019-12-10",
         [
          222,
          223,
          224,
          221
         ],
         "2019-12-10T09:58:20.000+0000",
         "2019-12-10T11:33:03.000+0000"
        ],
        [
         45875,
         "2019-12-11",
         [
          225,
          226
         ],
         "2019-12-11T07:45:27.000+0000",
         "2019-12-11T08:55:35.000+0000"
        ],
        [
         45875,
         "2019-12-12",
         [
          227,
          228
         ],
         "2019-12-12T17:43:39.000+0000",
         "2019-12-12T19:02:16.000+0000"
        ],
        [
         45875,
         "2019-12-13",
         [
          229
         ],
         "2019-12-13T07:18:55.000+0000",
         "2019-12-13T07:59:36.000+0000"
        ],
        [
         45875,
         "2019-12-14",
         [
          230,
          231,
          232
         ],
         "2019-12-14T12:47:48.000+0000",
         "2019-12-14T14:40:21.000+0000"
        ],
        [
         45875,
         "2019-12-15",
         [
          233,
          234
         ],
         "2019-12-15T12:22:47.000+0000",
         "2019-12-15T13:20:42.000+0000"
        ],
        [
         45875,
         "2019-12-16",
         [
          235
         ],
         "2019-12-16T14:16:50.000+0000",
         "2019-12-16T15:07:13.000+0000"
        ],
        [
         47250,
         "2019-12-16",
         [
          1,
          2
         ],
         "2019-12-16T10:01:31.000+0000",
         "2019-12-16T10:49:41.000+0000"
        ],
        [
         47261,
         "2019-12-14",
         [
          1,
          2
         ],
         "2019-12-14T19:32:49.000+0000",
         "2019-12-14T20:39:12.000+0000"
        ],
        [
         47356,
         "2019-12-03",
         [
          1,
          2
         ],
         "2019-12-03T07:34:37.000+0000",
         "2019-12-03T08:49:40.000+0000"
        ],
        [
         47356,
         "2019-12-04",
         [
          3
         ],
         "2019-12-04T17:27:47.000+0000",
         "2019-12-04T18:08:49.000+0000"
        ],
        [
         47356,
         "2019-12-06",
         [
          4
         ],
         "2019-12-06T12:18:19.000+0000",
         "2019-12-06T13:23:52.000+0000"
        ],
        [
         47356,
         "2019-12-07",
         [
          5
         ],
         "2019-12-07T17:49:51.000+0000",
         "2019-12-07T18:52:06.000+0000"
        ],
        [
         47356,
         "2019-12-08",
         [
          6,
          7,
          8
         ],
         "2019-12-08T17:33:12.000+0000",
         "2019-12-08T19:13:08.000+0000"
        ],
        [
         47356,
         "2019-12-10",
         [
          9,
          10
         ],
         "2019-12-10T07:49:40.000+0000",
         "2019-12-10T08:53:59.000+0000"
        ],
        [
         47356,
         "2019-12-11",
         [
          12,
          11
         ],
         "2019-12-11T17:52:40.000+0000",
         "2019-12-11T19:10:06.000+0000"
        ],
        [
         47356,
         "2019-12-13",
         [
          15,
          13,
          14
         ],
         "2019-12-13T12:28:35.000+0000",
         "2019-12-13T14:25:14.000+0000"
        ],
        [
         47356,
         "2019-12-14",
         [
          16
         ],
         "2019-12-14T17:46:20.000+0000",
         "2019-12-14T18:45:09.000+0000"
        ],
        [
         47356,
         "2019-12-15",
         [
          17,
          18
         ],
         "2019-12-15T17:52:03.000+0000",
         "2019-12-15T19:22:21.000+0000"
        ],
        [
         47403,
         "2019-12-06",
         [
          194,
          195
         ],
         "2019-12-06T17:47:44.000+0000",
         "2019-12-06T19:00:40.000+0000"
        ],
        [
         47403,
         "2019-12-13",
         [
          196
         ],
         "2019-12-13T17:45:51.000+0000",
         "2019-12-13T18:15:19.000+0000"
        ],
        [
         48721,
         "2019-12-12",
         [
          1
         ],
         "2019-12-12T14:14:49.000+0000",
         "2019-12-12T15:11:31.000+0000"
        ],
        [
         48913,
         "2019-12-08",
         [
          1,
          2
         ],
         "2019-12-08T07:15:15.000+0000",
         "2019-12-08T08:09:01.000+0000"
        ],
        [
         48913,
         "2019-12-15",
         [
          3
         ],
         "2019-12-15T06:54:11.000+0000",
         "2019-12-15T07:56:13.000+0000"
        ],
        [
         49075,
         "2019-12-16",
         [
          1
         ],
         "2019-12-16T12:31:52.000+0000",
         "2019-12-16T13:17:35.000+0000"
        ],
        [
         49271,
         "2019-12-11",
         [
          1,
          2
         ],
         "2019-12-11T19:19:33.000+0000",
         "2019-12-11T20:32:16.000+0000"
        ],
        [
         49296,
         "2019-12-02",
         [
          61
         ],
         "2019-12-02T14:10:19.000+0000",
         "2019-12-02T14:49:49.000+0000"
        ],
        [
         49296,
         "2019-12-03",
         [
          62
         ],
         "2019-12-03T19:13:55.000+0000",
         "2019-12-03T20:23:12.000+0000"
        ],
        [
         49296,
         "2019-12-05",
         [
          63,
          64
         ],
         "2019-12-05T12:22:03.000+0000",
         "2019-12-05T13:19:06.000+0000"
        ],
        [
         49296,
         "2019-12-09",
         [
          66,
          65
         ],
         "2019-12-09T14:38:40.000+0000",
         "2019-12-09T16:09:35.000+0000"
        ],
        [
         49296,
         "2019-12-10",
         [
          67
         ],
         "2019-12-10T19:25:01.000+0000",
         "2019-12-10T20:29:13.000+0000"
        ],
        [
         49296,
         "2019-12-12",
         [
          68
         ],
         "2019-12-12T12:39:57.000+0000",
         "2019-12-12T13:10:02.000+0000"
        ],
        [
         49296,
         "2019-12-16",
         [
          70,
          69
         ],
         "2019-12-16T13:46:39.000+0000",
         "2019-12-16T15:57:27.000+0000"
        ],
        [
         49835,
         "2019-12-10",
         [
          1
         ],
         "2019-12-10T07:31:28.000+0000",
         "2019-12-10T08:48:30.000+0000"
        ],
        [
         49835,
         "2019-12-11",
         [
          2
         ],
         "2019-12-11T17:37:35.000+0000",
         "2019-12-11T18:32:49.000+0000"
        ],
        [
         49835,
         "2019-12-13",
         [
          3,
          4
         ],
         "2019-12-13T17:17:43.000+0000",
         "2019-12-13T19:08:31.000+0000"
        ]
       ],
       "datasetInfos": [],
       "dbfsResultPath": null,
       "isJsonSchema": true,
       "metadata": {},
       "overflow": false,
       "plotOptions": {
        "customPlotOptions": {},
        "displayType": "table",
        "pivotAggregation": null,
        "pivotColumns": null,
        "xColumns": null,
        "yColumns": null
       },
       "removedWidgets": [],
       "schema": [
        {
         "metadata": "{}",
         "name": "user_id",
         "type": "\"integer\""
        },
        {
         "metadata": "{}",
         "name": "date",
         "type": "\"date\""
        },
        {
         "metadata": "{}",
         "name": "workouts",
         "type": "{\"type\":\"array\",\"elementType\":\"integer\",\"containsNull\":false}"
        },
        {
         "metadata": "{}",
         "name": "start_workout",
         "type": "\"timestamp\""
        },
        {
         "metadata": "{}",
         "name": "end_workout",
         "type": "\"timestamp\""
        }
       ],
       "type": "table"
      }
     },
     "output_type": "display_data"
    }
   ],
   "source": [
    "completed_workouts = spark.table(\"silver.completed_workouts\").select(f.col(\"start_time\").cast(\"date\").alias(\"date\"), 'user_id', 'session_id', 'start_time', 'end_time')\n",
    "\n",
    "grouped_comp_wrkt = completed_workouts.groupBy(\"user_id\", \"date\") \\\n",
    "                                      .agg( \\\n",
    "                                            f.collect_set(\"session_id\").alias(\"workouts\"),\\\n",
    "                                            f.min(\"start_time\").alias(\"start_workout\"),\\\n",
    "                                            f.max(\"end_time\").alias(\"end_workout\") \\\n",
    "                                          )\n",
    "\n",
    "display(grouped_comp_wrkt)\n"
   ]
  },
  {
   "cell_type": "code",
   "execution_count": 0,
   "metadata": {
    "application/vnd.databricks.v1+cell": {
     "cellMetadata": {
      "byteLimit": 2048000,
      "rowLimit": 10000
     },
     "inputWidgets": {},
     "nuid": "32e89bdc-d02b-4db5-94fa-153f5e6b2966",
     "showTitle": true,
     "title": "Final Step"
    }
   },
   "outputs": [
    {
     "output_type": "display_data",
     "data": {
      "text/html": [
       "<style scoped>\n",
       "  .table-result-container {\n",
       "    max-height: 300px;\n",
       "    overflow: auto;\n",
       "  }\n",
       "  table, th, td {\n",
       "    border: 1px solid black;\n",
       "    border-collapse: collapse;\n",
       "  }\n",
       "  th, td {\n",
       "    padding: 5px;\n",
       "  }\n",
       "  th {\n",
       "    text-align: left;\n",
       "  }\n",
       "</style><div class='table-result-container'><table class='table-result'><thead style='background-color: white'><tr><th>gym</th><th>mac_address</th><th>date</th><th>workouts</th><th>minutes_in_gym</th><th>minutes_exercising</th></tr></thead><tbody><tr><td>5</td><td>00:6c:6c:53:51:ef</td><td>2019-12-01</td><td>List(402, 403)</td><td>49.75</td><td>40.96666666666667</td></tr><tr><td>5</td><td>00:6c:6c:53:51:ef</td><td>2019-12-02</td><td>List(404, 405)</td><td>97.66666666666667</td><td>92.6</td></tr><tr><td>5</td><td>00:6c:6c:53:51:ef</td><td>2019-12-03</td><td>List(407, 406)</td><td>47.1</td><td>37.766666666666666</td></tr><tr><td>5</td><td>00:6c:6c:53:51:ef</td><td>2019-12-04</td><td>List(408)</td><td>57.46666666666667</td><td>46.05</td></tr><tr><td>5</td><td>00:6c:6c:53:51:ef</td><td>2019-12-05</td><td>List(409, 410)</td><td>84.91666666666667</td><td>68.56666666666666</td></tr><tr><td>5</td><td>00:6c:6c:53:51:ef</td><td>2019-12-07</td><td>List(411, 412)</td><td>94.45</td><td>78.3</td></tr><tr><td>5</td><td>00:6c:6c:53:51:ef</td><td>2019-12-08</td><td>List(413, 414)</td><td>56.63333333333333</td><td>45.583333333333336</td></tr><tr><td>5</td><td>00:6c:6c:53:51:ef</td><td>2019-12-09</td><td>List(416, 415)</td><td>125.31666666666666</td><td>111.48333333333333</td></tr><tr><td>5</td><td>00:6c:6c:53:51:ef</td><td>2019-12-10</td><td>List(417)</td><td>69.05</td><td>64.66666666666667</td></tr><tr><td>5</td><td>00:6c:6c:53:51:ef</td><td>2019-12-11</td><td>List(418)</td><td>60.43333333333333</td><td>43.96666666666667</td></tr></tbody></table></div>"
      ]
     },
     "metadata": {
      "application/vnd.databricks.v1+output": {
       "addedWidgets": {},
       "aggData": [],
       "aggError": "",
       "aggOverflow": false,
       "aggSchema": [],
       "aggSeriesLimitReached": false,
       "aggType": "",
       "arguments": {},
       "columnCustomDisplayInfos": {},
       "data": [
        [
         5,
         "00:6c:6c:53:51:ef",
         "2019-12-01",
         [
          402,
          403
         ],
         49.75,
         40.96666666666667
        ],
        [
         5,
         "00:6c:6c:53:51:ef",
         "2019-12-02",
         [
          404,
          405
         ],
         97.66666666666667,
         92.6
        ],
        [
         5,
         "00:6c:6c:53:51:ef",
         "2019-12-03",
         [
          407,
          406
         ],
         47.1,
         37.766666666666666
        ],
        [
         5,
         "00:6c:6c:53:51:ef",
         "2019-12-04",
         [
          408
         ],
         57.46666666666667,
         46.05
        ],
        [
         5,
         "00:6c:6c:53:51:ef",
         "2019-12-05",
         [
          409,
          410
         ],
         84.91666666666667,
         68.56666666666666
        ],
        [
         5,
         "00:6c:6c:53:51:ef",
         "2019-12-07",
         [
          411,
          412
         ],
         94.45,
         78.3
        ],
        [
         5,
         "00:6c:6c:53:51:ef",
         "2019-12-08",
         [
          413,
          414
         ],
         56.63333333333333,
         45.583333333333336
        ],
        [
         5,
         "00:6c:6c:53:51:ef",
         "2019-12-09",
         [
          416,
          415
         ],
         125.31666666666666,
         111.48333333333333
        ],
        [
         5,
         "00:6c:6c:53:51:ef",
         "2019-12-10",
         [
          417
         ],
         69.05,
         64.66666666666667
        ],
        [
         5,
         "00:6c:6c:53:51:ef",
         "2019-12-11",
         [
          418
         ],
         60.43333333333333,
         43.96666666666667
        ]
       ],
       "datasetInfos": [],
       "dbfsResultPath": null,
       "isJsonSchema": true,
       "metadata": {},
       "overflow": false,
       "plotOptions": {
        "customPlotOptions": {},
        "displayType": "table",
        "pivotAggregation": null,
        "pivotColumns": null,
        "xColumns": null,
        "yColumns": null
       },
       "removedWidgets": [],
       "schema": [
        {
         "metadata": "{}",
         "name": "gym",
         "type": "\"integer\""
        },
        {
         "metadata": "{}",
         "name": "mac_address",
         "type": "\"string\""
        },
        {
         "metadata": "{}",
         "name": "date",
         "type": "\"date\""
        },
        {
         "metadata": "{}",
         "name": "workouts",
         "type": "{\"type\":\"array\",\"elementType\":\"integer\",\"containsNull\":false}"
        },
        {
         "metadata": "{}",
         "name": "minutes_in_gym",
         "type": "\"double\""
        },
        {
         "metadata": "{}",
         "name": "minutes_exercising",
         "type": "\"double\""
        }
       ],
       "type": "table"
      }
     },
     "output_type": "display_data"
    }
   ],
   "source": [
    "display(completed_workouts.join(user_lookup_df, [\"user_id\"])\n",
    "                          .groupBy(\"mac_address\", \"date\")\n",
    "                          .agg(\n",
    "                               f.collect_set(\"completed_workouts.session_id\").alias(\"workouts\"),\n",
    "                               f.min(\"completed_workouts.start_time\").alias(\"start_workout\"),\n",
    "                               f.max(\"completed_workouts.end_time\").alias(\"end_workout\") \n",
    "                               )\n",
    "                          .join(gym_df, [\"mac_address\", \"date\"], how= \"inner\")\n",
    "                          .withColumn(\"minutes_in_gym\", \n",
    "                                         (f.unix_timestamp(gym_df.last_timestamp) - f.unix_timestamp(gym_df. \n",
    "                                          first_timestamp)) / 60)\n",
    "                          .withColumn(\"minutes_exercising\", \n",
    "                                         (f.unix_timestamp(\"end_workout\") - f.unix_timestamp(\"start_workout\")) / 60)\n",
    "                          .select(\n",
    "                                    f.col(\"gym\"), \n",
    "                                    f.col(\"mac_address\"), \n",
    "                                    f.col(\"date\"), \n",
    "                                    f.col(\"workouts\"),  \n",
    "                                    f.col(\"minutes_in_gym\"), \n",
    "                                    f.col(\"minutes_exercising\")\n",
    "                                    )\n",
    "                          .limit(10)\n",
    ")"
   ]
  },
  {
   "cell_type": "markdown",
   "metadata": {
    "application/vnd.databricks.v1+cell": {
     "cellMetadata": {},
     "inputWidgets": {},
     "nuid": "c3260f17-1d88-4e50-be59-ea55baa59f7e",
     "showTitle": false,
     "title": ""
    }
   },
   "source": [
    "### Create Gym_report\n",
    "\n",
    "This process will differ from the previous ones because I can't create a `Permanent View` in PySpark. Instead, I will perform the process in SQL. Since it will be a view, it will be fully reprocessed periodically, eliminating the need for a merge function."
   ]
  },
  {
   "cell_type": "code",
   "execution_count": 0,
   "metadata": {
    "application/vnd.databricks.v1+cell": {
     "cellMetadata": {
      "byteLimit": 2048000,
      "implicitDf": true,
      "rowLimit": 10000
     },
     "inputWidgets": {},
     "nuid": "39d5c8fd-ae31-47c5-b971-0236cba573c3",
     "showTitle": true,
     "title": "Processing"
    }
   },
   "outputs": [
    {
     "output_type": "display_data",
     "data": {
      "text/html": [
       "<style scoped>\n",
       "  .table-result-container {\n",
       "    max-height: 300px;\n",
       "    overflow: auto;\n",
       "  }\n",
       "  table, th, td {\n",
       "    border: 1px solid black;\n",
       "    border-collapse: collapse;\n",
       "  }\n",
       "  th, td {\n",
       "    padding: 5px;\n",
       "  }\n",
       "  th {\n",
       "    text-align: left;\n",
       "  }\n",
       "</style><div class='table-result-container'><table class='table-result'><thead style='background-color: white'><tr><th>gym</th><th>mac_address</th><th>date</th><th>workouts</th><th>minutes_in_gym</th><th>minutes_exercising</th></tr></thead><tbody><tr><td>5</td><td>00:6c:6c:53:51:ef</td><td>2019-12-01</td><td>List(402, 403)</td><td>49.75</td><td>40.96666666666667</td></tr><tr><td>5</td><td>00:6c:6c:53:51:ef</td><td>2019-12-02</td><td>List(404, 405)</td><td>97.66666666666667</td><td>92.6</td></tr><tr><td>5</td><td>00:6c:6c:53:51:ef</td><td>2019-12-03</td><td>List(407, 406)</td><td>47.1</td><td>37.766666666666666</td></tr><tr><td>5</td><td>00:6c:6c:53:51:ef</td><td>2019-12-04</td><td>List(408)</td><td>57.46666666666667</td><td>46.05</td></tr><tr><td>5</td><td>00:6c:6c:53:51:ef</td><td>2019-12-05</td><td>List(409, 410)</td><td>84.91666666666667</td><td>68.56666666666666</td></tr><tr><td>5</td><td>00:6c:6c:53:51:ef</td><td>2019-12-07</td><td>List(411, 412)</td><td>94.45</td><td>78.3</td></tr><tr><td>5</td><td>00:6c:6c:53:51:ef</td><td>2019-12-08</td><td>List(413, 414)</td><td>56.63333333333333</td><td>45.583333333333336</td></tr><tr><td>5</td><td>00:6c:6c:53:51:ef</td><td>2019-12-09</td><td>List(416, 415)</td><td>125.31666666666666</td><td>111.48333333333333</td></tr><tr><td>5</td><td>00:6c:6c:53:51:ef</td><td>2019-12-10</td><td>List(417)</td><td>69.05</td><td>64.66666666666667</td></tr><tr><td>5</td><td>00:6c:6c:53:51:ef</td><td>2019-12-11</td><td>List(418)</td><td>60.43333333333333</td><td>43.96666666666667</td></tr></tbody></table></div>"
      ]
     },
     "metadata": {
      "application/vnd.databricks.v1+output": {
       "addedWidgets": {},
       "aggData": [],
       "aggError": "",
       "aggOverflow": false,
       "aggSchema": [],
       "aggSeriesLimitReached": false,
       "aggType": "",
       "arguments": {},
       "columnCustomDisplayInfos": {},
       "data": [
        [
         5,
         "00:6c:6c:53:51:ef",
         "2019-12-01",
         [
          402,
          403
         ],
         49.75,
         40.96666666666667
        ],
        [
         5,
         "00:6c:6c:53:51:ef",
         "2019-12-02",
         [
          404,
          405
         ],
         97.66666666666667,
         92.6
        ],
        [
         5,
         "00:6c:6c:53:51:ef",
         "2019-12-03",
         [
          407,
          406
         ],
         47.1,
         37.766666666666666
        ],
        [
         5,
         "00:6c:6c:53:51:ef",
         "2019-12-04",
         [
          408
         ],
         57.46666666666667,
         46.05
        ],
        [
         5,
         "00:6c:6c:53:51:ef",
         "2019-12-05",
         [
          409,
          410
         ],
         84.91666666666667,
         68.56666666666666
        ],
        [
         5,
         "00:6c:6c:53:51:ef",
         "2019-12-07",
         [
          411,
          412
         ],
         94.45,
         78.3
        ],
        [
         5,
         "00:6c:6c:53:51:ef",
         "2019-12-08",
         [
          413,
          414
         ],
         56.63333333333333,
         45.583333333333336
        ],
        [
         5,
         "00:6c:6c:53:51:ef",
         "2019-12-09",
         [
          416,
          415
         ],
         125.31666666666666,
         111.48333333333333
        ],
        [
         5,
         "00:6c:6c:53:51:ef",
         "2019-12-10",
         [
          417
         ],
         69.05,
         64.66666666666667
        ],
        [
         5,
         "00:6c:6c:53:51:ef",
         "2019-12-11",
         [
          418
         ],
         60.43333333333333,
         43.96666666666667
        ]
       ],
       "datasetInfos": [],
       "dbfsResultPath": null,
       "isJsonSchema": true,
       "metadata": {},
       "overflow": false,
       "plotOptions": {
        "customPlotOptions": {},
        "displayType": "table",
        "pivotAggregation": null,
        "pivotColumns": null,
        "xColumns": null,
        "yColumns": null
       },
       "removedWidgets": [],
       "schema": [
        {
         "metadata": "{}",
         "name": "gym",
         "type": "\"long\""
        },
        {
         "metadata": "{}",
         "name": "mac_address",
         "type": "\"string\""
        },
        {
         "metadata": "{}",
         "name": "date",
         "type": "\"date\""
        },
        {
         "metadata": "{}",
         "name": "workouts",
         "type": "{\"type\":\"array\",\"elementType\":\"integer\",\"containsNull\":false}"
        },
        {
         "metadata": "{}",
         "name": "minutes_in_gym",
         "type": "\"double\""
        },
        {
         "metadata": "{}",
         "name": "minutes_exercising",
         "type": "\"double\""
        }
       ],
       "type": "table"
      }
     },
     "output_type": "display_data"
    }
   ],
   "source": [
    "%sql\n",
    "DROP VIEW if EXISTS gold.gym_report;\n",
    "\n",
    "CREATE OR REPLACE VIEW gold.gym_report AS (\n",
    "  SELECT gym, mac_address, date, workouts, (last_timestamp - first_timestamp)/60 minutes_in_gym, (to_unix_timestamp(end_workout) - to_unix_timestamp(start_workout))/60 minutes_exercising\n",
    "  FROM silver.gym_logs c\n",
    "  INNER JOIN (\n",
    "    SELECT b.mac_address, to_date(start_time) date, collect_set(session_id) workouts, min(start_time) start_workout, max(end_time) end_workout\n",
    "    FROM silver.completed_workouts a\n",
    "    INNER JOIN silver.user_lookup b\n",
    "    ON a.user_id = b.user_id\n",
    "    GROUP BY mac_address, to_date(start_time)\n",
    "    ) d\n",
    "    ON c.mac = d.mac_address AND to_date(CAST(c.first_timestamp AS timestamp)) = d.date\n",
    ");\n",
    "\n",
    "select * from gold.gym_report limit 10;"
   ]
  },
  {
   "cell_type": "code",
   "execution_count": 0,
   "metadata": {
    "application/vnd.databricks.v1+cell": {
     "cellMetadata": {
      "byteLimit": 2048000,
      "rowLimit": 10000
     },
     "inputWidgets": {},
     "nuid": "ea1307b0-4e5b-46a9-a194-e928e4768573",
     "showTitle": true,
     "title": "Verifying"
    }
   },
   "outputs": [
    {
     "output_type": "stream",
     "name": "stdout",
     "output_type": "stream",
     "text": [
      "\nThe table has a total of 304 rows\n\n"
     ]
    }
   ],
   "source": [
    "print(\"\")\n",
    "print(f\"The view has a total of {spark.table('gold.gym_report').count()} rows\")\n",
    "print(\"\")"
   ]
  },
  {
   "cell_type": "markdown",
   "metadata": {
    "application/vnd.databricks.v1+cell": {
     "cellMetadata": {
      "byteLimit": 2048000,
      "rowLimit": 10000
     },
     "inputWidgets": {},
     "nuid": "c8e64f14-b2ba-4d4d-8ad9-835dafb7867e",
     "showTitle": false,
     "title": ""
    }
   },
   "source": [
    "## Process Users\n",
    "This table is particularly interesting because it contains both Personally Identifiable Information (PII) and functions as a Change Data Feed (CDF) table.<br>\n",
    "These characteristics require additional steps for processing.<br>\n",
    "The start is the same as previously done with the other base tables."
   ]
  },
  {
   "cell_type": "markdown",
   "metadata": {
    "application/vnd.databricks.v1+cell": {
     "cellMetadata": {},
     "inputWidgets": {},
     "nuid": "c35de827-b6db-4944-97ee-54938049d6c3",
     "showTitle": false,
     "title": ""
    }
   },
   "source": [
    "### Start Processing"
   ]
  },
  {
   "cell_type": "code",
   "execution_count": 0,
   "metadata": {
    "application/vnd.databricks.v1+cell": {
     "cellMetadata": {
      "byteLimit": 2048000,
      "rowLimit": 10000
     },
     "inputWidgets": {},
     "nuid": "aac539d0-7c8c-429b-84cc-ff4b6f175dd0",
     "showTitle": true,
     "title": "Quick Review"
    }
   },
   "outputs": [
    {
     "output_type": "display_data",
     "data": {
      "text/html": [
       "<style scoped>\n",
       "  .table-result-container {\n",
       "    max-height: 300px;\n",
       "    overflow: auto;\n",
       "  }\n",
       "  table, th, td {\n",
       "    border: 1px solid black;\n",
       "    border-collapse: collapse;\n",
       "  }\n",
       "  th, td {\n",
       "    padding: 5px;\n",
       "  }\n",
       "  th {\n",
       "    text-align: left;\n",
       "  }\n",
       "</style><div class='table-result-container'><table class='table-result'><thead style='background-color: white'><tr><th>key</th><th>value</th><th>topic</th><th>partition</th><th>offset</th><th>timestamp</th><th>date</th><th>week_part</th></tr></thead><tbody><tr><td>35226</td><td>{\"user_id\": 35226, \"update_type\": \"new\", \"timestamp\": 1560222288, \"dob\": \"01/17/1954\", \"sex\": \"M\", \"gender\": \"M\", \"first_name\": \"William\", \"last_name\": \"Allen\", \"address\": {\"street_address\": \"559 Katelyn Forks Apt. 417\", \"city\": \"Glendale\", \"state\": \"CA\", \"zip\": 91208}}</td><td>user_info</td><td>0</td><td>12762</td><td>1560222288120</td><td>2019-06-11</td><td>2019-24</td></tr><tr><td>40872</td><td>{\"user_id\": 40872, \"update_type\": \"new\", \"timestamp\": 1560219172, \"dob\": \"03/08/1982\", \"sex\": \"M\", \"gender\": \"M\", \"first_name\": \"David\", \"last_name\": \"King\", \"address\": {\"street_address\": \"1074 Baker Summit\", \"city\": \"Los Angeles\", \"state\": \"CA\", \"zip\": 90043}}</td><td>user_info</td><td>0</td><td>12761</td><td>1560219172223</td><td>2019-06-11</td><td>2019-24</td></tr><tr><td>49296</td><td>{\"user_id\": 49296, \"update_type\": \"new\", \"timestamp\": 1560475456, \"dob\": \"04/23/1989\", \"sex\": \"M\", \"gender\": \"M\", \"first_name\": \"William\", \"last_name\": \"Hinton\", \"address\": {\"street_address\": \"441 Davis Stravenue\", \"city\": \"North Hollywood\", \"state\": \"CA\", \"zip\": 91602}}</td><td>user_info</td><td>0</td><td>12765</td><td>1560475457807</td><td>2019-06-14</td><td>2019-24</td></tr><tr><td>30612</td><td>{\"user_id\": 30612, \"update_type\": \"new\", \"timestamp\": 1560507319, \"dob\": \"03/27/1937\", \"sex\": \"M\", \"gender\": \"M\", \"first_name\": \"Darrell\", \"last_name\": \"Gonzalez\", \"address\": {\"street_address\": \"1945 George Inlet Suite 490\", \"city\": \"Valyermo\", \"state\": \"CA\", \"zip\": 93563}}</td><td>user_info</td><td>0</td><td>12766</td><td>1560507323075</td><td>2019-06-14</td><td>2019-24</td></tr><tr><td>13559</td><td>{\"user_id\": 13559, \"update_type\": \"new\", \"timestamp\": 1560189545, \"dob\": \"03/06/1980\", \"sex\": \"F\", \"gender\": \"F\", \"first_name\": \"Victoria\", \"last_name\": \"Smith\", \"address\": {\"street_address\": \"88788 Dawson Lodge\", \"city\": \"Los Angeles\", \"state\": \"CA\", \"zip\": 90065}}</td><td>user_info</td><td>0</td><td>12760</td><td>1560189553779</td><td>2019-06-10</td><td>2019-24</td></tr><tr><td>36164</td><td>{\"user_id\": 36164, \"update_type\": \"new\", \"timestamp\": 1560249727, \"dob\": \"10/08/1935\", \"sex\": \"F\", \"gender\": \"F\", \"first_name\": \"Caitlin\", \"last_name\": \"Miles\", \"address\": {\"street_address\": \"1523 Garza Estate Apt. 852\", \"city\": \"Los Angeles\", \"state\": \"CA\", \"zip\": 90057}}</td><td>user_info</td><td>0</td><td>12763</td><td>1560249731473</td><td>2019-06-11</td><td>2019-24</td></tr><tr><td>34740</td><td>{\"user_id\": 34740, \"update_type\": \"new\", \"timestamp\": 1560379376, \"dob\": \"04/18/1991\", \"sex\": \"M\", \"gender\": \"M\", \"first_name\": \"Kevin\", \"last_name\": \"Phillips\", \"address\": {\"street_address\": \"60685 Pena Crossroad\", \"city\": \"Santa Monica\", \"state\": \"CA\", \"zip\": 90403}}</td><td>user_info</td><td>0</td><td>12764</td><td>1560379383367</td><td>2019-06-12</td><td>2019-24</td></tr><tr><td>38766</td><td>{\"user_id\": 38766, \"update_type\": \"new\", \"timestamp\": 1560539604, \"dob\": \"08/27/1978\", \"sex\": \"M\", \"gender\": \"M\", \"first_name\": \"Daniel\", \"last_name\": \"Ruiz\", \"address\": {\"street_address\": \"2620 Hatfield Village Suite 039\", \"city\": \"Los Angeles\", \"state\": \"CA\", \"zip\": 90073}}</td><td>user_info</td><td>0</td><td>12768</td><td>1560539608724</td><td>2019-06-14</td><td>2019-24</td></tr><tr><td>26285</td><td>{\"user_id\": 26285, \"update_type\": \"new\", \"timestamp\": 1560528115, \"dob\": \"11/15/1969\", \"sex\": \"M\", \"gender\": \"M\", \"first_name\": \"William\", \"last_name\": \"Gutierrez\", \"address\": {\"street_address\": \"8954 Willie Club\", \"city\": \"Beverly Hills\", \"state\": \"CA\", \"zip\": 90212}}</td><td>user_info</td><td>0</td><td>12767</td><td>1560528121614</td><td>2019-06-14</td><td>2019-24</td></tr><tr><td>27306</td><td>{\"user_id\": 27306, \"update_type\": \"new\", \"timestamp\": 1557184117, \"dob\": \"07/16/1958\", \"sex\": \"F\", \"gender\": \"F\", \"first_name\": \"Stephanie\", \"last_name\": \"Martinez\", \"address\": {\"street_address\": \"1767 Katherine Expressway Suite 062\", \"city\": \"Edwards\", \"state\": \"CA\", \"zip\": 93523}}</td><td>user_info</td><td>0</td><td>12753</td><td>1557184122286</td><td>2019-05-06</td><td>2019-19</td></tr></tbody></table></div>"
      ]
     },
     "metadata": {
      "application/vnd.databricks.v1+output": {
       "addedWidgets": {},
       "aggData": [],
       "aggError": "",
       "aggOverflow": false,
       "aggSchema": [],
       "aggSeriesLimitReached": false,
       "aggType": "",
       "arguments": {},
       "columnCustomDisplayInfos": {},
       "data": [
        [
         "35226",
         "{\"user_id\": 35226, \"update_type\": \"new\", \"timestamp\": 1560222288, \"dob\": \"01/17/1954\", \"sex\": \"M\", \"gender\": \"M\", \"first_name\": \"William\", \"last_name\": \"Allen\", \"address\": {\"street_address\": \"559 Katelyn Forks Apt. 417\", \"city\": \"Glendale\", \"state\": \"CA\", \"zip\": 91208}}",
         "user_info",
         0,
         12762,
         1560222288120,
         "2019-06-11",
         "2019-24"
        ],
        [
         "40872",
         "{\"user_id\": 40872, \"update_type\": \"new\", \"timestamp\": 1560219172, \"dob\": \"03/08/1982\", \"sex\": \"M\", \"gender\": \"M\", \"first_name\": \"David\", \"last_name\": \"King\", \"address\": {\"street_address\": \"1074 Baker Summit\", \"city\": \"Los Angeles\", \"state\": \"CA\", \"zip\": 90043}}",
         "user_info",
         0,
         12761,
         1560219172223,
         "2019-06-11",
         "2019-24"
        ],
        [
         "49296",
         "{\"user_id\": 49296, \"update_type\": \"new\", \"timestamp\": 1560475456, \"dob\": \"04/23/1989\", \"sex\": \"M\", \"gender\": \"M\", \"first_name\": \"William\", \"last_name\": \"Hinton\", \"address\": {\"street_address\": \"441 Davis Stravenue\", \"city\": \"North Hollywood\", \"state\": \"CA\", \"zip\": 91602}}",
         "user_info",
         0,
         12765,
         1560475457807,
         "2019-06-14",
         "2019-24"
        ],
        [
         "30612",
         "{\"user_id\": 30612, \"update_type\": \"new\", \"timestamp\": 1560507319, \"dob\": \"03/27/1937\", \"sex\": \"M\", \"gender\": \"M\", \"first_name\": \"Darrell\", \"last_name\": \"Gonzalez\", \"address\": {\"street_address\": \"1945 George Inlet Suite 490\", \"city\": \"Valyermo\", \"state\": \"CA\", \"zip\": 93563}}",
         "user_info",
         0,
         12766,
         1560507323075,
         "2019-06-14",
         "2019-24"
        ],
        [
         "13559",
         "{\"user_id\": 13559, \"update_type\": \"new\", \"timestamp\": 1560189545, \"dob\": \"03/06/1980\", \"sex\": \"F\", \"gender\": \"F\", \"first_name\": \"Victoria\", \"last_name\": \"Smith\", \"address\": {\"street_address\": \"88788 Dawson Lodge\", \"city\": \"Los Angeles\", \"state\": \"CA\", \"zip\": 90065}}",
         "user_info",
         0,
         12760,
         1560189553779,
         "2019-06-10",
         "2019-24"
        ],
        [
         "36164",
         "{\"user_id\": 36164, \"update_type\": \"new\", \"timestamp\": 1560249727, \"dob\": \"10/08/1935\", \"sex\": \"F\", \"gender\": \"F\", \"first_name\": \"Caitlin\", \"last_name\": \"Miles\", \"address\": {\"street_address\": \"1523 Garza Estate Apt. 852\", \"city\": \"Los Angeles\", \"state\": \"CA\", \"zip\": 90057}}",
         "user_info",
         0,
         12763,
         1560249731473,
         "2019-06-11",
         "2019-24"
        ],
        [
         "34740",
         "{\"user_id\": 34740, \"update_type\": \"new\", \"timestamp\": 1560379376, \"dob\": \"04/18/1991\", \"sex\": \"M\", \"gender\": \"M\", \"first_name\": \"Kevin\", \"last_name\": \"Phillips\", \"address\": {\"street_address\": \"60685 Pena Crossroad\", \"city\": \"Santa Monica\", \"state\": \"CA\", \"zip\": 90403}}",
         "user_info",
         0,
         12764,
         1560379383367,
         "2019-06-12",
         "2019-24"
        ],
        [
         "38766",
         "{\"user_id\": 38766, \"update_type\": \"new\", \"timestamp\": 1560539604, \"dob\": \"08/27/1978\", \"sex\": \"M\", \"gender\": \"M\", \"first_name\": \"Daniel\", \"last_name\": \"Ruiz\", \"address\": {\"street_address\": \"2620 Hatfield Village Suite 039\", \"city\": \"Los Angeles\", \"state\": \"CA\", \"zip\": 90073}}",
         "user_info",
         0,
         12768,
         1560539608724,
         "2019-06-14",
         "2019-24"
        ],
        [
         "26285",
         "{\"user_id\": 26285, \"update_type\": \"new\", \"timestamp\": 1560528115, \"dob\": \"11/15/1969\", \"sex\": \"M\", \"gender\": \"M\", \"first_name\": \"William\", \"last_name\": \"Gutierrez\", \"address\": {\"street_address\": \"8954 Willie Club\", \"city\": \"Beverly Hills\", \"state\": \"CA\", \"zip\": 90212}}",
         "user_info",
         0,
         12767,
         1560528121614,
         "2019-06-14",
         "2019-24"
        ],
        [
         "27306",
         "{\"user_id\": 27306, \"update_type\": \"new\", \"timestamp\": 1557184117, \"dob\": \"07/16/1958\", \"sex\": \"F\", \"gender\": \"F\", \"first_name\": \"Stephanie\", \"last_name\": \"Martinez\", \"address\": {\"street_address\": \"1767 Katherine Expressway Suite 062\", \"city\": \"Edwards\", \"state\": \"CA\", \"zip\": 93523}}",
         "user_info",
         0,
         12753,
         1557184122286,
         "2019-05-06",
         "2019-19"
        ]
       ],
       "datasetInfos": [],
       "dbfsResultPath": null,
       "isJsonSchema": true,
       "metadata": {},
       "overflow": false,
       "plotOptions": {
        "customPlotOptions": {},
        "displayType": "table",
        "pivotAggregation": null,
        "pivotColumns": null,
        "xColumns": null,
        "yColumns": null
       },
       "removedWidgets": [],
       "schema": [
        {
         "metadata": "{}",
         "name": "key",
         "type": "\"string\""
        },
        {
         "metadata": "{}",
         "name": "value",
         "type": "\"string\""
        },
        {
         "metadata": "{}",
         "name": "topic",
         "type": "\"string\""
        },
        {
         "metadata": "{}",
         "name": "partition",
         "type": "\"long\""
        },
        {
         "metadata": "{}",
         "name": "offset",
         "type": "\"long\""
        },
        {
         "metadata": "{}",
         "name": "timestamp",
         "type": "\"long\""
        },
        {
         "metadata": "{}",
         "name": "date",
         "type": "\"date\""
        },
        {
         "metadata": "{}",
         "name": "week_part",
         "type": "\"string\""
        }
       ],
       "type": "table"
      }
     },
     "output_type": "display_data"
    },
    {
     "output_type": "stream",
     "name": "stdout",
     "output_type": "stream",
     "text": [
      "\nThe DF has a total of 119 rows\n\n"
     ]
    }
   ],
   "source": [
    "bronze_df_users = bronze_df.where(bronze_df.topic == 'user_info')\n",
    "\n",
    "display(bronze_df_users.limit(10))\n",
    "\n",
    "print(\"\")\n",
    "print(f\"The DF has a total of {bronze_df_users.count()} rows\")\n",
    "print(\"\")"
   ]
  },
  {
   "cell_type": "code",
   "execution_count": 0,
   "metadata": {
    "application/vnd.databricks.v1+cell": {
     "cellMetadata": {
      "byteLimit": 2048000,
      "rowLimit": 10000
     },
     "inputWidgets": {},
     "nuid": "d6e2a6dc-964e-49fd-b597-c4a683ff67e2",
     "showTitle": false,
     "title": ""
    }
   },
   "outputs": [
    {
     "output_type": "display_data",
     "data": {
      "text/html": [
       "<style scoped>\n",
       "  .table-result-container {\n",
       "    max-height: 300px;\n",
       "    overflow: auto;\n",
       "  }\n",
       "  table, th, td {\n",
       "    border: 1px solid black;\n",
       "    border-collapse: collapse;\n",
       "  }\n",
       "  th, td {\n",
       "    padding: 5px;\n",
       "  }\n",
       "  th {\n",
       "    text-align: left;\n",
       "  }\n",
       "</style><div class='table-result-container'><table class='table-result'><thead style='background-color: white'><tr><th>user_id</th><th>update_type</th><th>timestamp</th><th>dob</th><th>sex</th><th>gender</th><th>first_name</th><th>last_name</th><th>address</th></tr></thead><tbody><tr><td>36164</td><td>update</td><td>1.5762647E9</td><td>10/08/1935</td><td>F</td><td>F</td><td>Caitlin</td><td>Miles</td><td>List(176 Sandra Lane Suite 564, Carson, CA, 90746)</td></tr><tr><td>19548</td><td>new</td><td>1.5764384E9</td><td>02/12/1972</td><td>F</td><td>F</td><td>Megan</td><td>Daugherty</td><td>List(5641 Kelly Tunnel Apt. 584, Los Angeles, CA, 90026)</td></tr><tr><td>42643</td><td>delete</td><td>1.57585382E9</td><td>null</td><td>null</td><td>null</td><td>null</td><td>null</td><td>null</td></tr><tr><td>47261</td><td>new</td><td>1.57588454E9</td><td>11/05/1946</td><td>M</td><td>M</td><td>Chris</td><td>Wright</td><td>List(5700 Catherine Fort Suite 808, Culver City, CA, 90232)</td></tr><tr><td>49835</td><td>new</td><td>1.57594432E9</td><td>09/14/1930</td><td>M</td><td>M</td><td>Brian</td><td>Wood</td><td>List(42172 Ross Forge, Alhambra, CA, 91803)</td></tr><tr><td>19787</td><td>new</td><td>1.57598464E9</td><td>01/02/1992</td><td>M</td><td>M</td><td>Christopher</td><td>Frey</td><td>List(76662 Thompson Ville, Northridge, CA, 91327)</td></tr><tr><td>40872</td><td>update</td><td>1.57590656E9</td><td>03/08/1982</td><td>M</td><td>M</td><td>David</td><td>King</td><td>List(959 Snyder Extensions, Los Angeles, CA, 90038)</td></tr><tr><td>14633</td><td>new</td><td>1.57609766E9</td><td>09/04/1997</td><td>F</td><td>F</td><td>Hannah</td><td>Fuller</td><td>List(81346 Obrien Streets, Gardena, CA, 90249)</td></tr><tr><td>47250</td><td>new</td><td>1.57645158E9</td><td>01/05/1981</td><td>M</td><td>M</td><td>Patrick</td><td>Hunt</td><td>List(7768 Dawn Skyway, South Gate, CA, 90280)</td></tr><tr><td>27671</td><td>new</td><td>1.57588301E9</td><td>03/01/1930</td><td>M</td><td>M</td><td>Andrew</td><td>Monroe</td><td>List(5605 Walsh Orchard, Glendale, CA, 91205)</td></tr></tbody></table></div>"
      ]
     },
     "metadata": {
      "application/vnd.databricks.v1+output": {
       "addedWidgets": {},
       "aggData": [],
       "aggError": "",
       "aggOverflow": false,
       "aggSchema": [],
       "aggSeriesLimitReached": false,
       "aggType": "",
       "arguments": {},
       "columnCustomDisplayInfos": {},
       "data": [
        [
         36164,
         "update",
         1.5762647E9,
         "10/08/1935",
         "F",
         "F",
         "Caitlin",
         "Miles",
         [
          "176 Sandra Lane Suite 564",
          "Carson",
          "CA",
          90746
         ]
        ],
        [
         19548,
         "new",
         1.5764384E9,
         "02/12/1972",
         "F",
         "F",
         "Megan",
         "Daugherty",
         [
          "5641 Kelly Tunnel Apt. 584",
          "Los Angeles",
          "CA",
          90026
         ]
        ],
        [
         42643,
         "delete",
         1.57585382E9,
         null,
         null,
         null,
         null,
         null,
         null
        ],
        [
         47261,
         "new",
         1.57588454E9,
         "11/05/1946",
         "M",
         "M",
         "Chris",
         "Wright",
         [
          "5700 Catherine Fort Suite 808",
          "Culver City",
          "CA",
          90232
         ]
        ],
        [
         49835,
         "new",
         1.57594432E9,
         "09/14/1930",
         "M",
         "M",
         "Brian",
         "Wood",
         [
          "42172 Ross Forge",
          "Alhambra",
          "CA",
          91803
         ]
        ],
        [
         19787,
         "new",
         1.57598464E9,
         "01/02/1992",
         "M",
         "M",
         "Christopher",
         "Frey",
         [
          "76662 Thompson Ville",
          "Northridge",
          "CA",
          91327
         ]
        ],
        [
         40872,
         "update",
         1.57590656E9,
         "03/08/1982",
         "M",
         "M",
         "David",
         "King",
         [
          "959 Snyder Extensions",
          "Los Angeles",
          "CA",
          90038
         ]
        ],
        [
         14633,
         "new",
         1.57609766E9,
         "09/04/1997",
         "F",
         "F",
         "Hannah",
         "Fuller",
         [
          "81346 Obrien Streets",
          "Gardena",
          "CA",
          90249
         ]
        ],
        [
         47250,
         "new",
         1.57645158E9,
         "01/05/1981",
         "M",
         "M",
         "Patrick",
         "Hunt",
         [
          "7768 Dawn Skyway",
          "South Gate",
          "CA",
          90280
         ]
        ],
        [
         27671,
         "new",
         1.57588301E9,
         "03/01/1930",
         "M",
         "M",
         "Andrew",
         "Monroe",
         [
          "5605 Walsh Orchard",
          "Glendale",
          "CA",
          91205
         ]
        ]
       ],
       "datasetInfos": [],
       "dbfsResultPath": null,
       "isJsonSchema": true,
       "metadata": {},
       "overflow": false,
       "plotOptions": {
        "customPlotOptions": {},
        "displayType": "table",
        "pivotAggregation": null,
        "pivotColumns": null,
        "xColumns": null,
        "yColumns": null
       },
       "removedWidgets": [],
       "schema": [
        {
         "metadata": "{}",
         "name": "user_id",
         "type": "\"integer\""
        },
        {
         "metadata": "{}",
         "name": "update_type",
         "type": "\"string\""
        },
        {
         "metadata": "{}",
         "name": "timestamp",
         "type": "\"float\""
        },
        {
         "metadata": "{}",
         "name": "dob",
         "type": "\"string\""
        },
        {
         "metadata": "{}",
         "name": "sex",
         "type": "\"string\""
        },
        {
         "metadata": "{}",
         "name": "gender",
         "type": "\"string\""
        },
        {
         "metadata": "{}",
         "name": "first_name",
         "type": "\"string\""
        },
        {
         "metadata": "{}",
         "name": "last_name",
         "type": "\"string\""
        },
        {
         "metadata": "{}",
         "name": "address",
         "type": "{\"type\":\"struct\",\"fields\":[{\"name\":\"street_address\",\"type\":\"string\",\"nullable\":true,\"metadata\":{}},{\"name\":\"city\",\"type\":\"string\",\"nullable\":true,\"metadata\":{}},{\"name\":\"state\",\"type\":\"string\",\"nullable\":true,\"metadata\":{}},{\"name\":\"zip\",\"type\":\"integer\",\"nullable\":true,\"metadata\":{}}]}"
        }
       ],
       "type": "table"
      }
     },
     "output_type": "display_data"
    },
    {
     "output_type": "stream",
     "name": "stdout",
     "output_type": "stream",
     "text": [
      "\nThe DF has a total of 119 deduped rows\n\n"
     ]
    }
   ],
   "source": [
    "users_schema = \"\"\"\n",
    "        user_id INTEGER, \n",
    "        update_type STRING, \n",
    "        timestamp FLOAT, \n",
    "        dob STRING, \n",
    "        sex STRING, \n",
    "        gender STRING, \n",
    "        first_name STRING, \n",
    "        last_name STRING, \n",
    "        address STRUCT<\n",
    "            street_address: STRING, \n",
    "            city: STRING, \n",
    "            state: STRING, \n",
    "            zip: INT\n",
    "    >\"\"\"\n",
    "\n",
    "users_df = bronze_df_users.withColumn('value', f.from_json('value', users_schema))\\\n",
    "                         .select(f.col('value.*'))\n",
    "\n",
    "display(users_df.limit(10))\n",
    "\n",
    "print(\"\")\n",
    "print(f\"The DF has a total of {bronze_df_users.dropDuplicates().count()} deduped rows\")\n",
    "print(\"\")"
   ]
  },
  {
   "cell_type": "markdown",
   "metadata": {
    "application/vnd.databricks.v1+cell": {
     "cellMetadata": {},
     "inputWidgets": {},
     "nuid": "fa44f209-ccbd-4f81-9f50-a37805f29244",
     "showTitle": false,
     "title": ""
    }
   },
   "source": [
    "The basic DataFrame is processed, and confirmed that it doesn't contain any duplicate rows."
   ]
  },
  {
   "cell_type": "markdown",
   "metadata": {
    "application/vnd.databricks.v1+cell": {
     "cellMetadata": {
      "byteLimit": 2048000,
      "rowLimit": 10000
     },
     "inputWidgets": {},
     "nuid": "d048fa1c-01ba-428d-8c3e-543bc1a49826",
     "showTitle": false,
     "title": ""
    }
   },
   "source": [
    "### Dealing with PII data\n",
    "In this table, I'll handle Personal Identifiable Information (PII), which requires additional steps to ensure GDPR compliance.<br>\n",
    "The first step is:"
   ]
  },
  {
   "cell_type": "markdown",
   "metadata": {
    "application/vnd.databricks.v1+cell": {
     "cellMetadata": {
      "byteLimit": 2048000,
      "rowLimit": 10000
     },
     "inputWidgets": {},
     "nuid": "70dbf779-b426-458c-a93c-4c50cca18c07",
     "showTitle": false,
     "title": ""
    }
   },
   "source": [
    "#### Encrypting\n",
    "As observed in the `user_lookup` table, the `user_id` column is pseudonymized as `alt_id`.<br> \n",
    "Below, I'll demonstrate a more secure method of achieving the same structure in the users table."
   ]
  },
  {
   "cell_type": "code",
   "execution_count": 0,
   "metadata": {
    "application/vnd.databricks.v1+cell": {
     "cellMetadata": {
      "byteLimit": 2048000,
      "rowLimit": 10000
     },
     "inputWidgets": {},
     "nuid": "e1a82033-1a28-42ae-9032-391e60f732bf",
     "showTitle": true,
     "title": "Salt"
    }
   },
   "outputs": [],
   "source": [
    "salt = 'BEANS'\n",
    "spark.conf.set(\"salt\", salt)"
   ]
  },
  {
   "cell_type": "code",
   "execution_count": 0,
   "metadata": {
    "application/vnd.databricks.v1+cell": {
     "cellMetadata": {
      "byteLimit": 2048000,
      "rowLimit": 10000
     },
     "inputWidgets": {},
     "nuid": "35ce47de-f36f-4e21-af8d-1c741e7b3d08",
     "showTitle": false,
     "title": ""
    }
   },
   "outputs": [
    {
     "output_type": "display_data",
     "data": {
      "text/html": [
       "<style scoped>\n",
       "  .table-result-container {\n",
       "    max-height: 300px;\n",
       "    overflow: auto;\n",
       "  }\n",
       "  table, th, td {\n",
       "    border: 1px solid black;\n",
       "    border-collapse: collapse;\n",
       "  }\n",
       "  th, td {\n",
       "    padding: 5px;\n",
       "  }\n",
       "  th {\n",
       "    text-align: left;\n",
       "  }\n",
       "</style><div class='table-result-container'><table class='table-result'><thead style='background-color: white'><tr><th>alt_id</th><th>user_id</th><th>updated</th><th>dob</th><th>sex</th><th>gender</th><th>first_name</th><th>last_name</th><th>address</th><th>update_type</th></tr></thead><tbody><tr><td>0cdbef3db20c806ddd473f3608ff69eaba2b99b63a967105b4b22165543f734f</td><td>36164</td><td>2019-12-13T19:18:24.000+0000</td><td>1935-10-08</td><td>F</td><td>F</td><td>Caitlin</td><td>Miles</td><td>List(176 Sandra Lane Suite 564, Carson, CA, 90746)</td><td>update</td></tr><tr><td>24249166bfcf35d3d6bbdb41f04fe6f672ef3ed5b3d7540ff4ba0fd57d763033</td><td>19548</td><td>2019-12-15T19:33:20.000+0000</td><td>1972-02-12</td><td>F</td><td>F</td><td>Megan</td><td>Daugherty</td><td>List(5641 Kelly Tunnel Apt. 584, Los Angeles, CA, 90026)</td><td>new</td></tr><tr><td>6af71c730bf30207f0f5e2ad628ec8d177579f83eb79bfd2b1915b752b47613b</td><td>42643</td><td>2019-12-09T01:10:24.000+0000</td><td>null</td><td>null</td><td>null</td><td>null</td><td>null</td><td>null</td><td>delete</td></tr><tr><td>425c2efbb88dc3c7d11caaad88948727c8c09035739e8a4587058aa10e74d668</td><td>47261</td><td>2019-12-09T09:42:24.000+0000</td><td>1946-11-05</td><td>M</td><td>M</td><td>Chris</td><td>Wright</td><td>List(5700 Catherine Fort Suite 808, Culver City, CA, 90232)</td><td>new</td></tr><tr><td>ed8e093eb4988734e124a4b9da92398cf8eefd10dec69fc588c41070df2c15af</td><td>49835</td><td>2019-12-10T02:18:40.000+0000</td><td>1930-09-14</td><td>M</td><td>M</td><td>Brian</td><td>Wood</td><td>List(42172 Ross Forge, Alhambra, CA, 91803)</td><td>new</td></tr><tr><td>62e23537acd9e96b8936f131edbebf53e6671a2517bb88bb45d840d93ac4a09c</td><td>19787</td><td>2019-12-10T13:30:40.000+0000</td><td>1992-01-02</td><td>M</td><td>M</td><td>Christopher</td><td>Frey</td><td>List(76662 Thompson Ville, Northridge, CA, 91327)</td><td>new</td></tr><tr><td>b510c008ba29acbfcaed1b214f7ca9d1afcae0a10b8c69419f798bd77a021b4e</td><td>40872</td><td>2019-12-09T15:49:20.000+0000</td><td>1982-03-08</td><td>M</td><td>M</td><td>David</td><td>King</td><td>List(959 Snyder Extensions, Los Angeles, CA, 90038)</td><td>update</td></tr><tr><td>cf42cb73e4b3a8153ef153ad3f831a156d5b964c9f9ff44c27ddd66a85bdc10d</td><td>14633</td><td>2019-12-11T20:54:24.000+0000</td><td>1997-09-04</td><td>F</td><td>F</td><td>Hannah</td><td>Fuller</td><td>List(81346 Obrien Streets, Gardena, CA, 90249)</td><td>new</td></tr><tr><td>1ed76b6174e0f7646cc9d409e971bad78116ed0e1555ecfb594b7cdc6266ecf3</td><td>47250</td><td>2019-12-15T23:13:04.000+0000</td><td>1981-01-05</td><td>M</td><td>M</td><td>Patrick</td><td>Hunt</td><td>List(7768 Dawn Skyway, South Gate, CA, 90280)</td><td>new</td></tr><tr><td>9c0459d8d3a3d03e3fecddeab1ba6bb89cfcd24aea6392886dd7cabc085d8a4f</td><td>27671</td><td>2019-12-09T09:16:48.000+0000</td><td>1930-03-01</td><td>M</td><td>M</td><td>Andrew</td><td>Monroe</td><td>List(5605 Walsh Orchard, Glendale, CA, 91205)</td><td>new</td></tr></tbody></table></div>"
      ]
     },
     "metadata": {
      "application/vnd.databricks.v1+output": {
       "addedWidgets": {},
       "aggData": [],
       "aggError": "",
       "aggOverflow": false,
       "aggSchema": [],
       "aggSeriesLimitReached": false,
       "aggType": "",
       "arguments": {},
       "columnCustomDisplayInfos": {},
       "data": [
        [
         "0cdbef3db20c806ddd473f3608ff69eaba2b99b63a967105b4b22165543f734f",
         36164,
         "2019-12-13T19:18:24.000+0000",
         "1935-10-08",
         "F",
         "F",
         "Caitlin",
         "Miles",
         [
          "176 Sandra Lane Suite 564",
          "Carson",
          "CA",
          90746
         ],
         "update"
        ],
        [
         "24249166bfcf35d3d6bbdb41f04fe6f672ef3ed5b3d7540ff4ba0fd57d763033",
         19548,
         "2019-12-15T19:33:20.000+0000",
         "1972-02-12",
         "F",
         "F",
         "Megan",
         "Daugherty",
         [
          "5641 Kelly Tunnel Apt. 584",
          "Los Angeles",
          "CA",
          90026
         ],
         "new"
        ],
        [
         "6af71c730bf30207f0f5e2ad628ec8d177579f83eb79bfd2b1915b752b47613b",
         42643,
         "2019-12-09T01:10:24.000+0000",
         null,
         null,
         null,
         null,
         null,
         null,
         "delete"
        ],
        [
         "425c2efbb88dc3c7d11caaad88948727c8c09035739e8a4587058aa10e74d668",
         47261,
         "2019-12-09T09:42:24.000+0000",
         "1946-11-05",
         "M",
         "M",
         "Chris",
         "Wright",
         [
          "5700 Catherine Fort Suite 808",
          "Culver City",
          "CA",
          90232
         ],
         "new"
        ],
        [
         "ed8e093eb4988734e124a4b9da92398cf8eefd10dec69fc588c41070df2c15af",
         49835,
         "2019-12-10T02:18:40.000+0000",
         "1930-09-14",
         "M",
         "M",
         "Brian",
         "Wood",
         [
          "42172 Ross Forge",
          "Alhambra",
          "CA",
          91803
         ],
         "new"
        ],
        [
         "62e23537acd9e96b8936f131edbebf53e6671a2517bb88bb45d840d93ac4a09c",
         19787,
         "2019-12-10T13:30:40.000+0000",
         "1992-01-02",
         "M",
         "M",
         "Christopher",
         "Frey",
         [
          "76662 Thompson Ville",
          "Northridge",
          "CA",
          91327
         ],
         "new"
        ],
        [
         "b510c008ba29acbfcaed1b214f7ca9d1afcae0a10b8c69419f798bd77a021b4e",
         40872,
         "2019-12-09T15:49:20.000+0000",
         "1982-03-08",
         "M",
         "M",
         "David",
         "King",
         [
          "959 Snyder Extensions",
          "Los Angeles",
          "CA",
          90038
         ],
         "update"
        ],
        [
         "cf42cb73e4b3a8153ef153ad3f831a156d5b964c9f9ff44c27ddd66a85bdc10d",
         14633,
         "2019-12-11T20:54:24.000+0000",
         "1997-09-04",
         "F",
         "F",
         "Hannah",
         "Fuller",
         [
          "81346 Obrien Streets",
          "Gardena",
          "CA",
          90249
         ],
         "new"
        ],
        [
         "1ed76b6174e0f7646cc9d409e971bad78116ed0e1555ecfb594b7cdc6266ecf3",
         47250,
         "2019-12-15T23:13:04.000+0000",
         "1981-01-05",
         "M",
         "M",
         "Patrick",
         "Hunt",
         [
          "7768 Dawn Skyway",
          "South Gate",
          "CA",
          90280
         ],
         "new"
        ],
        [
         "9c0459d8d3a3d03e3fecddeab1ba6bb89cfcd24aea6392886dd7cabc085d8a4f",
         27671,
         "2019-12-09T09:16:48.000+0000",
         "1930-03-01",
         "M",
         "M",
         "Andrew",
         "Monroe",
         [
          "5605 Walsh Orchard",
          "Glendale",
          "CA",
          91205
         ],
         "new"
        ]
       ],
       "datasetInfos": [],
       "dbfsResultPath": null,
       "isJsonSchema": true,
       "metadata": {},
       "overflow": false,
       "plotOptions": {
        "customPlotOptions": {},
        "displayType": "table",
        "pivotAggregation": null,
        "pivotColumns": null,
        "xColumns": null,
        "yColumns": null
       },
       "removedWidgets": [],
       "schema": [
        {
         "metadata": "{}",
         "name": "alt_id",
         "type": "\"string\""
        },
        {
         "metadata": "{}",
         "name": "user_id",
         "type": "\"integer\""
        },
        {
         "metadata": "{}",
         "name": "updated",
         "type": "\"timestamp\""
        },
        {
         "metadata": "{}",
         "name": "dob",
         "type": "\"date\""
        },
        {
         "metadata": "{}",
         "name": "sex",
         "type": "\"string\""
        },
        {
         "metadata": "{}",
         "name": "gender",
         "type": "\"string\""
        },
        {
         "metadata": "{}",
         "name": "first_name",
         "type": "\"string\""
        },
        {
         "metadata": "{}",
         "name": "last_name",
         "type": "\"string\""
        },
        {
         "metadata": "{}",
         "name": "address",
         "type": "{\"type\":\"struct\",\"fields\":[{\"name\":\"street_address\",\"type\":\"string\",\"nullable\":true,\"metadata\":{}},{\"name\":\"city\",\"type\":\"string\",\"nullable\":true,\"metadata\":{}},{\"name\":\"state\",\"type\":\"string\",\"nullable\":true,\"metadata\":{}},{\"name\":\"zip\",\"type\":\"integer\",\"nullable\":true,\"metadata\":{}}]}"
        },
        {
         "metadata": "{}",
         "name": "update_type",
         "type": "\"string\""
        }
       ],
       "type": "table"
      }
     },
     "output_type": "display_data"
    }
   ],
   "source": [
    "users_df = (users_df.selectExpr(f\"sha2(concat(user_id,'${salt}'), 256) AS alt_id\",\n",
    "                                \"user_id\",\n",
    "                                \"update_type\",\n",
    "                                \"timestamp\",\n",
    "                                \"dob\",\n",
    "                                \"sex\",\n",
    "                                \"gender\",\n",
    "                                \"first_name\",\n",
    "                                \"last_name\",\n",
    "                                \"address\",\n",
    "                                )\n",
    "                        .select(f.col(\"alt_id\"),\n",
    "                                f.col(\"user_id\"),\n",
    "                                f.col(\"timestamp\").cast(\"timestamp\").alias(\"updated\"),\n",
    "                                f.to_date(\"dob\", \"MM/dd/yyyy\").alias(\"dob\"),\n",
    "                                f.col(\"sex\"),\n",
    "                                f.col(\"gender\"),\n",
    "                                f.col(\"first_name\"),\n",
    "                                f.col(\"last_name\"),\n",
    "                                f.col(\"address\"),\n",
    "                                f.col(\"update_type\")\n",
    "                        )\n",
    "                )\n",
    "\n",
    "display(users_df.limit(10))"
   ]
  },
  {
   "cell_type": "markdown",
   "metadata": {
    "application/vnd.databricks.v1+cell": {
     "cellMetadata": {
      "byteLimit": 2048000,
      "rowLimit": 10000
     },
     "inputWidgets": {},
     "nuid": "8cd1d787-2950-487f-a1bd-dec0cbfb15b5",
     "showTitle": false,
     "title": ""
    }
   },
   "source": [
    "With the method described above, I could conceal the salt within a notebook and limit its access. Alternatively, for enhanced security, it's possible to upload the salt as a secret using the Databricks Secrets utility with the following command:\n",
    "\n",
    "`databricks secrets put-secret --json '{\n",
    "  \"scope\": \"portfolio_secrets\",\n",
    "  \"key\": \"salt\",\n",
    "  \"string_value\": \"BEANS\"\n",
    "}'` <br> <br>\n",
    "Then, the salt can be retrieved using the following code:<br>\n",
    "<br>\n",
    "`salt = dbutils.secrets.get(scope=\"portfolio_secrets\", key=\"salt\")`"
   ]
  },
  {
   "cell_type": "markdown",
   "metadata": {
    "application/vnd.databricks.v1+cell": {
     "cellMetadata": {
      "byteLimit": 2048000,
      "rowLimit": 10000
     },
     "inputWidgets": {},
     "nuid": "b037e5b3-9b03-46d0-abd4-f2a5f736f5f3",
     "showTitle": false,
     "title": ""
    }
   },
   "source": [
    "### Chage Data Feed \n",
    "Rr CDF for short, is a type of table that retains previous states of the data or the entire history of the data within itself.<br>\n",
    "In development, this entails using a different method to process this information.<br> \n",
    "I'll begin with the insert and update operations.<br>"
   ]
  },
  {
   "cell_type": "markdown",
   "metadata": {
    "application/vnd.databricks.v1+cell": {
     "cellMetadata": {
      "byteLimit": 2048000,
      "rowLimit": 10000
     },
     "inputWidgets": {},
     "nuid": "9e1f2dfe-0564-4a2d-adac-e7a56ddbca6d",
     "showTitle": false,
     "title": ""
    }
   },
   "source": [
    "> ***CDF vs CDC*** <br>\n",
    "> *After reading more about the topic and studying with the examples that I have, I'm still not 100% confident to categorize this table as CDC or CDF*<br>\n",
    "> *As far as I'm concerned this would be a CDF table, because the Databricks staff named it as one and I can se row level changes instead of only batch level changes*<br>\n",
    "> *On the other hand, this table was not created with the CDF config enabled. So, maybe, a half CDF?*<br>\n",
    "> *In conclusion, I'll call the `users` table CDF*"
   ]
  },
  {
   "cell_type": "markdown",
   "metadata": {
    "application/vnd.databricks.v1+cell": {
     "cellMetadata": {
      "byteLimit": 2048000,
      "rowLimit": 10000
     },
     "inputWidgets": {},
     "nuid": "5213f3e1-85d7-47c6-9a10-79d84fe67cf7",
     "showTitle": false,
     "title": ""
    }
   },
   "source": [
    "##### Inserts and Updates\n",
    "\n",
    "This transformation will follow these steps: \n",
    "- Use the Window function with the updated column to get the latest update for each user.\n",
    "- Utilize the update_type column to determine the required action.\n",
    "- Implement the logic to have the dataframe with only the latest data."
   ]
  },
  {
   "cell_type": "code",
   "execution_count": 0,
   "metadata": {
    "application/vnd.databricks.v1+cell": {
     "cellMetadata": {
      "byteLimit": 2048000,
      "rowLimit": 10000
     },
     "inputWidgets": {},
     "nuid": "3dd87d94-59bb-4563-8a43-8df500415ce4",
     "showTitle": true,
     "title": "Ranking Records"
    }
   },
   "outputs": [
    {
     "output_type": "display_data",
     "data": {
      "text/html": [
       "<style scoped>\n",
       "  .table-result-container {\n",
       "    max-height: 300px;\n",
       "    overflow: auto;\n",
       "  }\n",
       "  table, th, td {\n",
       "    border: 1px solid black;\n",
       "    border-collapse: collapse;\n",
       "  }\n",
       "  th, td {\n",
       "    padding: 5px;\n",
       "  }\n",
       "  th {\n",
       "    text-align: left;\n",
       "  }\n",
       "</style><div class='table-result-container'><table class='table-result'><thead style='background-color: white'><tr><th>user_id</th><th>update_type</th><th>updated</th><th>rank</th></tr></thead><tbody><tr><td>11745</td><td>new</td><td>2019-12-08T00:06:24.000+0000</td><td>1</td></tr><tr><td>12140</td><td>update</td><td>2019-12-12T08:04:16.000+0000</td><td>1</td></tr><tr><td>12140</td><td>new</td><td>2019-05-24T10:40:00.000+0000</td><td>2</td></tr><tr><td>12227</td><td>new</td><td>2019-12-08T14:56:00.000+0000</td><td>1</td></tr><tr><td>12474</td><td>new</td><td>2019-12-01T05:28:32.000+0000</td><td>1</td></tr><tr><td>13559</td><td>update</td><td>2019-12-10T21:30:40.000+0000</td><td>1</td></tr><tr><td>13559</td><td>new</td><td>2019-06-10T17:59:28.000+0000</td><td>2</td></tr><tr><td>13937</td><td>new</td><td>2019-12-03T19:03:28.000+0000</td><td>1</td></tr><tr><td>14232</td><td>update</td><td>2019-12-09T09:31:44.000+0000</td><td>1</td></tr><tr><td>14232</td><td>new</td><td>2019-07-03T00:32:00.000+0000</td><td>2</td></tr></tbody></table></div>"
      ]
     },
     "metadata": {
      "application/vnd.databricks.v1+output": {
       "addedWidgets": {},
       "aggData": [],
       "aggError": "",
       "aggOverflow": false,
       "aggSchema": [],
       "aggSeriesLimitReached": false,
       "aggType": "",
       "arguments": {},
       "columnCustomDisplayInfos": {},
       "data": [
        [
         11745,
         "new",
         "2019-12-08T00:06:24.000+0000",
         1
        ],
        [
         12140,
         "update",
         "2019-12-12T08:04:16.000+0000",
         1
        ],
        [
         12140,
         "new",
         "2019-05-24T10:40:00.000+0000",
         2
        ],
        [
         12227,
         "new",
         "2019-12-08T14:56:00.000+0000",
         1
        ],
        [
         12474,
         "new",
         "2019-12-01T05:28:32.000+0000",
         1
        ],
        [
         13559,
         "update",
         "2019-12-10T21:30:40.000+0000",
         1
        ],
        [
         13559,
         "new",
         "2019-06-10T17:59:28.000+0000",
         2
        ],
        [
         13937,
         "new",
         "2019-12-03T19:03:28.000+0000",
         1
        ],
        [
         14232,
         "update",
         "2019-12-09T09:31:44.000+0000",
         1
        ],
        [
         14232,
         "new",
         "2019-07-03T00:32:00.000+0000",
         2
        ]
       ],
       "datasetInfos": [],
       "dbfsResultPath": null,
       "isJsonSchema": true,
       "metadata": {},
       "overflow": false,
       "plotOptions": {
        "customPlotOptions": {},
        "displayType": "table",
        "pivotAggregation": null,
        "pivotColumns": null,
        "xColumns": null,
        "yColumns": null
       },
       "removedWidgets": [],
       "schema": [
        {
         "metadata": "{}",
         "name": "user_id",
         "type": "\"integer\""
        },
        {
         "metadata": "{}",
         "name": "update_type",
         "type": "\"string\""
        },
        {
         "metadata": "{}",
         "name": "updated",
         "type": "\"timestamp\""
        },
        {
         "metadata": "{}",
         "name": "rank",
         "type": "\"integer\""
        }
       ],
       "type": "table"
      }
     },
     "output_type": "display_data"
    }
   ],
   "source": [
    "window = Window.partitionBy(\"user_id\").orderBy(f.col(\"updated\").desc())\n",
    "\n",
    "ranked_df = (users_df.withColumn(\"rank\", f.rank().over(window))\n",
    "                     .select(\"user_id\", \"update_type\", \"updated\", \"rank\")\n",
    "                     )\n",
    "\n",
    "display(ranked_df.limit(10))"
   ]
  },
  {
   "cell_type": "code",
   "execution_count": 0,
   "metadata": {
    "application/vnd.databricks.v1+cell": {
     "cellMetadata": {
      "byteLimit": 2048000,
      "rowLimit": 10000
     },
     "inputWidgets": {},
     "nuid": "b6293cf3-e73b-4438-87a7-fe743b6073de",
     "showTitle": true,
     "title": "Filtering by Newest"
    }
   },
   "outputs": [
    {
     "output_type": "display_data",
     "data": {
      "text/html": [
       "<style scoped>\n",
       "  .table-result-container {\n",
       "    max-height: 300px;\n",
       "    overflow: auto;\n",
       "  }\n",
       "  table, th, td {\n",
       "    border: 1px solid black;\n",
       "    border-collapse: collapse;\n",
       "  }\n",
       "  th, td {\n",
       "    padding: 5px;\n",
       "  }\n",
       "  th {\n",
       "    text-align: left;\n",
       "  }\n",
       "</style><div class='table-result-container'><table class='table-result'><thead style='background-color: white'><tr><th>alt_id</th><th>user_id</th><th>updated</th><th>dob</th><th>sex</th><th>gender</th><th>first_name</th><th>last_name</th><th>address</th><th>update_type</th></tr></thead><tbody><tr><td>77cc97b2e457eebeb379ebc401dda92c167a3b75a5b182222ddd30a7ca59f0b1</td><td>11745</td><td>2019-12-08T00:06:24.000+0000</td><td>1955-06-29</td><td>F</td><td>F</td><td>Shannon</td><td>Reyes</td><td>List(3105 Bowers Expressway, Long Beach, CA, 90808)</td><td>new</td></tr><tr><td>21252a4a1a3c3055965abcdf07d150252526dd08d448530aff3f9a0b1ba3ea15</td><td>12140</td><td>2019-12-12T08:04:16.000+0000</td><td>1999-02-02</td><td>M</td><td>M</td><td>Robert</td><td>Castillo</td><td>List(68994 Steven Vista, Pearblossom, CA, 93553)</td><td>update</td></tr><tr><td>439af0d33aac875f72c02c406fe2400f44ad41ca51818250835cdd5441d6f64f</td><td>12227</td><td>2019-12-08T14:56:00.000+0000</td><td>1949-12-11</td><td>F</td><td>F</td><td>Courtney</td><td>Sheppard</td><td>List(47754 Angela Plaza Apt. 135, Los Angeles, CA, 90010)</td><td>new</td></tr><tr><td>50dbd84f23da852932469306aeea94b554b4e06da456ade438c1d00eb46fafaa</td><td>12474</td><td>2019-12-01T05:28:32.000+0000</td><td>1939-07-25</td><td>M</td><td>M</td><td>Matthew</td><td>Phillips</td><td>List(02648 Wilkins Cliffs Suite 998, San Fernando, CA, 91340)</td><td>new</td></tr><tr><td>3ea4621e0fd13ae874fd99932b95c985adf5825704c62bcaecde311a57d4a185</td><td>13559</td><td>2019-12-10T21:30:40.000+0000</td><td>1980-03-06</td><td>F</td><td>F</td><td>Victoria</td><td>Smith</td><td>List(634 Acevedo Mountain, Santa Monica, CA, 90405)</td><td>update</td></tr><tr><td>ed758349b7130134cc56dba2153fc3687352b4a059efbfedcd89d471c2864a1d</td><td>13937</td><td>2019-12-03T19:03:28.000+0000</td><td>1982-04-26</td><td>M</td><td>M</td><td>Matthew</td><td>Johnson</td><td>List(9231 Edward Throughway Suite 072, Toluca Lake, CA, 91610)</td><td>new</td></tr><tr><td>ca08d684e3d88b99593bc121043f76ac7d40b3575645f3f9f5afbe6c6b44dc5f</td><td>14232</td><td>2019-12-09T09:31:44.000+0000</td><td>1979-01-04</td><td>M</td><td>M</td><td>Edward</td><td>Smith</td><td>List(41444 Noble Cape Suite 390, North Hollywood, CA, 91606)</td><td>update</td></tr><tr><td>4dd112a1f4d2b9647f144e58693e9d6fec15c20e4b26c72b21c86e9c4fa42d02</td><td>14508</td><td>2019-07-27T21:26:24.000+0000</td><td>1936-01-28</td><td>M</td><td>M</td><td>Justin</td><td>Eaton</td><td>List(04952 Lori Plain, Sierra Madre, CA, 91024)</td><td>new</td></tr><tr><td>cf42cb73e4b3a8153ef153ad3f831a156d5b964c9f9ff44c27ddd66a85bdc10d</td><td>14633</td><td>2019-12-11T20:54:24.000+0000</td><td>1997-09-04</td><td>F</td><td>F</td><td>Hannah</td><td>Fuller</td><td>List(81346 Obrien Streets, Gardena, CA, 90249)</td><td>new</td></tr><tr><td>082446604d60261afdc0491d2a8c3c700fac55890dff01d72bb6eb73b409d66f</td><td>15149</td><td>2019-07-04T00:57:36.000+0000</td><td>1972-03-30</td><td>M</td><td>M</td><td>Cameron</td><td>Vasquez</td><td>List(95932 Gary Ridges, Los Angeles, CA, 90018)</td><td>new</td></tr></tbody></table></div>"
      ]
     },
     "metadata": {
      "application/vnd.databricks.v1+output": {
       "addedWidgets": {},
       "aggData": [],
       "aggError": "",
       "aggOverflow": false,
       "aggSchema": [],
       "aggSeriesLimitReached": false,
       "aggType": "",
       "arguments": {},
       "columnCustomDisplayInfos": {},
       "data": [
        [
         "77cc97b2e457eebeb379ebc401dda92c167a3b75a5b182222ddd30a7ca59f0b1",
         11745,
         "2019-12-08T00:06:24.000+0000",
         "1955-06-29",
         "F",
         "F",
         "Shannon",
         "Reyes",
         [
          "3105 Bowers Expressway",
          "Long Beach",
          "CA",
          90808
         ],
         "new"
        ],
        [
         "21252a4a1a3c3055965abcdf07d150252526dd08d448530aff3f9a0b1ba3ea15",
         12140,
         "2019-12-12T08:04:16.000+0000",
         "1999-02-02",
         "M",
         "M",
         "Robert",
         "Castillo",
         [
          "68994 Steven Vista",
          "Pearblossom",
          "CA",
          93553
         ],
         "update"
        ],
        [
         "439af0d33aac875f72c02c406fe2400f44ad41ca51818250835cdd5441d6f64f",
         12227,
         "2019-12-08T14:56:00.000+0000",
         "1949-12-11",
         "F",
         "F",
         "Courtney",
         "Sheppard",
         [
          "47754 Angela Plaza Apt. 135",
          "Los Angeles",
          "CA",
          90010
         ],
         "new"
        ],
        [
         "50dbd84f23da852932469306aeea94b554b4e06da456ade438c1d00eb46fafaa",
         12474,
         "2019-12-01T05:28:32.000+0000",
         "1939-07-25",
         "M",
         "M",
         "Matthew",
         "Phillips",
         [
          "02648 Wilkins Cliffs Suite 998",
          "San Fernando",
          "CA",
          91340
         ],
         "new"
        ],
        [
         "3ea4621e0fd13ae874fd99932b95c985adf5825704c62bcaecde311a57d4a185",
         13559,
         "2019-12-10T21:30:40.000+0000",
         "1980-03-06",
         "F",
         "F",
         "Victoria",
         "Smith",
         [
          "634 Acevedo Mountain",
          "Santa Monica",
          "CA",
          90405
         ],
         "update"
        ],
        [
         "ed758349b7130134cc56dba2153fc3687352b4a059efbfedcd89d471c2864a1d",
         13937,
         "2019-12-03T19:03:28.000+0000",
         "1982-04-26",
         "M",
         "M",
         "Matthew",
         "Johnson",
         [
          "9231 Edward Throughway Suite 072",
          "Toluca Lake",
          "CA",
          91610
         ],
         "new"
        ],
        [
         "ca08d684e3d88b99593bc121043f76ac7d40b3575645f3f9f5afbe6c6b44dc5f",
         14232,
         "2019-12-09T09:31:44.000+0000",
         "1979-01-04",
         "M",
         "M",
         "Edward",
         "Smith",
         [
          "41444 Noble Cape Suite 390",
          "North Hollywood",
          "CA",
          91606
         ],
         "update"
        ],
        [
         "4dd112a1f4d2b9647f144e58693e9d6fec15c20e4b26c72b21c86e9c4fa42d02",
         14508,
         "2019-07-27T21:26:24.000+0000",
         "1936-01-28",
         "M",
         "M",
         "Justin",
         "Eaton",
         [
          "04952 Lori Plain",
          "Sierra Madre",
          "CA",
          91024
         ],
         "new"
        ],
        [
         "cf42cb73e4b3a8153ef153ad3f831a156d5b964c9f9ff44c27ddd66a85bdc10d",
         14633,
         "2019-12-11T20:54:24.000+0000",
         "1997-09-04",
         "F",
         "F",
         "Hannah",
         "Fuller",
         [
          "81346 Obrien Streets",
          "Gardena",
          "CA",
          90249
         ],
         "new"
        ],
        [
         "082446604d60261afdc0491d2a8c3c700fac55890dff01d72bb6eb73b409d66f",
         15149,
         "2019-07-04T00:57:36.000+0000",
         "1972-03-30",
         "M",
         "M",
         "Cameron",
         "Vasquez",
         [
          "95932 Gary Ridges",
          "Los Angeles",
          "CA",
          90018
         ],
         "new"
        ]
       ],
       "datasetInfos": [],
       "dbfsResultPath": null,
       "isJsonSchema": true,
       "metadata": {},
       "overflow": false,
       "plotOptions": {
        "customPlotOptions": {},
        "displayType": "table",
        "pivotAggregation": null,
        "pivotColumns": null,
        "xColumns": null,
        "yColumns": null
       },
       "removedWidgets": [],
       "schema": [
        {
         "metadata": "{}",
         "name": "alt_id",
         "type": "\"string\""
        },
        {
         "metadata": "{}",
         "name": "user_id",
         "type": "\"integer\""
        },
        {
         "metadata": "{}",
         "name": "updated",
         "type": "\"timestamp\""
        },
        {
         "metadata": "{}",
         "name": "dob",
         "type": "\"date\""
        },
        {
         "metadata": "{}",
         "name": "sex",
         "type": "\"string\""
        },
        {
         "metadata": "{}",
         "name": "gender",
         "type": "\"string\""
        },
        {
         "metadata": "{}",
         "name": "first_name",
         "type": "\"string\""
        },
        {
         "metadata": "{}",
         "name": "last_name",
         "type": "\"string\""
        },
        {
         "metadata": "{}",
         "name": "address",
         "type": "{\"type\":\"struct\",\"fields\":[{\"name\":\"street_address\",\"type\":\"string\",\"nullable\":true,\"metadata\":{}},{\"name\":\"city\",\"type\":\"string\",\"nullable\":true,\"metadata\":{}},{\"name\":\"state\",\"type\":\"string\",\"nullable\":true,\"metadata\":{}},{\"name\":\"zip\",\"type\":\"integer\",\"nullable\":true,\"metadata\":{}}]}"
        },
        {
         "metadata": "{}",
         "name": "update_type",
         "type": "\"string\""
        }
       ],
       "type": "table"
      }
     },
     "output_type": "display_data"
    }
   ],
   "source": [
    "ranked_df = (users_df.withColumn(\"rank\", f.rank().over(window))\n",
    "                     .filter(\"rank == 1\")\n",
    "                     .drop(\"rank\")\n",
    "                     )\n",
    "                     \n",
    "display(ranked_df.limit(10))"
   ]
  },
  {
   "cell_type": "markdown",
   "metadata": {
    "application/vnd.databricks.v1+cell": {
     "cellMetadata": {
      "byteLimit": 2048000,
      "rowLimit": 10000
     },
     "inputWidgets": {},
     "nuid": "fc75e0e9-b881-42e5-8d0f-77b2b8c6d713",
     "showTitle": false,
     "title": ""
    }
   },
   "source": [
    "Before moving on to compiling this logic in the upsert function (Structured Streaming doesn't support non-time-based windows), let's delve into the logic for parsing deletes."
   ]
  },
  {
   "cell_type": "markdown",
   "metadata": {
    "application/vnd.databricks.v1+cell": {
     "cellMetadata": {
      "byteLimit": 2048000,
      "rowLimit": 10000
     },
     "inputWidgets": {},
     "nuid": "e2f47877-639a-4cc8-b20f-fbe2ad86a707",
     "showTitle": false,
     "title": ""
    }
   },
   "source": [
    "#### Handling deletes\n",
    "\n",
    "This section concerns CDF and PII, as compliance with GDPR and CCPA mandates the right for customers to request deletion of their data from the Data Lake. To ensure comprehensive coverage, I'll adhere to the following requirements:\n",
    "\n",
    "- Delete all PII in the users table.\n",
    "- Erase links between pseudonymized keys and natural keys.\n",
    "\n",
    "Given that there will be only one delete request, a straightforward filter will suffice. I'll impose a deadline of 30 days after the request is inserted."
   ]
  },
  {
   "cell_type": "code",
   "execution_count": 0,
   "metadata": {
    "application/vnd.databricks.v1+cell": {
     "cellMetadata": {
      "byteLimit": 2048000,
      "rowLimit": 10000
     },
     "inputWidgets": {},
     "nuid": "c3a2c4b6-6c69-40dd-8040-c53a10a3b09e",
     "showTitle": true,
     "title": "Filtering Deletes"
    }
   },
   "outputs": [
    {
     "output_type": "display_data",
     "data": {
      "text/html": [
       "<style scoped>\n",
       "  .table-result-container {\n",
       "    max-height: 300px;\n",
       "    overflow: auto;\n",
       "  }\n",
       "  table, th, td {\n",
       "    border: 1px solid black;\n",
       "    border-collapse: collapse;\n",
       "  }\n",
       "  th, td {\n",
       "    padding: 5px;\n",
       "  }\n",
       "  th {\n",
       "    text-align: left;\n",
       "  }\n",
       "</style><div class='table-result-container'><table class='table-result'><thead style='background-color: white'><tr><th>alt_id</th><th>user_id</th><th>requested</th><th>deadline</th><th>status</th></tr></thead><tbody><tr><td>6af71c730bf30207f0f5e2ad628ec8d177579f83eb79bfd2b1915b752b47613b</td><td>42643</td><td>2019-12-09T01:10:24.000+0000</td><td>2020-01-08</td><td>requested</td></tr><tr><td>70744608949541b904257a726fbcad36eaba54acfdf31bd9d8d298d6f909def3</td><td>28776</td><td>2019-12-15T10:46:24.000+0000</td><td>2020-01-14</td><td>requested</td></tr><tr><td>5178bebcc29bcceaae206fb6dc48df5a153181ba8650136c6956e51a3b07cc97</td><td>19198</td><td>2019-12-13T09:36:00.000+0000</td><td>2020-01-12</td><td>requested</td></tr><tr><td>98f50739ae3a94ab454a3bbe72a4bcce6efdde04cd99de0ae12579e8e76dbbad</td><td>39676</td><td>2019-12-08T23:21:36.000+0000</td><td>2020-01-07</td><td>requested</td></tr><tr><td>c84576c8b9421dc3cee344ddc3f78d05c81b330ea1f61ecdab2b25bc2d590e7b</td><td>28521</td><td>2019-12-16T00:12:48.000+0000</td><td>2020-01-15</td><td>requested</td></tr><tr><td>918e542e24afecf3a2f65183a6c61f5a0e89a19c9cb7154d8969d9de040bf28e</td><td>28359</td><td>2019-12-16T16:38:24.000+0000</td><td>2020-01-15</td><td>requested</td></tr></tbody></table></div>"
      ]
     },
     "metadata": {
      "application/vnd.databricks.v1+output": {
       "addedWidgets": {},
       "aggData": [],
       "aggError": "",
       "aggOverflow": false,
       "aggSchema": [],
       "aggSeriesLimitReached": false,
       "aggType": "",
       "arguments": {},
       "columnCustomDisplayInfos": {},
       "data": [
        [
         "6af71c730bf30207f0f5e2ad628ec8d177579f83eb79bfd2b1915b752b47613b",
         42643,
         "2019-12-09T01:10:24.000+0000",
         "2020-01-08",
         "requested"
        ],
        [
         "70744608949541b904257a726fbcad36eaba54acfdf31bd9d8d298d6f909def3",
         28776,
         "2019-12-15T10:46:24.000+0000",
         "2020-01-14",
         "requested"
        ],
        [
         "5178bebcc29bcceaae206fb6dc48df5a153181ba8650136c6956e51a3b07cc97",
         19198,
         "2019-12-13T09:36:00.000+0000",
         "2020-01-12",
         "requested"
        ],
        [
         "98f50739ae3a94ab454a3bbe72a4bcce6efdde04cd99de0ae12579e8e76dbbad",
         39676,
         "2019-12-08T23:21:36.000+0000",
         "2020-01-07",
         "requested"
        ],
        [
         "c84576c8b9421dc3cee344ddc3f78d05c81b330ea1f61ecdab2b25bc2d590e7b",
         28521,
         "2019-12-16T00:12:48.000+0000",
         "2020-01-15",
         "requested"
        ],
        [
         "918e542e24afecf3a2f65183a6c61f5a0e89a19c9cb7154d8969d9de040bf28e",
         28359,
         "2019-12-16T16:38:24.000+0000",
         "2020-01-15",
         "requested"
        ]
       ],
       "datasetInfos": [],
       "dbfsResultPath": null,
       "isJsonSchema": true,
       "metadata": {},
       "overflow": false,
       "plotOptions": {
        "customPlotOptions": {},
        "displayType": "table",
        "pivotAggregation": null,
        "pivotColumns": null,
        "xColumns": null,
        "yColumns": null
       },
       "removedWidgets": [],
       "schema": [
        {
         "metadata": "{}",
         "name": "alt_id",
         "type": "\"string\""
        },
        {
         "metadata": "{}",
         "name": "user_id",
         "type": "\"integer\""
        },
        {
         "metadata": "{}",
         "name": "requested",
         "type": "\"timestamp\""
        },
        {
         "metadata": "{}",
         "name": "deadline",
         "type": "\"date\""
        },
        {
         "metadata": "{}",
         "name": "status",
         "type": "\"string\""
        }
       ],
       "type": "table"
      }
     },
     "output_type": "display_data"
    }
   ],
   "source": [
    "delete_requests = (users_df.filter(\"update_type = 'delete'\")\n",
    "                           .select(f.col(\"alt_id\"),\n",
    "                                   f.col(\"user_id\"),\n",
    "                                   f.col('updated').alias(\"requested\"),\n",
    "                                   f.date_add(\"requested\", 30).alias(\"deadline\"), \n",
    "                                   f.lit(\"requested\").alias(\"status\"))\n",
    "                   )\n",
    "\n",
    "display(delete_requests.limit(10))"
   ]
  },
  {
   "cell_type": "markdown",
   "metadata": {
    "application/vnd.databricks.v1+cell": {
     "cellMetadata": {
      "byteLimit": 2048000,
      "rowLimit": 10000
     },
     "inputWidgets": {},
     "nuid": "0680ccd7-f16b-42db-bcdd-e68b32c36be7",
     "showTitle": false,
     "title": ""
    }
   },
   "source": [
    "With this dataframe, I have all the necessary information to sever any link between data and the user while retaining a record of the process. Given the 30-day deadline, this process can be executed periodically or on-demand, separate from the main pipeline."
   ]
  },
  {
   "cell_type": "markdown",
   "metadata": {
    "application/vnd.databricks.v1+cell": {
     "cellMetadata": {
      "byteLimit": 2048000,
      "rowLimit": 10000
     },
     "inputWidgets": {},
     "nuid": "c08298bb-c7f4-46f3-ba66-36301230c2ef",
     "showTitle": false,
     "title": ""
    }
   },
   "source": [
    "### Processing Users"
   ]
  },
  {
   "cell_type": "code",
   "execution_count": 0,
   "metadata": {
    "application/vnd.databricks.v1+cell": {
     "cellMetadata": {
      "byteLimit": 2048000,
      "rowLimit": 10000
     },
     "inputWidgets": {},
     "nuid": "e1315da7-60e1-4e1d-a48f-450191ef3473",
     "showTitle": true,
     "title": "Query"
    }
   },
   "outputs": [],
   "source": [
    "def users_merge_crt_dlt(microBatchDF, batchId):\n",
    "\n",
    "    window = Window.partitionBy(\"alt_id\").orderBy(f.col(\"updated\").desc())\n",
    "\n",
    "    (microBatchDF\n",
    "        .filter(f.col(\"update_type\").isin([\"new\", \"update\"]))\n",
    "        .withColumn(\"rank\", f.rank().over(window))\n",
    "        .filter(\"rank == 1\")\n",
    "        .drop(\"rank\")\n",
    "        .createOrReplaceTempView(\"ranked_updates\"))\n",
    "\n",
    "    microBatchDF.sparkSession.sql(\"\"\"\n",
    "        MERGE INTO silver.users u\n",
    "        USING ranked_updates r\n",
    "        ON u.alt_id=r.alt_id\n",
    "        WHEN MATCHED AND u.updated < r.updated\n",
    "          THEN UPDATE SET *\n",
    "        WHEN NOT MATCHED\n",
    "          THEN INSERT *\n",
    "    \"\"\")\n",
    "\n",
    "    (microBatchDF\n",
    "        .filter(\"update_type = 'delete'\")\n",
    "        .select(f.col(\"alt_id\"), \n",
    "                f.col(\"updated\").alias(\"requested\"), \n",
    "                f.date_add(\"updated\", 30).alias(\"deadline\"), \n",
    "                f.lit(\"requested\").alias(\"status\"))\n",
    "        .write\n",
    "        .format(\"delta\")\n",
    "        .mode(\"append\")\n",
    "        .option(\"txnVersion\", batchId)\n",
    "        .option(\"txnAppId\", \"batch_rank_upsert\")\n",
    "        .saveAsTable(\"silver.delete_requests\"))\n",
    "    \n",
    "def process_users():\n",
    "\n",
    "    spark.sql(f\"CREATE TABLE IF NOT EXISTS silver.users (alt_id STRING, user_id INTEGER, dob DATE, sex STRING, gender STRING, first_name STRING, last_name STRING, street_address STRING, city STRING, state STRING, zip INT, updated TIMESTAMP) USING DELTA\")\n",
    "\n",
    "    users_schema = \"\"\"\n",
    "        user_id INTEGER, \n",
    "        update_type STRING, \n",
    "        timestamp FLOAT, \n",
    "        dob STRING, \n",
    "        sex STRING, \n",
    "        gender STRING, \n",
    "        first_name STRING, \n",
    "        last_name STRING, \n",
    "        address STRUCT<\n",
    "            street_address: STRING, \n",
    "            city: STRING, \n",
    "            state: STRING, \n",
    "            zip: INT\n",
    "    >\"\"\"\n",
    "    \n",
    "    (spark.readStream\n",
    "        .table(\"bronze.bronze\")\n",
    "        .filter(\"topic = 'user_info'\")\n",
    "        .dropDuplicates()\n",
    "        .select(f.from_json(f.col(\"value\").cast(\"string\"), users_schema).alias(\"users\"))\n",
    "        .select(\"users.*\")\n",
    "        .select(f.sha2(f.concat(f.col(\"user_id\"), f.lit(f\"{salt}\")), 256).alias(\"alt_id\"),\n",
    "                f.col(\"user_id\"),\n",
    "                f.col('timestamp').cast(\"timestamp\").alias(\"updated\"),\n",
    "                f.to_date('dob','MM/dd/yyyy').alias('dob'),\n",
    "                'sex', \n",
    "                'gender',\n",
    "                'first_name',\n",
    "                'last_name',\n",
    "                'address.*', \n",
    "                'update_type')\n",
    "        .writeStream\n",
    "        .foreachBatch(users_merge_crt_dlt)\n",
    "        .outputMode(\"update\")\n",
    "        .option(\"checkpointLocation\", f\"{checkpoint_path}/users\")\n",
    "        .trigger(availableNow=True)\n",
    "        .start()\n",
    "        .awaitTermination())\n",
    "        \n",
    "def reprocess_users():\n",
    "    dbutils.fs.rm(f\"{checkpoint_path}/users\", True)\n",
    "    dbutils.fs.rm(f\"{main_path}/delete_requests\", True)\n",
    "\n",
    "    spark.sql(\"drop table if exists silver.users\")\n",
    "    spark.sql(\"drop table if exists silver.delete_requests\")\n",
    "\n",
    "    process_users()    \n"
   ]
  },
  {
   "cell_type": "code",
   "execution_count": 0,
   "metadata": {
    "application/vnd.databricks.v1+cell": {
     "cellMetadata": {
      "byteLimit": 2048000,
      "rowLimit": 10000
     },
     "inputWidgets": {},
     "nuid": "3c641b0a-b629-4c3e-9139-288da03b47ff",
     "showTitle": true,
     "title": "Precessing"
    }
   },
   "outputs": [],
   "source": [
    "process_users()"
   ]
  },
  {
   "cell_type": "markdown",
   "metadata": {
    "application/vnd.databricks.v1+cell": {
     "cellMetadata": {},
     "inputWidgets": {},
     "nuid": "e9f37b48-16a0-4f22-860a-bf13f7067a44",
     "showTitle": false,
     "title": ""
    }
   },
   "source": [
    "### Verifying Results"
   ]
  },
  {
   "cell_type": "code",
   "execution_count": 0,
   "metadata": {
    "application/vnd.databricks.v1+cell": {
     "cellMetadata": {
      "byteLimit": 2048000,
      "rowLimit": 10000
     },
     "inputWidgets": {},
     "nuid": "c0ce1e80-c255-4975-9dce-c830f4d93f60",
     "showTitle": false,
     "title": ""
    }
   },
   "outputs": [
    {
     "output_type": "display_data",
     "data": {
      "text/html": [
       "<style scoped>\n",
       "  .table-result-container {\n",
       "    max-height: 300px;\n",
       "    overflow: auto;\n",
       "  }\n",
       "  table, th, td {\n",
       "    border: 1px solid black;\n",
       "    border-collapse: collapse;\n",
       "  }\n",
       "  th, td {\n",
       "    padding: 5px;\n",
       "  }\n",
       "  th {\n",
       "    text-align: left;\n",
       "  }\n",
       "</style><div class='table-result-container'><table class='table-result'><thead style='background-color: white'><tr><th>alt_id</th><th>user_id</th><th>dob</th><th>sex</th><th>gender</th><th>first_name</th><th>last_name</th><th>street_address</th><th>city</th><th>state</th><th>zip</th><th>updated</th></tr></thead><tbody><tr><td>0cac08c9ce7ea9534718f6f1047ed792015f9dc5aecc2e121e4c80c68ae7bb64</td><td>19103</td><td>1984-01-18</td><td>F</td><td>F</td><td>Leah</td><td>Walker</td><td>6973 Conner Viaduct</td><td>Burbank</td><td>CA</td><td>91521</td><td>2019-12-15T08:34:08.000+0000</td></tr><tr><td>2af970fb2c6d514d11c4738f07306469b05681eb57817b1ad1566ce85a7676e1</td><td>19888</td><td>1936-09-06</td><td>M</td><td>M</td><td>Craig</td><td>Nunez</td><td>882 Pamela Stravenue Suite 687</td><td>Los Alamitos</td><td>CA</td><td>90720</td><td>2019-12-15T04:22:24.000+0000</td></tr><tr><td>3de9b9bd48d773210bb42f9b566665356e73e1b35ae5584eec5824d57042fc89</td><td>48913</td><td>1949-03-28</td><td>M</td><td>M</td><td>Joseph</td><td>Aguilar</td><td>80176 Jeremy Harbor Apt. 565</td><td>Los Angeles</td><td>CA</td><td>90033</td><td>2019-12-06T18:33:36.000+0000</td></tr><tr><td>43a9a48524fca3e47fd42d2669013c49c567cedeeb506d1fd7a751f75f1c8687</td><td>40559</td><td>1952-07-04</td><td>M</td><td>M</td><td>Joseph</td><td>Kane</td><td>56860 Fernando Lock Apt. 520</td><td>Glendale</td><td>CA</td><td>91204</td><td>2019-12-12T04:05:20.000+0000</td></tr><tr><td>4a63161d94e3318c38193842d17054d239dc9b9261ea1cbac66de86f30285214</td><td>33733</td><td>1965-10-30</td><td>M</td><td>M</td><td>Gary</td><td>Perry</td><td>72915 Ross Throughway</td><td>Rowland Heights</td><td>CA</td><td>91748</td><td>2019-12-02T12:35:12.000+0000</td></tr><tr><td>5ce6620b7c357cd69446a87f463a4c40b100364e706a661dcec12390b9852d53</td><td>19198</td><td>1950-04-18</td><td>M</td><td>M</td><td>Benjamin</td><td>Poole</td><td>58054 Cynthia Rest</td><td>La Crescenta</td><td>CA</td><td>91214</td><td>2019-07-29T13:52:00.000+0000</td></tr><tr><td>6ae2eb91031e5980c271eff64aeea2bf6c0127f380c0f93dd5077228c562bd61</td><td>25477</td><td>1967-11-13</td><td>M</td><td>M</td><td>Richard</td><td>Douglas</td><td>993 Smith Mountain Apt. 056</td><td>Pomona</td><td>CA</td><td>91768</td><td>2019-12-03T21:22:08.000+0000</td></tr><tr><td>745c35775cfdf69e9a190c26a173285712c1929c5faa5087ce2855e9043b33f4</td><td>11745</td><td>1955-06-29</td><td>F</td><td>F</td><td>Shannon</td><td>Reyes</td><td>3105 Bowers Expressway</td><td>Long Beach</td><td>CA</td><td>90808</td><td>2019-12-08T00:06:24.000+0000</td></tr><tr><td>7e0504eb0e145b999b39081c43ac2cc7f26ec9ba8e4b06d5337be256c28a72ba</td><td>25143</td><td>1944-08-13</td><td>M</td><td>M</td><td>Lee</td><td>Brown</td><td>81022 Gibson Fords</td><td>Palmdale</td><td>CA</td><td>93552</td><td>2019-12-12T20:58:40.000+0000</td></tr><tr><td>7fde9776f2be9726369921eb480568b3e726110af056b36fe7a3ffdf4f9f6b79</td><td>37012</td><td>1925-02-26</td><td>M</td><td>M</td><td>Joshua</td><td>Perry</td><td>3456 Snyder Coves</td><td>Torrance</td><td>CA</td><td>90501</td><td>2019-08-10T22:06:56.000+0000</td></tr></tbody></table></div>"
      ]
     },
     "metadata": {
      "application/vnd.databricks.v1+output": {
       "addedWidgets": {},
       "aggData": [],
       "aggError": "",
       "aggOverflow": false,
       "aggSchema": [],
       "aggSeriesLimitReached": false,
       "aggType": "",
       "arguments": {},
       "columnCustomDisplayInfos": {},
       "data": [
        [
         "0cac08c9ce7ea9534718f6f1047ed792015f9dc5aecc2e121e4c80c68ae7bb64",
         19103,
         "1984-01-18",
         "F",
         "F",
         "Leah",
         "Walker",
         "6973 Conner Viaduct",
         "Burbank",
         "CA",
         91521,
         "2019-12-15T08:34:08.000+0000"
        ],
        [
         "2af970fb2c6d514d11c4738f07306469b05681eb57817b1ad1566ce85a7676e1",
         19888,
         "1936-09-06",
         "M",
         "M",
         "Craig",
         "Nunez",
         "882 Pamela Stravenue Suite 687",
         "Los Alamitos",
         "CA",
         90720,
         "2019-12-15T04:22:24.000+0000"
        ],
        [
         "3de9b9bd48d773210bb42f9b566665356e73e1b35ae5584eec5824d57042fc89",
         48913,
         "1949-03-28",
         "M",
         "M",
         "Joseph",
         "Aguilar",
         "80176 Jeremy Harbor Apt. 565",
         "Los Angeles",
         "CA",
         90033,
         "2019-12-06T18:33:36.000+0000"
        ],
        [
         "43a9a48524fca3e47fd42d2669013c49c567cedeeb506d1fd7a751f75f1c8687",
         40559,
         "1952-07-04",
         "M",
         "M",
         "Joseph",
         "Kane",
         "56860 Fernando Lock Apt. 520",
         "Glendale",
         "CA",
         91204,
         "2019-12-12T04:05:20.000+0000"
        ],
        [
         "4a63161d94e3318c38193842d17054d239dc9b9261ea1cbac66de86f30285214",
         33733,
         "1965-10-30",
         "M",
         "M",
         "Gary",
         "Perry",
         "72915 Ross Throughway",
         "Rowland Heights",
         "CA",
         91748,
         "2019-12-02T12:35:12.000+0000"
        ],
        [
         "5ce6620b7c357cd69446a87f463a4c40b100364e706a661dcec12390b9852d53",
         19198,
         "1950-04-18",
         "M",
         "M",
         "Benjamin",
         "Poole",
         "58054 Cynthia Rest",
         "La Crescenta",
         "CA",
         91214,
         "2019-07-29T13:52:00.000+0000"
        ],
        [
         "6ae2eb91031e5980c271eff64aeea2bf6c0127f380c0f93dd5077228c562bd61",
         25477,
         "1967-11-13",
         "M",
         "M",
         "Richard",
         "Douglas",
         "993 Smith Mountain Apt. 056",
         "Pomona",
         "CA",
         91768,
         "2019-12-03T21:22:08.000+0000"
        ],
        [
         "745c35775cfdf69e9a190c26a173285712c1929c5faa5087ce2855e9043b33f4",
         11745,
         "1955-06-29",
         "F",
         "F",
         "Shannon",
         "Reyes",
         "3105 Bowers Expressway",
         "Long Beach",
         "CA",
         90808,
         "2019-12-08T00:06:24.000+0000"
        ],
        [
         "7e0504eb0e145b999b39081c43ac2cc7f26ec9ba8e4b06d5337be256c28a72ba",
         25143,
         "1944-08-13",
         "M",
         "M",
         "Lee",
         "Brown",
         "81022 Gibson Fords",
         "Palmdale",
         "CA",
         93552,
         "2019-12-12T20:58:40.000+0000"
        ],
        [
         "7fde9776f2be9726369921eb480568b3e726110af056b36fe7a3ffdf4f9f6b79",
         37012,
         "1925-02-26",
         "M",
         "M",
         "Joshua",
         "Perry",
         "3456 Snyder Coves",
         "Torrance",
         "CA",
         90501,
         "2019-08-10T22:06:56.000+0000"
        ]
       ],
       "datasetInfos": [],
       "dbfsResultPath": null,
       "isJsonSchema": true,
       "metadata": {},
       "overflow": false,
       "plotOptions": {
        "customPlotOptions": {},
        "displayType": "table",
        "pivotAggregation": null,
        "pivotColumns": null,
        "xColumns": null,
        "yColumns": null
       },
       "removedWidgets": [],
       "schema": [
        {
         "metadata": "{}",
         "name": "alt_id",
         "type": "\"string\""
        },
        {
         "metadata": "{}",
         "name": "user_id",
         "type": "\"integer\""
        },
        {
         "metadata": "{}",
         "name": "dob",
         "type": "\"date\""
        },
        {
         "metadata": "{}",
         "name": "sex",
         "type": "\"string\""
        },
        {
         "metadata": "{}",
         "name": "gender",
         "type": "\"string\""
        },
        {
         "metadata": "{}",
         "name": "first_name",
         "type": "\"string\""
        },
        {
         "metadata": "{}",
         "name": "last_name",
         "type": "\"string\""
        },
        {
         "metadata": "{}",
         "name": "street_address",
         "type": "\"string\""
        },
        {
         "metadata": "{}",
         "name": "city",
         "type": "\"string\""
        },
        {
         "metadata": "{}",
         "name": "state",
         "type": "\"string\""
        },
        {
         "metadata": "{}",
         "name": "zip",
         "type": "\"integer\""
        },
        {
         "metadata": "{}",
         "name": "updated",
         "type": "\"timestamp\""
        }
       ],
       "type": "table"
      }
     },
     "output_type": "display_data"
    },
    {
     "output_type": "stream",
     "name": "stdout",
     "output_type": "stream",
     "text": [
      "\nThe User table has a total of 100 rows\n\n"
     ]
    },
    {
     "output_type": "display_data",
     "data": {
      "text/html": [
       "<style scoped>\n",
       "  .table-result-container {\n",
       "    max-height: 300px;\n",
       "    overflow: auto;\n",
       "  }\n",
       "  table, th, td {\n",
       "    border: 1px solid black;\n",
       "    border-collapse: collapse;\n",
       "  }\n",
       "  th, td {\n",
       "    padding: 5px;\n",
       "  }\n",
       "  th {\n",
       "    text-align: left;\n",
       "  }\n",
       "</style><div class='table-result-container'><table class='table-result'><thead style='background-color: white'><tr><th>alt_id</th><th>requested</th><th>deadline</th><th>status</th></tr></thead><tbody><tr><td>cba874842f4dd76d361c730e6c6080f130d86f149c1f6faeaf3d0dc605c85d17</td><td>2019-12-16T00:12:48.000+0000</td><td>2020-01-15</td><td>requested</td></tr><tr><td>8bb09f205d023251e392804a20a7294f5a424c9c295054c8f8f293c76dd205a5</td><td>2019-12-15T10:46:24.000+0000</td><td>2020-01-14</td><td>requested</td></tr><tr><td>39e5d7cc7a7354cab35d1ae9b4395e2303337d4a37b26f56071462c3a39b9b95</td><td>2019-12-09T01:10:24.000+0000</td><td>2020-01-08</td><td>requested</td></tr><tr><td>22cd18aa025b6e0b792b992b8ce7573c1a29a651cc72ed158c80daabbe660101</td><td>2019-12-16T16:38:24.000+0000</td><td>2020-01-15</td><td>requested</td></tr><tr><td>5d78cff0ca0f659e86ef1118bbf5b322731890ac20e0079fa799c44c80f1feff</td><td>2019-12-08T23:21:36.000+0000</td><td>2020-01-07</td><td>requested</td></tr><tr><td>5ce6620b7c357cd69446a87f463a4c40b100364e706a661dcec12390b9852d53</td><td>2019-12-13T09:36:00.000+0000</td><td>2020-01-12</td><td>requested</td></tr></tbody></table></div>"
      ]
     },
     "metadata": {
      "application/vnd.databricks.v1+output": {
       "addedWidgets": {},
       "aggData": [],
       "aggError": "",
       "aggOverflow": false,
       "aggSchema": [],
       "aggSeriesLimitReached": false,
       "aggType": "",
       "arguments": {},
       "columnCustomDisplayInfos": {},
       "data": [
        [
         "cba874842f4dd76d361c730e6c6080f130d86f149c1f6faeaf3d0dc605c85d17",
         "2019-12-16T00:12:48.000+0000",
         "2020-01-15",
         "requested"
        ],
        [
         "8bb09f205d023251e392804a20a7294f5a424c9c295054c8f8f293c76dd205a5",
         "2019-12-15T10:46:24.000+0000",
         "2020-01-14",
         "requested"
        ],
        [
         "39e5d7cc7a7354cab35d1ae9b4395e2303337d4a37b26f56071462c3a39b9b95",
         "2019-12-09T01:10:24.000+0000",
         "2020-01-08",
         "requested"
        ],
        [
         "22cd18aa025b6e0b792b992b8ce7573c1a29a651cc72ed158c80daabbe660101",
         "2019-12-16T16:38:24.000+0000",
         "2020-01-15",
         "requested"
        ],
        [
         "5d78cff0ca0f659e86ef1118bbf5b322731890ac20e0079fa799c44c80f1feff",
         "2019-12-08T23:21:36.000+0000",
         "2020-01-07",
         "requested"
        ],
        [
         "5ce6620b7c357cd69446a87f463a4c40b100364e706a661dcec12390b9852d53",
         "2019-12-13T09:36:00.000+0000",
         "2020-01-12",
         "requested"
        ]
       ],
       "datasetInfos": [],
       "dbfsResultPath": null,
       "isJsonSchema": true,
       "metadata": {},
       "overflow": false,
       "plotOptions": {
        "customPlotOptions": {},
        "displayType": "table",
        "pivotAggregation": null,
        "pivotColumns": null,
        "xColumns": null,
        "yColumns": null
       },
       "removedWidgets": [],
       "schema": [
        {
         "metadata": "{}",
         "name": "alt_id",
         "type": "\"string\""
        },
        {
         "metadata": "{}",
         "name": "requested",
         "type": "\"timestamp\""
        },
        {
         "metadata": "{}",
         "name": "deadline",
         "type": "\"date\""
        },
        {
         "metadata": "{}",
         "name": "status",
         "type": "\"string\""
        }
       ],
       "type": "table"
      }
     },
     "output_type": "display_data"
    },
    {
     "output_type": "stream",
     "name": "stdout",
     "output_type": "stream",
     "text": [
      "\nThe Delete_requests table has a total of 6 rows\n\n"
     ]
    }
   ],
   "source": [
    "# Display a sample of the data from the Users table\n",
    "display(spark.read.table(\"silver.users\").limit(10))\n",
    "\n",
    "# Print total count of rows in the Users table\n",
    "print(\"\")\n",
    "print(f\"The User table has a total of {spark.table('silver.users').count()} rows\")\n",
    "print(\"\")\n",
    "\n",
    "# Display a sample of the data from the delete_requests table\n",
    "display(spark.read.table(\"silver.delete_requests\").limit(10))\n",
    "\n",
    "# Print total count of rows in the delete_requests table\n",
    "print(\"\")\n",
    "print(f\"The Delete_requests table has a total of {spark.table('silver.delete_requests').count()} rows\")\n",
    "print(\"\")\n"
   ]
  },
  {
   "cell_type": "markdown",
   "metadata": {
    "application/vnd.databricks.v1+cell": {
     "cellMetadata": {
      "byteLimit": 2048000,
      "rowLimit": 10000
     },
     "inputWidgets": {},
     "nuid": "cc498359-940d-4ef0-81c3-9d84162d43d6",
     "showTitle": false,
     "title": ""
    }
   },
   "source": [
    "In a production environment, access to the Users table would be restricted, and only a processed view with classified PII information would be available for access."
   ]
  },
  {
   "cell_type": "markdown",
   "metadata": {
    "application/vnd.databricks.v1+cell": {
     "cellMetadata": {
      "byteLimit": 2048000,
      "rowLimit": 10000
     },
     "inputWidgets": {},
     "nuid": "deaef04a-1012-4932-9807-622100c870b8",
     "showTitle": false,
     "title": ""
    }
   },
   "source": [
    "## Create User_bins \n",
    "\n",
    "Now that deletion is sorted, let's revisit measures for handling PII data.<br>\n",
    "As mentioned in the comment after processing the users table, it's imperative to restrict access to the table or its PII information.<br>\n",
    "The best solution for this problem would be a dynamic view, where I could just obscure some columns with the code below: <br>\n",
    "```sql\n",
    "SELECT CASE WHEN is_member('grup_a') THEN column ELSE 'REDACTED' END AS column\n",
    "```\n",
    "Or rows with this:<br>\n",
    "```sql\n",
    "WHERE CASE WHEN is_member('group_b') THEN TRUE ELSE column = \"that_filter\" AND date_column > \"YYYY-MM-DD\" END\n",
    "```\n",
    "<br>\n",
    "However, I don't have access to these features in community mode. Therefore, the solution is to create a users table with minimal PII while maintaining its utility.\n",
    "\n",
    "The plan here is:\n",
    "- Delete the columns: first name, last name, date of birth, and street address (zip code might still be an issue, but the next step should help mitigate this)\n",
    "- Generalize age"
   ]
  },
  {
   "cell_type": "code",
   "execution_count": 0,
   "metadata": {
    "application/vnd.databricks.v1+cell": {
     "cellMetadata": {
      "byteLimit": 2048000,
      "rowLimit": 10000
     },
     "inputWidgets": {},
     "nuid": "27a76e0c-d02e-4a91-b421-e6ccb962da51",
     "showTitle": true,
     "title": "Query"
    }
   },
   "outputs": [],
   "source": [
    "# Function to Generalize Age\n",
    "def age_bins(dob_col):\n",
    "    age_col = f.floor(f.months_between(f.current_date(), dob_col)/12).alias(\"age\")\n",
    "    \n",
    "    return (f.when((age_col < 18), \"under 18\")\n",
    "             .when((age_col >= 18) & (age_col < 25), \"18-25\")\n",
    "             .when((age_col >= 25) & (age_col < 35), \"25-35\")\n",
    "             .when((age_col >= 35) & (age_col < 45), \"35-45\")\n",
    "             .when((age_col >= 45) & (age_col < 55), \"45-55\")\n",
    "             .when((age_col >= 55) & (age_col < 65), \"55-65\")\n",
    "             .when((age_col >= 65) & (age_col < 75), \"65-75\")\n",
    "             .when((age_col >= 75) & (age_col < 85), \"75-85\")\n",
    "             .when((age_col >= 85) & (age_col < 95), \"85-95\")\n",
    "             .when((age_col >= 95), \"95+\")\n",
    "             .otherwise(\"invalid age\").alias(\"age\"))\n",
    "\n",
    "# Simple Merge function\n",
    "def user_bins_merge_data(df, batch_id):\n",
    "    (df.drop(\"updated\")\n",
    "     .createOrReplaceTempView(\"stream_updates\"))\n",
    "\n",
    "    df.sparkSession.sql(\"\"\"\n",
    "          MERGE INTO silver.user_bins a\n",
    "          USING stream_updates b\n",
    "          ON a.alt_id=b.alt_id\n",
    "          WHEN MATCHED THEN\n",
    "            UPDATE SET *\n",
    "          WHEN NOT MATCHED THEN\n",
    "            INSERT * \n",
    "          \"\"\")\n",
    "\n",
    "\n",
    "def process_user_bins():\n",
    "\n",
    "    (spark.sql(\"\"\"\n",
    "      CREATE TABLE IF NOT EXISTS\n",
    "      silver.user_bins\n",
    "       (alt_id   STRING,\n",
    "        user_id  INTEGER,\n",
    "        age      STRING,\n",
    "        sex      STRING,\n",
    "        gender   STRING,\n",
    "        city     STRING,\n",
    "        state    STRING,\n",
    "        zip      INTEGER) \n",
    "      USING DELTA\n",
    "    \"\"\"))\n",
    "\n",
    "    (spark.readStream\n",
    "          .table(\"silver.users\")\n",
    "          .select(\"alt_id\",\n",
    "                  \"user_id\", \n",
    "                  age_bins(f.col(\"dob\")),\n",
    "                  \"sex\",\n",
    "                  \"gender\", \n",
    "                  \"city\", \n",
    "                  \"state\",\n",
    "                  \"zip\",\n",
    "                  \"updated\")\n",
    "          .withWatermark(\"updated\", \"30 seconds\")\n",
    "          .writeStream\n",
    "              .foreachBatch(user_bins_merge_data)\n",
    "              .option(\"checkpointLocation\", f\"{checkpoint_path}/user_bins\")\n",
    "              .outputMode(\"update\")\n",
    "              .trigger(availableNow=True)\n",
    "              .queryName(\"user_bins\")\n",
    "              .start()\n",
    "              .awaitTermination())\n",
    "\n",
    "def reprocess_user_bins():\n",
    "    dbutils.fs.rm(f\"{checkpoint_path}/user_bins\", True)\n",
    "\n",
    "    spark.sql(\"drop table if exists silver.user_bins\")\n",
    "\n",
    "    process_user_bins()\n"
   ]
  },
  {
   "cell_type": "code",
   "execution_count": 0,
   "metadata": {
    "application/vnd.databricks.v1+cell": {
     "cellMetadata": {
      "byteLimit": 2048000,
      "rowLimit": 10000
     },
     "inputWidgets": {},
     "nuid": "59070399-ccd8-41e0-83d8-dd7653e0e6e1",
     "showTitle": true,
     "title": "Verify Results"
    }
   },
   "outputs": [
    {
     "output_type": "display_data",
     "data": {
      "text/html": [
       "<style scoped>\n",
       "  .table-result-container {\n",
       "    max-height: 300px;\n",
       "    overflow: auto;\n",
       "  }\n",
       "  table, th, td {\n",
       "    border: 1px solid black;\n",
       "    border-collapse: collapse;\n",
       "  }\n",
       "  th, td {\n",
       "    padding: 5px;\n",
       "  }\n",
       "  th {\n",
       "    text-align: left;\n",
       "  }\n",
       "</style><div class='table-result-container'><table class='table-result'><thead style='background-color: white'><tr><th>alt_id</th><th>user_id</th><th>age</th><th>sex</th><th>gender</th><th>city</th><th>state</th><th>zip</th></tr></thead><tbody><tr><td>0cac08c9ce7ea9534718f6f1047ed792015f9dc5aecc2e121e4c80c68ae7bb64</td><td>19103</td><td>35-45</td><td>F</td><td>F</td><td>Burbank</td><td>CA</td><td>91521</td></tr><tr><td>2af970fb2c6d514d11c4738f07306469b05681eb57817b1ad1566ce85a7676e1</td><td>19888</td><td>85-95</td><td>M</td><td>M</td><td>Los Alamitos</td><td>CA</td><td>90720</td></tr><tr><td>3de9b9bd48d773210bb42f9b566665356e73e1b35ae5584eec5824d57042fc89</td><td>48913</td><td>75-85</td><td>M</td><td>M</td><td>Los Angeles</td><td>CA</td><td>90033</td></tr><tr><td>43a9a48524fca3e47fd42d2669013c49c567cedeeb506d1fd7a751f75f1c8687</td><td>40559</td><td>65-75</td><td>M</td><td>M</td><td>Glendale</td><td>CA</td><td>91204</td></tr><tr><td>4a63161d94e3318c38193842d17054d239dc9b9261ea1cbac66de86f30285214</td><td>33733</td><td>55-65</td><td>M</td><td>M</td><td>Rowland Heights</td><td>CA</td><td>91748</td></tr><tr><td>5ce6620b7c357cd69446a87f463a4c40b100364e706a661dcec12390b9852d53</td><td>19198</td><td>65-75</td><td>M</td><td>M</td><td>La Crescenta</td><td>CA</td><td>91214</td></tr><tr><td>6ae2eb91031e5980c271eff64aeea2bf6c0127f380c0f93dd5077228c562bd61</td><td>25477</td><td>55-65</td><td>M</td><td>M</td><td>Pomona</td><td>CA</td><td>91768</td></tr><tr><td>745c35775cfdf69e9a190c26a173285712c1929c5faa5087ce2855e9043b33f4</td><td>11745</td><td>65-75</td><td>F</td><td>F</td><td>Long Beach</td><td>CA</td><td>90808</td></tr><tr><td>7e0504eb0e145b999b39081c43ac2cc7f26ec9ba8e4b06d5337be256c28a72ba</td><td>25143</td><td>75-85</td><td>M</td><td>M</td><td>Palmdale</td><td>CA</td><td>93552</td></tr><tr><td>7fde9776f2be9726369921eb480568b3e726110af056b36fe7a3ffdf4f9f6b79</td><td>37012</td><td>95+</td><td>M</td><td>M</td><td>Torrance</td><td>CA</td><td>90501</td></tr></tbody></table></div>"
      ]
     },
     "metadata": {
      "application/vnd.databricks.v1+output": {
       "addedWidgets": {},
       "aggData": [],
       "aggError": "",
       "aggOverflow": false,
       "aggSchema": [],
       "aggSeriesLimitReached": false,
       "aggType": "",
       "arguments": {},
       "columnCustomDisplayInfos": {},
       "data": [
        [
         "0cac08c9ce7ea9534718f6f1047ed792015f9dc5aecc2e121e4c80c68ae7bb64",
         19103,
         "35-45",
         "F",
         "F",
         "Burbank",
         "CA",
         91521
        ],
        [
         "2af970fb2c6d514d11c4738f07306469b05681eb57817b1ad1566ce85a7676e1",
         19888,
         "85-95",
         "M",
         "M",
         "Los Alamitos",
         "CA",
         90720
        ],
        [
         "3de9b9bd48d773210bb42f9b566665356e73e1b35ae5584eec5824d57042fc89",
         48913,
         "75-85",
         "M",
         "M",
         "Los Angeles",
         "CA",
         90033
        ],
        [
         "43a9a48524fca3e47fd42d2669013c49c567cedeeb506d1fd7a751f75f1c8687",
         40559,
         "65-75",
         "M",
         "M",
         "Glendale",
         "CA",
         91204
        ],
        [
         "4a63161d94e3318c38193842d17054d239dc9b9261ea1cbac66de86f30285214",
         33733,
         "55-65",
         "M",
         "M",
         "Rowland Heights",
         "CA",
         91748
        ],
        [
         "5ce6620b7c357cd69446a87f463a4c40b100364e706a661dcec12390b9852d53",
         19198,
         "65-75",
         "M",
         "M",
         "La Crescenta",
         "CA",
         91214
        ],
        [
         "6ae2eb91031e5980c271eff64aeea2bf6c0127f380c0f93dd5077228c562bd61",
         25477,
         "55-65",
         "M",
         "M",
         "Pomona",
         "CA",
         91768
        ],
        [
         "745c35775cfdf69e9a190c26a173285712c1929c5faa5087ce2855e9043b33f4",
         11745,
         "65-75",
         "F",
         "F",
         "Long Beach",
         "CA",
         90808
        ],
        [
         "7e0504eb0e145b999b39081c43ac2cc7f26ec9ba8e4b06d5337be256c28a72ba",
         25143,
         "75-85",
         "M",
         "M",
         "Palmdale",
         "CA",
         93552
        ],
        [
         "7fde9776f2be9726369921eb480568b3e726110af056b36fe7a3ffdf4f9f6b79",
         37012,
         "95+",
         "M",
         "M",
         "Torrance",
         "CA",
         90501
        ]
       ],
       "datasetInfos": [],
       "dbfsResultPath": null,
       "isJsonSchema": true,
       "metadata": {},
       "overflow": false,
       "plotOptions": {
        "customPlotOptions": {},
        "displayType": "table",
        "pivotAggregation": null,
        "pivotColumns": null,
        "xColumns": null,
        "yColumns": null
       },
       "removedWidgets": [],
       "schema": [
        {
         "metadata": "{}",
         "name": "alt_id",
         "type": "\"string\""
        },
        {
         "metadata": "{}",
         "name": "user_id",
         "type": "\"integer\""
        },
        {
         "metadata": "{}",
         "name": "age",
         "type": "\"string\""
        },
        {
         "metadata": "{}",
         "name": "sex",
         "type": "\"string\""
        },
        {
         "metadata": "{}",
         "name": "gender",
         "type": "\"string\""
        },
        {
         "metadata": "{}",
         "name": "city",
         "type": "\"string\""
        },
        {
         "metadata": "{}",
         "name": "state",
         "type": "\"string\""
        },
        {
         "metadata": "{}",
         "name": "zip",
         "type": "\"integer\""
        }
       ],
       "type": "table"
      }
     },
     "output_type": "display_data"
    },
    {
     "output_type": "stream",
     "name": "stdout",
     "output_type": "stream",
     "text": [
      "\nThe user_bins table has 100 rows\n\n"
     ]
    }
   ],
   "source": [
    "process_user_bins()\n",
    "\n",
    "display(spark.table(\"silver.user_bins\").limit(10))\n",
    "\n",
    "print(\"\")\n",
    "print(f\"The user_bins table has {spark.table('silver.user_bins').count()} rows\")\n",
    "print(\"\")"
   ]
  },
  {
   "cell_type": "markdown",
   "metadata": {
    "application/vnd.databricks.v1+cell": {
     "cellMetadata": {
      "byteLimit": 2048000,
      "rowLimit": 10000
     },
     "inputWidgets": {},
     "nuid": "92999638-f5ba-450e-90fb-53052fee41de",
     "showTitle": false,
     "title": ""
    }
   },
   "source": [
    "## Create Workout_user_summary\n",
    "\n",
    "This is the last object of this pipeline, this view will use all the data ingested to offer a wide range of information of every user."
   ]
  },
  {
   "cell_type": "code",
   "execution_count": 0,
   "metadata": {
    "application/vnd.databricks.v1+cell": {
     "cellMetadata": {
      "byteLimit": 2048000,
      "rowLimit": 10000
     },
     "inputWidgets": {},
     "nuid": "70659826-2c57-4498-b152-b40061a3c9e0",
     "showTitle": true,
     "title": "Exploring Transformation"
    }
   },
   "outputs": [
    {
     "output_type": "display_data",
     "data": {
      "text/html": [
       "<style scoped>\n",
       "  .table-result-container {\n",
       "    max-height: 300px;\n",
       "    overflow: auto;\n",
       "  }\n",
       "  table, th, td {\n",
       "    border: 1px solid black;\n",
       "    border-collapse: collapse;\n",
       "  }\n",
       "  th, td {\n",
       "    padding: 5px;\n",
       "  }\n",
       "  th {\n",
       "    text-align: left;\n",
       "  }\n",
       "</style><div class='table-result-container'><table class='table-result'><thead style='background-color: white'><tr><th>user_id</th><th>device_id</th><th>session_id</th><th>avg_heartrate</th><th>start_time</th><th>end_time</th></tr></thead><tbody><tr><td>29213</td><td>183816</td><td>320</td><td>135718</td><td>2019-12-15T10:56:29.000+0000</td><td>2019-12-15T11:28:51.000+0000</td></tr><tr><td>29213</td><td>183816</td><td>319</td><td>135718</td><td>2019-12-15T10:20:14.000+0000</td><td>2019-12-15T10:45:26.000+0000</td></tr><tr><td>29213</td><td>183816</td><td>318</td><td>135718</td><td>2019-12-14T08:06:32.000+0000</td><td>2019-12-14T08:37:31.000+0000</td></tr><tr><td>29213</td><td>183816</td><td>317</td><td>135718</td><td>2019-12-14T07:17:47.000+0000</td><td>2019-12-14T08:03:30.000+0000</td></tr><tr><td>29213</td><td>183816</td><td>316</td><td>135718</td><td>2019-12-13T18:41:53.000+0000</td><td>2019-12-13T19:01:42.000+0000</td></tr><tr><td>29213</td><td>183816</td><td>315</td><td>135718</td><td>2019-12-13T17:42:12.000+0000</td><td>2019-12-13T18:31:46.000+0000</td></tr><tr><td>29213</td><td>183816</td><td>314</td><td>135718</td><td>2019-12-12T15:10:22.000+0000</td><td>2019-12-12T15:58:08.000+0000</td></tr><tr><td>29213</td><td>183816</td><td>313</td><td>135718</td><td>2019-12-12T14:12:02.000+0000</td><td>2019-12-12T15:02:39.000+0000</td></tr><tr><td>29213</td><td>183816</td><td>312</td><td>135718</td><td>2019-12-11T18:00:47.000+0000</td><td>2019-12-11T18:46:47.000+0000</td></tr><tr><td>29213</td><td>183816</td><td>311</td><td>135718</td><td>2019-12-10T07:33:27.000+0000</td><td>2019-12-10T08:09:09.000+0000</td></tr></tbody></table></div>"
      ]
     },
     "metadata": {
      "application/vnd.databricks.v1+output": {
       "addedWidgets": {},
       "aggData": [],
       "aggError": "",
       "aggOverflow": false,
       "aggSchema": [],
       "aggSeriesLimitReached": false,
       "aggType": "",
       "arguments": {},
       "columnCustomDisplayInfos": {},
       "data": [
        [
         29213,
         183816,
         320,
         135718,
         "2019-12-15T10:56:29.000+0000",
         "2019-12-15T11:28:51.000+0000"
        ],
        [
         29213,
         183816,
         319,
         135718,
         "2019-12-15T10:20:14.000+0000",
         "2019-12-15T10:45:26.000+0000"
        ],
        [
         29213,
         183816,
         318,
         135718,
         "2019-12-14T08:06:32.000+0000",
         "2019-12-14T08:37:31.000+0000"
        ],
        [
         29213,
         183816,
         317,
         135718,
         "2019-12-14T07:17:47.000+0000",
         "2019-12-14T08:03:30.000+0000"
        ],
        [
         29213,
         183816,
         316,
         135718,
         "2019-12-13T18:41:53.000+0000",
         "2019-12-13T19:01:42.000+0000"
        ],
        [
         29213,
         183816,
         315,
         135718,
         "2019-12-13T17:42:12.000+0000",
         "2019-12-13T18:31:46.000+0000"
        ],
        [
         29213,
         183816,
         314,
         135718,
         "2019-12-12T15:10:22.000+0000",
         "2019-12-12T15:58:08.000+0000"
        ],
        [
         29213,
         183816,
         313,
         135718,
         "2019-12-12T14:12:02.000+0000",
         "2019-12-12T15:02:39.000+0000"
        ],
        [
         29213,
         183816,
         312,
         135718,
         "2019-12-11T18:00:47.000+0000",
         "2019-12-11T18:46:47.000+0000"
        ],
        [
         29213,
         183816,
         311,
         135718,
         "2019-12-10T07:33:27.000+0000",
         "2019-12-10T08:09:09.000+0000"
        ]
       ],
       "datasetInfos": [],
       "dbfsResultPath": null,
       "isJsonSchema": true,
       "metadata": {},
       "overflow": false,
       "plotOptions": {
        "customPlotOptions": {},
        "displayType": "table",
        "pivotAggregation": null,
        "pivotColumns": null,
        "xColumns": null,
        "yColumns": null
       },
       "removedWidgets": [],
       "schema": [
        {
         "metadata": "{}",
         "name": "user_id",
         "type": "\"integer\""
        },
        {
         "metadata": "{}",
         "name": "device_id",
         "type": "\"long\""
        },
        {
         "metadata": "{}",
         "name": "session_id",
         "type": "\"integer\""
        },
        {
         "metadata": "{}",
         "name": "avg_heartrate",
         "type": "\"long\""
        },
        {
         "metadata": "{}",
         "name": "start_time",
         "type": "\"timestamp\""
        },
        {
         "metadata": "{}",
         "name": "end_time",
         "type": "\"timestamp\""
        }
       ],
       "type": "table"
      }
     },
     "output_type": "display_data"
    }
   ],
   "source": [
    "display(\n",
    "    spark.table(\"silver.completed_workouts\")\n",
    "    .join(spark.table(\"silver.user_lookup\")\n",
    "          .select(\"device_id\", \"user_id\"),\n",
    "          [\"user_id\"])\n",
    "    .select(\"user_id\", \"device_id\", \"session_id\", \"start_time\", \"end_time\")\n",
    "    .join(spark.table(\"silver.heart_rate\")\n",
    "          .select(\"device_id\", \"heartrate\"),\n",
    "          [\"device_id\"])\n",
    "    .groupBy(\"user_id\", \"device_id\", \"session_id\")\n",
    "        .agg(f.count(f.col(\"heartrate\")).alias(\"avg_heartrate\"),\n",
    "             f.min(f.col(\"start_time\")).alias(\"start_time\"),\n",
    "             f.max(f.col(\"end_time\")).alias(\"end_time\"))\n",
    "    .where((f.col(\"device_id\") == 183816))\n",
    "    .orderBy(f.col(\"start_time\").desc())\n",
    "    .limit(10)\n",
    ")"
   ]
  },
  {
   "cell_type": "code",
   "execution_count": 0,
   "metadata": {
    "application/vnd.databricks.v1+cell": {
     "cellMetadata": {
      "byteLimit": 2048000,
      "implicitDf": true,
      "rowLimit": 10000
     },
     "inputWidgets": {},
     "nuid": "93870ea3-0a5f-4f95-b708-595e48fa5421",
     "showTitle": true,
     "title": "Final Query"
    }
   },
   "outputs": [
    {
     "output_type": "display_data",
     "data": {
      "text/html": [
       "<style scoped>\n",
       "  .table-result-container {\n",
       "    max-height: 300px;\n",
       "    overflow: auto;\n",
       "  }\n",
       "  table, th, td {\n",
       "    border: 1px solid black;\n",
       "    border-collapse: collapse;\n",
       "  }\n",
       "  th, td {\n",
       "    padding: 5px;\n",
       "  }\n",
       "  th {\n",
       "    text-align: left;\n",
       "  }\n",
       "</style><div class='table-result-container'><table class='table-result'><thead style='background-color: white'><tr></tr></thead><tbody></tbody></table></div>"
      ]
     },
     "metadata": {
      "application/vnd.databricks.v1+output": {
       "addedWidgets": {},
       "aggData": [],
       "aggError": "",
       "aggOverflow": false,
       "aggSchema": [],
       "aggSeriesLimitReached": false,
       "aggType": "",
       "arguments": {},
       "columnCustomDisplayInfos": {},
       "data": [],
       "datasetInfos": [],
       "dbfsResultPath": null,
       "isJsonSchema": true,
       "metadata": {},
       "overflow": false,
       "plotOptions": {
        "customPlotOptions": {},
        "displayType": "table",
        "pivotAggregation": null,
        "pivotColumns": null,
        "xColumns": null,
        "yColumns": null
       },
       "removedWidgets": [],
       "schema": [],
       "type": "table"
      }
     },
     "output_type": "display_data"
    }
   ],
   "source": [
    "%sql\n",
    "\n",
    "DROP VIEW IF EXISTS gold.workout_user_summary;\n",
    "\n",
    "CREATE VIEW gold.workout_user_summary AS (\n",
    "SELECT\n",
    "    wh.user_id,\n",
    "    wh.min_heartrate,\n",
    "    wh.avg_heartrate,\n",
    "    wh.max_heartrate,\n",
    "    wh.start_time,\n",
    "    wh.end_time,\n",
    "    ub.age,\n",
    "    ub.sex,\n",
    "    ub.gender,\n",
    "    ub.city,\n",
    "    ub.state,\n",
    "    ub.zip\n",
    "FROM (SELECT\n",
    "          cw.user_id,\n",
    "          ul.device_id,\n",
    "          cw.session_id,\n",
    "          MIN(hr.heartrate) AS min_heartrate,\n",
    "          AVG(hr.heartrate) AS avg_heartrate,\n",
    "          MAX(hr.heartrate) AS max_heartrate,\n",
    "          MIN(cw.start_time) AS start_time,\n",
    "          MAX(cw.end_time) AS end_time\n",
    "      FROM silver.completed_workouts cw\n",
    "      JOIN silver.user_lookup ul ON cw.user_id = ul.user_id\n",
    "      JOIN silver.heart_rate hr ON ul.device_id = hr.device_id\n",
    "      GROUP BY cw.user_id, ul.device_id, cw.session_id\n",
    ") wh\n",
    "JOIN silver.user_bins ub ON wh.user_id = ub.user_id\n",
    ");"
   ]
  },
  {
   "cell_type": "code",
   "execution_count": 0,
   "metadata": {
    "application/vnd.databricks.v1+cell": {
     "cellMetadata": {
      "byteLimit": 2048000,
      "rowLimit": 10000
     },
     "inputWidgets": {},
     "nuid": "c8971026-d7ef-4dff-a3f9-03c5b823ca33",
     "showTitle": true,
     "title": "Verify Results"
    }
   },
   "outputs": [
    {
     "output_type": "display_data",
     "data": {
      "text/html": [
       "<style scoped>\n",
       "  .table-result-container {\n",
       "    max-height: 300px;\n",
       "    overflow: auto;\n",
       "  }\n",
       "  table, th, td {\n",
       "    border: 1px solid black;\n",
       "    border-collapse: collapse;\n",
       "  }\n",
       "  th, td {\n",
       "    padding: 5px;\n",
       "  }\n",
       "  th {\n",
       "    text-align: left;\n",
       "  }\n",
       "</style><div class='table-result-container'><table class='table-result'><thead style='background-color: white'><tr><th>user_id</th><th>min_heartrate</th><th>avg_heartrate</th><th>max_heartrate</th><th>start_time</th><th>end_time</th><th>age</th><th>sex</th><th>gender</th><th>city</th><th>state</th><th>zip</th></tr></thead><tbody><tr><td>28588</td><td>45.24741098794139</td><td>87.02458361971546</td><td>168.72168469775733</td><td>2019-12-12T12:31:59.000+0000</td><td>2019-12-12T13:09:23.000+0000</td><td>35-45</td><td>M</td><td>M</td><td>Arcadia</td><td>CA</td><td>91006</td></tr><tr><td>30088</td><td>43.031085845788084</td><td>86.08719253950291</td><td>177.9334884047032</td><td>2019-12-07T17:39:56.000+0000</td><td>2019-12-07T18:15:44.000+0000</td><td>25-35</td><td>M</td><td>M</td><td>Los Angeles</td><td>CA</td><td>90009</td></tr><tr><td>30088</td><td>43.031085845788084</td><td>86.08719253950291</td><td>177.9334884047032</td><td>2019-12-02T17:27:12.000+0000</td><td>2019-12-02T18:19:53.000+0000</td><td>25-35</td><td>M</td><td>M</td><td>Los Angeles</td><td>CA</td><td>90009</td></tr><tr><td>30088</td><td>43.031085845788084</td><td>86.08719253950291</td><td>177.9334884047032</td><td>2019-12-03T07:26:47.000+0000</td><td>2019-12-03T08:30:21.000+0000</td><td>25-35</td><td>M</td><td>M</td><td>Los Angeles</td><td>CA</td><td>90009</td></tr><tr><td>45875</td><td>28.752025520276057</td><td>64.2687462790618</td><td>127.85422558490134</td><td>2019-12-02T14:28:03.000+0000</td><td>2019-12-02T15:00:47.000+0000</td><td>85-95</td><td>M</td><td>M</td><td>El Monte</td><td>CA</td><td>91731</td></tr><tr><td>45875</td><td>28.752025520276057</td><td>64.2687462790618</td><td>127.85422558490134</td><td>2019-12-16T14:16:50.000+0000</td><td>2019-12-16T15:07:13.000+0000</td><td>85-95</td><td>M</td><td>M</td><td>El Monte</td><td>CA</td><td>91731</td></tr><tr><td>45875</td><td>28.752025520276057</td><td>64.2687462790618</td><td>127.85422558490134</td><td>2019-12-08T12:42:47.000+0000</td><td>2019-12-08T13:50:37.000+0000</td><td>85-95</td><td>M</td><td>M</td><td>El Monte</td><td>CA</td><td>91731</td></tr><tr><td>45875</td><td>28.752025520276057</td><td>64.2687462790618</td><td>127.85422558490134</td><td>2019-12-05T17:54:06.000+0000</td><td>2019-12-05T19:13:31.000+0000</td><td>85-95</td><td>M</td><td>M</td><td>El Monte</td><td>CA</td><td>91731</td></tr><tr><td>45875</td><td>28.752025520276057</td><td>64.2687462790618</td><td>127.85422558490134</td><td>2019-12-14T13:16:32.000+0000</td><td>2019-12-14T13:37:23.000+0000</td><td>85-95</td><td>M</td><td>M</td><td>El Monte</td><td>CA</td><td>91731</td></tr><tr><td>45875</td><td>28.752025520276057</td><td>64.2687462790618</td><td>127.85422558490134</td><td>2019-12-10T10:19:19.000+0000</td><td>2019-12-10T10:32:08.000+0000</td><td>85-95</td><td>M</td><td>M</td><td>El Monte</td><td>CA</td><td>91731</td></tr></tbody></table></div>"
      ]
     },
     "metadata": {
      "application/vnd.databricks.v1+output": {
       "addedWidgets": {},
       "aggData": [],
       "aggError": "",
       "aggOverflow": false,
       "aggSchema": [],
       "aggSeriesLimitReached": false,
       "aggType": "",
       "arguments": {},
       "columnCustomDisplayInfos": {},
       "data": [
        [
         28588,
         45.24741098794139,
         87.02458361971546,
         168.72168469775733,
         "2019-12-12T12:31:59.000+0000",
         "2019-12-12T13:09:23.000+0000",
         "35-45",
         "M",
         "M",
         "Arcadia",
         "CA",
         91006
        ],
        [
         30088,
         43.031085845788084,
         86.08719253950291,
         177.9334884047032,
         "2019-12-07T17:39:56.000+0000",
         "2019-12-07T18:15:44.000+0000",
         "25-35",
         "M",
         "M",
         "Los Angeles",
         "CA",
         90009
        ],
        [
         30088,
         43.031085845788084,
         86.08719253950291,
         177.9334884047032,
         "2019-12-02T17:27:12.000+0000",
         "2019-12-02T18:19:53.000+0000",
         "25-35",
         "M",
         "M",
         "Los Angeles",
         "CA",
         90009
        ],
        [
         30088,
         43.031085845788084,
         86.08719253950291,
         177.9334884047032,
         "2019-12-03T07:26:47.000+0000",
         "2019-12-03T08:30:21.000+0000",
         "25-35",
         "M",
         "M",
         "Los Angeles",
         "CA",
         90009
        ],
        [
         45875,
         28.752025520276057,
         64.2687462790618,
         127.85422558490134,
         "2019-12-02T14:28:03.000+0000",
         "2019-12-02T15:00:47.000+0000",
         "85-95",
         "M",
         "M",
         "El Monte",
         "CA",
         91731
        ],
        [
         45875,
         28.752025520276057,
         64.2687462790618,
         127.85422558490134,
         "2019-12-16T14:16:50.000+0000",
         "2019-12-16T15:07:13.000+0000",
         "85-95",
         "M",
         "M",
         "El Monte",
         "CA",
         91731
        ],
        [
         45875,
         28.752025520276057,
         64.2687462790618,
         127.85422558490134,
         "2019-12-08T12:42:47.000+0000",
         "2019-12-08T13:50:37.000+0000",
         "85-95",
         "M",
         "M",
         "El Monte",
         "CA",
         91731
        ],
        [
         45875,
         28.752025520276057,
         64.2687462790618,
         127.85422558490134,
         "2019-12-05T17:54:06.000+0000",
         "2019-12-05T19:13:31.000+0000",
         "85-95",
         "M",
         "M",
         "El Monte",
         "CA",
         91731
        ],
        [
         45875,
         28.752025520276057,
         64.2687462790618,
         127.85422558490134,
         "2019-12-14T13:16:32.000+0000",
         "2019-12-14T13:37:23.000+0000",
         "85-95",
         "M",
         "M",
         "El Monte",
         "CA",
         91731
        ],
        [
         45875,
         28.752025520276057,
         64.2687462790618,
         127.85422558490134,
         "2019-12-10T10:19:19.000+0000",
         "2019-12-10T10:32:08.000+0000",
         "85-95",
         "M",
         "M",
         "El Monte",
         "CA",
         91731
        ]
       ],
       "datasetInfos": [],
       "dbfsResultPath": null,
       "isJsonSchema": true,
       "metadata": {},
       "overflow": false,
       "plotOptions": {
        "customPlotOptions": {},
        "displayType": "table",
        "pivotAggregation": null,
        "pivotColumns": null,
        "xColumns": null,
        "yColumns": null
       },
       "removedWidgets": [],
       "schema": [
        {
         "metadata": "{}",
         "name": "user_id",
         "type": "\"integer\""
        },
        {
         "metadata": "{}",
         "name": "min_heartrate",
         "type": "\"double\""
        },
        {
         "metadata": "{}",
         "name": "avg_heartrate",
         "type": "\"double\""
        },
        {
         "metadata": "{}",
         "name": "max_heartrate",
         "type": "\"double\""
        },
        {
         "metadata": "{}",
         "name": "start_time",
         "type": "\"timestamp\""
        },
        {
         "metadata": "{}",
         "name": "end_time",
         "type": "\"timestamp\""
        },
        {
         "metadata": "{}",
         "name": "age",
         "type": "\"string\""
        },
        {
         "metadata": "{}",
         "name": "sex",
         "type": "\"string\""
        },
        {
         "metadata": "{}",
         "name": "gender",
         "type": "\"string\""
        },
        {
         "metadata": "{}",
         "name": "city",
         "type": "\"string\""
        },
        {
         "metadata": "{}",
         "name": "state",
         "type": "\"string\""
        },
        {
         "metadata": "{}",
         "name": "zip",
         "type": "\"integer\""
        }
       ],
       "type": "table"
      }
     },
     "output_type": "display_data"
    },
    {
     "output_type": "stream",
     "name": "stdout",
     "output_type": "stream",
     "text": [
      "\nThe workout_user_summary table has 757 rows\n\n"
     ]
    }
   ],
   "source": [
    "display(spark.table(\"gold.workout_user_summary\").limit(10))\n",
    "\n",
    "print(\"\")\n",
    "print(f\"The workout_user_summary table has {spark.table('gold.workout_user_summary').count()} rows\")\n",
    "print(\"\")"
   ]
  },
  {
   "cell_type": "markdown",
   "metadata": {
    "application/vnd.databricks.v1+cell": {
     "cellMetadata": {
      "byteLimit": 2048000,
      "rowLimit": 10000
     },
     "inputWidgets": {},
     "nuid": "c37b700e-cde6-4f97-a637-569d8e9ceec5",
     "showTitle": false,
     "title": ""
    }
   },
   "source": [
    "## Propagating deletes\n",
    "\n",
    "Now to propagate these deletes throughout the pipeline, I'll tip my toes into CDF configuration. <br>\n",
    "I'll use the `user_lookup` table to be the source of the deletes since it has every key used across the pipeline, the process will be easier. <br>\n",
    "\n",
    "---\n",
    "\n",
    "> *I could add comments to the table to make it easier to understand, but the only method I found toggles comments for the entire notebook*<br>\n",
    "> *Since this isn't crucial, I'll just record it here and research further in the future* <br>\n",
    "> `%sql` <br>\n",
    "> `SET spark.databricks.delta.commitInfo.userMetadata=Deletes committed` <br>\n",
    "> `.option(\"userMetadata\", \"Write your message here\")` <br>\n",
    "\n",
    "Keeping in mind that, tables that were not created with CDF enabled will not have it turned on by default. Although it can be altered to capture changes it'll version the table. Also, Cloning a CDF table don't carry the change feed.<br>\n",
    "<br> \n",
    "The strategy will be:\n",
    "- Turn the `user_lookup` table into CDF\n",
    "- Use the `delete_requests` to delete the user from the `user_lookup`\n",
    "- Use the change feed of the `user_lookup` to get which users where deleted\n",
    "- Propagate the deletes through the pipeline\n",
    "- Update the `status` column from the `delete_requests`"
   ]
  },
  {
   "cell_type": "code",
   "execution_count": 0,
   "metadata": {
    "application/vnd.databricks.v1+cell": {
     "cellMetadata": {
      "byteLimit": 2048000,
      "rowLimit": 10000
     },
     "inputWidgets": {},
     "nuid": "8eb92395-a4f9-4371-9dd2-605f9cc33026",
     "showTitle": true,
     "title": "Enable CDF and First Delete"
    }
   },
   "outputs": [
    {
     "output_type": "stream",
     "name": "stdout",
     "output_type": "stream",
     "text": [
      "Out[72]: DataFrame[num_affected_rows: bigint]"
     ]
    }
   ],
   "source": [
    "# Enable CDF\n",
    "spark.sql(\"ALTER TABLE silver.user_lookup SET TBLPROPERTIES (delta.enableChangeDataFeed = true);\")\n",
    "\n",
    "# Get the table version which CDF was enabled\n",
    "start_version = spark.conf.get(\"spark.databricks.delta.lastCommitVersionInSession\")\n",
    "\n",
    "# Delete the data from the User_lookup table using the Delete_requests table\n",
    "spark.sql(\"DELETE FROM silver.user_lookup WHERE alt_id IN (SELECT alt_id FROM silver.delete_requests WHERE status = 'requested')\")"
   ]
  },
  {
   "cell_type": "markdown",
   "metadata": {
    "application/vnd.databricks.v1+cell": {
     "cellMetadata": {
      "byteLimit": 2048000,
      "rowLimit": 10000
     },
     "inputWidgets": {},
     "nuid": "71ac8784-13db-4192-82bd-22ca9915386c",
     "showTitle": true,
     "title": ""
    },
    "jupyter": {
     "outputs_hidden": true
    }
   },
   "source": [
    "To verify the accuracy of these changes, we should find a reference to enabling CDF in the `describe`, while the change feed should display the removal of 6 users."
   ]
  },
  {
   "cell_type": "code",
   "execution_count": 0,
   "metadata": {
    "application/vnd.databricks.v1+cell": {
     "cellMetadata": {
      "byteLimit": 2048000,
      "implicitDf": true,
      "rowLimit": 10000
     },
     "inputWidgets": {},
     "nuid": "b0ca43c2-c6f1-406b-9d20-3b9584e4fe80",
     "showTitle": true,
     "title": "Verify Changes and Deletes"
    }
   },
   "outputs": [
    {
     "output_type": "display_data",
     "data": {
      "text/html": [
       "<style scoped>\n",
       "  .table-result-container {\n",
       "    max-height: 300px;\n",
       "    overflow: auto;\n",
       "  }\n",
       "  table, th, td {\n",
       "    border: 1px solid black;\n",
       "    border-collapse: collapse;\n",
       "  }\n",
       "  th, td {\n",
       "    padding: 5px;\n",
       "  }\n",
       "  th {\n",
       "    text-align: left;\n",
       "  }\n",
       "</style><div class='table-result-container'><table class='table-result'><thead style='background-color: white'><tr><th>alt_id</th><th>device_id</th><th>mac_address</th><th>user_id</th><th>_change_type</th><th>_commit_version</th><th>_commit_timestamp</th></tr></thead><tbody><tr><td>5ce6620b7c357cd69446a87f463a4c40b100364e706a661dcec12390b9852d53</td><td>181512</td><td>de:34:11:f4:90:2d</td><td>19198</td><td>delete</td><td>2</td><td>2024-05-29T14:48:50.000+0000</td></tr><tr><td>22cd18aa025b6e0b792b992b8ce7573c1a29a651cc72ed158c80daabbe660101</td><td>198332</td><td>f2:e1:1c:84:56:52</td><td>28359</td><td>delete</td><td>2</td><td>2024-05-29T14:48:50.000+0000</td></tr><tr><td>cba874842f4dd76d361c730e6c6080f130d86f149c1f6faeaf3d0dc605c85d17</td><td>148312</td><td>34:12:9e:9c:72:28</td><td>28521</td><td>delete</td><td>2</td><td>2024-05-29T14:48:50.000+0000</td></tr><tr><td>8bb09f205d023251e392804a20a7294f5a424c9c295054c8f8f293c76dd205a5</td><td>161343</td><td>e6:de:fe:e2:2f:4d</td><td>28776</td><td>delete</td><td>2</td><td>2024-05-29T14:48:50.000+0000</td></tr><tr><td>5d78cff0ca0f659e86ef1118bbf5b322731890ac20e0079fa799c44c80f1feff</td><td>169221</td><td>3a:95:59:f8:db:29</td><td>39676</td><td>delete</td><td>2</td><td>2024-05-29T14:48:50.000+0000</td></tr><tr><td>39e5d7cc7a7354cab35d1ae9b4395e2303337d4a37b26f56071462c3a39b9b95</td><td>155761</td><td>d2:1f:ef:4e:c1:9b</td><td>42643</td><td>delete</td><td>2</td><td>2024-05-29T14:48:50.000+0000</td></tr></tbody></table></div>"
      ]
     },
     "metadata": {
      "application/vnd.databricks.v1+output": {
       "addedWidgets": {},
       "aggData": [],
       "aggError": "",
       "aggOverflow": false,
       "aggSchema": [],
       "aggSeriesLimitReached": false,
       "aggType": "",
       "arguments": {},
       "columnCustomDisplayInfos": {},
       "data": [
        [
         "5ce6620b7c357cd69446a87f463a4c40b100364e706a661dcec12390b9852d53",
         181512,
         "de:34:11:f4:90:2d",
         19198,
         "delete",
         2,
         "2024-05-29T14:48:50.000+0000"
        ],
        [
         "22cd18aa025b6e0b792b992b8ce7573c1a29a651cc72ed158c80daabbe660101",
         198332,
         "f2:e1:1c:84:56:52",
         28359,
         "delete",
         2,
         "2024-05-29T14:48:50.000+0000"
        ],
        [
         "cba874842f4dd76d361c730e6c6080f130d86f149c1f6faeaf3d0dc605c85d17",
         148312,
         "34:12:9e:9c:72:28",
         28521,
         "delete",
         2,
         "2024-05-29T14:48:50.000+0000"
        ],
        [
         "8bb09f205d023251e392804a20a7294f5a424c9c295054c8f8f293c76dd205a5",
         161343,
         "e6:de:fe:e2:2f:4d",
         28776,
         "delete",
         2,
         "2024-05-29T14:48:50.000+0000"
        ],
        [
         "5d78cff0ca0f659e86ef1118bbf5b322731890ac20e0079fa799c44c80f1feff",
         169221,
         "3a:95:59:f8:db:29",
         39676,
         "delete",
         2,
         "2024-05-29T14:48:50.000+0000"
        ],
        [
         "39e5d7cc7a7354cab35d1ae9b4395e2303337d4a37b26f56071462c3a39b9b95",
         155761,
         "d2:1f:ef:4e:c1:9b",
         42643,
         "delete",
         2,
         "2024-05-29T14:48:50.000+0000"
        ]
       ],
       "datasetInfos": [],
       "dbfsResultPath": null,
       "isJsonSchema": true,
       "metadata": {
        "isDbfsCommandResult": false
       },
       "overflow": false,
       "plotOptions": {
        "customPlotOptions": {},
        "displayType": "table",
        "pivotAggregation": null,
        "pivotColumns": null,
        "xColumns": null,
        "yColumns": null
       },
       "removedWidgets": [],
       "schema": [
        {
         "metadata": "{}",
         "name": "alt_id",
         "type": "\"string\""
        },
        {
         "metadata": "{}",
         "name": "device_id",
         "type": "\"long\""
        },
        {
         "metadata": "{}",
         "name": "mac_address",
         "type": "\"string\""
        },
        {
         "metadata": "{}",
         "name": "user_id",
         "type": "\"long\""
        },
        {
         "metadata": "{}",
         "name": "_change_type",
         "type": "\"string\""
        },
        {
         "metadata": "{}",
         "name": "_commit_version",
         "type": "\"long\""
        },
        {
         "metadata": "{}",
         "name": "_commit_timestamp",
         "type": "\"timestamp\""
        }
       ],
       "type": "table"
      }
     },
     "output_type": "display_data"
    }
   ],
   "source": [
    "spark.sql(\"DESCRIBE HISTORY silver.user_lookup\")\n",
    "\n",
    "display(\n",
    "    spark.readStream\n",
    "    .option(\"readChangeFeed\", \"true\")\n",
    "    .option(\"startingVersion\", start_version)\n",
    "    .table(\"silver.user_lookup\")\n",
    "    .filter(\"_change_type = 'delete'\")\n",
    ")"
   ]
  },
  {
   "cell_type": "code",
   "execution_count": 0,
   "metadata": {
    "application/vnd.databricks.v1+cell": {
     "cellMetadata": {
      "byteLimit": 2048000,
      "rowLimit": 10000
     },
     "inputWidgets": {},
     "nuid": "db13efd1-00d3-4599-9698-4bd927bcac40",
     "showTitle": true,
     "title": "Stop Running Streams"
    }
   },
   "outputs": [],
   "source": [
    "# Stop the display of the stream table\n",
    "for stream in spark.streams.active:\n",
    "    stream.stop()\n",
    "    stream.awaitTermination()"
   ]
  },
  {
   "cell_type": "code",
   "execution_count": 0,
   "metadata": {
    "application/vnd.databricks.v1+cell": {
     "cellMetadata": {
      "byteLimit": 2048000,
      "rowLimit": 10000
     },
     "inputWidgets": {},
     "nuid": "8f20a013-d93b-48cf-8d52-3b721d9e32c6",
     "showTitle": true,
     "title": "Query"
    }
   },
   "outputs": [],
   "source": [
    "def broadcast_deletes(microBatchDF, batchId):\n",
    "    \n",
    "    (microBatchDF\n",
    "        .filter(\"_change_type = 'delete'\")\n",
    "        .createOrReplaceTempView(\"deletes\"))\n",
    "    \n",
    "    microBatchDF.sparkSession.sql(\"\"\"\n",
    "        MERGE INTO silver.workouts w\n",
    "        USING deletes d\n",
    "        ON w.user_id = d.user_id\n",
    "        WHEN MATCHED\n",
    "            THEN DELETE\n",
    "    \"\"\")\n",
    "    \n",
    "    microBatchDF.sparkSession.sql(\"\"\"\n",
    "        MERGE INTO silver.completed_workouts cw\n",
    "        USING deletes d\n",
    "        ON cw.user_id = d.user_id\n",
    "        WHEN MATCHED\n",
    "            THEN DELETE\n",
    "    \"\"\")\n",
    "    \n",
    "    microBatchDF.sparkSession.sql(\"\"\"\n",
    "        MERGE INTO silver.heart_rate hr\n",
    "        USING deletes d\n",
    "        ON hr.device_id = d.device_id\n",
    "        WHEN MATCHED\n",
    "            THEN DELETE\n",
    "    \"\"\")\n",
    "    \n",
    "    microBatchDF.sparkSession.sql(\"\"\"\n",
    "        MERGE INTO silver.gym_logs gl\n",
    "        USING deletes d\n",
    "        ON gl.mac = d.mac_address\n",
    "        WHEN MATCHED\n",
    "            THEN DELETE\n",
    "    \"\"\")\n",
    "    \n",
    "    microBatchDF.sparkSession.sql(\"\"\"\n",
    "        MERGE INTO silver.users u\n",
    "        USING deletes d\n",
    "        ON u.alt_id = d.alt_id\n",
    "        WHEN MATCHED\n",
    "            THEN DELETE\n",
    "    \"\"\")\n",
    "\n",
    "    microBatchDF.sparkSession.sql(\"\"\"\n",
    "        DELETE FROM silver.user_bins\n",
    "        WHERE user_id IN (SELECT user_id FROM deletes)\n",
    "    \"\"\")\n",
    "\n",
    "    microBatchDF.sparkSession.sql(\"\"\"\n",
    "        MERGE INTO silver.delete_requests dr\n",
    "        USING deletes d\n",
    "        ON d.alt_id = dr.alt_id\n",
    "        WHEN MATCHED\n",
    "          THEN UPDATE SET status = \"deleted\"\n",
    "    \"\"\")\n",
    "\n",
    "\n",
    "def process_deletes():\n",
    "    #counting before purge\n",
    "    before_count_workouts = spark.table(\"silver.workouts\").count()\n",
    "    before_count_completed_workouts = spark.table(\"silver.completed_workouts\").count()\n",
    "    before_count_gym_logs = spark.table(\"silver.gym_logs\").count()\n",
    "    before_count_heart_rate = spark.table(\"silver.heart_rate\").count()\n",
    "    before_count_users = spark.table(\"silver.users\").count()\n",
    "    before_count_user_bins = spark.table(\"silver.user_bins\").count()\n",
    "\n",
    "    spark.sql(\"DELETE FROM silver.user_lookup WHERE alt_id IN (SELECT alt_id FROM silver.delete_requests WHERE status = 'requested')\")\n",
    "\n",
    "    (spark.readStream\n",
    "          .format(\"delta\")\n",
    "          .option(\"readChangeFeed\", \"true\")\n",
    "          .option(\"startingVersion\", start_version)\n",
    "          .table(\"silver.user_lookup\")\n",
    "          .writeStream\n",
    "          .foreachBatch(broadcast_deletes)\n",
    "          .outputMode(\"update\")\n",
    "          .option(\"checkpointLocation\", f\"{checkpoint_path}/deletes\")\n",
    "          .trigger(availableNow=True)\n",
    "          .start()\n",
    "          .awaitTermination()\n",
    "    )\n",
    "\n",
    "    #counting after purge\n",
    "    uptodate_count_workouts = spark.table(\"silver.workouts\").count()\n",
    "    uptodate_count_completed_workouts = spark.table(\"silver.completed_workouts\").count()\n",
    "    uptodate_count_gym_logs = spark.table(\"silver.gym_logs\").count()\n",
    "    uptodate_count_heart_rate = spark.table(\"silver.heart_rate\").count()\n",
    "    uptodate_count_users = spark.table(\"silver.users\").count()\n",
    "    uptodate_count_user_bins = spark.table(\"silver.user_bins\").count()\n",
    "\n",
    "    #printing values obtained before and how many were purged in each table\n",
    "    print(f\"Before broadcasting the deletes, the table Workouts had {before_count_workouts} rows. {before_count_workouts - uptodate_count_workouts} rows were deleted, remaining now {uptodate_count_workouts}\")\n",
    "    print(\" \")\n",
    "    print(f\"Before broadcasting the deletes, the table Completed_workouts had {before_count_completed_workouts} rows. {before_count_completed_workouts - before_count_completed_workouts} rows were deleted, remaining now {uptodate_count_completed_workouts}\")\n",
    "    print(\" \")\n",
    "    print(f\"Before broadcasting the deletes, the table Gym_logs had {before_count_gym_logs} rows. {before_count_gym_logs - uptodate_count_gym_logs} rows were deleted, remaining now {uptodate_count_gym_logs}\")\n",
    "    print(\" \")\n",
    "    print(f\"Before broadcasting the deletes, the table Heart_rate had {before_count_heart_rate} rows. {before_count_heart_rate - uptodate_count_heart_rate} rows were deleted, remaining now {uptodate_count_heart_rate}\")\n",
    "    print(\" \")\n",
    "    print(f\"Before broadcasting the deletes, the table Users had {before_count_users} rows. {before_count_users - uptodate_count_users} rows were deleted, remaining now {uptodate_count_users}\")\n",
    "    print(\" \")\n",
    "    print(f\"Before broadcasting the deletes, the table User_bins had {before_count_user_bins} rows. {before_count_user_bins - uptodate_count_user_bins} rows were deleted, remaining now {uptodate_count_user_bins}\")\n",
    "    print(\" \")\n"
   ]
  },
  {
   "cell_type": "code",
   "execution_count": 0,
   "metadata": {
    "application/vnd.databricks.v1+cell": {
     "cellMetadata": {
      "byteLimit": 2048000,
      "rowLimit": 10000
     },
     "inputWidgets": {},
     "nuid": "b23aeda0-e657-4cbb-b6c6-ebb084513a24",
     "showTitle": false,
     "title": ""
    }
   },
   "outputs": [
    {
     "output_type": "stream",
     "name": "stdout",
     "output_type": "stream",
     "text": [
      "Before broadcasting the deletes, the table Workouts had 1514 rows. 54 rows were deleted, remaining now 1460\n \nBefore broadcasting the deletes, the table Completed_workouts had 757 rows. 0 rows were deleted, remaining now 730\n \nBefore broadcasting the deletes, the table Gym_logs had 314 rows. 4 rows were deleted, remaining now 310\n \nBefore broadcasting the deletes, the table Heart_rate had 9032373 rows. 445848 rows were deleted, remaining now 8586525\n \nBefore broadcasting the deletes, the table Users had 100 rows. 6 rows were deleted, remaining now 94\n \nBefore broadcasting the deletes, the table User_bins had 100 rows. 6 rows were deleted, remaining now 94\n \n"
     ]
    }
   ],
   "source": [
    "process_deletes()"
   ]
  },
  {
   "cell_type": "markdown",
   "metadata": {
    "application/vnd.databricks.v1+cell": {
     "cellMetadata": {
      "byteLimit": 2048000,
      "rowLimit": 10000
     },
     "inputWidgets": {},
     "nuid": "d389242f-47ec-4b43-9a1a-6dacd92db432",
     "showTitle": false,
     "title": ""
    }
   },
   "source": [
    "**Deletes Closing Comments** <br>\n",
    "<br>\n",
    "All the delete requests were peformed on the Silver layer. <br>\n",
    "Note that in Delta Lake, data isn't deleted immediately; a new file marks the deletion. Using `RESTORE`, deleted data can still be accessed, so using the `VACUUM` command is crucial. By default, all historical versions older then 7 days are deleted.<br>\n",
    "<br>\n",
    "For the Gold layer, enabling CDF on all tables (more about that below) would propagate the deletes downstream, but its impact on performance is unclear for me. <br>\n",
    "In production, the delete broadcast and views update should be linked to prevent unwanted data from appearing. <br>\n",
    "<br>\n",
    "The Bronze layer still has the data, but without the user_lookup table, it can't be linked, and since the checkpoint files are intact, the deleted data won't be reingested. <br>\n",
    "<br>\n",
    "<br>\n",
    "**About CDF**<br>\n",
    "<br>\n",
    "From what I understand, if all tables had CDF enabled, the delete broadcast would only need to happen at the first step of each stream, and this change would propagate downstream. Unfortunately, I learned this too late, and redesigning the entire pipeline is out of scope now. <br>\n",
    "The command to enable CDF is `spark.conf.set(\"spark.databricks.delta.properties.defaults.enableChangeDataFeed\", True).`\n",
    "\n"
   ]
  },
  {
   "cell_type": "markdown",
   "metadata": {
    "application/vnd.databricks.v1+cell": {
     "cellMetadata": {},
     "inputWidgets": {},
     "nuid": "0647ed73-8c24-44a7-a866-5706ba853528",
     "showTitle": false,
     "title": ""
    }
   },
   "source": []
  },
  {
   "cell_type": "markdown",
   "metadata": {
    "application/vnd.databricks.v1+cell": {
     "cellMetadata": {},
     "inputWidgets": {},
     "nuid": "77f5655f-0e4d-4d94-b328-15a452ad5a17",
     "showTitle": false,
     "title": ""
    }
   },
   "source": [
    "## Portfolio Closing Comments\n",
    "\n",
    "Well, that wraps up what I had in mind for these notebooks.<br>\n",
    "I trust I've been able to showcase some of my skills. If you have any questions or want to connect further, don't hesitate to reach out to me on LinkedIn www.linkedin.com/in/luiz-felipe-borges-37256216b or via email at felipe.borges_11@hotmail.com.<br>\n",
    "Looking forward to connecting!"
   ]
  },
  {
   "cell_type": "code",
   "execution_count": 0,
   "metadata": {
    "application/vnd.databricks.v1+cell": {
     "cellMetadata": {},
     "inputWidgets": {},
     "nuid": "81deab6d-058d-49bc-8f1c-bd971193de0d",
     "showTitle": false,
     "title": ""
    }
   },
   "outputs": [],
   "source": []
  }
 ],
 "metadata": {
  "application/vnd.databricks.v1+notebook": {
   "dashboards": [],
   "environmentMetadata": null,
   "language": "python",
   "notebookMetadata": {
    "mostRecentlyExecutedCommandWithImplicitDF": {
     "commandId": 944731049059128,
     "dataframes": [
      "_sqldf"
     ]
    },
    "pythonIndentUnit": 2
   },
   "notebookName": "02_Transforming",
   "widgets": {}
  }
 },
 "nbformat": 4,
 "nbformat_minor": 0
}
